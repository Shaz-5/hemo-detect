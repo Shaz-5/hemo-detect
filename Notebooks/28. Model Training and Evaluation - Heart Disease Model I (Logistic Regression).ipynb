{
 "cells": [
  {
   "cell_type": "markdown",
   "id": "d2acf9f1",
   "metadata": {},
   "source": [
    "# Heart Disease - Logistic Regression"
   ]
  },
  {
   "cell_type": "code",
   "execution_count": 1,
   "id": "5c1b7eb2",
   "metadata": {},
   "outputs": [],
   "source": [
    "import some_load_train_evaluate_functions as ml"
   ]
  },
  {
   "cell_type": "code",
   "execution_count": 2,
   "id": "6b4433ef",
   "metadata": {},
   "outputs": [
    {
     "name": "stdout",
     "output_type": "stream",
     "text": [
      "Connected to database successfully.\n"
     ]
    }
   ],
   "source": [
    "path = '../KG/db.env'\n",
    "\n",
    "driver = ml.connect_to_neo4j(path)"
   ]
  },
  {
   "cell_type": "markdown",
   "id": "4016e569",
   "metadata": {},
   "source": [
    "### Load Data"
   ]
  },
  {
   "cell_type": "code",
   "execution_count": 3,
   "id": "76bbe0fe",
   "metadata": {
    "scrolled": false
   },
   "outputs": [],
   "source": [
    "# Heart Disease data\n",
    "\n",
    "heart_disease_df1 = ml.get_data_of_disease(driver, 'Congestive_Heart_Failure')\n",
    "heart_disease_df2 = ml.get_data_of_disease(driver, 'Coronary_Heart_Disease')\n",
    "heart_disease_df3 = ml.get_data_of_disease(driver, 'Stroke')\n",
    "heart_disease_df4 = ml.get_data_of_disease(driver, 'Heart_Attack')"
   ]
  },
  {
   "cell_type": "code",
   "execution_count": 5,
   "id": "de558b60",
   "metadata": {},
   "outputs": [],
   "source": [
    "heart_disease_df = heart_disease_df1.merge(heart_disease_df2[['Respondent_ID','Coronary_Heart_Disease']], \n",
    "                                           on='Respondent_ID', how='inner')\n",
    "heart_disease_df = heart_disease_df.merge(heart_disease_df3[['Respondent_ID','Stroke']], \n",
    "                                           on='Respondent_ID', how='inner')\n",
    "heart_disease_df = heart_disease_df.merge(heart_disease_df4[['Respondent_ID','Heart_Attack']], \n",
    "                                           on='Respondent_ID', how='inner')"
   ]
  },
  {
   "cell_type": "code",
   "execution_count": 7,
   "id": "38e40d13",
   "metadata": {},
   "outputs": [
    {
     "data": {
      "text/html": [
       "<div>\n",
       "<style scoped>\n",
       "    .dataframe tbody tr th:only-of-type {\n",
       "        vertical-align: middle;\n",
       "    }\n",
       "\n",
       "    .dataframe tbody tr th {\n",
       "        vertical-align: top;\n",
       "    }\n",
       "\n",
       "    .dataframe thead th {\n",
       "        text-align: right;\n",
       "    }\n",
       "</style>\n",
       "<table border=\"1\" class=\"dataframe\">\n",
       "  <thead>\n",
       "    <tr style=\"text-align: right;\">\n",
       "      <th></th>\n",
       "      <th>Unnamed: 0</th>\n",
       "      <th>Respondent_ID</th>\n",
       "      <th>Gender</th>\n",
       "      <th>Age</th>\n",
       "      <th>BMI</th>\n",
       "      <th>25-hydroxyvitamin D2 + D3 [nmol/L]</th>\n",
       "      <th>A/G Ratio</th>\n",
       "      <th>Alpha-carotene [umol/L]</th>\n",
       "      <th>Alpha-crypotoxanthin [umol/L]</th>\n",
       "      <th>Alpha-tocopherol [umol/L]</th>\n",
       "      <th>...</th>\n",
       "      <th>Ferritin [ng/mL]</th>\n",
       "      <th>Gamma Glutamyl Transferase [IU/L]</th>\n",
       "      <th>Hemoglobin [g/dL]</th>\n",
       "      <th>Insulin [pmol/L]</th>\n",
       "      <th>LDL-Cholesterol(NIH2) [mmol/L]</th>\n",
       "      <th>Lactate Dehydrogenase [IU/L]</th>\n",
       "      <th>Transferrin Saturation [%]</th>\n",
       "      <th>Transferrin receptor [nmol/L]</th>\n",
       "      <th>Triglyceride [mmol/L]</th>\n",
       "      <th>Heart Disease</th>\n",
       "    </tr>\n",
       "  </thead>\n",
       "  <tbody>\n",
       "    <tr>\n",
       "      <th>0</th>\n",
       "      <td>0</td>\n",
       "      <td>93705</td>\n",
       "      <td>0</td>\n",
       "      <td>66</td>\n",
       "      <td>31.7</td>\n",
       "      <td>89.9</td>\n",
       "      <td>1.517241</td>\n",
       "      <td>0.138</td>\n",
       "      <td>0.071</td>\n",
       "      <td>26.006</td>\n",
       "      <td>...</td>\n",
       "      <td>28.70</td>\n",
       "      <td>21.0</td>\n",
       "      <td>11.9</td>\n",
       "      <td>NaN</td>\n",
       "      <td>NaN</td>\n",
       "      <td>174.0</td>\n",
       "      <td>28.0</td>\n",
       "      <td>39.8</td>\n",
       "      <td>NaN</td>\n",
       "      <td>0.0</td>\n",
       "    </tr>\n",
       "    <tr>\n",
       "      <th>1</th>\n",
       "      <td>1</td>\n",
       "      <td>93708</td>\n",
       "      <td>0</td>\n",
       "      <td>66</td>\n",
       "      <td>23.7</td>\n",
       "      <td>116.0</td>\n",
       "      <td>1.218750</td>\n",
       "      <td>0.192</td>\n",
       "      <td>0.127</td>\n",
       "      <td>NaN</td>\n",
       "      <td>...</td>\n",
       "      <td>109.00</td>\n",
       "      <td>22.0</td>\n",
       "      <td>13.2</td>\n",
       "      <td>58.32</td>\n",
       "      <td>2.870</td>\n",
       "      <td>247.0</td>\n",
       "      <td>32.0</td>\n",
       "      <td>30.1</td>\n",
       "      <td>0.655</td>\n",
       "      <td>0.0</td>\n",
       "    </tr>\n",
       "    <tr>\n",
       "      <th>2</th>\n",
       "      <td>2</td>\n",
       "      <td>93709</td>\n",
       "      <td>0</td>\n",
       "      <td>75</td>\n",
       "      <td>38.9</td>\n",
       "      <td>72.8</td>\n",
       "      <td>1.121212</td>\n",
       "      <td>0.009</td>\n",
       "      <td>0.017</td>\n",
       "      <td>28.561</td>\n",
       "      <td>...</td>\n",
       "      <td>129.00</td>\n",
       "      <td>31.0</td>\n",
       "      <td>15.4</td>\n",
       "      <td>NaN</td>\n",
       "      <td>NaN</td>\n",
       "      <td>NaN</td>\n",
       "      <td>21.0</td>\n",
       "      <td>46.5</td>\n",
       "      <td>NaN</td>\n",
       "      <td>1.0</td>\n",
       "    </tr>\n",
       "    <tr>\n",
       "      <th>3</th>\n",
       "      <td>3</td>\n",
       "      <td>93711</td>\n",
       "      <td>1</td>\n",
       "      <td>56</td>\n",
       "      <td>21.3</td>\n",
       "      <td>165.0</td>\n",
       "      <td>1.290323</td>\n",
       "      <td>0.173</td>\n",
       "      <td>0.079</td>\n",
       "      <td>31.115</td>\n",
       "      <td>...</td>\n",
       "      <td>40.60</td>\n",
       "      <td>19.0</td>\n",
       "      <td>14.7</td>\n",
       "      <td>31.68</td>\n",
       "      <td>4.086</td>\n",
       "      <td>139.0</td>\n",
       "      <td>16.0</td>\n",
       "      <td>34.8</td>\n",
       "      <td>0.542</td>\n",
       "      <td>0.0</td>\n",
       "    </tr>\n",
       "    <tr>\n",
       "      <th>4</th>\n",
       "      <td>4</td>\n",
       "      <td>93713</td>\n",
       "      <td>1</td>\n",
       "      <td>67</td>\n",
       "      <td>23.5</td>\n",
       "      <td>63.5</td>\n",
       "      <td>2.047619</td>\n",
       "      <td>0.028</td>\n",
       "      <td>0.028</td>\n",
       "      <td>18.344</td>\n",
       "      <td>...</td>\n",
       "      <td>238.00</td>\n",
       "      <td>26.0</td>\n",
       "      <td>14.2</td>\n",
       "      <td>NaN</td>\n",
       "      <td>NaN</td>\n",
       "      <td>123.0</td>\n",
       "      <td>27.0</td>\n",
       "      <td>28.0</td>\n",
       "      <td>NaN</td>\n",
       "      <td>0.0</td>\n",
       "    </tr>\n",
       "    <tr>\n",
       "      <th>...</th>\n",
       "      <td>...</td>\n",
       "      <td>...</td>\n",
       "      <td>...</td>\n",
       "      <td>...</td>\n",
       "      <td>...</td>\n",
       "      <td>...</td>\n",
       "      <td>...</td>\n",
       "      <td>...</td>\n",
       "      <td>...</td>\n",
       "      <td>...</td>\n",
       "      <td>...</td>\n",
       "      <td>...</td>\n",
       "      <td>...</td>\n",
       "      <td>...</td>\n",
       "      <td>...</td>\n",
       "      <td>...</td>\n",
       "      <td>...</td>\n",
       "      <td>...</td>\n",
       "      <td>...</td>\n",
       "      <td>...</td>\n",
       "      <td>...</td>\n",
       "    </tr>\n",
       "    <tr>\n",
       "      <th>5517</th>\n",
       "      <td>5517</td>\n",
       "      <td>102950</td>\n",
       "      <td>1</td>\n",
       "      <td>64</td>\n",
       "      <td>NaN</td>\n",
       "      <td>NaN</td>\n",
       "      <td>NaN</td>\n",
       "      <td>NaN</td>\n",
       "      <td>NaN</td>\n",
       "      <td>NaN</td>\n",
       "      <td>...</td>\n",
       "      <td>NaN</td>\n",
       "      <td>NaN</td>\n",
       "      <td>NaN</td>\n",
       "      <td>NaN</td>\n",
       "      <td>NaN</td>\n",
       "      <td>NaN</td>\n",
       "      <td>NaN</td>\n",
       "      <td>NaN</td>\n",
       "      <td>NaN</td>\n",
       "      <td>1.0</td>\n",
       "    </tr>\n",
       "    <tr>\n",
       "      <th>5518</th>\n",
       "      <td>5518</td>\n",
       "      <td>102952</td>\n",
       "      <td>0</td>\n",
       "      <td>70</td>\n",
       "      <td>20.0</td>\n",
       "      <td>82.7</td>\n",
       "      <td>1.846154</td>\n",
       "      <td>0.235</td>\n",
       "      <td>0.077</td>\n",
       "      <td>31.347</td>\n",
       "      <td>...</td>\n",
       "      <td>135.00</td>\n",
       "      <td>18.0</td>\n",
       "      <td>13.4</td>\n",
       "      <td>26.34</td>\n",
       "      <td>1.112</td>\n",
       "      <td>168.0</td>\n",
       "      <td>39.0</td>\n",
       "      <td>29.1</td>\n",
       "      <td>0.881</td>\n",
       "      <td>0.0</td>\n",
       "    </tr>\n",
       "    <tr>\n",
       "      <th>5519</th>\n",
       "      <td>5519</td>\n",
       "      <td>102953</td>\n",
       "      <td>1</td>\n",
       "      <td>42</td>\n",
       "      <td>35.8</td>\n",
       "      <td>49.5</td>\n",
       "      <td>1.142857</td>\n",
       "      <td>0.106</td>\n",
       "      <td>0.080</td>\n",
       "      <td>21.873</td>\n",
       "      <td>...</td>\n",
       "      <td>120.00</td>\n",
       "      <td>28.0</td>\n",
       "      <td>15.5</td>\n",
       "      <td>NaN</td>\n",
       "      <td>NaN</td>\n",
       "      <td>136.0</td>\n",
       "      <td>20.0</td>\n",
       "      <td>28.6</td>\n",
       "      <td>NaN</td>\n",
       "      <td>0.0</td>\n",
       "    </tr>\n",
       "    <tr>\n",
       "      <th>5520</th>\n",
       "      <td>5520</td>\n",
       "      <td>102954</td>\n",
       "      <td>0</td>\n",
       "      <td>41</td>\n",
       "      <td>26.1</td>\n",
       "      <td>50.5</td>\n",
       "      <td>1.500000</td>\n",
       "      <td>0.117</td>\n",
       "      <td>0.056</td>\n",
       "      <td>26.935</td>\n",
       "      <td>...</td>\n",
       "      <td>1.99</td>\n",
       "      <td>8.0</td>\n",
       "      <td>6.4</td>\n",
       "      <td>56.94</td>\n",
       "      <td>2.793</td>\n",
       "      <td>123.0</td>\n",
       "      <td>5.0</td>\n",
       "      <td>248.0</td>\n",
       "      <td>0.553</td>\n",
       "      <td>0.0</td>\n",
       "    </tr>\n",
       "    <tr>\n",
       "      <th>5521</th>\n",
       "      <td>5521</td>\n",
       "      <td>102956</td>\n",
       "      <td>1</td>\n",
       "      <td>38</td>\n",
       "      <td>36.1</td>\n",
       "      <td>58.9</td>\n",
       "      <td>1.482759</td>\n",
       "      <td>0.026</td>\n",
       "      <td>0.038</td>\n",
       "      <td>21.177</td>\n",
       "      <td>...</td>\n",
       "      <td>553.00</td>\n",
       "      <td>72.0</td>\n",
       "      <td>17.4</td>\n",
       "      <td>634.38</td>\n",
       "      <td>2.172</td>\n",
       "      <td>134.0</td>\n",
       "      <td>35.0</td>\n",
       "      <td>23.4</td>\n",
       "      <td>3.037</td>\n",
       "      <td>0.0</td>\n",
       "    </tr>\n",
       "  </tbody>\n",
       "</table>\n",
       "<p>5522 rows × 92 columns</p>\n",
       "</div>"
      ],
      "text/plain": [
       "      Unnamed: 0  Respondent_ID  Gender  Age   BMI  \\\n",
       "0              0          93705       0   66  31.7   \n",
       "1              1          93708       0   66  23.7   \n",
       "2              2          93709       0   75  38.9   \n",
       "3              3          93711       1   56  21.3   \n",
       "4              4          93713       1   67  23.5   \n",
       "...          ...            ...     ...  ...   ...   \n",
       "5517        5517         102950       1   64   NaN   \n",
       "5518        5518         102952       0   70  20.0   \n",
       "5519        5519         102953       1   42  35.8   \n",
       "5520        5520         102954       0   41  26.1   \n",
       "5521        5521         102956       1   38  36.1   \n",
       "\n",
       "      25-hydroxyvitamin D2 + D3 [nmol/L]  A/G Ratio  Alpha-carotene [umol/L]  \\\n",
       "0                                   89.9   1.517241                    0.138   \n",
       "1                                  116.0   1.218750                    0.192   \n",
       "2                                   72.8   1.121212                    0.009   \n",
       "3                                  165.0   1.290323                    0.173   \n",
       "4                                   63.5   2.047619                    0.028   \n",
       "...                                  ...        ...                      ...   \n",
       "5517                                 NaN        NaN                      NaN   \n",
       "5518                                82.7   1.846154                    0.235   \n",
       "5519                                49.5   1.142857                    0.106   \n",
       "5520                                50.5   1.500000                    0.117   \n",
       "5521                                58.9   1.482759                    0.026   \n",
       "\n",
       "      Alpha-crypotoxanthin [umol/L]  Alpha-tocopherol [umol/L]  ...  \\\n",
       "0                             0.071                     26.006  ...   \n",
       "1                             0.127                        NaN  ...   \n",
       "2                             0.017                     28.561  ...   \n",
       "3                             0.079                     31.115  ...   \n",
       "4                             0.028                     18.344  ...   \n",
       "...                             ...                        ...  ...   \n",
       "5517                            NaN                        NaN  ...   \n",
       "5518                          0.077                     31.347  ...   \n",
       "5519                          0.080                     21.873  ...   \n",
       "5520                          0.056                     26.935  ...   \n",
       "5521                          0.038                     21.177  ...   \n",
       "\n",
       "      Ferritin [ng/mL]  Gamma Glutamyl Transferase [IU/L]  Hemoglobin [g/dL]  \\\n",
       "0                28.70                               21.0               11.9   \n",
       "1               109.00                               22.0               13.2   \n",
       "2               129.00                               31.0               15.4   \n",
       "3                40.60                               19.0               14.7   \n",
       "4               238.00                               26.0               14.2   \n",
       "...                ...                                ...                ...   \n",
       "5517               NaN                                NaN                NaN   \n",
       "5518            135.00                               18.0               13.4   \n",
       "5519            120.00                               28.0               15.5   \n",
       "5520              1.99                                8.0                6.4   \n",
       "5521            553.00                               72.0               17.4   \n",
       "\n",
       "      Insulin [pmol/L]  LDL-Cholesterol(NIH2) [mmol/L]  \\\n",
       "0                  NaN                             NaN   \n",
       "1                58.32                           2.870   \n",
       "2                  NaN                             NaN   \n",
       "3                31.68                           4.086   \n",
       "4                  NaN                             NaN   \n",
       "...                ...                             ...   \n",
       "5517               NaN                             NaN   \n",
       "5518             26.34                           1.112   \n",
       "5519               NaN                             NaN   \n",
       "5520             56.94                           2.793   \n",
       "5521            634.38                           2.172   \n",
       "\n",
       "      Lactate Dehydrogenase [IU/L]  Transferrin Saturation [%]  \\\n",
       "0                            174.0                        28.0   \n",
       "1                            247.0                        32.0   \n",
       "2                              NaN                        21.0   \n",
       "3                            139.0                        16.0   \n",
       "4                            123.0                        27.0   \n",
       "...                            ...                         ...   \n",
       "5517                           NaN                         NaN   \n",
       "5518                         168.0                        39.0   \n",
       "5519                         136.0                        20.0   \n",
       "5520                         123.0                         5.0   \n",
       "5521                         134.0                        35.0   \n",
       "\n",
       "      Transferrin receptor [nmol/L]  Triglyceride [mmol/L]  Heart Disease  \n",
       "0                              39.8                    NaN            0.0  \n",
       "1                              30.1                  0.655            0.0  \n",
       "2                              46.5                    NaN            1.0  \n",
       "3                              34.8                  0.542            0.0  \n",
       "4                              28.0                    NaN            0.0  \n",
       "...                             ...                    ...            ...  \n",
       "5517                            NaN                    NaN            1.0  \n",
       "5518                           29.1                  0.881            0.0  \n",
       "5519                           28.6                    NaN            0.0  \n",
       "5520                          248.0                  0.553            0.0  \n",
       "5521                           23.4                  3.037            0.0  \n",
       "\n",
       "[5522 rows x 92 columns]"
      ]
     },
     "execution_count": 7,
     "metadata": {},
     "output_type": "execute_result"
    }
   ],
   "source": [
    "heart_disease_df['Heart Disease'] = heart_disease_df[['Congestive_Heart_Failure', 'Coronary_Heart_Disease', \n",
    "                                                      'Stroke', 'Heart_Attack']].any(axis=1).astype(float)\n",
    "heart_disease_df.drop(columns=['Congestive_Heart_Failure', 'Coronary_Heart_Disease', \n",
    "                                                      'Stroke', 'Heart_Attack'], inplace=True)\n",
    "heart_disease_df"
   ]
  },
  {
   "cell_type": "markdown",
   "id": "6578093d",
   "metadata": {},
   "source": [
    "### Training"
   ]
  },
  {
   "cell_type": "code",
   "execution_count": 8,
   "id": "995292f6",
   "metadata": {},
   "outputs": [
    {
     "name": "stdout",
     "output_type": "stream",
     "text": [
      "Training Accuracy:  0.8929137423590673\n",
      "Testing Accuracy:  0.8885869565217391\n"
     ]
    }
   ],
   "source": [
    "log_reg = ml.LogisticRegression()\n",
    "\n",
    "# Attributes and Labels\n",
    "\n",
    "X, y, X_train, X_val, X_test, y_train, y_val, y_test = ml.preprocess_and_split(df = heart_disease_df, label = 'Heart Disease',\n",
    "                                                              impute = True, scale=True,\n",
    "                                                              imputer=ml.SimpleImputer(strategy='mean'),\n",
    "                                                              random_state=42)\n",
    "\n",
    "# Training\n",
    "\n",
    "log_reg.fit(X_train, y_train)\n",
    "\n",
    "# Accuracy scores\n",
    "\n",
    "y_pred = log_reg.predict(X_val)\n",
    "\n",
    "print('Training Accuracy: ',ml.accuracy_score(y_train, log_reg.predict(X_train)))\n",
    "\n",
    "print('Testing Accuracy: ',ml.accuracy_score(y_val, y_pred))"
   ]
  },
  {
   "cell_type": "markdown",
   "id": "44142f21",
   "metadata": {},
   "source": [
    "## Feature Selection"
   ]
  },
  {
   "cell_type": "markdown",
   "id": "c60fc52a",
   "metadata": {},
   "source": [
    "### Correlation Analysis"
   ]
  },
  {
   "cell_type": "code",
   "execution_count": 9,
   "id": "a8302272",
   "metadata": {},
   "outputs": [],
   "source": [
    "log_reg_test = ml.LogisticRegression()"
   ]
  },
  {
   "cell_type": "code",
   "execution_count": 10,
   "id": "4bf4ee40",
   "metadata": {},
   "outputs": [
    {
     "data": {
      "text/plain": [
       "['Age',\n",
       " 'Blood Urea Nitrogen [mg/dL]',\n",
       " 'Creatinine [mg/dL]',\n",
       " 'Glycohemoglobin [%]',\n",
       " 'Osmolality [mmol/Kg]',\n",
       " 'Red cell distribution width [%]',\n",
       " 'Alkaline Phosphatase [IU/L]',\n",
       " 'Retinol [umol/L]',\n",
       " 'Insulin [pmol/L]',\n",
       " 'Fasting Glucose [mmol/L]',\n",
       " 'Lactate Dehydrogenase [IU/L]',\n",
       " 'Uric Acid [mg/dL]',\n",
       " 'Neutrophil_Lymphocyte Ratio',\n",
       " 'Potassium [mmol/L]',\n",
       " '25-hydroxyvitamin D2 + D3 [nmol/L]',\n",
       " 'Blood lead [umol/L]',\n",
       " 'Monocyte [%]',\n",
       " 'Gender',\n",
       " 'Segmented neutrophils [%]',\n",
       " 'C-Reactive Protein [mg/L]',\n",
       " 'Transferrin receptor [nmol/L]',\n",
       " 'Mean cell volume [fL]',\n",
       " 'Hydroxycotinine [ng/mL]',\n",
       " 'Basophils [%]',\n",
       " 'Gamma Glutamyl Transferase [IU/L]',\n",
       " 'Total Bilirubin [mg/dL]',\n",
       " 'Blood cadmium [nmol/L]',\n",
       " 'BMI',\n",
       " 'Eosinophils [%]',\n",
       " 'Ferritin [ng/mL]']"
      ]
     },
     "execution_count": 10,
     "metadata": {},
     "output_type": "execute_result"
    }
   ],
   "source": [
    "pos_corr, neg_corr = ml.get_correlated_features(heart_disease_df,'Heart Disease',pos=0.0,neg=-0.0)\n",
    "\n",
    "corr_features = list(pos_corr.keys()[1:]) + list(neg_corr.keys())\n",
    "corr_features[:30]"
   ]
  },
  {
   "cell_type": "code",
   "execution_count": 11,
   "id": "34987aa0",
   "metadata": {},
   "outputs": [
    {
     "name": "stdout",
     "output_type": "stream",
     "text": [
      "\n",
      "Train Accuracy: 0.890\n",
      "\n",
      "Test Accuracy: 0.885\n",
      "\n",
      "Precision: 0.579\n",
      "\n",
      "Recall: 0.085\n",
      "\n",
      "F1-Score: 0.148\n"
     ]
    }
   ],
   "source": [
    "ml.evaluate_feature_set(corr_features[:30], log_reg_test, X_train, y_train, X_val, y_val)"
   ]
  },
  {
   "cell_type": "markdown",
   "id": "9df33603",
   "metadata": {},
   "source": [
    "### SelectFromModel"
   ]
  },
  {
   "cell_type": "code",
   "execution_count": 12,
   "id": "a245d928",
   "metadata": {},
   "outputs": [
    {
     "data": {
      "text/plain": [
       "['Gender',\n",
       " 'Age',\n",
       " 'Blood Urea Nitrogen [mg/dL]',\n",
       " 'Cis-beta-carotene [umol/L]',\n",
       " 'Lutein and zeaxanthin [umol/L]',\n",
       " 'Neutrophil_Lymphocyte Ratio',\n",
       " 'Non_HDL Ratio',\n",
       " 'Platelet count [1000 cells/uL]',\n",
       " 'Platelet_Lymphocyte Ratio',\n",
       " 'Platelet_WBC Ratio',\n",
       " 'Red cell distribution width [%]',\n",
       " 'Retinol [umol/L]',\n",
       " 'Retinyl palmitate [umol/L]',\n",
       " 'Retinyl stearate [umol/L]',\n",
       " 'Systemic Immune‐inflammation Index (SII)',\n",
       " 'Total Calcium [mg/dL]',\n",
       " 'Total Cholesterol [mmol/L]',\n",
       " 'Total Iron Binding Capacity [umol/L]',\n",
       " 'Trans-beta-carotene [umol/L]',\n",
       " 'Triglyceride_HDL Ratio',\n",
       " 'Albumin [g/dL]',\n",
       " 'Alkaline Phosphatase [IU/L]',\n",
       " 'Ferritin [ng/mL]',\n",
       " 'Lactate Dehydrogenase [IU/L]',\n",
       " 'Triglyceride [mmol/L]']"
      ]
     },
     "execution_count": 12,
     "metadata": {},
     "output_type": "execute_result"
    }
   ],
   "source": [
    "sfm_features = ml.select_from_model_features(log_reg_test,X,y)\n",
    "sfm_features"
   ]
  },
  {
   "cell_type": "code",
   "execution_count": 13,
   "id": "17b4d45b",
   "metadata": {},
   "outputs": [
    {
     "name": "stdout",
     "output_type": "stream",
     "text": [
      "\n",
      "Train Accuracy: 0.890\n",
      "\n",
      "Test Accuracy: 0.885\n",
      "\n",
      "Precision: 0.538\n",
      "\n",
      "Recall: 0.162\n",
      "\n",
      "F1-Score: 0.249\n"
     ]
    }
   ],
   "source": [
    "sfm_features = list(sfm_features)\n",
    "\n",
    "ml.evaluate_feature_set(sfm_features, log_reg_test, X_train, y_train, X_val, y_val)"
   ]
  },
  {
   "cell_type": "markdown",
   "id": "15f3ce0f",
   "metadata": {},
   "source": [
    "### SelectKBest"
   ]
  },
  {
   "cell_type": "code",
   "execution_count": 14,
   "id": "238022df",
   "metadata": {},
   "outputs": [
    {
     "data": {
      "text/plain": [
       "['Age',\n",
       " 'Blood Urea Nitrogen [mg/dL]',\n",
       " 'Creatinine [mg/dL]',\n",
       " 'Glycohemoglobin [%]',\n",
       " 'Osmolality [mmol/Kg]',\n",
       " 'Red cell distribution width [%]',\n",
       " 'Alpha-crypotoxanthin [umol/L]',\n",
       " 'Alkaline Phosphatase [IU/L]',\n",
       " 'Trans-lycopene [umol/L]',\n",
       " 'Retinol [umol/L]',\n",
       " 'Total Lycopene [umol/L]',\n",
       " 'Total Cholesterol [mmol/L]',\n",
       " 'Platelet count [1000 cells/uL]',\n",
       " 'Platelet_WBC Ratio',\n",
       " 'Lymphocyte [%]',\n",
       " 'Uric Acid [mg/dL]',\n",
       " 'Lactate Dehydrogenase [IU/L]',\n",
       " 'Albumin [g/dL]',\n",
       " 'Neutrophil_Lymphocyte Ratio',\n",
       " 'Non_HDL Ratio',\n",
       " '25-hydroxyvitamin D2 + D3 [nmol/L]',\n",
       " 'Potassium [mmol/L]',\n",
       " 'LDL-Cholesterol(NIH2) [mmol/L]',\n",
       " 'Gender',\n",
       " 'Total Iron Binding Capacity [umol/L]',\n",
       " 'RBC count [million cells/uL]',\n",
       " 'Insulin [pmol/L]',\n",
       " 'Blood lead [umol/L]',\n",
       " 'Fasting Glucose [mmol/L]',\n",
       " 'Monocyte [%]']"
      ]
     },
     "execution_count": 14,
     "metadata": {},
     "output_type": "execute_result"
    }
   ],
   "source": [
    "k_best_features = ml.select_k_best(X, y, n=30)\n",
    "k_best_features[:30]"
   ]
  },
  {
   "cell_type": "code",
   "execution_count": 15,
   "id": "b756eeaa",
   "metadata": {},
   "outputs": [
    {
     "name": "stdout",
     "output_type": "stream",
     "text": [
      "\n",
      "Train Accuracy: 0.890\n",
      "\n",
      "Test Accuracy: 0.884\n",
      "\n",
      "Precision: 0.525\n",
      "\n",
      "Recall: 0.123\n",
      "\n",
      "F1-Score: 0.199\n"
     ]
    }
   ],
   "source": [
    "ml.evaluate_feature_set(k_best_features[:30], log_reg_test, X_train, y_train, X_val, y_val)"
   ]
  },
  {
   "cell_type": "markdown",
   "id": "933ccbc1",
   "metadata": {},
   "source": [
    "### Recursive Feature Elimination (RFE) "
   ]
  },
  {
   "cell_type": "code",
   "execution_count": 16,
   "id": "82685afa",
   "metadata": {},
   "outputs": [
    {
     "data": {
      "text/plain": [
       "['Gender',\n",
       " 'Neutrophil_Lymphocyte Ratio',\n",
       " 'Transferrin receptor [nmol/L]',\n",
       " 'Platelet count [1000 cells/uL]',\n",
       " 'Platelet_Lymphocyte Ratio',\n",
       " 'Red cell distribution width [%]',\n",
       " 'Retinol [umol/L]',\n",
       " 'Retinyl palmitate [umol/L]',\n",
       " 'Retinyl stearate [umol/L]',\n",
       " 'Systemic Immune‐inflammation Index (SII)',\n",
       " 'Total Calcium [mg/dL]',\n",
       " 'Total Cholesterol [mmol/L]',\n",
       " 'Total Cholestrol_HDL Ratio',\n",
       " 'Total Iron Binding Capacity [umol/L]',\n",
       " 'Trans-beta-carotene [umol/L]',\n",
       " 'Triglyceride_HDL Ratio',\n",
       " 'Albumin [g/dL]',\n",
       " 'Alkaline Phosphatase [IU/L]',\n",
       " 'Chloride [mmol/L]',\n",
       " 'Ferritin [ng/mL]',\n",
       " 'Insulin [pmol/L]',\n",
       " 'Transferrin Saturation [%]',\n",
       " 'Lutein and zeaxanthin [umol/L]',\n",
       " 'Gamma-tocopherol [umol/L]',\n",
       " 'Triglyceride [mmol/L]',\n",
       " 'Blood Urea Nitrogen [mg/dL]',\n",
       " 'Age',\n",
       " 'Cis-beta-carotene [umol/L]',\n",
       " 'BMI',\n",
       " 'Alpha-carotene [umol/L]']"
      ]
     },
     "execution_count": 16,
     "metadata": {},
     "output_type": "execute_result"
    }
   ],
   "source": [
    "rfe_features = ml.select_rfe_features(log_reg_test,X,y,n=30,step=0.5)\n",
    "rfe_features[:30]"
   ]
  },
  {
   "cell_type": "code",
   "execution_count": 17,
   "id": "8db8aa72",
   "metadata": {},
   "outputs": [
    {
     "name": "stdout",
     "output_type": "stream",
     "text": [
      "\n",
      "Train Accuracy: 0.890\n",
      "\n",
      "Test Accuracy: 0.884\n",
      "\n",
      "Precision: 0.529\n",
      "\n",
      "Recall: 0.138\n",
      "\n",
      "F1-Score: 0.220\n"
     ]
    }
   ],
   "source": [
    "ml.evaluate_feature_set(rfe_features[:30], log_reg_test, X_train, y_train, X_val, y_val)"
   ]
  },
  {
   "cell_type": "markdown",
   "id": "85827a38",
   "metadata": {},
   "source": [
    "### Lasso Regularization"
   ]
  },
  {
   "cell_type": "code",
   "execution_count": 18,
   "id": "f7a2dee7",
   "metadata": {},
   "outputs": [
    {
     "data": {
      "text/plain": [
       "['Age',\n",
       " 'Platelet count [1000 cells/uL]',\n",
       " 'Trans-beta-carotene [umol/L]',\n",
       " 'White blood cell count [1000 cells/uL]',\n",
       " 'Gender',\n",
       " 'Lutein and zeaxanthin [umol/L]',\n",
       " 'Retinol [umol/L]',\n",
       " 'Ferritin [ng/mL]',\n",
       " 'Alkaline Phosphatase [IU/L]',\n",
       " 'Cis-beta-carotene [umol/L]',\n",
       " 'Total Iron Binding Capacity [umol/L]',\n",
       " 'Red cell distribution width [%]',\n",
       " 'Neutrophil_Lymphocyte Ratio',\n",
       " 'Platelet_WBC Ratio',\n",
       " 'Total Cholesterol [mmol/L]',\n",
       " 'Transferrin receptor [nmol/L]',\n",
       " 'Lymphocyte_Monocyte Ratio',\n",
       " 'Direct HDL-Cholesterol [mmol/L]',\n",
       " 'Triglyceride_HDL Ratio',\n",
       " 'Chloride [mmol/L]',\n",
       " 'Sodium [mmol/L]',\n",
       " 'Lymphocyte_C-Reactive Protein Ratio',\n",
       " 'Blood Urea Nitrogen [mg/dL]',\n",
       " 'Total Calcium [mg/dL]',\n",
       " 'Trans-lycopene [umol/L]',\n",
       " 'Insulin [pmol/L]',\n",
       " 'Gamma-tocopherol [umol/L]',\n",
       " 'Total Bilirubin [mg/dL]',\n",
       " 'Blood cadmium [nmol/L]',\n",
       " 'Beta-cryptoxanthin [umol/L]']"
      ]
     },
     "execution_count": 18,
     "metadata": {},
     "output_type": "execute_result"
    }
   ],
   "source": [
    "l1_selected_features = ml.log_reg_lasso_select(X_train, y_train)\n",
    "l1_selected_features[:30]"
   ]
  },
  {
   "cell_type": "code",
   "execution_count": 19,
   "id": "1b685cc9",
   "metadata": {},
   "outputs": [
    {
     "name": "stdout",
     "output_type": "stream",
     "text": [
      "\n",
      "Train Accuracy: 0.889\n",
      "\n",
      "Test Accuracy: 0.882\n",
      "\n",
      "Precision: 0.494\n",
      "\n",
      "Recall: 0.150\n",
      "\n",
      "F1-Score: 0.230\n"
     ]
    }
   ],
   "source": [
    "ml.evaluate_feature_set(l1_selected_features[:30], log_reg_test, X_train, y_train, X_val, y_val)"
   ]
  },
  {
   "cell_type": "markdown",
   "id": "a37796b0",
   "metadata": {},
   "source": [
    "### Relief F"
   ]
  },
  {
   "cell_type": "code",
   "execution_count": 20,
   "id": "bfb3ec54",
   "metadata": {},
   "outputs": [],
   "source": [
    "relieff_features = ml.relief_feature_select(30,X,y)"
   ]
  },
  {
   "cell_type": "code",
   "execution_count": 21,
   "id": "fc600c21",
   "metadata": {},
   "outputs": [
    {
     "data": {
      "text/plain": [
       "['Age',\n",
       " 'Blood Urea Nitrogen [mg/dL]',\n",
       " 'Total Cholesterol [mmol/L]',\n",
       " 'Nucleated RBCs',\n",
       " 'Non_HDL Ratio',\n",
       " 'Unnamed: 0',\n",
       " 'RBC count [million cells/uL]',\n",
       " 'Hemoglobin [g/dL]',\n",
       " 'Neutrophil_Lymphocyte Ratio',\n",
       " 'Hematocrit [%]',\n",
       " 'Glycohemoglobin [%]',\n",
       " 'Osmolality [mmol/Kg]',\n",
       " 'Red cell distribution width [%]',\n",
       " 'Lymphocyte [%]',\n",
       " 'Globulin [g/dL]',\n",
       " 'Segmented neutrophils [%]',\n",
       " 'Creatinine [mg/dL]',\n",
       " 'Transferrin Saturation [%]',\n",
       " 'Sodium [mmol/L]',\n",
       " 'A/G Ratio',\n",
       " 'Total Protein [g/dL]',\n",
       " 'Trans-lycopene [umol/L]',\n",
       " 'Total Lycopene [umol/L]',\n",
       " 'Chloride [mmol/L]',\n",
       " 'Uric Acid [mg/dL]',\n",
       " 'Mean cell volume [fL]',\n",
       " '25-hydroxyvitamin D2 + D3 [nmol/L]',\n",
       " 'UIBC [umol/L]',\n",
       " 'Albumin [g/dL]',\n",
       " 'Mean cell hemoglobin [pg]']"
      ]
     },
     "execution_count": 21,
     "metadata": {},
     "output_type": "execute_result"
    }
   ],
   "source": [
    "relieff_features[:30]"
   ]
  },
  {
   "cell_type": "code",
   "execution_count": 22,
   "id": "8f76d0da",
   "metadata": {},
   "outputs": [
    {
     "name": "stdout",
     "output_type": "stream",
     "text": [
      "\n",
      "Train Accuracy: 0.885\n",
      "\n",
      "Test Accuracy: 0.879\n",
      "\n",
      "Precision: 0.434\n",
      "\n",
      "Recall: 0.088\n",
      "\n",
      "F1-Score: 0.147\n"
     ]
    }
   ],
   "source": [
    "ml.evaluate_feature_set(relieff_features[:30], log_reg_test, X_train, y_train, X_val, y_val)"
   ]
  },
  {
   "cell_type": "markdown",
   "id": "281f4770",
   "metadata": {},
   "source": [
    "### Optimal no. of features"
   ]
  },
  {
   "cell_type": "code",
   "execution_count": 23,
   "id": "7da46c27",
   "metadata": {},
   "outputs": [],
   "source": [
    "final_features = list(l1_selected_features) "
   ]
  },
  {
   "cell_type": "code",
   "execution_count": 25,
   "id": "4aaf5159",
   "metadata": {},
   "outputs": [
    {
     "name": "stderr",
     "output_type": "stream",
     "text": [
      "Finding optimal no. of features..: 100%|████████| 86/86 [00:37<00:00,  2.27it/s]\n"
     ]
    },
    {
     "name": "stdout",
     "output_type": "stream",
     "text": [
      "\n",
      "Maximum f1 = 0.2498 for 41 features\n"
     ]
    },
    {
     "data": {
      "image/png": "[encoded data removed]",
      "text/plain": [
       "<Figure size 1000x700 with 1 Axes>"
      ]
     },
     "metadata": {},
     "output_type": "display_data"
    }
   ],
   "source": [
    "# Optimal no. of features\n",
    "\n",
    "ml.plot_num_feature_performance(log_reg_test,  X, y, final_features, scoring='f1')"
   ]
  },
  {
   "cell_type": "code",
   "execution_count": 26,
   "id": "cdd1c71c",
   "metadata": {},
   "outputs": [
    {
     "name": "stderr",
     "output_type": "stream",
     "text": [
      "Finding optimal no. of features..: 100%|████████| 86/86 [00:42<00:00,  2.03it/s]\n"
     ]
    },
    {
     "name": "stdout",
     "output_type": "stream",
     "text": [
      "\n",
      "Maximum recall = 0.1658 for 41 features\n"
     ]
    },
    {
     "data": {
      "image/png": "[encoded data removed]",
      "text/plain": [
       "<Figure size 1000x700 with 1 Axes>"
      ]
     },
     "metadata": {},
     "output_type": "display_data"
    }
   ],
   "source": [
    "# Optimal no. of features\n",
    "\n",
    "ml.plot_num_feature_performance(log_reg_test,  X, y, final_features, scoring='recall')"
   ]
  },
  {
   "cell_type": "code",
   "execution_count": 27,
   "id": "27de64c6",
   "metadata": {},
   "outputs": [],
   "source": [
    "num_features = 41\n",
    "\n",
    "selected = final_features[:num_features]\n",
    "selected.append('Heart Disease')\n",
    "\n",
    "heart_disease_df = heart_disease_df[selected]"
   ]
  },
  {
   "cell_type": "code",
   "execution_count": 29,
   "id": "5386a09f",
   "metadata": {},
   "outputs": [],
   "source": [
    "# Save feature set\n",
    "\n",
    "feature_dir = \"../Models/Heart Disease/Feature Sets\"\n",
    "if not ml.os.path.exists(feature_dir):\n",
    "    ml.os.makedirs(feature_dir)\n",
    "\n",
    "with open('../Models/Heart Disease/Feature Sets/Logistic Regression Features.pkl', 'wb') as f:\n",
    "    ml.pickle.dump(selected, f)"
   ]
  },
  {
   "cell_type": "markdown",
   "id": "cd4a3a33",
   "metadata": {},
   "source": [
    "## Preprocessing"
   ]
  },
  {
   "cell_type": "markdown",
   "id": "32c7f0b2",
   "metadata": {},
   "source": [
    "### Zero Imputation"
   ]
  },
  {
   "cell_type": "code",
   "execution_count": 30,
   "id": "24b09db9",
   "metadata": {},
   "outputs": [],
   "source": [
    "# Imputing null values with zeroes\n",
    "\n",
    "X, y, X_train, X_val, X_test, y_train, y_val, y_test = ml.preprocess_and_split(df = heart_disease_df, label = 'Heart Disease',\n",
    "                                                        impute = True, scale=True,\n",
    "                                                        imputer=ml.SimpleImputer(strategy='constant',fill_value=0),\n",
    "                                                        random_state=42)"
   ]
  },
  {
   "cell_type": "code",
   "execution_count": 31,
   "id": "4c234679",
   "metadata": {},
   "outputs": [
    {
     "name": "stdout",
     "output_type": "stream",
     "text": [
      "\n",
      "Train Accuracy: 0.892\n",
      "\n",
      "Test Accuracy: 0.886\n",
      "\n",
      "Precision: 0.553\n",
      "\n",
      "Recall: 0.162\n",
      "\n",
      "F1-Score: 0.250\n"
     ]
    }
   ],
   "source": [
    "log_reg.fit(X_train, y_train)\n",
    "\n",
    "ml.evaluate_model_metrics(log_reg,X_train,y_train,X_val,y_val)"
   ]
  },
  {
   "cell_type": "markdown",
   "id": "1877522f",
   "metadata": {},
   "source": [
    "### Mode Imputation"
   ]
  },
  {
   "cell_type": "code",
   "execution_count": 32,
   "id": "fcca0b91",
   "metadata": {},
   "outputs": [],
   "source": [
    "# Imputing with most frequent values\n",
    "\n",
    "X, y, X_train, X_val, X_test, y_train, y_val, y_test = ml.preprocess_and_split(df = heart_disease_df, label = 'Heart Disease',\n",
    "                                                              impute = True, scale=True,\n",
    "                                                              imputer=ml.SimpleImputer(strategy='most_frequent'),\n",
    "                                                              random_state=42)"
   ]
  },
  {
   "cell_type": "code",
   "execution_count": 33,
   "id": "43855037",
   "metadata": {},
   "outputs": [
    {
     "name": "stdout",
     "output_type": "stream",
     "text": [
      "\n",
      "Train Accuracy: 0.890\n",
      "\n",
      "Test Accuracy: 0.885\n",
      "\n",
      "Precision: 0.537\n",
      "\n",
      "Recall: 0.165\n",
      "\n",
      "F1-Score: 0.253\n"
     ]
    }
   ],
   "source": [
    "log_reg.fit(X_train, y_train)\n",
    "\n",
    "ml.evaluate_model_metrics(log_reg,X_train,y_train,X_val,y_val)"
   ]
  },
  {
   "cell_type": "markdown",
   "id": "8484c25a",
   "metadata": {},
   "source": [
    "### k-NN Imputation"
   ]
  },
  {
   "cell_type": "code",
   "execution_count": 34,
   "id": "288ec08b",
   "metadata": {},
   "outputs": [],
   "source": [
    "# Imputing missing values with values from the k-nearest neighbors in the feature space\n",
    "\n",
    "X, y, X_train, X_val, X_test, y_train, y_val, y_test = ml.preprocess_and_split(df = heart_disease_df, label = 'Heart Disease',\n",
    "                                                              impute = True, scale=True,\n",
    "                                                              imputer=ml.KNNImputer(n_neighbors=20),\n",
    "                                                              random_state=42)"
   ]
  },
  {
   "cell_type": "code",
   "execution_count": 35,
   "id": "d03244a8",
   "metadata": {},
   "outputs": [
    {
     "name": "stdout",
     "output_type": "stream",
     "text": [
      "\n",
      "Train Accuracy: 0.892\n",
      "\n",
      "Test Accuracy: 0.886\n",
      "\n",
      "Precision: 0.547\n",
      "\n",
      "Recall: 0.181\n",
      "\n",
      "F1-Score: 0.272\n"
     ]
    }
   ],
   "source": [
    "log_reg.fit(X_train, y_train)\n",
    "\n",
    "ml.evaluate_model_metrics(log_reg,X_train,y_train,X_val,y_val)"
   ]
  },
  {
   "cell_type": "markdown",
   "id": "e8c1a99e",
   "metadata": {},
   "source": [
    "### Multiple Imputation by Chained Equations (MICE)"
   ]
  },
  {
   "cell_type": "code",
   "execution_count": 36,
   "id": "d78c9b6a",
   "metadata": {},
   "outputs": [],
   "source": [
    "# Imputes by looking at data from other columns and trying to estimate the best prediction for each missing value.\n",
    "\n",
    "X, y, X_train, X_val, X_test, y_train, y_val, y_test = ml.preprocess_and_split(df = heart_disease_df, label = 'Heart Disease',\n",
    "                                                              impute = True, scale=True,\n",
    "                                                              imputer=ml.IterativeImputer(max_iter=20),\n",
    "                                                              random_state=42)"
   ]
  },
  {
   "cell_type": "code",
   "execution_count": 37,
   "id": "78e0324b",
   "metadata": {},
   "outputs": [
    {
     "name": "stdout",
     "output_type": "stream",
     "text": [
      "\n",
      "Train Accuracy: 0.891\n",
      "\n",
      "Test Accuracy: 0.885\n",
      "\n",
      "Precision: 0.529\n",
      "\n",
      "Recall: 0.173\n",
      "\n",
      "F1-Score: 0.261\n"
     ]
    }
   ],
   "source": [
    "log_reg.fit(X_train, y_train)\n",
    "\n",
    "ml.evaluate_model_metrics(log_reg,X_train,y_train,X_val,y_val)"
   ]
  },
  {
   "cell_type": "markdown",
   "id": "dc71288f",
   "metadata": {},
   "source": [
    "### Median Imputation"
   ]
  },
  {
   "cell_type": "code",
   "execution_count": 38,
   "id": "648640e9",
   "metadata": {},
   "outputs": [],
   "source": [
    "# Imputing with median values\n",
    "\n",
    "X, y, X_train, X_val, X_test, y_train, y_val, y_test = ml.preprocess_and_split(df = heart_disease_df, label = 'Heart Disease',\n",
    "                                                              impute = True, scale=True,\n",
    "                                                              imputer=ml.SimpleImputer(strategy='median'),\n",
    "                                                              random_state=42)"
   ]
  },
  {
   "cell_type": "code",
   "execution_count": 39,
   "id": "188ab3fd",
   "metadata": {},
   "outputs": [
    {
     "name": "stdout",
     "output_type": "stream",
     "text": [
      "\n",
      "Train Accuracy: 0.892\n",
      "\n",
      "Test Accuracy: 0.887\n",
      "\n",
      "Precision: 0.562\n",
      "\n",
      "Recall: 0.192\n",
      "\n",
      "F1-Score: 0.287\n"
     ]
    }
   ],
   "source": [
    "log_reg.fit(X_train, y_train)\n",
    "\n",
    "ml.evaluate_model_metrics(log_reg,X_train,y_train,X_val,y_val)"
   ]
  },
  {
   "cell_type": "markdown",
   "id": "ecf3258f",
   "metadata": {},
   "source": [
    "### Mean Imputation"
   ]
  },
  {
   "cell_type": "code",
   "execution_count": 40,
   "id": "cf825805",
   "metadata": {},
   "outputs": [],
   "source": [
    "# Splitting and Preprocessing data\n",
    "\n",
    "X, y, X_train, X_val, X_test, y_train, y_val, y_test = ml.preprocess_and_split(df = heart_disease_df, label = 'Heart Disease',\n",
    "                                                              impute = True, scale=True,\n",
    "                                                              imputer=ml.SimpleImputer(strategy='mean'),\n",
    "                                                              random_state=42)"
   ]
  },
  {
   "cell_type": "code",
   "execution_count": 41,
   "id": "c4eb9258",
   "metadata": {},
   "outputs": [
    {
     "name": "stdout",
     "output_type": "stream",
     "text": [
      "\n",
      "Train Accuracy: 0.892\n",
      "\n",
      "Test Accuracy: 0.886\n",
      "\n",
      "Precision: 0.548\n",
      "\n",
      "Recall: 0.177\n",
      "\n",
      "F1-Score: 0.267\n"
     ]
    }
   ],
   "source": [
    "log_reg.fit(X_train, y_train)\n",
    "\n",
    "ml.evaluate_model_metrics(log_reg,X_train,y_train,X_val,y_val)"
   ]
  },
  {
   "cell_type": "markdown",
   "id": "5bd39f86",
   "metadata": {},
   "source": [
    "### Dropping Null Values"
   ]
  },
  {
   "cell_type": "code",
   "execution_count": 42,
   "id": "2a0f7318",
   "metadata": {
    "scrolled": true
   },
   "outputs": [],
   "source": [
    "# Drop null values\n",
    "heart_disease_df_na = heart_disease_df.dropna()\n",
    "\n",
    "X, y, X_train, X_val, X_test, y_train, y_val, y_test = ml.preprocess_and_split(df = heart_disease_df_na, label = 'Heart Disease',\n",
    "                                                              impute = False, scale=True,\n",
    "                                                              random_state=42)"
   ]
  },
  {
   "cell_type": "code",
   "execution_count": 43,
   "id": "f3c46212",
   "metadata": {},
   "outputs": [
    {
     "name": "stdout",
     "output_type": "stream",
     "text": [
      "\n",
      "Train Accuracy: 0.901\n",
      "\n",
      "Test Accuracy: 0.900\n",
      "\n",
      "Precision: 0.600\n",
      "\n",
      "Recall: 0.205\n",
      "\n",
      "F1-Score: 0.306\n"
     ]
    }
   ],
   "source": [
    "log_reg.fit(X_train, y_train)\n",
    "\n",
    "ml.evaluate_model_metrics(log_reg,X_train,y_train,X_val,y_val)"
   ]
  },
  {
   "cell_type": "markdown",
   "id": "d4f3c7a0",
   "metadata": {},
   "source": [
    "## Oversampling and Undersampling"
   ]
  },
  {
   "cell_type": "markdown",
   "id": "f2ab083d",
   "metadata": {},
   "source": [
    "### Random Oversampling"
   ]
  },
  {
   "cell_type": "code",
   "execution_count": 44,
   "id": "61c3f573",
   "metadata": {
    "scrolled": false
   },
   "outputs": [
    {
     "name": "stdout",
     "output_type": "stream",
     "text": [
      "\n",
      "Train Accuracy: 0.797\n",
      "\n",
      "Test Accuracy: 0.777\n",
      "\n",
      "Precision: 0.305\n",
      "\n",
      "Recall: 0.836\n",
      "\n",
      "F1-Score: 0.447\n"
     ]
    }
   ],
   "source": [
    "X_ros, y_ros = ml.random_over_sample(X_train, y_train)\n",
    "\n",
    "log_reg.fit(X_ros, y_ros)\n",
    "\n",
    "ml.evaluate_model_metrics(log_reg,X_ros, y_ros,X_val, y_val)"
   ]
  },
  {
   "cell_type": "markdown",
   "id": "55cc4ab2",
   "metadata": {},
   "source": [
    "### SMOTE (Synthetic Minority Over-sampling Technique)"
   ]
  },
  {
   "cell_type": "code",
   "execution_count": 45,
   "id": "5ed6c6b3",
   "metadata": {
    "scrolled": false
   },
   "outputs": [
    {
     "name": "stdout",
     "output_type": "stream",
     "text": [
      "\n",
      "Train Accuracy: 0.823\n",
      "\n",
      "Test Accuracy: 0.798\n",
      "\n",
      "Precision: 0.326\n",
      "\n",
      "Recall: 0.822\n",
      "\n",
      "F1-Score: 0.467\n"
     ]
    }
   ],
   "source": [
    "X_smote, y_smote = ml.smote_over_sample(X_train, y_train)\n",
    "\n",
    "log_reg.fit(X_smote, y_smote)\n",
    "\n",
    "ml.evaluate_model_metrics(log_reg,X_smote, y_smote,X_val, y_val)"
   ]
  },
  {
   "cell_type": "markdown",
   "id": "0532ee8b",
   "metadata": {},
   "source": [
    "### Random Undersampling"
   ]
  },
  {
   "cell_type": "code",
   "execution_count": 46,
   "id": "5286090b",
   "metadata": {
    "scrolled": false
   },
   "outputs": [
    {
     "name": "stdout",
     "output_type": "stream",
     "text": [
      "\n",
      "Train Accuracy: 0.770\n",
      "\n",
      "Test Accuracy: 0.752\n",
      "\n",
      "Precision: 0.266\n",
      "\n",
      "Recall: 0.740\n",
      "\n",
      "F1-Score: 0.391\n"
     ]
    }
   ],
   "source": [
    "X_rus, y_rus = ml.random_under_sample(X_train, y_train)\n",
    "\n",
    "log_reg.fit(X_rus, y_rus)\n",
    "\n",
    "ml.evaluate_model_metrics(log_reg,X_rus, y_rus,X_val, y_val)"
   ]
  },
  {
   "cell_type": "markdown",
   "id": "6defa173",
   "metadata": {},
   "source": [
    "### Tomek Links"
   ]
  },
  {
   "cell_type": "code",
   "execution_count": 47,
   "id": "f4fa6ccf",
   "metadata": {
    "scrolled": false
   },
   "outputs": [
    {
     "name": "stdout",
     "output_type": "stream",
     "text": [
      "\n",
      "Train Accuracy: 0.902\n",
      "\n",
      "Test Accuracy: 0.903\n",
      "\n",
      "Precision: 0.621\n",
      "\n",
      "Recall: 0.247\n",
      "\n",
      "F1-Score: 0.353\n"
     ]
    }
   ],
   "source": [
    "X_tomek, y_tomek = ml.tomek_links(X_train, y_train)\n",
    "\n",
    "log_reg.fit(X_tomek, y_tomek)\n",
    "\n",
    "ml.evaluate_model_metrics(log_reg,X_tomek, y_tomek,X_val, y_val)"
   ]
  },
  {
   "cell_type": "markdown",
   "id": "111c9c16",
   "metadata": {},
   "source": [
    "### SMOTE + Tomek Links"
   ]
  },
  {
   "cell_type": "code",
   "execution_count": 48,
   "id": "753149c7",
   "metadata": {
    "scrolled": false
   },
   "outputs": [
    {
     "name": "stdout",
     "output_type": "stream",
     "text": [
      "\n",
      "Train Accuracy: 0.823\n",
      "\n",
      "Test Accuracy: 0.798\n",
      "\n",
      "Precision: 0.326\n",
      "\n",
      "Recall: 0.822\n",
      "\n",
      "F1-Score: 0.467\n"
     ]
    }
   ],
   "source": [
    "X_smote_tomek, y_smote_tomek = ml.smote_tomek(X_train, y_train)\n",
    "\n",
    "log_reg.fit(X_smote_tomek, y_smote_tomek)\n",
    "\n",
    "ml.evaluate_model_metrics(log_reg,X_smote_tomek, y_smote_tomek,X_val, y_val)"
   ]
  },
  {
   "cell_type": "code",
   "execution_count": 49,
   "id": "1f3a2dd8",
   "metadata": {},
   "outputs": [],
   "source": [
    "# Smote + Tomek provides better results\n",
    "\n",
    "X_train, y_train = X_smote_tomek, y_smote_tomek"
   ]
  },
  {
   "cell_type": "markdown",
   "id": "9bda7751",
   "metadata": {},
   "source": [
    "## Hyperparameter Optimization "
   ]
  },
  {
   "cell_type": "markdown",
   "id": "a8911f34",
   "metadata": {},
   "source": [
    "### Grid Search"
   ]
  },
  {
   "cell_type": "code",
   "execution_count": 50,
   "id": "8bbd1f7f",
   "metadata": {},
   "outputs": [],
   "source": [
    "# Hyperparameters\n",
    "param_grid = {\n",
    "    \n",
    "    'penalty': ['l1', 'l2','None'],\n",
    "    'C': [0.01, 0.1, 1, 10],\n",
    "    'solver': ['newton-cg','saga','lbfgs'],\n",
    "    'max_iter': [100,200,300],\n",
    "    'class_weight': [None, 'balanced'],\n",
    "    'warm_start': [False, True],\n",
    "    \n",
    "}"
   ]
  },
  {
   "cell_type": "code",
   "execution_count": 51,
   "id": "1b862359",
   "metadata": {},
   "outputs": [],
   "source": [
    "grid_best_params, log_reg_grid = ml.grid_search_optimize(log_reg, param_grid, X_train, \n",
    "                                                                y_train, cv=10,scoring='f1')"
   ]
  },
  {
   "cell_type": "code",
   "execution_count": 52,
   "id": "86a4a7b5",
   "metadata": {},
   "outputs": [
    {
     "data": {
      "text/plain": [
       "{'C': 1,\n",
       " 'class_weight': None,\n",
       " 'max_iter': 100,\n",
       " 'penalty': 'l1',\n",
       " 'solver': 'saga',\n",
       " 'warm_start': False}"
      ]
     },
     "execution_count": 52,
     "metadata": {},
     "output_type": "execute_result"
    }
   ],
   "source": [
    "grid_best_params"
   ]
  },
  {
   "cell_type": "code",
   "execution_count": 53,
   "id": "2268aff4",
   "metadata": {},
   "outputs": [
    {
     "name": "stdout",
     "output_type": "stream",
     "text": [
      "\n",
      "Train Accuracy: 0.820\n",
      "\n",
      "Test Accuracy: 0.795\n",
      "\n",
      "Precision: 0.323\n",
      "\n",
      "Recall: 0.822\n",
      "\n",
      "F1-Score: 0.463\n"
     ]
    }
   ],
   "source": [
    "ml.evaluate_model_metrics(log_reg_grid,X_train,y_train,X_val,y_val)"
   ]
  },
  {
   "cell_type": "markdown",
   "id": "8458e5a6",
   "metadata": {},
   "source": [
    "### Random Search"
   ]
  },
  {
   "cell_type": "code",
   "execution_count": 54,
   "id": "cc4fcfeb",
   "metadata": {},
   "outputs": [],
   "source": [
    "rand_best_params, log_reg_rand = ml.random_search_optimize(log_reg,param_grid,n_iter=100,cv=5,\n",
    "                                                               X_train=X_train, y_train=y_train,\n",
    "                                                               scoring='accuracy')"
   ]
  },
  {
   "cell_type": "code",
   "execution_count": 55,
   "id": "a3aca564",
   "metadata": {},
   "outputs": [
    {
     "data": {
      "text/plain": [
       "{'warm_start': True,\n",
       " 'solver': 'saga',\n",
       " 'penalty': 'l2',\n",
       " 'max_iter': 100,\n",
       " 'class_weight': None,\n",
       " 'C': 1}"
      ]
     },
     "execution_count": 55,
     "metadata": {},
     "output_type": "execute_result"
    }
   ],
   "source": [
    "rand_best_params"
   ]
  },
  {
   "cell_type": "code",
   "execution_count": 56,
   "id": "0c27dea7",
   "metadata": {},
   "outputs": [
    {
     "name": "stdout",
     "output_type": "stream",
     "text": [
      "\n",
      "Train Accuracy: 0.823\n",
      "\n",
      "Test Accuracy: 0.798\n",
      "\n",
      "Precision: 0.326\n",
      "\n",
      "Recall: 0.822\n",
      "\n",
      "F1-Score: 0.467\n"
     ]
    }
   ],
   "source": [
    "ml.evaluate_model_metrics(log_reg_rand,X_train,y_train,X_val,y_val)"
   ]
  },
  {
   "cell_type": "markdown",
   "id": "7d6294a4",
   "metadata": {},
   "source": [
    "### Optuna"
   ]
  },
  {
   "cell_type": "code",
   "execution_count": 57,
   "id": "ae722921",
   "metadata": {},
   "outputs": [],
   "source": [
    "def objective(trial):\n",
    "    \n",
    "    # Hyperparameter search space\n",
    "    penalty = trial.suggest_categorical('penalty', ['l1', 'l2'])\n",
    "    C = trial.suggest_loguniform('C', 1e-5, 1e5)\n",
    "    solver = trial.suggest_categorical('solver', ['newton-cg', 'saga', 'lbfgs',\n",
    "                                                  'liblinear','sag'])\n",
    "    if (penalty == \"l1\" and solver not in [\"liblinear\", \"saga\"]) or (penalty == \"elasticnet\" and solver not in [\"saga\"]) or penalty=='none' and solver in ['liblinear']:\n",
    "        return 0\n",
    "    max_iter = trial.suggest_int('max_iter', 100, 300, 500)\n",
    "    class_weight = trial.suggest_categorical('class_weight', [None, 'balanced'])\n",
    "    warm_start = trial.suggest_categorical('warm_start', [False, True])\n",
    "    fit_intercept = trial.suggest_categorical('fit_intercept', [False, True])\n",
    "\n",
    "    model = ml.LogisticRegression(\n",
    "        penalty=penalty, C=C, solver=solver, max_iter=max_iter,\n",
    "        class_weight=class_weight, warm_start=warm_start, fit_intercept=fit_intercept\n",
    "    )\n",
    "    model.fit(X_train, y_train)\n",
    "\n",
    "    y_pred = model.predict(X_test)\n",
    "\n",
    "    f1 = ml.f1_score(y_test, y_pred)\n",
    "\n",
    "    return f1"
   ]
  },
  {
   "cell_type": "code",
   "execution_count": 58,
   "id": "e7e379fd",
   "metadata": {},
   "outputs": [],
   "source": [
    "best_trial , log_reg_opt = ml.optuna_optimize(objective, ml.LogisticRegression, n_trials=150)"
   ]
  },
  {
   "cell_type": "code",
   "execution_count": 59,
   "id": "b9b8c5b6",
   "metadata": {},
   "outputs": [
    {
     "data": {
      "text/plain": [
       "{'penalty': 'l1',\n",
       " 'C': 0.06364769178825445,\n",
       " 'solver': 'saga',\n",
       " 'max_iter': 100,\n",
       " 'class_weight': None,\n",
       " 'warm_start': False,\n",
       " 'fit_intercept': True}"
      ]
     },
     "execution_count": 59,
     "metadata": {},
     "output_type": "execute_result"
    }
   ],
   "source": [
    "best_trial"
   ]
  },
  {
   "cell_type": "code",
   "execution_count": 60,
   "id": "9e3a828c",
   "metadata": {},
   "outputs": [
    {
     "name": "stdout",
     "output_type": "stream",
     "text": [
      "\n",
      "Train Accuracy: 0.813\n",
      "\n",
      "Test Accuracy: 0.774\n",
      "\n",
      "Precision: 0.296\n",
      "\n",
      "Recall: 0.795\n",
      "\n",
      "F1-Score: 0.431\n"
     ]
    }
   ],
   "source": [
    "log_reg_opt.fit(X_train,y_train)\n",
    "\n",
    "ml.evaluate_model_metrics(log_reg_opt,X_train,y_train,X_val,y_val)"
   ]
  },
  {
   "cell_type": "markdown",
   "id": "0d9910b8",
   "metadata": {},
   "source": [
    "## Evaluation on Test Set"
   ]
  },
  {
   "cell_type": "code",
   "execution_count": 61,
   "id": "d53424ec",
   "metadata": {},
   "outputs": [
    {
     "name": "stdout",
     "output_type": "stream",
     "text": [
      "\n",
      "Train Accuracy: 0.823\n",
      "\n",
      "Test Accuracy: 0.778\n",
      "\n",
      "Precision: 0.298\n",
      "\n",
      "Recall: 0.747\n",
      "\n",
      "F1-Score: 0.426\n",
      "\n",
      "Confusion Matrix:\n",
      "\n",
      "[[472 132]\n",
      " [ 19  56]]\n",
      "\n",
      "\n",
      "Classification Report:\n",
      "\n",
      "              precision    recall  f1-score   support\n",
      "\n",
      "     Class 0       0.96      0.78      0.86       604\n",
      "     Class 1       0.30      0.75      0.43        75\n",
      "\n",
      "    accuracy                           0.78       679\n",
      "   macro avg       0.63      0.76      0.64       679\n",
      "weighted avg       0.89      0.78      0.81       679\n",
      "\n",
      "\n",
      "ROC-AUC Curve:\n"
     ]
    },
    {
     "data": {
      "image/png": "[encoded data removed]",
      "text/plain": [
       "<Figure size 600x400 with 1 Axes>"
      ]
     },
     "metadata": {},
     "output_type": "display_data"
    }
   ],
   "source": [
    "# After evaluating on the validation set, we evaluate and finalize on the test set\n",
    "\n",
    "ml.evaluate_model_metrics(log_reg, X_train, y_train, X_test, y_test, verbose=6)"
   ]
  },
  {
   "cell_type": "markdown",
   "id": "e7b5c88c",
   "metadata": {},
   "source": [
    "## Cross Validation"
   ]
  },
  {
   "cell_type": "markdown",
   "id": "7e539fb9",
   "metadata": {},
   "source": [
    "### K-fold"
   ]
  },
  {
   "cell_type": "code",
   "execution_count": 62,
   "id": "e77a24f0",
   "metadata": {},
   "outputs": [
    {
     "name": "stdout",
     "output_type": "stream",
     "text": [
      "\n",
      "accuracy scores: [0.91176471 0.9        0.88823529 0.91764706 0.88823529 0.9\n",
      " 0.88235294 0.89349112 0.89940828 0.88757396]\n",
      "\n",
      "Mean accuracy score:  0.8968708666898711\n",
      "\n",
      "Standard deviation:  0.010664283757116656\n"
     ]
    }
   ],
   "source": [
    "ml.k_cross_validate(log_reg,X,y,cv=10,scoring='accuracy')"
   ]
  },
  {
   "cell_type": "code",
   "execution_count": 63,
   "id": "4aad10b7",
   "metadata": {},
   "outputs": [
    {
     "name": "stdout",
     "output_type": "stream",
     "text": [
      "\n",
      "accuracy scores: [0.90588235 0.9        0.88235294 0.90588235 0.89411765 0.9\n",
      " 0.88235294 0.89349112 0.89940828 0.88757396]\n",
      "\n",
      "Mean accuracy score:  0.8951061608075183\n",
      "\n",
      "Standard deviation:  0.008272054930359138\n"
     ]
    }
   ],
   "source": [
    "ml.k_cross_validate(log_reg_grid,X,y,cv=10,scoring='accuracy')"
   ]
  },
  {
   "cell_type": "code",
   "execution_count": 64,
   "id": "fa6ff1f4",
   "metadata": {},
   "outputs": [
    {
     "name": "stdout",
     "output_type": "stream",
     "text": [
      "\n",
      "accuracy scores: [0.91176471 0.9        0.88235294 0.90588235 0.89411765 0.9\n",
      " 0.88235294 0.89349112 0.89940828 0.8816568 ]\n",
      "\n",
      "Mean accuracy score:  0.8951026801253045\n",
      "\n",
      "Standard deviation:  0.009847846521987065\n"
     ]
    }
   ],
   "source": [
    "ml.k_cross_validate(log_reg_rand,X,y,cv=10,scoring='accuracy')"
   ]
  },
  {
   "cell_type": "code",
   "execution_count": 65,
   "id": "46f81577",
   "metadata": {},
   "outputs": [
    {
     "name": "stdout",
     "output_type": "stream",
     "text": [
      "\n",
      "accuracy scores: [0.9        0.91764706 0.89411765 0.87647059 0.87647059 0.89411765\n",
      " 0.87647059 0.89349112 0.89940828 0.8816568 ]\n",
      "\n",
      "Mean accuracy score:  0.890985033066481\n",
      "\n",
      "Standard deviation:  0.012680751582585525\n"
     ]
    }
   ],
   "source": [
    "ml.k_cross_validate(log_reg_opt,X,y,cv=10,scoring='accuracy')"
   ]
  },
  {
   "cell_type": "markdown",
   "id": "ad831ffc",
   "metadata": {},
   "source": [
    "### Stratified K-fold"
   ]
  },
  {
   "cell_type": "code",
   "execution_count": 66,
   "id": "29a48b89",
   "metadata": {},
   "outputs": [
    {
     "name": "stdout",
     "output_type": "stream",
     "text": [
      "\n",
      "Average Accuracy: 0.8945214061956144\n",
      "\n",
      "Average Precision: 0.5791666666666667\n",
      "\n",
      "Average Recall: 0.19678362573099414\n",
      "\n",
      "Average F1-Score: 0.2891492505495504\n"
     ]
    }
   ],
   "source": [
    "ml.stratified_k_cross_validate(log_reg,X,y,n_splits=10)"
   ]
  },
  {
   "cell_type": "code",
   "execution_count": 67,
   "id": "e0f6f6d6",
   "metadata": {},
   "outputs": [
    {
     "name": "stdout",
     "output_type": "stream",
     "text": [
      "\n",
      "Average Accuracy: 0.8957048381482771\n",
      "\n",
      "Average Precision: 0.6095238095238095\n",
      "\n",
      "Average Recall: 0.18625730994152048\n",
      "\n",
      "Average F1-Score: 0.27819052811256706\n"
     ]
    }
   ],
   "source": [
    "ml.stratified_k_cross_validate(log_reg_grid,X,y,n_splits=10)"
   ]
  },
  {
   "cell_type": "code",
   "execution_count": 68,
   "id": "5aa2c58d",
   "metadata": {},
   "outputs": [
    {
     "name": "stdout",
     "output_type": "stream",
     "text": [
      "\n",
      "Average Accuracy: 0.8951096414897319\n",
      "\n",
      "Average Precision: 0.5827380952380953\n",
      "\n",
      "Average Recall: 0.19678362573099414\n",
      "\n",
      "Average F1-Score: 0.28884525181076903\n"
     ]
    }
   ],
   "source": [
    "ml.stratified_k_cross_validate(log_reg_rand,X,y,n_splits=10)"
   ]
  },
  {
   "cell_type": "code",
   "execution_count": 69,
   "id": "2c1453da",
   "metadata": {},
   "outputs": [
    {
     "name": "stdout",
     "output_type": "stream",
     "text": [
      "\n",
      "Average Accuracy: 0.8921615036547162\n",
      "\n",
      "Average Precision: 0.59\n",
      "\n",
      "Average Recall: 0.09561403508771929\n",
      "\n",
      "Average F1-Score: 0.16059369768294252\n"
     ]
    }
   ],
   "source": [
    "ml.stratified_k_cross_validate(log_reg_opt,X,y,n_splits=10)"
   ]
  },
  {
   "cell_type": "markdown",
   "id": "7a471ca4",
   "metadata": {},
   "source": [
    "### Save Model"
   ]
  },
  {
   "cell_type": "code",
   "execution_count": 70,
   "id": "6e89475b",
   "metadata": {},
   "outputs": [],
   "source": [
    "final_log_reg_estimator = log_reg"
   ]
  },
  {
   "cell_type": "code",
   "execution_count": 71,
   "id": "ea9c37ae",
   "metadata": {},
   "outputs": [
    {
     "name": "stdout",
     "output_type": "stream",
     "text": [
      "Saved Model\n"
     ]
    }
   ],
   "source": [
    "# Saving the model\n",
    "\n",
    "ml.save_model(final_log_reg_estimator, \"../Models/Heart Disease/Logistic_Regression.pkl\")"
   ]
  },
  {
   "cell_type": "markdown",
   "id": "de59f229",
   "metadata": {},
   "source": [
    "## Prediction"
   ]
  },
  {
   "cell_type": "code",
   "execution_count": 72,
   "id": "67af8316",
   "metadata": {},
   "outputs": [
    {
     "name": "stdout",
     "output_type": "stream",
     "text": [
      "Instance:\n",
      " [ 0.          1.07890186  0.48792811  0.90959197  0.32063336 -0.37403447\n",
      "  0.58941655 -0.19845492 -1.50474043  0.78101069  2.17342975 -0.80883986\n",
      " -0.27017971 -0.08784474  0.54026555 -0.45647686 -0.01231973  0.81616246\n",
      " -0.32546612 -1.98178936  0.1803974   1.58589823  0.48294764  1.07223729\n",
      " -0.27675235 -0.56239439 -1.52413855  1.17422041  0.429352   -0.087414\n",
      " -0.27758316  0.4042275   0.20730496 -0.02067272  0.18519537  1.16547023\n",
      "  0.17601617  0.61724201  0.23642538  0.67218464  1.15505875]\n",
      "\n",
      "Expected Class:  0.0\n",
      "\n",
      " Modified Instance:\n",
      " [ 0.          0.83774122  0.37560895  0.93333333  0.23783494 -0.51010684\n",
      "  0.58707232 -0.53981122 -1.62015006  1.01264101  1.91131458 -0.81511528\n",
      " -0.20970434  0.02343934  0.46327276 -0.43442425  0.01545544  0.96900584\n",
      " -0.38443244 -2.0227814   0.22923453  1.46486967  0.25986448  1.31390489\n",
      " -0.31332451 -0.69400395 -1.30909419  1.19695398  0.50252885 -0.16896059\n",
      " -0.46881087  0.25707653  0.44308121 -0.22643684  0.17548113  1.25585186\n",
      " -0.14067987  0.63711507  0.20665945  0.74590462  1.20912662]\n",
      "\n",
      "Predicted Class:  [0.]\n"
     ]
    }
   ],
   "source": [
    "# Predicting on perturbed values\n",
    "sc = ml.np.random.rand()\n",
    "\n",
    "ml.predict_on_modified_instance(final_log_reg_estimator, X_test.iloc[0], y_test.iloc[0], sc)"
   ]
  },
  {
   "cell_type": "code",
   "execution_count": 77,
   "id": "ebca53ab",
   "metadata": {},
   "outputs": [
    {
     "name": "stdout",
     "output_type": "stream",
     "text": [
      "Instance:\n",
      " [ 1.          1.53740876 -1.05646336 -0.78647846 -0.74804904 -0.590358\n",
      " -1.13129473 -0.34191513  2.20112666 -0.5214785  -0.00660297  0.77053781\n",
      " -0.20451866 -0.38333494 -1.65008911 -0.30396421 -1.19955022 -0.40000612\n",
      " -0.21769998  0.22013872 -0.19563835 -0.62151721  1.94146384 -0.96032747\n",
      " -1.61846922  2.42852401 -0.16340411 -1.09992388 -0.32430392 -0.67718935\n",
      "  2.06204631  2.28746839 -0.19699632 -0.26537288  1.40093191 -0.15466994\n",
      "  0.17601617 -1.47899748 -1.50158456 -0.08117926  2.57653523]\n",
      "\n",
      "Expected Class:  0.0\n",
      "\n",
      " Modified Instance:\n",
      " [ 1.00000000e+00  1.49371476e+00 -1.21389986e+00 -6.18703432e-01\n",
      " -6.75435580e-01 -5.39810182e-01 -1.15994209e+00 -1.54541689e-01\n",
      "  2.52077426e+00 -5.39468735e-01  7.58060339e-04  7.01273006e-01\n",
      " -8.32231009e-02 -6.18582485e-01 -1.54887760e+00 -2.90626093e-01\n",
      " -8.88650399e-01 -4.68500687e-01 -2.37188489e-01  2.86372391e-01\n",
      " -2.47757853e-01 -4.14343429e-01  2.10944289e+00 -5.93287368e-01\n",
      " -1.72871937e+00  2.18340741e+00 -4.00154141e-02 -1.07966282e+00\n",
      " -4.24725732e-01 -7.29291349e-01  2.12028925e+00  2.34634179e+00\n",
      " -2.07964979e-01 -3.78005441e-01  1.55368186e+00 -1.43251228e-01\n",
      "  3.37708312e-01 -1.57048091e+00 -1.60121849e+00 -3.31500059e-01\n",
      "  2.92919566e+00]\n",
      "\n",
      "Predicted Class:  [1.]\n"
     ]
    }
   ],
   "source": [
    "ml.predict_on_modified_instance(final_log_reg_estimator, X_test.iloc[5], y_test.iloc[5], sc)"
   ]
  },
  {
   "cell_type": "code",
   "execution_count": 79,
   "id": "5d795e32",
   "metadata": {},
   "outputs": [
    {
     "name": "stdout",
     "output_type": "stream",
     "text": [
      "Instance:\n",
      " [ 1.          1.65203548  0.33033714 -0.14364683  1.04928044 -0.34612176\n",
      "  1.71147082 -0.80017879  0.07222429 -0.04784607  0.98309131  4.93435168\n",
      "  1.40567918 -0.68233318 -0.43938674  4.65718262 -1.2109659   1.7593136\n",
      " -0.77149872  0.58712673  0.93246889 -0.58354107  0.96911971 -0.08922829\n",
      " -0.92549458  0.01127161 -1.17363962 -0.72089983  1.15097754  0.67214516\n",
      "  0.18116772  1.08904237 -1.81420143 -0.84354813 -0.42267291 -1.7631166\n",
      "  0.17601617  0.31777923 -1.09481628 -2.71026551  0.23527986]\n",
      "\n",
      "Expected Class:  1.0\n",
      "\n",
      " Modified Instance:\n",
      " [ 1.          1.80447376  0.29031034 -0.12407124  1.03426704 -0.34548144\n",
      "  1.70409363 -0.78748294  0.19936456 -0.02432192  0.83028068  4.69221295\n",
      "  1.38685904 -0.59186997 -0.71200712  4.7101988  -1.04444804  1.70672948\n",
      " -0.93184757  0.6150792   0.97232907 -0.42127175  0.82824836 -0.15789539\n",
      " -0.74478612 -0.05108768 -1.2288071  -0.95326004  1.07701922  0.82687758\n",
      " -0.00803643  1.27070023 -1.79360197 -0.90279677 -0.59723162 -2.01690353\n",
      " -0.03676485  0.08558963 -1.01384657 -2.8661393   0.46260848]\n",
      "\n",
      "Predicted Class:  [1.]\n"
     ]
    }
   ],
   "source": [
    "ml.predict_on_modified_instance(final_log_reg_estimator, X_test.iloc[98], y_test.iloc[98], sc)"
   ]
  }
 ],
 "metadata": {
  "kernelspec": {
   "display_name": "Python 3 (ipykernel)",
   "language": "python",
   "name": "python3"
  },
  "language_info": {
   "codemirror_mode": {
    "name": "ipython",
    "version": 3
   },
   "file_extension": ".py",
   "mimetype": "text/x-python",
   "name": "python",
   "nbconvert_exporter": "python",
   "pygments_lexer": "ipython3",
   "version": "3.10.12"
  }
 },
 "nbformat": 4,
 "nbformat_minor": 5
}
