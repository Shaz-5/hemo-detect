{
 "cells": [
  {
   "cell_type": "markdown",
   "id": "d2acf9f1",
   "metadata": {},
   "source": [
    "# Weak/Failing kidneys - Logistic Regression"
   ]
  },
  {
   "cell_type": "code",
   "execution_count": 1,
   "id": "5c1b7eb2",
   "metadata": {},
   "outputs": [],
   "source": [
    "import some_load_train_evaluate_functions as ml"
   ]
  },
  {
   "cell_type": "code",
   "execution_count": 2,
   "id": "6b4433ef",
   "metadata": {},
   "outputs": [
    {
     "name": "stdout",
     "output_type": "stream",
     "text": [
      "Connected to database successfully.\n"
     ]
    }
   ],
   "source": [
    "path = '../KG/db.env'\n",
    "\n",
    "driver = ml.connect_to_neo4j(path)"
   ]
  },
  {
   "cell_type": "markdown",
   "id": "4016e569",
   "metadata": {},
   "source": [
    "### Load Data"
   ]
  },
  {
   "cell_type": "code",
   "execution_count": 3,
   "id": "76bbe0fe",
   "metadata": {
    "scrolled": false
   },
   "outputs": [
    {
     "data": {
      "text/html": [
       "<div>\n",
       "<style scoped>\n",
       "    .dataframe tbody tr th:only-of-type {\n",
       "        vertical-align: middle;\n",
       "    }\n",
       "\n",
       "    .dataframe tbody tr th {\n",
       "        vertical-align: top;\n",
       "    }\n",
       "\n",
       "    .dataframe thead th {\n",
       "        text-align: right;\n",
       "    }\n",
       "</style>\n",
       "<table border=\"1\" class=\"dataframe\">\n",
       "  <thead>\n",
       "    <tr style=\"text-align: right;\">\n",
       "      <th></th>\n",
       "      <th>Respondent_ID</th>\n",
       "      <th>Gender</th>\n",
       "      <th>Age</th>\n",
       "      <th>BMI</th>\n",
       "      <th>25-hydroxyvitamin D2 + D3 [nmol/L]</th>\n",
       "      <th>A/G Ratio</th>\n",
       "      <th>Alpha-carotene [umol/L]</th>\n",
       "      <th>Alpha-crypotoxanthin [umol/L]</th>\n",
       "      <th>Alpha-tocopherol [umol/L]</th>\n",
       "      <th>Basophils [%]</th>\n",
       "      <th>...</th>\n",
       "      <th>Ferritin [ng/mL]</th>\n",
       "      <th>Gamma Glutamyl Transferase [IU/L]</th>\n",
       "      <th>Hemoglobin [g/dL]</th>\n",
       "      <th>Insulin [pmol/L]</th>\n",
       "      <th>LDL-Cholesterol(NIH2) [mmol/L]</th>\n",
       "      <th>Lactate Dehydrogenase [IU/L]</th>\n",
       "      <th>Transferrin Saturation [%]</th>\n",
       "      <th>Transferrin receptor [nmol/L]</th>\n",
       "      <th>Triglyceride [mmol/L]</th>\n",
       "      <th>Weak/Failing kidneys</th>\n",
       "    </tr>\n",
       "  </thead>\n",
       "  <tbody>\n",
       "    <tr>\n",
       "      <th>0</th>\n",
       "      <td>93705</td>\n",
       "      <td>0</td>\n",
       "      <td>66</td>\n",
       "      <td>31.7</td>\n",
       "      <td>89.9</td>\n",
       "      <td>1.517241</td>\n",
       "      <td>0.138</td>\n",
       "      <td>0.071</td>\n",
       "      <td>26.006</td>\n",
       "      <td>1.0</td>\n",
       "      <td>...</td>\n",
       "      <td>28.70</td>\n",
       "      <td>21.0</td>\n",
       "      <td>11.9</td>\n",
       "      <td>NaN</td>\n",
       "      <td>NaN</td>\n",
       "      <td>174.0</td>\n",
       "      <td>28.0</td>\n",
       "      <td>39.8</td>\n",
       "      <td>NaN</td>\n",
       "      <td>0</td>\n",
       "    </tr>\n",
       "    <tr>\n",
       "      <th>1</th>\n",
       "      <td>93708</td>\n",
       "      <td>0</td>\n",
       "      <td>66</td>\n",
       "      <td>23.7</td>\n",
       "      <td>116.0</td>\n",
       "      <td>1.218750</td>\n",
       "      <td>0.192</td>\n",
       "      <td>0.127</td>\n",
       "      <td>NaN</td>\n",
       "      <td>0.7</td>\n",
       "      <td>...</td>\n",
       "      <td>109.00</td>\n",
       "      <td>22.0</td>\n",
       "      <td>13.2</td>\n",
       "      <td>58.32</td>\n",
       "      <td>2.870</td>\n",
       "      <td>247.0</td>\n",
       "      <td>32.0</td>\n",
       "      <td>30.1</td>\n",
       "      <td>0.655</td>\n",
       "      <td>0</td>\n",
       "    </tr>\n",
       "    <tr>\n",
       "      <th>2</th>\n",
       "      <td>93709</td>\n",
       "      <td>0</td>\n",
       "      <td>75</td>\n",
       "      <td>38.9</td>\n",
       "      <td>72.8</td>\n",
       "      <td>1.121212</td>\n",
       "      <td>0.009</td>\n",
       "      <td>0.017</td>\n",
       "      <td>28.561</td>\n",
       "      <td>0.6</td>\n",
       "      <td>...</td>\n",
       "      <td>129.00</td>\n",
       "      <td>31.0</td>\n",
       "      <td>15.4</td>\n",
       "      <td>NaN</td>\n",
       "      <td>NaN</td>\n",
       "      <td>NaN</td>\n",
       "      <td>21.0</td>\n",
       "      <td>46.5</td>\n",
       "      <td>NaN</td>\n",
       "      <td>0</td>\n",
       "    </tr>\n",
       "    <tr>\n",
       "      <th>3</th>\n",
       "      <td>93711</td>\n",
       "      <td>1</td>\n",
       "      <td>56</td>\n",
       "      <td>21.3</td>\n",
       "      <td>165.0</td>\n",
       "      <td>1.290323</td>\n",
       "      <td>0.173</td>\n",
       "      <td>0.079</td>\n",
       "      <td>31.115</td>\n",
       "      <td>0.4</td>\n",
       "      <td>...</td>\n",
       "      <td>40.60</td>\n",
       "      <td>19.0</td>\n",
       "      <td>14.7</td>\n",
       "      <td>31.68</td>\n",
       "      <td>4.086</td>\n",
       "      <td>139.0</td>\n",
       "      <td>16.0</td>\n",
       "      <td>34.8</td>\n",
       "      <td>0.542</td>\n",
       "      <td>0</td>\n",
       "    </tr>\n",
       "    <tr>\n",
       "      <th>4</th>\n",
       "      <td>93713</td>\n",
       "      <td>1</td>\n",
       "      <td>67</td>\n",
       "      <td>23.5</td>\n",
       "      <td>63.5</td>\n",
       "      <td>2.047619</td>\n",
       "      <td>0.028</td>\n",
       "      <td>0.028</td>\n",
       "      <td>18.344</td>\n",
       "      <td>0.6</td>\n",
       "      <td>...</td>\n",
       "      <td>238.00</td>\n",
       "      <td>26.0</td>\n",
       "      <td>14.2</td>\n",
       "      <td>NaN</td>\n",
       "      <td>NaN</td>\n",
       "      <td>123.0</td>\n",
       "      <td>27.0</td>\n",
       "      <td>28.0</td>\n",
       "      <td>NaN</td>\n",
       "      <td>0</td>\n",
       "    </tr>\n",
       "    <tr>\n",
       "      <th>...</th>\n",
       "      <td>...</td>\n",
       "      <td>...</td>\n",
       "      <td>...</td>\n",
       "      <td>...</td>\n",
       "      <td>...</td>\n",
       "      <td>...</td>\n",
       "      <td>...</td>\n",
       "      <td>...</td>\n",
       "      <td>...</td>\n",
       "      <td>...</td>\n",
       "      <td>...</td>\n",
       "      <td>...</td>\n",
       "      <td>...</td>\n",
       "      <td>...</td>\n",
       "      <td>...</td>\n",
       "      <td>...</td>\n",
       "      <td>...</td>\n",
       "      <td>...</td>\n",
       "      <td>...</td>\n",
       "      <td>...</td>\n",
       "      <td>...</td>\n",
       "    </tr>\n",
       "    <tr>\n",
       "      <th>5555</th>\n",
       "      <td>102950</td>\n",
       "      <td>1</td>\n",
       "      <td>64</td>\n",
       "      <td>NaN</td>\n",
       "      <td>NaN</td>\n",
       "      <td>NaN</td>\n",
       "      <td>NaN</td>\n",
       "      <td>NaN</td>\n",
       "      <td>NaN</td>\n",
       "      <td>NaN</td>\n",
       "      <td>...</td>\n",
       "      <td>NaN</td>\n",
       "      <td>NaN</td>\n",
       "      <td>NaN</td>\n",
       "      <td>NaN</td>\n",
       "      <td>NaN</td>\n",
       "      <td>NaN</td>\n",
       "      <td>NaN</td>\n",
       "      <td>NaN</td>\n",
       "      <td>NaN</td>\n",
       "      <td>0</td>\n",
       "    </tr>\n",
       "    <tr>\n",
       "      <th>5556</th>\n",
       "      <td>102952</td>\n",
       "      <td>0</td>\n",
       "      <td>70</td>\n",
       "      <td>20.0</td>\n",
       "      <td>82.7</td>\n",
       "      <td>1.846154</td>\n",
       "      <td>0.235</td>\n",
       "      <td>0.077</td>\n",
       "      <td>31.347</td>\n",
       "      <td>0.6</td>\n",
       "      <td>...</td>\n",
       "      <td>135.00</td>\n",
       "      <td>18.0</td>\n",
       "      <td>13.4</td>\n",
       "      <td>26.34</td>\n",
       "      <td>1.112</td>\n",
       "      <td>168.0</td>\n",
       "      <td>39.0</td>\n",
       "      <td>29.1</td>\n",
       "      <td>0.881</td>\n",
       "      <td>0</td>\n",
       "    </tr>\n",
       "    <tr>\n",
       "      <th>5557</th>\n",
       "      <td>102953</td>\n",
       "      <td>1</td>\n",
       "      <td>42</td>\n",
       "      <td>35.8</td>\n",
       "      <td>49.5</td>\n",
       "      <td>1.142857</td>\n",
       "      <td>0.106</td>\n",
       "      <td>0.080</td>\n",
       "      <td>21.873</td>\n",
       "      <td>0.6</td>\n",
       "      <td>...</td>\n",
       "      <td>120.00</td>\n",
       "      <td>28.0</td>\n",
       "      <td>15.5</td>\n",
       "      <td>NaN</td>\n",
       "      <td>NaN</td>\n",
       "      <td>136.0</td>\n",
       "      <td>20.0</td>\n",
       "      <td>28.6</td>\n",
       "      <td>NaN</td>\n",
       "      <td>0</td>\n",
       "    </tr>\n",
       "    <tr>\n",
       "      <th>5558</th>\n",
       "      <td>102954</td>\n",
       "      <td>0</td>\n",
       "      <td>41</td>\n",
       "      <td>26.1</td>\n",
       "      <td>50.5</td>\n",
       "      <td>1.500000</td>\n",
       "      <td>0.117</td>\n",
       "      <td>0.056</td>\n",
       "      <td>26.935</td>\n",
       "      <td>1.4</td>\n",
       "      <td>...</td>\n",
       "      <td>1.99</td>\n",
       "      <td>8.0</td>\n",
       "      <td>6.4</td>\n",
       "      <td>56.94</td>\n",
       "      <td>2.793</td>\n",
       "      <td>123.0</td>\n",
       "      <td>5.0</td>\n",
       "      <td>248.0</td>\n",
       "      <td>0.553</td>\n",
       "      <td>0</td>\n",
       "    </tr>\n",
       "    <tr>\n",
       "      <th>5559</th>\n",
       "      <td>102956</td>\n",
       "      <td>1</td>\n",
       "      <td>38</td>\n",
       "      <td>36.1</td>\n",
       "      <td>58.9</td>\n",
       "      <td>1.482759</td>\n",
       "      <td>0.026</td>\n",
       "      <td>0.038</td>\n",
       "      <td>21.177</td>\n",
       "      <td>1.0</td>\n",
       "      <td>...</td>\n",
       "      <td>553.00</td>\n",
       "      <td>72.0</td>\n",
       "      <td>17.4</td>\n",
       "      <td>634.38</td>\n",
       "      <td>2.172</td>\n",
       "      <td>134.0</td>\n",
       "      <td>35.0</td>\n",
       "      <td>23.4</td>\n",
       "      <td>3.037</td>\n",
       "      <td>0</td>\n",
       "    </tr>\n",
       "  </tbody>\n",
       "</table>\n",
       "<p>5560 rows × 91 columns</p>\n",
       "</div>"
      ],
      "text/plain": [
       "      Respondent_ID  Gender  Age   BMI  25-hydroxyvitamin D2 + D3 [nmol/L]  \\\n",
       "0             93705       0   66  31.7                                89.9   \n",
       "1             93708       0   66  23.7                               116.0   \n",
       "2             93709       0   75  38.9                                72.8   \n",
       "3             93711       1   56  21.3                               165.0   \n",
       "4             93713       1   67  23.5                                63.5   \n",
       "...             ...     ...  ...   ...                                 ...   \n",
       "5555         102950       1   64   NaN                                 NaN   \n",
       "5556         102952       0   70  20.0                                82.7   \n",
       "5557         102953       1   42  35.8                                49.5   \n",
       "5558         102954       0   41  26.1                                50.5   \n",
       "5559         102956       1   38  36.1                                58.9   \n",
       "\n",
       "      A/G Ratio  Alpha-carotene [umol/L]  Alpha-crypotoxanthin [umol/L]  \\\n",
       "0      1.517241                    0.138                          0.071   \n",
       "1      1.218750                    0.192                          0.127   \n",
       "2      1.121212                    0.009                          0.017   \n",
       "3      1.290323                    0.173                          0.079   \n",
       "4      2.047619                    0.028                          0.028   \n",
       "...         ...                      ...                            ...   \n",
       "5555        NaN                      NaN                            NaN   \n",
       "5556   1.846154                    0.235                          0.077   \n",
       "5557   1.142857                    0.106                          0.080   \n",
       "5558   1.500000                    0.117                          0.056   \n",
       "5559   1.482759                    0.026                          0.038   \n",
       "\n",
       "      Alpha-tocopherol [umol/L]  Basophils [%]  ...  Ferritin [ng/mL]  \\\n",
       "0                        26.006            1.0  ...             28.70   \n",
       "1                           NaN            0.7  ...            109.00   \n",
       "2                        28.561            0.6  ...            129.00   \n",
       "3                        31.115            0.4  ...             40.60   \n",
       "4                        18.344            0.6  ...            238.00   \n",
       "...                         ...            ...  ...               ...   \n",
       "5555                        NaN            NaN  ...               NaN   \n",
       "5556                     31.347            0.6  ...            135.00   \n",
       "5557                     21.873            0.6  ...            120.00   \n",
       "5558                     26.935            1.4  ...              1.99   \n",
       "5559                     21.177            1.0  ...            553.00   \n",
       "\n",
       "      Gamma Glutamyl Transferase [IU/L]  Hemoglobin [g/dL]  Insulin [pmol/L]  \\\n",
       "0                                  21.0               11.9               NaN   \n",
       "1                                  22.0               13.2             58.32   \n",
       "2                                  31.0               15.4               NaN   \n",
       "3                                  19.0               14.7             31.68   \n",
       "4                                  26.0               14.2               NaN   \n",
       "...                                 ...                ...               ...   \n",
       "5555                                NaN                NaN               NaN   \n",
       "5556                               18.0               13.4             26.34   \n",
       "5557                               28.0               15.5               NaN   \n",
       "5558                                8.0                6.4             56.94   \n",
       "5559                               72.0               17.4            634.38   \n",
       "\n",
       "      LDL-Cholesterol(NIH2) [mmol/L]  Lactate Dehydrogenase [IU/L]  \\\n",
       "0                                NaN                         174.0   \n",
       "1                              2.870                         247.0   \n",
       "2                                NaN                           NaN   \n",
       "3                              4.086                         139.0   \n",
       "4                                NaN                         123.0   \n",
       "...                              ...                           ...   \n",
       "5555                             NaN                           NaN   \n",
       "5556                           1.112                         168.0   \n",
       "5557                             NaN                         136.0   \n",
       "5558                           2.793                         123.0   \n",
       "5559                           2.172                         134.0   \n",
       "\n",
       "      Transferrin Saturation [%]  Transferrin receptor [nmol/L]  \\\n",
       "0                           28.0                           39.8   \n",
       "1                           32.0                           30.1   \n",
       "2                           21.0                           46.5   \n",
       "3                           16.0                           34.8   \n",
       "4                           27.0                           28.0   \n",
       "...                          ...                            ...   \n",
       "5555                         NaN                            NaN   \n",
       "5556                        39.0                           29.1   \n",
       "5557                        20.0                           28.6   \n",
       "5558                         5.0                          248.0   \n",
       "5559                        35.0                           23.4   \n",
       "\n",
       "      Triglyceride [mmol/L]  Weak/Failing kidneys  \n",
       "0                       NaN                     0  \n",
       "1                     0.655                     0  \n",
       "2                       NaN                     0  \n",
       "3                     0.542                     0  \n",
       "4                       NaN                     0  \n",
       "...                     ...                   ...  \n",
       "5555                    NaN                     0  \n",
       "5556                  0.881                     0  \n",
       "5557                    NaN                     0  \n",
       "5558                  0.553                     0  \n",
       "5559                  3.037                     0  \n",
       "\n",
       "[5560 rows x 91 columns]"
      ]
     },
     "execution_count": 3,
     "metadata": {},
     "output_type": "execute_result"
    }
   ],
   "source": [
    "# Weak/Failing kidneys data\n",
    "\n",
    "weak_kidney_df = ml.get_data_of_disease(driver, 'Weak/Failing kidneys')\n",
    "weak_kidney_df"
   ]
  },
  {
   "cell_type": "markdown",
   "id": "6578093d",
   "metadata": {},
   "source": [
    "### Training"
   ]
  },
  {
   "cell_type": "code",
   "execution_count": 4,
   "id": "995292f6",
   "metadata": {},
   "outputs": [
    {
     "name": "stdout",
     "output_type": "stream",
     "text": [
      "Training Accuracy:  0.9642535971223022\n",
      "Testing Accuracy:  0.9685251798561151\n"
     ]
    }
   ],
   "source": [
    "log_reg = ml.LogisticRegression()\n",
    "\n",
    "# Attributes and Labels\n",
    "\n",
    "X, y, X_train, X_val, X_test, y_train, y_val, y_test = ml.preprocess_and_split(df = weak_kidney_df, label = 'Weak/Failing kidneys',\n",
    "                                                              impute = True, scale=True,\n",
    "                                                              imputer=ml.SimpleImputer(strategy='mean'),\n",
    "                                                              random_state=42)\n",
    "\n",
    "# Training\n",
    "\n",
    "log_reg.fit(X_train, y_train)\n",
    "\n",
    "# Accuracy scores\n",
    "\n",
    "y_pred = log_reg.predict(X_val)\n",
    "\n",
    "print('Training Accuracy: ',ml.accuracy_score(y_train, log_reg.predict(X_train)))\n",
    "\n",
    "print('Testing Accuracy: ',ml.accuracy_score(y_val, y_pred))"
   ]
  },
  {
   "cell_type": "markdown",
   "id": "44142f21",
   "metadata": {},
   "source": [
    "## Feature Selection"
   ]
  },
  {
   "cell_type": "markdown",
   "id": "c60fc52a",
   "metadata": {},
   "source": [
    "### Correlation Analysis"
   ]
  },
  {
   "cell_type": "code",
   "execution_count": 5,
   "id": "a8302272",
   "metadata": {},
   "outputs": [],
   "source": [
    "log_reg_test = ml.LogisticRegression()"
   ]
  },
  {
   "cell_type": "code",
   "execution_count": 8,
   "id": "4bf4ee40",
   "metadata": {},
   "outputs": [
    {
     "data": {
      "text/plain": [
       "['Creatinine [mg/dL]',\n",
       " 'Blood Urea Nitrogen [mg/dL]',\n",
       " 'Retinol [umol/L]',\n",
       " 'Osmolality [mmol/Kg]',\n",
       " 'Age',\n",
       " 'Ferritin [ng/mL]',\n",
       " 'Uric Acid [mg/dL]',\n",
       " '25-hydroxyvitamin D2 + D3 [nmol/L]',\n",
       " 'Chromium [nmol/L]',\n",
       " 'Insulin [pmol/L]',\n",
       " 'Potassium [mmol/L]',\n",
       " 'Red cell distribution width [%]',\n",
       " 'Neutrophil_Lymphocyte Ratio',\n",
       " 'Lactate Dehydrogenase [IU/L]',\n",
       " 'Blood lead [umol/L]',\n",
       " 'C-Reactive Protein [mg/L]',\n",
       " 'Glycohemoglobin [%]',\n",
       " 'Fasting Glucose [mmol/L]',\n",
       " 'Alkaline Phosphatase [IU/L]',\n",
       " 'Monocyte [%]',\n",
       " 'Segmented neutrophils [%]',\n",
       " 'BMI',\n",
       " 'Platelet_Lymphocyte Ratio',\n",
       " 'Eosinophils [%]',\n",
       " 'Globulin [g/dL]',\n",
       " 'Mean cell volume [fL]',\n",
       " 'Transferrin receptor [nmol/L]',\n",
       " 'Systemic Immune‐inflammation Index (SII)',\n",
       " 'Basophils [%]',\n",
       " 'Gamma Glutamyl Transferase [IU/L]']"
      ]
     },
     "execution_count": 8,
     "metadata": {},
     "output_type": "execute_result"
    }
   ],
   "source": [
    "pos_corr, neg_corr = ml.get_correlated_features(weak_kidney_df,'Weak/Failing kidneys',pos=0.0,neg=-0.0)\n",
    "\n",
    "corr_features = list(pos_corr.keys()[1:]) + list(neg_corr.keys())\n",
    "corr_features[:30]"
   ]
  },
  {
   "cell_type": "code",
   "execution_count": 9,
   "id": "34987aa0",
   "metadata": {},
   "outputs": [
    {
     "name": "stdout",
     "output_type": "stream",
     "text": [
      "\n",
      "Train Accuracy: 0.962\n",
      "\n",
      "Test Accuracy: 0.966\n",
      "\n",
      "Precision: 0.870\n",
      "\n",
      "Recall: 0.217\n",
      "\n",
      "F1-Score: 0.348\n"
     ]
    }
   ],
   "source": [
    "ml.evaluate_feature_set(corr_features[:30], log_reg_test, X_train, y_train, X_val, y_val)"
   ]
  },
  {
   "cell_type": "markdown",
   "id": "9df33603",
   "metadata": {},
   "source": [
    "### SelectFromModel"
   ]
  },
  {
   "cell_type": "code",
   "execution_count": 10,
   "id": "a245d928",
   "metadata": {},
   "outputs": [
    {
     "data": {
      "text/plain": [
       "['Gender',\n",
       " 'Age',\n",
       " '25-hydroxyvitamin D2 + D3 [nmol/L]',\n",
       " 'A/G Ratio',\n",
       " 'Beta-cryptoxanthin [umol/L]',\n",
       " 'Blood Urea Nitrogen [mg/dL]',\n",
       " 'Creatinine [mg/dL]',\n",
       " 'Glycohemoglobin [%]',\n",
       " 'Iron [ug/dL]',\n",
       " 'Iron frozen [umol/L]',\n",
       " 'LDL_HDL Ratio',\n",
       " 'Lutein and zeaxanthin [umol/L]',\n",
       " 'Lymphocyte_Monocyte Ratio',\n",
       " 'Neutrophil_Lymphocyte Ratio',\n",
       " 'Osmolality [mmol/Kg]',\n",
       " 'Phosphorus [mg/dL]',\n",
       " 'Platelet count [1000 cells/uL]',\n",
       " 'Platelet_Lymphocyte Ratio',\n",
       " 'Platelet_WBC Ratio',\n",
       " 'RBC count [million cells/uL]',\n",
       " 'Retinol [umol/L]',\n",
       " 'Sodium [mmol/L]',\n",
       " 'Systemic Immune‐inflammation Index (SII)',\n",
       " 'Total Cholestrol_HDL Ratio',\n",
       " 'Total Lycopene [umol/L]',\n",
       " 'Triglyceride_HDL Ratio',\n",
       " 'Alanine Aminotransferase [U/L]',\n",
       " 'Creatine Phosphokinase [IU/L]',\n",
       " 'Direct HDL-Cholesterol [mmol/L]',\n",
       " 'Transferrin Saturation [%]',\n",
       " 'Triglyceride [mmol/L]']"
      ]
     },
     "execution_count": 10,
     "metadata": {},
     "output_type": "execute_result"
    }
   ],
   "source": [
    "sfm_features = ml.select_from_model_features(log_reg_test,X,y)\n",
    "sfm_features"
   ]
  },
  {
   "cell_type": "code",
   "execution_count": 11,
   "id": "17b4d45b",
   "metadata": {},
   "outputs": [
    {
     "name": "stdout",
     "output_type": "stream",
     "text": [
      "\n",
      "Train Accuracy: 0.963\n",
      "\n",
      "Test Accuracy: 0.966\n",
      "\n",
      "Precision: 0.870\n",
      "\n",
      "Recall: 0.217\n",
      "\n",
      "F1-Score: 0.348\n"
     ]
    }
   ],
   "source": [
    "sfm_features = list(sfm_features)\n",
    "\n",
    "ml.evaluate_feature_set(sfm_features, log_reg_test, X_train, y_train, X_val, y_val)"
   ]
  },
  {
   "cell_type": "markdown",
   "id": "15f3ce0f",
   "metadata": {},
   "source": [
    "### SelectKBest"
   ]
  },
  {
   "cell_type": "code",
   "execution_count": 12,
   "id": "238022df",
   "metadata": {},
   "outputs": [
    {
     "data": {
      "text/plain": [
       "['Creatinine [mg/dL]',\n",
       " 'Blood Urea Nitrogen [mg/dL]',\n",
       " 'Retinol [umol/L]',\n",
       " 'Age',\n",
       " 'Osmolality [mmol/Kg]',\n",
       " 'Ferritin [ng/mL]',\n",
       " 'RBC count [million cells/uL]',\n",
       " 'Uric Acid [mg/dL]',\n",
       " '25-hydroxyvitamin D2 + D3 [nmol/L]',\n",
       " 'Hematocrit [%]',\n",
       " 'Hemoglobin [g/dL]',\n",
       " 'Albumin [g/dL]',\n",
       " 'Lymphocyte [%]',\n",
       " 'Potassium [mmol/L]',\n",
       " 'Chromium [nmol/L]',\n",
       " 'Total Iron Binding Capacity [umol/L]',\n",
       " 'Red cell distribution width [%]',\n",
       " 'Neutrophil_Lymphocyte Ratio',\n",
       " 'Lactate Dehydrogenase [IU/L]',\n",
       " 'Blood lead [umol/L]',\n",
       " 'C-Reactive Protein [mg/L]',\n",
       " 'A/G Ratio',\n",
       " 'Glycohemoglobin [%]',\n",
       " 'Total Lycopene [umol/L]',\n",
       " 'Alkaline Phosphatase [IU/L]',\n",
       " 'Trans-lycopene [umol/L]',\n",
       " 'Lymphocyte_Monocyte Ratio',\n",
       " 'Insulin [pmol/L]',\n",
       " 'Alpha-crypotoxanthin [umol/L]',\n",
       " 'Monocyte [%]']"
      ]
     },
     "execution_count": 12,
     "metadata": {},
     "output_type": "execute_result"
    }
   ],
   "source": [
    "k_best_features = ml.select_k_best(X, y, n=30)\n",
    "k_best_features[:30]"
   ]
  },
  {
   "cell_type": "code",
   "execution_count": 13,
   "id": "b756eeaa",
   "metadata": {},
   "outputs": [
    {
     "name": "stdout",
     "output_type": "stream",
     "text": [
      "\n",
      "Train Accuracy: 0.963\n",
      "\n",
      "Test Accuracy: 0.966\n",
      "\n",
      "Precision: 0.864\n",
      "\n",
      "Recall: 0.207\n",
      "\n",
      "F1-Score: 0.333\n"
     ]
    }
   ],
   "source": [
    "ml.evaluate_feature_set(k_best_features[:30], log_reg_test, X_train, y_train, X_val, y_val)"
   ]
  },
  {
   "cell_type": "markdown",
   "id": "933ccbc1",
   "metadata": {},
   "source": [
    "### Recursive Feature Elimination (RFE) "
   ]
  },
  {
   "cell_type": "code",
   "execution_count": 14,
   "id": "82685afa",
   "metadata": {},
   "outputs": [
    {
     "data": {
      "text/plain": [
       "['Gender',\n",
       " 'Iron [ug/dL]',\n",
       " 'Iron frozen [umol/L]',\n",
       " 'LDL_HDL Ratio',\n",
       " 'Lutein and zeaxanthin [umol/L]',\n",
       " 'Neutrophil_Lymphocyte Ratio',\n",
       " 'Non_HDL Ratio',\n",
       " 'Osmolality [mmol/Kg]',\n",
       " 'Platelet count [1000 cells/uL]',\n",
       " 'Platelet_Lymphocyte Ratio',\n",
       " 'Glycohemoglobin [%]',\n",
       " 'Platelet_WBC Ratio',\n",
       " 'Sodium [mmol/L]',\n",
       " 'Systemic Immune‐inflammation Index (SII)',\n",
       " 'Total Cholestrol_HDL Ratio',\n",
       " 'Total Lycopene [umol/L]',\n",
       " 'Alanine Aminotransferase [U/L]',\n",
       " 'Creatine Phosphokinase [IU/L]',\n",
       " 'Gamma Glutamyl Transferase [IU/L]',\n",
       " 'Hemoglobin [g/dL]',\n",
       " 'Transferrin Saturation [%]',\n",
       " 'RBC count [million cells/uL]',\n",
       " 'Globulin [g/dL]',\n",
       " 'Phosphorus [mg/dL]',\n",
       " 'Age',\n",
       " 'Beta-cryptoxanthin [umol/L]',\n",
       " 'Creatinine [mg/dL]',\n",
       " 'BMI',\n",
       " '25-hydroxyvitamin D2 + D3 [nmol/L]',\n",
       " 'A/G Ratio']"
      ]
     },
     "execution_count": 14,
     "metadata": {},
     "output_type": "execute_result"
    }
   ],
   "source": [
    "rfe_features = ml.select_rfe_features(log_reg_test,X,y,n=30,step=0.5)\n",
    "rfe_features[:30]"
   ]
  },
  {
   "cell_type": "code",
   "execution_count": 15,
   "id": "8db8aa72",
   "metadata": {},
   "outputs": [
    {
     "name": "stdout",
     "output_type": "stream",
     "text": [
      "\n",
      "Train Accuracy: 0.964\n",
      "\n",
      "Test Accuracy: 0.968\n",
      "\n",
      "Precision: 0.917\n",
      "\n",
      "Recall: 0.239\n",
      "\n",
      "F1-Score: 0.379\n"
     ]
    }
   ],
   "source": [
    "ml.evaluate_feature_set(rfe_features[:30], log_reg_test, X_train, y_train, X_val, y_val)"
   ]
  },
  {
   "cell_type": "markdown",
   "id": "85827a38",
   "metadata": {},
   "source": [
    "### Lasso Regularization"
   ]
  },
  {
   "cell_type": "code",
   "execution_count": 16,
   "id": "f7a2dee7",
   "metadata": {},
   "outputs": [
    {
     "data": {
      "text/plain": [
       "['Gender',\n",
       " 'Creatinine [mg/dL]',\n",
       " 'Age',\n",
       " 'LDL_HDL Ratio',\n",
       " 'Retinol [umol/L]',\n",
       " 'Platelet_Lymphocyte Ratio',\n",
       " '25-hydroxyvitamin D2 + D3 [nmol/L]',\n",
       " 'Beta-cryptoxanthin [umol/L]',\n",
       " 'Aspartate Aminotransferase [U/L]',\n",
       " 'Ferritin [ng/mL]',\n",
       " 'Phosphorus [mg/dL]',\n",
       " 'Vitamin C [umol/L]',\n",
       " 'Alanine Aminotransferase [U/L]',\n",
       " 'Alkaline Phosphatase [IU/L]',\n",
       " 'Lutein and zeaxanthin [umol/L]',\n",
       " 'Total Bilirubin [mg/dL]',\n",
       " 'Bicarbonate [mmol/L]',\n",
       " 'Alpha-tocopherol [umol/L]',\n",
       " 'Blood lead [umol/L]',\n",
       " 'Total Lycopene [umol/L]',\n",
       " 'Blood Urea Nitrogen [mg/dL]',\n",
       " 'A/G Ratio',\n",
       " 'Blood selenium [umol/L]',\n",
       " 'Uric Acid [mg/dL]',\n",
       " 'Transferrin receptor [nmol/L]',\n",
       " 'Platelet_WBC Ratio',\n",
       " 'White blood cell count [1000 cells/uL]',\n",
       " 'Iron frozen [umol/L]',\n",
       " 'Iron [ug/dL]',\n",
       " 'Nucleated RBCs']"
      ]
     },
     "execution_count": 16,
     "metadata": {},
     "output_type": "execute_result"
    }
   ],
   "source": [
    "l1_selected_features = ml.log_reg_lasso_select(X_train, y_train)\n",
    "l1_selected_features[:30]"
   ]
  },
  {
   "cell_type": "code",
   "execution_count": 17,
   "id": "1b685cc9",
   "metadata": {},
   "outputs": [
    {
     "name": "stdout",
     "output_type": "stream",
     "text": [
      "\n",
      "Train Accuracy: 0.964\n",
      "\n",
      "Test Accuracy: 0.968\n",
      "\n",
      "Precision: 0.889\n",
      "\n",
      "Recall: 0.261\n",
      "\n",
      "F1-Score: 0.403\n"
     ]
    }
   ],
   "source": [
    "ml.evaluate_feature_set(l1_selected_features[:30], log_reg_test, X_train, y_train, X_val, y_val)"
   ]
  },
  {
   "cell_type": "markdown",
   "id": "a37796b0",
   "metadata": {},
   "source": [
    "### Relief F"
   ]
  },
  {
   "cell_type": "code",
   "execution_count": 18,
   "id": "bfb3ec54",
   "metadata": {},
   "outputs": [],
   "source": [
    "relieff_features = ml.relief_feature_select(30,X,y)"
   ]
  },
  {
   "cell_type": "code",
   "execution_count": 19,
   "id": "fc600c21",
   "metadata": {},
   "outputs": [
    {
     "data": {
      "text/plain": [
       "['Nucleated RBCs',\n",
       " 'Creatinine [mg/dL]',\n",
       " 'Blood Urea Nitrogen [mg/dL]',\n",
       " 'Age',\n",
       " 'Hemoglobin [g/dL]',\n",
       " 'Hematocrit [%]',\n",
       " 'Osmolality [mmol/Kg]',\n",
       " 'Retinol [umol/L]',\n",
       " 'Total Cholesterol [mmol/L]',\n",
       " 'RBC count [million cells/uL]',\n",
       " 'Uric Acid [mg/dL]',\n",
       " 'Non_HDL Ratio',\n",
       " '25-hydroxyvitamin D2 + D3 [nmol/L]',\n",
       " 'Neutrophil_Lymphocyte Ratio',\n",
       " 'Lymphocyte [%]',\n",
       " 'Albumin [g/dL]',\n",
       " 'Gender',\n",
       " 'Transferrin Saturation [%]',\n",
       " 'Chloride [mmol/L]',\n",
       " 'UIBC [umol/L]',\n",
       " 'Glycohemoglobin [%]',\n",
       " 'Red cell distribution width [%]',\n",
       " 'Globulin [g/dL]',\n",
       " 'Total Protein [g/dL]',\n",
       " 'A/G Ratio',\n",
       " 'Segmented neutrophils [%]',\n",
       " 'Total Lycopene [umol/L]',\n",
       " 'Alpha-tocopherol [umol/L]',\n",
       " 'Total Iron Binding Capacity [umol/L]',\n",
       " 'Iron frozen [umol/L]']"
      ]
     },
     "execution_count": 19,
     "metadata": {},
     "output_type": "execute_result"
    }
   ],
   "source": [
    "relieff_features[:30]"
   ]
  },
  {
   "cell_type": "code",
   "execution_count": 20,
   "id": "8f76d0da",
   "metadata": {},
   "outputs": [
    {
     "name": "stdout",
     "output_type": "stream",
     "text": [
      "\n",
      "Train Accuracy: 0.962\n",
      "\n",
      "Test Accuracy: 0.965\n",
      "\n",
      "Precision: 0.889\n",
      "\n",
      "Recall: 0.174\n",
      "\n",
      "F1-Score: 0.291\n"
     ]
    }
   ],
   "source": [
    "ml.evaluate_feature_set(relieff_features[:30], log_reg_test, X_train, y_train, X_val, y_val)"
   ]
  },
  {
   "cell_type": "markdown",
   "id": "281f4770",
   "metadata": {},
   "source": [
    "### Optimal no. of features"
   ]
  },
  {
   "cell_type": "code",
   "execution_count": 21,
   "id": "7da46c27",
   "metadata": {},
   "outputs": [],
   "source": [
    "final_features = list(l1_selected_features) "
   ]
  },
  {
   "cell_type": "code",
   "execution_count": 22,
   "id": "401e3bfd",
   "metadata": {},
   "outputs": [
    {
     "name": "stderr",
     "output_type": "stream",
     "text": [
      "Finding optimal no. of features..: 100%|████████| 85/85 [00:22<00:00,  3.83it/s]"
     ]
    },
    {
     "name": "stdout",
     "output_type": "stream",
     "text": [
      "\n",
      "Maximum accuracy = 0.9649 for 5 features\n"
     ]
    },
    {
     "name": "stderr",
     "output_type": "stream",
     "text": [
      "\n"
     ]
    },
    {
     "data": {
      "image/png": "[encoded data removed]",
      "text/plain": [
       "<Figure size 1000x700 with 1 Axes>"
      ]
     },
     "metadata": {},
     "output_type": "display_data"
    }
   ],
   "source": [
    "# Optimal no. of features\n",
    "\n",
    "ml.plot_num_feature_performance(log_reg_test,  X, y, final_features, scoring='accuracy')"
   ]
  },
  {
   "cell_type": "code",
   "execution_count": 23,
   "id": "4aaf5159",
   "metadata": {},
   "outputs": [
    {
     "name": "stderr",
     "output_type": "stream",
     "text": [
      "Finding optimal no. of features..: 100%|████████| 85/85 [00:27<00:00,  3.14it/s]"
     ]
    },
    {
     "name": "stdout",
     "output_type": "stream",
     "text": [
      "\n",
      "Maximum f1 = 0.3127 for 39 features\n"
     ]
    },
    {
     "name": "stderr",
     "output_type": "stream",
     "text": [
      "\n"
     ]
    },
    {
     "data": {
      "image/png": "[encoded data removed]",
      "text/plain": [
       "<Figure size 1000x700 with 1 Axes>"
      ]
     },
     "metadata": {},
     "output_type": "display_data"
    }
   ],
   "source": [
    "# Optimal no. of features\n",
    "\n",
    "ml.plot_num_feature_performance(log_reg_test,  X, y, final_features, scoring='f1')"
   ]
  },
  {
   "cell_type": "code",
   "execution_count": 24,
   "id": "cdd1c71c",
   "metadata": {},
   "outputs": [
    {
     "name": "stderr",
     "output_type": "stream",
     "text": [
      "Finding optimal no. of features..: 100%|████████| 85/85 [00:22<00:00,  3.75it/s]"
     ]
    },
    {
     "name": "stdout",
     "output_type": "stream",
     "text": [
      "\n",
      "Maximum recall = 0.2020 for 52 features\n"
     ]
    },
    {
     "name": "stderr",
     "output_type": "stream",
     "text": [
      "\n"
     ]
    },
    {
     "data": {
      "image/png": "[encoded data removed]",
      "text/plain": [
       "<Figure size 1000x700 with 1 Axes>"
      ]
     },
     "metadata": {},
     "output_type": "display_data"
    }
   ],
   "source": [
    "# Optimal no. of features\n",
    "\n",
    "ml.plot_num_feature_performance(log_reg_test,  X, y, final_features, scoring='recall')"
   ]
  },
  {
   "cell_type": "code",
   "execution_count": 25,
   "id": "27de64c6",
   "metadata": {},
   "outputs": [],
   "source": [
    "num_features = 39\n",
    "\n",
    "selected = final_features[:num_features]\n",
    "selected.append('Weak/Failing kidneys')\n",
    "\n",
    "weak_kidney_df = weak_kidney_df[selected]"
   ]
  },
  {
   "cell_type": "code",
   "execution_count": 26,
   "id": "5386a09f",
   "metadata": {},
   "outputs": [],
   "source": [
    "# Save feature set\n",
    "\n",
    "feature_dir = \"../Models/Weak kidneys/Feature Sets\"\n",
    "if not ml.os.path.exists(feature_dir):\n",
    "    ml.os.makedirs(feature_dir)\n",
    "\n",
    "with open('../Models/Weak kidneys/Feature Sets/Logistic Regression Features.pkl', 'wb') as f:\n",
    "    ml.pickle.dump(selected, f)"
   ]
  },
  {
   "cell_type": "markdown",
   "id": "cd4a3a33",
   "metadata": {},
   "source": [
    "## Preprocessing"
   ]
  },
  {
   "cell_type": "markdown",
   "id": "32c7f0b2",
   "metadata": {},
   "source": [
    "### Zero Imputation"
   ]
  },
  {
   "cell_type": "code",
   "execution_count": 27,
   "id": "24b09db9",
   "metadata": {},
   "outputs": [],
   "source": [
    "# Imputing null values with zeroes\n",
    "\n",
    "X, y, X_train, X_val, X_test, y_train, y_val, y_test = ml.preprocess_and_split(df = weak_kidney_df, label = 'Weak/Failing kidneys',\n",
    "                                                        impute = True, scale=True,\n",
    "                                                        imputer=ml.SimpleImputer(strategy='constant',fill_value=0),\n",
    "                                                        random_state=42)"
   ]
  },
  {
   "cell_type": "code",
   "execution_count": 28,
   "id": "4c234679",
   "metadata": {},
   "outputs": [
    {
     "name": "stdout",
     "output_type": "stream",
     "text": [
      "\n",
      "Train Accuracy: 0.965\n",
      "\n",
      "Test Accuracy: 0.969\n",
      "\n",
      "Precision: 0.926\n",
      "\n",
      "Recall: 0.272\n",
      "\n",
      "F1-Score: 0.420\n"
     ]
    }
   ],
   "source": [
    "log_reg.fit(X_train, y_train)\n",
    "\n",
    "ml.evaluate_model_metrics(log_reg,X_train,y_train,X_val,y_val)"
   ]
  },
  {
   "cell_type": "markdown",
   "id": "1877522f",
   "metadata": {},
   "source": [
    "### Mode Imputation"
   ]
  },
  {
   "cell_type": "code",
   "execution_count": 29,
   "id": "fcca0b91",
   "metadata": {},
   "outputs": [],
   "source": [
    "# Imputing with most frequent values\n",
    "\n",
    "X, y, X_train, X_val, X_test, y_train, y_val, y_test = ml.preprocess_and_split(df = weak_kidney_df, label = 'Weak/Failing kidneys',\n",
    "                                                              impute = True, scale=True,\n",
    "                                                              imputer=ml.SimpleImputer(strategy='most_frequent'),\n",
    "                                                              random_state=42)"
   ]
  },
  {
   "cell_type": "code",
   "execution_count": 30,
   "id": "43855037",
   "metadata": {},
   "outputs": [
    {
     "name": "stdout",
     "output_type": "stream",
     "text": [
      "\n",
      "Train Accuracy: 0.964\n",
      "\n",
      "Test Accuracy: 0.968\n",
      "\n",
      "Precision: 0.839\n",
      "\n",
      "Recall: 0.283\n",
      "\n",
      "F1-Score: 0.423\n"
     ]
    }
   ],
   "source": [
    "log_reg.fit(X_train, y_train)\n",
    "\n",
    "ml.evaluate_model_metrics(log_reg,X_train,y_train,X_val,y_val)"
   ]
  },
  {
   "cell_type": "markdown",
   "id": "8484c25a",
   "metadata": {},
   "source": [
    "### k-NN Imputation"
   ]
  },
  {
   "cell_type": "code",
   "execution_count": 31,
   "id": "288ec08b",
   "metadata": {},
   "outputs": [],
   "source": [
    "# Imputing missing values with values from the k-nearest neighbors in the feature space\n",
    "\n",
    "X, y, X_train, X_val, X_test, y_train, y_val, y_test = ml.preprocess_and_split(df = weak_kidney_df, label = 'Weak/Failing kidneys',\n",
    "                                                              impute = True, scale=True,\n",
    "                                                              imputer=ml.KNNImputer(n_neighbors=20),\n",
    "                                                              random_state=42)"
   ]
  },
  {
   "cell_type": "code",
   "execution_count": 32,
   "id": "d03244a8",
   "metadata": {},
   "outputs": [
    {
     "name": "stdout",
     "output_type": "stream",
     "text": [
      "\n",
      "Train Accuracy: 0.964\n",
      "\n",
      "Test Accuracy: 0.967\n",
      "\n",
      "Precision: 0.800\n",
      "\n",
      "Recall: 0.261\n",
      "\n",
      "F1-Score: 0.393\n"
     ]
    }
   ],
   "source": [
    "log_reg.fit(X_train, y_train)\n",
    "\n",
    "ml.evaluate_model_metrics(log_reg,X_train,y_train,X_val,y_val)"
   ]
  },
  {
   "cell_type": "markdown",
   "id": "e8c1a99e",
   "metadata": {},
   "source": [
    "### Multiple Imputation by Chained Equations (MICE)"
   ]
  },
  {
   "cell_type": "code",
   "execution_count": 33,
   "id": "d78c9b6a",
   "metadata": {},
   "outputs": [],
   "source": [
    "# Imputes by looking at data from other columns and trying to estimate the best prediction for each missing value.\n",
    "\n",
    "X, y, X_train, X_val, X_test, y_train, y_val, y_test = ml.preprocess_and_split(df = weak_kidney_df, label = 'Weak/Failing kidneys',\n",
    "                                                              impute = True, scale=True,\n",
    "                                                              imputer=ml.IterativeImputer(max_iter=20),\n",
    "                                                              random_state=42)"
   ]
  },
  {
   "cell_type": "code",
   "execution_count": 34,
   "id": "78e0324b",
   "metadata": {},
   "outputs": [
    {
     "name": "stdout",
     "output_type": "stream",
     "text": [
      "\n",
      "Train Accuracy: 0.964\n",
      "\n",
      "Test Accuracy: 0.967\n",
      "\n",
      "Precision: 0.800\n",
      "\n",
      "Recall: 0.261\n",
      "\n",
      "F1-Score: 0.393\n"
     ]
    }
   ],
   "source": [
    "log_reg.fit(X_train, y_train)\n",
    "\n",
    "ml.evaluate_model_metrics(log_reg,X_train,y_train,X_val,y_val)"
   ]
  },
  {
   "cell_type": "markdown",
   "id": "dc71288f",
   "metadata": {},
   "source": [
    "### Median Imputation"
   ]
  },
  {
   "cell_type": "code",
   "execution_count": 35,
   "id": "648640e9",
   "metadata": {},
   "outputs": [],
   "source": [
    "# Imputing with median values\n",
    "\n",
    "X, y, X_train, X_val, X_test, y_train, y_val, y_test = ml.preprocess_and_split(df = weak_kidney_df, label = 'Weak/Failing kidneys',\n",
    "                                                              impute = True, scale=True,\n",
    "                                                              imputer=ml.SimpleImputer(strategy='median'),\n",
    "                                                              random_state=42)"
   ]
  },
  {
   "cell_type": "code",
   "execution_count": 36,
   "id": "188ab3fd",
   "metadata": {},
   "outputs": [
    {
     "name": "stdout",
     "output_type": "stream",
     "text": [
      "\n",
      "Train Accuracy: 0.964\n",
      "\n",
      "Test Accuracy: 0.968\n",
      "\n",
      "Precision: 0.833\n",
      "\n",
      "Recall: 0.272\n",
      "\n",
      "F1-Score: 0.410\n"
     ]
    }
   ],
   "source": [
    "log_reg.fit(X_train, y_train)\n",
    "\n",
    "ml.evaluate_model_metrics(log_reg,X_train,y_train,X_val,y_val)"
   ]
  },
  {
   "cell_type": "markdown",
   "id": "ecf3258f",
   "metadata": {},
   "source": [
    "### Mean Imputation"
   ]
  },
  {
   "cell_type": "code",
   "execution_count": 37,
   "id": "cf825805",
   "metadata": {},
   "outputs": [],
   "source": [
    "# Splitting and Preprocessing data\n",
    "\n",
    "X, y, X_train, X_val, X_test, y_train, y_val, y_test = ml.preprocess_and_split(df = weak_kidney_df, label = 'Weak/Failing kidneys',\n",
    "                                                              impute = True, scale=True,\n",
    "                                                              imputer=ml.SimpleImputer(strategy='mean'),\n",
    "                                                              random_state=42)"
   ]
  },
  {
   "cell_type": "code",
   "execution_count": 38,
   "id": "c4eb9258",
   "metadata": {},
   "outputs": [
    {
     "name": "stdout",
     "output_type": "stream",
     "text": [
      "\n",
      "Train Accuracy: 0.964\n",
      "\n",
      "Test Accuracy: 0.968\n",
      "\n",
      "Precision: 0.833\n",
      "\n",
      "Recall: 0.272\n",
      "\n",
      "F1-Score: 0.410\n"
     ]
    }
   ],
   "source": [
    "log_reg.fit(X_train, y_train)\n",
    "\n",
    "ml.evaluate_model_metrics(log_reg,X_train,y_train,X_val,y_val)"
   ]
  },
  {
   "cell_type": "markdown",
   "id": "5bd39f86",
   "metadata": {},
   "source": [
    "### Dropping Null Values"
   ]
  },
  {
   "cell_type": "code",
   "execution_count": 40,
   "id": "2a0f7318",
   "metadata": {
    "scrolled": true
   },
   "outputs": [],
   "source": [
    "# Drop null values\n",
    "weak_kidney_df_na = weak_kidney_df.dropna()\n",
    "\n",
    "X, y, X_train, X_val, X_test, y_train, y_val, y_test = ml.preprocess_and_split(df = weak_kidney_df_na, label = 'Weak/Failing kidneys',\n",
    "                                                              impute = False, scale=True,\n",
    "                                                              random_state=42)"
   ]
  },
  {
   "cell_type": "code",
   "execution_count": 41,
   "id": "f3c46212",
   "metadata": {},
   "outputs": [
    {
     "name": "stdout",
     "output_type": "stream",
     "text": [
      "\n",
      "Train Accuracy: 0.959\n",
      "\n",
      "Test Accuracy: 0.966\n",
      "\n",
      "Precision: 0.800\n",
      "\n",
      "Recall: 0.333\n",
      "\n",
      "F1-Score: 0.471\n"
     ]
    }
   ],
   "source": [
    "log_reg.fit(X_train, y_train)\n",
    "\n",
    "ml.evaluate_model_metrics(log_reg,X_train,y_train,X_val,y_val)"
   ]
  },
  {
   "cell_type": "markdown",
   "id": "d4f3c7a0",
   "metadata": {},
   "source": [
    "## Oversampling and Undersampling"
   ]
  },
  {
   "cell_type": "markdown",
   "id": "f2ab083d",
   "metadata": {},
   "source": [
    "### Random Oversampling"
   ]
  },
  {
   "cell_type": "code",
   "execution_count": 42,
   "id": "61c3f573",
   "metadata": {
    "scrolled": false
   },
   "outputs": [
    {
     "name": "stdout",
     "output_type": "stream",
     "text": [
      "\n",
      "Train Accuracy: 0.913\n",
      "\n",
      "Test Accuracy: 0.898\n",
      "\n",
      "Precision: 0.296\n",
      "\n",
      "Recall: 0.875\n",
      "\n",
      "F1-Score: 0.442\n"
     ]
    }
   ],
   "source": [
    "X_ros, y_ros = ml.random_over_sample(X_train, y_train)\n",
    "\n",
    "log_reg.fit(X_ros, y_ros)\n",
    "\n",
    "ml.evaluate_model_metrics(log_reg,X_ros, y_ros,X_val, y_val)"
   ]
  },
  {
   "cell_type": "markdown",
   "id": "55cc4ab2",
   "metadata": {},
   "source": [
    "### SMOTE (Synthetic Minority Over-sampling Technique)"
   ]
  },
  {
   "cell_type": "code",
   "execution_count": 43,
   "id": "5ed6c6b3",
   "metadata": {
    "scrolled": false
   },
   "outputs": [
    {
     "name": "stdout",
     "output_type": "stream",
     "text": [
      "\n",
      "Train Accuracy: 0.905\n",
      "\n",
      "Test Accuracy: 0.906\n",
      "\n",
      "Precision: 0.308\n",
      "\n",
      "Recall: 0.833\n",
      "\n",
      "F1-Score: 0.449\n"
     ]
    }
   ],
   "source": [
    "X_smote, y_smote = ml.smote_over_sample(X_train, y_train)\n",
    "\n",
    "log_reg.fit(X_smote, y_smote)\n",
    "\n",
    "ml.evaluate_model_metrics(log_reg,X_smote, y_smote,X_val, y_val)"
   ]
  },
  {
   "cell_type": "markdown",
   "id": "0532ee8b",
   "metadata": {},
   "source": [
    "### Random Undersampling"
   ]
  },
  {
   "cell_type": "code",
   "execution_count": 44,
   "id": "5286090b",
   "metadata": {
    "scrolled": false
   },
   "outputs": [
    {
     "name": "stdout",
     "output_type": "stream",
     "text": [
      "\n",
      "Train Accuracy: 0.868\n",
      "\n",
      "Test Accuracy: 0.780\n",
      "\n",
      "Precision: 0.158\n",
      "\n",
      "Recall: 0.875\n",
      "\n",
      "F1-Score: 0.268\n"
     ]
    }
   ],
   "source": [
    "X_rus, y_rus = ml.random_under_sample(X_train, y_train)\n",
    "\n",
    "log_reg.fit(X_rus, y_rus)\n",
    "\n",
    "ml.evaluate_model_metrics(log_reg,X_rus, y_rus,X_val, y_val)"
   ]
  },
  {
   "cell_type": "markdown",
   "id": "6defa173",
   "metadata": {},
   "source": [
    "### Tomek Links"
   ]
  },
  {
   "cell_type": "code",
   "execution_count": 45,
   "id": "f4fa6ccf",
   "metadata": {
    "scrolled": false
   },
   "outputs": [
    {
     "name": "stdout",
     "output_type": "stream",
     "text": [
      "\n",
      "Train Accuracy: 0.961\n",
      "\n",
      "Test Accuracy: 0.966\n",
      "\n",
      "Precision: 0.800\n",
      "\n",
      "Recall: 0.333\n",
      "\n",
      "F1-Score: 0.471\n"
     ]
    }
   ],
   "source": [
    "X_tomek, y_tomek = ml.tomek_links(X_train, y_train)\n",
    "\n",
    "log_reg.fit(X_tomek, y_tomek)\n",
    "\n",
    "ml.evaluate_model_metrics(log_reg,X_tomek, y_tomek,X_val, y_val)"
   ]
  },
  {
   "cell_type": "markdown",
   "id": "111c9c16",
   "metadata": {},
   "source": [
    "### SMOTE + Tomek Links"
   ]
  },
  {
   "cell_type": "code",
   "execution_count": 46,
   "id": "753149c7",
   "metadata": {
    "scrolled": false
   },
   "outputs": [
    {
     "name": "stdout",
     "output_type": "stream",
     "text": [
      "\n",
      "Train Accuracy: 0.905\n",
      "\n",
      "Test Accuracy: 0.906\n",
      "\n",
      "Precision: 0.308\n",
      "\n",
      "Recall: 0.833\n",
      "\n",
      "F1-Score: 0.449\n"
     ]
    }
   ],
   "source": [
    "X_smote_tomek, y_smote_tomek = ml.smote_tomek(X_train, y_train)\n",
    "\n",
    "log_reg.fit(X_smote_tomek, y_smote_tomek)\n",
    "\n",
    "ml.evaluate_model_metrics(log_reg,X_smote_tomek, y_smote_tomek,X_val, y_val)"
   ]
  },
  {
   "cell_type": "code",
   "execution_count": 47,
   "id": "1f3a2dd8",
   "metadata": {},
   "outputs": [],
   "source": [
    "# tomek provides better results\n",
    "\n",
    "X_train, y_train = X_tomek, y_tomek"
   ]
  },
  {
   "cell_type": "markdown",
   "id": "9bda7751",
   "metadata": {},
   "source": [
    "## Hyperparameter Optimization "
   ]
  },
  {
   "cell_type": "markdown",
   "id": "a8911f34",
   "metadata": {},
   "source": [
    "### Grid Search"
   ]
  },
  {
   "cell_type": "code",
   "execution_count": 48,
   "id": "8bbd1f7f",
   "metadata": {},
   "outputs": [],
   "source": [
    "# Hyperparameters\n",
    "param_grid = {\n",
    "    \n",
    "    'penalty': ['l1', 'l2','None'],\n",
    "    'C': [0.01, 0.1, 1, 10],\n",
    "    'solver': ['newton-cg','saga','lbfgs'],\n",
    "    'max_iter': [100,200,300],\n",
    "    'class_weight': [None, 'balanced'],\n",
    "    'warm_start': [False, True],\n",
    "    \n",
    "}"
   ]
  },
  {
   "cell_type": "code",
   "execution_count": 49,
   "id": "1b862359",
   "metadata": {},
   "outputs": [],
   "source": [
    "grid_best_params, log_reg_grid = ml.grid_search_optimize(log_reg, param_grid, X_train, \n",
    "                                                                y_train, cv=10,scoring='f1')"
   ]
  },
  {
   "cell_type": "code",
   "execution_count": 50,
   "id": "86a4a7b5",
   "metadata": {},
   "outputs": [
    {
     "data": {
      "text/plain": [
       "{'C': 0.1,\n",
       " 'class_weight': 'balanced',\n",
       " 'max_iter': 300,\n",
       " 'penalty': 'l1',\n",
       " 'solver': 'saga',\n",
       " 'warm_start': False}"
      ]
     },
     "execution_count": 50,
     "metadata": {},
     "output_type": "execute_result"
    }
   ],
   "source": [
    "grid_best_params"
   ]
  },
  {
   "cell_type": "code",
   "execution_count": 51,
   "id": "2268aff4",
   "metadata": {},
   "outputs": [
    {
     "name": "stdout",
     "output_type": "stream",
     "text": [
      "\n",
      "Train Accuracy: 0.886\n",
      "\n",
      "Test Accuracy: 0.908\n",
      "\n",
      "Precision: 0.312\n",
      "\n",
      "Recall: 0.833\n",
      "\n",
      "F1-Score: 0.455\n"
     ]
    }
   ],
   "source": [
    "ml.evaluate_model_metrics(log_reg_grid,X_train,y_train,X_val,y_val)"
   ]
  },
  {
   "cell_type": "markdown",
   "id": "8458e5a6",
   "metadata": {},
   "source": [
    "### Random Search"
   ]
  },
  {
   "cell_type": "code",
   "execution_count": 52,
   "id": "cc4fcfeb",
   "metadata": {},
   "outputs": [],
   "source": [
    "rand_best_params, log_reg_rand = ml.random_search_optimize(log_reg,param_grid,n_iter=100,cv=5,\n",
    "                                                               X_train=X_train, y_train=y_train,\n",
    "                                                               scoring='accuracy')"
   ]
  },
  {
   "cell_type": "code",
   "execution_count": 53,
   "id": "a3aca564",
   "metadata": {},
   "outputs": [
    {
     "data": {
      "text/plain": [
       "{'warm_start': True,\n",
       " 'solver': 'saga',\n",
       " 'penalty': 'l1',\n",
       " 'max_iter': 300,\n",
       " 'class_weight': None,\n",
       " 'C': 0.1}"
      ]
     },
     "execution_count": 53,
     "metadata": {},
     "output_type": "execute_result"
    }
   ],
   "source": [
    "rand_best_params"
   ]
  },
  {
   "cell_type": "code",
   "execution_count": 54,
   "id": "0c27dea7",
   "metadata": {},
   "outputs": [
    {
     "name": "stdout",
     "output_type": "stream",
     "text": [
      "\n",
      "Train Accuracy: 0.957\n",
      "\n",
      "Test Accuracy: 0.964\n",
      "\n",
      "Precision: 0.778\n",
      "\n",
      "Recall: 0.292\n",
      "\n",
      "F1-Score: 0.424\n"
     ]
    }
   ],
   "source": [
    "ml.evaluate_model_metrics(log_reg_rand,X_train,y_train,X_val,y_val)"
   ]
  },
  {
   "cell_type": "markdown",
   "id": "7d6294a4",
   "metadata": {},
   "source": [
    "### Optuna"
   ]
  },
  {
   "cell_type": "code",
   "execution_count": 55,
   "id": "ae722921",
   "metadata": {},
   "outputs": [],
   "source": [
    "def objective(trial):\n",
    "    \n",
    "    # Hyperparameter search space\n",
    "    penalty = trial.suggest_categorical('penalty', ['l1', 'l2'])\n",
    "    C = trial.suggest_loguniform('C', 1e-5, 1e5)\n",
    "    solver = trial.suggest_categorical('solver', ['newton-cg', 'saga', 'lbfgs',\n",
    "                                                  'liblinear','sag'])\n",
    "    if (penalty == \"l1\" and solver not in [\"liblinear\", \"saga\"]) or (penalty == \"elasticnet\" and solver not in [\"saga\"]) or penalty=='none' and solver in ['liblinear']:\n",
    "        return 0\n",
    "    max_iter = trial.suggest_int('max_iter', 100, 300, 500)\n",
    "    class_weight = trial.suggest_categorical('class_weight', [None, 'balanced'])\n",
    "    warm_start = trial.suggest_categorical('warm_start', [False, True])\n",
    "    fit_intercept = trial.suggest_categorical('fit_intercept', [False, True])\n",
    "\n",
    "    model = ml.LogisticRegression(\n",
    "        penalty=penalty, C=C, solver=solver, max_iter=max_iter,\n",
    "        class_weight=class_weight, warm_start=warm_start, fit_intercept=fit_intercept\n",
    "    )\n",
    "    model.fit(X_train, y_train)\n",
    "\n",
    "    y_pred = model.predict(X_test)\n",
    "\n",
    "    f1 = ml.f1_score(y_test, y_pred)\n",
    "\n",
    "    return f1"
   ]
  },
  {
   "cell_type": "code",
   "execution_count": 56,
   "id": "e7e379fd",
   "metadata": {},
   "outputs": [],
   "source": [
    "best_trial , log_reg_opt = ml.optuna_optimize(objective, ml.LogisticRegression, n_trials=150)"
   ]
  },
  {
   "cell_type": "code",
   "execution_count": 57,
   "id": "b9b8c5b6",
   "metadata": {},
   "outputs": [
    {
     "data": {
      "text/plain": [
       "{'penalty': 'l1',\n",
       " 'C': 0.0030422596571012383,\n",
       " 'solver': 'saga',\n",
       " 'max_iter': 100,\n",
       " 'class_weight': 'balanced',\n",
       " 'warm_start': False,\n",
       " 'fit_intercept': True}"
      ]
     },
     "execution_count": 57,
     "metadata": {},
     "output_type": "execute_result"
    }
   ],
   "source": [
    "best_trial"
   ]
  },
  {
   "cell_type": "code",
   "execution_count": 58,
   "id": "9e3a828c",
   "metadata": {},
   "outputs": [
    {
     "name": "stdout",
     "output_type": "stream",
     "text": [
      "\n",
      "Train Accuracy: 0.951\n",
      "\n",
      "Test Accuracy: 0.946\n",
      "\n",
      "Precision: 0.423\n",
      "\n",
      "Recall: 0.458\n",
      "\n",
      "F1-Score: 0.440\n"
     ]
    }
   ],
   "source": [
    "log_reg_opt.fit(X_train,y_train)\n",
    "\n",
    "ml.evaluate_model_metrics(log_reg_opt,X_train,y_train,X_val,y_val)"
   ]
  },
  {
   "cell_type": "markdown",
   "id": "0d9910b8",
   "metadata": {},
   "source": [
    "## Evaluation on Test Set"
   ]
  },
  {
   "cell_type": "code",
   "execution_count": 59,
   "id": "d53424ec",
   "metadata": {},
   "outputs": [
    {
     "name": "stdout",
     "output_type": "stream",
     "text": [
      "\n",
      "Train Accuracy: 0.894\n",
      "\n",
      "Test Accuracy: 0.877\n",
      "\n",
      "Precision: 0.294\n",
      "\n",
      "Recall: 0.862\n",
      "\n",
      "F1-Score: 0.439\n",
      "\n",
      "Confusion Matrix:\n",
      "\n",
      "[[433  60]\n",
      " [  4  25]]\n",
      "\n",
      "\n",
      "Classification Report:\n",
      "\n",
      "              precision    recall  f1-score   support\n",
      "\n",
      "     Class 0       0.99      0.88      0.93       493\n",
      "     Class 1       0.29      0.86      0.44        29\n",
      "\n",
      "    accuracy                           0.88       522\n",
      "   macro avg       0.64      0.87      0.68       522\n",
      "weighted avg       0.95      0.88      0.90       522\n",
      "\n",
      "\n",
      "ROC-AUC Curve:\n"
     ]
    },
    {
     "data": {
      "image/png": "[encoded data removed]",
      "text/plain": [
       "<Figure size 600x400 with 1 Axes>"
      ]
     },
     "metadata": {},
     "output_type": "display_data"
    }
   ],
   "source": [
    "# After evaluating on the validation set, we evaluate and finalize on the test set\n",
    "\n",
    "ml.evaluate_model_metrics(log_reg, X_train, y_train, X_test, y_test, verbose=6)"
   ]
  },
  {
   "cell_type": "markdown",
   "id": "e7b5c88c",
   "metadata": {},
   "source": [
    "## Cross Validation"
   ]
  },
  {
   "cell_type": "markdown",
   "id": "7e539fb9",
   "metadata": {},
   "source": [
    "### K-fold"
   ]
  },
  {
   "cell_type": "code",
   "execution_count": 60,
   "id": "e77a24f0",
   "metadata": {},
   "outputs": [
    {
     "name": "stdout",
     "output_type": "stream",
     "text": [
      "\n",
      "accuracy scores: [0.96183206 0.92366412 0.95419847 0.93129771 0.96946565 0.94615385\n",
      " 0.94615385 0.96923077 0.94615385 0.96153846]\n",
      "\n",
      "Mean accuracy score:  0.9509688784497945\n",
      "\n",
      "Standard deviation:  0.014552802042480571\n"
     ]
    }
   ],
   "source": [
    "ml.k_cross_validate(log_reg,X,y,cv=10,scoring='accuracy')"
   ]
  },
  {
   "cell_type": "code",
   "execution_count": 61,
   "id": "4aad10b7",
   "metadata": {},
   "outputs": [
    {
     "name": "stdout",
     "output_type": "stream",
     "text": [
      "\n",
      "accuracy scores: [0.87022901 0.82442748 0.85496183 0.87022901 0.80152672 0.84615385\n",
      " 0.9        0.89230769 0.88461538 0.87692308]\n",
      "\n",
      "Mean accuracy score:  0.8621374045801528\n",
      "\n",
      "Standard deviation:  0.029327977890779705\n"
     ]
    }
   ],
   "source": [
    "ml.k_cross_validate(log_reg_grid,X,y,cv=10,scoring='accuracy')"
   ]
  },
  {
   "cell_type": "code",
   "execution_count": 62,
   "id": "fa6ff1f4",
   "metadata": {},
   "outputs": [
    {
     "name": "stdout",
     "output_type": "stream",
     "text": [
      "\n",
      "accuracy scores: [0.96183206 0.9389313  0.9389313  0.96183206 0.95419847 0.94615385\n",
      " 0.93846154 0.96923077 0.94615385 0.96153846]\n",
      "\n",
      "Mean accuracy score:  0.9517263652378156\n",
      "\n",
      "Standard deviation:  0.01085602119089895\n"
     ]
    }
   ],
   "source": [
    "ml.k_cross_validate(log_reg_rand,X,y,cv=10,scoring='accuracy')"
   ]
  },
  {
   "cell_type": "code",
   "execution_count": 63,
   "id": "46f81577",
   "metadata": {},
   "outputs": [
    {
     "name": "stdout",
     "output_type": "stream",
     "text": [
      "\n",
      "accuracy scores: [0.83969466 0.83969466 0.92366412 0.92366412 0.91603053 0.93076923\n",
      " 0.9        0.90769231 0.91538462 0.83846154]\n",
      "\n",
      "Mean accuracy score:  0.8935055783910746\n",
      "\n",
      "Standard deviation:  0.03641186479046507\n"
     ]
    }
   ],
   "source": [
    "ml.k_cross_validate(log_reg_opt,X,y,cv=10,scoring='accuracy')"
   ]
  },
  {
   "cell_type": "markdown",
   "id": "ad831ffc",
   "metadata": {},
   "source": [
    "### Stratified K-fold"
   ]
  },
  {
   "cell_type": "code",
   "execution_count": 64,
   "id": "29a48b89",
   "metadata": {},
   "outputs": [
    {
     "name": "stdout",
     "output_type": "stream",
     "text": [
      "\n",
      "Average Accuracy: 0.9486611861421022\n",
      "\n",
      "Average Precision: 0.5666666666666667\n",
      "\n",
      "Average Recall: 0.24285714285714283\n",
      "\n",
      "Average F1-Score: 0.3255050505050505\n"
     ]
    }
   ],
   "source": [
    "ml.stratified_k_cross_validate(log_reg,X,y,n_splits=10)"
   ]
  },
  {
   "cell_type": "code",
   "execution_count": 65,
   "id": "e0f6f6d6",
   "metadata": {},
   "outputs": [
    {
     "name": "stdout",
     "output_type": "stream",
     "text": [
      "\n",
      "Average Accuracy: 0.8566588373458602\n",
      "\n",
      "Average Precision: 0.23078459945851248\n",
      "\n",
      "Average Recall: 0.6857142857142857\n",
      "\n",
      "Average F1-Score: 0.3420003506311361\n"
     ]
    }
   ],
   "source": [
    "ml.stratified_k_cross_validate(log_reg_grid,X,y,n_splits=10)"
   ]
  },
  {
   "cell_type": "code",
   "execution_count": 66,
   "id": "5aa2c58d",
   "metadata": {},
   "outputs": [
    {
     "name": "stdout",
     "output_type": "stream",
     "text": [
      "\n",
      "Average Accuracy: 0.9524897240164416\n",
      "\n",
      "Average Precision: 0.5583333333333333\n",
      "\n",
      "Average Recall: 0.19999999999999998\n",
      "\n",
      "Average F1-Score: 0.2847979797979798\n"
     ]
    }
   ],
   "source": [
    "ml.stratified_k_cross_validate(log_reg_rand,X,y,n_splits=10)"
   ]
  },
  {
   "cell_type": "code",
   "execution_count": 67,
   "id": "2c1453da",
   "metadata": {},
   "outputs": [
    {
     "name": "stdout",
     "output_type": "stream",
     "text": [
      "\n",
      "Average Accuracy: 0.8912037580739872\n",
      "\n",
      "Average Precision: 0.27229601624725464\n",
      "\n",
      "Average Recall: 0.5714285714285714\n",
      "\n",
      "Average F1-Score: 0.364261736653041\n"
     ]
    }
   ],
   "source": [
    "ml.stratified_k_cross_validate(log_reg_opt,X,y,n_splits=10)"
   ]
  },
  {
   "cell_type": "markdown",
   "id": "7a471ca4",
   "metadata": {},
   "source": [
    "### Save Model"
   ]
  },
  {
   "cell_type": "code",
   "execution_count": 68,
   "id": "6e89475b",
   "metadata": {},
   "outputs": [],
   "source": [
    "final_log_reg_estimator = log_reg"
   ]
  },
  {
   "cell_type": "code",
   "execution_count": 69,
   "id": "ea9c37ae",
   "metadata": {},
   "outputs": [
    {
     "name": "stdout",
     "output_type": "stream",
     "text": [
      "Saved Model\n"
     ]
    }
   ],
   "source": [
    "# Saving the model\n",
    "\n",
    "ml.save_model(final_log_reg_estimator, \"../Models/Weak kidneys/Logistic_Regression.pkl\")"
   ]
  },
  {
   "cell_type": "markdown",
   "id": "de59f229",
   "metadata": {},
   "source": [
    "## Prediction"
   ]
  },
  {
   "cell_type": "code",
   "execution_count": 199,
   "id": "67af8316",
   "metadata": {},
   "outputs": [
    {
     "name": "stdout",
     "output_type": "stream",
     "text": [
      "Instance:\n",
      " [ 0.         -0.50074717 -1.58993843  0.09844599  0.27523943  0.48409339\n",
      " -0.95148708 -0.21148079 -0.96786329 -0.76865347 -0.94201289 -1.18001348\n",
      " -1.03154332 -0.99778592 -0.46350449 -0.77159631  0.00677171 -0.7987746\n",
      " -0.16436267  1.12177411 -1.20721666 -0.25639701 -1.17814819 -1.19671749\n",
      " -0.31902124 -0.13873391 -0.29293582 -0.12530721 -0.01238296 -1.09769077\n",
      " -0.19938336 -0.28552678 -1.3652042   0.41670787  0.29725817 -0.34773776\n",
      " -0.30844109 -0.29372788  0.72278572]\n",
      "\n",
      "Expected Class:  0\n",
      "\n",
      " Modified Instance:\n",
      " [ 0.         -0.75278415 -1.56249581 -0.1206565   0.29039143  0.41036823\n",
      " -0.89880797 -0.06046177 -0.75852363 -0.91118708 -0.66049754 -1.23600484\n",
      " -0.79153277 -0.71610552 -0.35340876 -0.78764623  0.15656181 -0.91220055\n",
      " -0.28587378  1.29117948 -1.36628578 -0.27881866 -1.36414148 -1.55650027\n",
      " -0.19829381 -0.11856153 -0.3966414   0.01163043 -0.04146979 -0.97293913\n",
      " -0.23444615 -0.44714135 -1.50164749  0.48767922  0.28576322 -0.43883753\n",
      " -0.50130503 -0.15023278  0.71130241]\n",
      "\n",
      "Predicted Class:  [0]\n"
     ]
    }
   ],
   "source": [
    "# Predicting on perturbed values\n",
    "sc = ml.np.random.rand()\n",
    "\n",
    "ml.predict_on_modified_instance(final_log_reg_estimator, X_test.iloc[0], y_test.iloc[0], sc)"
   ]
  },
  {
   "cell_type": "code",
   "execution_count": 200,
   "id": "ebca53ab",
   "metadata": {},
   "outputs": [
    {
     "name": "stdout",
     "output_type": "stream",
     "text": [
      "Instance:\n",
      " [ 0.          0.28796657  0.38112882 -1.62021762  1.0540063  -1.11817539\n",
      "  0.0722913  -0.622449    0.3592574  -0.62378655  0.74746089  1.33123808\n",
      " -0.18174106  0.38728881 -0.64691607 -0.00659484 -0.82495302 -0.80961529\n",
      "  1.03770126 -1.39222298  0.56167344  0.367199   -0.48701499  0.05562164\n",
      " -0.38048591 -1.21685913  2.18884447 -0.35296293 -0.36257186  0.13455564\n",
      " -1.66117936  0.49892048 -0.5604611  -0.02364537 -0.11535276 -1.19332367\n",
      "  0.36902615 -0.120811    0.72278572]\n",
      "\n",
      "Expected Class:  1\n",
      "\n",
      " Modified Instance:\n",
      " [ 0.          0.46382789  0.2531155  -1.68375835  1.24635428 -1.13673367\n",
      " -0.04557265 -0.66072832  0.34277531 -0.65049017  0.87927953  1.73798454\n",
      " -0.10993337  0.2845336  -0.72735243  0.18838712 -1.07973164 -0.89882323\n",
      "  0.97302862 -1.73760418  0.5830683   0.19805042 -0.40393825 -0.13084415\n",
      " -0.39524504 -1.10147133  2.1513612  -0.27809448 -0.22889204  0.30830741\n",
      " -1.51196612  0.33697789 -0.56529391  0.25325779  0.05713923 -0.76164196\n",
      "  0.42416273 -0.26903242  0.37886167]\n",
      "\n",
      "Predicted Class:  [0]\n"
     ]
    }
   ],
   "source": [
    "ml.predict_on_modified_instance(final_log_reg_estimator, X_test.iloc[28], y_test.iloc[28], sc)"
   ]
  },
  {
   "cell_type": "code",
   "execution_count": 201,
   "id": "5d795e32",
   "metadata": {},
   "outputs": [
    {
     "name": "stdout",
     "output_type": "stream",
     "text": [
      "Instance:\n",
      " [ 0.          2.84271325  1.66660746 -0.7824057   0.6537835  -0.23538547\n",
      "  2.23131964 -0.56099581 -0.55951847 -0.2400163   0.55974158  0.91210913\n",
      " -1.03154332 -1.33469598 -0.30956978  0.37590589 -0.40909066 -0.71195569\n",
      "  0.88744327 -1.35745494  2.33056353 -0.35697702 -0.02625953  2.29664954\n",
      " -0.16299552 -0.8348748   0.83910431 -0.74322988 -0.56684871  0.13455564\n",
      " -1.00072936  0.23743806  0.30280877  0.39769523  0.50424004 -0.62959973\n",
      " -0.04669238 -0.27699399  0.42825477]\n",
      "\n",
      "Expected Class:  1\n",
      "\n",
      " Modified Instance:\n",
      " [ 0.          2.97781861  1.51130181 -0.64804922  0.73963401 -0.08488583\n",
      "  2.10159051 -0.47288847 -0.62701219 -0.02555819  0.74042067  1.09915869\n",
      " -1.18270081 -1.56635337 -0.51246781  0.19084938 -0.40445087 -0.6911493\n",
      "  1.02024093 -1.25531237  2.42862668 -0.43700826  0.13901257  2.48825545\n",
      "  0.03861589 -0.92168231  0.9957559  -0.67103692 -0.56747712  0.23184871\n",
      " -0.98820986  0.33103317  0.39584931  0.41576268  0.42792738 -0.58659572\n",
      "  0.09043769 -0.10659955  0.35856949]\n",
      "\n",
      "Predicted Class:  [1]\n"
     ]
    }
   ],
   "source": [
    "ml.predict_on_modified_instance(final_log_reg_estimator, X_test.iloc[97], y_test.iloc[97], sc)"
   ]
  }
 ],
 "metadata": {
  "kernelspec": {
   "display_name": "Python 3 (ipykernel)",
   "language": "python",
   "name": "python3"
  },
  "language_info": {
   "codemirror_mode": {
    "name": "ipython",
    "version": 3
   },
   "file_extension": ".py",
   "mimetype": "text/x-python",
   "name": "python",
   "nbconvert_exporter": "python",
   "pygments_lexer": "ipython3",
   "version": "3.10.12"
  }
 },
 "nbformat": 4,
 "nbformat_minor": 5
}
