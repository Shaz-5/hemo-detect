{
 "cells": [
  {
   "cell_type": "markdown",
   "id": "4f0b484d-673e-49bb-99c5-5255a414219b",
   "metadata": {},
   "source": [
    "# Feature Engineering"
   ]
  },
  {
   "cell_type": "code",
   "execution_count": 27,
   "id": "eb20459f",
   "metadata": {},
   "outputs": [],
   "source": [
    "import pandas as pd"
   ]
  },
  {
   "cell_type": "code",
   "execution_count": 28,
   "id": "192ca210",
   "metadata": {},
   "outputs": [
    {
     "data": {
      "text/html": [
       "<div>\n",
       "<style scoped>\n",
       "    .dataframe tbody tr th:only-of-type {\n",
       "        vertical-align: middle;\n",
       "    }\n",
       "\n",
       "    .dataframe tbody tr th {\n",
       "        vertical-align: top;\n",
       "    }\n",
       "\n",
       "    .dataframe thead th {\n",
       "        text-align: right;\n",
       "    }\n",
       "</style>\n",
       "<table border=\"1\" class=\"dataframe\">\n",
       "  <thead>\n",
       "    <tr style=\"text-align: right;\">\n",
       "      <th></th>\n",
       "      <th>Respondent ID</th>\n",
       "      <th>Gender</th>\n",
       "      <th>Age</th>\n",
       "      <th>BMI</th>\n",
       "      <th>Chromium [nmol/L]</th>\n",
       "      <th>Cobalt [nmol/L]</th>\n",
       "      <th>Ferritin [ng/mL]</th>\n",
       "      <th>Iron frozen [umol/L]</th>\n",
       "      <th>UIBC [umol/L]</th>\n",
       "      <th>Total Iron Binding Capacity [umol/L]</th>\n",
       "      <th>...</th>\n",
       "      <th>Cancer</th>\n",
       "      <th>Cancer_Type</th>\n",
       "      <th>Anemia</th>\n",
       "      <th>Heart_Attack</th>\n",
       "      <th>Hepatitis C</th>\n",
       "      <th>Gestational diabetes</th>\n",
       "      <th>Diabetes</th>\n",
       "      <th>Weak/Failing kidneys</th>\n",
       "      <th>Hepatitis A antibody</th>\n",
       "      <th>Hepatitis B core antibody</th>\n",
       "    </tr>\n",
       "  </thead>\n",
       "  <tbody>\n",
       "    <tr>\n",
       "      <th>0</th>\n",
       "      <td>93703.0</td>\n",
       "      <td>0.0</td>\n",
       "      <td>2.0</td>\n",
       "      <td>17.5</td>\n",
       "      <td>6.787297</td>\n",
       "      <td>3.653375</td>\n",
       "      <td>133.394928</td>\n",
       "      <td>15.448058</td>\n",
       "      <td>43.34484</td>\n",
       "      <td>58.796572</td>\n",
       "      <td>...</td>\n",
       "      <td>NaN</td>\n",
       "      <td>NaN</td>\n",
       "      <td>2.0</td>\n",
       "      <td>NaN</td>\n",
       "      <td>NaN</td>\n",
       "      <td>NaN</td>\n",
       "      <td>2.0</td>\n",
       "      <td>NaN</td>\n",
       "      <td>NaN</td>\n",
       "      <td>NaN</td>\n",
       "    </tr>\n",
       "    <tr>\n",
       "      <th>1</th>\n",
       "      <td>93704.0</td>\n",
       "      <td>1.0</td>\n",
       "      <td>2.0</td>\n",
       "      <td>15.7</td>\n",
       "      <td>6.787297</td>\n",
       "      <td>3.653375</td>\n",
       "      <td>36.600000</td>\n",
       "      <td>15.448058</td>\n",
       "      <td>43.34484</td>\n",
       "      <td>58.796572</td>\n",
       "      <td>...</td>\n",
       "      <td>NaN</td>\n",
       "      <td>NaN</td>\n",
       "      <td>2.0</td>\n",
       "      <td>NaN</td>\n",
       "      <td>NaN</td>\n",
       "      <td>NaN</td>\n",
       "      <td>2.0</td>\n",
       "      <td>NaN</td>\n",
       "      <td>1.0</td>\n",
       "      <td>NaN</td>\n",
       "    </tr>\n",
       "    <tr>\n",
       "      <th>2</th>\n",
       "      <td>93705.0</td>\n",
       "      <td>0.0</td>\n",
       "      <td>66.0</td>\n",
       "      <td>31.7</td>\n",
       "      <td>5.580000</td>\n",
       "      <td>3.390000</td>\n",
       "      <td>28.700000</td>\n",
       "      <td>16.500000</td>\n",
       "      <td>41.73000</td>\n",
       "      <td>58.210000</td>\n",
       "      <td>...</td>\n",
       "      <td>2.0</td>\n",
       "      <td>NaN</td>\n",
       "      <td>2.0</td>\n",
       "      <td>2.0</td>\n",
       "      <td>2.0</td>\n",
       "      <td>2.0</td>\n",
       "      <td>2.0</td>\n",
       "      <td>2.0</td>\n",
       "      <td>1.0</td>\n",
       "      <td>1.0</td>\n",
       "    </tr>\n",
       "    <tr>\n",
       "      <th>3</th>\n",
       "      <td>93706.0</td>\n",
       "      <td>1.0</td>\n",
       "      <td>18.0</td>\n",
       "      <td>21.5</td>\n",
       "      <td>6.787297</td>\n",
       "      <td>3.653375</td>\n",
       "      <td>284.000000</td>\n",
       "      <td>29.400000</td>\n",
       "      <td>27.76000</td>\n",
       "      <td>57.130000</td>\n",
       "      <td>...</td>\n",
       "      <td>NaN</td>\n",
       "      <td>NaN</td>\n",
       "      <td>2.0</td>\n",
       "      <td>NaN</td>\n",
       "      <td>2.0</td>\n",
       "      <td>NaN</td>\n",
       "      <td>2.0</td>\n",
       "      <td>NaN</td>\n",
       "      <td>2.0</td>\n",
       "      <td>2.0</td>\n",
       "    </tr>\n",
       "    <tr>\n",
       "      <th>4</th>\n",
       "      <td>93707.0</td>\n",
       "      <td>1.0</td>\n",
       "      <td>13.0</td>\n",
       "      <td>18.1</td>\n",
       "      <td>6.787297</td>\n",
       "      <td>3.653375</td>\n",
       "      <td>49.300000</td>\n",
       "      <td>16.300000</td>\n",
       "      <td>60.89000</td>\n",
       "      <td>77.190000</td>\n",
       "      <td>...</td>\n",
       "      <td>NaN</td>\n",
       "      <td>NaN</td>\n",
       "      <td>2.0</td>\n",
       "      <td>NaN</td>\n",
       "      <td>2.0</td>\n",
       "      <td>NaN</td>\n",
       "      <td>2.0</td>\n",
       "      <td>NaN</td>\n",
       "      <td>2.0</td>\n",
       "      <td>2.0</td>\n",
       "    </tr>\n",
       "  </tbody>\n",
       "</table>\n",
       "<p>5 rows × 97 columns</p>\n",
       "</div>"
      ],
      "text/plain": [
       "   Respondent ID  Gender   Age   BMI  Chromium [nmol/L]  Cobalt [nmol/L]  \\\n",
       "0        93703.0     0.0   2.0  17.5           6.787297         3.653375   \n",
       "1        93704.0     1.0   2.0  15.7           6.787297         3.653375   \n",
       "2        93705.0     0.0  66.0  31.7           5.580000         3.390000   \n",
       "3        93706.0     1.0  18.0  21.5           6.787297         3.653375   \n",
       "4        93707.0     1.0  13.0  18.1           6.787297         3.653375   \n",
       "\n",
       "   Ferritin [ng/mL]  Iron frozen [umol/L]  UIBC [umol/L]  \\\n",
       "0        133.394928             15.448058       43.34484   \n",
       "1         36.600000             15.448058       43.34484   \n",
       "2         28.700000             16.500000       41.73000   \n",
       "3        284.000000             29.400000       27.76000   \n",
       "4         49.300000             16.300000       60.89000   \n",
       "\n",
       "   Total Iron Binding Capacity [umol/L]  ...  Cancer  Cancer_Type  Anemia  \\\n",
       "0                             58.796572  ...     NaN          NaN     2.0   \n",
       "1                             58.796572  ...     NaN          NaN     2.0   \n",
       "2                             58.210000  ...     2.0          NaN     2.0   \n",
       "3                             57.130000  ...     NaN          NaN     2.0   \n",
       "4                             77.190000  ...     NaN          NaN     2.0   \n",
       "\n",
       "   Heart_Attack  Hepatitis C  Gestational diabetes  Diabetes  \\\n",
       "0           NaN          NaN                   NaN       2.0   \n",
       "1           NaN          NaN                   NaN       2.0   \n",
       "2           2.0          2.0                   2.0       2.0   \n",
       "3           NaN          2.0                   NaN       2.0   \n",
       "4           NaN          2.0                   NaN       2.0   \n",
       "\n",
       "   Weak/Failing kidneys  Hepatitis A antibody  Hepatitis B core antibody  \n",
       "0                   NaN                   NaN                        NaN  \n",
       "1                   NaN                   1.0                        NaN  \n",
       "2                   2.0                   1.0                        1.0  \n",
       "3                   NaN                   2.0                        2.0  \n",
       "4                   NaN                   2.0                        2.0  \n",
       "\n",
       "[5 rows x 97 columns]"
      ]
     },
     "execution_count": 28,
     "metadata": {},
     "output_type": "execute_result"
    }
   ],
   "source": [
    "final_df = pd.read_csv('../Dataset/final_df.csv')\n",
    "final_df.head()"
   ]
  },
  {
   "cell_type": "markdown",
   "id": "5afb8678",
   "metadata": {},
   "source": [
    "# Feature Engineering"
   ]
  },
  {
   "cell_type": "markdown",
   "id": "950386f3",
   "metadata": {},
   "source": [
    "Feature engineering is the art of transforming raw data into meaningful and informative features that empower machine learning algorithms to perform better. It's an iterative process that draws from domain knowledge and statistical insights to extract the most relevant information from your dataset, ultimately enhancing model accuracy and predictive power."
   ]
  },
  {
   "cell_type": "markdown",
   "id": "6f12fb2c",
   "metadata": {},
   "source": [
    "## A/G Ratio"
   ]
  },
  {
   "cell_type": "code",
   "execution_count": 29,
   "id": "5ad8d165",
   "metadata": {},
   "outputs": [
    {
     "data": {
      "text/plain": [
       "0       1.321159\n",
       "1       1.321159\n",
       "2       1.517241\n",
       "3       1.629630\n",
       "4       1.857143\n",
       "          ...   \n",
       "8892    1.846154\n",
       "8893    1.142857\n",
       "8894    1.500000\n",
       "8895    1.205882\n",
       "8896    1.482759\n",
       "Name: A/G Ratio, Length: 8897, dtype: float64"
      ]
     },
     "execution_count": 29,
     "metadata": {},
     "output_type": "execute_result"
    }
   ],
   "source": [
    "# We can do some feature engineering by creating new features from existing ones\n",
    "\n",
    "# One such feature is the Albumin Globulin (A/G) Ratio\n",
    "# A/G Ratio = Albumin in g/dL / (Total Protein in g/dL – Albumin in g/dL)\n",
    "# Total Protein in g/dL – Albumin in g/dL = Globulin in g/dL\n",
    "# This ratio is a measure of liver and kidney function\n",
    "\n",
    "final_df['A/G Ratio'] = final_df['Albumin [g/dL]']/final_df['Globulin [g/dL]']\n",
    "final_df['A/G Ratio']"
   ]
  },
  {
   "cell_type": "code",
   "execution_count": 30,
   "id": "916358ec",
   "metadata": {},
   "outputs": [
    {
     "data": {
      "text/plain": [
       "count    8897.000000\n",
       "mean        1.341679\n",
       "std         0.202990\n",
       "min         0.403846\n",
       "25%         1.266667\n",
       "50%         1.321159\n",
       "75%         1.419355\n",
       "max         2.571429\n",
       "Name: A/G Ratio, dtype: float64"
      ]
     },
     "execution_count": 30,
     "metadata": {},
     "output_type": "execute_result"
    }
   ],
   "source": [
    "final_df['A/G Ratio'].describe()"
   ]
  },
  {
   "cell_type": "markdown",
   "id": "ffef22f3",
   "metadata": {},
   "source": [
    "## Cholestrol Ratios"
   ]
  },
  {
   "cell_type": "markdown",
   "id": "d727a4dd",
   "metadata": {},
   "source": [
    "### Non-HDL Ratio"
   ]
  },
  {
   "cell_type": "code",
   "execution_count": 31,
   "id": "3cc8b6ae",
   "metadata": {},
   "outputs": [
    {
     "data": {
      "text/plain": [
       "0       126.497004\n",
       "1       126.497004\n",
       "2        97.061098\n",
       "3       100.928074\n",
       "4       121.036350\n",
       "           ...    \n",
       "8892     59.164733\n",
       "8893    133.023975\n",
       "8894    117.942769\n",
       "8895    116.009281\n",
       "8896    129.156999\n",
       "Name: Non_HDL Ratio, Length: 8897, dtype: float64"
      ]
     },
     "execution_count": 31,
     "metadata": {},
     "output_type": "execute_result"
    }
   ],
   "source": [
    "# Cholesterol ratios can help calculate a person’s risk of stroke and heart attack due to cholesterol.\n",
    "\n",
    "# Non-HDL cholesterol level may be a better risk predictor than your total cholesterol level or even your LDL\n",
    "# We calculate the ratio after converting mmol/L to mg/dL\n",
    "# We do the conversion by dividing it with 0.02586 (which is given in the NHANES documentation)\n",
    "\n",
    "final_df['Non_HDL Ratio'] = (final_df['Total Cholesterol [mmol/L]']/0.02586) - (final_df['Direct HDL-Cholesterol [mmol/L]']/0.02586)\n",
    "final_df['Non_HDL Ratio']"
   ]
  },
  {
   "cell_type": "code",
   "execution_count": 32,
   "id": "fdf00da6",
   "metadata": {},
   "outputs": [
    {
     "data": {
      "text/plain": [
       "count    8897.000000\n",
       "mean      126.497004\n",
       "std        35.309817\n",
       "min        22.041763\n",
       "25%       104.795050\n",
       "50%       126.497004\n",
       "75%       139.984532\n",
       "max       408.352668\n",
       "Name: Non_HDL Ratio, dtype: float64"
      ]
     },
     "execution_count": 32,
     "metadata": {},
     "output_type": "execute_result"
    }
   ],
   "source": [
    "final_df['Non_HDL Ratio'].describe()"
   ]
  },
  {
   "cell_type": "markdown",
   "id": "62a8ab3c",
   "metadata": {},
   "source": [
    "### LDL-HDL ratio"
   ]
  },
  {
   "cell_type": "code",
   "execution_count": 33,
   "id": "cc33801e",
   "metadata": {},
   "outputs": [
    {
     "data": {
      "text/plain": [
       "0       2.042228\n",
       "1       2.042228\n",
       "2       1.819441\n",
       "3       2.311585\n",
       "4       1.602348\n",
       "          ...   \n",
       "8892    0.717419\n",
       "8893    2.220577\n",
       "8894    1.995000\n",
       "8895    3.204697\n",
       "8896    2.468182\n",
       "Name: LDL_HDL Ratio, Length: 8897, dtype: float64"
      ]
     },
     "execution_count": 33,
     "metadata": {},
     "output_type": "execute_result"
    }
   ],
   "source": [
    "# LDL-HDL ratio = LDL ÷ HDL\n",
    "# It is one of the measures to see a person’s risk of heart disease\n",
    "\n",
    "final_df['LDL_HDL Ratio'] = final_df['LDL-Cholesterol(NIH2) [mmol/L]']/final_df['Direct HDL-Cholesterol [mmol/L]']\n",
    "final_df['LDL_HDL Ratio']"
   ]
  },
  {
   "cell_type": "code",
   "execution_count": 34,
   "id": "8199a15e",
   "metadata": {},
   "outputs": [
    {
     "data": {
      "text/plain": [
       "count    8897.000000\n",
       "mean        2.156743\n",
       "std         0.686117\n",
       "min         0.205682\n",
       "25%         1.819441\n",
       "50%         2.042228\n",
       "75%         2.427607\n",
       "max        21.517857\n",
       "Name: LDL_HDL Ratio, dtype: float64"
      ]
     },
     "execution_count": 34,
     "metadata": {},
     "output_type": "execute_result"
    }
   ],
   "source": [
    "final_df['LDL_HDL Ratio'].describe()"
   ]
  },
  {
   "cell_type": "markdown",
   "id": "6ea9fa2c",
   "metadata": {},
   "source": [
    "### Total cholesterol HDL ratio"
   ]
  },
  {
   "cell_type": "code",
   "execution_count": 35,
   "id": "8550d18f",
   "metadata": {},
   "outputs": [
    {
     "data": {
      "text/plain": [
       "0       3.368882\n",
       "1       3.368882\n",
       "2       2.619355\n",
       "3       3.139344\n",
       "4       2.778409\n",
       "          ...   \n",
       "8892    1.987097\n",
       "8893    3.708661\n",
       "8894    3.178571\n",
       "8895    4.409091\n",
       "8896    4.795455\n",
       "Name: Total Cholestrol_HDL Ratio, Length: 8897, dtype: float64"
      ]
     },
     "execution_count": 35,
     "metadata": {},
     "output_type": "execute_result"
    }
   ],
   "source": [
    "# Total cholesterol HDL ratio = total cholesterol ÷ HDL\n",
    "# Higher ratios (>5) mean a higher risk of heart disease\n",
    "\n",
    "final_df['Total Cholestrol_HDL Ratio'] = final_df['Total Cholesterol [mmol/L]']/final_df['Direct HDL-Cholesterol [mmol/L]']\n",
    "final_df['Total Cholestrol_HDL Ratio']"
   ]
  },
  {
   "cell_type": "code",
   "execution_count": 36,
   "id": "6472cc72",
   "metadata": {},
   "outputs": [
    {
     "data": {
      "text/plain": [
       "count    8897.000000\n",
       "mean        3.536219\n",
       "std         1.129474\n",
       "min         1.268868\n",
       "25%         2.901639\n",
       "50%         3.368882\n",
       "75%         3.862500\n",
       "max        27.846154\n",
       "Name: Total Cholestrol_HDL Ratio, dtype: float64"
      ]
     },
     "execution_count": 36,
     "metadata": {},
     "output_type": "execute_result"
    }
   ],
   "source": [
    "final_df['Total Cholestrol_HDL Ratio'].describe()"
   ]
  },
  {
   "cell_type": "markdown",
   "id": "f2f76f6b",
   "metadata": {},
   "source": [
    "### Triglyceride HDL ratio "
   ]
  },
  {
   "cell_type": "code",
   "execution_count": 37,
   "id": "6592131a",
   "metadata": {},
   "outputs": [
    {
     "data": {
      "text/plain": [
       "0       0.883438\n",
       "1       0.883438\n",
       "2       0.787064\n",
       "3       0.999958\n",
       "4       0.693153\n",
       "          ...   \n",
       "8892    0.568387\n",
       "8893    0.960589\n",
       "8894    0.395000\n",
       "8895    1.386305\n",
       "8896    3.451136\n",
       "Name: Triglyceride_HDL Ratio, Length: 8897, dtype: float64"
      ]
     },
     "execution_count": 37,
     "metadata": {},
     "output_type": "execute_result"
    }
   ],
   "source": [
    "# Triglyceride HDL ratio = triglyceride level ÷ HDL\n",
    "# high ratio (>6) indicates an elevated risk of heart attack and stroke\n",
    "\n",
    "final_df['Triglyceride_HDL Ratio'] = final_df['Triglyceride [mmol/L]']/final_df['Direct HDL-Cholesterol [mmol/L]']\n",
    "final_df['Triglyceride_HDL Ratio']"
   ]
  },
  {
   "cell_type": "code",
   "execution_count": 38,
   "id": "592a8080",
   "metadata": {},
   "outputs": [
    {
     "data": {
      "text/plain": [
       "count    8897.000000\n",
       "mean        0.962990\n",
       "std         0.829942\n",
       "min         0.055941\n",
       "25%         0.742143\n",
       "50%         0.883438\n",
       "75%         1.025167\n",
       "max        40.402667\n",
       "Name: Triglyceride_HDL Ratio, dtype: float64"
      ]
     },
     "execution_count": 38,
     "metadata": {},
     "output_type": "execute_result"
    }
   ],
   "source": [
    "final_df['Triglyceride_HDL Ratio'].describe()"
   ]
  },
  {
   "cell_type": "markdown",
   "id": "1931be33",
   "metadata": {},
   "source": [
    "### Complete Blood Count Ratios"
   ]
  },
  {
   "cell_type": "markdown",
   "id": "59dcb03e",
   "metadata": {},
   "source": [
    "### Lymphocyte to Monocyte Ratio (LMR)"
   ]
  },
  {
   "cell_type": "code",
   "execution_count": 39,
   "id": "3211bae3",
   "metadata": {},
   "outputs": [
    {
     "data": {
      "text/plain": [
       "0       4.166667\n",
       "1       5.833333\n",
       "2       5.666667\n",
       "3       2.500000\n",
       "4       6.000000\n",
       "          ...   \n",
       "8892    4.500000\n",
       "8893    3.833333\n",
       "8894    3.666667\n",
       "8895    4.750000\n",
       "8896    4.333333\n",
       "Name: Lymphocyte_Monocyte Ratio, Length: 8897, dtype: float64"
      ]
     },
     "execution_count": 39,
     "metadata": {},
     "output_type": "execute_result"
    }
   ],
   "source": [
    "# Recently, numerous studies focused on proportion of different types of leukocytes in various medical conditions\n",
    "# Neutrophil to lymphocyte ratio (NLR) and lymphocyte to monocyte ratio (LMR) seem most valuable parameters\n",
    "# These ratios are prognostic factors in several cancers\n",
    "\n",
    "# The LMR is calculated by dividing the absolute lymphocyte counts by the absolute monocyte counts\n",
    "# We convert lymphocyte and moncyte percentages to absolute counts and then divide them to get LMR\n",
    "# We do the conversion using the equation mentioned in the NHANES documentation\n",
    "\n",
    "L = ((final_df['White blood cell count [1000 cells/uL]']*final_df['Lymphocyte [%]'])/100).round(1)\n",
    "M = ((final_df['White blood cell count [1000 cells/uL]']*final_df['Monocyte [%]'])/100).round(1)\n",
    "final_df['Lymphocyte_Monocyte Ratio'] = L/M\n",
    "final_df['Lymphocyte_Monocyte Ratio']"
   ]
  },
  {
   "cell_type": "code",
   "execution_count": 40,
   "id": "9717ee8a",
   "metadata": {},
   "outputs": [
    {
     "data": {
      "text/plain": [
       "count    8897.000000\n",
       "mean        4.429318\n",
       "std         2.361257\n",
       "min         0.402985\n",
       "25%         3.333333\n",
       "50%         4.166667\n",
       "75%         5.000000\n",
       "max       128.142857\n",
       "Name: Lymphocyte_Monocyte Ratio, dtype: float64"
      ]
     },
     "execution_count": 40,
     "metadata": {},
     "output_type": "execute_result"
    }
   ],
   "source": [
    "final_df['Lymphocyte_Monocyte Ratio'].describe()"
   ]
  },
  {
   "cell_type": "markdown",
   "id": "ae75a030",
   "metadata": {},
   "source": [
    "### Neutrophil Lymphocyte Ratio (NLR)"
   ]
  },
  {
   "cell_type": "code",
   "execution_count": 41,
   "id": "4e576f07",
   "metadata": {},
   "outputs": [
    {
     "data": {
      "text/plain": [
       "0       1.600000\n",
       "1       0.914286\n",
       "2       1.235294\n",
       "3       2.466667\n",
       "4       1.452381\n",
       "          ...   \n",
       "8892    1.611111\n",
       "8893    2.173913\n",
       "8894    0.909091\n",
       "8895    1.736842\n",
       "8896    2.038462\n",
       "Name: Neutrophil_Lymphocyte Ratio, Length: 8897, dtype: float64"
      ]
     },
     "execution_count": 41,
     "metadata": {},
     "output_type": "execute_result"
    }
   ],
   "source": [
    "# Neutrophil Lymphocyte Ratio (NLR)\n",
    "# NLR = Absolute Neutrophil Count (ANC) / Absolute Lymphocyte Count (ALC)\n",
    "\n",
    "ANC = ((final_df['White blood cell count [1000 cells/uL]']*final_df['Segmented neutrophils [%]'])/100).round(1)\n",
    "ALC = ((final_df['White blood cell count [1000 cells/uL]']*final_df['Lymphocyte [%]'])/100).round(1)\n",
    "final_df['Neutrophil_Lymphocyte Ratio'] = ANC/ALC\n",
    "final_df['Neutrophil_Lymphocyte Ratio']"
   ]
  },
  {
   "cell_type": "code",
   "execution_count": 42,
   "id": "5e51a2f5",
   "metadata": {},
   "outputs": [
    {
     "data": {
      "text/plain": [
       "count    8897.000000\n",
       "mean        1.840041\n",
       "std         1.066613\n",
       "min         0.093333\n",
       "25%         1.269231\n",
       "50%         1.600000\n",
       "75%         2.166667\n",
       "max        21.500000\n",
       "Name: Neutrophil_Lymphocyte Ratio, dtype: float64"
      ]
     },
     "execution_count": 42,
     "metadata": {},
     "output_type": "execute_result"
    }
   ],
   "source": [
    "final_df['Neutrophil_Lymphocyte Ratio'].describe()"
   ]
  },
  {
   "cell_type": "markdown",
   "id": "85249c65",
   "metadata": {},
   "source": [
    "### Platelet to Lymphocyte Ratio"
   ]
  },
  {
   "cell_type": "code",
   "execution_count": 43,
   "id": "cc2613d2",
   "metadata": {},
   "outputs": [
    {
     "data": {
      "text/plain": [
       "0       103.700053\n",
       "1        68.285714\n",
       "2        90.882353\n",
       "3       155.333333\n",
       "4        82.857143\n",
       "           ...    \n",
       "8892     89.444444\n",
       "8893     98.695652\n",
       "8894     65.909091\n",
       "8895    100.526316\n",
       "8896     61.153846\n",
       "Name: Platelet_Lymphocyte Ratio, Length: 8897, dtype: float64"
      ]
     },
     "execution_count": 43,
     "metadata": {},
     "output_type": "execute_result"
    }
   ],
   "source": [
    "# Platelet to Lymphocyte Ratio also acts as a prognostic factor in some cancers and cardiac diseases\n",
    "# PLR is calculated by dividing platelet count by lymphocyte count. \n",
    "\n",
    "final_df['Platelet_Lymphocyte Ratio'] = final_df['Platelet count [1000 cells/uL]']/ALC\n",
    "final_df['Platelet_Lymphocyte Ratio']"
   ]
  },
  {
   "cell_type": "code",
   "execution_count": 44,
   "id": "05ab95aa",
   "metadata": {},
   "outputs": [
    {
     "data": {
      "text/plain": [
       "count    8897.000000\n",
       "mean      115.509183\n",
       "std        42.853881\n",
       "min         0.668896\n",
       "25%        91.600000\n",
       "50%       103.700053\n",
       "75%       132.000000\n",
       "max       775.000000\n",
       "Name: Platelet_Lymphocyte Ratio, dtype: float64"
      ]
     },
     "execution_count": 44,
     "metadata": {},
     "output_type": "execute_result"
    }
   ],
   "source": [
    "final_df['Platelet_Lymphocyte Ratio'].describe()"
   ]
  },
  {
   "cell_type": "markdown",
   "id": "10aa4568",
   "metadata": {},
   "source": [
    "### Platelet-to-White Blood Cell Ratio"
   ]
  },
  {
   "cell_type": "code",
   "execution_count": 45,
   "id": "b73f001b",
   "metadata": {},
   "outputs": [
    {
     "data": {
      "text/plain": [
       "0       35.113980\n",
       "1       32.297297\n",
       "2       35.930233\n",
       "3       38.196721\n",
       "4       31.071429\n",
       "          ...    \n",
       "8892    31.568627\n",
       "8893    27.349398\n",
       "8894    28.431373\n",
       "8895    33.508772\n",
       "8896    17.666667\n",
       "Name: Platelet_WBC Ratio, Length: 8897, dtype: float64"
      ]
     },
     "execution_count": 45,
     "metadata": {},
     "output_type": "execute_result"
    }
   ],
   "source": [
    "# Platelet and white blood cells counts can be converted into Platelet-to-White Blood Cell Ratio (PWR)\n",
    "# White blood cells and platelets play an important role in the pathogenesis of ischemic stroke.\n",
    "# Calculated by dividing the platelet count by the white blood cell count\n",
    "# Lower PWR is also a promising prognostic marker for HBV (Hepatitis B)\n",
    "\n",
    "final_df['Platelet_WBC Ratio'] = final_df['Platelet count [1000 cells/uL]']/final_df['White blood cell count [1000 cells/uL]']\n",
    "final_df['Platelet_WBC Ratio']"
   ]
  },
  {
   "cell_type": "code",
   "execution_count": 46,
   "id": "a6d4a4a1",
   "metadata": {},
   "outputs": [
    {
     "data": {
      "text/plain": [
       "count    8897.000000\n",
       "mean       37.221852\n",
       "std        11.797269\n",
       "min         0.600000\n",
       "25%        30.106383\n",
       "50%        35.113980\n",
       "75%        42.000000\n",
       "max       120.232558\n",
       "Name: Platelet_WBC Ratio, dtype: float64"
      ]
     },
     "execution_count": 46,
     "metadata": {},
     "output_type": "execute_result"
    }
   ],
   "source": [
    "final_df['Platelet_WBC Ratio'].describe()"
   ]
  },
  {
   "cell_type": "markdown",
   "id": "5489e62e",
   "metadata": {},
   "source": [
    "### Lymphocyte to C-Reactive Protein Ratio"
   ]
  },
  {
   "cell_type": "code",
   "execution_count": 47,
   "id": "7b5990a7",
   "metadata": {},
   "outputs": [
    {
     "data": {
      "text/plain": [
       "0         7.268033\n",
       "1       120.689655\n",
       "2        12.500000\n",
       "3        20.270270\n",
       "4       131.250000\n",
       "           ...    \n",
       "8892     40.000000\n",
       "8893     12.500000\n",
       "8894     27.160494\n",
       "8895      7.436399\n",
       "8896      7.027027\n",
       "Name: Lymphocyte_C-Reactive Protein Ratio, Length: 8897, dtype: float64"
      ]
     },
     "execution_count": 47,
     "metadata": {},
     "output_type": "execute_result"
    }
   ],
   "source": [
    "# Lymphocyte to C-Reactive Protein Ratio (LCR)\n",
    "# LCR is a useful prognostic biomarker for some cancers like breast, gastric and bladder cancers\n",
    "# It is calculated as: lymphocyte count (number/µL)/CRP level (mg/dL)\n",
    "\n",
    "final_df['Lymphocyte_C-Reactive Protein Ratio'] = ALC/(final_df['C-Reactive Protein [mg/L]']/10)\n",
    "final_df['Lymphocyte_C-Reactive Protein Ratio']"
   ]
  },
  {
   "cell_type": "code",
   "execution_count": 48,
   "id": "8e64e4d3",
   "metadata": {},
   "outputs": [
    {
     "data": {
      "text/plain": [
       "count    8897.000000\n",
       "mean       27.976878\n",
       "std        45.134550\n",
       "min         0.076578\n",
       "25%         7.125891\n",
       "50%        10.843373\n",
       "75%        31.818182\n",
       "max      1318.000000\n",
       "Name: Lymphocyte_C-Reactive Protein Ratio, dtype: float64"
      ]
     },
     "execution_count": 48,
     "metadata": {},
     "output_type": "execute_result"
    }
   ],
   "source": [
    "final_df['Lymphocyte_C-Reactive Protein Ratio'].describe()"
   ]
  },
  {
   "cell_type": "markdown",
   "id": "d78b2ee9",
   "metadata": {},
   "source": [
    "### Systemic Immune‐inflammation Index (SII) "
   ]
  },
  {
   "cell_type": "code",
   "execution_count": 49,
   "id": "f7256f5f",
   "metadata": {},
   "outputs": [
    {
     "data": {
      "text/plain": [
       "0       414.800213\n",
       "1       218.514286\n",
       "2       381.705882\n",
       "3       574.733333\n",
       "4       505.428571\n",
       "           ...    \n",
       "8892    259.388889\n",
       "8893    493.478261\n",
       "8894    131.818182\n",
       "8895    663.473684\n",
       "8896    324.115385\n",
       "Name: Systemic Immune‐inflammation Index (SII), Length: 8897, dtype: float64"
      ]
     },
     "execution_count": 49,
     "metadata": {},
     "output_type": "execute_result"
    }
   ],
   "source": [
    "# The Systemic Immune‐inflammation Index (SII) \n",
    "# It is correlated with patient survival in various types of solid tumors and cancers\n",
    "# SII = platelet count × neutrophil count/lymphocyte count\n",
    "\n",
    "PLT = final_df['Platelet count [1000 cells/uL]']\n",
    "N_R = final_df['Neutrophil_Lymphocyte Ratio']\n",
    "\n",
    "final_df['Systemic Immune‐inflammation Index (SII)'] = PLT*N_R\n",
    "final_df['Systemic Immune‐inflammation Index (SII)']"
   ]
  },
  {
   "cell_type": "code",
   "execution_count": 50,
   "id": "64c476cb",
   "metadata": {},
   "outputs": [
    {
     "data": {
      "text/plain": [
       "count    8897.000000\n",
       "mean      469.425515\n",
       "std       293.877080\n",
       "min        10.733333\n",
       "25%       306.526316\n",
       "50%       414.800213\n",
       "75%       546.960000\n",
       "max      4887.750000\n",
       "Name: Systemic Immune‐inflammation Index (SII), dtype: float64"
      ]
     },
     "execution_count": 50,
     "metadata": {},
     "output_type": "execute_result"
    }
   ],
   "source": [
    "final_df['Systemic Immune‐inflammation Index (SII)'].describe()"
   ]
  },
  {
   "cell_type": "code",
   "execution_count": 51,
   "id": "eb4c0d0c",
   "metadata": {},
   "outputs": [
    {
     "data": {
      "text/plain": [
       "(8897, 108)"
      ]
     },
     "execution_count": 51,
     "metadata": {},
     "output_type": "execute_result"
    }
   ],
   "source": [
    "final_df.shape"
   ]
  },
  {
   "cell_type": "code",
   "execution_count": 52,
   "id": "e3d7a4f5",
   "metadata": {},
   "outputs": [],
   "source": [
    "# Now that we have done some feature engineering and have a newer dataset we can save it\n",
    "\n",
    "final_df.to_csv('../Dataset/final_df.csv', index=False)"
   ]
  }
 ],
 "metadata": {
  "kernelspec": {
   "display_name": "Python 3 (ipykernel)",
   "language": "python",
   "name": "python3"
  },
  "language_info": {
   "codemirror_mode": {
    "name": "ipython",
    "version": 3
   },
   "file_extension": ".py",
   "mimetype": "text/x-python",
   "name": "python",
   "nbconvert_exporter": "python",
   "pygments_lexer": "ipython3",
   "version": "3.10.12"
  }
 },
 "nbformat": 4,
 "nbformat_minor": 5
}
