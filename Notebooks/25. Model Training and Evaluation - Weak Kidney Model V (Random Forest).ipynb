{
 "cells": [
  {
   "cell_type": "markdown",
   "id": "d2acf9f1",
   "metadata": {},
   "source": [
    "# Weak Kidney - Random Forest"
   ]
  },
  {
   "cell_type": "code",
   "execution_count": 1,
   "id": "5c1b7eb2",
   "metadata": {},
   "outputs": [],
   "source": [
    "import some_load_train_evaluate_functions as ml"
   ]
  },
  {
   "cell_type": "code",
   "execution_count": 2,
   "id": "6b4433ef",
   "metadata": {},
   "outputs": [
    {
     "name": "stdout",
     "output_type": "stream",
     "text": [
      "Connected to database successfully.\n"
     ]
    }
   ],
   "source": [
    "path = '../KG/db.env'\n",
    "\n",
    "driver = ml.connect_to_neo4j(path)"
   ]
  },
  {
   "cell_type": "markdown",
   "id": "4016e569",
   "metadata": {},
   "source": [
    "### Load Data"
   ]
  },
  {
   "cell_type": "code",
   "execution_count": 3,
   "id": "76bbe0fe",
   "metadata": {},
   "outputs": [
    {
     "data": {
      "text/html": [
       "<div>\n",
       "<style scoped>\n",
       "    .dataframe tbody tr th:only-of-type {\n",
       "        vertical-align: middle;\n",
       "    }\n",
       "\n",
       "    .dataframe tbody tr th {\n",
       "        vertical-align: top;\n",
       "    }\n",
       "\n",
       "    .dataframe thead th {\n",
       "        text-align: right;\n",
       "    }\n",
       "</style>\n",
       "<table border=\"1\" class=\"dataframe\">\n",
       "  <thead>\n",
       "    <tr style=\"text-align: right;\">\n",
       "      <th></th>\n",
       "      <th>Respondent_ID</th>\n",
       "      <th>Gender</th>\n",
       "      <th>Age</th>\n",
       "      <th>BMI</th>\n",
       "      <th>25-hydroxyvitamin D2 + D3 [nmol/L]</th>\n",
       "      <th>A/G Ratio</th>\n",
       "      <th>Alpha-carotene [umol/L]</th>\n",
       "      <th>Alpha-crypotoxanthin [umol/L]</th>\n",
       "      <th>Alpha-tocopherol [umol/L]</th>\n",
       "      <th>Basophils [%]</th>\n",
       "      <th>...</th>\n",
       "      <th>Ferritin [ng/mL]</th>\n",
       "      <th>Gamma Glutamyl Transferase [IU/L]</th>\n",
       "      <th>Hemoglobin [g/dL]</th>\n",
       "      <th>Insulin [pmol/L]</th>\n",
       "      <th>LDL-Cholesterol(NIH2) [mmol/L]</th>\n",
       "      <th>Lactate Dehydrogenase [IU/L]</th>\n",
       "      <th>Transferrin Saturation [%]</th>\n",
       "      <th>Transferrin receptor [nmol/L]</th>\n",
       "      <th>Triglyceride [mmol/L]</th>\n",
       "      <th>Weak/Failing kidneys</th>\n",
       "    </tr>\n",
       "  </thead>\n",
       "  <tbody>\n",
       "    <tr>\n",
       "      <th>0</th>\n",
       "      <td>93705</td>\n",
       "      <td>0</td>\n",
       "      <td>66</td>\n",
       "      <td>31.7</td>\n",
       "      <td>89.9</td>\n",
       "      <td>1.517241</td>\n",
       "      <td>0.138</td>\n",
       "      <td>0.071</td>\n",
       "      <td>26.006</td>\n",
       "      <td>1.0</td>\n",
       "      <td>...</td>\n",
       "      <td>28.70</td>\n",
       "      <td>21.0</td>\n",
       "      <td>11.9</td>\n",
       "      <td>NaN</td>\n",
       "      <td>NaN</td>\n",
       "      <td>174.0</td>\n",
       "      <td>28.0</td>\n",
       "      <td>39.8</td>\n",
       "      <td>NaN</td>\n",
       "      <td>0</td>\n",
       "    </tr>\n",
       "    <tr>\n",
       "      <th>1</th>\n",
       "      <td>93708</td>\n",
       "      <td>0</td>\n",
       "      <td>66</td>\n",
       "      <td>23.7</td>\n",
       "      <td>116.0</td>\n",
       "      <td>1.218750</td>\n",
       "      <td>0.192</td>\n",
       "      <td>0.127</td>\n",
       "      <td>NaN</td>\n",
       "      <td>0.7</td>\n",
       "      <td>...</td>\n",
       "      <td>109.00</td>\n",
       "      <td>22.0</td>\n",
       "      <td>13.2</td>\n",
       "      <td>58.32</td>\n",
       "      <td>2.870</td>\n",
       "      <td>247.0</td>\n",
       "      <td>32.0</td>\n",
       "      <td>30.1</td>\n",
       "      <td>0.655</td>\n",
       "      <td>0</td>\n",
       "    </tr>\n",
       "    <tr>\n",
       "      <th>2</th>\n",
       "      <td>93709</td>\n",
       "      <td>0</td>\n",
       "      <td>75</td>\n",
       "      <td>38.9</td>\n",
       "      <td>72.8</td>\n",
       "      <td>1.121212</td>\n",
       "      <td>0.009</td>\n",
       "      <td>0.017</td>\n",
       "      <td>28.561</td>\n",
       "      <td>0.6</td>\n",
       "      <td>...</td>\n",
       "      <td>129.00</td>\n",
       "      <td>31.0</td>\n",
       "      <td>15.4</td>\n",
       "      <td>NaN</td>\n",
       "      <td>NaN</td>\n",
       "      <td>NaN</td>\n",
       "      <td>21.0</td>\n",
       "      <td>46.5</td>\n",
       "      <td>NaN</td>\n",
       "      <td>0</td>\n",
       "    </tr>\n",
       "    <tr>\n",
       "      <th>3</th>\n",
       "      <td>93711</td>\n",
       "      <td>1</td>\n",
       "      <td>56</td>\n",
       "      <td>21.3</td>\n",
       "      <td>165.0</td>\n",
       "      <td>1.290323</td>\n",
       "      <td>0.173</td>\n",
       "      <td>0.079</td>\n",
       "      <td>31.115</td>\n",
       "      <td>0.4</td>\n",
       "      <td>...</td>\n",
       "      <td>40.60</td>\n",
       "      <td>19.0</td>\n",
       "      <td>14.7</td>\n",
       "      <td>31.68</td>\n",
       "      <td>4.086</td>\n",
       "      <td>139.0</td>\n",
       "      <td>16.0</td>\n",
       "      <td>34.8</td>\n",
       "      <td>0.542</td>\n",
       "      <td>0</td>\n",
       "    </tr>\n",
       "    <tr>\n",
       "      <th>4</th>\n",
       "      <td>93713</td>\n",
       "      <td>1</td>\n",
       "      <td>67</td>\n",
       "      <td>23.5</td>\n",
       "      <td>63.5</td>\n",
       "      <td>2.047619</td>\n",
       "      <td>0.028</td>\n",
       "      <td>0.028</td>\n",
       "      <td>18.344</td>\n",
       "      <td>0.6</td>\n",
       "      <td>...</td>\n",
       "      <td>238.00</td>\n",
       "      <td>26.0</td>\n",
       "      <td>14.2</td>\n",
       "      <td>NaN</td>\n",
       "      <td>NaN</td>\n",
       "      <td>123.0</td>\n",
       "      <td>27.0</td>\n",
       "      <td>28.0</td>\n",
       "      <td>NaN</td>\n",
       "      <td>0</td>\n",
       "    </tr>\n",
       "    <tr>\n",
       "      <th>...</th>\n",
       "      <td>...</td>\n",
       "      <td>...</td>\n",
       "      <td>...</td>\n",
       "      <td>...</td>\n",
       "      <td>...</td>\n",
       "      <td>...</td>\n",
       "      <td>...</td>\n",
       "      <td>...</td>\n",
       "      <td>...</td>\n",
       "      <td>...</td>\n",
       "      <td>...</td>\n",
       "      <td>...</td>\n",
       "      <td>...</td>\n",
       "      <td>...</td>\n",
       "      <td>...</td>\n",
       "      <td>...</td>\n",
       "      <td>...</td>\n",
       "      <td>...</td>\n",
       "      <td>...</td>\n",
       "      <td>...</td>\n",
       "      <td>...</td>\n",
       "    </tr>\n",
       "    <tr>\n",
       "      <th>5555</th>\n",
       "      <td>102950</td>\n",
       "      <td>1</td>\n",
       "      <td>64</td>\n",
       "      <td>NaN</td>\n",
       "      <td>NaN</td>\n",
       "      <td>NaN</td>\n",
       "      <td>NaN</td>\n",
       "      <td>NaN</td>\n",
       "      <td>NaN</td>\n",
       "      <td>NaN</td>\n",
       "      <td>...</td>\n",
       "      <td>NaN</td>\n",
       "      <td>NaN</td>\n",
       "      <td>NaN</td>\n",
       "      <td>NaN</td>\n",
       "      <td>NaN</td>\n",
       "      <td>NaN</td>\n",
       "      <td>NaN</td>\n",
       "      <td>NaN</td>\n",
       "      <td>NaN</td>\n",
       "      <td>0</td>\n",
       "    </tr>\n",
       "    <tr>\n",
       "      <th>5556</th>\n",
       "      <td>102952</td>\n",
       "      <td>0</td>\n",
       "      <td>70</td>\n",
       "      <td>20.0</td>\n",
       "      <td>82.7</td>\n",
       "      <td>1.846154</td>\n",
       "      <td>0.235</td>\n",
       "      <td>0.077</td>\n",
       "      <td>31.347</td>\n",
       "      <td>0.6</td>\n",
       "      <td>...</td>\n",
       "      <td>135.00</td>\n",
       "      <td>18.0</td>\n",
       "      <td>13.4</td>\n",
       "      <td>26.34</td>\n",
       "      <td>1.112</td>\n",
       "      <td>168.0</td>\n",
       "      <td>39.0</td>\n",
       "      <td>29.1</td>\n",
       "      <td>0.881</td>\n",
       "      <td>0</td>\n",
       "    </tr>\n",
       "    <tr>\n",
       "      <th>5557</th>\n",
       "      <td>102953</td>\n",
       "      <td>1</td>\n",
       "      <td>42</td>\n",
       "      <td>35.8</td>\n",
       "      <td>49.5</td>\n",
       "      <td>1.142857</td>\n",
       "      <td>0.106</td>\n",
       "      <td>0.080</td>\n",
       "      <td>21.873</td>\n",
       "      <td>0.6</td>\n",
       "      <td>...</td>\n",
       "      <td>120.00</td>\n",
       "      <td>28.0</td>\n",
       "      <td>15.5</td>\n",
       "      <td>NaN</td>\n",
       "      <td>NaN</td>\n",
       "      <td>136.0</td>\n",
       "      <td>20.0</td>\n",
       "      <td>28.6</td>\n",
       "      <td>NaN</td>\n",
       "      <td>0</td>\n",
       "    </tr>\n",
       "    <tr>\n",
       "      <th>5558</th>\n",
       "      <td>102954</td>\n",
       "      <td>0</td>\n",
       "      <td>41</td>\n",
       "      <td>26.1</td>\n",
       "      <td>50.5</td>\n",
       "      <td>1.500000</td>\n",
       "      <td>0.117</td>\n",
       "      <td>0.056</td>\n",
       "      <td>26.935</td>\n",
       "      <td>1.4</td>\n",
       "      <td>...</td>\n",
       "      <td>1.99</td>\n",
       "      <td>8.0</td>\n",
       "      <td>6.4</td>\n",
       "      <td>56.94</td>\n",
       "      <td>2.793</td>\n",
       "      <td>123.0</td>\n",
       "      <td>5.0</td>\n",
       "      <td>248.0</td>\n",
       "      <td>0.553</td>\n",
       "      <td>0</td>\n",
       "    </tr>\n",
       "    <tr>\n",
       "      <th>5559</th>\n",
       "      <td>102956</td>\n",
       "      <td>1</td>\n",
       "      <td>38</td>\n",
       "      <td>36.1</td>\n",
       "      <td>58.9</td>\n",
       "      <td>1.482759</td>\n",
       "      <td>0.026</td>\n",
       "      <td>0.038</td>\n",
       "      <td>21.177</td>\n",
       "      <td>1.0</td>\n",
       "      <td>...</td>\n",
       "      <td>553.00</td>\n",
       "      <td>72.0</td>\n",
       "      <td>17.4</td>\n",
       "      <td>634.38</td>\n",
       "      <td>2.172</td>\n",
       "      <td>134.0</td>\n",
       "      <td>35.0</td>\n",
       "      <td>23.4</td>\n",
       "      <td>3.037</td>\n",
       "      <td>0</td>\n",
       "    </tr>\n",
       "  </tbody>\n",
       "</table>\n",
       "<p>5560 rows × 91 columns</p>\n",
       "</div>"
      ],
      "text/plain": [
       "      Respondent_ID  Gender  Age   BMI  25-hydroxyvitamin D2 + D3 [nmol/L]  \\\n",
       "0             93705       0   66  31.7                                89.9   \n",
       "1             93708       0   66  23.7                               116.0   \n",
       "2             93709       0   75  38.9                                72.8   \n",
       "3             93711       1   56  21.3                               165.0   \n",
       "4             93713       1   67  23.5                                63.5   \n",
       "...             ...     ...  ...   ...                                 ...   \n",
       "5555         102950       1   64   NaN                                 NaN   \n",
       "5556         102952       0   70  20.0                                82.7   \n",
       "5557         102953       1   42  35.8                                49.5   \n",
       "5558         102954       0   41  26.1                                50.5   \n",
       "5559         102956       1   38  36.1                                58.9   \n",
       "\n",
       "      A/G Ratio  Alpha-carotene [umol/L]  Alpha-crypotoxanthin [umol/L]  \\\n",
       "0      1.517241                    0.138                          0.071   \n",
       "1      1.218750                    0.192                          0.127   \n",
       "2      1.121212                    0.009                          0.017   \n",
       "3      1.290323                    0.173                          0.079   \n",
       "4      2.047619                    0.028                          0.028   \n",
       "...         ...                      ...                            ...   \n",
       "5555        NaN                      NaN                            NaN   \n",
       "5556   1.846154                    0.235                          0.077   \n",
       "5557   1.142857                    0.106                          0.080   \n",
       "5558   1.500000                    0.117                          0.056   \n",
       "5559   1.482759                    0.026                          0.038   \n",
       "\n",
       "      Alpha-tocopherol [umol/L]  Basophils [%]  ...  Ferritin [ng/mL]  \\\n",
       "0                        26.006            1.0  ...             28.70   \n",
       "1                           NaN            0.7  ...            109.00   \n",
       "2                        28.561            0.6  ...            129.00   \n",
       "3                        31.115            0.4  ...             40.60   \n",
       "4                        18.344            0.6  ...            238.00   \n",
       "...                         ...            ...  ...               ...   \n",
       "5555                        NaN            NaN  ...               NaN   \n",
       "5556                     31.347            0.6  ...            135.00   \n",
       "5557                     21.873            0.6  ...            120.00   \n",
       "5558                     26.935            1.4  ...              1.99   \n",
       "5559                     21.177            1.0  ...            553.00   \n",
       "\n",
       "      Gamma Glutamyl Transferase [IU/L]  Hemoglobin [g/dL]  Insulin [pmol/L]  \\\n",
       "0                                  21.0               11.9               NaN   \n",
       "1                                  22.0               13.2             58.32   \n",
       "2                                  31.0               15.4               NaN   \n",
       "3                                  19.0               14.7             31.68   \n",
       "4                                  26.0               14.2               NaN   \n",
       "...                                 ...                ...               ...   \n",
       "5555                                NaN                NaN               NaN   \n",
       "5556                               18.0               13.4             26.34   \n",
       "5557                               28.0               15.5               NaN   \n",
       "5558                                8.0                6.4             56.94   \n",
       "5559                               72.0               17.4            634.38   \n",
       "\n",
       "      LDL-Cholesterol(NIH2) [mmol/L]  Lactate Dehydrogenase [IU/L]  \\\n",
       "0                                NaN                         174.0   \n",
       "1                              2.870                         247.0   \n",
       "2                                NaN                           NaN   \n",
       "3                              4.086                         139.0   \n",
       "4                                NaN                         123.0   \n",
       "...                              ...                           ...   \n",
       "5555                             NaN                           NaN   \n",
       "5556                           1.112                         168.0   \n",
       "5557                             NaN                         136.0   \n",
       "5558                           2.793                         123.0   \n",
       "5559                           2.172                         134.0   \n",
       "\n",
       "      Transferrin Saturation [%]  Transferrin receptor [nmol/L]  \\\n",
       "0                           28.0                           39.8   \n",
       "1                           32.0                           30.1   \n",
       "2                           21.0                           46.5   \n",
       "3                           16.0                           34.8   \n",
       "4                           27.0                           28.0   \n",
       "...                          ...                            ...   \n",
       "5555                         NaN                            NaN   \n",
       "5556                        39.0                           29.1   \n",
       "5557                        20.0                           28.6   \n",
       "5558                         5.0                          248.0   \n",
       "5559                        35.0                           23.4   \n",
       "\n",
       "      Triglyceride [mmol/L]  Weak/Failing kidneys  \n",
       "0                       NaN                     0  \n",
       "1                     0.655                     0  \n",
       "2                       NaN                     0  \n",
       "3                     0.542                     0  \n",
       "4                       NaN                     0  \n",
       "...                     ...                   ...  \n",
       "5555                    NaN                     0  \n",
       "5556                  0.881                     0  \n",
       "5557                    NaN                     0  \n",
       "5558                  0.553                     0  \n",
       "5559                  3.037                     0  \n",
       "\n",
       "[5560 rows x 91 columns]"
      ]
     },
     "execution_count": 3,
     "metadata": {},
     "output_type": "execute_result"
    }
   ],
   "source": [
    "# Weak/Failing kidneys data\n",
    "\n",
    "weak_kindey_df = ml.get_data_of_disease(driver, 'Weak/Failing kidneys')\n",
    "weak_kindey_df"
   ]
  },
  {
   "cell_type": "markdown",
   "id": "6578093d",
   "metadata": {},
   "source": [
    "### Training"
   ]
  },
  {
   "cell_type": "code",
   "execution_count": 26,
   "id": "995292f6",
   "metadata": {},
   "outputs": [
    {
     "name": "stdout",
     "output_type": "stream",
     "text": [
      "Training Accuracy:  0.997976618705036\n",
      "Testing Accuracy:  0.9991007194244604\n"
     ]
    }
   ],
   "source": [
    "random_forest = ml.RandomForestClassifier(random_state=42)\n",
    "\n",
    "# Attributes and Labels\n",
    "\n",
    "X, y, X_train, X_val, X_test, y_train, y_val, y_test = ml.preprocess_and_split(df = weak_kindey_df, label = 'Weak/Failing kidneys',\n",
    "                                                              impute = True, scale=True,\n",
    "                                                              imputer=ml.SimpleImputer(strategy='mean'),\n",
    "                                                              random_state=42)\n",
    "\n",
    "# Training\n",
    "\n",
    "random_forest.fit(X_train, y_train)\n",
    "\n",
    "# Accuracy scores\n",
    "\n",
    "y_pred = random_forest.predict(X_val)\n",
    "\n",
    "print('Training Accuracy: ',ml.accuracy_score(y_train, random_forest.predict(X_train)))\n",
    "\n",
    "print('Testing Accuracy: ',ml.accuracy_score(y_val, y_pred))"
   ]
  },
  {
   "cell_type": "markdown",
   "id": "44142f21",
   "metadata": {},
   "source": [
    "## Feature Selection"
   ]
  },
  {
   "cell_type": "markdown",
   "id": "c60fc52a",
   "metadata": {},
   "source": [
    "### Correlation Analysis"
   ]
  },
  {
   "cell_type": "code",
   "execution_count": 5,
   "id": "a8302272",
   "metadata": {},
   "outputs": [],
   "source": [
    "random_forest_test = ml.RandomForestClassifier(random_state=42, n_jobs=-1)"
   ]
  },
  {
   "cell_type": "code",
   "execution_count": 7,
   "id": "4bf4ee40",
   "metadata": {},
   "outputs": [
    {
     "data": {
      "text/plain": [
       "['Creatinine [mg/dL]',\n",
       " 'Blood Urea Nitrogen [mg/dL]',\n",
       " 'Retinol [umol/L]',\n",
       " 'Osmolality [mmol/Kg]',\n",
       " 'Age',\n",
       " 'Ferritin [ng/mL]',\n",
       " 'Uric Acid [mg/dL]',\n",
       " '25-hydroxyvitamin D2 + D3 [nmol/L]',\n",
       " 'Chromium [nmol/L]',\n",
       " 'Insulin [pmol/L]',\n",
       " 'Potassium [mmol/L]',\n",
       " 'Red cell distribution width [%]',\n",
       " 'Neutrophil_Lymphocyte Ratio',\n",
       " 'Lactate Dehydrogenase [IU/L]',\n",
       " 'Blood lead [umol/L]',\n",
       " 'C-Reactive Protein [mg/L]',\n",
       " 'Glycohemoglobin [%]',\n",
       " 'Fasting Glucose [mmol/L]',\n",
       " 'Alkaline Phosphatase [IU/L]',\n",
       " 'Monocyte [%]',\n",
       " 'Segmented neutrophils [%]',\n",
       " 'BMI',\n",
       " 'Platelet_Lymphocyte Ratio',\n",
       " 'Eosinophils [%]',\n",
       " 'Globulin [g/dL]',\n",
       " 'Mean cell volume [fL]',\n",
       " 'Transferrin receptor [nmol/L]',\n",
       " 'Systemic Immune‐inflammation Index (SII)',\n",
       " 'Basophils [%]',\n",
       " 'Gamma Glutamyl Transferase [IU/L]']"
      ]
     },
     "execution_count": 7,
     "metadata": {},
     "output_type": "execute_result"
    }
   ],
   "source": [
    "pos_corr, neg_corr = ml.get_correlated_features(weak_kindey_df,'Weak/Failing kidneys',pos=0.0,neg=-0.0)\n",
    "\n",
    "corr_features = list(pos_corr.keys()[1:]) + list(neg_corr.keys()[:])\n",
    "corr_features.remove('Respondent_ID')\n",
    "corr_features[:30]"
   ]
  },
  {
   "cell_type": "code",
   "execution_count": 8,
   "id": "34987aa0",
   "metadata": {},
   "outputs": [
    {
     "name": "stdout",
     "output_type": "stream",
     "text": [
      "\n",
      "Train Accuracy: 0.998\n",
      "\n",
      "Test Accuracy: 0.999\n",
      "\n",
      "Precision: 1.000\n",
      "\n",
      "Recall: 0.967\n",
      "\n",
      "F1-Score: 0.983\n"
     ]
    }
   ],
   "source": [
    "ml.evaluate_feature_set(corr_features[:30], random_forest_test, X_train, y_train, X_val, y_val)"
   ]
  },
  {
   "cell_type": "markdown",
   "id": "9df33603",
   "metadata": {},
   "source": [
    "### SelectFromModel"
   ]
  },
  {
   "cell_type": "code",
   "execution_count": 9,
   "id": "a245d928",
   "metadata": {},
   "outputs": [
    {
     "data": {
      "text/plain": [
       "['Age',\n",
       " 'BMI',\n",
       " '25-hydroxyvitamin D2 + D3 [nmol/L]',\n",
       " 'Blood Urea Nitrogen [mg/dL]',\n",
       " 'Blood manganese [nmol/L]',\n",
       " 'Creatinine [mg/dL]',\n",
       " 'Lymphocyte_C-Reactive Protein Ratio',\n",
       " 'Osmolality [mmol/Kg]',\n",
       " 'Retinol [umol/L]',\n",
       " 'Total Iron Binding Capacity [umol/L]',\n",
       " 'Uric Acid [mg/dL]',\n",
       " 'Vitamin C [umol/L]',\n",
       " 'Alanine Aminotransferase [U/L]',\n",
       " 'Creatine Phosphokinase [IU/L]',\n",
       " 'Ferritin [ng/mL]',\n",
       " 'Lactate Dehydrogenase [IU/L]']"
      ]
     },
     "execution_count": 9,
     "metadata": {},
     "output_type": "execute_result"
    }
   ],
   "source": [
    "sfm_features = ml.select_from_model_features(random_forest_test,X,y)\n",
    "sfm_features"
   ]
  },
  {
   "cell_type": "code",
   "execution_count": 10,
   "id": "17b4d45b",
   "metadata": {},
   "outputs": [
    {
     "name": "stdout",
     "output_type": "stream",
     "text": [
      "\n",
      "Train Accuracy: 0.998\n",
      "\n",
      "Test Accuracy: 0.999\n",
      "\n",
      "Precision: 1.000\n",
      "\n",
      "Recall: 0.967\n",
      "\n",
      "F1-Score: 0.983\n"
     ]
    }
   ],
   "source": [
    "sfm_features = list(sfm_features)\n",
    "\n",
    "ml.evaluate_feature_set(sfm_features, random_forest_test, X_train, y_train, X_val, y_val)"
   ]
  },
  {
   "cell_type": "markdown",
   "id": "15f3ce0f",
   "metadata": {},
   "source": [
    "### SelectKBest"
   ]
  },
  {
   "cell_type": "code",
   "execution_count": 11,
   "id": "238022df",
   "metadata": {},
   "outputs": [
    {
     "data": {
      "text/plain": [
       "['Creatinine [mg/dL]',\n",
       " 'Blood Urea Nitrogen [mg/dL]',\n",
       " 'Retinol [umol/L]',\n",
       " 'Age',\n",
       " 'Osmolality [mmol/Kg]',\n",
       " 'Ferritin [ng/mL]',\n",
       " 'RBC count [million cells/uL]',\n",
       " 'Uric Acid [mg/dL]',\n",
       " '25-hydroxyvitamin D2 + D3 [nmol/L]',\n",
       " 'Hematocrit [%]',\n",
       " 'Hemoglobin [g/dL]',\n",
       " 'Albumin [g/dL]',\n",
       " 'Lymphocyte [%]',\n",
       " 'Potassium [mmol/L]',\n",
       " 'Chromium [nmol/L]',\n",
       " 'Total Iron Binding Capacity [umol/L]',\n",
       " 'Red cell distribution width [%]',\n",
       " 'Neutrophil_Lymphocyte Ratio',\n",
       " 'Lactate Dehydrogenase [IU/L]',\n",
       " 'Blood lead [umol/L]',\n",
       " 'C-Reactive Protein [mg/L]',\n",
       " 'A/G Ratio',\n",
       " 'Glycohemoglobin [%]',\n",
       " 'Total Lycopene [umol/L]',\n",
       " 'Alkaline Phosphatase [IU/L]',\n",
       " 'Trans-lycopene [umol/L]',\n",
       " 'Lymphocyte_Monocyte Ratio',\n",
       " 'Insulin [pmol/L]',\n",
       " 'Alpha-crypotoxanthin [umol/L]',\n",
       " 'Monocyte [%]']"
      ]
     },
     "execution_count": 11,
     "metadata": {},
     "output_type": "execute_result"
    }
   ],
   "source": [
    "k_best_features = ml.select_k_best(X, y, n=30)\n",
    "k_best_features[:30]"
   ]
  },
  {
   "cell_type": "code",
   "execution_count": 12,
   "id": "b756eeaa",
   "metadata": {},
   "outputs": [
    {
     "name": "stdout",
     "output_type": "stream",
     "text": [
      "\n",
      "Train Accuracy: 0.997\n",
      "\n",
      "Test Accuracy: 0.999\n",
      "\n",
      "Precision: 1.000\n",
      "\n",
      "Recall: 0.967\n",
      "\n",
      "F1-Score: 0.983\n"
     ]
    }
   ],
   "source": [
    "ml.evaluate_feature_set(k_best_features[:30], random_forest_test, X_train, y_train, X_val, y_val)"
   ]
  },
  {
   "cell_type": "markdown",
   "id": "933ccbc1",
   "metadata": {},
   "source": [
    "### Recursive Feature Elimination (RFE) "
   ]
  },
  {
   "cell_type": "code",
   "execution_count": 13,
   "id": "82685afa",
   "metadata": {},
   "outputs": [
    {
     "data": {
      "text/plain": [
       "['Total Lycopene [umol/L]',\n",
       " 'C-Reactive Protein [mg/L]',\n",
       " 'Retinol [umol/L]',\n",
       " 'Mean cell hemoglobin [pg]',\n",
       " 'Glycohemoglobin [%]',\n",
       " 'UIBC [umol/L]',\n",
       " 'Gamma-tocopherol [umol/L]',\n",
       " 'Ferritin [ng/mL]',\n",
       " 'Eosinophils [%]',\n",
       " 'Creatinine [mg/dL]',\n",
       " 'Red cell distribution width [%]',\n",
       " 'Alanine Aminotransferase [U/L]',\n",
       " 'RBC count [million cells/uL]',\n",
       " 'Vitamin C [umol/L]',\n",
       " 'Lymphocyte_Monocyte Ratio',\n",
       " 'Lymphocyte_C-Reactive Protein Ratio',\n",
       " 'Blood manganese [nmol/L]',\n",
       " 'Uric Acid [mg/dL]',\n",
       " 'Osmolality [mmol/Kg]',\n",
       " 'Blood Urea Nitrogen [mg/dL]',\n",
       " 'Transferrin receptor [nmol/L]',\n",
       " 'Platelet count [1000 cells/uL]',\n",
       " 'Lactate Dehydrogenase [IU/L]',\n",
       " 'Alpha-crypotoxanthin [umol/L]',\n",
       " 'Platelet_Lymphocyte Ratio',\n",
       " 'Total Iron Binding Capacity [umol/L]',\n",
       " '25-hydroxyvitamin D2 + D3 [nmol/L]',\n",
       " 'BMI',\n",
       " 'Age',\n",
       " 'Non_HDL Ratio']"
      ]
     },
     "execution_count": 13,
     "metadata": {},
     "output_type": "execute_result"
    }
   ],
   "source": [
    "rfe_features = ml.select_rfe_features(random_forest_test,X,y,n=30,step=0.5)\n",
    "rfe_features[:30]"
   ]
  },
  {
   "cell_type": "code",
   "execution_count": 14,
   "id": "8db8aa72",
   "metadata": {},
   "outputs": [
    {
     "name": "stdout",
     "output_type": "stream",
     "text": [
      "\n",
      "Train Accuracy: 0.998\n",
      "\n",
      "Test Accuracy: 0.999\n",
      "\n",
      "Precision: 1.000\n",
      "\n",
      "Recall: 0.978\n",
      "\n",
      "F1-Score: 0.989\n"
     ]
    }
   ],
   "source": [
    "ml.evaluate_feature_set(rfe_features[:30], random_forest_test, X_train, y_train, X_val, y_val)"
   ]
  },
  {
   "cell_type": "markdown",
   "id": "85827a38",
   "metadata": {},
   "source": [
    "### Lasso Regularization"
   ]
  },
  {
   "cell_type": "code",
   "execution_count": 15,
   "id": "f7a2dee7",
   "metadata": {},
   "outputs": [
    {
     "data": {
      "text/plain": [
       "['Creatinine [mg/dL]',\n",
       " 'Gender',\n",
       " 'Age',\n",
       " 'LDL_HDL Ratio',\n",
       " 'Retinol [umol/L]',\n",
       " 'Platelet_Lymphocyte Ratio',\n",
       " '25-hydroxyvitamin D2 + D3 [nmol/L]',\n",
       " 'Beta-cryptoxanthin [umol/L]',\n",
       " 'Aspartate Aminotransferase [U/L]',\n",
       " 'Ferritin [ng/mL]',\n",
       " 'Phosphorus [mg/dL]',\n",
       " 'Vitamin C [umol/L]',\n",
       " 'Alanine Aminotransferase [U/L]',\n",
       " 'Alkaline Phosphatase [IU/L]',\n",
       " 'Lutein and zeaxanthin [umol/L]',\n",
       " 'Total Bilirubin [mg/dL]',\n",
       " 'Bicarbonate [mmol/L]',\n",
       " 'Alpha-tocopherol [umol/L]',\n",
       " 'A/G Ratio',\n",
       " 'Blood lead [umol/L]',\n",
       " 'Blood Urea Nitrogen [mg/dL]',\n",
       " 'Total Lycopene [umol/L]',\n",
       " 'Blood selenium [umol/L]',\n",
       " 'Uric Acid [mg/dL]',\n",
       " 'Transferrin receptor [nmol/L]',\n",
       " 'Platelet_WBC Ratio',\n",
       " 'Iron frozen [umol/L]',\n",
       " 'White blood cell count [1000 cells/uL]',\n",
       " 'Iron [ug/dL]',\n",
       " 'Nucleated RBCs']"
      ]
     },
     "execution_count": 15,
     "metadata": {},
     "output_type": "execute_result"
    }
   ],
   "source": [
    "l1_selected_features = ml.log_reg_lasso_select(X_train, y_train)\n",
    "l1_selected_features[:30]"
   ]
  },
  {
   "cell_type": "code",
   "execution_count": 16,
   "id": "1b685cc9",
   "metadata": {},
   "outputs": [
    {
     "name": "stdout",
     "output_type": "stream",
     "text": [
      "\n",
      "Train Accuracy: 0.997\n",
      "\n",
      "Test Accuracy: 0.999\n",
      "\n",
      "Precision: 1.000\n",
      "\n",
      "Recall: 0.967\n",
      "\n",
      "F1-Score: 0.983\n"
     ]
    }
   ],
   "source": [
    "ml.evaluate_feature_set(l1_selected_features[:30], random_forest_test, X_train, y_train, X_val, y_val)"
   ]
  },
  {
   "cell_type": "markdown",
   "id": "a37796b0",
   "metadata": {},
   "source": [
    "### Relief F"
   ]
  },
  {
   "cell_type": "code",
   "execution_count": 17,
   "id": "bfb3ec54",
   "metadata": {},
   "outputs": [],
   "source": [
    "relieff_features = ml.relief_feature_select(30,X,y)"
   ]
  },
  {
   "cell_type": "code",
   "execution_count": 18,
   "id": "fc600c21",
   "metadata": {},
   "outputs": [
    {
     "data": {
      "text/plain": [
       "['Nucleated RBCs',\n",
       " 'Creatinine [mg/dL]',\n",
       " 'Blood Urea Nitrogen [mg/dL]',\n",
       " 'Age',\n",
       " 'Hemoglobin [g/dL]',\n",
       " 'Hematocrit [%]',\n",
       " 'Osmolality [mmol/Kg]',\n",
       " 'Retinol [umol/L]',\n",
       " 'Total Cholesterol [mmol/L]',\n",
       " 'RBC count [million cells/uL]',\n",
       " 'Uric Acid [mg/dL]',\n",
       " 'Non_HDL Ratio',\n",
       " '25-hydroxyvitamin D2 + D3 [nmol/L]',\n",
       " 'Neutrophil_Lymphocyte Ratio',\n",
       " 'Lymphocyte [%]',\n",
       " 'Albumin [g/dL]',\n",
       " 'Gender',\n",
       " 'Transferrin Saturation [%]',\n",
       " 'Chloride [mmol/L]',\n",
       " 'UIBC [umol/L]',\n",
       " 'Glycohemoglobin [%]',\n",
       " 'Red cell distribution width [%]',\n",
       " 'Globulin [g/dL]',\n",
       " 'Total Protein [g/dL]',\n",
       " 'A/G Ratio',\n",
       " 'Segmented neutrophils [%]',\n",
       " 'Total Lycopene [umol/L]',\n",
       " 'Alpha-tocopherol [umol/L]',\n",
       " 'Total Iron Binding Capacity [umol/L]',\n",
       " 'Iron frozen [umol/L]']"
      ]
     },
     "execution_count": 18,
     "metadata": {},
     "output_type": "execute_result"
    }
   ],
   "source": [
    "relieff_features[:30]"
   ]
  },
  {
   "cell_type": "code",
   "execution_count": 19,
   "id": "8f76d0da",
   "metadata": {},
   "outputs": [
    {
     "name": "stdout",
     "output_type": "stream",
     "text": [
      "\n",
      "Train Accuracy: 0.997\n",
      "\n",
      "Test Accuracy: 0.999\n",
      "\n",
      "Precision: 1.000\n",
      "\n",
      "Recall: 0.967\n",
      "\n",
      "F1-Score: 0.983\n"
     ]
    }
   ],
   "source": [
    "ml.evaluate_feature_set(relieff_features[:30], random_forest_test, X_train, y_train, X_val, y_val)"
   ]
  },
  {
   "cell_type": "markdown",
   "id": "40f94670",
   "metadata": {},
   "source": [
    "### Random Forest Feature Importances"
   ]
  },
  {
   "cell_type": "code",
   "execution_count": 20,
   "id": "6da5caec",
   "metadata": {},
   "outputs": [
    {
     "data": {
      "text/plain": [
       "['Creatinine [mg/dL]',\n",
       " 'Blood Urea Nitrogen [mg/dL]',\n",
       " 'Age',\n",
       " 'BMI',\n",
       " 'Ferritin [ng/mL]',\n",
       " 'Retinol [umol/L]',\n",
       " 'Osmolality [mmol/Kg]',\n",
       " 'Uric Acid [mg/dL]',\n",
       " '25-hydroxyvitamin D2 + D3 [nmol/L]',\n",
       " 'Total Iron Binding Capacity [umol/L]',\n",
       " 'Lactate Dehydrogenase [IU/L]',\n",
       " 'Vitamin C [umol/L]',\n",
       " 'Alpha-crypotoxanthin [umol/L]',\n",
       " 'Alanine Aminotransferase [U/L]',\n",
       " 'Creatine Phosphokinase [IU/L]',\n",
       " 'Transferrin receptor [nmol/L]',\n",
       " 'Iron [ug/dL]',\n",
       " 'RBC count [million cells/uL]',\n",
       " 'Alkaline Phosphatase [IU/L]',\n",
       " 'Iron frozen [umol/L]',\n",
       " 'Blood cadmium [nmol/L]',\n",
       " 'Lutein and zeaxanthin [umol/L]',\n",
       " 'Platelet_Lymphocyte Ratio',\n",
       " 'Beta-cryptoxanthin [umol/L]',\n",
       " 'Blood lead [umol/L]',\n",
       " 'Basophils [%]',\n",
       " 'Mean cell volume [fL]',\n",
       " 'Blood manganese [nmol/L]',\n",
       " 'Lymphocyte_Monocyte Ratio',\n",
       " 'Total Cholestrol_HDL Ratio']"
      ]
     },
     "execution_count": 20,
     "metadata": {},
     "output_type": "execute_result"
    }
   ],
   "source": [
    "random_forest_features = ml.get_rand_forest_features(random_forest, X_train)\n",
    "random_forest_features[:30]"
   ]
  },
  {
   "cell_type": "code",
   "execution_count": 21,
   "id": "de8bbbc5",
   "metadata": {},
   "outputs": [
    {
     "name": "stdout",
     "output_type": "stream",
     "text": [
      "\n",
      "Train Accuracy: 0.998\n",
      "\n",
      "Test Accuracy: 0.999\n",
      "\n",
      "Precision: 1.000\n",
      "\n",
      "Recall: 0.978\n",
      "\n",
      "F1-Score: 0.989\n"
     ]
    }
   ],
   "source": [
    "ml.evaluate_feature_set(random_forest_features, random_forest_test, X_train, y_train, X_val, y_val)"
   ]
  },
  {
   "cell_type": "markdown",
   "id": "281f4770",
   "metadata": {},
   "source": [
    "### Optimal no. of features"
   ]
  },
  {
   "cell_type": "code",
   "execution_count": 22,
   "id": "1dc7a7d5",
   "metadata": {},
   "outputs": [],
   "source": [
    "final_features = list(random_forest_features) "
   ]
  },
  {
   "cell_type": "code",
   "execution_count": 24,
   "id": "4aaf5159",
   "metadata": {},
   "outputs": [
    {
     "name": "stderr",
     "output_type": "stream",
     "text": [
      "Finding optimal no. of features..: 100%|████████| 85/85 [05:08<00:00,  3.62s/it]"
     ]
    },
    {
     "name": "stdout",
     "output_type": "stream",
     "text": [
      "\n",
      "Maximum f1 = 0.3406 for 6 features\n"
     ]
    },
    {
     "name": "stderr",
     "output_type": "stream",
     "text": [
      "\n"
     ]
    },
    {
     "data": {
      "image/png": "[encoded data removed]",
      "text/plain": [
       "<Figure size 1000x700 with 1 Axes>"
      ]
     },
     "metadata": {},
     "output_type": "display_data"
    }
   ],
   "source": [
    "# Optimal no. of features\n",
    "\n",
    "ml.plot_num_feature_performance(random_forest_test,  X, y, final_features, scoring='f1')"
   ]
  },
  {
   "cell_type": "code",
   "execution_count": 25,
   "id": "cdd1c71c",
   "metadata": {},
   "outputs": [
    {
     "name": "stderr",
     "output_type": "stream",
     "text": [
      "Finding optimal no. of features..: 100%|████████| 85/85 [05:10<00:00,  3.65s/it]"
     ]
    },
    {
     "name": "stdout",
     "output_type": "stream",
     "text": [
      "\n",
      "Maximum recall = 0.2336 for 6 features\n"
     ]
    },
    {
     "name": "stderr",
     "output_type": "stream",
     "text": [
      "\n"
     ]
    },
    {
     "data": {
      "image/png": "[encoded data removed]",
      "text/plain": [
       "<Figure size 1000x700 with 1 Axes>"
      ]
     },
     "metadata": {},
     "output_type": "display_data"
    }
   ],
   "source": [
    "# Optimal no. of features\n",
    "\n",
    "ml.plot_num_feature_performance(random_forest_test,  X, y, final_features, scoring='recall')"
   ]
  },
  {
   "cell_type": "code",
   "execution_count": 28,
   "id": "27de64c6",
   "metadata": {},
   "outputs": [],
   "source": [
    "num_features = 6\n",
    "\n",
    "selected = final_features[:num_features]\n",
    "selected.append('Weak/Failing kidneys')\n",
    "\n",
    "weak_kindey_df = weak_kindey_df[selected]"
   ]
  },
  {
   "cell_type": "code",
   "execution_count": 29,
   "id": "c2ac7c1e",
   "metadata": {},
   "outputs": [],
   "source": [
    "# Save feature set\n",
    "    \n",
    "with open('../Models/Weak kidneys/Feature Sets/Random Forest Features.pkl', 'wb') as f:\n",
    "    ml.pickle.dump(selected, f)"
   ]
  },
  {
   "cell_type": "markdown",
   "id": "cd4a3a33",
   "metadata": {},
   "source": [
    "## Preprocessing"
   ]
  },
  {
   "cell_type": "markdown",
   "id": "c436d4b1",
   "metadata": {},
   "source": [
    "### No Imputation"
   ]
  },
  {
   "cell_type": "code",
   "execution_count": 30,
   "id": "2f23d818",
   "metadata": {},
   "outputs": [],
   "source": [
    "# Imputing null values with zeroes\n",
    "\n",
    "X, y, X_train, X_val, X_test, y_train, y_val, y_test = ml.preprocess_and_split(df = weak_kindey_df, label = 'Weak/Failing kidneys',\n",
    "                                                        impute = False, scale=True,\n",
    "                                                        imputer=None,\n",
    "                                                        random_state=42)"
   ]
  },
  {
   "cell_type": "code",
   "execution_count": 31,
   "id": "d1dfdf72",
   "metadata": {},
   "outputs": [
    {
     "name": "stdout",
     "output_type": "stream",
     "text": [
      "\n",
      "Train Accuracy: 0.973\n",
      "\n",
      "Test Accuracy: 0.977\n",
      "\n",
      "Precision: 1.000\n",
      "\n",
      "Recall: 0.446\n",
      "\n",
      "F1-Score: 0.617\n"
     ]
    }
   ],
   "source": [
    "random_forest.fit(X_train, y_train)\n",
    "\n",
    "ml.evaluate_model_metrics(random_forest,X_train,y_train,X_val,y_val)"
   ]
  },
  {
   "cell_type": "markdown",
   "id": "32c7f0b2",
   "metadata": {},
   "source": [
    "### Zero Imputation"
   ]
  },
  {
   "cell_type": "code",
   "execution_count": 32,
   "id": "24b09db9",
   "metadata": {},
   "outputs": [],
   "source": [
    "# Imputing null values with zeroes\n",
    "\n",
    "X, y, X_train, X_val, X_test, y_train, y_val, y_test = ml.preprocess_and_split(df = weak_kindey_df, label = 'Weak/Failing kidneys',\n",
    "                                                        impute = True, scale=True,\n",
    "                                                        imputer=ml.SimpleImputer(strategy='constant',fill_value=0),\n",
    "                                                        random_state=42)"
   ]
  },
  {
   "cell_type": "code",
   "execution_count": 33,
   "id": "4c234679",
   "metadata": {},
   "outputs": [
    {
     "name": "stdout",
     "output_type": "stream",
     "text": [
      "\n",
      "Train Accuracy: 0.998\n",
      "\n",
      "Test Accuracy: 0.999\n",
      "\n",
      "Precision: 1.000\n",
      "\n",
      "Recall: 0.978\n",
      "\n",
      "F1-Score: 0.989\n"
     ]
    }
   ],
   "source": [
    "random_forest.fit(X_train, y_train)\n",
    "\n",
    "ml.evaluate_model_metrics(random_forest,X_train,y_train,X_val,y_val)"
   ]
  },
  {
   "cell_type": "markdown",
   "id": "1877522f",
   "metadata": {},
   "source": [
    "### Mode Imputation"
   ]
  },
  {
   "cell_type": "code",
   "execution_count": 34,
   "id": "fcca0b91",
   "metadata": {},
   "outputs": [],
   "source": [
    "# Imputing with most frequent values\n",
    "\n",
    "X, y, X_train, X_val, X_test, y_train, y_val, y_test = ml.preprocess_and_split(df = weak_kindey_df, label = 'Weak/Failing kidneys',\n",
    "                                                              impute = True, scale=True,\n",
    "                                                              imputer=ml.SimpleImputer(strategy='most_frequent'),\n",
    "                                                              random_state=42)"
   ]
  },
  {
   "cell_type": "code",
   "execution_count": 35,
   "id": "43855037",
   "metadata": {},
   "outputs": [
    {
     "name": "stdout",
     "output_type": "stream",
     "text": [
      "\n",
      "Train Accuracy: 0.998\n",
      "\n",
      "Test Accuracy: 0.999\n",
      "\n",
      "Precision: 1.000\n",
      "\n",
      "Recall: 0.978\n",
      "\n",
      "F1-Score: 0.989\n"
     ]
    }
   ],
   "source": [
    "random_forest.fit(X_train, y_train)\n",
    "\n",
    "ml.evaluate_model_metrics(random_forest,X_train,y_train,X_val,y_val)"
   ]
  },
  {
   "cell_type": "markdown",
   "id": "8484c25a",
   "metadata": {},
   "source": [
    "### k-NN Imputation"
   ]
  },
  {
   "cell_type": "code",
   "execution_count": 36,
   "id": "288ec08b",
   "metadata": {},
   "outputs": [],
   "source": [
    "# Imputing missing values with values from the k-nearest neighbors in the feature space\n",
    "\n",
    "X, y, X_train, X_val, X_test, y_train, y_val, y_test = ml.preprocess_and_split(df = weak_kindey_df, label = 'Weak/Failing kidneys',\n",
    "                                                              impute = True, scale=True,\n",
    "                                                              imputer=ml.KNNImputer(n_neighbors=20),\n",
    "                                                              random_state=42)"
   ]
  },
  {
   "cell_type": "code",
   "execution_count": 37,
   "id": "d03244a8",
   "metadata": {},
   "outputs": [
    {
     "name": "stdout",
     "output_type": "stream",
     "text": [
      "\n",
      "Train Accuracy: 0.998\n",
      "\n",
      "Test Accuracy: 0.999\n",
      "\n",
      "Precision: 1.000\n",
      "\n",
      "Recall: 0.978\n",
      "\n",
      "F1-Score: 0.989\n"
     ]
    }
   ],
   "source": [
    "random_forest.fit(X_train, y_train)\n",
    "\n",
    "ml.evaluate_model_metrics(random_forest,X_train,y_train,X_val,y_val)"
   ]
  },
  {
   "cell_type": "markdown",
   "id": "e8c1a99e",
   "metadata": {},
   "source": [
    "### Multiple Imputation by Chained Equations (MICE)"
   ]
  },
  {
   "cell_type": "code",
   "execution_count": 38,
   "id": "d78c9b6a",
   "metadata": {},
   "outputs": [],
   "source": [
    "# Imputes by looking at data from other columns and trying to estimate the best prediction for each missing value.\n",
    "\n",
    "X, y, X_train, X_val, X_test, y_train, y_val, y_test = ml.preprocess_and_split(df = weak_kindey_df, label = 'Weak/Failing kidneys',\n",
    "                                                              impute = True, scale=True,\n",
    "                                                              imputer=ml.IterativeImputer(max_iter=20),\n",
    "                                                              random_state=42)"
   ]
  },
  {
   "cell_type": "code",
   "execution_count": 39,
   "id": "78e0324b",
   "metadata": {},
   "outputs": [
    {
     "name": "stdout",
     "output_type": "stream",
     "text": [
      "\n",
      "Train Accuracy: 0.998\n",
      "\n",
      "Test Accuracy: 0.999\n",
      "\n",
      "Precision: 1.000\n",
      "\n",
      "Recall: 0.978\n",
      "\n",
      "F1-Score: 0.989\n"
     ]
    }
   ],
   "source": [
    "random_forest.fit(X_train, y_train)\n",
    "\n",
    "ml.evaluate_model_metrics(random_forest,X_train,y_train,X_val,y_val)"
   ]
  },
  {
   "cell_type": "markdown",
   "id": "ecf3258f",
   "metadata": {},
   "source": [
    "### Mean Imputation"
   ]
  },
  {
   "cell_type": "code",
   "execution_count": 40,
   "id": "cf825805",
   "metadata": {},
   "outputs": [],
   "source": [
    "# Splitting and Preprocessing data\n",
    "\n",
    "X, y, X_train, X_val, X_test, y_train, y_val, y_test = ml.preprocess_and_split(df = weak_kindey_df, label = 'Weak/Failing kidneys',\n",
    "                                                              impute = True, scale=True,\n",
    "                                                              imputer=ml.SimpleImputer(strategy='mean'),\n",
    "                                                              random_state=42)"
   ]
  },
  {
   "cell_type": "code",
   "execution_count": 41,
   "id": "c4eb9258",
   "metadata": {},
   "outputs": [
    {
     "name": "stdout",
     "output_type": "stream",
     "text": [
      "\n",
      "Train Accuracy: 0.998\n",
      "\n",
      "Test Accuracy: 0.999\n",
      "\n",
      "Precision: 1.000\n",
      "\n",
      "Recall: 0.967\n",
      "\n",
      "F1-Score: 0.983\n"
     ]
    }
   ],
   "source": [
    "random_forest.fit(X_train, y_train)\n",
    "\n",
    "ml.evaluate_model_metrics(random_forest,X_train,y_train,X_val,y_val)"
   ]
  },
  {
   "cell_type": "markdown",
   "id": "dc71288f",
   "metadata": {},
   "source": [
    "### Median Imputation"
   ]
  },
  {
   "cell_type": "code",
   "execution_count": 42,
   "id": "648640e9",
   "metadata": {},
   "outputs": [],
   "source": [
    "# Imputing with median values\n",
    "\n",
    "X, y, X_train, X_val, X_test, y_train, y_val, y_test = ml.preprocess_and_split(df = weak_kindey_df, label = 'Weak/Failing kidneys',\n",
    "                                                              impute = True, scale=True,\n",
    "                                                              imputer=ml.SimpleImputer(strategy='median'),\n",
    "                                                              random_state=42)"
   ]
  },
  {
   "cell_type": "code",
   "execution_count": 43,
   "id": "188ab3fd",
   "metadata": {},
   "outputs": [
    {
     "name": "stdout",
     "output_type": "stream",
     "text": [
      "\n",
      "Train Accuracy: 0.998\n",
      "\n",
      "Test Accuracy: 0.999\n",
      "\n",
      "Precision: 1.000\n",
      "\n",
      "Recall: 0.978\n",
      "\n",
      "F1-Score: 0.989\n"
     ]
    }
   ],
   "source": [
    "random_forest.fit(X_train, y_train)\n",
    "\n",
    "ml.evaluate_model_metrics(random_forest,X_train,y_train,X_val,y_val)"
   ]
  },
  {
   "cell_type": "markdown",
   "id": "5bd39f86",
   "metadata": {},
   "source": [
    "### Dropping Null Values"
   ]
  },
  {
   "cell_type": "code",
   "execution_count": 44,
   "id": "2a0f7318",
   "metadata": {
    "scrolled": true
   },
   "outputs": [],
   "source": [
    "# Drop null values\n",
    "weak_kindey_df_na = weak_kindey_df.dropna()\n",
    "\n",
    "X, y, X_train, X_val, X_test, y_train, y_val, y_test = ml.preprocess_and_split(df = weak_kindey_df_na, label = 'Weak/Failing kidneys',\n",
    "                                                              impute = False, scale=True,\n",
    "                                                              random_state=42)"
   ]
  },
  {
   "cell_type": "code",
   "execution_count": 45,
   "id": "f3c46212",
   "metadata": {},
   "outputs": [
    {
     "name": "stdout",
     "output_type": "stream",
     "text": [
      "\n",
      "Train Accuracy: 1.000\n",
      "\n",
      "Test Accuracy: 1.000\n",
      "\n",
      "Precision: 1.000\n",
      "\n",
      "Recall: 1.000\n",
      "\n",
      "F1-Score: 1.000\n"
     ]
    }
   ],
   "source": [
    "random_forest.fit(X_train, y_train)\n",
    "\n",
    "ml.evaluate_model_metrics(random_forest,X_train,y_train,X_val,y_val)"
   ]
  },
  {
   "cell_type": "markdown",
   "id": "d4f3c7a0",
   "metadata": {},
   "source": [
    "## Oversampling and Undersampling"
   ]
  },
  {
   "cell_type": "markdown",
   "id": "f2ab083d",
   "metadata": {},
   "source": [
    "### Random Oversampling"
   ]
  },
  {
   "cell_type": "code",
   "execution_count": 46,
   "id": "61c3f573",
   "metadata": {
    "scrolled": false
   },
   "outputs": [
    {
     "name": "stdout",
     "output_type": "stream",
     "text": [
      "\n",
      "Train Accuracy: 1.000\n",
      "\n",
      "Test Accuracy: 1.000\n",
      "\n",
      "Precision: 1.000\n",
      "\n",
      "Recall: 1.000\n",
      "\n",
      "F1-Score: 1.000\n"
     ]
    }
   ],
   "source": [
    "X_ros, y_ros = ml.random_over_sample(X_train, y_train)\n",
    "\n",
    "random_forest.fit(X_ros, y_ros)\n",
    "\n",
    "ml.evaluate_model_metrics(random_forest,X_ros, y_ros,X_val, y_val)"
   ]
  },
  {
   "cell_type": "markdown",
   "id": "55cc4ab2",
   "metadata": {},
   "source": [
    "### SMOTE (Synthetic Minority Over-sampling Technique)"
   ]
  },
  {
   "cell_type": "code",
   "execution_count": 47,
   "id": "5ed6c6b3",
   "metadata": {
    "scrolled": false
   },
   "outputs": [
    {
     "name": "stdout",
     "output_type": "stream",
     "text": [
      "\n",
      "Train Accuracy: 1.000\n",
      "\n",
      "Test Accuracy: 1.000\n",
      "\n",
      "Precision: 1.000\n",
      "\n",
      "Recall: 1.000\n",
      "\n",
      "F1-Score: 1.000\n"
     ]
    }
   ],
   "source": [
    "X_smote, y_smote = ml.smote_over_sample(X_train, y_train)\n",
    "\n",
    "random_forest.fit(X_smote, y_smote)\n",
    "\n",
    "ml.evaluate_model_metrics(random_forest,X_smote, y_smote,X_val, y_val)"
   ]
  },
  {
   "cell_type": "markdown",
   "id": "0532ee8b",
   "metadata": {},
   "source": [
    "### Random Undersampling"
   ]
  },
  {
   "cell_type": "code",
   "execution_count": 48,
   "id": "5286090b",
   "metadata": {
    "scrolled": false
   },
   "outputs": [
    {
     "name": "stdout",
     "output_type": "stream",
     "text": [
      "\n",
      "Train Accuracy: 1.000\n",
      "\n",
      "Test Accuracy: 0.806\n",
      "\n",
      "Precision: 0.160\n",
      "\n",
      "Recall: 1.000\n",
      "\n",
      "F1-Score: 0.276\n"
     ]
    }
   ],
   "source": [
    "X_rus, y_rus = ml.random_under_sample(X_train, y_train)\n",
    "\n",
    "random_forest.fit(X_rus, y_rus)\n",
    "\n",
    "ml.evaluate_model_metrics(random_forest,X_rus, y_rus,X_val, y_val)"
   ]
  },
  {
   "cell_type": "markdown",
   "id": "6defa173",
   "metadata": {},
   "source": [
    "### Tomek Links"
   ]
  },
  {
   "cell_type": "code",
   "execution_count": 49,
   "id": "f4fa6ccf",
   "metadata": {
    "scrolled": false
   },
   "outputs": [
    {
     "name": "stdout",
     "output_type": "stream",
     "text": [
      "\n",
      "Train Accuracy: 1.000\n",
      "\n",
      "Test Accuracy: 0.999\n",
      "\n",
      "Precision: 0.973\n",
      "\n",
      "Recall: 1.000\n",
      "\n",
      "F1-Score: 0.986\n"
     ]
    }
   ],
   "source": [
    "X_tomek, y_tomek = ml.tomek_links(X_train, y_train)\n",
    "\n",
    "random_forest.fit(X_tomek, y_tomek)\n",
    "\n",
    "ml.evaluate_model_metrics(random_forest,X_tomek, y_tomek,X_val, y_val)"
   ]
  },
  {
   "cell_type": "markdown",
   "id": "111c9c16",
   "metadata": {},
   "source": [
    "### SMOTE + Tomek Links"
   ]
  },
  {
   "cell_type": "code",
   "execution_count": 50,
   "id": "753149c7",
   "metadata": {
    "scrolled": false
   },
   "outputs": [
    {
     "name": "stdout",
     "output_type": "stream",
     "text": [
      "\n",
      "Train Accuracy: 1.000\n",
      "\n",
      "Test Accuracy: 1.000\n",
      "\n",
      "Precision: 1.000\n",
      "\n",
      "Recall: 1.000\n",
      "\n",
      "F1-Score: 1.000\n"
     ]
    }
   ],
   "source": [
    "X_smote_tomek, y_smote_tomek = ml.smote_tomek(X_train, y_train)\n",
    "\n",
    "random_forest.fit(X_smote_tomek, y_smote_tomek)\n",
    "\n",
    "ml.evaluate_model_metrics(random_forest,X_smote_tomek, y_smote_tomek,X_val, y_val)"
   ]
  },
  {
   "cell_type": "code",
   "execution_count": 51,
   "id": "1f3a2dd8",
   "metadata": {},
   "outputs": [],
   "source": [
    "# X_train, y_train = X_smote_tomek, y_smote_tomek"
   ]
  },
  {
   "cell_type": "markdown",
   "id": "9bda7751",
   "metadata": {},
   "source": [
    "## Hyperparameter Optimization "
   ]
  },
  {
   "cell_type": "markdown",
   "id": "a8911f34",
   "metadata": {},
   "source": [
    "### Grid Search"
   ]
  },
  {
   "cell_type": "code",
   "execution_count": 52,
   "id": "8bbd1f7f",
   "metadata": {},
   "outputs": [],
   "source": [
    "param_grid = {\n",
    "    \n",
    "    'bootstrap': [True, False],\n",
    "    'max_features': ['auto', 'sqrt', 'log2', None],\n",
    "    'criterion': ['gini', 'entropy', 'log_loss'],\n",
    "    'n_jobs': [-1],\n",
    "    'random_state': [42]\n",
    "\n",
    "}"
   ]
  },
  {
   "cell_type": "code",
   "execution_count": 53,
   "id": "1b862359",
   "metadata": {},
   "outputs": [],
   "source": [
    "grid_best_params, random_forest_grid = ml.grid_search_optimize(random_forest, param_grid, X_train, \n",
    "                                                                y_train, cv=10,scoring='accuracy')"
   ]
  },
  {
   "cell_type": "code",
   "execution_count": 54,
   "id": "86a4a7b5",
   "metadata": {},
   "outputs": [
    {
     "data": {
      "text/plain": [
       "{'bootstrap': True,\n",
       " 'criterion': 'entropy',\n",
       " 'max_features': None,\n",
       " 'n_jobs': -1,\n",
       " 'random_state': 42}"
      ]
     },
     "execution_count": 54,
     "metadata": {},
     "output_type": "execute_result"
    }
   ],
   "source": [
    "grid_best_params"
   ]
  },
  {
   "cell_type": "code",
   "execution_count": 55,
   "id": "2268aff4",
   "metadata": {},
   "outputs": [
    {
     "name": "stdout",
     "output_type": "stream",
     "text": [
      "\n",
      "Train Accuracy: 1.000\n",
      "\n",
      "Test Accuracy: 1.000\n",
      "\n",
      "Precision: 1.000\n",
      "\n",
      "Recall: 1.000\n",
      "\n",
      "F1-Score: 1.000\n"
     ]
    }
   ],
   "source": [
    "ml.evaluate_model_metrics(random_forest_grid,X_train,y_train,X_val,y_val)"
   ]
  },
  {
   "cell_type": "markdown",
   "id": "8458e5a6",
   "metadata": {},
   "source": [
    "### Random Search"
   ]
  },
  {
   "cell_type": "code",
   "execution_count": 56,
   "id": "cc4fcfeb",
   "metadata": {},
   "outputs": [],
   "source": [
    "rand_best_params, random_forest_rand = ml.random_search_optimize(random_forest,param_grid,n_iter=100,cv=5,\n",
    "                                                               X_train=X_train, y_train=y_train,\n",
    "                                                               scoring='accuracy')"
   ]
  },
  {
   "cell_type": "code",
   "execution_count": 57,
   "id": "a3aca564",
   "metadata": {},
   "outputs": [
    {
     "data": {
      "text/plain": [
       "{'random_state': 42,\n",
       " 'n_jobs': -1,\n",
       " 'max_features': None,\n",
       " 'criterion': 'entropy',\n",
       " 'bootstrap': True}"
      ]
     },
     "execution_count": 57,
     "metadata": {},
     "output_type": "execute_result"
    }
   ],
   "source": [
    "rand_best_params"
   ]
  },
  {
   "cell_type": "code",
   "execution_count": 58,
   "id": "0c27dea7",
   "metadata": {},
   "outputs": [
    {
     "name": "stdout",
     "output_type": "stream",
     "text": [
      "\n",
      "Train Accuracy: 1.000\n",
      "\n",
      "Test Accuracy: 1.000\n",
      "\n",
      "Precision: 1.000\n",
      "\n",
      "Recall: 1.000\n",
      "\n",
      "F1-Score: 1.000\n"
     ]
    }
   ],
   "source": [
    "ml.evaluate_model_metrics(random_forest_rand,X_train,y_train,X_val,y_val)"
   ]
  },
  {
   "cell_type": "markdown",
   "id": "7d6294a4",
   "metadata": {},
   "source": [
    "### Optuna"
   ]
  },
  {
   "cell_type": "code",
   "execution_count": 59,
   "id": "ae722921",
   "metadata": {},
   "outputs": [],
   "source": [
    "def objective(trial):\n",
    "\n",
    "    params = {\n",
    "        'bootstrap': trial.suggest_categorical('bootstrap', [True, False]),\n",
    "        'criterion': trial.suggest_categorical('criterion', ['gini', 'entropy']),\n",
    "        'n_jobs': trial.suggest_categorical('n_jobs', [-1])\n",
    "    }\n",
    "     \n",
    "    model = ml.RandomForestClassifier(**params)\n",
    "    \n",
    "    model.fit(X_train, y_train)\n",
    "    y_pred = model.predict(X_test)\n",
    "\n",
    "    accuracy = ml.accuracy_score(y_test, y_pred)\n",
    "\n",
    "    return accuracy"
   ]
  },
  {
   "cell_type": "code",
   "execution_count": 60,
   "id": "e7e379fd",
   "metadata": {},
   "outputs": [],
   "source": [
    "best_trial , random_forest_opt = ml.optuna_optimize(objective, ml.RandomForestClassifier, n_trials=150)"
   ]
  },
  {
   "cell_type": "code",
   "execution_count": 61,
   "id": "b9b8c5b6",
   "metadata": {},
   "outputs": [
    {
     "data": {
      "text/plain": [
       "{'bootstrap': False, 'criterion': 'gini', 'n_jobs': -1}"
      ]
     },
     "execution_count": 61,
     "metadata": {},
     "output_type": "execute_result"
    }
   ],
   "source": [
    "best_trial"
   ]
  },
  {
   "cell_type": "code",
   "execution_count": 62,
   "id": "9e3a828c",
   "metadata": {},
   "outputs": [
    {
     "name": "stdout",
     "output_type": "stream",
     "text": [
      "\n",
      "Train Accuracy: 1.000\n",
      "\n",
      "Test Accuracy: 1.000\n",
      "\n",
      "Precision: 1.000\n",
      "\n",
      "Recall: 1.000\n",
      "\n",
      "F1-Score: 1.000\n"
     ]
    }
   ],
   "source": [
    "random_forest_opt.fit(X_train,y_train)\n",
    "\n",
    "ml.evaluate_model_metrics(random_forest_opt,X_train,y_train,X_val,y_val)"
   ]
  },
  {
   "cell_type": "markdown",
   "id": "0d9910b8",
   "metadata": {},
   "source": [
    "## Evaluation on Test Set"
   ]
  },
  {
   "cell_type": "code",
   "execution_count": 63,
   "id": "d53424ec",
   "metadata": {},
   "outputs": [
    {
     "name": "stdout",
     "output_type": "stream",
     "text": [
      "\n",
      "Train Accuracy: 1.000\n",
      "\n",
      "Test Accuracy: 1.000\n",
      "\n",
      "Precision: 1.000\n",
      "\n",
      "Recall: 1.000\n",
      "\n",
      "F1-Score: 1.000\n",
      "\n",
      "Confusion Matrix:\n",
      "\n",
      "[[1843    0]\n",
      " [   0   77]]\n",
      "\n",
      "\n",
      "Classification Report:\n",
      "\n",
      "              precision    recall  f1-score   support\n",
      "\n",
      "     Class 0       1.00      1.00      1.00      1843\n",
      "     Class 1       1.00      1.00      1.00        77\n",
      "\n",
      "    accuracy                           1.00      1920\n",
      "   macro avg       1.00      1.00      1.00      1920\n",
      "weighted avg       1.00      1.00      1.00      1920\n",
      "\n",
      "\n",
      "ROC-AUC Curve:\n"
     ]
    },
    {
     "data": {
      "image/png": "[encoded data removed]",
      "text/plain": [
       "<Figure size 600x400 with 1 Axes>"
      ]
     },
     "metadata": {},
     "output_type": "display_data"
    }
   ],
   "source": [
    "# After evaluating on the validation set, we evaluate and finalize on the test set\n",
    "\n",
    "ml.evaluate_model_metrics(random_forest_grid, X_train, y_train, X_test, y_test, verbose=6)"
   ]
  },
  {
   "cell_type": "markdown",
   "id": "e7b5c88c",
   "metadata": {},
   "source": [
    "## Cross Validation"
   ]
  },
  {
   "cell_type": "markdown",
   "id": "7e539fb9",
   "metadata": {},
   "source": [
    "### K-fold"
   ]
  },
  {
   "cell_type": "code",
   "execution_count": 64,
   "id": "e77a24f0",
   "metadata": {},
   "outputs": [
    {
     "name": "stdout",
     "output_type": "stream",
     "text": [
      "\n",
      "accuracy scores: [0.96881497 0.96666667 0.96041667 0.96666667 0.96041667 0.95416667\n",
      " 0.9625     0.96666667 0.97083333 0.96458333]\n",
      "\n",
      "Mean accuracy score:  0.9641731635481635\n",
      "\n",
      "Standard deviation:  0.004646257893192659\n"
     ]
    }
   ],
   "source": [
    "ml.k_cross_validate(random_forest,X,y,cv=10,scoring='accuracy')"
   ]
  },
  {
   "cell_type": "code",
   "execution_count": 65,
   "id": "4aad10b7",
   "metadata": {},
   "outputs": [
    {
     "name": "stdout",
     "output_type": "stream",
     "text": [
      "\n",
      "accuracy scores: [0.97089397 0.96875    0.9625     0.96666667 0.96041667 0.95833333\n",
      " 0.96041667 0.96875    0.97083333 0.96041667]\n",
      "\n",
      "Mean accuracy score:  0.9647977304227305\n",
      "\n",
      "Standard deviation:  0.0046149279129084975\n"
     ]
    }
   ],
   "source": [
    "ml.k_cross_validate(random_forest_grid,X,y,cv=10,scoring='accuracy')"
   ]
  },
  {
   "cell_type": "code",
   "execution_count": 66,
   "id": "fa6ff1f4",
   "metadata": {},
   "outputs": [
    {
     "name": "stdout",
     "output_type": "stream",
     "text": [
      "\n",
      "accuracy scores: [0.97089397 0.96875    0.9625     0.96666667 0.96041667 0.95833333\n",
      " 0.96041667 0.96875    0.97083333 0.96041667]\n",
      "\n",
      "Mean accuracy score:  0.9647977304227305\n",
      "\n",
      "Standard deviation:  0.0046149279129084975\n"
     ]
    }
   ],
   "source": [
    "ml.k_cross_validate(random_forest_rand,X,y,cv=10,scoring='accuracy')"
   ]
  },
  {
   "cell_type": "code",
   "execution_count": 67,
   "id": "46f81577",
   "metadata": {},
   "outputs": [
    {
     "name": "stdout",
     "output_type": "stream",
     "text": [
      "\n",
      "accuracy scores: [0.97089397 0.96458333 0.96041667 0.96666667 0.96041667 0.95833333\n",
      " 0.9625     0.96666667 0.97291667 0.9625    ]\n",
      "\n",
      "Mean accuracy score:  0.9645893970893973\n",
      "\n",
      "Standard deviation:  0.004476762853984227\n"
     ]
    }
   ],
   "source": [
    "ml.k_cross_validate(random_forest_opt,X,y,cv=10,scoring='accuracy')"
   ]
  },
  {
   "cell_type": "markdown",
   "id": "ad831ffc",
   "metadata": {},
   "source": [
    "### Stratified K-fold"
   ]
  },
  {
   "cell_type": "code",
   "execution_count": 68,
   "id": "29a48b89",
   "metadata": {},
   "outputs": [
    {
     "name": "stdout",
     "output_type": "stream",
     "text": [
      "\n",
      "Average Accuracy: 0.9639643970893971\n",
      "\n",
      "Average Precision: 0.6182142857142857\n",
      "\n",
      "Average Recall: 0.23479532163742686\n",
      "\n",
      "Average F1-Score: 0.3320984269769877\n"
     ]
    }
   ],
   "source": [
    "ml.stratified_k_cross_validate(random_forest,X,y,n_splits=10)"
   ]
  },
  {
   "cell_type": "code",
   "execution_count": 69,
   "id": "e0f6f6d6",
   "metadata": {},
   "outputs": [
    {
     "name": "stdout",
     "output_type": "stream",
     "text": [
      "\n",
      "Average Accuracy: 0.9635481635481635\n",
      "\n",
      "Average Precision: 0.6087121212121213\n",
      "\n",
      "Average Recall: 0.22953216374269\n",
      "\n",
      "Average F1-Score: 0.32613986657464916\n"
     ]
    }
   ],
   "source": [
    "ml.stratified_k_cross_validate(random_forest_grid,X,y,n_splits=10)"
   ]
  },
  {
   "cell_type": "code",
   "execution_count": 70,
   "id": "5aa2c58d",
   "metadata": {},
   "outputs": [
    {
     "name": "stdout",
     "output_type": "stream",
     "text": [
      "\n",
      "Average Accuracy: 0.9635481635481635\n",
      "\n",
      "Average Precision: 0.6087121212121213\n",
      "\n",
      "Average Recall: 0.22953216374269\n",
      "\n",
      "Average F1-Score: 0.32613986657464916\n"
     ]
    }
   ],
   "source": [
    "ml.stratified_k_cross_validate(random_forest_rand,X,y,n_splits=10)"
   ]
  },
  {
   "cell_type": "code",
   "execution_count": 71,
   "id": "2c1453da",
   "metadata": {},
   "outputs": [
    {
     "name": "stdout",
     "output_type": "stream",
     "text": [
      "\n",
      "Average Accuracy: 0.9633398302148303\n",
      "\n",
      "Average Precision: 0.5926329226329226\n",
      "\n",
      "Average Recall: 0.25087719298245614\n",
      "\n",
      "Average F1-Score: 0.34471374965752777\n"
     ]
    }
   ],
   "source": [
    "ml.stratified_k_cross_validate(random_forest_opt,X,y,n_splits=10)"
   ]
  },
  {
   "cell_type": "markdown",
   "id": "7a471ca4",
   "metadata": {},
   "source": [
    "### Save Model"
   ]
  },
  {
   "cell_type": "code",
   "execution_count": 72,
   "id": "6e89475b",
   "metadata": {},
   "outputs": [],
   "source": [
    "final_random_forest_estimator = random_forest_opt"
   ]
  },
  {
   "cell_type": "code",
   "execution_count": 73,
   "id": "ea9c37ae",
   "metadata": {},
   "outputs": [
    {
     "name": "stdout",
     "output_type": "stream",
     "text": [
      "Saved Model\n"
     ]
    }
   ],
   "source": [
    "# Saving the model\n",
    "\n",
    "ml.save_model(final_random_forest_estimator, \"../Models/Weak kidneys/Random_Forest_Classifier.pkl\")"
   ]
  },
  {
   "cell_type": "markdown",
   "id": "de59f229",
   "metadata": {},
   "source": [
    "## Prediction"
   ]
  },
  {
   "cell_type": "code",
   "execution_count": 75,
   "id": "67af8316",
   "metadata": {},
   "outputs": [
    {
     "name": "stdout",
     "output_type": "stream",
     "text": [
      "Instance:\n",
      " [ 0.63848054 -0.81790778 -1.1466565  -0.48994806 -0.81833195  0.60730492]\n",
      "\n",
      "Expected Class:  0\n",
      "\n",
      " Modified Instance:\n",
      " [ 0.63848054 -0.8568463  -1.15919928 -0.5839045  -0.83843433  0.58573703]\n",
      "\n",
      "Predicted Class:  [0]\n"
     ]
    }
   ],
   "source": [
    "# Predicting on perturbed values\n",
    "\n",
    "sc = ml.np.random.rand()\n",
    "\n",
    "ml.predict_on_modified_instance(final_random_forest_estimator, X_test.iloc[0], y_test.iloc[0], sc)"
   ]
  },
  {
   "cell_type": "code",
   "execution_count": 78,
   "id": "a39b8dfe",
   "metadata": {},
   "outputs": [
    {
     "name": "stdout",
     "output_type": "stream",
     "text": [
      "Instance:\n",
      " [ 1.62612029  3.09013769  0.73041767  0.31902452 -0.20049924  1.12684908]\n",
      "\n",
      "Expected Class:  1\n",
      "\n",
      " Modified Instance:\n",
      " [ 1.62612029  3.02916508  0.58403746  0.39218316 -0.14131574  1.03893202]\n",
      "\n",
      "Predicted Class:  [0]\n"
     ]
    }
   ],
   "source": [
    "ml.predict_on_modified_instance(final_random_forest_estimator, X_test.iloc[18], y_test.iloc[18], sc)"
   ]
  },
  {
   "cell_type": "code",
   "execution_count": 85,
   "id": "4a3973c1",
   "metadata": {},
   "outputs": [
    {
     "name": "stdout",
     "output_type": "stream",
     "text": [
      "Instance:\n",
      " [0.94081924 1.9502911  1.01482285 0.49430191 7.28093483 3.11089227]\n",
      "\n",
      "Expected Class:  1\n",
      "\n",
      " Modified Instance:\n",
      " [0.94081924 2.05972709 1.16765373 0.50618877 7.17506551 3.22497487]\n",
      "\n",
      "Predicted Class:  [1]\n"
     ]
    }
   ],
   "source": [
    "ml.predict_on_modified_instance(final_random_forest_estimator, X_test.iloc[126], y_test.iloc[126], sc)"
   ]
  }
 ],
 "metadata": {
  "kernelspec": {
   "display_name": "Python 3 (ipykernel)",
   "language": "python",
   "name": "python3"
  },
  "language_info": {
   "codemirror_mode": {
    "name": "ipython",
    "version": 3
   },
   "file_extension": ".py",
   "mimetype": "text/x-python",
   "name": "python",
   "nbconvert_exporter": "python",
   "pygments_lexer": "ipython3",
   "version": "3.10.12"
  }
 },
 "nbformat": 4,
 "nbformat_minor": 5
}
