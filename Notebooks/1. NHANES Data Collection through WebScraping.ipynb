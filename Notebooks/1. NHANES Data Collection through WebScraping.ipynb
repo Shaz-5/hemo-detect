{
 "cells": [
  {
   "cell_type": "markdown",
   "id": "d22244e7",
   "metadata": {},
   "source": [
    "# Webscraping NHANES 2017-2018 Data Files"
   ]
  },
  {
   "cell_type": "markdown",
   "id": "7aa9de74",
   "metadata": {},
   "source": [
    "Here we automate the process of downloading XPT files from the National Health and Nutrition Examination Survey (NHANES) dataset for the year 2017-18. It utilizes web scraping libraries like BeautifulSoup and requests to extract XPT file links from a specific webpage. The script then uses the wget library to download each XPT file and save them to a designated directory."
   ]
  },
  {
   "cell_type": "code",
   "execution_count": 2,
   "id": "89cb241c",
   "metadata": {},
   "outputs": [],
   "source": [
    "import os\n",
    "import requests\n",
    "from bs4 import BeautifulSoup\n",
    "import wget"
   ]
  },
  {
   "cell_type": "code",
   "execution_count": 89,
   "id": "3fea713e",
   "metadata": {},
   "outputs": [
    {
     "name": "stdout",
     "output_type": "stream",
     "text": [
      "100% [........................................................] 509760 / 509760 ALB_CR_J.XPT downloaded\n",
      "100% [..........................................................] 96640 / 96640 UTAS_J.XPT downloaded\n",
      "100% [........................................................] 336400 / 336400 UAS_J.XPT downloaded\n",
      "100% [........................................................] 179680 / 179680 HDL_J.XPT downloaded\n",
      "100% [........................................................] 245040 / 245040 TRIGLY_J.XPT downloaded\n",
      "100% [........................................................] 179680 / 179680 TCHOL_J.XPT downloaded\n",
      "100% [..........................................................] 96640 / 96640 UCM_J.XPT downloaded\n",
      "100% [........................................................] 207680 / 207680 CRCO_J.XPT downloaded\n",
      "100% [......................................................] 1476320 / 1476320 CBC_J.XPT downloaded\n",
      "100% [........................................................] 318880 / 318880 COT_J.XPT downloaded\n",
      "100% [........................................................] 576080 / 576080 UCOT_J.XPT downloaded\n",
      "100% [..........................................................] 31120 / 31120 CMV_J.XPT downloaded\n",
      "100% [..........................................................] 80640 / 80640 ETHOX_J.XPT downloaded\n",
      "100% [......................................................] 1275120 / 1275120 FASTQX_J.XPT downloaded\n",
      "100% [........................................................] 177200 / 177200 FERTIN_J.XPT downloaded\n",
      "100% [........................................................] 337200 / 337200 FR_J.XPT downloaded\n",
      "100% [........................................................] 144960 / 144960 SSFR_J.XPT downloaded\n",
      "100% [........................................................] 164240 / 164240 FOLATE_J.XPT downloaded\n",
      "100% [........................................................] 654800 / 654800 FOLFMS_J.XPT downloaded\n",
      "100% [........................................................] 103520 / 103520 GHB_J.XPT downloaded\n",
      "100% [........................................................] 131520 / 131520 HEPA_J.XPT downloaded\n",
      "100% [........................................................] 239200 / 239200 HEPBD_J.XPT downloaded\n",
      "100% [........................................................] 131520 / 131520 HEPB_S_J.XPT downloaded\n",
      "100% [........................................................] 239200 / 239200 HEPC_J.XPT downloaded\n",
      "100% [........................................................] 179680 / 179680 HEPE_J.XPT downloaded\n",
      "100% [........................................................] 202000 / 202000 HSCRP_J.XPT downloaded\n",
      "100% [........................................................] 142080 / 142080 HIV_J.XPT downloaded\n",
      "100% [........................................................] 122880 / 122880 INS_J.XPT downloaded\n",
      "100% [..........................................................] 96640 / 96640 UIO_J.XPT downloaded\n",
      "100% [........................................................] 462880 / 462880 FETIB_J.XPT downloaded\n",
      "100% [......................................................] 1073840 / 1073840 PBCD_J.XPT downloaded\n",
      "100% [..........................................................] 96640 / 96640 UHG_J.XPT downloaded\n",
      "100% [........................................................] 671440 / 671440 IHGEM_J.XPT downloaded\n",
      "100% [........................................................] 576080 / 576080 UM_J.XPT downloaded\n",
      "100% [..........................................................] 96640 / 96640 UNI_J.XPT downloaded\n",
      "100% [........................................................] 337200 / 337200 OPD_J.XPT downloaded\n",
      "100% [........................................................] 192560 / 192560 PERNT_J.XPT downloaded\n",
      "100% [........................................................] 344800 / 344800 PFAS_J.XPT downloaded\n",
      "100% [........................................................] 162960 / 162960 SSPFAS_J.XPT downloaded\n",
      "100% [........................................................] 961840 / 961840 PHTHTE_J.XPT downloaded\n",
      "100% [..........................................................] 98480 / 98480 GLU_J.XPT downloaded\n",
      "100% [......................................................] 2106080 / 2106080 BIOPRO_J.XPT downloaded\n",
      "100% [........................................................] 177200 / 177200 TFR_J.XPT downloaded\n",
      "100% [........................................................] 637040 / 637040 UCFLOW_J.XPT downloaded\n",
      "100% [..........................................................] 18000 / 18000 UCPREG_J.XPT downloaded\n",
      "100% [......................................................] 2385520 / 2385520 VITAEC_J.XPT downloaded\n",
      "100% [........................................................] 239200 / 239200 VIC_J.XPT downloaded\n",
      "100% [........................................................] 604400 / 604400 VID_J.XPT downloaded\n",
      "100% [......................................................] 1103520 / 1103520 UVOC_J.XPT downloaded\n",
      "100% [........................................................] 288400 / 288400 SSUVOC_J.XPT downloaded\n",
      "100% [......................................................] 2093120 / 2093120 VOCWB_J.XPT downloaded\n",
      "Download completed!\n"
     ]
    }
   ],
   "source": [
    "# NHANES 2017-18 Laboratory Data URL\n",
    "url = \"https://wwwn.cdc.gov/nchs/nhanes/search/datapage.aspx?Component=Laboratory&CycleBeginYear=2017\"\n",
    "\n",
    "response = requests.get(url)\n",
    "\n",
    "# Parsing the HTML content using BeautifulSoup\n",
    "soup = BeautifulSoup(response.content, \"html.parser\")\n",
    "\n",
    "# Finding all anchor tags with links\n",
    "anchor_tags = soup.find_all(\"a\")\n",
    "\n",
    "# Extracting the XPT file links\n",
    "xpt_links = [tag[\"href\"] for tag in anchor_tags if tag.get(\"href\", \"\").endswith(\".XPT\")]\n",
    "\n",
    "# Specifying download location\n",
    "download_dir = \"../Dataset/Lab_XPT\"\n",
    "if not os.path.exists(download_dir):\n",
    "    os.makedirs(download_dir)\n",
    "\n",
    "# Downloading each XPT file\n",
    "for xpt_link in xpt_links:\n",
    "    xpt_url = \"https://wwwn.cdc.gov\" + xpt_link\n",
    "    xpt_file = os.path.basename(xpt_url)\n",
    "    save_path = os.path.join(download_dir, xpt_file)\n",
    "    wget.download(xpt_url, save_path)\n",
    "    print(f\" {xpt_file} downloaded\")\n",
    "\n",
    "print(\"Download completed!\")"
   ]
  },
  {
   "cell_type": "code",
   "execution_count": 87,
   "id": "c5ed799f",
   "metadata": {},
   "outputs": [
    {
     "name": "stdout",
     "output_type": "stream",
     "text": [
      "100% [......................................................] 3412720 / 3412720 DEMO_J.XPT downloaded\n"
     ]
    }
   ],
   "source": [
    "# Downloading Demographic Data\n",
    "download_dir = \"../Dataset/Demographic_XPT\"\n",
    "if not os.path.exists(download_dir):\n",
    "    os.makedirs(download_dir)\n",
    "\n",
    "demo_link = 'https://wwwn.cdc.gov/Nchs/Nhanes/2017-2018/DEMO_J.XPT'\n",
    "demo_file = os.path.basename(demo_link)\n",
    "save_path = os.path.join(download_dir, demo_file)\n",
    "wget.download(demo_link, save_path)\n",
    "print(f\" {demo_file} downloaded\")"
   ]
  },
  {
   "cell_type": "code",
   "execution_count": 5,
   "id": "4aa197a9",
   "metadata": {},
   "outputs": [
    {
     "name": "stdout",
     "output_type": "stream",
     "text": [
      "100% [......................................................] 1466000 / 1466000 BMX_J.XPT downloaded\n"
     ]
    }
   ],
   "source": [
    "# Downloading Examination Data\n",
    "download_dir = \"../Dataset/Examination_XPT\"\n",
    "if not os.path.exists(download_dir):\n",
    "    os.makedirs(download_dir)\n",
    "\n",
    "# We only download the Body Measurements\n",
    "ex_link = 'https://wwwn.cdc.gov/Nchs/Nhanes/2017-2018/BMX_J.XPT'\n",
    "ex_file = os.path.basename(ex_link)\n",
    "ex_path = os.path.join(download_dir, ex_file)\n",
    "wget.download(ex_link, ex_path)\n",
    "print(f\" {ex_file} downloaded\")"
   ]
  },
  {
   "cell_type": "code",
   "execution_count": 95,
   "id": "02ca533b",
   "metadata": {},
   "outputs": [
    {
     "name": "stdout",
     "output_type": "stream",
     "text": [
      "100% [........................................................] 405840 / 405840 ACQ_J.XPT downloaded\n",
      "100% [........................................................] 444800 / 444800 ALQ_J.XPT downloaded\n",
      "100% [......................................................] 4137120 / 4137120 AUQ_J.XPT downloaded\n",
      "100% [........................................................] 544560 / 544560 BPQ_J.XPT downloaded\n",
      "100% [........................................................] 531120 / 531120 CDQ_J.XPT downloaded\n",
      "100% [........................................................] 445840 / 445840 CBQ_J.XPT downloaded\n",
      "100% [......................................................] 2789440 / 2789440 CBQPFA_J.XPT downloaded\n",
      "100% [......................................................] 1188720 / 1188720 CBQPFC_J.XPT downloaded\n",
      "100% [........................................................] 604400 / 604400 HSQ_J.XPT downloaded\n",
      "100% [........................................................] 248240 / 248240 DEQ_J.XPT downloaded\n",
      "100% [......................................................] 3851840 / 3851840 DIQ_J.XPT downloaded\n",
      "100% [......................................................] 3412720 / 3412720 DBQ_J.XPT downloaded\n",
      "100% [........................................................] 927920 / 927920 DLQ_J.XPT downloaded\n",
      "100% [......................................................] 1506160 / 1506160 DUQ_J.XPT downloaded\n",
      "100% [........................................................] 249600 / 249600 ECQ_J.XPT downloaded\n",
      "100% [......................................................] 3635200 / 3635200 FSQ_J.XPT downloaded\n",
      "100% [......................................................] 1187520 / 1187520 HIQ_J.XPT downloaded\n",
      "100% [........................................................] 316560 / 316560 HEQ_J.XPT downloaded\n",
      "100% [........................................................] 742480 / 742480 HUQ_J.XPT downloaded\n",
      "100% [........................................................] 223360 / 223360 HOQ_J.XPT downloaded\n",
      "100% [........................................................] 816720 / 816720 IMQ_J.XPT downloaded\n",
      "100% [......................................................] 1187520 / 1187520 INQ_J.XPT downloaded\n",
      "100% [........................................................] 715840 / 715840 KIQ_U_J.XPT downloaded\n",
      "100% [......................................................] 5420800 / 5420800 MCQ_J.XPT downloaded\n",
      "100% [........................................................] 489280 / 489280 DPQ_J.XPT downloaded\n",
      "100% [........................................................] 495040 / 495040 OCQ_J.XPT downloaded\n",
      "100% [......................................................] 3138640 / 3138640 OHQ_J.XPT downloaded\n",
      "100% [......................................................] 2346560 / 2346560 OSQ_J.XPT downloaded\n",
      "100% [........................................................] 179680 / 179680 PUQMEC_J.XPT downloaded\n",
      "100% [........................................................] 799600 / 799600 PAQ_J.XPT downloaded\n",
      "100% [..........................................................] 90240 / 90240 PAQY_J.XPT downloaded\n",
      "100% [......................................................] 2431040 / 2431040 PFQ_J.XPT downloaded\n",
      "100% [......................................................] 9627680 / 9627680 RXQ_RX_J.XPT downloaded\n",
      "100% [........................................................] 250320 / 250320 RXQASA_J.XPT downloaded\n",
      "100% [......................................................] 1242960 / 1242960 RHQ_J.XPT downloaded\n",
      "100% [........................................................] 470560 / 470560 SLQ_J.XPT downloaded\n",
      "100% [......................................................] 2305600 / 2305600 SMQ_J.XPT downloaded\n",
      "100% [........................................................] 297440 / 297440 SMQFAM_J.XPT downloaded\n",
      "100% [......................................................] 1387200 / 1387200 SMQRTU_J.XPT downloaded\n",
      "100% [......................................................] 1113360 / 1113360 SMQSHS_J.XPT downloaded\n",
      "100% [........................................................] 587680 / 587680 VTQ_J.XPT downloaded\n",
      "100% [......................................................] 1829600 / 1829600 WHQ_J.XPT downloaded\n",
      "100% [..........................................................] 43040 / 43040 WHQMEC_J.XPT downloaded\n",
      "Download completed!\n"
     ]
    }
   ],
   "source": [
    "# Downloading Questionnaire Data\n",
    "q_url = 'https://wwwn.cdc.gov/nchs/nhanes/search/datapage.aspx?Component=Questionnaire&CycleBeginYear=2017'\n",
    "q_response = requests.get(q_url)\n",
    "\n",
    "q_soup = BeautifulSoup(q_response.content, \"html.parser\")\n",
    "\n",
    "q_anchor_tags = q_soup.find_all(\"a\")\n",
    "\n",
    "q_xpt_links = [tag[\"href\"] for tag in q_anchor_tags if tag.get(\"href\", \"\").endswith(\".XPT\")]\n",
    "\n",
    "q_download_dir = \"../Dataset/Questionnaire_XPT\"\n",
    "if not os.path.exists(q_download_dir):\n",
    "    os.makedirs(q_download_dir)\n",
    "    \n",
    "for q_xpt_link in q_xpt_links:\n",
    "    q_xpt_url = \"https://wwwn.cdc.gov\" + q_xpt_link\n",
    "    q_xpt_file = os.path.basename(q_xpt_url)\n",
    "    q_save_path = os.path.join(q_download_dir, q_xpt_file)\n",
    "    wget.download(q_xpt_url, q_save_path)\n",
    "    print(f\" {q_xpt_file} downloaded\")\n",
    "\n",
    "print(\"Download completed!\")"
   ]
  }
 ],
 "metadata": {
  "kernelspec": {
   "display_name": "Python 3 (ipykernel)",
   "language": "python",
   "name": "python3"
  },
  "language_info": {
   "codemirror_mode": {
    "name": "ipython",
    "version": 3
   },
   "file_extension": ".py",
   "mimetype": "text/x-python",
   "name": "python",
   "nbconvert_exporter": "python",
   "pygments_lexer": "ipython3",
   "version": "3.10.12"
  }
 },
 "nbformat": 4,
 "nbformat_minor": 5
}
