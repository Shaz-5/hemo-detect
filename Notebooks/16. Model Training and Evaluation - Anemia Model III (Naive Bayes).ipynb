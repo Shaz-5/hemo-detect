{
 "cells": [
  {
   "cell_type": "markdown",
   "id": "d2acf9f1",
   "metadata": {},
   "source": [
    "# Anemia - ml.GaussianNB"
   ]
  },
  {
   "cell_type": "code",
   "execution_count": 1,
   "id": "5c1b7eb2",
   "metadata": {},
   "outputs": [],
   "source": [
    "import some_load_train_evaluate_functions as ml"
   ]
  },
  {
   "cell_type": "code",
   "execution_count": 2,
   "id": "6b4433ef",
   "metadata": {},
   "outputs": [
    {
     "name": "stdout",
     "output_type": "stream",
     "text": [
      "Connected to database successfully.\n"
     ]
    }
   ],
   "source": [
    "path = '../KG/db.env'\n",
    "\n",
    "driver = ml.connect_to_neo4j(path)"
   ]
  },
  {
   "cell_type": "markdown",
   "id": "4016e569",
   "metadata": {},
   "source": [
    "### Load Data"
   ]
  },
  {
   "cell_type": "code",
   "execution_count": 3,
   "id": "76bbe0fe",
   "metadata": {},
   "outputs": [
    {
     "data": {
      "text/html": [
       "<div>\n",
       "<style scoped>\n",
       "    .dataframe tbody tr th:only-of-type {\n",
       "        vertical-align: middle;\n",
       "    }\n",
       "\n",
       "    .dataframe tbody tr th {\n",
       "        vertical-align: top;\n",
       "    }\n",
       "\n",
       "    .dataframe thead th {\n",
       "        text-align: right;\n",
       "    }\n",
       "</style>\n",
       "<table border=\"1\" class=\"dataframe\">\n",
       "  <thead>\n",
       "    <tr style=\"text-align: right;\">\n",
       "      <th></th>\n",
       "      <th>Respondent_ID</th>\n",
       "      <th>Gender</th>\n",
       "      <th>Age</th>\n",
       "      <th>BMI</th>\n",
       "      <th>25-hydroxyvitamin D2 + D3 [nmol/L]</th>\n",
       "      <th>A/G Ratio</th>\n",
       "      <th>Alpha-carotene [umol/L]</th>\n",
       "      <th>Alpha-crypotoxanthin [umol/L]</th>\n",
       "      <th>Alpha-tocopherol [umol/L]</th>\n",
       "      <th>Basophils [%]</th>\n",
       "      <th>...</th>\n",
       "      <th>Ferritin [ng/mL]</th>\n",
       "      <th>Gamma Glutamyl Transferase [IU/L]</th>\n",
       "      <th>Hemoglobin [g/dL]</th>\n",
       "      <th>Insulin [pmol/L]</th>\n",
       "      <th>LDL-Cholesterol(NIH2) [mmol/L]</th>\n",
       "      <th>Lactate Dehydrogenase [IU/L]</th>\n",
       "      <th>Transferrin Saturation [%]</th>\n",
       "      <th>Transferrin receptor [nmol/L]</th>\n",
       "      <th>Triglyceride [mmol/L]</th>\n",
       "      <th>Anemia</th>\n",
       "    </tr>\n",
       "  </thead>\n",
       "  <tbody>\n",
       "    <tr>\n",
       "      <th>0</th>\n",
       "      <td>93703</td>\n",
       "      <td>0</td>\n",
       "      <td>2</td>\n",
       "      <td>17.5</td>\n",
       "      <td>NaN</td>\n",
       "      <td>NaN</td>\n",
       "      <td>NaN</td>\n",
       "      <td>NaN</td>\n",
       "      <td>NaN</td>\n",
       "      <td>NaN</td>\n",
       "      <td>...</td>\n",
       "      <td>NaN</td>\n",
       "      <td>NaN</td>\n",
       "      <td>NaN</td>\n",
       "      <td>NaN</td>\n",
       "      <td>NaN</td>\n",
       "      <td>NaN</td>\n",
       "      <td>NaN</td>\n",
       "      <td>NaN</td>\n",
       "      <td>NaN</td>\n",
       "      <td>0</td>\n",
       "    </tr>\n",
       "    <tr>\n",
       "      <th>1</th>\n",
       "      <td>93704</td>\n",
       "      <td>1</td>\n",
       "      <td>2</td>\n",
       "      <td>15.7</td>\n",
       "      <td>74.4</td>\n",
       "      <td>NaN</td>\n",
       "      <td>NaN</td>\n",
       "      <td>NaN</td>\n",
       "      <td>NaN</td>\n",
       "      <td>0.7</td>\n",
       "      <td>...</td>\n",
       "      <td>36.60</td>\n",
       "      <td>NaN</td>\n",
       "      <td>13.1</td>\n",
       "      <td>NaN</td>\n",
       "      <td>NaN</td>\n",
       "      <td>NaN</td>\n",
       "      <td>NaN</td>\n",
       "      <td>30.6</td>\n",
       "      <td>NaN</td>\n",
       "      <td>0</td>\n",
       "    </tr>\n",
       "    <tr>\n",
       "      <th>2</th>\n",
       "      <td>93705</td>\n",
       "      <td>0</td>\n",
       "      <td>66</td>\n",
       "      <td>31.7</td>\n",
       "      <td>89.9</td>\n",
       "      <td>1.517241</td>\n",
       "      <td>0.138</td>\n",
       "      <td>0.071</td>\n",
       "      <td>26.006</td>\n",
       "      <td>1.0</td>\n",
       "      <td>...</td>\n",
       "      <td>28.70</td>\n",
       "      <td>21.0</td>\n",
       "      <td>11.9</td>\n",
       "      <td>NaN</td>\n",
       "      <td>NaN</td>\n",
       "      <td>174.0</td>\n",
       "      <td>28.0</td>\n",
       "      <td>39.8</td>\n",
       "      <td>NaN</td>\n",
       "      <td>0</td>\n",
       "    </tr>\n",
       "    <tr>\n",
       "      <th>3</th>\n",
       "      <td>93706</td>\n",
       "      <td>1</td>\n",
       "      <td>18</td>\n",
       "      <td>21.5</td>\n",
       "      <td>53.8</td>\n",
       "      <td>1.629630</td>\n",
       "      <td>0.160</td>\n",
       "      <td>0.031</td>\n",
       "      <td>16.765</td>\n",
       "      <td>0.8</td>\n",
       "      <td>...</td>\n",
       "      <td>284.00</td>\n",
       "      <td>16.0</td>\n",
       "      <td>16.3</td>\n",
       "      <td>NaN</td>\n",
       "      <td>NaN</td>\n",
       "      <td>142.0</td>\n",
       "      <td>51.0</td>\n",
       "      <td>34.0</td>\n",
       "      <td>NaN</td>\n",
       "      <td>0</td>\n",
       "    </tr>\n",
       "    <tr>\n",
       "      <th>4</th>\n",
       "      <td>93707</td>\n",
       "      <td>1</td>\n",
       "      <td>13</td>\n",
       "      <td>18.1</td>\n",
       "      <td>58.2</td>\n",
       "      <td>1.857143</td>\n",
       "      <td>0.009</td>\n",
       "      <td>0.044</td>\n",
       "      <td>22.756</td>\n",
       "      <td>0.5</td>\n",
       "      <td>...</td>\n",
       "      <td>49.30</td>\n",
       "      <td>9.0</td>\n",
       "      <td>14.5</td>\n",
       "      <td>NaN</td>\n",
       "      <td>NaN</td>\n",
       "      <td>177.0</td>\n",
       "      <td>21.0</td>\n",
       "      <td>34.0</td>\n",
       "      <td>NaN</td>\n",
       "      <td>0</td>\n",
       "    </tr>\n",
       "    <tr>\n",
       "      <th>...</th>\n",
       "      <td>...</td>\n",
       "      <td>...</td>\n",
       "      <td>...</td>\n",
       "      <td>...</td>\n",
       "      <td>...</td>\n",
       "      <td>...</td>\n",
       "      <td>...</td>\n",
       "      <td>...</td>\n",
       "      <td>...</td>\n",
       "      <td>...</td>\n",
       "      <td>...</td>\n",
       "      <td>...</td>\n",
       "      <td>...</td>\n",
       "      <td>...</td>\n",
       "      <td>...</td>\n",
       "      <td>...</td>\n",
       "      <td>...</td>\n",
       "      <td>...</td>\n",
       "      <td>...</td>\n",
       "      <td>...</td>\n",
       "      <td>...</td>\n",
       "    </tr>\n",
       "    <tr>\n",
       "      <th>8877</th>\n",
       "      <td>102952</td>\n",
       "      <td>0</td>\n",
       "      <td>70</td>\n",
       "      <td>20.0</td>\n",
       "      <td>82.7</td>\n",
       "      <td>1.846154</td>\n",
       "      <td>0.235</td>\n",
       "      <td>0.077</td>\n",
       "      <td>31.347</td>\n",
       "      <td>0.6</td>\n",
       "      <td>...</td>\n",
       "      <td>135.00</td>\n",
       "      <td>18.0</td>\n",
       "      <td>13.4</td>\n",
       "      <td>26.34</td>\n",
       "      <td>1.112</td>\n",
       "      <td>168.0</td>\n",
       "      <td>39.0</td>\n",
       "      <td>29.1</td>\n",
       "      <td>0.881</td>\n",
       "      <td>0</td>\n",
       "    </tr>\n",
       "    <tr>\n",
       "      <th>8878</th>\n",
       "      <td>102953</td>\n",
       "      <td>1</td>\n",
       "      <td>42</td>\n",
       "      <td>35.8</td>\n",
       "      <td>49.5</td>\n",
       "      <td>1.142857</td>\n",
       "      <td>0.106</td>\n",
       "      <td>0.080</td>\n",
       "      <td>21.873</td>\n",
       "      <td>0.6</td>\n",
       "      <td>...</td>\n",
       "      <td>120.00</td>\n",
       "      <td>28.0</td>\n",
       "      <td>15.5</td>\n",
       "      <td>NaN</td>\n",
       "      <td>NaN</td>\n",
       "      <td>136.0</td>\n",
       "      <td>20.0</td>\n",
       "      <td>28.6</td>\n",
       "      <td>NaN</td>\n",
       "      <td>0</td>\n",
       "    </tr>\n",
       "    <tr>\n",
       "      <th>8879</th>\n",
       "      <td>102954</td>\n",
       "      <td>0</td>\n",
       "      <td>41</td>\n",
       "      <td>26.1</td>\n",
       "      <td>50.5</td>\n",
       "      <td>1.500000</td>\n",
       "      <td>0.117</td>\n",
       "      <td>0.056</td>\n",
       "      <td>26.935</td>\n",
       "      <td>1.4</td>\n",
       "      <td>...</td>\n",
       "      <td>1.99</td>\n",
       "      <td>8.0</td>\n",
       "      <td>6.4</td>\n",
       "      <td>56.94</td>\n",
       "      <td>2.793</td>\n",
       "      <td>123.0</td>\n",
       "      <td>5.0</td>\n",
       "      <td>248.0</td>\n",
       "      <td>0.553</td>\n",
       "      <td>0</td>\n",
       "    </tr>\n",
       "    <tr>\n",
       "      <th>8880</th>\n",
       "      <td>102955</td>\n",
       "      <td>0</td>\n",
       "      <td>14</td>\n",
       "      <td>45.6</td>\n",
       "      <td>61.9</td>\n",
       "      <td>1.205882</td>\n",
       "      <td>0.031</td>\n",
       "      <td>0.079</td>\n",
       "      <td>17.856</td>\n",
       "      <td>0.9</td>\n",
       "      <td>...</td>\n",
       "      <td>11.40</td>\n",
       "      <td>16.0</td>\n",
       "      <td>11.4</td>\n",
       "      <td>NaN</td>\n",
       "      <td>NaN</td>\n",
       "      <td>158.0</td>\n",
       "      <td>5.0</td>\n",
       "      <td>57.7</td>\n",
       "      <td>NaN</td>\n",
       "      <td>0</td>\n",
       "    </tr>\n",
       "    <tr>\n",
       "      <th>8881</th>\n",
       "      <td>102956</td>\n",
       "      <td>1</td>\n",
       "      <td>38</td>\n",
       "      <td>36.1</td>\n",
       "      <td>58.9</td>\n",
       "      <td>1.482759</td>\n",
       "      <td>0.026</td>\n",
       "      <td>0.038</td>\n",
       "      <td>21.177</td>\n",
       "      <td>1.0</td>\n",
       "      <td>...</td>\n",
       "      <td>553.00</td>\n",
       "      <td>72.0</td>\n",
       "      <td>17.4</td>\n",
       "      <td>634.38</td>\n",
       "      <td>2.172</td>\n",
       "      <td>134.0</td>\n",
       "      <td>35.0</td>\n",
       "      <td>23.4</td>\n",
       "      <td>3.037</td>\n",
       "      <td>0</td>\n",
       "    </tr>\n",
       "  </tbody>\n",
       "</table>\n",
       "<p>8882 rows × 91 columns</p>\n",
       "</div>"
      ],
      "text/plain": [
       "      Respondent_ID  Gender  Age   BMI  25-hydroxyvitamin D2 + D3 [nmol/L]  \\\n",
       "0             93703       0    2  17.5                                 NaN   \n",
       "1             93704       1    2  15.7                                74.4   \n",
       "2             93705       0   66  31.7                                89.9   \n",
       "3             93706       1   18  21.5                                53.8   \n",
       "4             93707       1   13  18.1                                58.2   \n",
       "...             ...     ...  ...   ...                                 ...   \n",
       "8877         102952       0   70  20.0                                82.7   \n",
       "8878         102953       1   42  35.8                                49.5   \n",
       "8879         102954       0   41  26.1                                50.5   \n",
       "8880         102955       0   14  45.6                                61.9   \n",
       "8881         102956       1   38  36.1                                58.9   \n",
       "\n",
       "      A/G Ratio  Alpha-carotene [umol/L]  Alpha-crypotoxanthin [umol/L]  \\\n",
       "0           NaN                      NaN                            NaN   \n",
       "1           NaN                      NaN                            NaN   \n",
       "2      1.517241                    0.138                          0.071   \n",
       "3      1.629630                    0.160                          0.031   \n",
       "4      1.857143                    0.009                          0.044   \n",
       "...         ...                      ...                            ...   \n",
       "8877   1.846154                    0.235                          0.077   \n",
       "8878   1.142857                    0.106                          0.080   \n",
       "8879   1.500000                    0.117                          0.056   \n",
       "8880   1.205882                    0.031                          0.079   \n",
       "8881   1.482759                    0.026                          0.038   \n",
       "\n",
       "      Alpha-tocopherol [umol/L]  Basophils [%]  ...  Ferritin [ng/mL]  \\\n",
       "0                           NaN            NaN  ...               NaN   \n",
       "1                           NaN            0.7  ...             36.60   \n",
       "2                        26.006            1.0  ...             28.70   \n",
       "3                        16.765            0.8  ...            284.00   \n",
       "4                        22.756            0.5  ...             49.30   \n",
       "...                         ...            ...  ...               ...   \n",
       "8877                     31.347            0.6  ...            135.00   \n",
       "8878                     21.873            0.6  ...            120.00   \n",
       "8879                     26.935            1.4  ...              1.99   \n",
       "8880                     17.856            0.9  ...             11.40   \n",
       "8881                     21.177            1.0  ...            553.00   \n",
       "\n",
       "      Gamma Glutamyl Transferase [IU/L]  Hemoglobin [g/dL]  Insulin [pmol/L]  \\\n",
       "0                                   NaN                NaN               NaN   \n",
       "1                                   NaN               13.1               NaN   \n",
       "2                                  21.0               11.9               NaN   \n",
       "3                                  16.0               16.3               NaN   \n",
       "4                                   9.0               14.5               NaN   \n",
       "...                                 ...                ...               ...   \n",
       "8877                               18.0               13.4             26.34   \n",
       "8878                               28.0               15.5               NaN   \n",
       "8879                                8.0                6.4             56.94   \n",
       "8880                               16.0               11.4               NaN   \n",
       "8881                               72.0               17.4            634.38   \n",
       "\n",
       "      LDL-Cholesterol(NIH2) [mmol/L]  Lactate Dehydrogenase [IU/L]  \\\n",
       "0                                NaN                           NaN   \n",
       "1                                NaN                           NaN   \n",
       "2                                NaN                         174.0   \n",
       "3                                NaN                         142.0   \n",
       "4                                NaN                         177.0   \n",
       "...                              ...                           ...   \n",
       "8877                           1.112                         168.0   \n",
       "8878                             NaN                         136.0   \n",
       "8879                           2.793                         123.0   \n",
       "8880                             NaN                         158.0   \n",
       "8881                           2.172                         134.0   \n",
       "\n",
       "      Transferrin Saturation [%]  Transferrin receptor [nmol/L]  \\\n",
       "0                            NaN                            NaN   \n",
       "1                            NaN                           30.6   \n",
       "2                           28.0                           39.8   \n",
       "3                           51.0                           34.0   \n",
       "4                           21.0                           34.0   \n",
       "...                          ...                            ...   \n",
       "8877                        39.0                           29.1   \n",
       "8878                        20.0                           28.6   \n",
       "8879                         5.0                          248.0   \n",
       "8880                         5.0                           57.7   \n",
       "8881                        35.0                           23.4   \n",
       "\n",
       "      Triglyceride [mmol/L]  Anemia  \n",
       "0                       NaN       0  \n",
       "1                       NaN       0  \n",
       "2                       NaN       0  \n",
       "3                       NaN       0  \n",
       "4                       NaN       0  \n",
       "...                     ...     ...  \n",
       "8877                  0.881       0  \n",
       "8878                    NaN       0  \n",
       "8879                  0.553       0  \n",
       "8880                    NaN       0  \n",
       "8881                  3.037       0  \n",
       "\n",
       "[8882 rows x 91 columns]"
      ]
     },
     "execution_count": 3,
     "metadata": {},
     "output_type": "execute_result"
    }
   ],
   "source": [
    "# Anemia data\n",
    "\n",
    "anemia_df = ml.get_data_of_disease(driver, 'Anemia')\n",
    "anemia_df"
   ]
  },
  {
   "cell_type": "markdown",
   "id": "6578093d",
   "metadata": {},
   "source": [
    "### Training"
   ]
  },
  {
   "cell_type": "code",
   "execution_count": 4,
   "id": "995292f6",
   "metadata": {},
   "outputs": [
    {
     "name": "stdout",
     "output_type": "stream",
     "text": [
      "Training Accuracy:  0.8730471498944405\n",
      "Testing Accuracy:  0.8789414414414415\n"
     ]
    }
   ],
   "source": [
    "gaussian_nb = ml.GaussianNB()\n",
    "\n",
    "# Attributes and Labels\n",
    "\n",
    "X, y, X_train, X_val, X_test, y_train, y_val, y_test = ml.preprocess_and_split(df = anemia_df, label = 'Anemia',\n",
    "                                                              impute = True, scale=True,\n",
    "                                                              imputer=ml.SimpleImputer(strategy='mean'),\n",
    "                                                              random_state=42)\n",
    "\n",
    "# Training\n",
    "\n",
    "gaussian_nb.fit(X_train, y_train)\n",
    "\n",
    "# Accuracy scores\n",
    "\n",
    "y_pred = gaussian_nb.predict(X_val)\n",
    "\n",
    "print('Training Accuracy: ',ml.accuracy_score(y_train, gaussian_nb.predict(X_train)))\n",
    "\n",
    "print('Testing Accuracy: ',ml.accuracy_score(y_val, y_pred))"
   ]
  },
  {
   "cell_type": "markdown",
   "id": "44142f21",
   "metadata": {},
   "source": [
    "## Feature Selection"
   ]
  },
  {
   "cell_type": "markdown",
   "id": "c60fc52a",
   "metadata": {},
   "source": [
    "### Correlation Analysis"
   ]
  },
  {
   "cell_type": "code",
   "execution_count": 5,
   "id": "a8302272",
   "metadata": {},
   "outputs": [],
   "source": [
    "gaussian_nb_test = ml.GaussianNB()"
   ]
  },
  {
   "cell_type": "code",
   "execution_count": 21,
   "id": "4bf4ee40",
   "metadata": {},
   "outputs": [
    {
     "data": {
      "text/plain": [
       "['Red cell distribution width [%]',\n",
       " 'Transferrin receptor [nmol/L]',\n",
       " 'Platelet_Lymphocyte Ratio',\n",
       " 'UIBC [umol/L]',\n",
       " 'C-Reactive Protein [mg/L]',\n",
       " 'Age',\n",
       " 'BMI',\n",
       " 'Blood Urea Nitrogen [mg/dL]',\n",
       " 'Systemic Immune‐inflammation Index (SII)',\n",
       " 'Globulin [g/dL]',\n",
       " 'Neutrophil_Lymphocyte Ratio',\n",
       " 'Cobalt [nmol/L]',\n",
       " 'Segmented neutrophils [%]',\n",
       " 'Blood cadmium [nmol/L]',\n",
       " 'Creatinine [mg/dL]',\n",
       " 'Chloride [mmol/L]',\n",
       " 'Total Iron Binding Capacity [umol/L]',\n",
       " 'Blood manganese [nmol/L]',\n",
       " 'Insulin [pmol/L]',\n",
       " 'Osmolality [mmol/Kg]',\n",
       " 'Platelet count [1000 cells/uL]',\n",
       " 'Platelet_WBC Ratio',\n",
       " 'Fasting Glucose [mmol/L]',\n",
       " '25-hydroxyvitamin D2 + D3 [nmol/L]',\n",
       " 'Gamma-tocopherol [umol/L]',\n",
       " 'Retinol [umol/L]',\n",
       " 'Direct HDL-Cholesterol [mmol/L]',\n",
       " 'Glycohemoglobin [%]',\n",
       " 'Mean platelet volume [fL]',\n",
       " 'Basophils [%]']"
      ]
     },
     "execution_count": 21,
     "metadata": {},
     "output_type": "execute_result"
    }
   ],
   "source": [
    "pos_corr, neg_corr = ml.get_correlated_features(anemia_df,'Anemia',pos=0.0,neg=-0.0)\n",
    "\n",
    "corr_features = list(pos_corr.keys()[1:]) + list(neg_corr.keys())\n",
    "corr_features[:30]"
   ]
  },
  {
   "cell_type": "code",
   "execution_count": 22,
   "id": "34987aa0",
   "metadata": {},
   "outputs": [
    {
     "name": "stdout",
     "output_type": "stream",
     "text": [
      "\n",
      "Train Accuracy: 0.900\n",
      "\n",
      "Test Accuracy: 0.898\n",
      "\n",
      "Precision: 0.142\n",
      "\n",
      "Recall: 0.331\n",
      "\n",
      "F1-Score: 0.199\n"
     ]
    }
   ],
   "source": [
    "ml.evaluate_feature_set(corr_features[:30], gaussian_nb_test, X_train, y_train, X_val, y_val)"
   ]
  },
  {
   "cell_type": "markdown",
   "id": "9df33603",
   "metadata": {},
   "source": [
    "### SelectFromModel"
   ]
  },
  {
   "cell_type": "code",
   "execution_count": 10,
   "id": "a245d928",
   "metadata": {},
   "outputs": [
    {
     "data": {
      "text/plain": [
       "['Gender',\n",
       " 'Age',\n",
       " 'A/G Ratio',\n",
       " 'Alpha-crypotoxanthin [umol/L]',\n",
       " 'Blood mercury [nmol/L]',\n",
       " 'Globulin [g/dL]',\n",
       " 'Glycohemoglobin [%]',\n",
       " 'Hematocrit [%]',\n",
       " 'Hydroxycotinine [ng/mL]',\n",
       " 'Iron frozen [umol/L]',\n",
       " 'Mean cell hemoglobin [pg]',\n",
       " 'Mean cell volume [fL]',\n",
       " 'Neutrophil_Lymphocyte Ratio',\n",
       " 'Osmolality [mmol/Kg]',\n",
       " 'Platelet count [1000 cells/uL]',\n",
       " 'Platelet_Lymphocyte Ratio',\n",
       " 'RBC count [million cells/uL]',\n",
       " 'Red cell distribution width [%]',\n",
       " 'Retinol [umol/L]',\n",
       " 'Retinyl palmitate [umol/L]',\n",
       " 'Sodium [mmol/L]',\n",
       " 'Systemic Immune‐inflammation Index (SII)',\n",
       " 'Total Cholestrol_HDL Ratio',\n",
       " 'Total Lycopene [umol/L]',\n",
       " 'Trans-lycopene [umol/L]',\n",
       " 'Alanine Aminotransferase [U/L]',\n",
       " 'Albumin [g/dL]',\n",
       " 'Hemoglobin [g/dL]',\n",
       " 'Transferrin Saturation [%]',\n",
       " 'Transferrin receptor [nmol/L]']"
      ]
     },
     "execution_count": 10,
     "metadata": {},
     "output_type": "execute_result"
    }
   ],
   "source": [
    "sfm_features = ml.select_from_model_features(ml.LogisticRegression(),X,y)\n",
    "sfm_features"
   ]
  },
  {
   "cell_type": "code",
   "execution_count": 11,
   "id": "17b4d45b",
   "metadata": {},
   "outputs": [
    {
     "name": "stdout",
     "output_type": "stream",
     "text": [
      "\n",
      "Train Accuracy: 0.897\n",
      "\n",
      "Test Accuracy: 0.899\n",
      "\n",
      "Precision: 0.183\n",
      "\n",
      "Recall: 0.471\n",
      "\n",
      "F1-Score: 0.263\n"
     ]
    }
   ],
   "source": [
    "sfm_features = list(sfm_features)\n",
    "\n",
    "ml.evaluate_feature_set(sfm_features, gaussian_nb_test, X_train, y_train, X_val, y_val)"
   ]
  },
  {
   "cell_type": "markdown",
   "id": "15f3ce0f",
   "metadata": {},
   "source": [
    "### SelectKBest"
   ]
  },
  {
   "cell_type": "code",
   "execution_count": 12,
   "id": "238022df",
   "metadata": {},
   "outputs": [
    {
     "data": {
      "text/plain": [
       "['Red cell distribution width [%]',\n",
       " 'Hemoglobin [g/dL]',\n",
       " 'Hematocrit [%]',\n",
       " 'Mean Cell Hgb Conc. [g/dL]',\n",
       " 'Transferrin receptor [nmol/L]',\n",
       " 'RBC count [million cells/uL]',\n",
       " 'Albumin [g/dL]',\n",
       " 'Gender',\n",
       " 'A/G Ratio',\n",
       " 'Transferrin Saturation [%]',\n",
       " 'Mean cell hemoglobin [pg]',\n",
       " 'Platelet_Lymphocyte Ratio',\n",
       " 'Iron [ug/dL]',\n",
       " 'Iron frozen [umol/L]',\n",
       " 'Age',\n",
       " 'UIBC [umol/L]',\n",
       " 'C-Reactive Protein [mg/L]',\n",
       " 'Total Calcium [mg/dL]',\n",
       " 'BMI',\n",
       " 'Blood Urea Nitrogen [mg/dL]',\n",
       " 'Systemic Immune‐inflammation Index (SII)',\n",
       " 'Total Bilirubin [mg/dL]',\n",
       " 'Globulin [g/dL]',\n",
       " 'Neutrophil_Lymphocyte Ratio',\n",
       " 'Alpha-crypotoxanthin [umol/L]',\n",
       " 'Alanine Aminotransferase [U/L]',\n",
       " 'Mean cell volume [fL]',\n",
       " 'Segmented neutrophils [%]',\n",
       " 'Lymphocyte_C-Reactive Protein Ratio',\n",
       " 'Lymphocyte [%]']"
      ]
     },
     "execution_count": 12,
     "metadata": {},
     "output_type": "execute_result"
    }
   ],
   "source": [
    "k_best_features = ml.select_k_best(X, y, n=30)\n",
    "k_best_features[:30]"
   ]
  },
  {
   "cell_type": "code",
   "execution_count": 13,
   "id": "b756eeaa",
   "metadata": {},
   "outputs": [
    {
     "name": "stdout",
     "output_type": "stream",
     "text": [
      "\n",
      "Train Accuracy: 0.891\n",
      "\n",
      "Test Accuracy: 0.897\n",
      "\n",
      "Precision: 0.176\n",
      "\n",
      "Recall: 0.463\n",
      "\n",
      "F1-Score: 0.256\n"
     ]
    }
   ],
   "source": [
    "ml.evaluate_feature_set(k_best_features[:30], gaussian_nb_test, X_train, y_train, X_val, y_val)"
   ]
  },
  {
   "cell_type": "markdown",
   "id": "933ccbc1",
   "metadata": {},
   "source": [
    "### Recursive Feature Elimination (RFE) "
   ]
  },
  {
   "cell_type": "code",
   "execution_count": 14,
   "id": "82685afa",
   "metadata": {},
   "outputs": [
    {
     "data": {
      "text/plain": [
       "['Gender',\n",
       " 'Mean cell volume [fL]',\n",
       " 'Mean cell hemoglobin [pg]',\n",
       " 'Osmolality [mmol/Kg]',\n",
       " 'Transferrin receptor [nmol/L]',\n",
       " 'Lymphocyte_C-Reactive Protein Ratio',\n",
       " 'Platelet count [1000 cells/uL]',\n",
       " 'Iron frozen [umol/L]',\n",
       " 'RBC count [million cells/uL]',\n",
       " 'Red cell distribution width [%]',\n",
       " 'Hematocrit [%]',\n",
       " 'Glycohemoglobin [%]',\n",
       " 'Sodium [mmol/L]',\n",
       " 'Systemic Immune‐inflammation Index (SII)',\n",
       " 'Non_HDL Ratio',\n",
       " 'Total Cholestrol_HDL Ratio',\n",
       " 'Neutrophil_Lymphocyte Ratio',\n",
       " 'Albumin [g/dL]',\n",
       " 'Age',\n",
       " 'Blood mercury [nmol/L]',\n",
       " 'Transferrin Saturation [%]',\n",
       " 'Trans-lycopene [umol/L]',\n",
       " 'Hemoglobin [g/dL]',\n",
       " 'A/G Ratio',\n",
       " 'Creatine Phosphokinase [IU/L]',\n",
       " 'White blood cell count [1000 cells/uL]',\n",
       " 'Blood Urea Nitrogen [mg/dL]',\n",
       " 'Alanine Aminotransferase [U/L]',\n",
       " 'Total Lycopene [umol/L]',\n",
       " 'Alpha-crypotoxanthin [umol/L]']"
      ]
     },
     "execution_count": 14,
     "metadata": {},
     "output_type": "execute_result"
    }
   ],
   "source": [
    "rfe_features = ml.select_rfe_features(ml.LogisticRegression(),X,y,n=30,step=0.5)\n",
    "rfe_features[:30]"
   ]
  },
  {
   "cell_type": "code",
   "execution_count": 15,
   "id": "8db8aa72",
   "metadata": {},
   "outputs": [
    {
     "name": "stdout",
     "output_type": "stream",
     "text": [
      "\n",
      "Train Accuracy: 0.883\n",
      "\n",
      "Test Accuracy: 0.888\n",
      "\n",
      "Precision: 0.174\n",
      "\n",
      "Recall: 0.515\n",
      "\n",
      "F1-Score: 0.260\n"
     ]
    }
   ],
   "source": [
    "ml.evaluate_feature_set(rfe_features[:30], gaussian_nb_test, X_train, y_train, X_val, y_val)"
   ]
  },
  {
   "cell_type": "markdown",
   "id": "85827a38",
   "metadata": {},
   "source": [
    "### Lasso Regularization"
   ]
  },
  {
   "cell_type": "code",
   "execution_count": 16,
   "id": "f7a2dee7",
   "metadata": {},
   "outputs": [
    {
     "data": {
      "text/plain": [
       "['Gender',\n",
       " 'Red cell distribution width [%]',\n",
       " 'Hemoglobin [g/dL]',\n",
       " 'Hematocrit [%]',\n",
       " 'Age',\n",
       " 'Alpha-crypotoxanthin [umol/L]',\n",
       " 'Retinyl palmitate [umol/L]',\n",
       " 'Blood mercury [nmol/L]',\n",
       " 'Systemic Immune‐inflammation Index (SII)',\n",
       " 'Retinol [umol/L]',\n",
       " 'Transferrin receptor [nmol/L]',\n",
       " 'Neutrophil_Lymphocyte Ratio',\n",
       " 'Hydroxycotinine [ng/mL]',\n",
       " 'RBC count [million cells/uL]',\n",
       " 'Lymphocyte_C-Reactive Protein Ratio',\n",
       " 'Total Calcium [mg/dL]',\n",
       " 'Beta-cryptoxanthin [umol/L]',\n",
       " 'Alanine Aminotransferase [U/L]',\n",
       " 'Glycohemoglobin [%]',\n",
       " 'Total Cholestrol_HDL Ratio',\n",
       " 'Uric Acid [mg/dL]',\n",
       " 'Trans-lycopene [umol/L]',\n",
       " 'Transferrin Saturation [%]',\n",
       " 'LDL-Cholesterol(NIH2) [mmol/L]',\n",
       " 'Blood cadmium [nmol/L]',\n",
       " 'Sodium [mmol/L]',\n",
       " 'Iron frozen [umol/L]',\n",
       " 'Fasting Glucose [mmol/L]',\n",
       " 'Mean Cell Hgb Conc. [g/dL]',\n",
       " 'Blood Urea Nitrogen [mg/dL]']"
      ]
     },
     "execution_count": 16,
     "metadata": {},
     "output_type": "execute_result"
    }
   ],
   "source": [
    "l1_selected_features = ml.log_reg_lasso_select(X_train, y_train)\n",
    "l1_selected_features[:30]"
   ]
  },
  {
   "cell_type": "code",
   "execution_count": 17,
   "id": "1b685cc9",
   "metadata": {},
   "outputs": [
    {
     "name": "stdout",
     "output_type": "stream",
     "text": [
      "\n",
      "Train Accuracy: 0.895\n",
      "\n",
      "Test Accuracy: 0.898\n",
      "\n",
      "Precision: 0.180\n",
      "\n",
      "Recall: 0.471\n",
      "\n",
      "F1-Score: 0.261\n"
     ]
    }
   ],
   "source": [
    "ml.evaluate_feature_set(l1_selected_features[:30], gaussian_nb_test, X_train, y_train, X_val, y_val)"
   ]
  },
  {
   "cell_type": "markdown",
   "id": "a37796b0",
   "metadata": {},
   "source": [
    "### Relief F"
   ]
  },
  {
   "cell_type": "code",
   "execution_count": 18,
   "id": "bfb3ec54",
   "metadata": {},
   "outputs": [],
   "source": [
    "relieff_features = ml.relief_feature_select(30,X,y)"
   ]
  },
  {
   "cell_type": "code",
   "execution_count": 19,
   "id": "fc600c21",
   "metadata": {},
   "outputs": [
    {
     "data": {
      "text/plain": [
       "['Age',\n",
       " 'Hemoglobin [g/dL]',\n",
       " 'Hematocrit [%]',\n",
       " 'Segmented neutrophils [%]',\n",
       " 'Lymphocyte [%]',\n",
       " 'BMI',\n",
       " 'Neutrophil_Lymphocyte Ratio',\n",
       " 'RBC count [million cells/uL]',\n",
       " 'Mean cell volume [fL]',\n",
       " 'Mean cell hemoglobin [pg]',\n",
       " 'Red cell distribution width [%]',\n",
       " 'A/G Ratio',\n",
       " 'Transferrin Saturation [%]',\n",
       " 'Gender',\n",
       " 'Albumin [g/dL]',\n",
       " 'Uric Acid [mg/dL]',\n",
       " 'Systemic Immune‐inflammation Index (SII)',\n",
       " 'Platelet_Lymphocyte Ratio',\n",
       " 'Iron [ug/dL]',\n",
       " 'Osmolality [mmol/Kg]',\n",
       " 'Iron frozen [umol/L]',\n",
       " 'Retinol [umol/L]',\n",
       " 'Total Calcium [mg/dL]',\n",
       " 'Chloride [mmol/L]',\n",
       " 'Non_HDL Ratio',\n",
       " 'Total Cholesterol [mmol/L]',\n",
       " 'UIBC [umol/L]',\n",
       " 'Globulin [g/dL]',\n",
       " 'Blood selenium [umol/L]',\n",
       " 'Bicarbonate [mmol/L]']"
      ]
     },
     "execution_count": 19,
     "metadata": {},
     "output_type": "execute_result"
    }
   ],
   "source": [
    "relieff_features[:30]"
   ]
  },
  {
   "cell_type": "code",
   "execution_count": 20,
   "id": "8f76d0da",
   "metadata": {},
   "outputs": [
    {
     "name": "stdout",
     "output_type": "stream",
     "text": [
      "\n",
      "Train Accuracy: 0.886\n",
      "\n",
      "Test Accuracy: 0.890\n",
      "\n",
      "Precision: 0.170\n",
      "\n",
      "Recall: 0.485\n",
      "\n",
      "F1-Score: 0.252\n"
     ]
    }
   ],
   "source": [
    "ml.evaluate_feature_set(relieff_features[:30], gaussian_nb_test, X_train, y_train, X_val, y_val)"
   ]
  },
  {
   "cell_type": "markdown",
   "id": "ec970811",
   "metadata": {},
   "source": [
    "### Optimal no. of features"
   ]
  },
  {
   "cell_type": "code",
   "execution_count": 23,
   "id": "f7f104b1",
   "metadata": {},
   "outputs": [],
   "source": [
    "final_features = list(sfm_features)"
   ]
  },
  {
   "cell_type": "code",
   "execution_count": 24,
   "id": "4aaf5159",
   "metadata": {},
   "outputs": [
    {
     "name": "stderr",
     "output_type": "stream",
     "text": [
      "Finding optimal no. of features..: 100%|████████| 26/26 [00:00<00:00, 30.53it/s]\n"
     ]
    },
    {
     "name": "stdout",
     "output_type": "stream",
     "text": [
      "\n",
      "Maximum accuracy = 0.9601 for 5 features\n"
     ]
    },
    {
     "data": {
      "image/png": "[encoded data removed]",
      "text/plain": [
       "<Figure size 1000x700 with 1 Axes>"
      ]
     },
     "metadata": {},
     "output_type": "display_data"
    }
   ],
   "source": [
    "# Optimal no. of features\n",
    "\n",
    "ml.plot_num_feature_performance(gaussian_nb_test,  X, y, final_features, scoring='accuracy')"
   ]
  },
  {
   "cell_type": "code",
   "execution_count": 25,
   "id": "d3297886",
   "metadata": {},
   "outputs": [
    {
     "name": "stderr",
     "output_type": "stream",
     "text": [
      "Finding optimal no. of features..: 100%|████████| 26/26 [00:01<00:00, 25.56it/s]"
     ]
    },
    {
     "name": "stdout",
     "output_type": "stream",
     "text": [
      "\n",
      "Maximum f1 = 0.2450 for 19 features\n"
     ]
    },
    {
     "name": "stderr",
     "output_type": "stream",
     "text": [
      "\n"
     ]
    },
    {
     "data": {
      "image/png": "[encoded data removed]",
      "text/plain": [
       "<Figure size 1000x700 with 1 Axes>"
      ]
     },
     "metadata": {},
     "output_type": "display_data"
    }
   ],
   "source": [
    "# Optimal no. of features\n",
    "\n",
    "ml.plot_num_feature_performance(gaussian_nb_test,  X, y, final_features, scoring='f1')"
   ]
  },
  {
   "cell_type": "code",
   "execution_count": 26,
   "id": "cdd1c71c",
   "metadata": {},
   "outputs": [
    {
     "name": "stderr",
     "output_type": "stream",
     "text": [
      "Finding optimal no. of features..: 100%|████████| 26/26 [00:01<00:00, 25.53it/s]"
     ]
    },
    {
     "name": "stdout",
     "output_type": "stream",
     "text": [
      "\n",
      "Maximum recall = 0.4540 for 28 features\n"
     ]
    },
    {
     "name": "stderr",
     "output_type": "stream",
     "text": [
      "\n"
     ]
    },
    {
     "data": {
      "image/png": "[encoded data removed]",
      "text/plain": [
       "<Figure size 1000x700 with 1 Axes>"
      ]
     },
     "metadata": {},
     "output_type": "display_data"
    }
   ],
   "source": [
    "# Optimal no. of features\n",
    "\n",
    "ml.plot_num_feature_performance(gaussian_nb_test,  X, y, final_features, scoring='recall')"
   ]
  },
  {
   "cell_type": "code",
   "execution_count": 29,
   "id": "27de64c6",
   "metadata": {},
   "outputs": [],
   "source": [
    "num_features = 19\n",
    "\n",
    "selected = final_features[:num_features]\n",
    "selected.append('Anemia')\n",
    "\n",
    "anemia_df = anemia_df[selected]"
   ]
  },
  {
   "cell_type": "code",
   "execution_count": 30,
   "id": "6bdf5a67",
   "metadata": {},
   "outputs": [],
   "source": [
    "# Save feature set\n",
    "    \n",
    "with open('../Models/Anemia/Feature Sets/GaussianNB Features.pkl', 'wb') as f:\n",
    "    ml.pickle.dump(selected, f)"
   ]
  },
  {
   "cell_type": "markdown",
   "id": "cd4a3a33",
   "metadata": {},
   "source": [
    "## Preprocessing"
   ]
  },
  {
   "cell_type": "markdown",
   "id": "32c7f0b2",
   "metadata": {},
   "source": [
    "### Zero Imputation"
   ]
  },
  {
   "cell_type": "code",
   "execution_count": 31,
   "id": "24b09db9",
   "metadata": {},
   "outputs": [],
   "source": [
    "# Imputing null values with zeroes\n",
    "\n",
    "X, y, X_train, X_val, X_test, y_train, y_val, y_test = ml.preprocess_and_split(df = anemia_df, label = 'Anemia',\n",
    "                                                        impute = True, scale=True,\n",
    "                                                        imputer=ml.SimpleImputer(strategy='constant',fill_value=0),\n",
    "                                                        random_state=42)"
   ]
  },
  {
   "cell_type": "code",
   "execution_count": 32,
   "id": "fd4250b4",
   "metadata": {},
   "outputs": [
    {
     "name": "stdout",
     "output_type": "stream",
     "text": [
      "\n",
      "Train Accuracy: 0.851\n",
      "\n",
      "Test Accuracy: 0.863\n",
      "\n",
      "Precision: 0.126\n",
      "\n",
      "Recall: 0.434\n",
      "\n",
      "F1-Score: 0.195\n"
     ]
    }
   ],
   "source": [
    "gaussian_nb.fit(X_train, y_train)\n",
    "\n",
    "ml.evaluate_model_metrics(gaussian_nb,X_train,y_train,X_val,y_val)"
   ]
  },
  {
   "cell_type": "markdown",
   "id": "1877522f",
   "metadata": {},
   "source": [
    "### Mode Imputation"
   ]
  },
  {
   "cell_type": "code",
   "execution_count": 33,
   "id": "fcca0b91",
   "metadata": {},
   "outputs": [],
   "source": [
    "# Imputing with most frequent values\n",
    "\n",
    "X, y, X_train, X_val, X_test, y_train, y_val, y_test = ml.preprocess_and_split(df = anemia_df, label = 'Anemia',\n",
    "                                                              impute = True, scale=True,\n",
    "                                                              imputer=ml.SimpleImputer(strategy='most_frequent'),\n",
    "                                                              random_state=42)"
   ]
  },
  {
   "cell_type": "code",
   "execution_count": 34,
   "id": "43855037",
   "metadata": {},
   "outputs": [
    {
     "name": "stdout",
     "output_type": "stream",
     "text": [
      "\n",
      "Train Accuracy: 0.902\n",
      "\n",
      "Test Accuracy: 0.904\n",
      "\n",
      "Precision: 0.176\n",
      "\n",
      "Recall: 0.412\n",
      "\n",
      "F1-Score: 0.247\n"
     ]
    }
   ],
   "source": [
    "gaussian_nb.fit(X_train, y_train)\n",
    "\n",
    "ml.evaluate_model_metrics(gaussian_nb,X_train,y_train,X_val,y_val)"
   ]
  },
  {
   "cell_type": "markdown",
   "id": "8484c25a",
   "metadata": {},
   "source": [
    "### k-NN Imputation"
   ]
  },
  {
   "cell_type": "code",
   "execution_count": 35,
   "id": "288ec08b",
   "metadata": {},
   "outputs": [],
   "source": [
    "# Imputing missing values with values from the k-nearest neighbors in the feature space\n",
    "\n",
    "X, y, X_train, X_val, X_test, y_train, y_val, y_test = ml.preprocess_and_split(df = anemia_df, label = 'Anemia',\n",
    "                                                              impute = True, scale=True,\n",
    "                                                              imputer=ml.KNNImputer(n_neighbors=20),\n",
    "                                                              random_state=42)"
   ]
  },
  {
   "cell_type": "code",
   "execution_count": 36,
   "id": "d03244a8",
   "metadata": {},
   "outputs": [
    {
     "name": "stdout",
     "output_type": "stream",
     "text": [
      "\n",
      "Train Accuracy: 0.906\n",
      "\n",
      "Test Accuracy: 0.909\n",
      "\n",
      "Precision: 0.187\n",
      "\n",
      "Recall: 0.412\n",
      "\n",
      "F1-Score: 0.257\n"
     ]
    }
   ],
   "source": [
    "gaussian_nb.fit(X_train, y_train)\n",
    "\n",
    "ml.evaluate_model_metrics(gaussian_nb,X_train,y_train,X_val,y_val)"
   ]
  },
  {
   "cell_type": "markdown",
   "id": "e8c1a99e",
   "metadata": {},
   "source": [
    "### Multiple Imputation by Chained Equations (MICE)"
   ]
  },
  {
   "cell_type": "code",
   "execution_count": 37,
   "id": "d78c9b6a",
   "metadata": {},
   "outputs": [],
   "source": [
    "# Imputes by looking at data from other columns and trying to estimate the best prediction for each missing value.\n",
    "\n",
    "X, y, X_train, X_val, X_test, y_train, y_val, y_test = ml.preprocess_and_split(df = anemia_df, label = 'Anemia',\n",
    "                                                              impute = True, scale=True,\n",
    "                                                              imputer=ml.IterativeImputer(max_iter=20),\n",
    "                                                              random_state=42)"
   ]
  },
  {
   "cell_type": "code",
   "execution_count": 38,
   "id": "78e0324b",
   "metadata": {},
   "outputs": [
    {
     "name": "stdout",
     "output_type": "stream",
     "text": [
      "\n",
      "Train Accuracy: 0.902\n",
      "\n",
      "Test Accuracy: 0.905\n",
      "\n",
      "Precision: 0.180\n",
      "\n",
      "Recall: 0.419\n",
      "\n",
      "F1-Score: 0.252\n"
     ]
    }
   ],
   "source": [
    "gaussian_nb.fit(X_train, y_train)\n",
    "\n",
    "ml.evaluate_model_metrics(gaussian_nb,X_train,y_train,X_val,y_val)"
   ]
  },
  {
   "cell_type": "markdown",
   "id": "dc71288f",
   "metadata": {},
   "source": [
    "### Median Imputation"
   ]
  },
  {
   "cell_type": "code",
   "execution_count": 39,
   "id": "648640e9",
   "metadata": {},
   "outputs": [],
   "source": [
    "# Imputing with median values\n",
    "\n",
    "X, y, X_train, X_val, X_test, y_train, y_val, y_test = ml.preprocess_and_split(df = anemia_df, label = 'Anemia',\n",
    "                                                              impute = True, scale=True,\n",
    "                                                              imputer=ml.SimpleImputer(strategy='median'),\n",
    "                                                              random_state=42)"
   ]
  },
  {
   "cell_type": "code",
   "execution_count": 40,
   "id": "188ab3fd",
   "metadata": {},
   "outputs": [
    {
     "name": "stdout",
     "output_type": "stream",
     "text": [
      "\n",
      "Train Accuracy: 0.901\n",
      "\n",
      "Test Accuracy: 0.904\n",
      "\n",
      "Precision: 0.182\n",
      "\n",
      "Recall: 0.434\n",
      "\n",
      "F1-Score: 0.257\n"
     ]
    }
   ],
   "source": [
    "gaussian_nb.fit(X_train, y_train)\n",
    "\n",
    "ml.evaluate_model_metrics(gaussian_nb,X_train,y_train,X_val,y_val)"
   ]
  },
  {
   "cell_type": "markdown",
   "id": "ecf3258f",
   "metadata": {},
   "source": [
    "### Mean Imputation"
   ]
  },
  {
   "cell_type": "code",
   "execution_count": 41,
   "id": "cf825805",
   "metadata": {},
   "outputs": [],
   "source": [
    "# Splitting and Preprocessing data\n",
    "\n",
    "X, y, X_train, X_val, X_test, y_train, y_val, y_test = ml.preprocess_and_split(df = anemia_df, label = 'Anemia',\n",
    "                                                              impute = True, scale=True,\n",
    "                                                              imputer=ml.SimpleImputer(strategy='mean'),\n",
    "                                                              random_state=42)"
   ]
  },
  {
   "cell_type": "code",
   "execution_count": 42,
   "id": "c4eb9258",
   "metadata": {},
   "outputs": [
    {
     "name": "stdout",
     "output_type": "stream",
     "text": [
      "\n",
      "Train Accuracy: 0.902\n",
      "\n",
      "Test Accuracy: 0.904\n",
      "\n",
      "Precision: 0.183\n",
      "\n",
      "Recall: 0.434\n",
      "\n",
      "F1-Score: 0.258\n"
     ]
    }
   ],
   "source": [
    "gaussian_nb.fit(X_train, y_train)\n",
    "\n",
    "ml.evaluate_model_metrics(gaussian_nb,X_train,y_train,X_val,y_val)"
   ]
  },
  {
   "cell_type": "markdown",
   "id": "5bd39f86",
   "metadata": {},
   "source": [
    "### Dropping Null Values"
   ]
  },
  {
   "cell_type": "code",
   "execution_count": 43,
   "id": "2a0f7318",
   "metadata": {
    "scrolled": true
   },
   "outputs": [],
   "source": [
    "# Drop null values\n",
    "anemia_df_na = anemia_df.dropna()\n",
    "\n",
    "X, y, X_train, X_val, X_test, y_train, y_val, y_test = ml.preprocess_and_split(df = anemia_df_na, label = 'Anemia',\n",
    "                                                              impute = False, scale=True,\n",
    "                                                              random_state=42)"
   ]
  },
  {
   "cell_type": "code",
   "execution_count": 44,
   "id": "f3c46212",
   "metadata": {},
   "outputs": [
    {
     "name": "stdout",
     "output_type": "stream",
     "text": [
      "\n",
      "Train Accuracy: 0.896\n",
      "\n",
      "Test Accuracy: 0.890\n",
      "\n",
      "Precision: 0.239\n",
      "\n",
      "Recall: 0.496\n",
      "\n",
      "F1-Score: 0.322\n"
     ]
    }
   ],
   "source": [
    "gaussian_nb.fit(X_train, y_train)\n",
    "\n",
    "ml.evaluate_model_metrics(gaussian_nb,X_train,y_train,X_val,y_val)"
   ]
  },
  {
   "cell_type": "markdown",
   "id": "d4f3c7a0",
   "metadata": {},
   "source": [
    "## Oversampling and Undersampling"
   ]
  },
  {
   "cell_type": "markdown",
   "id": "f2ab083d",
   "metadata": {},
   "source": [
    "### Random Oversampling"
   ]
  },
  {
   "cell_type": "code",
   "execution_count": 45,
   "id": "61c3f573",
   "metadata": {
    "scrolled": false
   },
   "outputs": [
    {
     "name": "stdout",
     "output_type": "stream",
     "text": [
      "\n",
      "Train Accuracy: 0.737\n",
      "\n",
      "Test Accuracy: 0.795\n",
      "\n",
      "Precision: 0.156\n",
      "\n",
      "Recall: 0.658\n",
      "\n",
      "F1-Score: 0.252\n"
     ]
    }
   ],
   "source": [
    "X_ros, y_ros = ml.random_over_sample(X_train, y_train)\n",
    "\n",
    "gaussian_nb.fit(X_ros, y_ros)\n",
    "\n",
    "ml.evaluate_model_metrics(gaussian_nb,X_ros, y_ros,X_val, y_val)"
   ]
  },
  {
   "cell_type": "markdown",
   "id": "55cc4ab2",
   "metadata": {},
   "source": [
    "### SMOTE (Synthetic Minority Over-sampling Technique)"
   ]
  },
  {
   "cell_type": "code",
   "execution_count": 46,
   "id": "5ed6c6b3",
   "metadata": {
    "scrolled": false
   },
   "outputs": [
    {
     "name": "stdout",
     "output_type": "stream",
     "text": [
      "\n",
      "Train Accuracy: 0.748\n",
      "\n",
      "Test Accuracy: 0.726\n",
      "\n",
      "Precision: 0.126\n",
      "\n",
      "Recall: 0.709\n",
      "\n",
      "F1-Score: 0.214\n"
     ]
    }
   ],
   "source": [
    "X_smote, y_smote = ml.smote_over_sample(X_train, y_train)\n",
    "\n",
    "gaussian_nb.fit(X_smote, y_smote)\n",
    "\n",
    "ml.evaluate_model_metrics(gaussian_nb,X_smote, y_smote,X_val, y_val)"
   ]
  },
  {
   "cell_type": "markdown",
   "id": "0532ee8b",
   "metadata": {},
   "source": [
    "### Random Undersampling"
   ]
  },
  {
   "cell_type": "code",
   "execution_count": 47,
   "id": "5286090b",
   "metadata": {
    "scrolled": false
   },
   "outputs": [
    {
     "name": "stdout",
     "output_type": "stream",
     "text": [
      "\n",
      "Train Accuracy: 0.751\n",
      "\n",
      "Test Accuracy: 0.789\n",
      "\n",
      "Precision: 0.155\n",
      "\n",
      "Recall: 0.675\n",
      "\n",
      "F1-Score: 0.252\n"
     ]
    }
   ],
   "source": [
    "X_rus, y_rus = ml.random_under_sample(X_train, y_train)\n",
    "\n",
    "gaussian_nb.fit(X_rus, y_rus)\n",
    "\n",
    "ml.evaluate_model_metrics(gaussian_nb,X_rus, y_rus,X_val, y_val)"
   ]
  },
  {
   "cell_type": "markdown",
   "id": "6defa173",
   "metadata": {},
   "source": [
    "### Tomek Links"
   ]
  },
  {
   "cell_type": "code",
   "execution_count": 48,
   "id": "f4fa6ccf",
   "metadata": {
    "scrolled": false
   },
   "outputs": [
    {
     "name": "stdout",
     "output_type": "stream",
     "text": [
      "\n",
      "Train Accuracy: 0.898\n",
      "\n",
      "Test Accuracy: 0.887\n",
      "\n",
      "Precision: 0.231\n",
      "\n",
      "Recall: 0.496\n",
      "\n",
      "F1-Score: 0.315\n"
     ]
    }
   ],
   "source": [
    "X_tomek, y_tomek = ml.tomek_links(X_train, y_train)\n",
    "\n",
    "gaussian_nb.fit(X_tomek, y_tomek)\n",
    "\n",
    "ml.evaluate_model_metrics(gaussian_nb,X_tomek, y_tomek,X_val, y_val)"
   ]
  },
  {
   "cell_type": "markdown",
   "id": "111c9c16",
   "metadata": {},
   "source": [
    "### SMOTE + Tomek Links"
   ]
  },
  {
   "cell_type": "code",
   "execution_count": 49,
   "id": "753149c7",
   "metadata": {
    "scrolled": false
   },
   "outputs": [
    {
     "name": "stdout",
     "output_type": "stream",
     "text": [
      "\n",
      "Train Accuracy: 0.748\n",
      "\n",
      "Test Accuracy: 0.726\n",
      "\n",
      "Precision: 0.126\n",
      "\n",
      "Recall: 0.709\n",
      "\n",
      "F1-Score: 0.214\n"
     ]
    }
   ],
   "source": [
    "X_smote_tomek, y_smote_tomek = ml.smote_tomek(X_train, y_train)\n",
    "\n",
    "gaussian_nb.fit(X_smote_tomek, y_smote_tomek)\n",
    "\n",
    "ml.evaluate_model_metrics(gaussian_nb,X_smote_tomek, y_smote_tomek,X_val, y_val)"
   ]
  },
  {
   "cell_type": "code",
   "execution_count": 50,
   "id": "1f3a2dd8",
   "metadata": {},
   "outputs": [],
   "source": [
    "# Model seems to perform better without oversampling or undersampling"
   ]
  },
  {
   "cell_type": "markdown",
   "id": "9bda7751",
   "metadata": {},
   "source": [
    "## Hyperparameter Optimization "
   ]
  },
  {
   "cell_type": "markdown",
   "id": "a8911f34",
   "metadata": {},
   "source": [
    "### Grid Search"
   ]
  },
  {
   "cell_type": "code",
   "execution_count": 51,
   "id": "8bbd1f7f",
   "metadata": {},
   "outputs": [],
   "source": [
    "# Since ml.GaussianNB is a very simple model there aren't much hyperparamters to tune\n",
    "\n",
    "param_grid = {\n",
    "    \n",
    "    'var_smoothing': [1e-9, 1e-8, 1e-7, 1e-6, 1e-5]\n",
    "\n",
    "}"
   ]
  },
  {
   "cell_type": "code",
   "execution_count": 52,
   "id": "1b862359",
   "metadata": {},
   "outputs": [],
   "source": [
    "grid_best_params, gaussian_nb_grid = ml.grid_search_optimize(gaussian_nb, param_grid, X_train, \n",
    "                                                                y_train, cv=10,scoring='accuracy')"
   ]
  },
  {
   "cell_type": "code",
   "execution_count": 53,
   "id": "86a4a7b5",
   "metadata": {},
   "outputs": [
    {
     "data": {
      "text/plain": [
       "{'var_smoothing': 1e-09}"
      ]
     },
     "execution_count": 53,
     "metadata": {},
     "output_type": "execute_result"
    }
   ],
   "source": [
    "grid_best_params"
   ]
  },
  {
   "cell_type": "code",
   "execution_count": 54,
   "id": "2268aff4",
   "metadata": {},
   "outputs": [
    {
     "name": "stdout",
     "output_type": "stream",
     "text": [
      "\n",
      "Train Accuracy: 0.896\n",
      "\n",
      "Test Accuracy: 0.890\n",
      "\n",
      "Precision: 0.239\n",
      "\n",
      "Recall: 0.496\n",
      "\n",
      "F1-Score: 0.322\n"
     ]
    }
   ],
   "source": [
    "ml.evaluate_model_metrics(gaussian_nb_grid,X_train,y_train,X_val,y_val)"
   ]
  },
  {
   "cell_type": "markdown",
   "id": "8458e5a6",
   "metadata": {},
   "source": [
    "### Random Search"
   ]
  },
  {
   "cell_type": "code",
   "execution_count": 55,
   "id": "cc4fcfeb",
   "metadata": {},
   "outputs": [],
   "source": [
    "\n",
    "rand_best_params, gaussian_nb_rand = ml.random_search_optimize(gaussian_nb,param_grid,n_iter=100,cv=5,\n",
    "                                                               X_train=X_train, y_train=y_train,\n",
    "                                                               scoring='accuracy')"
   ]
  },
  {
   "cell_type": "code",
   "execution_count": 56,
   "id": "a3aca564",
   "metadata": {},
   "outputs": [
    {
     "data": {
      "text/plain": [
       "{'var_smoothing': 1e-09}"
      ]
     },
     "execution_count": 56,
     "metadata": {},
     "output_type": "execute_result"
    }
   ],
   "source": [
    "rand_best_params"
   ]
  },
  {
   "cell_type": "code",
   "execution_count": 57,
   "id": "0c27dea7",
   "metadata": {},
   "outputs": [
    {
     "name": "stdout",
     "output_type": "stream",
     "text": [
      "\n",
      "Train Accuracy: 0.896\n",
      "\n",
      "Test Accuracy: 0.890\n",
      "\n",
      "Precision: 0.239\n",
      "\n",
      "Recall: 0.496\n",
      "\n",
      "F1-Score: 0.322\n"
     ]
    }
   ],
   "source": [
    "ml.evaluate_model_metrics(gaussian_nb_rand,X_train,y_train,X_val,y_val)"
   ]
  },
  {
   "cell_type": "markdown",
   "id": "7d6294a4",
   "metadata": {},
   "source": [
    "### Optuna"
   ]
  },
  {
   "cell_type": "code",
   "execution_count": 58,
   "id": "ae722921",
   "metadata": {},
   "outputs": [],
   "source": [
    "def objective(trial):\n",
    "\n",
    "    var_smoothing = trial.suggest_loguniform('var_smoothing', 1e-10, 1e-1)\n",
    "\n",
    "    model = ml.GaussianNB(var_smoothing=var_smoothing)\n",
    "    \n",
    "    model.fit(X_train, y_train)\n",
    "    y_pred = model.predict(X_test)\n",
    "\n",
    "    accuracy = ml.accuracy_score(y_test, y_pred)\n",
    "\n",
    "    return accuracy"
   ]
  },
  {
   "cell_type": "code",
   "execution_count": 59,
   "id": "e7e379fd",
   "metadata": {},
   "outputs": [],
   "source": [
    "best_trial , gaussian_nb_opt = ml.optuna_optimize(objective, ml.GaussianNB, n_trials=150)"
   ]
  },
  {
   "cell_type": "code",
   "execution_count": 60,
   "id": "b9b8c5b6",
   "metadata": {},
   "outputs": [
    {
     "data": {
      "text/plain": [
       "{'var_smoothing': 0.09864495394734528}"
      ]
     },
     "execution_count": 60,
     "metadata": {},
     "output_type": "execute_result"
    }
   ],
   "source": [
    "best_trial"
   ]
  },
  {
   "cell_type": "code",
   "execution_count": 61,
   "id": "9e3a828c",
   "metadata": {},
   "outputs": [
    {
     "name": "stdout",
     "output_type": "stream",
     "text": [
      "\n",
      "Train Accuracy: 0.905\n",
      "\n",
      "Test Accuracy: 0.899\n",
      "\n",
      "Precision: 0.251\n",
      "\n",
      "Recall: 0.462\n",
      "\n",
      "F1-Score: 0.325\n"
     ]
    }
   ],
   "source": [
    "gaussian_nb_opt.fit(X_train,y_train)\n",
    "\n",
    "ml.evaluate_model_metrics(gaussian_nb_opt,X_train,y_train,X_val,y_val)"
   ]
  },
  {
   "cell_type": "markdown",
   "id": "af5a88e1",
   "metadata": {},
   "source": [
    "## Evaluation on Test Set"
   ]
  },
  {
   "cell_type": "code",
   "execution_count": 62,
   "id": "d8a10c03",
   "metadata": {},
   "outputs": [
    {
     "name": "stdout",
     "output_type": "stream",
     "text": [
      "\n",
      "Train Accuracy: 0.905\n",
      "\n",
      "Test Accuracy: 0.910\n",
      "\n",
      "Precision: 0.228\n",
      "\n",
      "Recall: 0.439\n",
      "\n",
      "F1-Score: 0.300\n",
      "\n",
      "Confusion Matrix:\n",
      "\n",
      "[[1984  146]\n",
      " [  55   43]]\n",
      "\n",
      "\n",
      "Classification Report:\n",
      "\n",
      "              precision    recall  f1-score   support\n",
      "\n",
      "     Class 0       0.97      0.93      0.95      2130\n",
      "     Class 1       0.23      0.44      0.30        98\n",
      "\n",
      "    accuracy                           0.91      2228\n",
      "   macro avg       0.60      0.69      0.63      2228\n",
      "weighted avg       0.94      0.91      0.92      2228\n",
      "\n",
      "\n",
      "ROC-AUC Curve:\n"
     ]
    },
    {
     "data": {
      "image/png": "[encoded data removed]",
      "text/plain": [
       "<Figure size 600x400 with 1 Axes>"
      ]
     },
     "metadata": {},
     "output_type": "display_data"
    }
   ],
   "source": [
    "# After evaluating on the validation set, we evaluate and finalize on the test set\n",
    "\n",
    "ml.evaluate_model_metrics(gaussian_nb_opt, X_train, y_train, X_test, y_test, verbose=6)"
   ]
  },
  {
   "cell_type": "markdown",
   "id": "e7b5c88c",
   "metadata": {},
   "source": [
    "## Cross Validation"
   ]
  },
  {
   "cell_type": "markdown",
   "id": "7e539fb9",
   "metadata": {},
   "source": [
    "### K-fold"
   ]
  },
  {
   "cell_type": "code",
   "execution_count": 63,
   "id": "e77a24f0",
   "metadata": {},
   "outputs": [
    {
     "name": "stdout",
     "output_type": "stream",
     "text": [
      "\n",
      "accuracy scores: [0.89784946 0.88509874 0.91382406 0.9048474  0.90305206 0.87971275\n",
      " 0.89587074 0.9048474  0.88689408 0.91382406]\n",
      "\n",
      "Mean accuracy score:  0.8985820737051409\n",
      "\n",
      "Standard deviation:  0.011160083210940431\n"
     ]
    }
   ],
   "source": [
    "ml.k_cross_validate(gaussian_nb,X,y,cv=10,scoring='accuracy')"
   ]
  },
  {
   "cell_type": "code",
   "execution_count": 64,
   "id": "4aad10b7",
   "metadata": {},
   "outputs": [
    {
     "name": "stdout",
     "output_type": "stream",
     "text": [
      "\n",
      "accuracy scores: [0.89784946 0.88509874 0.91382406 0.9048474  0.90305206 0.87971275\n",
      " 0.89587074 0.9048474  0.88689408 0.91382406]\n",
      "\n",
      "Mean accuracy score:  0.8985820737051409\n",
      "\n",
      "Standard deviation:  0.011160083210940431\n"
     ]
    }
   ],
   "source": [
    "ml.k_cross_validate(gaussian_nb_grid,X,y,cv=10,scoring='accuracy')"
   ]
  },
  {
   "cell_type": "code",
   "execution_count": 65,
   "id": "fa6ff1f4",
   "metadata": {},
   "outputs": [
    {
     "name": "stdout",
     "output_type": "stream",
     "text": [
      "\n",
      "accuracy scores: [0.89784946 0.88509874 0.91382406 0.9048474  0.90305206 0.87971275\n",
      " 0.89587074 0.9048474  0.88689408 0.91382406]\n",
      "\n",
      "Mean accuracy score:  0.8985820737051409\n",
      "\n",
      "Standard deviation:  0.011160083210940431\n"
     ]
    }
   ],
   "source": [
    "ml.k_cross_validate(gaussian_nb_rand,X,y,cv=10,scoring='accuracy')"
   ]
  },
  {
   "cell_type": "code",
   "execution_count": 66,
   "id": "46f81577",
   "metadata": {},
   "outputs": [
    {
     "name": "stdout",
     "output_type": "stream",
     "text": [
      "\n",
      "accuracy scores: [0.90322581 0.8994614  0.91561939 0.91202873 0.9048474  0.89048474\n",
      " 0.91023339 0.91382406 0.89048474 0.92100539]\n",
      "\n",
      "Mean accuracy score:  0.9061215034458794\n",
      "\n",
      "Standard deviation:  0.009829822942790521\n"
     ]
    }
   ],
   "source": [
    "ml.k_cross_validate(gaussian_nb_opt,X,y,cv=10,scoring='accuracy')"
   ]
  },
  {
   "cell_type": "markdown",
   "id": "ad831ffc",
   "metadata": {},
   "source": [
    "### Stratified K-fold"
   ]
  },
  {
   "cell_type": "code",
   "execution_count": 67,
   "id": "29a48b89",
   "metadata": {},
   "outputs": [
    {
     "name": "stdout",
     "output_type": "stream",
     "text": [
      "\n",
      "Average Accuracy: 0.8969653095500087\n",
      "\n",
      "Average Precision: 0.22149250358224007\n",
      "\n",
      "Average Recall: 0.46452991452991454\n",
      "\n",
      "Average F1-Score: 0.2983324338764134\n"
     ]
    }
   ],
   "source": [
    "ml.stratified_k_cross_validate(gaussian_nb,X,y,n_splits=10)"
   ]
  },
  {
   "cell_type": "code",
   "execution_count": 68,
   "id": "e0f6f6d6",
   "metadata": {},
   "outputs": [
    {
     "name": "stdout",
     "output_type": "stream",
     "text": [
      "\n",
      "Average Accuracy: 0.8969653095500087\n",
      "\n",
      "Average Precision: 0.22149250358224007\n",
      "\n",
      "Average Recall: 0.46452991452991454\n",
      "\n",
      "Average F1-Score: 0.2983324338764134\n"
     ]
    }
   ],
   "source": [
    "ml.stratified_k_cross_validate(gaussian_nb_grid,X,y,n_splits=10)"
   ]
  },
  {
   "cell_type": "code",
   "execution_count": 69,
   "id": "5aa2c58d",
   "metadata": {},
   "outputs": [
    {
     "name": "stdout",
     "output_type": "stream",
     "text": [
      "\n",
      "Average Accuracy: 0.8969653095500087\n",
      "\n",
      "Average Precision: 0.22149250358224007\n",
      "\n",
      "Average Recall: 0.46452991452991454\n",
      "\n",
      "Average F1-Score: 0.2983324338764134\n"
     ]
    }
   ],
   "source": [
    "ml.stratified_k_cross_validate(gaussian_nb_rand,X,y,n_splits=10)"
   ]
  },
  {
   "cell_type": "code",
   "execution_count": 70,
   "id": "2c1453da",
   "metadata": {},
   "outputs": [
    {
     "name": "stdout",
     "output_type": "stream",
     "text": [
      "\n",
      "Average Accuracy: 0.9061202164694375\n",
      "\n",
      "Average Precision: 0.23631855519248424\n",
      "\n",
      "Average Recall: 0.4418803418803419\n",
      "\n",
      "Average F1-Score: 0.3060257708872755\n"
     ]
    }
   ],
   "source": [
    "ml.stratified_k_cross_validate(gaussian_nb_opt,X,y,n_splits=10)"
   ]
  },
  {
   "cell_type": "markdown",
   "id": "e5d7b05d",
   "metadata": {},
   "source": [
    "### Save Model"
   ]
  },
  {
   "cell_type": "code",
   "execution_count": 71,
   "id": "6e89475b",
   "metadata": {},
   "outputs": [],
   "source": [
    "final_gaussian_estimator = gaussian_nb_opt"
   ]
  },
  {
   "cell_type": "code",
   "execution_count": 72,
   "id": "ea9c37ae",
   "metadata": {},
   "outputs": [
    {
     "name": "stdout",
     "output_type": "stream",
     "text": [
      "Saved Model\n"
     ]
    }
   ],
   "source": [
    "# Saving the model\n",
    "\n",
    "ml.save_model(final_gaussian_estimator, \"../Models/Anemia/ml.GaussianNB.pkl\")"
   ]
  },
  {
   "cell_type": "markdown",
   "id": "de59f229",
   "metadata": {},
   "source": [
    "## Prediction"
   ]
  },
  {
   "cell_type": "code",
   "execution_count": 73,
   "id": "67af8316",
   "metadata": {},
   "outputs": [
    {
     "name": "stdout",
     "output_type": "stream",
     "text": [
      "Instance:\n",
      " [ 1.          0.8425501   0.26191837 -0.46603424  0.11412199 -0.45058229\n",
      "  0.23522432 -0.05658356 -0.32479476  0.24857096  0.53282152  0.47113013\n",
      " -0.10094165 -0.10885448 -0.09297576  1.14929321 -0.39000003 -0.78326675\n",
      "  0.20431326]\n",
      "\n",
      "Expected Class:  0\n",
      "\n",
      " Modified Instance:\n",
      " [ 1.          0.62038027  0.47707949 -0.66885614  0.0091362  -0.51914907\n",
      "  0.26947838 -0.25342517 -0.09921986  0.4388819   0.64203885  0.11700839\n",
      "  0.025935    0.02059149 -0.06740335  1.21552829 -0.27772062 -0.93227434\n",
      "  0.10358791]\n",
      "\n",
      "Predicted Class:  [0]\n"
     ]
    }
   ],
   "source": [
    "# Predicting on perturbed values\n",
    "\n",
    "ml.predict_on_modified_instance(final_gaussian_estimator, X_test.iloc[0], y_test.iloc[0], 0.4)"
   ]
  },
  {
   "cell_type": "code",
   "execution_count": 77,
   "id": "a39b8dfe",
   "metadata": {
    "scrolled": true
   },
   "outputs": [
    {
     "name": "stdout",
     "output_type": "stream",
     "text": [
      "Instance:\n",
      " [ 0.00000000e+00  4.61566466e-01 -3.70417306e+00 -1.11547980e+00\n",
      "  2.70640467e-02  6.73501395e+00 -9.47243954e-01 -1.48700904e+00\n",
      "  3.61323614e+00  8.61725034e-01  2.18455061e-01  4.86783879e-01\n",
      " -1.30381823e+00 -1.65965383e+00  1.64568263e-03 -8.36733511e-01\n",
      " -1.69135415e+00  1.87079347e+00 -2.40170977e+00]\n",
      "\n",
      "Expected Class:  1\n",
      "\n",
      " Modified Instance:\n",
      " [ 0.          0.23189564 -3.60441945 -1.36359614 -0.23780841  6.78047276\n",
      " -1.18399985 -1.76600208  3.43881325  1.03848288  0.44078558  0.39374478\n",
      " -1.37270861 -1.97691922  0.07169092 -1.09029524 -1.79619705  1.71215472\n",
      " -2.33351655]\n",
      "\n",
      "Predicted Class:  [1]\n"
     ]
    }
   ],
   "source": [
    "ml.predict_on_modified_instance(final_gaussian_estimator, X_test.iloc[3], y_test.iloc[3], 0.6)"
   ]
  },
  {
   "cell_type": "code",
   "execution_count": 80,
   "id": "a5fbe4bb",
   "metadata": {
    "scrolled": true
   },
   "outputs": [
    {
     "name": "stdout",
     "output_type": "stream",
     "text": [
      "Instance:\n",
      " [ 0.         -0.87187627  0.61063685 -0.71344207 -0.4341903  -0.21878886\n",
      " -1.04578298 -0.08042398 -0.32499761 -1.17701227  0.80789218  0.81551265\n",
      "  1.24234423 -0.6257876   0.06472664  0.81166341 -0.60689238 -1.29933401\n",
      " -0.18904871]\n",
      "\n",
      "Expected Class:  0\n",
      "\n",
      " Modified Instance:\n",
      " [ 0.         -0.87893969  0.80487523 -0.77291715 -0.6409781  -0.13875769\n",
      " -1.01294172 -0.02836441 -0.28235696 -1.20738113  0.78066801  0.81255392\n",
      "  1.24985382 -0.41901531  0.19413593  0.68647146 -0.51214629 -1.224977\n",
      " -0.04253412]\n",
      "\n",
      "Predicted Class:  [0]\n"
     ]
    }
   ],
   "source": [
    "ml.predict_on_modified_instance(final_gaussian_estimator, X_test.iloc[34], y_test.iloc[34], 0.6)"
   ]
  }
 ],
 "metadata": {
  "kernelspec": {
   "display_name": "Python 3 (ipykernel)",
   "language": "python",
   "name": "python3"
  },
  "language_info": {
   "codemirror_mode": {
    "name": "ipython",
    "version": 3
   },
   "file_extension": ".py",
   "mimetype": "text/x-python",
   "name": "python",
   "nbconvert_exporter": "python",
   "pygments_lexer": "ipython3",
   "version": "3.10.12"
  }
 },
 "nbformat": 4,
 "nbformat_minor": 5
}
