{
 "cells": [
  {
   "cell_type": "markdown",
   "id": "d2acf9f1",
   "metadata": {},
   "source": [
    "# Weak Kidney - Gaussian NB"
   ]
  },
  {
   "cell_type": "code",
   "execution_count": 1,
   "id": "5c1b7eb2",
   "metadata": {},
   "outputs": [],
   "source": [
    "import some_load_train_evaluate_functions as ml"
   ]
  },
  {
   "cell_type": "code",
   "execution_count": 2,
   "id": "6b4433ef",
   "metadata": {},
   "outputs": [
    {
     "name": "stdout",
     "output_type": "stream",
     "text": [
      "Connected to database successfully.\n"
     ]
    }
   ],
   "source": [
    "path = '../KG/db.env'\n",
    "\n",
    "driver = ml.connect_to_neo4j(path)"
   ]
  },
  {
   "cell_type": "markdown",
   "id": "4016e569",
   "metadata": {},
   "source": [
    "### Load Data"
   ]
  },
  {
   "cell_type": "code",
   "execution_count": 3,
   "id": "76bbe0fe",
   "metadata": {},
   "outputs": [
    {
     "data": {
      "text/html": [
       "<div>\n",
       "<style scoped>\n",
       "    .dataframe tbody tr th:only-of-type {\n",
       "        vertical-align: middle;\n",
       "    }\n",
       "\n",
       "    .dataframe tbody tr th {\n",
       "        vertical-align: top;\n",
       "    }\n",
       "\n",
       "    .dataframe thead th {\n",
       "        text-align: right;\n",
       "    }\n",
       "</style>\n",
       "<table border=\"1\" class=\"dataframe\">\n",
       "  <thead>\n",
       "    <tr style=\"text-align: right;\">\n",
       "      <th></th>\n",
       "      <th>Respondent_ID</th>\n",
       "      <th>Gender</th>\n",
       "      <th>Age</th>\n",
       "      <th>BMI</th>\n",
       "      <th>25-hydroxyvitamin D2 + D3 [nmol/L]</th>\n",
       "      <th>A/G Ratio</th>\n",
       "      <th>Alpha-carotene [umol/L]</th>\n",
       "      <th>Alpha-crypotoxanthin [umol/L]</th>\n",
       "      <th>Alpha-tocopherol [umol/L]</th>\n",
       "      <th>Basophils [%]</th>\n",
       "      <th>...</th>\n",
       "      <th>Ferritin [ng/mL]</th>\n",
       "      <th>Gamma Glutamyl Transferase [IU/L]</th>\n",
       "      <th>Hemoglobin [g/dL]</th>\n",
       "      <th>Insulin [pmol/L]</th>\n",
       "      <th>LDL-Cholesterol(NIH2) [mmol/L]</th>\n",
       "      <th>Lactate Dehydrogenase [IU/L]</th>\n",
       "      <th>Transferrin Saturation [%]</th>\n",
       "      <th>Transferrin receptor [nmol/L]</th>\n",
       "      <th>Triglyceride [mmol/L]</th>\n",
       "      <th>Weak/Failing kidneys</th>\n",
       "    </tr>\n",
       "  </thead>\n",
       "  <tbody>\n",
       "    <tr>\n",
       "      <th>0</th>\n",
       "      <td>93705</td>\n",
       "      <td>0</td>\n",
       "      <td>66</td>\n",
       "      <td>31.7</td>\n",
       "      <td>89.9</td>\n",
       "      <td>1.517241</td>\n",
       "      <td>0.138</td>\n",
       "      <td>0.071</td>\n",
       "      <td>26.006</td>\n",
       "      <td>1.0</td>\n",
       "      <td>...</td>\n",
       "      <td>28.70</td>\n",
       "      <td>21.0</td>\n",
       "      <td>11.9</td>\n",
       "      <td>NaN</td>\n",
       "      <td>NaN</td>\n",
       "      <td>174.0</td>\n",
       "      <td>28.0</td>\n",
       "      <td>39.8</td>\n",
       "      <td>NaN</td>\n",
       "      <td>0</td>\n",
       "    </tr>\n",
       "    <tr>\n",
       "      <th>1</th>\n",
       "      <td>93708</td>\n",
       "      <td>0</td>\n",
       "      <td>66</td>\n",
       "      <td>23.7</td>\n",
       "      <td>116.0</td>\n",
       "      <td>1.218750</td>\n",
       "      <td>0.192</td>\n",
       "      <td>0.127</td>\n",
       "      <td>NaN</td>\n",
       "      <td>0.7</td>\n",
       "      <td>...</td>\n",
       "      <td>109.00</td>\n",
       "      <td>22.0</td>\n",
       "      <td>13.2</td>\n",
       "      <td>58.32</td>\n",
       "      <td>2.870</td>\n",
       "      <td>247.0</td>\n",
       "      <td>32.0</td>\n",
       "      <td>30.1</td>\n",
       "      <td>0.655</td>\n",
       "      <td>0</td>\n",
       "    </tr>\n",
       "    <tr>\n",
       "      <th>2</th>\n",
       "      <td>93709</td>\n",
       "      <td>0</td>\n",
       "      <td>75</td>\n",
       "      <td>38.9</td>\n",
       "      <td>72.8</td>\n",
       "      <td>1.121212</td>\n",
       "      <td>0.009</td>\n",
       "      <td>0.017</td>\n",
       "      <td>28.561</td>\n",
       "      <td>0.6</td>\n",
       "      <td>...</td>\n",
       "      <td>129.00</td>\n",
       "      <td>31.0</td>\n",
       "      <td>15.4</td>\n",
       "      <td>NaN</td>\n",
       "      <td>NaN</td>\n",
       "      <td>NaN</td>\n",
       "      <td>21.0</td>\n",
       "      <td>46.5</td>\n",
       "      <td>NaN</td>\n",
       "      <td>0</td>\n",
       "    </tr>\n",
       "    <tr>\n",
       "      <th>3</th>\n",
       "      <td>93711</td>\n",
       "      <td>1</td>\n",
       "      <td>56</td>\n",
       "      <td>21.3</td>\n",
       "      <td>165.0</td>\n",
       "      <td>1.290323</td>\n",
       "      <td>0.173</td>\n",
       "      <td>0.079</td>\n",
       "      <td>31.115</td>\n",
       "      <td>0.4</td>\n",
       "      <td>...</td>\n",
       "      <td>40.60</td>\n",
       "      <td>19.0</td>\n",
       "      <td>14.7</td>\n",
       "      <td>31.68</td>\n",
       "      <td>4.086</td>\n",
       "      <td>139.0</td>\n",
       "      <td>16.0</td>\n",
       "      <td>34.8</td>\n",
       "      <td>0.542</td>\n",
       "      <td>0</td>\n",
       "    </tr>\n",
       "    <tr>\n",
       "      <th>4</th>\n",
       "      <td>93713</td>\n",
       "      <td>1</td>\n",
       "      <td>67</td>\n",
       "      <td>23.5</td>\n",
       "      <td>63.5</td>\n",
       "      <td>2.047619</td>\n",
       "      <td>0.028</td>\n",
       "      <td>0.028</td>\n",
       "      <td>18.344</td>\n",
       "      <td>0.6</td>\n",
       "      <td>...</td>\n",
       "      <td>238.00</td>\n",
       "      <td>26.0</td>\n",
       "      <td>14.2</td>\n",
       "      <td>NaN</td>\n",
       "      <td>NaN</td>\n",
       "      <td>123.0</td>\n",
       "      <td>27.0</td>\n",
       "      <td>28.0</td>\n",
       "      <td>NaN</td>\n",
       "      <td>0</td>\n",
       "    </tr>\n",
       "    <tr>\n",
       "      <th>...</th>\n",
       "      <td>...</td>\n",
       "      <td>...</td>\n",
       "      <td>...</td>\n",
       "      <td>...</td>\n",
       "      <td>...</td>\n",
       "      <td>...</td>\n",
       "      <td>...</td>\n",
       "      <td>...</td>\n",
       "      <td>...</td>\n",
       "      <td>...</td>\n",
       "      <td>...</td>\n",
       "      <td>...</td>\n",
       "      <td>...</td>\n",
       "      <td>...</td>\n",
       "      <td>...</td>\n",
       "      <td>...</td>\n",
       "      <td>...</td>\n",
       "      <td>...</td>\n",
       "      <td>...</td>\n",
       "      <td>...</td>\n",
       "      <td>...</td>\n",
       "    </tr>\n",
       "    <tr>\n",
       "      <th>5555</th>\n",
       "      <td>102950</td>\n",
       "      <td>1</td>\n",
       "      <td>64</td>\n",
       "      <td>NaN</td>\n",
       "      <td>NaN</td>\n",
       "      <td>NaN</td>\n",
       "      <td>NaN</td>\n",
       "      <td>NaN</td>\n",
       "      <td>NaN</td>\n",
       "      <td>NaN</td>\n",
       "      <td>...</td>\n",
       "      <td>NaN</td>\n",
       "      <td>NaN</td>\n",
       "      <td>NaN</td>\n",
       "      <td>NaN</td>\n",
       "      <td>NaN</td>\n",
       "      <td>NaN</td>\n",
       "      <td>NaN</td>\n",
       "      <td>NaN</td>\n",
       "      <td>NaN</td>\n",
       "      <td>0</td>\n",
       "    </tr>\n",
       "    <tr>\n",
       "      <th>5556</th>\n",
       "      <td>102952</td>\n",
       "      <td>0</td>\n",
       "      <td>70</td>\n",
       "      <td>20.0</td>\n",
       "      <td>82.7</td>\n",
       "      <td>1.846154</td>\n",
       "      <td>0.235</td>\n",
       "      <td>0.077</td>\n",
       "      <td>31.347</td>\n",
       "      <td>0.6</td>\n",
       "      <td>...</td>\n",
       "      <td>135.00</td>\n",
       "      <td>18.0</td>\n",
       "      <td>13.4</td>\n",
       "      <td>26.34</td>\n",
       "      <td>1.112</td>\n",
       "      <td>168.0</td>\n",
       "      <td>39.0</td>\n",
       "      <td>29.1</td>\n",
       "      <td>0.881</td>\n",
       "      <td>0</td>\n",
       "    </tr>\n",
       "    <tr>\n",
       "      <th>5557</th>\n",
       "      <td>102953</td>\n",
       "      <td>1</td>\n",
       "      <td>42</td>\n",
       "      <td>35.8</td>\n",
       "      <td>49.5</td>\n",
       "      <td>1.142857</td>\n",
       "      <td>0.106</td>\n",
       "      <td>0.080</td>\n",
       "      <td>21.873</td>\n",
       "      <td>0.6</td>\n",
       "      <td>...</td>\n",
       "      <td>120.00</td>\n",
       "      <td>28.0</td>\n",
       "      <td>15.5</td>\n",
       "      <td>NaN</td>\n",
       "      <td>NaN</td>\n",
       "      <td>136.0</td>\n",
       "      <td>20.0</td>\n",
       "      <td>28.6</td>\n",
       "      <td>NaN</td>\n",
       "      <td>0</td>\n",
       "    </tr>\n",
       "    <tr>\n",
       "      <th>5558</th>\n",
       "      <td>102954</td>\n",
       "      <td>0</td>\n",
       "      <td>41</td>\n",
       "      <td>26.1</td>\n",
       "      <td>50.5</td>\n",
       "      <td>1.500000</td>\n",
       "      <td>0.117</td>\n",
       "      <td>0.056</td>\n",
       "      <td>26.935</td>\n",
       "      <td>1.4</td>\n",
       "      <td>...</td>\n",
       "      <td>1.99</td>\n",
       "      <td>8.0</td>\n",
       "      <td>6.4</td>\n",
       "      <td>56.94</td>\n",
       "      <td>2.793</td>\n",
       "      <td>123.0</td>\n",
       "      <td>5.0</td>\n",
       "      <td>248.0</td>\n",
       "      <td>0.553</td>\n",
       "      <td>0</td>\n",
       "    </tr>\n",
       "    <tr>\n",
       "      <th>5559</th>\n",
       "      <td>102956</td>\n",
       "      <td>1</td>\n",
       "      <td>38</td>\n",
       "      <td>36.1</td>\n",
       "      <td>58.9</td>\n",
       "      <td>1.482759</td>\n",
       "      <td>0.026</td>\n",
       "      <td>0.038</td>\n",
       "      <td>21.177</td>\n",
       "      <td>1.0</td>\n",
       "      <td>...</td>\n",
       "      <td>553.00</td>\n",
       "      <td>72.0</td>\n",
       "      <td>17.4</td>\n",
       "      <td>634.38</td>\n",
       "      <td>2.172</td>\n",
       "      <td>134.0</td>\n",
       "      <td>35.0</td>\n",
       "      <td>23.4</td>\n",
       "      <td>3.037</td>\n",
       "      <td>0</td>\n",
       "    </tr>\n",
       "  </tbody>\n",
       "</table>\n",
       "<p>5560 rows × 91 columns</p>\n",
       "</div>"
      ],
      "text/plain": [
       "      Respondent_ID  Gender  Age   BMI  25-hydroxyvitamin D2 + D3 [nmol/L]  \\\n",
       "0             93705       0   66  31.7                                89.9   \n",
       "1             93708       0   66  23.7                               116.0   \n",
       "2             93709       0   75  38.9                                72.8   \n",
       "3             93711       1   56  21.3                               165.0   \n",
       "4             93713       1   67  23.5                                63.5   \n",
       "...             ...     ...  ...   ...                                 ...   \n",
       "5555         102950       1   64   NaN                                 NaN   \n",
       "5556         102952       0   70  20.0                                82.7   \n",
       "5557         102953       1   42  35.8                                49.5   \n",
       "5558         102954       0   41  26.1                                50.5   \n",
       "5559         102956       1   38  36.1                                58.9   \n",
       "\n",
       "      A/G Ratio  Alpha-carotene [umol/L]  Alpha-crypotoxanthin [umol/L]  \\\n",
       "0      1.517241                    0.138                          0.071   \n",
       "1      1.218750                    0.192                          0.127   \n",
       "2      1.121212                    0.009                          0.017   \n",
       "3      1.290323                    0.173                          0.079   \n",
       "4      2.047619                    0.028                          0.028   \n",
       "...         ...                      ...                            ...   \n",
       "5555        NaN                      NaN                            NaN   \n",
       "5556   1.846154                    0.235                          0.077   \n",
       "5557   1.142857                    0.106                          0.080   \n",
       "5558   1.500000                    0.117                          0.056   \n",
       "5559   1.482759                    0.026                          0.038   \n",
       "\n",
       "      Alpha-tocopherol [umol/L]  Basophils [%]  ...  Ferritin [ng/mL]  \\\n",
       "0                        26.006            1.0  ...             28.70   \n",
       "1                           NaN            0.7  ...            109.00   \n",
       "2                        28.561            0.6  ...            129.00   \n",
       "3                        31.115            0.4  ...             40.60   \n",
       "4                        18.344            0.6  ...            238.00   \n",
       "...                         ...            ...  ...               ...   \n",
       "5555                        NaN            NaN  ...               NaN   \n",
       "5556                     31.347            0.6  ...            135.00   \n",
       "5557                     21.873            0.6  ...            120.00   \n",
       "5558                     26.935            1.4  ...              1.99   \n",
       "5559                     21.177            1.0  ...            553.00   \n",
       "\n",
       "      Gamma Glutamyl Transferase [IU/L]  Hemoglobin [g/dL]  Insulin [pmol/L]  \\\n",
       "0                                  21.0               11.9               NaN   \n",
       "1                                  22.0               13.2             58.32   \n",
       "2                                  31.0               15.4               NaN   \n",
       "3                                  19.0               14.7             31.68   \n",
       "4                                  26.0               14.2               NaN   \n",
       "...                                 ...                ...               ...   \n",
       "5555                                NaN                NaN               NaN   \n",
       "5556                               18.0               13.4             26.34   \n",
       "5557                               28.0               15.5               NaN   \n",
       "5558                                8.0                6.4             56.94   \n",
       "5559                               72.0               17.4            634.38   \n",
       "\n",
       "      LDL-Cholesterol(NIH2) [mmol/L]  Lactate Dehydrogenase [IU/L]  \\\n",
       "0                                NaN                         174.0   \n",
       "1                              2.870                         247.0   \n",
       "2                                NaN                           NaN   \n",
       "3                              4.086                         139.0   \n",
       "4                                NaN                         123.0   \n",
       "...                              ...                           ...   \n",
       "5555                             NaN                           NaN   \n",
       "5556                           1.112                         168.0   \n",
       "5557                             NaN                         136.0   \n",
       "5558                           2.793                         123.0   \n",
       "5559                           2.172                         134.0   \n",
       "\n",
       "      Transferrin Saturation [%]  Transferrin receptor [nmol/L]  \\\n",
       "0                           28.0                           39.8   \n",
       "1                           32.0                           30.1   \n",
       "2                           21.0                           46.5   \n",
       "3                           16.0                           34.8   \n",
       "4                           27.0                           28.0   \n",
       "...                          ...                            ...   \n",
       "5555                         NaN                            NaN   \n",
       "5556                        39.0                           29.1   \n",
       "5557                        20.0                           28.6   \n",
       "5558                         5.0                          248.0   \n",
       "5559                        35.0                           23.4   \n",
       "\n",
       "      Triglyceride [mmol/L]  Weak/Failing kidneys  \n",
       "0                       NaN                     0  \n",
       "1                     0.655                     0  \n",
       "2                       NaN                     0  \n",
       "3                     0.542                     0  \n",
       "4                       NaN                     0  \n",
       "...                     ...                   ...  \n",
       "5555                    NaN                     0  \n",
       "5556                  0.881                     0  \n",
       "5557                    NaN                     0  \n",
       "5558                  0.553                     0  \n",
       "5559                  3.037                     0  \n",
       "\n",
       "[5560 rows x 91 columns]"
      ]
     },
     "execution_count": 3,
     "metadata": {},
     "output_type": "execute_result"
    }
   ],
   "source": [
    "# Weak/Failing kidneys data\n",
    "\n",
    "weak_kidney_df = ml.get_data_of_disease(driver, 'Weak/Failing kidneys')\n",
    "weak_kidney_df"
   ]
  },
  {
   "cell_type": "markdown",
   "id": "6578093d",
   "metadata": {},
   "source": [
    "### Training"
   ]
  },
  {
   "cell_type": "code",
   "execution_count": 4,
   "id": "995292f6",
   "metadata": {},
   "outputs": [
    {
     "name": "stdout",
     "output_type": "stream",
     "text": [
      "Training Accuracy:  0.8851169064748201\n",
      "Testing Accuracy:  0.8857913669064749\n"
     ]
    }
   ],
   "source": [
    "gaussian_nb = ml.GaussianNB()\n",
    "\n",
    "# Attributes and Labels\n",
    "\n",
    "X, y, X_train, X_val, X_test, y_train, y_val, y_test = ml.preprocess_and_split(df = weak_kidney_df, label = 'Weak/Failing kidneys',\n",
    "                                                              impute = True, scale=True,\n",
    "                                                              imputer=ml.SimpleImputer(strategy='mean'),\n",
    "                                                              random_state=42)\n",
    "\n",
    "# Training\n",
    "\n",
    "gaussian_nb.fit(X_train, y_train)\n",
    "\n",
    "# Accuracy scores\n",
    "\n",
    "y_pred = gaussian_nb.predict(X_val)\n",
    "\n",
    "print('Training Accuracy: ',ml.accuracy_score(y_train, gaussian_nb.predict(X_train)))\n",
    "\n",
    "print('Testing Accuracy: ',ml.accuracy_score(y_val, y_pred))"
   ]
  },
  {
   "cell_type": "markdown",
   "id": "44142f21",
   "metadata": {},
   "source": [
    "## Feature Selection"
   ]
  },
  {
   "cell_type": "markdown",
   "id": "c60fc52a",
   "metadata": {},
   "source": [
    "### Correlation Analysis"
   ]
  },
  {
   "cell_type": "code",
   "execution_count": 5,
   "id": "a8302272",
   "metadata": {},
   "outputs": [],
   "source": [
    "gaussian_nb_test = ml.GaussianNB()"
   ]
  },
  {
   "cell_type": "code",
   "execution_count": 6,
   "id": "4bf4ee40",
   "metadata": {},
   "outputs": [
    {
     "data": {
      "text/plain": [
       "['Creatinine [mg/dL]',\n",
       " 'Blood Urea Nitrogen [mg/dL]',\n",
       " 'Retinol [umol/L]',\n",
       " 'Osmolality [mmol/Kg]',\n",
       " 'Age',\n",
       " 'Ferritin [ng/mL]',\n",
       " 'Uric Acid [mg/dL]',\n",
       " '25-hydroxyvitamin D2 + D3 [nmol/L]',\n",
       " 'Chromium [nmol/L]',\n",
       " 'Insulin [pmol/L]',\n",
       " 'Potassium [mmol/L]',\n",
       " 'Red cell distribution width [%]',\n",
       " 'Neutrophil_Lymphocyte Ratio',\n",
       " 'Lactate Dehydrogenase [IU/L]',\n",
       " 'Blood lead [umol/L]',\n",
       " 'C-Reactive Protein [mg/L]',\n",
       " 'Glycohemoglobin [%]',\n",
       " 'Fasting Glucose [mmol/L]',\n",
       " 'Alkaline Phosphatase [IU/L]',\n",
       " 'Monocyte [%]',\n",
       " 'Segmented neutrophils [%]',\n",
       " 'BMI',\n",
       " 'Platelet_Lymphocyte Ratio',\n",
       " 'Eosinophils [%]',\n",
       " 'Globulin [g/dL]',\n",
       " 'Mean cell volume [fL]',\n",
       " 'Transferrin receptor [nmol/L]',\n",
       " 'Systemic Immune‐inflammation Index (SII)',\n",
       " 'Basophils [%]',\n",
       " 'Gamma Glutamyl Transferase [IU/L]']"
      ]
     },
     "execution_count": 6,
     "metadata": {},
     "output_type": "execute_result"
    }
   ],
   "source": [
    "pos_corr, neg_corr = ml.get_correlated_features(weak_kidney_df,'Weak/Failing kidneys',pos=0.0,neg=-0.0)\n",
    "\n",
    "corr_features = list(pos_corr.keys()[1:]) + list(neg_corr.keys())\n",
    "corr_features[:30]"
   ]
  },
  {
   "cell_type": "code",
   "execution_count": 7,
   "id": "34987aa0",
   "metadata": {},
   "outputs": [
    {
     "name": "stdout",
     "output_type": "stream",
     "text": [
      "\n",
      "Train Accuracy: 0.913\n",
      "\n",
      "Test Accuracy: 0.916\n",
      "\n",
      "Precision: 0.243\n",
      "\n",
      "Recall: 0.489\n",
      "\n",
      "F1-Score: 0.325\n"
     ]
    }
   ],
   "source": [
    "ml.evaluate_feature_set(corr_features[:30], gaussian_nb_test, X_train, y_train, X_val, y_val)"
   ]
  },
  {
   "cell_type": "markdown",
   "id": "9df33603",
   "metadata": {},
   "source": [
    "### SelectFromModel"
   ]
  },
  {
   "cell_type": "code",
   "execution_count": 8,
   "id": "a245d928",
   "metadata": {},
   "outputs": [
    {
     "data": {
      "text/plain": [
       "['Gender',\n",
       " 'Age',\n",
       " '25-hydroxyvitamin D2 + D3 [nmol/L]',\n",
       " 'A/G Ratio',\n",
       " 'Beta-cryptoxanthin [umol/L]',\n",
       " 'Blood Urea Nitrogen [mg/dL]',\n",
       " 'Creatinine [mg/dL]',\n",
       " 'Glycohemoglobin [%]',\n",
       " 'Iron [ug/dL]',\n",
       " 'Iron frozen [umol/L]',\n",
       " 'LDL_HDL Ratio',\n",
       " 'Lutein and zeaxanthin [umol/L]',\n",
       " 'Lymphocyte_Monocyte Ratio',\n",
       " 'Neutrophil_Lymphocyte Ratio',\n",
       " 'Osmolality [mmol/Kg]',\n",
       " 'Phosphorus [mg/dL]',\n",
       " 'Platelet count [1000 cells/uL]',\n",
       " 'Platelet_Lymphocyte Ratio',\n",
       " 'Platelet_WBC Ratio',\n",
       " 'RBC count [million cells/uL]',\n",
       " 'Retinol [umol/L]',\n",
       " 'Sodium [mmol/L]',\n",
       " 'Systemic Immune‐inflammation Index (SII)',\n",
       " 'Total Cholestrol_HDL Ratio',\n",
       " 'Total Lycopene [umol/L]',\n",
       " 'Triglyceride_HDL Ratio',\n",
       " 'Alanine Aminotransferase [U/L]',\n",
       " 'Creatine Phosphokinase [IU/L]',\n",
       " 'Direct HDL-Cholesterol [mmol/L]',\n",
       " 'Transferrin Saturation [%]',\n",
       " 'Triglyceride [mmol/L]']"
      ]
     },
     "execution_count": 8,
     "metadata": {},
     "output_type": "execute_result"
    }
   ],
   "source": [
    "sfm_features = ml.select_from_model_features(ml.LogisticRegression(),X,y)\n",
    "sfm_features"
   ]
  },
  {
   "cell_type": "code",
   "execution_count": 9,
   "id": "17b4d45b",
   "metadata": {},
   "outputs": [
    {
     "name": "stdout",
     "output_type": "stream",
     "text": [
      "\n",
      "Train Accuracy: 0.913\n",
      "\n",
      "Test Accuracy: 0.919\n",
      "\n",
      "Precision: 0.258\n",
      "\n",
      "Recall: 0.511\n",
      "\n",
      "F1-Score: 0.343\n"
     ]
    }
   ],
   "source": [
    "sfm_features = list(sfm_features)\n",
    "\n",
    "ml.evaluate_feature_set(sfm_features, gaussian_nb_test, X_train, y_train, X_val, y_val)"
   ]
  },
  {
   "cell_type": "markdown",
   "id": "15f3ce0f",
   "metadata": {},
   "source": [
    "### SelectKBest"
   ]
  },
  {
   "cell_type": "code",
   "execution_count": 10,
   "id": "238022df",
   "metadata": {},
   "outputs": [
    {
     "data": {
      "text/plain": [
       "['Creatinine [mg/dL]',\n",
       " 'Blood Urea Nitrogen [mg/dL]',\n",
       " 'Retinol [umol/L]',\n",
       " 'Age',\n",
       " 'Osmolality [mmol/Kg]',\n",
       " 'Ferritin [ng/mL]',\n",
       " 'RBC count [million cells/uL]',\n",
       " 'Uric Acid [mg/dL]',\n",
       " '25-hydroxyvitamin D2 + D3 [nmol/L]',\n",
       " 'Hematocrit [%]',\n",
       " 'Hemoglobin [g/dL]',\n",
       " 'Albumin [g/dL]',\n",
       " 'Lymphocyte [%]',\n",
       " 'Potassium [mmol/L]',\n",
       " 'Chromium [nmol/L]',\n",
       " 'Total Iron Binding Capacity [umol/L]',\n",
       " 'Red cell distribution width [%]',\n",
       " 'Neutrophil_Lymphocyte Ratio',\n",
       " 'Lactate Dehydrogenase [IU/L]',\n",
       " 'Blood lead [umol/L]',\n",
       " 'C-Reactive Protein [mg/L]',\n",
       " 'A/G Ratio',\n",
       " 'Glycohemoglobin [%]',\n",
       " 'Total Lycopene [umol/L]',\n",
       " 'Alkaline Phosphatase [IU/L]',\n",
       " 'Trans-lycopene [umol/L]',\n",
       " 'Lymphocyte_Monocyte Ratio',\n",
       " 'Insulin [pmol/L]',\n",
       " 'Alpha-crypotoxanthin [umol/L]',\n",
       " 'Monocyte [%]']"
      ]
     },
     "execution_count": 10,
     "metadata": {},
     "output_type": "execute_result"
    }
   ],
   "source": [
    "k_best_features = ml.select_k_best(X, y, n=30)\n",
    "k_best_features[:30]"
   ]
  },
  {
   "cell_type": "code",
   "execution_count": 11,
   "id": "b756eeaa",
   "metadata": {},
   "outputs": [
    {
     "name": "stdout",
     "output_type": "stream",
     "text": [
      "\n",
      "Train Accuracy: 0.914\n",
      "\n",
      "Test Accuracy: 0.917\n",
      "\n",
      "Precision: 0.260\n",
      "\n",
      "Recall: 0.543\n",
      "\n",
      "F1-Score: 0.352\n"
     ]
    }
   ],
   "source": [
    "ml.evaluate_feature_set(k_best_features[:30], gaussian_nb_test, X_train, y_train, X_val, y_val)"
   ]
  },
  {
   "cell_type": "markdown",
   "id": "933ccbc1",
   "metadata": {},
   "source": [
    "### Recursive Feature Elimination (RFE) "
   ]
  },
  {
   "cell_type": "code",
   "execution_count": 12,
   "id": "82685afa",
   "metadata": {},
   "outputs": [
    {
     "data": {
      "text/plain": [
       "['Gender',\n",
       " 'Iron [ug/dL]',\n",
       " 'Iron frozen [umol/L]',\n",
       " 'LDL_HDL Ratio',\n",
       " 'Lutein and zeaxanthin [umol/L]',\n",
       " 'Neutrophil_Lymphocyte Ratio',\n",
       " 'Non_HDL Ratio',\n",
       " 'Osmolality [mmol/Kg]',\n",
       " 'Platelet count [1000 cells/uL]',\n",
       " 'Platelet_Lymphocyte Ratio',\n",
       " 'Glycohemoglobin [%]',\n",
       " 'Platelet_WBC Ratio',\n",
       " 'Sodium [mmol/L]',\n",
       " 'Systemic Immune‐inflammation Index (SII)',\n",
       " 'Total Cholestrol_HDL Ratio',\n",
       " 'Total Lycopene [umol/L]',\n",
       " 'Alanine Aminotransferase [U/L]',\n",
       " 'Creatine Phosphokinase [IU/L]',\n",
       " 'Gamma Glutamyl Transferase [IU/L]',\n",
       " 'Hemoglobin [g/dL]',\n",
       " 'Transferrin Saturation [%]',\n",
       " 'RBC count [million cells/uL]',\n",
       " 'Globulin [g/dL]',\n",
       " 'Phosphorus [mg/dL]',\n",
       " 'Age',\n",
       " 'Beta-cryptoxanthin [umol/L]',\n",
       " 'Creatinine [mg/dL]',\n",
       " 'BMI',\n",
       " '25-hydroxyvitamin D2 + D3 [nmol/L]',\n",
       " 'A/G Ratio']"
      ]
     },
     "execution_count": 12,
     "metadata": {},
     "output_type": "execute_result"
    }
   ],
   "source": [
    "rfe_features = ml.select_rfe_features(ml.LogisticRegression(),X,y,n=30,step=0.5)\n",
    "rfe_features[:30]"
   ]
  },
  {
   "cell_type": "code",
   "execution_count": 13,
   "id": "8db8aa72",
   "metadata": {},
   "outputs": [
    {
     "name": "stdout",
     "output_type": "stream",
     "text": [
      "\n",
      "Train Accuracy: 0.917\n",
      "\n",
      "Test Accuracy: 0.920\n",
      "\n",
      "Precision: 0.249\n",
      "\n",
      "Recall: 0.467\n",
      "\n",
      "F1-Score: 0.325\n"
     ]
    }
   ],
   "source": [
    "ml.evaluate_feature_set(rfe_features[:30], gaussian_nb_test, X_train, y_train, X_val, y_val)"
   ]
  },
  {
   "cell_type": "markdown",
   "id": "85827a38",
   "metadata": {},
   "source": [
    "### Lasso Regularization"
   ]
  },
  {
   "cell_type": "code",
   "execution_count": 14,
   "id": "f7a2dee7",
   "metadata": {},
   "outputs": [
    {
     "data": {
      "text/plain": [
       "['Creatinine [mg/dL]',\n",
       " 'Gender',\n",
       " 'Age',\n",
       " 'LDL_HDL Ratio',\n",
       " 'Retinol [umol/L]',\n",
       " 'Platelet_Lymphocyte Ratio',\n",
       " '25-hydroxyvitamin D2 + D3 [nmol/L]',\n",
       " 'Beta-cryptoxanthin [umol/L]',\n",
       " 'Ferritin [ng/mL]',\n",
       " 'Phosphorus [mg/dL]',\n",
       " 'Aspartate Aminotransferase [U/L]',\n",
       " 'Vitamin C [umol/L]',\n",
       " 'Alanine Aminotransferase [U/L]',\n",
       " 'Alkaline Phosphatase [IU/L]',\n",
       " 'Lutein and zeaxanthin [umol/L]',\n",
       " 'Total Bilirubin [mg/dL]',\n",
       " 'Bicarbonate [mmol/L]',\n",
       " 'Alpha-tocopherol [umol/L]',\n",
       " 'Blood lead [umol/L]',\n",
       " 'Total Lycopene [umol/L]',\n",
       " 'Blood Urea Nitrogen [mg/dL]',\n",
       " 'A/G Ratio',\n",
       " 'Blood selenium [umol/L]',\n",
       " 'Uric Acid [mg/dL]',\n",
       " 'Transferrin receptor [nmol/L]',\n",
       " 'Platelet_WBC Ratio',\n",
       " 'Iron frozen [umol/L]',\n",
       " 'White blood cell count [1000 cells/uL]',\n",
       " 'Nucleated RBCs',\n",
       " 'Iron [ug/dL]']"
      ]
     },
     "execution_count": 14,
     "metadata": {},
     "output_type": "execute_result"
    }
   ],
   "source": [
    "l1_selected_features = ml.log_reg_lasso_select(X_train, y_train)\n",
    "l1_selected_features[:30]"
   ]
  },
  {
   "cell_type": "code",
   "execution_count": 15,
   "id": "1b685cc9",
   "metadata": {},
   "outputs": [
    {
     "name": "stdout",
     "output_type": "stream",
     "text": [
      "\n",
      "Train Accuracy: 0.930\n",
      "\n",
      "Test Accuracy: 0.935\n",
      "\n",
      "Precision: 0.314\n",
      "\n",
      "Recall: 0.478\n",
      "\n",
      "F1-Score: 0.379\n"
     ]
    }
   ],
   "source": [
    "ml.evaluate_feature_set(l1_selected_features[:30], gaussian_nb_test, X_train, y_train, X_val, y_val)"
   ]
  },
  {
   "cell_type": "markdown",
   "id": "a37796b0",
   "metadata": {},
   "source": [
    "### Relief F"
   ]
  },
  {
   "cell_type": "code",
   "execution_count": 16,
   "id": "bfb3ec54",
   "metadata": {},
   "outputs": [],
   "source": [
    "relieff_features = ml.relief_feature_select(30,X,y)"
   ]
  },
  {
   "cell_type": "code",
   "execution_count": 17,
   "id": "fc600c21",
   "metadata": {},
   "outputs": [
    {
     "data": {
      "text/plain": [
       "['Nucleated RBCs',\n",
       " 'Creatinine [mg/dL]',\n",
       " 'Blood Urea Nitrogen [mg/dL]',\n",
       " 'Age',\n",
       " 'Hemoglobin [g/dL]',\n",
       " 'Hematocrit [%]',\n",
       " 'Osmolality [mmol/Kg]',\n",
       " 'Retinol [umol/L]',\n",
       " 'Total Cholesterol [mmol/L]',\n",
       " 'RBC count [million cells/uL]',\n",
       " 'Uric Acid [mg/dL]',\n",
       " 'Non_HDL Ratio',\n",
       " '25-hydroxyvitamin D2 + D3 [nmol/L]',\n",
       " 'Neutrophil_Lymphocyte Ratio',\n",
       " 'Lymphocyte [%]',\n",
       " 'Albumin [g/dL]',\n",
       " 'Gender',\n",
       " 'Transferrin Saturation [%]',\n",
       " 'Chloride [mmol/L]',\n",
       " 'UIBC [umol/L]',\n",
       " 'Glycohemoglobin [%]',\n",
       " 'Red cell distribution width [%]',\n",
       " 'Globulin [g/dL]',\n",
       " 'Total Protein [g/dL]',\n",
       " 'A/G Ratio',\n",
       " 'Segmented neutrophils [%]',\n",
       " 'Total Lycopene [umol/L]',\n",
       " 'Alpha-tocopherol [umol/L]',\n",
       " 'Total Iron Binding Capacity [umol/L]',\n",
       " 'Iron frozen [umol/L]']"
      ]
     },
     "execution_count": 17,
     "metadata": {},
     "output_type": "execute_result"
    }
   ],
   "source": [
    "relieff_features[:30]"
   ]
  },
  {
   "cell_type": "code",
   "execution_count": 18,
   "id": "8f76d0da",
   "metadata": {},
   "outputs": [
    {
     "name": "stdout",
     "output_type": "stream",
     "text": [
      "\n",
      "Train Accuracy: 0.917\n",
      "\n",
      "Test Accuracy: 0.923\n",
      "\n",
      "Precision: 0.280\n",
      "\n",
      "Recall: 0.554\n",
      "\n",
      "F1-Score: 0.372\n"
     ]
    }
   ],
   "source": [
    "ml.evaluate_feature_set(relieff_features[:30], gaussian_nb_test, X_train, y_train, X_val, y_val)"
   ]
  },
  {
   "cell_type": "markdown",
   "id": "ec970811",
   "metadata": {},
   "source": [
    "### Optimal no. of features"
   ]
  },
  {
   "cell_type": "code",
   "execution_count": 19,
   "id": "f7f104b1",
   "metadata": {},
   "outputs": [],
   "source": [
    "final_features = l1_selected_features"
   ]
  },
  {
   "cell_type": "code",
   "execution_count": 20,
   "id": "4aaf5159",
   "metadata": {},
   "outputs": [
    {
     "name": "stderr",
     "output_type": "stream",
     "text": [
      "Finding optimal no. of features..: 100%|████████| 85/85 [00:03<00:00, 22.09it/s]\n"
     ]
    },
    {
     "name": "stdout",
     "output_type": "stream",
     "text": [
      "\n",
      "Maximum accuracy = 0.9586 for 5 features\n"
     ]
    },
    {
     "data": {
      "image/png": "[encoded data removed]",
      "text/plain": [
       "<Figure size 1000x700 with 1 Axes>"
      ]
     },
     "metadata": {},
     "output_type": "display_data"
    }
   ],
   "source": [
    "# Optimal no. of features\n",
    "\n",
    "ml.plot_num_feature_performance(gaussian_nb_test,  X, y, final_features, scoring='accuracy')"
   ]
  },
  {
   "cell_type": "code",
   "execution_count": 21,
   "id": "d3297886",
   "metadata": {},
   "outputs": [
    {
     "name": "stderr",
     "output_type": "stream",
     "text": [
      "Finding optimal no. of features..: 100%|████████| 85/85 [00:04<00:00, 18.09it/s]\n"
     ]
    },
    {
     "name": "stdout",
     "output_type": "stream",
     "text": [
      "\n",
      "Maximum f1 = 0.3802 for 5 features\n"
     ]
    },
    {
     "data": {
      "image/png": "[encoded data removed]",
      "text/plain": [
       "<Figure size 1000x700 with 1 Axes>"
      ]
     },
     "metadata": {},
     "output_type": "display_data"
    }
   ],
   "source": [
    "# Optimal no. of features\n",
    "\n",
    "ml.plot_num_feature_performance(gaussian_nb_test,  X, y, final_features, scoring='f1')"
   ]
  },
  {
   "cell_type": "code",
   "execution_count": 23,
   "id": "cdd1c71c",
   "metadata": {},
   "outputs": [
    {
     "name": "stderr",
     "output_type": "stream",
     "text": [
      "Finding optimal no. of features..: 100%|████████| 85/85 [00:04<00:00, 19.61it/s]\n"
     ]
    },
    {
     "name": "stdout",
     "output_type": "stream",
     "text": [
      "\n",
      "Maximum precision = 0.4926 for 5 features\n"
     ]
    },
    {
     "data": {
      "image/png": "[encoded data removed]",
      "text/plain": [
       "<Figure size 1000x700 with 1 Axes>"
      ]
     },
     "metadata": {},
     "output_type": "display_data"
    }
   ],
   "source": [
    "# Optimal no. of features\n",
    "\n",
    "ml.plot_num_feature_performance(gaussian_nb_test,  X, y, final_features, scoring='precision')"
   ]
  },
  {
   "cell_type": "code",
   "execution_count": 24,
   "id": "27de64c6",
   "metadata": {},
   "outputs": [],
   "source": [
    "num_features = 5\n",
    "\n",
    "selected = final_features[:num_features]\n",
    "selected.append('Weak/Failing kidneys')\n",
    "\n",
    "weak_kidney_df = weak_kidney_df[selected]"
   ]
  },
  {
   "cell_type": "code",
   "execution_count": 25,
   "id": "6bdf5a67",
   "metadata": {},
   "outputs": [],
   "source": [
    "# Save feature set\n",
    "    \n",
    "with open('../Models/Weak kidneys/Feature Sets/GaussianNB Features.pkl', 'wb') as f:\n",
    "    ml.pickle.dump(selected, f)"
   ]
  },
  {
   "cell_type": "markdown",
   "id": "cd4a3a33",
   "metadata": {},
   "source": [
    "## Preprocessing"
   ]
  },
  {
   "cell_type": "markdown",
   "id": "32c7f0b2",
   "metadata": {},
   "source": [
    "### Zero Imputation"
   ]
  },
  {
   "cell_type": "code",
   "execution_count": 26,
   "id": "24b09db9",
   "metadata": {},
   "outputs": [],
   "source": [
    "# Imputing null values with zeroes\n",
    "\n",
    "X, y, X_train, X_val, X_test, y_train, y_val, y_test = ml.preprocess_and_split(df = weak_kidney_df, label = 'Weak/Failing kidneys',\n",
    "                                                        impute = True, scale=True,\n",
    "                                                        imputer=ml.SimpleImputer(strategy='constant',fill_value=0),\n",
    "                                                        random_state=42)"
   ]
  },
  {
   "cell_type": "code",
   "execution_count": 27,
   "id": "fd4250b4",
   "metadata": {},
   "outputs": [
    {
     "name": "stdout",
     "output_type": "stream",
     "text": [
      "\n",
      "Train Accuracy: 0.962\n",
      "\n",
      "Test Accuracy: 0.965\n",
      "\n",
      "Precision: 0.692\n",
      "\n",
      "Recall: 0.293\n",
      "\n",
      "F1-Score: 0.412\n"
     ]
    }
   ],
   "source": [
    "gaussian_nb.fit(X_train, y_train)\n",
    "\n",
    "ml.evaluate_model_metrics(gaussian_nb,X_train,y_train,X_val,y_val)"
   ]
  },
  {
   "cell_type": "markdown",
   "id": "1877522f",
   "metadata": {},
   "source": [
    "### Mode Imputation"
   ]
  },
  {
   "cell_type": "code",
   "execution_count": 28,
   "id": "fcca0b91",
   "metadata": {},
   "outputs": [],
   "source": [
    "# Imputing with most frequent values\n",
    "\n",
    "X, y, X_train, X_val, X_test, y_train, y_val, y_test = ml.preprocess_and_split(df = weak_kidney_df, label = 'Weak/Failing kidneys',\n",
    "                                                              impute = True, scale=True,\n",
    "                                                              imputer=ml.SimpleImputer(strategy='most_frequent'),\n",
    "                                                              random_state=42)"
   ]
  },
  {
   "cell_type": "code",
   "execution_count": 29,
   "id": "43855037",
   "metadata": {},
   "outputs": [
    {
     "name": "stdout",
     "output_type": "stream",
     "text": [
      "\n",
      "Train Accuracy: 0.957\n",
      "\n",
      "Test Accuracy: 0.961\n",
      "\n",
      "Precision: 0.534\n",
      "\n",
      "Recall: 0.424\n",
      "\n",
      "F1-Score: 0.473\n"
     ]
    }
   ],
   "source": [
    "gaussian_nb.fit(X_train, y_train)\n",
    "\n",
    "ml.evaluate_model_metrics(gaussian_nb,X_train,y_train,X_val,y_val)"
   ]
  },
  {
   "cell_type": "markdown",
   "id": "8484c25a",
   "metadata": {},
   "source": [
    "### k-NN Imputation"
   ]
  },
  {
   "cell_type": "code",
   "execution_count": 30,
   "id": "288ec08b",
   "metadata": {},
   "outputs": [],
   "source": [
    "# Imputing missing values with values from the k-nearest neighbors in the feature space\n",
    "\n",
    "X, y, X_train, X_val, X_test, y_train, y_val, y_test = ml.preprocess_and_split(df = weak_kidney_df, label = 'Weak/Failing kidneys',\n",
    "                                                              impute = True, scale=True,\n",
    "                                                              imputer=ml.KNNImputer(n_neighbors=20),\n",
    "                                                              random_state=42)"
   ]
  },
  {
   "cell_type": "code",
   "execution_count": 31,
   "id": "d03244a8",
   "metadata": {},
   "outputs": [
    {
     "name": "stdout",
     "output_type": "stream",
     "text": [
      "\n",
      "Train Accuracy: 0.958\n",
      "\n",
      "Test Accuracy: 0.961\n",
      "\n",
      "Precision: 0.545\n",
      "\n",
      "Recall: 0.391\n",
      "\n",
      "F1-Score: 0.456\n"
     ]
    }
   ],
   "source": [
    "gaussian_nb.fit(X_train, y_train)\n",
    "\n",
    "ml.evaluate_model_metrics(gaussian_nb,X_train,y_train,X_val,y_val)"
   ]
  },
  {
   "cell_type": "markdown",
   "id": "e8c1a99e",
   "metadata": {},
   "source": [
    "### Multiple Imputation by Chained Equations (MICE)"
   ]
  },
  {
   "cell_type": "code",
   "execution_count": 32,
   "id": "d78c9b6a",
   "metadata": {},
   "outputs": [],
   "source": [
    "# Imputes by looking at data from other columns and trying to estimate the best prediction for each missing value.\n",
    "\n",
    "X, y, X_train, X_val, X_test, y_train, y_val, y_test = ml.preprocess_and_split(df = weak_kidney_df, label = 'Weak/Failing kidneys',\n",
    "                                                              impute = True, scale=True,\n",
    "                                                              imputer=ml.IterativeImputer(max_iter=20),\n",
    "                                                              random_state=42)"
   ]
  },
  {
   "cell_type": "code",
   "execution_count": 33,
   "id": "78e0324b",
   "metadata": {},
   "outputs": [
    {
     "name": "stdout",
     "output_type": "stream",
     "text": [
      "\n",
      "Train Accuracy: 0.958\n",
      "\n",
      "Test Accuracy: 0.960\n",
      "\n",
      "Precision: 0.529\n",
      "\n",
      "Recall: 0.402\n",
      "\n",
      "F1-Score: 0.457\n"
     ]
    }
   ],
   "source": [
    "gaussian_nb.fit(X_train, y_train)\n",
    "\n",
    "ml.evaluate_model_metrics(gaussian_nb,X_train,y_train,X_val,y_val)"
   ]
  },
  {
   "cell_type": "markdown",
   "id": "ecf3258f",
   "metadata": {},
   "source": [
    "### Mean Imputation"
   ]
  },
  {
   "cell_type": "code",
   "execution_count": 36,
   "id": "cf825805",
   "metadata": {},
   "outputs": [],
   "source": [
    "# Splitting and Preprocessing data\n",
    "\n",
    "X, y, X_train, X_val, X_test, y_train, y_val, y_test = ml.preprocess_and_split(df = weak_kidney_df, label = 'Weak/Failing kidneys',\n",
    "                                                              impute = True, scale=True,\n",
    "                                                              imputer=ml.SimpleImputer(strategy='mean'),\n",
    "                                                              random_state=42)"
   ]
  },
  {
   "cell_type": "code",
   "execution_count": 37,
   "id": "c4eb9258",
   "metadata": {},
   "outputs": [
    {
     "name": "stdout",
     "output_type": "stream",
     "text": [
      "\n",
      "Train Accuracy: 0.958\n",
      "\n",
      "Test Accuracy: 0.961\n",
      "\n",
      "Precision: 0.535\n",
      "\n",
      "Recall: 0.413\n",
      "\n",
      "F1-Score: 0.466\n"
     ]
    }
   ],
   "source": [
    "gaussian_nb.fit(X_train, y_train)\n",
    "\n",
    "ml.evaluate_model_metrics(gaussian_nb,X_train,y_train,X_val,y_val)"
   ]
  },
  {
   "cell_type": "markdown",
   "id": "5bd39f86",
   "metadata": {},
   "source": [
    "### Dropping Null Values"
   ]
  },
  {
   "cell_type": "code",
   "execution_count": 38,
   "id": "2a0f7318",
   "metadata": {
    "scrolled": true
   },
   "outputs": [],
   "source": [
    "# Drop null values\n",
    "weak_kidney_df_na = weak_kidney_df.dropna()\n",
    "\n",
    "X, y, X_train, X_val, X_test, y_train, y_val, y_test = ml.preprocess_and_split(df = weak_kidney_df_na, label = 'Weak/Failing kidneys',\n",
    "                                                              impute = False, scale=True,\n",
    "                                                              random_state=42)"
   ]
  },
  {
   "cell_type": "code",
   "execution_count": 39,
   "id": "f3c46212",
   "metadata": {},
   "outputs": [
    {
     "name": "stdout",
     "output_type": "stream",
     "text": [
      "\n",
      "Train Accuracy: 0.959\n",
      "\n",
      "Test Accuracy: 0.965\n",
      "\n",
      "Precision: 0.450\n",
      "\n",
      "Recall: 0.310\n",
      "\n",
      "F1-Score: 0.367\n"
     ]
    }
   ],
   "source": [
    "gaussian_nb.fit(X_train, y_train)\n",
    "\n",
    "ml.evaluate_model_metrics(gaussian_nb,X_train,y_train,X_val,y_val)"
   ]
  },
  {
   "cell_type": "markdown",
   "id": "dc71288f",
   "metadata": {},
   "source": [
    "### Median Imputation"
   ]
  },
  {
   "cell_type": "code",
   "execution_count": 40,
   "id": "648640e9",
   "metadata": {},
   "outputs": [],
   "source": [
    "# Imputing with median values\n",
    "\n",
    "X, y, X_train, X_val, X_test, y_train, y_val, y_test = ml.preprocess_and_split(df = weak_kidney_df, label = 'Weak/Failing kidneys',\n",
    "                                                              impute = True, scale=True,\n",
    "                                                              imputer=ml.SimpleImputer(strategy='median'),\n",
    "                                                              random_state=42)"
   ]
  },
  {
   "cell_type": "code",
   "execution_count": 41,
   "id": "188ab3fd",
   "metadata": {},
   "outputs": [
    {
     "name": "stdout",
     "output_type": "stream",
     "text": [
      "\n",
      "Train Accuracy: 0.957\n",
      "\n",
      "Test Accuracy: 0.961\n",
      "\n",
      "Precision: 0.534\n",
      "\n",
      "Recall: 0.424\n",
      "\n",
      "F1-Score: 0.473\n"
     ]
    }
   ],
   "source": [
    "gaussian_nb.fit(X_train, y_train)\n",
    "\n",
    "ml.evaluate_model_metrics(gaussian_nb,X_train,y_train,X_val,y_val)"
   ]
  },
  {
   "cell_type": "markdown",
   "id": "d4f3c7a0",
   "metadata": {},
   "source": [
    "## Oversampling and Undersampling"
   ]
  },
  {
   "cell_type": "markdown",
   "id": "f2ab083d",
   "metadata": {},
   "source": [
    "### Random Oversampling"
   ]
  },
  {
   "cell_type": "code",
   "execution_count": 42,
   "id": "61c3f573",
   "metadata": {
    "scrolled": false
   },
   "outputs": [
    {
     "name": "stdout",
     "output_type": "stream",
     "text": [
      "\n",
      "Train Accuracy: 0.709\n",
      "\n",
      "Test Accuracy: 0.912\n",
      "\n",
      "Precision: 0.254\n",
      "\n",
      "Recall: 0.576\n",
      "\n",
      "F1-Score: 0.352\n"
     ]
    }
   ],
   "source": [
    "X_ros, y_ros = ml.random_over_sample(X_train, y_train)\n",
    "\n",
    "gaussian_nb.fit(X_ros, y_ros)\n",
    "\n",
    "ml.evaluate_model_metrics(gaussian_nb,X_ros, y_ros,X_val, y_val)"
   ]
  },
  {
   "cell_type": "markdown",
   "id": "55cc4ab2",
   "metadata": {},
   "source": [
    "### SMOTE (Synthetic Minority Over-sampling Technique)"
   ]
  },
  {
   "cell_type": "code",
   "execution_count": 43,
   "id": "5ed6c6b3",
   "metadata": {
    "scrolled": false
   },
   "outputs": [
    {
     "name": "stdout",
     "output_type": "stream",
     "text": [
      "\n",
      "Train Accuracy: 0.705\n",
      "\n",
      "Test Accuracy: 0.915\n",
      "\n",
      "Precision: 0.261\n",
      "\n",
      "Recall: 0.576\n",
      "\n",
      "F1-Score: 0.359\n"
     ]
    }
   ],
   "source": [
    "X_smote, y_smote = ml.smote_over_sample(X_train, y_train)\n",
    "\n",
    "gaussian_nb.fit(X_smote, y_smote)\n",
    "\n",
    "ml.evaluate_model_metrics(gaussian_nb,X_smote, y_smote,X_val, y_val)"
   ]
  },
  {
   "cell_type": "markdown",
   "id": "0532ee8b",
   "metadata": {},
   "source": [
    "### Random Undersampling"
   ]
  },
  {
   "cell_type": "code",
   "execution_count": 44,
   "id": "5286090b",
   "metadata": {
    "scrolled": false
   },
   "outputs": [
    {
     "name": "stdout",
     "output_type": "stream",
     "text": [
      "\n",
      "Train Accuracy: 0.660\n",
      "\n",
      "Test Accuracy: 0.915\n",
      "\n",
      "Precision: 0.236\n",
      "\n",
      "Recall: 0.467\n",
      "\n",
      "F1-Score: 0.314\n"
     ]
    }
   ],
   "source": [
    "X_rus, y_rus = ml.random_under_sample(X_train, y_train)\n",
    "\n",
    "gaussian_nb.fit(X_rus, y_rus)\n",
    "\n",
    "ml.evaluate_model_metrics(gaussian_nb,X_rus, y_rus,X_val, y_val)"
   ]
  },
  {
   "cell_type": "markdown",
   "id": "6defa173",
   "metadata": {},
   "source": [
    "### Tomek Links"
   ]
  },
  {
   "cell_type": "code",
   "execution_count": 45,
   "id": "f4fa6ccf",
   "metadata": {
    "scrolled": false
   },
   "outputs": [
    {
     "name": "stdout",
     "output_type": "stream",
     "text": [
      "\n",
      "Train Accuracy: 0.957\n",
      "\n",
      "Test Accuracy: 0.960\n",
      "\n",
      "Precision: 0.513\n",
      "\n",
      "Recall: 0.424\n",
      "\n",
      "F1-Score: 0.464\n"
     ]
    }
   ],
   "source": [
    "X_tomek, y_tomek = ml.tomek_links(X_train, y_train)\n",
    "\n",
    "gaussian_nb.fit(X_tomek, y_tomek)\n",
    "\n",
    "ml.evaluate_model_metrics(gaussian_nb,X_tomek, y_tomek,X_val, y_val)"
   ]
  },
  {
   "cell_type": "markdown",
   "id": "111c9c16",
   "metadata": {},
   "source": [
    "### SMOTE + Tomek Links"
   ]
  },
  {
   "cell_type": "code",
   "execution_count": 46,
   "id": "753149c7",
   "metadata": {
    "scrolled": false
   },
   "outputs": [
    {
     "name": "stdout",
     "output_type": "stream",
     "text": [
      "\n",
      "Train Accuracy: 0.709\n",
      "\n",
      "Test Accuracy: 0.915\n",
      "\n",
      "Precision: 0.261\n",
      "\n",
      "Recall: 0.576\n",
      "\n",
      "F1-Score: 0.359\n"
     ]
    }
   ],
   "source": [
    "X_smote_tomek, y_smote_tomek = ml.smote_tomek(X_train, y_train)\n",
    "\n",
    "gaussian_nb.fit(X_smote_tomek, y_smote_tomek)\n",
    "\n",
    "ml.evaluate_model_metrics(gaussian_nb,X_smote_tomek, y_smote_tomek,X_val, y_val)"
   ]
  },
  {
   "cell_type": "code",
   "execution_count": 47,
   "id": "1f3a2dd8",
   "metadata": {},
   "outputs": [],
   "source": [
    "# Model seems to perform better without oversampling or undersampling"
   ]
  },
  {
   "cell_type": "markdown",
   "id": "9bda7751",
   "metadata": {},
   "source": [
    "## Hyperparameter Optimization "
   ]
  },
  {
   "cell_type": "markdown",
   "id": "a8911f34",
   "metadata": {},
   "source": [
    "### Grid Search"
   ]
  },
  {
   "cell_type": "code",
   "execution_count": 48,
   "id": "8bbd1f7f",
   "metadata": {},
   "outputs": [],
   "source": [
    "# Since GaussianNB is a very simple model there aren't much hyperparamters to tune\n",
    "\n",
    "param_grid = {\n",
    "    \n",
    "    'var_smoothing': [1e-9, 1e-8, 1e-7, 1e-6, 1e-5]\n",
    "\n",
    "}"
   ]
  },
  {
   "cell_type": "code",
   "execution_count": 49,
   "id": "1b862359",
   "metadata": {},
   "outputs": [],
   "source": [
    "grid_best_params, gaussian_nb_grid = ml.grid_search_optimize(gaussian_nb, param_grid, X_train, \n",
    "                                                                y_train, cv=10,scoring='accuracy')"
   ]
  },
  {
   "cell_type": "code",
   "execution_count": 50,
   "id": "86a4a7b5",
   "metadata": {},
   "outputs": [
    {
     "data": {
      "text/plain": [
       "{'var_smoothing': 1e-09}"
      ]
     },
     "execution_count": 50,
     "metadata": {},
     "output_type": "execute_result"
    }
   ],
   "source": [
    "grid_best_params"
   ]
  },
  {
   "cell_type": "code",
   "execution_count": 51,
   "id": "2268aff4",
   "metadata": {},
   "outputs": [
    {
     "name": "stdout",
     "output_type": "stream",
     "text": [
      "\n",
      "Train Accuracy: 0.957\n",
      "\n",
      "Test Accuracy: 0.961\n",
      "\n",
      "Precision: 0.534\n",
      "\n",
      "Recall: 0.424\n",
      "\n",
      "F1-Score: 0.473\n"
     ]
    }
   ],
   "source": [
    "ml.evaluate_model_metrics(gaussian_nb_grid,X_train,y_train,X_val,y_val)"
   ]
  },
  {
   "cell_type": "markdown",
   "id": "8458e5a6",
   "metadata": {},
   "source": [
    "### Random Search"
   ]
  },
  {
   "cell_type": "code",
   "execution_count": 52,
   "id": "cc4fcfeb",
   "metadata": {},
   "outputs": [],
   "source": [
    "\n",
    "rand_best_params, gaussian_nb_rand = ml.random_search_optimize(gaussian_nb,param_grid,n_iter=100,cv=5,\n",
    "                                                               X_train=X_train, y_train=y_train,\n",
    "                                                               scoring='accuracy')"
   ]
  },
  {
   "cell_type": "code",
   "execution_count": 53,
   "id": "a3aca564",
   "metadata": {},
   "outputs": [
    {
     "data": {
      "text/plain": [
       "{'var_smoothing': 1e-09}"
      ]
     },
     "execution_count": 53,
     "metadata": {},
     "output_type": "execute_result"
    }
   ],
   "source": [
    "rand_best_params"
   ]
  },
  {
   "cell_type": "code",
   "execution_count": 54,
   "id": "0c27dea7",
   "metadata": {},
   "outputs": [
    {
     "name": "stdout",
     "output_type": "stream",
     "text": [
      "\n",
      "Train Accuracy: 0.957\n",
      "\n",
      "Test Accuracy: 0.961\n",
      "\n",
      "Precision: 0.534\n",
      "\n",
      "Recall: 0.424\n",
      "\n",
      "F1-Score: 0.473\n"
     ]
    }
   ],
   "source": [
    "ml.evaluate_model_metrics(gaussian_nb_rand,X_train,y_train,X_val,y_val)"
   ]
  },
  {
   "cell_type": "markdown",
   "id": "7d6294a4",
   "metadata": {},
   "source": [
    "### Optuna"
   ]
  },
  {
   "cell_type": "code",
   "execution_count": 55,
   "id": "ae722921",
   "metadata": {},
   "outputs": [],
   "source": [
    "def objective(trial):\n",
    "\n",
    "    var_smoothing = trial.suggest_loguniform('var_smoothing', 1e-10, 1e-1)\n",
    "\n",
    "    model = ml.GaussianNB(var_smoothing=var_smoothing)\n",
    "    \n",
    "    model.fit(X_train, y_train)\n",
    "    y_pred = model.predict(X_test)\n",
    "\n",
    "    accuracy = ml.accuracy_score(y_test, y_pred)\n",
    "\n",
    "    return accuracy"
   ]
  },
  {
   "cell_type": "code",
   "execution_count": 56,
   "id": "e7e379fd",
   "metadata": {},
   "outputs": [],
   "source": [
    "best_trial , gaussian_nb_opt = ml.optuna_optimize(objective, ml.GaussianNB, n_trials=150)"
   ]
  },
  {
   "cell_type": "code",
   "execution_count": 57,
   "id": "b9b8c5b6",
   "metadata": {},
   "outputs": [
    {
     "data": {
      "text/plain": [
       "{'var_smoothing': 0.09152436760475445}"
      ]
     },
     "execution_count": 57,
     "metadata": {},
     "output_type": "execute_result"
    }
   ],
   "source": [
    "best_trial"
   ]
  },
  {
   "cell_type": "code",
   "execution_count": 58,
   "id": "9e3a828c",
   "metadata": {},
   "outputs": [
    {
     "name": "stdout",
     "output_type": "stream",
     "text": [
      "\n",
      "Train Accuracy: 0.958\n",
      "\n",
      "Test Accuracy: 0.960\n",
      "\n",
      "Precision: 0.532\n",
      "\n",
      "Recall: 0.359\n",
      "\n",
      "F1-Score: 0.429\n"
     ]
    }
   ],
   "source": [
    "gaussian_nb_opt.fit(X_train,y_train)\n",
    "\n",
    "ml.evaluate_model_metrics(gaussian_nb_opt,X_train,y_train,X_val,y_val)"
   ]
  },
  {
   "cell_type": "markdown",
   "id": "af5a88e1",
   "metadata": {},
   "source": [
    "## Evaluation on Test Set"
   ]
  },
  {
   "cell_type": "code",
   "execution_count": 67,
   "id": "d8a10c03",
   "metadata": {},
   "outputs": [
    {
     "name": "stdout",
     "output_type": "stream",
     "text": [
      "\n",
      "Train Accuracy: 0.958\n",
      "\n",
      "Test Accuracy: 0.955\n",
      "\n",
      "Precision: 0.460\n",
      "\n",
      "Recall: 0.240\n",
      "\n",
      "F1-Score: 0.315\n",
      "\n",
      "Confusion Matrix:\n",
      "\n",
      "[[2101   27]\n",
      " [  73   23]]\n",
      "\n",
      "\n",
      "Classification Report:\n",
      "\n",
      "              precision    recall  f1-score   support\n",
      "\n",
      "     Class 0       0.97      0.99      0.98      2128\n",
      "     Class 1       0.46      0.24      0.32        96\n",
      "\n",
      "    accuracy                           0.96      2224\n",
      "   macro avg       0.71      0.61      0.65      2224\n",
      "weighted avg       0.94      0.96      0.95      2224\n",
      "\n",
      "\n",
      "ROC-AUC Curve:\n"
     ]
    },
    {
     "data": {
      "image/png": "[encoded data removed]",
      "text/plain": [
       "<Figure size 600x400 with 1 Axes>"
      ]
     },
     "metadata": {},
     "output_type": "display_data"
    }
   ],
   "source": [
    "# After evaluating on the validation set, we evaluate and finalize on the test set\n",
    "\n",
    "ml.evaluate_model_metrics(gaussian_nb, X_train, y_train, X_test, y_test, verbose=6)"
   ]
  },
  {
   "cell_type": "markdown",
   "id": "e7b5c88c",
   "metadata": {},
   "source": [
    "## Cross Validation"
   ]
  },
  {
   "cell_type": "markdown",
   "id": "7e539fb9",
   "metadata": {},
   "source": [
    "### K-fold"
   ]
  },
  {
   "cell_type": "code",
   "execution_count": 59,
   "id": "e77a24f0",
   "metadata": {},
   "outputs": [
    {
     "name": "stdout",
     "output_type": "stream",
     "text": [
      "\n",
      "accuracy scores: [0.95683453 0.95503597 0.95503597 0.96402878 0.96043165 0.94964029\n",
      " 0.95683453 0.96582734 0.96043165 0.96043165]\n",
      "\n",
      "Mean accuracy score:  0.9584532374100719\n",
      "\n",
      "Standard deviation:  0.0045107684186994545\n"
     ]
    }
   ],
   "source": [
    "ml.k_cross_validate(gaussian_nb,X,y,cv=10,scoring='accuracy')"
   ]
  },
  {
   "cell_type": "code",
   "execution_count": 60,
   "id": "4aad10b7",
   "metadata": {},
   "outputs": [
    {
     "name": "stdout",
     "output_type": "stream",
     "text": [
      "\n",
      "accuracy scores: [0.95683453 0.95503597 0.95503597 0.96402878 0.96043165 0.94964029\n",
      " 0.95683453 0.96582734 0.96043165 0.96043165]\n",
      "\n",
      "Mean accuracy score:  0.9584532374100719\n",
      "\n",
      "Standard deviation:  0.0045107684186994545\n"
     ]
    }
   ],
   "source": [
    "ml.k_cross_validate(gaussian_nb_grid,X,y,cv=10,scoring='accuracy')"
   ]
  },
  {
   "cell_type": "code",
   "execution_count": 61,
   "id": "fa6ff1f4",
   "metadata": {},
   "outputs": [
    {
     "name": "stdout",
     "output_type": "stream",
     "text": [
      "\n",
      "accuracy scores: [0.95683453 0.95503597 0.95503597 0.96402878 0.96043165 0.94964029\n",
      " 0.95683453 0.96582734 0.96043165 0.96043165]\n",
      "\n",
      "Mean accuracy score:  0.9584532374100719\n",
      "\n",
      "Standard deviation:  0.0045107684186994545\n"
     ]
    }
   ],
   "source": [
    "ml.k_cross_validate(gaussian_nb_rand,X,y,cv=10,scoring='accuracy')"
   ]
  },
  {
   "cell_type": "code",
   "execution_count": 62,
   "id": "46f81577",
   "metadata": {},
   "outputs": [
    {
     "name": "stdout",
     "output_type": "stream",
     "text": [
      "\n",
      "accuracy scores: [0.95323741 0.95683453 0.95863309 0.96942446 0.96043165 0.94964029\n",
      " 0.95683453 0.9676259  0.96223022 0.96402878]\n",
      "\n",
      "Mean accuracy score:  0.9598920863309353\n",
      "\n",
      "Standard deviation:  0.005858452329101553\n"
     ]
    }
   ],
   "source": [
    "ml.k_cross_validate(gaussian_nb_opt,X,y,cv=10,scoring='accuracy')"
   ]
  },
  {
   "cell_type": "markdown",
   "id": "ad831ffc",
   "metadata": {},
   "source": [
    "### Stratified K-fold"
   ]
  },
  {
   "cell_type": "code",
   "execution_count": 63,
   "id": "29a48b89",
   "metadata": {},
   "outputs": [
    {
     "name": "stdout",
     "output_type": "stream",
     "text": [
      "\n",
      "Average Accuracy: 0.9580935251798561\n",
      "\n",
      "Average Precision: 0.48252443377056375\n",
      "\n",
      "Average Recall: 0.3231225296442687\n",
      "\n",
      "Average F1-Score: 0.3828465434113701\n"
     ]
    }
   ],
   "source": [
    "ml.stratified_k_cross_validate(gaussian_nb,X,y,n_splits=10)"
   ]
  },
  {
   "cell_type": "code",
   "execution_count": 64,
   "id": "e0f6f6d6",
   "metadata": {},
   "outputs": [
    {
     "name": "stdout",
     "output_type": "stream",
     "text": [
      "\n",
      "Average Accuracy: 0.9580935251798561\n",
      "\n",
      "Average Precision: 0.48252443377056375\n",
      "\n",
      "Average Recall: 0.3231225296442687\n",
      "\n",
      "Average F1-Score: 0.3828465434113701\n"
     ]
    }
   ],
   "source": [
    "ml.stratified_k_cross_validate(gaussian_nb_grid,X,y,n_splits=10)"
   ]
  },
  {
   "cell_type": "code",
   "execution_count": 65,
   "id": "5aa2c58d",
   "metadata": {},
   "outputs": [
    {
     "name": "stdout",
     "output_type": "stream",
     "text": [
      "\n",
      "Average Accuracy: 0.9580935251798561\n",
      "\n",
      "Average Precision: 0.48252443377056375\n",
      "\n",
      "Average Recall: 0.3231225296442687\n",
      "\n",
      "Average F1-Score: 0.3828465434113701\n"
     ]
    }
   ],
   "source": [
    "ml.stratified_k_cross_validate(gaussian_nb_rand,X,y,n_splits=10)"
   ]
  },
  {
   "cell_type": "code",
   "execution_count": 66,
   "id": "2c1453da",
   "metadata": {},
   "outputs": [
    {
     "name": "stdout",
     "output_type": "stream",
     "text": [
      "\n",
      "Average Accuracy: 0.9598920863309355\n",
      "\n",
      "Average Precision: 0.524650765900766\n",
      "\n",
      "Average Recall: 0.29624505928853756\n",
      "\n",
      "Average F1-Score: 0.37253774098975334\n"
     ]
    }
   ],
   "source": [
    "ml.stratified_k_cross_validate(gaussian_nb_opt,X,y,n_splits=10)"
   ]
  },
  {
   "cell_type": "markdown",
   "id": "e5d7b05d",
   "metadata": {},
   "source": [
    "### Save Model"
   ]
  },
  {
   "cell_type": "code",
   "execution_count": 68,
   "id": "6e89475b",
   "metadata": {},
   "outputs": [],
   "source": [
    "final_gaussian_estimator = gaussian_nb"
   ]
  },
  {
   "cell_type": "code",
   "execution_count": 69,
   "id": "ea9c37ae",
   "metadata": {},
   "outputs": [
    {
     "name": "stdout",
     "output_type": "stream",
     "text": [
      "Saved Model\n"
     ]
    }
   ],
   "source": [
    "# Saving the model\n",
    "\n",
    "ml.save_model(final_gaussian_estimator, \"../Models/Weak kidneys/GaussianNB.pkl\")"
   ]
  },
  {
   "cell_type": "markdown",
   "id": "de59f229",
   "metadata": {},
   "source": [
    "## Prediction"
   ]
  },
  {
   "cell_type": "code",
   "execution_count": 73,
   "id": "67af8316",
   "metadata": {},
   "outputs": [
    {
     "name": "stdout",
     "output_type": "stream",
     "text": [
      "Instance:\n",
      " [ 0.         -0.68801717 -0.92913778 -0.06414882 -1.6627907 ]\n",
      "\n",
      "Expected Class:  0\n",
      "\n",
      " Modified Instance:\n",
      " [ 0.         -0.76126994 -0.96000395 -0.05207264 -1.7918556 ]\n",
      "\n",
      "Predicted Class:  [0]\n"
     ]
    }
   ],
   "source": [
    "# Predicting on perturbed values\n",
    "\n",
    "sc = ml.np.random.rand()\n",
    "\n",
    "ml.predict_on_modified_instance(final_gaussian_estimator, X_test.iloc[0], y_test.iloc[0], sc)"
   ]
  },
  {
   "cell_type": "code",
   "execution_count": 74,
   "id": "a39b8dfe",
   "metadata": {
    "scrolled": true
   },
   "outputs": [
    {
     "name": "stdout",
     "output_type": "stream",
     "text": [
      "Instance:\n",
      " [ 1.          0.78780433  1.60528875 -0.06414882  0.58857467]\n",
      "\n",
      "Expected Class:  0\n",
      "\n",
      " Modified Instance:\n",
      " [ 1.          0.6541118   1.71988604 -0.11063376  0.60144399]\n",
      "\n",
      "Predicted Class:  [0]\n"
     ]
    }
   ],
   "source": [
    "ml.predict_on_modified_instance(final_gaussian_estimator, X_test.iloc[3], y_test.iloc[3], sc)"
   ]
  },
  {
   "cell_type": "code",
   "execution_count": 75,
   "id": "a5fbe4bb",
   "metadata": {
    "scrolled": true
   },
   "outputs": [
    {
     "name": "stdout",
     "output_type": "stream",
     "text": [
      "Instance:\n",
      " [ 1.          3.46273081  0.19727401 -0.06414882  2.56208769]\n",
      "\n",
      "Expected Class:  1\n",
      "\n",
      " Modified Instance:\n",
      " [ 1.          3.52489337  0.21547659 -0.10115756  2.58980243]\n",
      "\n",
      "Predicted Class:  [1]\n"
     ]
    }
   ],
   "source": [
    "ml.predict_on_modified_instance(final_gaussian_estimator, X_test.iloc[34], y_test.iloc[34], sc)"
   ]
  }
 ],
 "metadata": {
  "kernelspec": {
   "display_name": "Python 3 (ipykernel)",
   "language": "python",
   "name": "python3"
  },
  "language_info": {
   "codemirror_mode": {
    "name": "ipython",
    "version": 3
   },
   "file_extension": ".py",
   "mimetype": "text/x-python",
   "name": "python",
   "nbconvert_exporter": "python",
   "pygments_lexer": "ipython3",
   "version": "3.10.12"
  }
 },
 "nbformat": 4,
 "nbformat_minor": 5
}
