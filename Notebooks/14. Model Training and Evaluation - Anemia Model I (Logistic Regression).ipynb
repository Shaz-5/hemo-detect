{
 "cells": [
  {
   "cell_type": "markdown",
   "id": "d2acf9f1",
   "metadata": {},
   "source": [
    "# Anemia - Logistic Regression"
   ]
  },
  {
   "cell_type": "code",
   "execution_count": 1,
   "id": "5c1b7eb2",
   "metadata": {},
   "outputs": [],
   "source": [
    "import some_load_train_evaluate_functions as ml"
   ]
  },
  {
   "cell_type": "code",
   "execution_count": 2,
   "id": "6b4433ef",
   "metadata": {},
   "outputs": [
    {
     "name": "stdout",
     "output_type": "stream",
     "text": [
      "Connected to database successfully.\n"
     ]
    }
   ],
   "source": [
    "path = '../KG/db.env'\n",
    "\n",
    "driver = ml.connect_to_neo4j(path)"
   ]
  },
  {
   "cell_type": "markdown",
   "id": "4016e569",
   "metadata": {},
   "source": [
    "### Load Data"
   ]
  },
  {
   "cell_type": "code",
   "execution_count": 3,
   "id": "76bbe0fe",
   "metadata": {},
   "outputs": [
    {
     "data": {
      "text/html": [
       "<div>\n",
       "<style scoped>\n",
       "    .dataframe tbody tr th:only-of-type {\n",
       "        vertical-align: middle;\n",
       "    }\n",
       "\n",
       "    .dataframe tbody tr th {\n",
       "        vertical-align: top;\n",
       "    }\n",
       "\n",
       "    .dataframe thead th {\n",
       "        text-align: right;\n",
       "    }\n",
       "</style>\n",
       "<table border=\"1\" class=\"dataframe\">\n",
       "  <thead>\n",
       "    <tr style=\"text-align: right;\">\n",
       "      <th></th>\n",
       "      <th>Respondent_ID</th>\n",
       "      <th>Gender</th>\n",
       "      <th>Age</th>\n",
       "      <th>BMI</th>\n",
       "      <th>25-hydroxyvitamin D2 + D3 [nmol/L]</th>\n",
       "      <th>A/G Ratio</th>\n",
       "      <th>Alpha-carotene [umol/L]</th>\n",
       "      <th>Alpha-crypotoxanthin [umol/L]</th>\n",
       "      <th>Alpha-tocopherol [umol/L]</th>\n",
       "      <th>Basophils [%]</th>\n",
       "      <th>...</th>\n",
       "      <th>Ferritin [ng/mL]</th>\n",
       "      <th>Gamma Glutamyl Transferase [IU/L]</th>\n",
       "      <th>Hemoglobin [g/dL]</th>\n",
       "      <th>Insulin [pmol/L]</th>\n",
       "      <th>LDL-Cholesterol(NIH2) [mmol/L]</th>\n",
       "      <th>Lactate Dehydrogenase [IU/L]</th>\n",
       "      <th>Transferrin Saturation [%]</th>\n",
       "      <th>Transferrin receptor [nmol/L]</th>\n",
       "      <th>Triglyceride [mmol/L]</th>\n",
       "      <th>Anemia</th>\n",
       "    </tr>\n",
       "  </thead>\n",
       "  <tbody>\n",
       "    <tr>\n",
       "      <th>0</th>\n",
       "      <td>93703</td>\n",
       "      <td>0</td>\n",
       "      <td>2</td>\n",
       "      <td>17.5</td>\n",
       "      <td>NaN</td>\n",
       "      <td>NaN</td>\n",
       "      <td>NaN</td>\n",
       "      <td>NaN</td>\n",
       "      <td>NaN</td>\n",
       "      <td>NaN</td>\n",
       "      <td>...</td>\n",
       "      <td>NaN</td>\n",
       "      <td>NaN</td>\n",
       "      <td>NaN</td>\n",
       "      <td>NaN</td>\n",
       "      <td>NaN</td>\n",
       "      <td>NaN</td>\n",
       "      <td>NaN</td>\n",
       "      <td>NaN</td>\n",
       "      <td>NaN</td>\n",
       "      <td>0</td>\n",
       "    </tr>\n",
       "    <tr>\n",
       "      <th>1</th>\n",
       "      <td>93704</td>\n",
       "      <td>1</td>\n",
       "      <td>2</td>\n",
       "      <td>15.7</td>\n",
       "      <td>74.4</td>\n",
       "      <td>NaN</td>\n",
       "      <td>NaN</td>\n",
       "      <td>NaN</td>\n",
       "      <td>NaN</td>\n",
       "      <td>0.7</td>\n",
       "      <td>...</td>\n",
       "      <td>36.60</td>\n",
       "      <td>NaN</td>\n",
       "      <td>13.1</td>\n",
       "      <td>NaN</td>\n",
       "      <td>NaN</td>\n",
       "      <td>NaN</td>\n",
       "      <td>NaN</td>\n",
       "      <td>30.6</td>\n",
       "      <td>NaN</td>\n",
       "      <td>0</td>\n",
       "    </tr>\n",
       "    <tr>\n",
       "      <th>2</th>\n",
       "      <td>93705</td>\n",
       "      <td>0</td>\n",
       "      <td>66</td>\n",
       "      <td>31.7</td>\n",
       "      <td>89.9</td>\n",
       "      <td>1.517241</td>\n",
       "      <td>0.138</td>\n",
       "      <td>0.071</td>\n",
       "      <td>26.006</td>\n",
       "      <td>1.0</td>\n",
       "      <td>...</td>\n",
       "      <td>28.70</td>\n",
       "      <td>21.0</td>\n",
       "      <td>11.9</td>\n",
       "      <td>NaN</td>\n",
       "      <td>NaN</td>\n",
       "      <td>174.0</td>\n",
       "      <td>28.0</td>\n",
       "      <td>39.8</td>\n",
       "      <td>NaN</td>\n",
       "      <td>0</td>\n",
       "    </tr>\n",
       "    <tr>\n",
       "      <th>3</th>\n",
       "      <td>93706</td>\n",
       "      <td>1</td>\n",
       "      <td>18</td>\n",
       "      <td>21.5</td>\n",
       "      <td>53.8</td>\n",
       "      <td>1.629630</td>\n",
       "      <td>0.160</td>\n",
       "      <td>0.031</td>\n",
       "      <td>16.765</td>\n",
       "      <td>0.8</td>\n",
       "      <td>...</td>\n",
       "      <td>284.00</td>\n",
       "      <td>16.0</td>\n",
       "      <td>16.3</td>\n",
       "      <td>NaN</td>\n",
       "      <td>NaN</td>\n",
       "      <td>142.0</td>\n",
       "      <td>51.0</td>\n",
       "      <td>34.0</td>\n",
       "      <td>NaN</td>\n",
       "      <td>0</td>\n",
       "    </tr>\n",
       "    <tr>\n",
       "      <th>4</th>\n",
       "      <td>93707</td>\n",
       "      <td>1</td>\n",
       "      <td>13</td>\n",
       "      <td>18.1</td>\n",
       "      <td>58.2</td>\n",
       "      <td>1.857143</td>\n",
       "      <td>0.009</td>\n",
       "      <td>0.044</td>\n",
       "      <td>22.756</td>\n",
       "      <td>0.5</td>\n",
       "      <td>...</td>\n",
       "      <td>49.30</td>\n",
       "      <td>9.0</td>\n",
       "      <td>14.5</td>\n",
       "      <td>NaN</td>\n",
       "      <td>NaN</td>\n",
       "      <td>177.0</td>\n",
       "      <td>21.0</td>\n",
       "      <td>34.0</td>\n",
       "      <td>NaN</td>\n",
       "      <td>0</td>\n",
       "    </tr>\n",
       "    <tr>\n",
       "      <th>...</th>\n",
       "      <td>...</td>\n",
       "      <td>...</td>\n",
       "      <td>...</td>\n",
       "      <td>...</td>\n",
       "      <td>...</td>\n",
       "      <td>...</td>\n",
       "      <td>...</td>\n",
       "      <td>...</td>\n",
       "      <td>...</td>\n",
       "      <td>...</td>\n",
       "      <td>...</td>\n",
       "      <td>...</td>\n",
       "      <td>...</td>\n",
       "      <td>...</td>\n",
       "      <td>...</td>\n",
       "      <td>...</td>\n",
       "      <td>...</td>\n",
       "      <td>...</td>\n",
       "      <td>...</td>\n",
       "      <td>...</td>\n",
       "      <td>...</td>\n",
       "    </tr>\n",
       "    <tr>\n",
       "      <th>8877</th>\n",
       "      <td>102952</td>\n",
       "      <td>0</td>\n",
       "      <td>70</td>\n",
       "      <td>20.0</td>\n",
       "      <td>82.7</td>\n",
       "      <td>1.846154</td>\n",
       "      <td>0.235</td>\n",
       "      <td>0.077</td>\n",
       "      <td>31.347</td>\n",
       "      <td>0.6</td>\n",
       "      <td>...</td>\n",
       "      <td>135.00</td>\n",
       "      <td>18.0</td>\n",
       "      <td>13.4</td>\n",
       "      <td>26.34</td>\n",
       "      <td>1.112</td>\n",
       "      <td>168.0</td>\n",
       "      <td>39.0</td>\n",
       "      <td>29.1</td>\n",
       "      <td>0.881</td>\n",
       "      <td>0</td>\n",
       "    </tr>\n",
       "    <tr>\n",
       "      <th>8878</th>\n",
       "      <td>102953</td>\n",
       "      <td>1</td>\n",
       "      <td>42</td>\n",
       "      <td>35.8</td>\n",
       "      <td>49.5</td>\n",
       "      <td>1.142857</td>\n",
       "      <td>0.106</td>\n",
       "      <td>0.080</td>\n",
       "      <td>21.873</td>\n",
       "      <td>0.6</td>\n",
       "      <td>...</td>\n",
       "      <td>120.00</td>\n",
       "      <td>28.0</td>\n",
       "      <td>15.5</td>\n",
       "      <td>NaN</td>\n",
       "      <td>NaN</td>\n",
       "      <td>136.0</td>\n",
       "      <td>20.0</td>\n",
       "      <td>28.6</td>\n",
       "      <td>NaN</td>\n",
       "      <td>0</td>\n",
       "    </tr>\n",
       "    <tr>\n",
       "      <th>8879</th>\n",
       "      <td>102954</td>\n",
       "      <td>0</td>\n",
       "      <td>41</td>\n",
       "      <td>26.1</td>\n",
       "      <td>50.5</td>\n",
       "      <td>1.500000</td>\n",
       "      <td>0.117</td>\n",
       "      <td>0.056</td>\n",
       "      <td>26.935</td>\n",
       "      <td>1.4</td>\n",
       "      <td>...</td>\n",
       "      <td>1.99</td>\n",
       "      <td>8.0</td>\n",
       "      <td>6.4</td>\n",
       "      <td>56.94</td>\n",
       "      <td>2.793</td>\n",
       "      <td>123.0</td>\n",
       "      <td>5.0</td>\n",
       "      <td>248.0</td>\n",
       "      <td>0.553</td>\n",
       "      <td>0</td>\n",
       "    </tr>\n",
       "    <tr>\n",
       "      <th>8880</th>\n",
       "      <td>102955</td>\n",
       "      <td>0</td>\n",
       "      <td>14</td>\n",
       "      <td>45.6</td>\n",
       "      <td>61.9</td>\n",
       "      <td>1.205882</td>\n",
       "      <td>0.031</td>\n",
       "      <td>0.079</td>\n",
       "      <td>17.856</td>\n",
       "      <td>0.9</td>\n",
       "      <td>...</td>\n",
       "      <td>11.40</td>\n",
       "      <td>16.0</td>\n",
       "      <td>11.4</td>\n",
       "      <td>NaN</td>\n",
       "      <td>NaN</td>\n",
       "      <td>158.0</td>\n",
       "      <td>5.0</td>\n",
       "      <td>57.7</td>\n",
       "      <td>NaN</td>\n",
       "      <td>0</td>\n",
       "    </tr>\n",
       "    <tr>\n",
       "      <th>8881</th>\n",
       "      <td>102956</td>\n",
       "      <td>1</td>\n",
       "      <td>38</td>\n",
       "      <td>36.1</td>\n",
       "      <td>58.9</td>\n",
       "      <td>1.482759</td>\n",
       "      <td>0.026</td>\n",
       "      <td>0.038</td>\n",
       "      <td>21.177</td>\n",
       "      <td>1.0</td>\n",
       "      <td>...</td>\n",
       "      <td>553.00</td>\n",
       "      <td>72.0</td>\n",
       "      <td>17.4</td>\n",
       "      <td>634.38</td>\n",
       "      <td>2.172</td>\n",
       "      <td>134.0</td>\n",
       "      <td>35.0</td>\n",
       "      <td>23.4</td>\n",
       "      <td>3.037</td>\n",
       "      <td>0</td>\n",
       "    </tr>\n",
       "  </tbody>\n",
       "</table>\n",
       "<p>8882 rows × 91 columns</p>\n",
       "</div>"
      ],
      "text/plain": [
       "      Respondent_ID  Gender  Age   BMI  25-hydroxyvitamin D2 + D3 [nmol/L]  \\\n",
       "0             93703       0    2  17.5                                 NaN   \n",
       "1             93704       1    2  15.7                                74.4   \n",
       "2             93705       0   66  31.7                                89.9   \n",
       "3             93706       1   18  21.5                                53.8   \n",
       "4             93707       1   13  18.1                                58.2   \n",
       "...             ...     ...  ...   ...                                 ...   \n",
       "8877         102952       0   70  20.0                                82.7   \n",
       "8878         102953       1   42  35.8                                49.5   \n",
       "8879         102954       0   41  26.1                                50.5   \n",
       "8880         102955       0   14  45.6                                61.9   \n",
       "8881         102956       1   38  36.1                                58.9   \n",
       "\n",
       "      A/G Ratio  Alpha-carotene [umol/L]  Alpha-crypotoxanthin [umol/L]  \\\n",
       "0           NaN                      NaN                            NaN   \n",
       "1           NaN                      NaN                            NaN   \n",
       "2      1.517241                    0.138                          0.071   \n",
       "3      1.629630                    0.160                          0.031   \n",
       "4      1.857143                    0.009                          0.044   \n",
       "...         ...                      ...                            ...   \n",
       "8877   1.846154                    0.235                          0.077   \n",
       "8878   1.142857                    0.106                          0.080   \n",
       "8879   1.500000                    0.117                          0.056   \n",
       "8880   1.205882                    0.031                          0.079   \n",
       "8881   1.482759                    0.026                          0.038   \n",
       "\n",
       "      Alpha-tocopherol [umol/L]  Basophils [%]  ...  Ferritin [ng/mL]  \\\n",
       "0                           NaN            NaN  ...               NaN   \n",
       "1                           NaN            0.7  ...             36.60   \n",
       "2                        26.006            1.0  ...             28.70   \n",
       "3                        16.765            0.8  ...            284.00   \n",
       "4                        22.756            0.5  ...             49.30   \n",
       "...                         ...            ...  ...               ...   \n",
       "8877                     31.347            0.6  ...            135.00   \n",
       "8878                     21.873            0.6  ...            120.00   \n",
       "8879                     26.935            1.4  ...              1.99   \n",
       "8880                     17.856            0.9  ...             11.40   \n",
       "8881                     21.177            1.0  ...            553.00   \n",
       "\n",
       "      Gamma Glutamyl Transferase [IU/L]  Hemoglobin [g/dL]  Insulin [pmol/L]  \\\n",
       "0                                   NaN                NaN               NaN   \n",
       "1                                   NaN               13.1               NaN   \n",
       "2                                  21.0               11.9               NaN   \n",
       "3                                  16.0               16.3               NaN   \n",
       "4                                   9.0               14.5               NaN   \n",
       "...                                 ...                ...               ...   \n",
       "8877                               18.0               13.4             26.34   \n",
       "8878                               28.0               15.5               NaN   \n",
       "8879                                8.0                6.4             56.94   \n",
       "8880                               16.0               11.4               NaN   \n",
       "8881                               72.0               17.4            634.38   \n",
       "\n",
       "      LDL-Cholesterol(NIH2) [mmol/L]  Lactate Dehydrogenase [IU/L]  \\\n",
       "0                                NaN                           NaN   \n",
       "1                                NaN                           NaN   \n",
       "2                                NaN                         174.0   \n",
       "3                                NaN                         142.0   \n",
       "4                                NaN                         177.0   \n",
       "...                              ...                           ...   \n",
       "8877                           1.112                         168.0   \n",
       "8878                             NaN                         136.0   \n",
       "8879                           2.793                         123.0   \n",
       "8880                             NaN                         158.0   \n",
       "8881                           2.172                         134.0   \n",
       "\n",
       "      Transferrin Saturation [%]  Transferrin receptor [nmol/L]  \\\n",
       "0                            NaN                            NaN   \n",
       "1                            NaN                           30.6   \n",
       "2                           28.0                           39.8   \n",
       "3                           51.0                           34.0   \n",
       "4                           21.0                           34.0   \n",
       "...                          ...                            ...   \n",
       "8877                        39.0                           29.1   \n",
       "8878                        20.0                           28.6   \n",
       "8879                         5.0                          248.0   \n",
       "8880                         5.0                           57.7   \n",
       "8881                        35.0                           23.4   \n",
       "\n",
       "      Triglyceride [mmol/L]  Anemia  \n",
       "0                       NaN       0  \n",
       "1                       NaN       0  \n",
       "2                       NaN       0  \n",
       "3                       NaN       0  \n",
       "4                       NaN       0  \n",
       "...                     ...     ...  \n",
       "8877                  0.881       0  \n",
       "8878                    NaN       0  \n",
       "8879                  0.553       0  \n",
       "8880                    NaN       0  \n",
       "8881                  3.037       0  \n",
       "\n",
       "[8882 rows x 91 columns]"
      ]
     },
     "execution_count": 3,
     "metadata": {},
     "output_type": "execute_result"
    }
   ],
   "source": [
    "# Anemia data\n",
    "\n",
    "anemia_df = ml.get_data_of_disease(driver, 'Anemia')\n",
    "anemia_df"
   ]
  },
  {
   "cell_type": "markdown",
   "id": "6578093d",
   "metadata": {},
   "source": [
    "### Training"
   ]
  },
  {
   "cell_type": "code",
   "execution_count": 20,
   "id": "995292f6",
   "metadata": {},
   "outputs": [
    {
     "name": "stdout",
     "output_type": "stream",
     "text": [
      "Training Accuracy:  0.9631245601688951\n",
      "Testing Accuracy:  0.9636824324324325\n"
     ]
    }
   ],
   "source": [
    "log_reg = ml.LogisticRegression()\n",
    "\n",
    "# Attributes and Labels\n",
    "\n",
    "X, y, X_train, X_val, X_test, y_train, y_val, y_test = ml.preprocess_and_split(df = anemia_df, label = 'Anemia',\n",
    "                                                              impute = True, scale=True,\n",
    "                                                              imputer=ml.SimpleImputer(strategy='mean'),\n",
    "                                                              random_state=42)\n",
    "\n",
    "# Training\n",
    "\n",
    "log_reg.fit(X_train, y_train)\n",
    "\n",
    "# Accuracy scores\n",
    "\n",
    "y_pred = log_reg.predict(X_val)\n",
    "\n",
    "print('Training Accuracy: ',ml.accuracy_score(y_train, log_reg.predict(X_train)))\n",
    "\n",
    "print('Testing Accuracy: ',ml.accuracy_score(y_val, y_pred))"
   ]
  },
  {
   "cell_type": "markdown",
   "id": "44142f21",
   "metadata": {},
   "source": [
    "## Feature Selection"
   ]
  },
  {
   "cell_type": "markdown",
   "id": "c60fc52a",
   "metadata": {},
   "source": [
    "### Correlation Analysis"
   ]
  },
  {
   "cell_type": "code",
   "execution_count": 21,
   "id": "a8302272",
   "metadata": {},
   "outputs": [],
   "source": [
    "log_reg_test = ml.LogisticRegression()"
   ]
  },
  {
   "cell_type": "code",
   "execution_count": 22,
   "id": "4bf4ee40",
   "metadata": {},
   "outputs": [
    {
     "data": {
      "text/plain": [
       "['Red cell distribution width [%]',\n",
       " 'Transferrin receptor [nmol/L]',\n",
       " 'Platelet_Lymphocyte Ratio',\n",
       " 'UIBC [umol/L]',\n",
       " 'C-Reactive Protein [mg/L]',\n",
       " 'Age',\n",
       " 'BMI',\n",
       " 'Blood Urea Nitrogen [mg/dL]',\n",
       " 'Systemic Immune‐inflammation Index (SII)',\n",
       " 'Trans-lycopene [umol/L]',\n",
       " 'Blood selenium [umol/L]',\n",
       " 'LDL_HDL Ratio',\n",
       " 'Total Lycopene [umol/L]',\n",
       " 'LDL-Cholesterol(NIH2) [mmol/L]',\n",
       " 'Bicarbonate [mmol/L]',\n",
       " 'Lymphocyte [%]',\n",
       " 'Mean cell volume [fL]',\n",
       " 'Lymphocyte_C-Reactive Protein Ratio',\n",
       " 'Alanine Aminotransferase [U/L]']"
      ]
     },
     "execution_count": 22,
     "metadata": {},
     "output_type": "execute_result"
    }
   ],
   "source": [
    "pos_corr, neg_corr = ml.get_correlated_features(anemia_df,'Anemia',pos=0.04,neg=-0.04)\n",
    "\n",
    "corr_features = list(pos_corr.keys()[1:10]) + list(neg_corr.keys()[:10])\n",
    "corr_features"
   ]
  },
  {
   "cell_type": "code",
   "execution_count": 23,
   "id": "34987aa0",
   "metadata": {},
   "outputs": [
    {
     "name": "stdout",
     "output_type": "stream",
     "text": [
      "\n",
      "Train Accuracy: 0.961\n",
      "\n",
      "Test Accuracy: 0.962\n",
      "\n",
      "Precision: 0.625\n",
      "\n",
      "Recall: 0.037\n",
      "\n",
      "F1-Score: 0.069\n"
     ]
    }
   ],
   "source": [
    "ml.evaluate_feature_set(corr_features, log_reg_test, X_train, y_train, X_val, y_val)"
   ]
  },
  {
   "cell_type": "markdown",
   "id": "9df33603",
   "metadata": {},
   "source": [
    "### SelectFromModel"
   ]
  },
  {
   "cell_type": "code",
   "execution_count": 24,
   "id": "a245d928",
   "metadata": {},
   "outputs": [
    {
     "data": {
      "text/plain": [
       "['Gender',\n",
       " 'Age',\n",
       " 'A/G Ratio',\n",
       " 'Alpha-crypotoxanthin [umol/L]',\n",
       " 'Blood mercury [nmol/L]',\n",
       " 'Globulin [g/dL]',\n",
       " 'Glycohemoglobin [%]',\n",
       " 'Hematocrit [%]',\n",
       " 'Hydroxycotinine [ng/mL]',\n",
       " 'Iron frozen [umol/L]',\n",
       " 'Mean cell hemoglobin [pg]',\n",
       " 'Mean cell volume [fL]',\n",
       " 'Neutrophil_Lymphocyte Ratio',\n",
       " 'Osmolality [mmol/Kg]',\n",
       " 'Platelet count [1000 cells/uL]',\n",
       " 'Platelet_Lymphocyte Ratio',\n",
       " 'RBC count [million cells/uL]',\n",
       " 'Red cell distribution width [%]',\n",
       " 'Retinol [umol/L]',\n",
       " 'Retinyl palmitate [umol/L]',\n",
       " 'Sodium [mmol/L]',\n",
       " 'Systemic Immune‐inflammation Index (SII)',\n",
       " 'Total Cholestrol_HDL Ratio',\n",
       " 'Total Lycopene [umol/L]',\n",
       " 'Trans-lycopene [umol/L]',\n",
       " 'Alanine Aminotransferase [U/L]',\n",
       " 'Albumin [g/dL]',\n",
       " 'Hemoglobin [g/dL]',\n",
       " 'Transferrin Saturation [%]',\n",
       " 'Transferrin receptor [nmol/L]']"
      ]
     },
     "execution_count": 24,
     "metadata": {},
     "output_type": "execute_result"
    }
   ],
   "source": [
    "sfm_features = ml.select_from_model_features(log_reg_test,X,y)\n",
    "sfm_features"
   ]
  },
  {
   "cell_type": "code",
   "execution_count": 25,
   "id": "17b4d45b",
   "metadata": {},
   "outputs": [
    {
     "name": "stdout",
     "output_type": "stream",
     "text": [
      "\n",
      "Train Accuracy: 0.962\n",
      "\n",
      "Test Accuracy: 0.962\n",
      "\n",
      "Precision: 0.533\n",
      "\n",
      "Recall: 0.059\n",
      "\n",
      "F1-Score: 0.106\n"
     ]
    }
   ],
   "source": [
    "sfm_features = list(sfm_features)\n",
    "\n",
    "ml.evaluate_feature_set(sfm_features, log_reg_test, X_train, y_train, X_val, y_val)"
   ]
  },
  {
   "cell_type": "markdown",
   "id": "15f3ce0f",
   "metadata": {},
   "source": [
    "### SelectKBest"
   ]
  },
  {
   "cell_type": "code",
   "execution_count": 26,
   "id": "238022df",
   "metadata": {},
   "outputs": [
    {
     "data": {
      "text/plain": [
       "['Red cell distribution width [%]',\n",
       " 'Hemoglobin [g/dL]',\n",
       " 'Hematocrit [%]',\n",
       " 'Mean Cell Hgb Conc. [g/dL]',\n",
       " 'Transferrin receptor [nmol/L]',\n",
       " 'RBC count [million cells/uL]',\n",
       " 'Albumin [g/dL]',\n",
       " 'Gender',\n",
       " 'A/G Ratio',\n",
       " 'Transferrin Saturation [%]',\n",
       " 'Mean cell hemoglobin [pg]',\n",
       " 'Platelet_Lymphocyte Ratio',\n",
       " 'Iron [ug/dL]',\n",
       " 'Iron frozen [umol/L]',\n",
       " 'Age',\n",
       " 'UIBC [umol/L]',\n",
       " 'C-Reactive Protein [mg/L]',\n",
       " 'Total Calcium [mg/dL]',\n",
       " 'BMI',\n",
       " 'Blood Urea Nitrogen [mg/dL]',\n",
       " 'Systemic Immune‐inflammation Index (SII)',\n",
       " 'Total Bilirubin [mg/dL]',\n",
       " 'Globulin [g/dL]',\n",
       " 'Neutrophil_Lymphocyte Ratio',\n",
       " 'Alpha-crypotoxanthin [umol/L]',\n",
       " 'Alanine Aminotransferase [U/L]',\n",
       " 'Mean cell volume [fL]',\n",
       " 'Segmented neutrophils [%]',\n",
       " 'Lymphocyte_C-Reactive Protein Ratio',\n",
       " 'Lymphocyte [%]']"
      ]
     },
     "execution_count": 26,
     "metadata": {},
     "output_type": "execute_result"
    }
   ],
   "source": [
    "k_best_features = ml.select_k_best(X, y, n=30)\n",
    "k_best_features[:30]"
   ]
  },
  {
   "cell_type": "code",
   "execution_count": 27,
   "id": "b756eeaa",
   "metadata": {},
   "outputs": [
    {
     "name": "stdout",
     "output_type": "stream",
     "text": [
      "\n",
      "Train Accuracy: 0.962\n",
      "\n",
      "Test Accuracy: 0.963\n",
      "\n",
      "Precision: 0.643\n",
      "\n",
      "Recall: 0.066\n",
      "\n",
      "F1-Score: 0.120\n"
     ]
    }
   ],
   "source": [
    "ml.evaluate_feature_set(k_best_features[:30], log_reg_test, X_train, y_train, X_val, y_val)"
   ]
  },
  {
   "cell_type": "markdown",
   "id": "933ccbc1",
   "metadata": {},
   "source": [
    "### Recursive Feature Elimination (RFE) "
   ]
  },
  {
   "cell_type": "code",
   "execution_count": 28,
   "id": "82685afa",
   "metadata": {},
   "outputs": [
    {
     "data": {
      "text/plain": [
       "['Gender',\n",
       " 'Mean cell volume [fL]',\n",
       " 'Mean cell hemoglobin [pg]',\n",
       " 'Osmolality [mmol/Kg]',\n",
       " 'Transferrin receptor [nmol/L]',\n",
       " 'Lymphocyte_C-Reactive Protein Ratio',\n",
       " 'Platelet count [1000 cells/uL]',\n",
       " 'Iron frozen [umol/L]',\n",
       " 'RBC count [million cells/uL]',\n",
       " 'Red cell distribution width [%]',\n",
       " 'Hematocrit [%]',\n",
       " 'Glycohemoglobin [%]',\n",
       " 'Sodium [mmol/L]',\n",
       " 'Systemic Immune‐inflammation Index (SII)',\n",
       " 'Non_HDL Ratio',\n",
       " 'Total Cholestrol_HDL Ratio',\n",
       " 'Neutrophil_Lymphocyte Ratio',\n",
       " 'Albumin [g/dL]',\n",
       " 'Age',\n",
       " 'Blood mercury [nmol/L]',\n",
       " 'Transferrin Saturation [%]',\n",
       " 'Trans-lycopene [umol/L]',\n",
       " 'Hemoglobin [g/dL]',\n",
       " 'A/G Ratio',\n",
       " 'Creatine Phosphokinase [IU/L]',\n",
       " 'White blood cell count [1000 cells/uL]',\n",
       " 'Blood Urea Nitrogen [mg/dL]',\n",
       " 'Alanine Aminotransferase [U/L]',\n",
       " 'Total Lycopene [umol/L]',\n",
       " 'Alpha-crypotoxanthin [umol/L]']"
      ]
     },
     "execution_count": 28,
     "metadata": {},
     "output_type": "execute_result"
    }
   ],
   "source": [
    "rfe_features = ml.select_rfe_features(log_reg_test,X,y,n=30,step=0.5)\n",
    "rfe_features[:30]"
   ]
  },
  {
   "cell_type": "code",
   "execution_count": 29,
   "id": "8db8aa72",
   "metadata": {},
   "outputs": [
    {
     "name": "stdout",
     "output_type": "stream",
     "text": [
      "\n",
      "Train Accuracy: 0.962\n",
      "\n",
      "Test Accuracy: 0.963\n",
      "\n",
      "Precision: 0.625\n",
      "\n",
      "Recall: 0.074\n",
      "\n",
      "F1-Score: 0.132\n"
     ]
    }
   ],
   "source": [
    "ml.evaluate_feature_set(rfe_features[:30], log_reg_test, X_train, y_train, X_val, y_val)"
   ]
  },
  {
   "cell_type": "markdown",
   "id": "85827a38",
   "metadata": {},
   "source": [
    "### Lasso Regularization"
   ]
  },
  {
   "cell_type": "code",
   "execution_count": 31,
   "id": "f7a2dee7",
   "metadata": {},
   "outputs": [
    {
     "data": {
      "text/plain": [
       "['Gender',\n",
       " 'Red cell distribution width [%]',\n",
       " 'Hemoglobin [g/dL]',\n",
       " 'Hematocrit [%]',\n",
       " 'Age',\n",
       " 'Alpha-crypotoxanthin [umol/L]',\n",
       " 'Retinyl palmitate [umol/L]',\n",
       " 'Blood mercury [nmol/L]',\n",
       " 'Systemic Immune‐inflammation Index (SII)',\n",
       " 'Retinol [umol/L]',\n",
       " 'Transferrin receptor [nmol/L]',\n",
       " 'Neutrophil_Lymphocyte Ratio',\n",
       " 'Hydroxycotinine [ng/mL]',\n",
       " 'Lymphocyte_C-Reactive Protein Ratio',\n",
       " 'RBC count [million cells/uL]',\n",
       " 'Total Calcium [mg/dL]',\n",
       " 'Alanine Aminotransferase [U/L]',\n",
       " 'Beta-cryptoxanthin [umol/L]',\n",
       " 'Glycohemoglobin [%]',\n",
       " 'Total Cholestrol_HDL Ratio',\n",
       " 'Uric Acid [mg/dL]',\n",
       " 'Trans-lycopene [umol/L]',\n",
       " 'Sodium [mmol/L]',\n",
       " 'Transferrin Saturation [%]',\n",
       " 'LDL-Cholesterol(NIH2) [mmol/L]',\n",
       " 'Blood cadmium [nmol/L]',\n",
       " 'Iron frozen [umol/L]',\n",
       " 'Fasting Glucose [mmol/L]',\n",
       " 'Mean Cell Hgb Conc. [g/dL]',\n",
       " 'Blood Urea Nitrogen [mg/dL]']"
      ]
     },
     "execution_count": 31,
     "metadata": {},
     "output_type": "execute_result"
    }
   ],
   "source": [
    "l1_selected_features = ml.log_reg_lasso_select(X_train, y_train)\n",
    "l1_selected_features[:30]"
   ]
  },
  {
   "cell_type": "code",
   "execution_count": 32,
   "id": "1b685cc9",
   "metadata": {},
   "outputs": [
    {
     "name": "stdout",
     "output_type": "stream",
     "text": [
      "\n",
      "Train Accuracy: 0.962\n",
      "\n",
      "Test Accuracy: 0.963\n",
      "\n",
      "Precision: 0.643\n",
      "\n",
      "Recall: 0.066\n",
      "\n",
      "F1-Score: 0.120\n"
     ]
    }
   ],
   "source": [
    "ml.evaluate_feature_set(l1_selected_features[:30], log_reg_test, X_train, y_train, X_val, y_val)"
   ]
  },
  {
   "cell_type": "markdown",
   "id": "a37796b0",
   "metadata": {},
   "source": [
    "### Relief F"
   ]
  },
  {
   "cell_type": "code",
   "execution_count": 33,
   "id": "bfb3ec54",
   "metadata": {},
   "outputs": [],
   "source": [
    "relieff_features = ml.relief_feature_select(30,X,y)"
   ]
  },
  {
   "cell_type": "code",
   "execution_count": 34,
   "id": "fc600c21",
   "metadata": {},
   "outputs": [
    {
     "data": {
      "text/plain": [
       "['Age',\n",
       " 'Hemoglobin [g/dL]',\n",
       " 'Hematocrit [%]',\n",
       " 'Segmented neutrophils [%]',\n",
       " 'Lymphocyte [%]',\n",
       " 'BMI',\n",
       " 'Neutrophil_Lymphocyte Ratio',\n",
       " 'RBC count [million cells/uL]',\n",
       " 'Mean cell volume [fL]',\n",
       " 'Mean cell hemoglobin [pg]',\n",
       " 'Red cell distribution width [%]',\n",
       " 'A/G Ratio',\n",
       " 'Transferrin Saturation [%]',\n",
       " 'Gender',\n",
       " 'Albumin [g/dL]',\n",
       " 'Uric Acid [mg/dL]',\n",
       " 'Systemic Immune‐inflammation Index (SII)',\n",
       " 'Platelet_Lymphocyte Ratio',\n",
       " 'Iron [ug/dL]',\n",
       " 'Osmolality [mmol/Kg]',\n",
       " 'Iron frozen [umol/L]',\n",
       " 'Retinol [umol/L]',\n",
       " 'Total Calcium [mg/dL]',\n",
       " 'Chloride [mmol/L]',\n",
       " 'Non_HDL Ratio',\n",
       " 'Total Cholesterol [mmol/L]',\n",
       " 'UIBC [umol/L]',\n",
       " 'Globulin [g/dL]',\n",
       " 'Blood selenium [umol/L]',\n",
       " 'Bicarbonate [mmol/L]']"
      ]
     },
     "execution_count": 34,
     "metadata": {},
     "output_type": "execute_result"
    }
   ],
   "source": [
    "relieff_features[:30]"
   ]
  },
  {
   "cell_type": "code",
   "execution_count": 35,
   "id": "8f76d0da",
   "metadata": {},
   "outputs": [
    {
     "name": "stdout",
     "output_type": "stream",
     "text": [
      "\n",
      "Train Accuracy: 0.961\n",
      "\n",
      "Test Accuracy: 0.962\n",
      "\n",
      "Precision: 0.500\n",
      "\n",
      "Recall: 0.066\n",
      "\n",
      "F1-Score: 0.117\n"
     ]
    }
   ],
   "source": [
    "ml.evaluate_feature_set(relieff_features[:30], log_reg_test, X_train, y_train, X_val, y_val)"
   ]
  },
  {
   "cell_type": "markdown",
   "id": "281f4770",
   "metadata": {},
   "source": [
    "### Optimal no. of features"
   ]
  },
  {
   "cell_type": "code",
   "execution_count": 36,
   "id": "7da46c27",
   "metadata": {},
   "outputs": [],
   "source": [
    "final_features = list(rfe_features) "
   ]
  },
  {
   "cell_type": "code",
   "execution_count": 37,
   "id": "401e3bfd",
   "metadata": {},
   "outputs": [
    {
     "name": "stdout",
     "output_type": "stream",
     "text": [
      "\n",
      "Maximum accuracy = 0.9623 for 21 features\n"
     ]
    },
    {
     "data": {
      "image/png": "[encoded data removed]",
      "text/plain": [
       "<Figure size 1000x700 with 1 Axes>"
      ]
     },
     "metadata": {},
     "output_type": "display_data"
    }
   ],
   "source": [
    "# Optimal no. of features\n",
    "\n",
    "ml.plot_num_feature_performance(log_reg_test,  X, y, final_features, scoring='accuracy')"
   ]
  },
  {
   "cell_type": "code",
   "execution_count": 38,
   "id": "4aaf5159",
   "metadata": {},
   "outputs": [
    {
     "name": "stdout",
     "output_type": "stream",
     "text": [
      "\n",
      "Maximum f1 = 0.1184 for 42 features\n"
     ]
    },
    {
     "data": {
      "image/png": "[encoded data removed]",
      "text/plain": [
       "<Figure size 1000x700 with 1 Axes>"
      ]
     },
     "metadata": {},
     "output_type": "display_data"
    }
   ],
   "source": [
    "# Optimal no. of features\n",
    "\n",
    "ml.plot_num_feature_performance(log_reg_test,  X, y, final_features, scoring='f1')"
   ]
  },
  {
   "cell_type": "code",
   "execution_count": 39,
   "id": "cdd1c71c",
   "metadata": {},
   "outputs": [
    {
     "name": "stdout",
     "output_type": "stream",
     "text": [
      "\n",
      "Maximum recall = 0.0676 for 42 features\n"
     ]
    },
    {
     "data": {
      "image/png": "[encoded data removed]",
      "text/plain": [
       "<Figure size 1000x700 with 1 Axes>"
      ]
     },
     "metadata": {},
     "output_type": "display_data"
    }
   ],
   "source": [
    "# Optimal no. of features\n",
    "\n",
    "ml.plot_num_feature_performance(log_reg_test,  X, y, final_features, scoring='recall')"
   ]
  },
  {
   "cell_type": "code",
   "execution_count": 40,
   "id": "27de64c6",
   "metadata": {},
   "outputs": [],
   "source": [
    "num_features = 42\n",
    "\n",
    "selected = final_features[:num_features]\n",
    "selected.append('Anemia')\n",
    "\n",
    "anemia_df = anemia_df[selected]"
   ]
  },
  {
   "cell_type": "code",
   "execution_count": 42,
   "id": "5386a09f",
   "metadata": {},
   "outputs": [],
   "source": [
    "# Save feature set\n",
    "\n",
    "feature_dir = \"../Models/Anemia/Feature Sets\"\n",
    "if not ml.os.path.exists(feature_dir):\n",
    "    ml.os.makedirs(feature_dir)\n",
    "\n",
    "with open('../Models/Anemia/Feature Sets/Logistic Regression Features.pkl', 'wb') as f:\n",
    "    ml.pickle.dump(selected, f)"
   ]
  },
  {
   "cell_type": "markdown",
   "id": "cd4a3a33",
   "metadata": {},
   "source": [
    "## Preprocessing"
   ]
  },
  {
   "cell_type": "markdown",
   "id": "32c7f0b2",
   "metadata": {},
   "source": [
    "### Zero Imputation"
   ]
  },
  {
   "cell_type": "code",
   "execution_count": 43,
   "id": "24b09db9",
   "metadata": {},
   "outputs": [],
   "source": [
    "# Imputing null values with zeroes\n",
    "\n",
    "X, y, X_train, X_val, X_test, y_train, y_val, y_test = ml.preprocess_and_split(df = anemia_df, label = 'Anemia',\n",
    "                                                        impute = True, scale=True,\n",
    "                                                        imputer=ml.SimpleImputer(strategy='constant',fill_value=0),\n",
    "                                                        random_state=42)"
   ]
  },
  {
   "cell_type": "code",
   "execution_count": 44,
   "id": "4c234679",
   "metadata": {},
   "outputs": [
    {
     "name": "stdout",
     "output_type": "stream",
     "text": [
      "\n",
      "Train Accuracy: 0.962\n",
      "\n",
      "Test Accuracy: 0.963\n",
      "\n",
      "Precision: 0.625\n",
      "\n",
      "Recall: 0.074\n",
      "\n",
      "F1-Score: 0.132\n"
     ]
    }
   ],
   "source": [
    "log_reg.fit(X_train, y_train)\n",
    "\n",
    "ml.evaluate_model_metrics(log_reg,X_train,y_train,X_val,y_val)"
   ]
  },
  {
   "cell_type": "markdown",
   "id": "1877522f",
   "metadata": {},
   "source": [
    "### Mode Imputation"
   ]
  },
  {
   "cell_type": "code",
   "execution_count": 45,
   "id": "fcca0b91",
   "metadata": {},
   "outputs": [],
   "source": [
    "# Imputing with most frequent values\n",
    "\n",
    "X, y, X_train, X_val, X_test, y_train, y_val, y_test = ml.preprocess_and_split(df = anemia_df, label = 'Anemia',\n",
    "                                                              impute = True, scale=True,\n",
    "                                                              imputer=ml.SimpleImputer(strategy='most_frequent'),\n",
    "                                                              random_state=42)"
   ]
  },
  {
   "cell_type": "code",
   "execution_count": 46,
   "id": "43855037",
   "metadata": {},
   "outputs": [
    {
     "name": "stdout",
     "output_type": "stream",
     "text": [
      "\n",
      "Train Accuracy: 0.962\n",
      "\n",
      "Test Accuracy: 0.963\n",
      "\n",
      "Precision: 0.588\n",
      "\n",
      "Recall: 0.074\n",
      "\n",
      "F1-Score: 0.131\n"
     ]
    }
   ],
   "source": [
    "log_reg.fit(X_train, y_train)\n",
    "\n",
    "ml.evaluate_model_metrics(log_reg,X_train,y_train,X_val,y_val)"
   ]
  },
  {
   "cell_type": "markdown",
   "id": "8484c25a",
   "metadata": {},
   "source": [
    "### k-NN Imputation"
   ]
  },
  {
   "cell_type": "code",
   "execution_count": 47,
   "id": "288ec08b",
   "metadata": {},
   "outputs": [],
   "source": [
    "# Imputing missing values with values from the k-nearest neighbors in the feature space\n",
    "\n",
    "X, y, X_train, X_val, X_test, y_train, y_val, y_test = ml.preprocess_and_split(df = anemia_df, label = 'Anemia',\n",
    "                                                              impute = True, scale=True,\n",
    "                                                              imputer=ml.KNNImputer(n_neighbors=20),\n",
    "                                                              random_state=42)"
   ]
  },
  {
   "cell_type": "code",
   "execution_count": 48,
   "id": "d03244a8",
   "metadata": {},
   "outputs": [
    {
     "name": "stdout",
     "output_type": "stream",
     "text": [
      "\n",
      "Train Accuracy: 0.962\n",
      "\n",
      "Test Accuracy: 0.963\n",
      "\n",
      "Precision: 0.625\n",
      "\n",
      "Recall: 0.074\n",
      "\n",
      "F1-Score: 0.132\n"
     ]
    }
   ],
   "source": [
    "log_reg.fit(X_train, y_train)\n",
    "\n",
    "ml.evaluate_model_metrics(log_reg,X_train,y_train,X_val,y_val)"
   ]
  },
  {
   "cell_type": "markdown",
   "id": "e8c1a99e",
   "metadata": {},
   "source": [
    "### Multiple Imputation by Chained Equations (MICE)"
   ]
  },
  {
   "cell_type": "code",
   "execution_count": 49,
   "id": "d78c9b6a",
   "metadata": {},
   "outputs": [],
   "source": [
    "# Imputes by looking at data from other columns and trying to estimate the best prediction for each missing value.\n",
    "\n",
    "X, y, X_train, X_val, X_test, y_train, y_val, y_test = ml.preprocess_and_split(df = anemia_df, label = 'Anemia',\n",
    "                                                              impute = True, scale=True,\n",
    "                                                              imputer=ml.IterativeImputer(max_iter=20),\n",
    "                                                              random_state=42)"
   ]
  },
  {
   "cell_type": "code",
   "execution_count": 50,
   "id": "78e0324b",
   "metadata": {},
   "outputs": [
    {
     "name": "stdout",
     "output_type": "stream",
     "text": [
      "\n",
      "Train Accuracy: 0.962\n",
      "\n",
      "Test Accuracy: 0.963\n",
      "\n",
      "Precision: 0.632\n",
      "\n",
      "Recall: 0.088\n",
      "\n",
      "F1-Score: 0.155\n"
     ]
    }
   ],
   "source": [
    "log_reg.fit(X_train, y_train)\n",
    "\n",
    "ml.evaluate_model_metrics(log_reg,X_train,y_train,X_val,y_val)"
   ]
  },
  {
   "cell_type": "markdown",
   "id": "dc71288f",
   "metadata": {},
   "source": [
    "### Median Imputation"
   ]
  },
  {
   "cell_type": "code",
   "execution_count": 51,
   "id": "648640e9",
   "metadata": {},
   "outputs": [],
   "source": [
    "# Imputing with median values\n",
    "\n",
    "X, y, X_train, X_val, X_test, y_train, y_val, y_test = ml.preprocess_and_split(df = anemia_df, label = 'Anemia',\n",
    "                                                              impute = True, scale=True,\n",
    "                                                              imputer=ml.SimpleImputer(strategy='median'),\n",
    "                                                              random_state=42)"
   ]
  },
  {
   "cell_type": "code",
   "execution_count": 52,
   "id": "188ab3fd",
   "metadata": {},
   "outputs": [
    {
     "name": "stdout",
     "output_type": "stream",
     "text": [
      "\n",
      "Train Accuracy: 0.962\n",
      "\n",
      "Test Accuracy: 0.963\n",
      "\n",
      "Precision: 0.611\n",
      "\n",
      "Recall: 0.081\n",
      "\n",
      "F1-Score: 0.143\n"
     ]
    }
   ],
   "source": [
    "log_reg.fit(X_train, y_train)\n",
    "\n",
    "ml.evaluate_model_metrics(log_reg,X_train,y_train,X_val,y_val)"
   ]
  },
  {
   "cell_type": "markdown",
   "id": "ecf3258f",
   "metadata": {},
   "source": [
    "### Mean Imputation"
   ]
  },
  {
   "cell_type": "code",
   "execution_count": 53,
   "id": "cf825805",
   "metadata": {},
   "outputs": [],
   "source": [
    "# Splitting and Preprocessing data\n",
    "\n",
    "X, y, X_train, X_val, X_test, y_train, y_val, y_test = ml.preprocess_and_split(df = anemia_df, label = 'Anemia',\n",
    "                                                              impute = True, scale=True,\n",
    "                                                              imputer=ml.SimpleImputer(strategy='mean'),\n",
    "                                                              random_state=42)"
   ]
  },
  {
   "cell_type": "code",
   "execution_count": 54,
   "id": "c4eb9258",
   "metadata": {},
   "outputs": [
    {
     "name": "stdout",
     "output_type": "stream",
     "text": [
      "\n",
      "Train Accuracy: 0.963\n",
      "\n",
      "Test Accuracy: 0.963\n",
      "\n",
      "Precision: 0.600\n",
      "\n",
      "Recall: 0.088\n",
      "\n",
      "F1-Score: 0.154\n"
     ]
    }
   ],
   "source": [
    "log_reg.fit(X_train, y_train)\n",
    "\n",
    "ml.evaluate_model_metrics(log_reg,X_train,y_train,X_val,y_val)"
   ]
  },
  {
   "cell_type": "markdown",
   "id": "5bd39f86",
   "metadata": {},
   "source": [
    "### Dropping Null Values"
   ]
  },
  {
   "cell_type": "code",
   "execution_count": 55,
   "id": "2a0f7318",
   "metadata": {
    "scrolled": true
   },
   "outputs": [],
   "source": [
    "# Drop null values\n",
    "anemia_df_na = anemia_df.dropna()\n",
    "\n",
    "X, y, X_train, X_val, X_test, y_train, y_val, y_test = ml.preprocess_and_split(df = anemia_df_na, label = 'Anemia',\n",
    "                                                              impute = False, scale=True,\n",
    "                                                              random_state=42)"
   ]
  },
  {
   "cell_type": "code",
   "execution_count": 56,
   "id": "f3c46212",
   "metadata": {},
   "outputs": [
    {
     "name": "stdout",
     "output_type": "stream",
     "text": [
      "\n",
      "Train Accuracy: 0.955\n",
      "\n",
      "Test Accuracy: 0.948\n",
      "\n",
      "Precision: 0.667\n",
      "\n",
      "Recall: 0.130\n",
      "\n",
      "F1-Score: 0.218\n"
     ]
    }
   ],
   "source": [
    "log_reg.fit(X_train, y_train)\n",
    "\n",
    "ml.evaluate_model_metrics(log_reg,X_train,y_train,X_val,y_val)"
   ]
  },
  {
   "cell_type": "markdown",
   "id": "d4f3c7a0",
   "metadata": {},
   "source": [
    "## Oversampling and Undersampling"
   ]
  },
  {
   "cell_type": "markdown",
   "id": "f2ab083d",
   "metadata": {},
   "source": [
    "### Random Oversampling"
   ]
  },
  {
   "cell_type": "code",
   "execution_count": 57,
   "id": "61c3f573",
   "metadata": {
    "scrolled": false
   },
   "outputs": [
    {
     "name": "stdout",
     "output_type": "stream",
     "text": [
      "\n",
      "Train Accuracy: 0.798\n",
      "\n",
      "Test Accuracy: 0.804\n",
      "\n",
      "Precision: 0.194\n",
      "\n",
      "Recall: 0.804\n",
      "\n",
      "F1-Score: 0.312\n"
     ]
    }
   ],
   "source": [
    "X_ros, y_ros = ml.random_over_sample(X_train, y_train)\n",
    "\n",
    "log_reg.fit(X_ros, y_ros)\n",
    "\n",
    "ml.evaluate_model_metrics(log_reg,X_ros, y_ros,X_val, y_val)"
   ]
  },
  {
   "cell_type": "markdown",
   "id": "55cc4ab2",
   "metadata": {},
   "source": [
    "### SMOTE (Synthetic Minority Over-sampling Technique)"
   ]
  },
  {
   "cell_type": "code",
   "execution_count": 58,
   "id": "5ed6c6b3",
   "metadata": {
    "scrolled": false
   },
   "outputs": [
    {
     "name": "stdout",
     "output_type": "stream",
     "text": [
      "\n",
      "Train Accuracy: 0.834\n",
      "\n",
      "Test Accuracy: 0.824\n",
      "\n",
      "Precision: 0.209\n",
      "\n",
      "Recall: 0.783\n",
      "\n",
      "F1-Score: 0.330\n"
     ]
    }
   ],
   "source": [
    "X_smote, y_smote = ml.smote_over_sample(X_train, y_train)\n",
    "\n",
    "log_reg.fit(X_smote, y_smote)\n",
    "\n",
    "ml.evaluate_model_metrics(log_reg,X_smote, y_smote,X_val, y_val)"
   ]
  },
  {
   "cell_type": "markdown",
   "id": "0532ee8b",
   "metadata": {},
   "source": [
    "### Random Undersampling"
   ]
  },
  {
   "cell_type": "code",
   "execution_count": 59,
   "id": "5286090b",
   "metadata": {
    "scrolled": false
   },
   "outputs": [
    {
     "name": "stdout",
     "output_type": "stream",
     "text": [
      "\n",
      "Train Accuracy: 0.850\n",
      "\n",
      "Test Accuracy: 0.761\n",
      "\n",
      "Precision: 0.167\n",
      "\n",
      "Recall: 0.826\n",
      "\n",
      "F1-Score: 0.277\n"
     ]
    }
   ],
   "source": [
    "X_rus, y_rus = ml.random_under_sample(X_train, y_train)\n",
    "\n",
    "log_reg.fit(X_rus, y_rus)\n",
    "\n",
    "ml.evaluate_model_metrics(log_reg,X_rus, y_rus,X_val, y_val)"
   ]
  },
  {
   "cell_type": "markdown",
   "id": "6defa173",
   "metadata": {},
   "source": [
    "### Tomek Links"
   ]
  },
  {
   "cell_type": "code",
   "execution_count": 60,
   "id": "f4fa6ccf",
   "metadata": {
    "scrolled": false
   },
   "outputs": [
    {
     "name": "stdout",
     "output_type": "stream",
     "text": [
      "\n",
      "Train Accuracy: 0.957\n",
      "\n",
      "Test Accuracy: 0.952\n",
      "\n",
      "Precision: 0.750\n",
      "\n",
      "Recall: 0.196\n",
      "\n",
      "F1-Score: 0.310\n"
     ]
    }
   ],
   "source": [
    "X_tomek, y_tomek = ml.tomek_links(X_train, y_train)\n",
    "\n",
    "log_reg.fit(X_tomek, y_tomek)\n",
    "\n",
    "ml.evaluate_model_metrics(log_reg,X_tomek, y_tomek,X_val, y_val)"
   ]
  },
  {
   "cell_type": "markdown",
   "id": "111c9c16",
   "metadata": {},
   "source": [
    "### SMOTE + Tomek Links"
   ]
  },
  {
   "cell_type": "code",
   "execution_count": 61,
   "id": "753149c7",
   "metadata": {
    "scrolled": false
   },
   "outputs": [
    {
     "name": "stdout",
     "output_type": "stream",
     "text": [
      "\n",
      "Train Accuracy: 0.834\n",
      "\n",
      "Test Accuracy: 0.824\n",
      "\n",
      "Precision: 0.209\n",
      "\n",
      "Recall: 0.783\n",
      "\n",
      "F1-Score: 0.330\n"
     ]
    }
   ],
   "source": [
    "X_smote_tomek, y_smote_tomek = ml.smote_tomek(X_train, y_train)\n",
    "\n",
    "log_reg.fit(X_smote_tomek, y_smote_tomek)\n",
    "\n",
    "ml.evaluate_model_metrics(log_reg,X_smote_tomek, y_smote_tomek,X_val, y_val)"
   ]
  },
  {
   "cell_type": "code",
   "execution_count": 62,
   "id": "1f3a2dd8",
   "metadata": {},
   "outputs": [],
   "source": [
    "# Smote + tomek provides better results\n",
    "\n",
    "X_train, y_train = X_smote_tomek, y_smote_tomek"
   ]
  },
  {
   "cell_type": "markdown",
   "id": "9bda7751",
   "metadata": {},
   "source": [
    "## Hyperparameter Optimization "
   ]
  },
  {
   "cell_type": "markdown",
   "id": "a8911f34",
   "metadata": {},
   "source": [
    "### Grid Search"
   ]
  },
  {
   "cell_type": "code",
   "execution_count": 63,
   "id": "8bbd1f7f",
   "metadata": {},
   "outputs": [],
   "source": [
    "# Hyperparameters\n",
    "param_grid = {\n",
    "    \n",
    "    'penalty': ['l1', 'l2','None'],\n",
    "    'C': [0.01, 0.1, 1, 10],\n",
    "    'solver': ['newton-cg','saga','lbfgs'],\n",
    "    'max_iter': [100,200,300],\n",
    "    'class_weight': [None, 'balanced'],\n",
    "    'warm_start': [False, True],\n",
    "    \n",
    "}"
   ]
  },
  {
   "cell_type": "code",
   "execution_count": 64,
   "id": "1b862359",
   "metadata": {},
   "outputs": [],
   "source": [
    "grid_best_params, log_reg_grid = ml.grid_search_optimize(log_reg, param_grid, X_train, \n",
    "                                                                y_train, cv=10,scoring='f1')"
   ]
  },
  {
   "cell_type": "code",
   "execution_count": 65,
   "id": "86a4a7b5",
   "metadata": {},
   "outputs": [
    {
     "data": {
      "text/plain": [
       "{'C': 10,\n",
       " 'class_weight': None,\n",
       " 'max_iter': 100,\n",
       " 'penalty': 'l2',\n",
       " 'solver': 'newton-cg',\n",
       " 'warm_start': False}"
      ]
     },
     "execution_count": 65,
     "metadata": {},
     "output_type": "execute_result"
    }
   ],
   "source": [
    "grid_best_params"
   ]
  },
  {
   "cell_type": "code",
   "execution_count": 66,
   "id": "2268aff4",
   "metadata": {},
   "outputs": [
    {
     "name": "stdout",
     "output_type": "stream",
     "text": [
      "\n",
      "Train Accuracy: 0.845\n",
      "\n",
      "Test Accuracy: 0.833\n",
      "\n",
      "Precision: 0.222\n",
      "\n",
      "Recall: 0.804\n",
      "\n",
      "F1-Score: 0.347\n"
     ]
    }
   ],
   "source": [
    "ml.evaluate_model_metrics(log_reg_grid,X_train,y_train,X_val,y_val)"
   ]
  },
  {
   "cell_type": "markdown",
   "id": "8458e5a6",
   "metadata": {},
   "source": [
    "### Random Search"
   ]
  },
  {
   "cell_type": "code",
   "execution_count": 67,
   "id": "cc4fcfeb",
   "metadata": {},
   "outputs": [],
   "source": [
    "rand_best_params, log_reg_rand = ml.random_search_optimize(log_reg,param_grid,n_iter=100,cv=5,\n",
    "                                                               X_train=X_train, y_train=y_train,\n",
    "                                                               scoring='accuracy')"
   ]
  },
  {
   "cell_type": "code",
   "execution_count": 68,
   "id": "a3aca564",
   "metadata": {},
   "outputs": [
    {
     "data": {
      "text/plain": [
       "{'warm_start': True,\n",
       " 'solver': 'lbfgs',\n",
       " 'penalty': 'l2',\n",
       " 'max_iter': 300,\n",
       " 'class_weight': 'balanced',\n",
       " 'C': 10}"
      ]
     },
     "execution_count": 68,
     "metadata": {},
     "output_type": "execute_result"
    }
   ],
   "source": [
    "rand_best_params"
   ]
  },
  {
   "cell_type": "code",
   "execution_count": 69,
   "id": "0c27dea7",
   "metadata": {},
   "outputs": [
    {
     "name": "stdout",
     "output_type": "stream",
     "text": [
      "\n",
      "Train Accuracy: 0.845\n",
      "\n",
      "Test Accuracy: 0.833\n",
      "\n",
      "Precision: 0.222\n",
      "\n",
      "Recall: 0.804\n",
      "\n",
      "F1-Score: 0.347\n"
     ]
    }
   ],
   "source": [
    "ml.evaluate_model_metrics(log_reg_rand,X_train,y_train,X_val,y_val)"
   ]
  },
  {
   "cell_type": "markdown",
   "id": "7d6294a4",
   "metadata": {},
   "source": [
    "### Optuna"
   ]
  },
  {
   "cell_type": "code",
   "execution_count": 91,
   "id": "ae722921",
   "metadata": {},
   "outputs": [],
   "source": [
    "def objective(trial):\n",
    "    \n",
    "    # Hyperparameter search space\n",
    "    penalty = trial.suggest_categorical('penalty', ['l1', 'l2'])\n",
    "    C = trial.suggest_loguniform('C', 1e-5, 1e5)\n",
    "    solver = trial.suggest_categorical('solver', ['newton-cg', 'saga', 'lbfgs',\n",
    "                                                  'liblinear','sag'])\n",
    "    if (penalty == \"l1\" and solver not in [\"liblinear\", \"saga\"]) or (penalty == \"elasticnet\" and solver not in [\"saga\"]) or penalty=='none' and solver in ['liblinear']:\n",
    "        return 0\n",
    "    max_iter = trial.suggest_int('max_iter', 100, 300, 500)\n",
    "    class_weight = trial.suggest_categorical('class_weight', [None, 'balanced'])\n",
    "    warm_start = trial.suggest_categorical('warm_start', [False, True])\n",
    "    fit_intercept = trial.suggest_categorical('fit_intercept', [False, True])\n",
    "\n",
    "    model = ml.LogisticRegression(\n",
    "        penalty=penalty, C=C, solver=solver, max_iter=max_iter,\n",
    "        class_weight=class_weight, warm_start=warm_start, fit_intercept=fit_intercept\n",
    "    )\n",
    "    model.fit(X_train, y_train)\n",
    "\n",
    "    y_pred = model.predict(X_test)\n",
    "\n",
    "    f1 = ml.f1_score(y_test, y_pred)\n",
    "\n",
    "    return f1"
   ]
  },
  {
   "cell_type": "code",
   "execution_count": 92,
   "id": "e7e379fd",
   "metadata": {},
   "outputs": [],
   "source": [
    "best_trial , log_reg_opt = ml.optuna_optimize(objective, ml.LogisticRegression, n_trials=150)"
   ]
  },
  {
   "cell_type": "code",
   "execution_count": 93,
   "id": "b9b8c5b6",
   "metadata": {},
   "outputs": [
    {
     "data": {
      "text/plain": [
       "{'penalty': 'l2',\n",
       " 'C': 109.71344979211945,\n",
       " 'solver': 'lbfgs',\n",
       " 'max_iter': 100,\n",
       " 'class_weight': None,\n",
       " 'warm_start': False,\n",
       " 'fit_intercept': True}"
      ]
     },
     "execution_count": 93,
     "metadata": {},
     "output_type": "execute_result"
    }
   ],
   "source": [
    "best_trial"
   ]
  },
  {
   "cell_type": "code",
   "execution_count": 94,
   "id": "9e3a828c",
   "metadata": {},
   "outputs": [
    {
     "name": "stdout",
     "output_type": "stream",
     "text": [
      "\n",
      "Train Accuracy: 0.847\n",
      "\n",
      "Test Accuracy: 0.831\n",
      "\n",
      "Precision: 0.220\n",
      "\n",
      "Recall: 0.804\n",
      "\n",
      "F1-Score: 0.346\n"
     ]
    }
   ],
   "source": [
    "log_reg_opt.fit(X_train,y_train)\n",
    "\n",
    "ml.evaluate_model_metrics(log_reg_opt,X_train,y_train,X_val,y_val)"
   ]
  },
  {
   "cell_type": "markdown",
   "id": "0d9910b8",
   "metadata": {},
   "source": [
    "## Evaluation on Test Set"
   ]
  },
  {
   "cell_type": "code",
   "execution_count": 95,
   "id": "d53424ec",
   "metadata": {},
   "outputs": [
    {
     "name": "stdout",
     "output_type": "stream",
     "text": [
      "\n",
      "Train Accuracy: 0.845\n",
      "\n",
      "Test Accuracy: 0.814\n",
      "\n",
      "Precision: 0.151\n",
      "\n",
      "Recall: 0.765\n",
      "\n",
      "F1-Score: 0.252\n",
      "\n",
      "Confusion Matrix:\n",
      "\n",
      "[[650 146]\n",
      " [  8  26]]\n",
      "\n",
      "\n",
      "Classification Report:\n",
      "\n",
      "              precision    recall  f1-score   support\n",
      "\n",
      "     Class 0       0.99      0.82      0.89       796\n",
      "     Class 1       0.15      0.76      0.25        34\n",
      "\n",
      "    accuracy                           0.81       830\n",
      "   macro avg       0.57      0.79      0.57       830\n",
      "weighted avg       0.95      0.81      0.87       830\n",
      "\n",
      "\n",
      "ROC-AUC Curve:\n"
     ]
    },
    {
     "data": {
      "image/png": "[encoded data removed]",
      "text/plain": [
       "<Figure size 600x400 with 1 Axes>"
      ]
     },
     "metadata": {},
     "output_type": "display_data"
    }
   ],
   "source": [
    "# After evaluating on the validation set, we evaluate and finalize on the test set\n",
    "\n",
    "ml.evaluate_model_metrics(log_reg_grid, X_train, y_train, X_test, y_test, verbose=6)"
   ]
  },
  {
   "cell_type": "markdown",
   "id": "e7b5c88c",
   "metadata": {},
   "source": [
    "## Cross Validation"
   ]
  },
  {
   "cell_type": "markdown",
   "id": "7e539fb9",
   "metadata": {},
   "source": [
    "### K-fold"
   ]
  },
  {
   "cell_type": "code",
   "execution_count": 96,
   "id": "e77a24f0",
   "metadata": {},
   "outputs": [
    {
     "name": "stdout",
     "output_type": "stream",
     "text": [
      "\n",
      "accuracy scores: [0.96153846 0.95192308 0.94230769 0.95673077 0.95192308 0.9468599\n",
      " 0.95652174 0.95652174 0.93236715 0.94202899]\n",
      "\n",
      "Mean accuracy score:  0.9498722593831289\n",
      "\n",
      "Standard deviation:  0.00845118375628942\n"
     ]
    }
   ],
   "source": [
    "ml.k_cross_validate(log_reg,X,y,cv=10,scoring='accuracy')"
   ]
  },
  {
   "cell_type": "code",
   "execution_count": 97,
   "id": "4aad10b7",
   "metadata": {},
   "outputs": [
    {
     "name": "stdout",
     "output_type": "stream",
     "text": [
      "\n",
      "accuracy scores: [0.95673077 0.95192308 0.94711538 0.95673077 0.95192308 0.9468599\n",
      " 0.95652174 0.95169082 0.94202899 0.9468599 ]\n",
      "\n",
      "Mean accuracy score:  0.9508384429580083\n",
      "\n",
      "Standard deviation:  0.0047743433260811225\n"
     ]
    }
   ],
   "source": [
    "ml.k_cross_validate(log_reg_grid,X,y,cv=10,scoring='accuracy')"
   ]
  },
  {
   "cell_type": "code",
   "execution_count": 98,
   "id": "fa6ff1f4",
   "metadata": {},
   "outputs": [
    {
     "name": "stdout",
     "output_type": "stream",
     "text": [
      "\n",
      "accuracy scores: [0.79807692 0.8125     0.76923077 0.81730769 0.76923077 0.75845411\n",
      " 0.75362319 0.76811594 0.77777778 0.80676329]\n",
      "\n",
      "Mean accuracy score:  0.7831080453363063\n",
      "\n",
      "Standard deviation:  0.022209562162860786\n"
     ]
    }
   ],
   "source": [
    "ml.k_cross_validate(log_reg_rand,X,y,cv=10,scoring='accuracy')"
   ]
  },
  {
   "cell_type": "code",
   "execution_count": 99,
   "id": "46f81577",
   "metadata": {},
   "outputs": [
    {
     "name": "stdout",
     "output_type": "stream",
     "text": [
      "\n",
      "accuracy scores: [0.95192308 0.95192308 0.94711538 0.95673077 0.95192308 0.95169082\n",
      " 0.95169082 0.95169082 0.93719807 0.9468599 ]\n",
      "\n",
      "Mean accuracy score:  0.9498745819397995\n",
      "\n",
      "Standard deviation:  0.00496878201049623\n"
     ]
    }
   ],
   "source": [
    "ml.k_cross_validate(log_reg_opt,X,y,cv=10,scoring='accuracy')"
   ]
  },
  {
   "cell_type": "markdown",
   "id": "ad831ffc",
   "metadata": {},
   "source": [
    "### Stratified K-fold"
   ]
  },
  {
   "cell_type": "code",
   "execution_count": 104,
   "id": "29a48b89",
   "metadata": {},
   "outputs": [
    {
     "name": "stdout",
     "output_type": "stream",
     "text": [
      "\n",
      "Average Accuracy: 0.9474800260126347\n",
      "\n",
      "Average Precision: 0.3\n",
      "\n",
      "Average Recall: 0.09000000000000001\n",
      "\n",
      "Average F1-Score: 0.13571428571428573\n"
     ]
    }
   ],
   "source": [
    "ml.stratified_k_cross_validate(log_reg,X,y,n_splits=10)"
   ]
  },
  {
   "cell_type": "code",
   "execution_count": 105,
   "id": "e0f6f6d6",
   "metadata": {},
   "outputs": [
    {
     "name": "stdout",
     "output_type": "stream",
     "text": [
      "\n",
      "Average Accuracy: 0.9474823485693051\n",
      "\n",
      "Average Precision: 0.34500000000000003\n",
      "\n",
      "Average Recall: 0.10000000000000002\n",
      "\n",
      "Average F1-Score: 0.15142857142857144\n"
     ]
    }
   ],
   "source": [
    "ml.stratified_k_cross_validate(log_reg_grid,X,y,n_splits=10)"
   ]
  },
  {
   "cell_type": "code",
   "execution_count": 106,
   "id": "5aa2c58d",
   "metadata": {},
   "outputs": [
    {
     "name": "stdout",
     "output_type": "stream",
     "text": [
      "\n",
      "Average Accuracy: 0.7730444072835377\n",
      "\n",
      "Average Precision: 0.13753896482591996\n",
      "\n",
      "Average Recall: 0.7\n",
      "\n",
      "Average F1-Score: 0.22958575906223827\n"
     ]
    }
   ],
   "source": [
    "ml.stratified_k_cross_validate(log_reg_rand,X,y,n_splits=10)"
   ]
  },
  {
   "cell_type": "code",
   "execution_count": 107,
   "id": "2c1453da",
   "metadata": {},
   "outputs": [
    {
     "name": "stdout",
     "output_type": "stream",
     "text": [
      "\n",
      "Average Accuracy: 0.9479584726867337\n",
      "\n",
      "Average Precision: 0.3466666666666666\n",
      "\n",
      "Average Recall: 0.11000000000000001\n",
      "\n",
      "Average F1-Score: 0.16267399267399268\n"
     ]
    }
   ],
   "source": [
    "ml.stratified_k_cross_validate(log_reg_opt,X,y,n_splits=10)"
   ]
  },
  {
   "cell_type": "markdown",
   "id": "7a471ca4",
   "metadata": {},
   "source": [
    "### Save Model"
   ]
  },
  {
   "cell_type": "code",
   "execution_count": 110,
   "id": "6e89475b",
   "metadata": {},
   "outputs": [],
   "source": [
    "final_log_reg_estimator = log_reg_grid"
   ]
  },
  {
   "cell_type": "code",
   "execution_count": 112,
   "id": "ea9c37ae",
   "metadata": {},
   "outputs": [
    {
     "name": "stdout",
     "output_type": "stream",
     "text": [
      "Saved Model\n"
     ]
    }
   ],
   "source": [
    "# Saving the model\n",
    "\n",
    "ml.save_model(final_log_reg_estimator, \"../Models/Anemia/Logistic_Regression.pkl\")"
   ]
  },
  {
   "cell_type": "markdown",
   "id": "de59f229",
   "metadata": {},
   "source": [
    "## Prediction"
   ]
  },
  {
   "cell_type": "code",
   "execution_count": 113,
   "id": "67af8316",
   "metadata": {},
   "outputs": [
    {
     "name": "stdout",
     "output_type": "stream",
     "text": [
      "Instance:\n",
      " [ 0.         -1.19373366 -1.41607306 -0.84214067  1.09679794 -0.37877952\n",
      "  1.08348599 -1.40620797 -0.70387425  1.2373533  -1.49884753 -0.54217661\n",
      " -0.47640062  0.98744705  1.26474756  0.71534537  0.45036931 -1.57748608\n",
      " -0.41306638 -0.28957911 -1.6387515  -0.66089648 -1.6498771  -1.12560309\n",
      " -0.23955155  0.06304887 -0.76058279 -0.73703685 -0.76286084  0.11415794\n",
      "  1.44362294 -0.34910405 -0.74243699 -0.3030719  -0.43830078  0.51206312\n",
      " -0.30692669  1.18701367  0.56365164 -1.33652482  0.99058484  0.45479813]\n",
      "\n",
      "Expected Class:  0\n",
      "\n",
      " Modified Instance:\n",
      " [ 0.         -1.37747237 -1.46673384 -0.96917277  1.18008342 -0.37644803\n",
      "  1.31024043 -1.33184911 -0.52532824  1.29392972 -1.76907272 -0.66656774\n",
      " -0.68976018  0.8874567   1.15481833  0.7915146   0.42986705 -1.57620899\n",
      " -0.18075678 -0.26851895 -1.66325209 -0.58321349 -1.81551416 -0.84978411\n",
      " -0.31045237 -0.0772688  -0.78794358 -0.4738524  -0.51607912  0.12401825\n",
      "  1.70407365 -0.20957822 -0.43301907 -0.69144328 -0.35856652  0.56467401\n",
      " -0.16057596  1.12819309  0.44940032 -1.48825025  1.03658618  0.29818551]\n",
      "\n",
      "Predicted Class:  [0]\n"
     ]
    }
   ],
   "source": [
    "# Predicting on perturbed values\n",
    "\n",
    "ml.predict_on_modified_instance(final_log_reg_estimator, X_test.iloc[0], y_test.iloc[0], 0.4)"
   ]
  },
  {
   "cell_type": "code",
   "execution_count": 117,
   "id": "a39b8dfe",
   "metadata": {},
   "outputs": [
    {
     "name": "stdout",
     "output_type": "stream",
     "text": [
      "Instance:\n",
      " [ 1.00000000e+00  6.39452518e-01  2.38279631e-01  1.05748732e+00\n",
      "  1.10474526e+00 -6.88730703e-01 -2.43954276e-01 -1.02998626e+00\n",
      " -1.71153432e+00  3.01783971e-01 -1.35912232e+00  9.48528430e-01\n",
      " -4.76400617e-01  3.65066875e+00 -8.43221478e-01 -4.96345202e-01\n",
      "  4.41921523e+00 -1.00705743e-01  1.32787776e+00 -1.26094249e-03\n",
      " -1.31281740e+00 -1.35186061e+00 -1.39817266e+00  1.43084176e+00\n",
      " -1.82390057e-01 -3.07335017e-02  2.52949520e+00 -4.07239777e-01\n",
      " -1.40055279e+00 -1.36376201e+00  4.17787283e+00 -7.38319722e-01\n",
      " -2.10101490e-01  1.09766063e+00 -4.38300778e-01 -6.27194245e-02\n",
      " -1.36544116e+00 -9.72884234e-01 -3.37390973e-01 -7.72346509e-01\n",
      " -3.98343397e-02 -5.08780500e-01]\n",
      "\n",
      "Expected Class:  1\n",
      "\n",
      " Modified Instance:\n",
      " [ 1.          0.55408865  0.34620826  1.01207361  1.1906351  -0.92185308\n",
      " -0.44637939 -1.07601186 -1.58256092  0.28299748 -1.37401262  1.08293647\n",
      " -0.50746368  3.57692315 -0.9747483  -0.77704933  4.46311625  0.02865686\n",
      "  1.2498563  -0.0164606  -1.45236959 -1.24511589 -1.57793382  1.51023882\n",
      " -0.21860294 -0.05045726  2.4987752  -0.68438735 -1.32000194 -1.49242624\n",
      "  4.25972205 -0.92051046 -0.17779829  1.29381842 -0.65499645 -0.28498316\n",
      " -1.5213222  -0.86698608 -0.11972778 -0.68765364 -0.04022983 -0.59379976]\n",
      "\n",
      "Predicted Class:  [0]\n"
     ]
    }
   ],
   "source": [
    "ml.predict_on_modified_instance(final_log_reg_estimator, X_test.iloc[5], y_test.iloc[5], 0.3)"
   ]
  },
  {
   "cell_type": "code",
   "execution_count": 119,
   "id": "ebca53ab",
   "metadata": {},
   "outputs": [
    {
     "name": "stdout",
     "output_type": "stream",
     "text": [
      "Instance:\n",
      " [ 0.          1.73936422  1.62331909  3.99327603  0.03582999 -0.7365075\n",
      " -1.77683172 -0.32268944 -3.78612858 -0.41788474 -3.12897504  0.7621903\n",
      "  1.80044686  0.31237458 -0.79637772 -1.27917277  2.1910912  -0.69141788\n",
      "  1.66639467  0.55949885 -0.09056452 -0.77934748 -2.78254707 -0.4287657\n",
      " -0.11676019 -1.10923083  6.4775888  -0.5391586  -0.69964138  0.63964059\n",
      "  1.22480684 -0.24953725 -0.56499182 -0.39411951  0.13638577 -0.69450454\n",
      "  0.39874963  0.25871712 -0.69869074  0.07392095 -0.64520561  0.08435106]\n",
      "\n",
      "Expected Class:  1\n",
      "\n",
      " Modified Instance:\n",
      " [ 0.          1.77491832  1.37342736  3.73318546  0.14670913 -0.86627585\n",
      " -1.59906576 -0.17959278 -3.69627437 -0.45363888 -3.20065153  0.85171813\n",
      "  2.11845074  0.3212103  -0.95850678 -1.29925443  2.32411298 -0.71917586\n",
      "  1.50949551  0.71569697 -0.2792808  -0.96276639 -2.64988421 -0.3934177\n",
      " -0.21949387 -1.22761858  6.55039731 -0.80730994 -0.6030045   0.83303068\n",
      "  1.08869677 -0.16846729 -0.53457488 -0.29256803  0.09912212 -1.05720253\n",
      "  0.7169576   0.1514507  -0.75957036  0.25069199 -0.63351299 -0.08669719]\n",
      "\n",
      "Predicted Class:  [1]\n"
     ]
    }
   ],
   "source": [
    "ml.predict_on_modified_instance(final_log_reg_estimator, X_test.iloc[28], y_test.iloc[28], 0.3)"
   ]
  }
 ],
 "metadata": {
  "kernelspec": {
   "display_name": "Python 3 (ipykernel)",
   "language": "python",
   "name": "python3"
  },
  "language_info": {
   "codemirror_mode": {
    "name": "ipython",
    "version": 3
   },
   "file_extension": ".py",
   "mimetype": "text/x-python",
   "name": "python",
   "nbconvert_exporter": "python",
   "pygments_lexer": "ipython3",
   "version": "3.10.12"
  }
 },
 "nbformat": 4,
 "nbformat_minor": 5
}
