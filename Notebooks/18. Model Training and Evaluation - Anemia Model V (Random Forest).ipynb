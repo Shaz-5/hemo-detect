{
 "cells": [
  {
   "cell_type": "markdown",
   "id": "d2acf9f1",
   "metadata": {},
   "source": [
    "# Anemia - Random Forest"
   ]
  },
  {
   "cell_type": "code",
   "execution_count": 2,
   "id": "5c1b7eb2",
   "metadata": {},
   "outputs": [],
   "source": [
    "import some_load_train_evaluate_functions as ml"
   ]
  },
  {
   "cell_type": "code",
   "execution_count": 3,
   "id": "6b4433ef",
   "metadata": {},
   "outputs": [
    {
     "name": "stdout",
     "output_type": "stream",
     "text": [
      "Connected to database successfully.\n"
     ]
    }
   ],
   "source": [
    "path = '../KG/db.env'\n",
    "\n",
    "driver = ml.connect_to_neo4j(path)"
   ]
  },
  {
   "cell_type": "markdown",
   "id": "4016e569",
   "metadata": {},
   "source": [
    "### Load Data"
   ]
  },
  {
   "cell_type": "code",
   "execution_count": 4,
   "id": "76bbe0fe",
   "metadata": {},
   "outputs": [
    {
     "data": {
      "text/html": [
       "<div>\n",
       "<style scoped>\n",
       "    .dataframe tbody tr th:only-of-type {\n",
       "        vertical-align: middle;\n",
       "    }\n",
       "\n",
       "    .dataframe tbody tr th {\n",
       "        vertical-align: top;\n",
       "    }\n",
       "\n",
       "    .dataframe thead th {\n",
       "        text-align: right;\n",
       "    }\n",
       "</style>\n",
       "<table border=\"1\" class=\"dataframe\">\n",
       "  <thead>\n",
       "    <tr style=\"text-align: right;\">\n",
       "      <th></th>\n",
       "      <th>Respondent_ID</th>\n",
       "      <th>Gender</th>\n",
       "      <th>Age</th>\n",
       "      <th>BMI</th>\n",
       "      <th>25-hydroxyvitamin D2 + D3 [nmol/L]</th>\n",
       "      <th>A/G Ratio</th>\n",
       "      <th>Alpha-carotene [umol/L]</th>\n",
       "      <th>Alpha-crypotoxanthin [umol/L]</th>\n",
       "      <th>Alpha-tocopherol [umol/L]</th>\n",
       "      <th>Basophils [%]</th>\n",
       "      <th>...</th>\n",
       "      <th>Ferritin [ng/mL]</th>\n",
       "      <th>Gamma Glutamyl Transferase [IU/L]</th>\n",
       "      <th>Hemoglobin [g/dL]</th>\n",
       "      <th>Insulin [pmol/L]</th>\n",
       "      <th>LDL-Cholesterol(NIH2) [mmol/L]</th>\n",
       "      <th>Lactate Dehydrogenase [IU/L]</th>\n",
       "      <th>Transferrin Saturation [%]</th>\n",
       "      <th>Transferrin receptor [nmol/L]</th>\n",
       "      <th>Triglyceride [mmol/L]</th>\n",
       "      <th>Anemia</th>\n",
       "    </tr>\n",
       "  </thead>\n",
       "  <tbody>\n",
       "    <tr>\n",
       "      <th>0</th>\n",
       "      <td>93703</td>\n",
       "      <td>0</td>\n",
       "      <td>2</td>\n",
       "      <td>17.5</td>\n",
       "      <td>NaN</td>\n",
       "      <td>NaN</td>\n",
       "      <td>NaN</td>\n",
       "      <td>NaN</td>\n",
       "      <td>NaN</td>\n",
       "      <td>NaN</td>\n",
       "      <td>...</td>\n",
       "      <td>NaN</td>\n",
       "      <td>NaN</td>\n",
       "      <td>NaN</td>\n",
       "      <td>NaN</td>\n",
       "      <td>NaN</td>\n",
       "      <td>NaN</td>\n",
       "      <td>NaN</td>\n",
       "      <td>NaN</td>\n",
       "      <td>NaN</td>\n",
       "      <td>0</td>\n",
       "    </tr>\n",
       "    <tr>\n",
       "      <th>1</th>\n",
       "      <td>93704</td>\n",
       "      <td>1</td>\n",
       "      <td>2</td>\n",
       "      <td>15.7</td>\n",
       "      <td>74.4</td>\n",
       "      <td>NaN</td>\n",
       "      <td>NaN</td>\n",
       "      <td>NaN</td>\n",
       "      <td>NaN</td>\n",
       "      <td>0.7</td>\n",
       "      <td>...</td>\n",
       "      <td>36.60</td>\n",
       "      <td>NaN</td>\n",
       "      <td>13.1</td>\n",
       "      <td>NaN</td>\n",
       "      <td>NaN</td>\n",
       "      <td>NaN</td>\n",
       "      <td>NaN</td>\n",
       "      <td>30.6</td>\n",
       "      <td>NaN</td>\n",
       "      <td>0</td>\n",
       "    </tr>\n",
       "    <tr>\n",
       "      <th>2</th>\n",
       "      <td>93705</td>\n",
       "      <td>0</td>\n",
       "      <td>66</td>\n",
       "      <td>31.7</td>\n",
       "      <td>89.9</td>\n",
       "      <td>1.517241</td>\n",
       "      <td>0.138</td>\n",
       "      <td>0.071</td>\n",
       "      <td>26.006</td>\n",
       "      <td>1.0</td>\n",
       "      <td>...</td>\n",
       "      <td>28.70</td>\n",
       "      <td>21.0</td>\n",
       "      <td>11.9</td>\n",
       "      <td>NaN</td>\n",
       "      <td>NaN</td>\n",
       "      <td>174.0</td>\n",
       "      <td>28.0</td>\n",
       "      <td>39.8</td>\n",
       "      <td>NaN</td>\n",
       "      <td>0</td>\n",
       "    </tr>\n",
       "    <tr>\n",
       "      <th>3</th>\n",
       "      <td>93706</td>\n",
       "      <td>1</td>\n",
       "      <td>18</td>\n",
       "      <td>21.5</td>\n",
       "      <td>53.8</td>\n",
       "      <td>1.629630</td>\n",
       "      <td>0.160</td>\n",
       "      <td>0.031</td>\n",
       "      <td>16.765</td>\n",
       "      <td>0.8</td>\n",
       "      <td>...</td>\n",
       "      <td>284.00</td>\n",
       "      <td>16.0</td>\n",
       "      <td>16.3</td>\n",
       "      <td>NaN</td>\n",
       "      <td>NaN</td>\n",
       "      <td>142.0</td>\n",
       "      <td>51.0</td>\n",
       "      <td>34.0</td>\n",
       "      <td>NaN</td>\n",
       "      <td>0</td>\n",
       "    </tr>\n",
       "    <tr>\n",
       "      <th>4</th>\n",
       "      <td>93707</td>\n",
       "      <td>1</td>\n",
       "      <td>13</td>\n",
       "      <td>18.1</td>\n",
       "      <td>58.2</td>\n",
       "      <td>1.857143</td>\n",
       "      <td>0.009</td>\n",
       "      <td>0.044</td>\n",
       "      <td>22.756</td>\n",
       "      <td>0.5</td>\n",
       "      <td>...</td>\n",
       "      <td>49.30</td>\n",
       "      <td>9.0</td>\n",
       "      <td>14.5</td>\n",
       "      <td>NaN</td>\n",
       "      <td>NaN</td>\n",
       "      <td>177.0</td>\n",
       "      <td>21.0</td>\n",
       "      <td>34.0</td>\n",
       "      <td>NaN</td>\n",
       "      <td>0</td>\n",
       "    </tr>\n",
       "    <tr>\n",
       "      <th>...</th>\n",
       "      <td>...</td>\n",
       "      <td>...</td>\n",
       "      <td>...</td>\n",
       "      <td>...</td>\n",
       "      <td>...</td>\n",
       "      <td>...</td>\n",
       "      <td>...</td>\n",
       "      <td>...</td>\n",
       "      <td>...</td>\n",
       "      <td>...</td>\n",
       "      <td>...</td>\n",
       "      <td>...</td>\n",
       "      <td>...</td>\n",
       "      <td>...</td>\n",
       "      <td>...</td>\n",
       "      <td>...</td>\n",
       "      <td>...</td>\n",
       "      <td>...</td>\n",
       "      <td>...</td>\n",
       "      <td>...</td>\n",
       "      <td>...</td>\n",
       "    </tr>\n",
       "    <tr>\n",
       "      <th>8877</th>\n",
       "      <td>102952</td>\n",
       "      <td>0</td>\n",
       "      <td>70</td>\n",
       "      <td>20.0</td>\n",
       "      <td>82.7</td>\n",
       "      <td>1.846154</td>\n",
       "      <td>0.235</td>\n",
       "      <td>0.077</td>\n",
       "      <td>31.347</td>\n",
       "      <td>0.6</td>\n",
       "      <td>...</td>\n",
       "      <td>135.00</td>\n",
       "      <td>18.0</td>\n",
       "      <td>13.4</td>\n",
       "      <td>26.34</td>\n",
       "      <td>1.112</td>\n",
       "      <td>168.0</td>\n",
       "      <td>39.0</td>\n",
       "      <td>29.1</td>\n",
       "      <td>0.881</td>\n",
       "      <td>0</td>\n",
       "    </tr>\n",
       "    <tr>\n",
       "      <th>8878</th>\n",
       "      <td>102953</td>\n",
       "      <td>1</td>\n",
       "      <td>42</td>\n",
       "      <td>35.8</td>\n",
       "      <td>49.5</td>\n",
       "      <td>1.142857</td>\n",
       "      <td>0.106</td>\n",
       "      <td>0.080</td>\n",
       "      <td>21.873</td>\n",
       "      <td>0.6</td>\n",
       "      <td>...</td>\n",
       "      <td>120.00</td>\n",
       "      <td>28.0</td>\n",
       "      <td>15.5</td>\n",
       "      <td>NaN</td>\n",
       "      <td>NaN</td>\n",
       "      <td>136.0</td>\n",
       "      <td>20.0</td>\n",
       "      <td>28.6</td>\n",
       "      <td>NaN</td>\n",
       "      <td>0</td>\n",
       "    </tr>\n",
       "    <tr>\n",
       "      <th>8879</th>\n",
       "      <td>102954</td>\n",
       "      <td>0</td>\n",
       "      <td>41</td>\n",
       "      <td>26.1</td>\n",
       "      <td>50.5</td>\n",
       "      <td>1.500000</td>\n",
       "      <td>0.117</td>\n",
       "      <td>0.056</td>\n",
       "      <td>26.935</td>\n",
       "      <td>1.4</td>\n",
       "      <td>...</td>\n",
       "      <td>1.99</td>\n",
       "      <td>8.0</td>\n",
       "      <td>6.4</td>\n",
       "      <td>56.94</td>\n",
       "      <td>2.793</td>\n",
       "      <td>123.0</td>\n",
       "      <td>5.0</td>\n",
       "      <td>248.0</td>\n",
       "      <td>0.553</td>\n",
       "      <td>0</td>\n",
       "    </tr>\n",
       "    <tr>\n",
       "      <th>8880</th>\n",
       "      <td>102955</td>\n",
       "      <td>0</td>\n",
       "      <td>14</td>\n",
       "      <td>45.6</td>\n",
       "      <td>61.9</td>\n",
       "      <td>1.205882</td>\n",
       "      <td>0.031</td>\n",
       "      <td>0.079</td>\n",
       "      <td>17.856</td>\n",
       "      <td>0.9</td>\n",
       "      <td>...</td>\n",
       "      <td>11.40</td>\n",
       "      <td>16.0</td>\n",
       "      <td>11.4</td>\n",
       "      <td>NaN</td>\n",
       "      <td>NaN</td>\n",
       "      <td>158.0</td>\n",
       "      <td>5.0</td>\n",
       "      <td>57.7</td>\n",
       "      <td>NaN</td>\n",
       "      <td>0</td>\n",
       "    </tr>\n",
       "    <tr>\n",
       "      <th>8881</th>\n",
       "      <td>102956</td>\n",
       "      <td>1</td>\n",
       "      <td>38</td>\n",
       "      <td>36.1</td>\n",
       "      <td>58.9</td>\n",
       "      <td>1.482759</td>\n",
       "      <td>0.026</td>\n",
       "      <td>0.038</td>\n",
       "      <td>21.177</td>\n",
       "      <td>1.0</td>\n",
       "      <td>...</td>\n",
       "      <td>553.00</td>\n",
       "      <td>72.0</td>\n",
       "      <td>17.4</td>\n",
       "      <td>634.38</td>\n",
       "      <td>2.172</td>\n",
       "      <td>134.0</td>\n",
       "      <td>35.0</td>\n",
       "      <td>23.4</td>\n",
       "      <td>3.037</td>\n",
       "      <td>0</td>\n",
       "    </tr>\n",
       "  </tbody>\n",
       "</table>\n",
       "<p>8882 rows × 91 columns</p>\n",
       "</div>"
      ],
      "text/plain": [
       "      Respondent_ID  Gender  Age   BMI  25-hydroxyvitamin D2 + D3 [nmol/L]  \\\n",
       "0             93703       0    2  17.5                                 NaN   \n",
       "1             93704       1    2  15.7                                74.4   \n",
       "2             93705       0   66  31.7                                89.9   \n",
       "3             93706       1   18  21.5                                53.8   \n",
       "4             93707       1   13  18.1                                58.2   \n",
       "...             ...     ...  ...   ...                                 ...   \n",
       "8877         102952       0   70  20.0                                82.7   \n",
       "8878         102953       1   42  35.8                                49.5   \n",
       "8879         102954       0   41  26.1                                50.5   \n",
       "8880         102955       0   14  45.6                                61.9   \n",
       "8881         102956       1   38  36.1                                58.9   \n",
       "\n",
       "      A/G Ratio  Alpha-carotene [umol/L]  Alpha-crypotoxanthin [umol/L]  \\\n",
       "0           NaN                      NaN                            NaN   \n",
       "1           NaN                      NaN                            NaN   \n",
       "2      1.517241                    0.138                          0.071   \n",
       "3      1.629630                    0.160                          0.031   \n",
       "4      1.857143                    0.009                          0.044   \n",
       "...         ...                      ...                            ...   \n",
       "8877   1.846154                    0.235                          0.077   \n",
       "8878   1.142857                    0.106                          0.080   \n",
       "8879   1.500000                    0.117                          0.056   \n",
       "8880   1.205882                    0.031                          0.079   \n",
       "8881   1.482759                    0.026                          0.038   \n",
       "\n",
       "      Alpha-tocopherol [umol/L]  Basophils [%]  ...  Ferritin [ng/mL]  \\\n",
       "0                           NaN            NaN  ...               NaN   \n",
       "1                           NaN            0.7  ...             36.60   \n",
       "2                        26.006            1.0  ...             28.70   \n",
       "3                        16.765            0.8  ...            284.00   \n",
       "4                        22.756            0.5  ...             49.30   \n",
       "...                         ...            ...  ...               ...   \n",
       "8877                     31.347            0.6  ...            135.00   \n",
       "8878                     21.873            0.6  ...            120.00   \n",
       "8879                     26.935            1.4  ...              1.99   \n",
       "8880                     17.856            0.9  ...             11.40   \n",
       "8881                     21.177            1.0  ...            553.00   \n",
       "\n",
       "      Gamma Glutamyl Transferase [IU/L]  Hemoglobin [g/dL]  Insulin [pmol/L]  \\\n",
       "0                                   NaN                NaN               NaN   \n",
       "1                                   NaN               13.1               NaN   \n",
       "2                                  21.0               11.9               NaN   \n",
       "3                                  16.0               16.3               NaN   \n",
       "4                                   9.0               14.5               NaN   \n",
       "...                                 ...                ...               ...   \n",
       "8877                               18.0               13.4             26.34   \n",
       "8878                               28.0               15.5               NaN   \n",
       "8879                                8.0                6.4             56.94   \n",
       "8880                               16.0               11.4               NaN   \n",
       "8881                               72.0               17.4            634.38   \n",
       "\n",
       "      LDL-Cholesterol(NIH2) [mmol/L]  Lactate Dehydrogenase [IU/L]  \\\n",
       "0                                NaN                           NaN   \n",
       "1                                NaN                           NaN   \n",
       "2                                NaN                         174.0   \n",
       "3                                NaN                         142.0   \n",
       "4                                NaN                         177.0   \n",
       "...                              ...                           ...   \n",
       "8877                           1.112                         168.0   \n",
       "8878                             NaN                         136.0   \n",
       "8879                           2.793                         123.0   \n",
       "8880                             NaN                         158.0   \n",
       "8881                           2.172                         134.0   \n",
       "\n",
       "      Transferrin Saturation [%]  Transferrin receptor [nmol/L]  \\\n",
       "0                            NaN                            NaN   \n",
       "1                            NaN                           30.6   \n",
       "2                           28.0                           39.8   \n",
       "3                           51.0                           34.0   \n",
       "4                           21.0                           34.0   \n",
       "...                          ...                            ...   \n",
       "8877                        39.0                           29.1   \n",
       "8878                        20.0                           28.6   \n",
       "8879                         5.0                          248.0   \n",
       "8880                         5.0                           57.7   \n",
       "8881                        35.0                           23.4   \n",
       "\n",
       "      Triglyceride [mmol/L]  Anemia  \n",
       "0                       NaN       0  \n",
       "1                       NaN       0  \n",
       "2                       NaN       0  \n",
       "3                       NaN       0  \n",
       "4                       NaN       0  \n",
       "...                     ...     ...  \n",
       "8877                  0.881       0  \n",
       "8878                    NaN       0  \n",
       "8879                  0.553       0  \n",
       "8880                    NaN       0  \n",
       "8881                  3.037       0  \n",
       "\n",
       "[8882 rows x 91 columns]"
      ]
     },
     "execution_count": 4,
     "metadata": {},
     "output_type": "execute_result"
    }
   ],
   "source": [
    "# Anemia data\n",
    "\n",
    "anemia_df = ml.get_data_of_disease(driver, 'Anemia')\n",
    "anemia_df"
   ]
  },
  {
   "cell_type": "markdown",
   "id": "6578093d",
   "metadata": {},
   "source": [
    "### Training"
   ]
  },
  {
   "cell_type": "code",
   "execution_count": 5,
   "id": "995292f6",
   "metadata": {},
   "outputs": [
    {
     "name": "stdout",
     "output_type": "stream",
     "text": [
      "Training Accuracy:  0.997466572836031\n",
      "Testing Accuracy:  0.9980292792792793\n"
     ]
    }
   ],
   "source": [
    "random_forest = ml.RandomForestClassifier(random_state=42)\n",
    "\n",
    "# Attributes and Labels\n",
    "\n",
    "X, y, X_train, X_val, X_test, y_train, y_val, y_test = ml.preprocess_and_split(df = anemia_df, label = 'Anemia',\n",
    "                                                              impute = True, scale=True,\n",
    "                                                              imputer=ml.SimpleImputer(strategy='mean'),\n",
    "                                                              random_state=42)\n",
    "\n",
    "# Training\n",
    "\n",
    "random_forest.fit(X_train, y_train)\n",
    "\n",
    "# Accuracy scores\n",
    "\n",
    "y_pred = random_forest.predict(X_val)\n",
    "\n",
    "print('Training Accuracy: ',ml.accuracy_score(y_train, random_forest.predict(X_train)))\n",
    "\n",
    "print('Testing Accuracy: ',ml.accuracy_score(y_val, y_pred))"
   ]
  },
  {
   "cell_type": "markdown",
   "id": "44142f21",
   "metadata": {},
   "source": [
    "## Feature Selection"
   ]
  },
  {
   "cell_type": "markdown",
   "id": "c60fc52a",
   "metadata": {},
   "source": [
    "### Correlation Analysis"
   ]
  },
  {
   "cell_type": "code",
   "execution_count": 6,
   "id": "a8302272",
   "metadata": {},
   "outputs": [],
   "source": [
    "random_forest_test = ml.RandomForestClassifier(random_state=42, n_jobs=-1)"
   ]
  },
  {
   "cell_type": "code",
   "execution_count": 7,
   "id": "4bf4ee40",
   "metadata": {},
   "outputs": [
    {
     "data": {
      "text/plain": [
       "['Red cell distribution width [%]',\n",
       " 'Transferrin receptor [nmol/L]',\n",
       " 'Platelet_Lymphocyte Ratio',\n",
       " 'UIBC [umol/L]',\n",
       " 'C-Reactive Protein [mg/L]',\n",
       " 'Age',\n",
       " 'BMI',\n",
       " 'Blood Urea Nitrogen [mg/dL]',\n",
       " 'Systemic Immune‐inflammation Index (SII)',\n",
       " 'Triglyceride [mmol/L]',\n",
       " 'Triglyceride_HDL Ratio',\n",
       " 'Gamma Glutamyl Transferase [IU/L]',\n",
       " 'Potassium [mmol/L]',\n",
       " 'Hydroxycotinine [ng/mL]',\n",
       " 'Vitamin C [umol/L]',\n",
       " 'White blood cell count [1000 cells/uL]',\n",
       " 'Cis-beta-carotene [umol/L]',\n",
       " 'Cotinine [ng/mL]',\n",
       " 'Retinyl stearate [umol/L]']"
      ]
     },
     "execution_count": 7,
     "metadata": {},
     "output_type": "execute_result"
    }
   ],
   "source": [
    "pos_corr, neg_corr = ml.get_correlated_features(anemia_df,'Anemia',pos=0.0,neg=-0.0)\n",
    "\n",
    "corr_features = list(pos_corr.keys()[1:10]) + list(neg_corr.keys()[:10])\n",
    "corr_features.remove('Respondent_ID')\n",
    "corr_features[:30]"
   ]
  },
  {
   "cell_type": "code",
   "execution_count": 8,
   "id": "34987aa0",
   "metadata": {},
   "outputs": [
    {
     "name": "stdout",
     "output_type": "stream",
     "text": [
      "\n",
      "Train Accuracy: 0.997\n",
      "\n",
      "Test Accuracy: 0.998\n",
      "\n",
      "Precision: 0.992\n",
      "\n",
      "Recall: 0.949\n",
      "\n",
      "F1-Score: 0.970\n"
     ]
    }
   ],
   "source": [
    "ml.evaluate_feature_set(corr_features[:30], random_forest_test, X_train, y_train, X_val, y_val)"
   ]
  },
  {
   "cell_type": "markdown",
   "id": "9df33603",
   "metadata": {},
   "source": [
    "### SelectFromModel"
   ]
  },
  {
   "cell_type": "code",
   "execution_count": 9,
   "id": "a245d928",
   "metadata": {},
   "outputs": [
    {
     "data": {
      "text/plain": [
       "['Age',\n",
       " 'BMI',\n",
       " '25-hydroxyvitamin D2 + D3 [nmol/L]',\n",
       " 'A/G Ratio',\n",
       " 'Blood Urea Nitrogen [mg/dL]',\n",
       " 'Blood manganese [nmol/L]',\n",
       " 'Blood selenium [umol/L]',\n",
       " 'Cobalt [nmol/L]',\n",
       " 'Hematocrit [%]',\n",
       " 'Iron [ug/dL]',\n",
       " 'Iron frozen [umol/L]',\n",
       " 'Lymphocyte_C-Reactive Protein Ratio',\n",
       " 'Mean Cell Hgb Conc. [g/dL]',\n",
       " 'Mean cell hemoglobin [pg]',\n",
       " 'Mean cell volume [fL]',\n",
       " 'Osmolality [mmol/Kg]',\n",
       " 'Platelet count [1000 cells/uL]',\n",
       " 'Platelet_Lymphocyte Ratio',\n",
       " 'Platelet_WBC Ratio',\n",
       " 'RBC count [million cells/uL]',\n",
       " 'Red cell distribution width [%]',\n",
       " 'Retinol [umol/L]',\n",
       " 'Systemic Immune‐inflammation Index (SII)',\n",
       " 'White blood cell count [1000 cells/uL]',\n",
       " 'Alkaline Phosphatase [IU/L]',\n",
       " 'C-Reactive Protein [mg/L]',\n",
       " 'Ferritin [ng/mL]',\n",
       " 'Hemoglobin [g/dL]',\n",
       " 'Lactate Dehydrogenase [IU/L]',\n",
       " 'Transferrin receptor [nmol/L]']"
      ]
     },
     "execution_count": 9,
     "metadata": {},
     "output_type": "execute_result"
    }
   ],
   "source": [
    "sfm_features = ml.select_from_model_features(random_forest_test,X,y)\n",
    "sfm_features"
   ]
  },
  {
   "cell_type": "code",
   "execution_count": 10,
   "id": "17b4d45b",
   "metadata": {},
   "outputs": [
    {
     "name": "stdout",
     "output_type": "stream",
     "text": [
      "\n",
      "Train Accuracy: 0.997\n",
      "\n",
      "Test Accuracy: 0.998\n",
      "\n",
      "Precision: 0.992\n",
      "\n",
      "Recall: 0.949\n",
      "\n",
      "F1-Score: 0.970\n"
     ]
    }
   ],
   "source": [
    "sfm_features = list(sfm_features)\n",
    "\n",
    "ml.evaluate_feature_set(sfm_features, random_forest_test, X_train, y_train, X_val, y_val)"
   ]
  },
  {
   "cell_type": "markdown",
   "id": "15f3ce0f",
   "metadata": {},
   "source": [
    "### SelectKBest"
   ]
  },
  {
   "cell_type": "code",
   "execution_count": 11,
   "id": "238022df",
   "metadata": {},
   "outputs": [
    {
     "data": {
      "text/plain": [
       "['Red cell distribution width [%]',\n",
       " 'Hemoglobin [g/dL]',\n",
       " 'Hematocrit [%]',\n",
       " 'Mean Cell Hgb Conc. [g/dL]',\n",
       " 'Transferrin receptor [nmol/L]',\n",
       " 'RBC count [million cells/uL]',\n",
       " 'Albumin [g/dL]',\n",
       " 'Gender',\n",
       " 'A/G Ratio',\n",
       " 'Transferrin Saturation [%]',\n",
       " 'Mean cell hemoglobin [pg]',\n",
       " 'Platelet_Lymphocyte Ratio',\n",
       " 'Iron [ug/dL]',\n",
       " 'Iron frozen [umol/L]',\n",
       " 'Age',\n",
       " 'UIBC [umol/L]',\n",
       " 'C-Reactive Protein [mg/L]',\n",
       " 'Total Calcium [mg/dL]',\n",
       " 'BMI',\n",
       " 'Blood Urea Nitrogen [mg/dL]',\n",
       " 'Systemic Immune‐inflammation Index (SII)',\n",
       " 'Total Bilirubin [mg/dL]',\n",
       " 'Globulin [g/dL]',\n",
       " 'Neutrophil_Lymphocyte Ratio',\n",
       " 'Alpha-crypotoxanthin [umol/L]',\n",
       " 'Alanine Aminotransferase [U/L]',\n",
       " 'Mean cell volume [fL]',\n",
       " 'Segmented neutrophils [%]',\n",
       " 'Lymphocyte_C-Reactive Protein Ratio',\n",
       " 'Lymphocyte [%]']"
      ]
     },
     "execution_count": 11,
     "metadata": {},
     "output_type": "execute_result"
    }
   ],
   "source": [
    "k_best_features = ml.select_k_best(X, y, n=30)\n",
    "k_best_features[:30]"
   ]
  },
  {
   "cell_type": "code",
   "execution_count": 12,
   "id": "b756eeaa",
   "metadata": {},
   "outputs": [
    {
     "name": "stdout",
     "output_type": "stream",
     "text": [
      "\n",
      "Train Accuracy: 0.997\n",
      "\n",
      "Test Accuracy: 0.998\n",
      "\n",
      "Precision: 1.000\n",
      "\n",
      "Recall: 0.949\n",
      "\n",
      "F1-Score: 0.974\n"
     ]
    }
   ],
   "source": [
    "ml.evaluate_feature_set(k_best_features[:30], random_forest_test, X_train, y_train, X_val, y_val)"
   ]
  },
  {
   "cell_type": "markdown",
   "id": "933ccbc1",
   "metadata": {},
   "source": [
    "### Recursive Feature Elimination (RFE) "
   ]
  },
  {
   "cell_type": "code",
   "execution_count": 13,
   "id": "82685afa",
   "metadata": {},
   "outputs": [
    {
     "data": {
      "text/plain": [
       "['Platelet_WBC Ratio',\n",
       " 'Mean cell hemoglobin [pg]',\n",
       " 'Lutein and zeaxanthin [umol/L]',\n",
       " 'Mean cell volume [fL]',\n",
       " 'Iron [ug/dL]',\n",
       " 'Neutrophil_Lymphocyte Ratio',\n",
       " 'Hematocrit [%]',\n",
       " 'Osmolality [mmol/Kg]',\n",
       " 'Transferrin receptor [nmol/L]',\n",
       " 'Creatine Phosphokinase [IU/L]',\n",
       " 'Platelet count [1000 cells/uL]',\n",
       " 'Platelet_Lymphocyte Ratio',\n",
       " 'Ferritin [ng/mL]',\n",
       " 'Cobalt [nmol/L]',\n",
       " 'Lymphocyte_C-Reactive Protein Ratio',\n",
       " 'Hemoglobin [g/dL]',\n",
       " 'Mean Cell Hgb Conc. [g/dL]',\n",
       " 'RBC count [million cells/uL]',\n",
       " 'Blood manganese [nmol/L]',\n",
       " 'Red cell distribution width [%]',\n",
       " 'Blood cadmium [nmol/L]',\n",
       " 'Age',\n",
       " 'UIBC [umol/L]',\n",
       " 'BMI',\n",
       " 'Lactate Dehydrogenase [IU/L]',\n",
       " 'Blood selenium [umol/L]',\n",
       " 'Alpha-crypotoxanthin [umol/L]',\n",
       " 'Systemic Immune‐inflammation Index (SII)',\n",
       " 'A/G Ratio',\n",
       " '25-hydroxyvitamin D2 + D3 [nmol/L]']"
      ]
     },
     "execution_count": 13,
     "metadata": {},
     "output_type": "execute_result"
    }
   ],
   "source": [
    "rfe_features = ml.select_rfe_features(random_forest_test,X,y,n=30,step=0.5)\n",
    "rfe_features[:30]"
   ]
  },
  {
   "cell_type": "code",
   "execution_count": 14,
   "id": "8db8aa72",
   "metadata": {},
   "outputs": [
    {
     "name": "stdout",
     "output_type": "stream",
     "text": [
      "\n",
      "Train Accuracy: 0.997\n",
      "\n",
      "Test Accuracy: 0.998\n",
      "\n",
      "Precision: 1.000\n",
      "\n",
      "Recall: 0.941\n",
      "\n",
      "F1-Score: 0.970\n"
     ]
    }
   ],
   "source": [
    "ml.evaluate_feature_set(rfe_features[:30], random_forest_test, X_train, y_train, X_val, y_val)"
   ]
  },
  {
   "cell_type": "markdown",
   "id": "85827a38",
   "metadata": {},
   "source": [
    "### Lasso Regularization"
   ]
  },
  {
   "cell_type": "code",
   "execution_count": 15,
   "id": "f7a2dee7",
   "metadata": {},
   "outputs": [
    {
     "data": {
      "text/plain": [
       "['Gender',\n",
       " 'Red cell distribution width [%]',\n",
       " 'Hemoglobin [g/dL]',\n",
       " 'Hematocrit [%]',\n",
       " 'Age',\n",
       " 'Alpha-crypotoxanthin [umol/L]',\n",
       " 'Retinyl palmitate [umol/L]',\n",
       " 'Blood mercury [nmol/L]',\n",
       " 'Systemic Immune‐inflammation Index (SII)',\n",
       " 'Retinol [umol/L]',\n",
       " 'Transferrin receptor [nmol/L]',\n",
       " 'Neutrophil_Lymphocyte Ratio',\n",
       " 'Hydroxycotinine [ng/mL]',\n",
       " 'Lymphocyte_C-Reactive Protein Ratio',\n",
       " 'RBC count [million cells/uL]',\n",
       " 'Total Calcium [mg/dL]',\n",
       " 'Alanine Aminotransferase [U/L]',\n",
       " 'Beta-cryptoxanthin [umol/L]',\n",
       " 'Glycohemoglobin [%]',\n",
       " 'Total Cholestrol_HDL Ratio',\n",
       " 'Uric Acid [mg/dL]',\n",
       " 'Trans-lycopene [umol/L]',\n",
       " 'Sodium [mmol/L]',\n",
       " 'Transferrin Saturation [%]',\n",
       " 'LDL-Cholesterol(NIH2) [mmol/L]',\n",
       " 'Blood cadmium [nmol/L]',\n",
       " 'Iron frozen [umol/L]',\n",
       " 'Fasting Glucose [mmol/L]',\n",
       " 'Mean Cell Hgb Conc. [g/dL]',\n",
       " 'Blood Urea Nitrogen [mg/dL]']"
      ]
     },
     "execution_count": 15,
     "metadata": {},
     "output_type": "execute_result"
    }
   ],
   "source": [
    "l1_selected_features = ml.log_reg_lasso_select(X_train, y_train)\n",
    "l1_selected_features[:30]"
   ]
  },
  {
   "cell_type": "code",
   "execution_count": 16,
   "id": "1b685cc9",
   "metadata": {},
   "outputs": [
    {
     "name": "stdout",
     "output_type": "stream",
     "text": [
      "\n",
      "Train Accuracy: 0.996\n",
      "\n",
      "Test Accuracy: 0.997\n",
      "\n",
      "Precision: 1.000\n",
      "\n",
      "Recall: 0.919\n",
      "\n",
      "F1-Score: 0.958\n"
     ]
    }
   ],
   "source": [
    "ml.evaluate_feature_set(l1_selected_features[:30], random_forest_test, X_train, y_train, X_val, y_val)"
   ]
  },
  {
   "cell_type": "markdown",
   "id": "a37796b0",
   "metadata": {},
   "source": [
    "### Relief F"
   ]
  },
  {
   "cell_type": "code",
   "execution_count": 17,
   "id": "bfb3ec54",
   "metadata": {},
   "outputs": [],
   "source": [
    "relieff_features = ml.relief_feature_select(30,X,y)"
   ]
  },
  {
   "cell_type": "code",
   "execution_count": 18,
   "id": "fc600c21",
   "metadata": {},
   "outputs": [
    {
     "data": {
      "text/plain": [
       "['Age',\n",
       " 'Hemoglobin [g/dL]',\n",
       " 'Hematocrit [%]',\n",
       " 'Segmented neutrophils [%]',\n",
       " 'Lymphocyte [%]',\n",
       " 'BMI',\n",
       " 'Neutrophil_Lymphocyte Ratio',\n",
       " 'RBC count [million cells/uL]',\n",
       " 'Mean cell volume [fL]',\n",
       " 'Mean cell hemoglobin [pg]',\n",
       " 'Red cell distribution width [%]',\n",
       " 'A/G Ratio',\n",
       " 'Transferrin Saturation [%]',\n",
       " 'Gender',\n",
       " 'Albumin [g/dL]',\n",
       " 'Uric Acid [mg/dL]',\n",
       " 'Systemic Immune‐inflammation Index (SII)',\n",
       " 'Platelet_Lymphocyte Ratio',\n",
       " 'Iron [ug/dL]',\n",
       " 'Osmolality [mmol/Kg]',\n",
       " 'Iron frozen [umol/L]',\n",
       " 'Retinol [umol/L]',\n",
       " 'Total Calcium [mg/dL]',\n",
       " 'Chloride [mmol/L]',\n",
       " 'Non_HDL Ratio',\n",
       " 'Total Cholesterol [mmol/L]',\n",
       " 'UIBC [umol/L]',\n",
       " 'Globulin [g/dL]',\n",
       " 'Blood selenium [umol/L]',\n",
       " 'Bicarbonate [mmol/L]']"
      ]
     },
     "execution_count": 18,
     "metadata": {},
     "output_type": "execute_result"
    }
   ],
   "source": [
    "relieff_features[:30]"
   ]
  },
  {
   "cell_type": "code",
   "execution_count": 19,
   "id": "8f76d0da",
   "metadata": {},
   "outputs": [
    {
     "name": "stdout",
     "output_type": "stream",
     "text": [
      "\n",
      "Train Accuracy: 0.997\n",
      "\n",
      "Test Accuracy: 0.998\n",
      "\n",
      "Precision: 1.000\n",
      "\n",
      "Recall: 0.949\n",
      "\n",
      "F1-Score: 0.974\n"
     ]
    }
   ],
   "source": [
    "ml.evaluate_feature_set(relieff_features[:30], random_forest_test, X_train, y_train, X_val, y_val)"
   ]
  },
  {
   "cell_type": "markdown",
   "id": "40f94670",
   "metadata": {},
   "source": [
    "### Random Forest Feature Importances"
   ]
  },
  {
   "cell_type": "code",
   "execution_count": 21,
   "id": "6da5caec",
   "metadata": {},
   "outputs": [
    {
     "data": {
      "text/plain": [
       "['BMI',\n",
       " 'Age',\n",
       " 'Hematocrit [%]',\n",
       " 'Red cell distribution width [%]',\n",
       " 'RBC count [million cells/uL]',\n",
       " 'Hemoglobin [g/dL]',\n",
       " 'Mean Cell Hgb Conc. [g/dL]',\n",
       " '25-hydroxyvitamin D2 + D3 [nmol/L]',\n",
       " 'Platelet count [1000 cells/uL]',\n",
       " 'Mean cell volume [fL]',\n",
       " 'Blood selenium [umol/L]',\n",
       " 'Mean cell hemoglobin [pg]',\n",
       " 'Iron frozen [umol/L]',\n",
       " 'Iron [ug/dL]',\n",
       " 'Ferritin [ng/mL]',\n",
       " 'A/G Ratio',\n",
       " 'Transferrin receptor [nmol/L]',\n",
       " 'Blood Urea Nitrogen [mg/dL]',\n",
       " 'Lymphocyte_C-Reactive Protein Ratio',\n",
       " 'Monocyte [%]',\n",
       " 'Cobalt [nmol/L]',\n",
       " 'Lactate Dehydrogenase [IU/L]',\n",
       " 'White blood cell count [1000 cells/uL]',\n",
       " 'Osmolality [mmol/Kg]',\n",
       " 'Platelet_WBC Ratio',\n",
       " 'C-Reactive Protein [mg/L]',\n",
       " 'Mean platelet volume [fL]',\n",
       " 'Alkaline Phosphatase [IU/L]',\n",
       " 'Neutrophil_Lymphocyte Ratio',\n",
       " 'Platelet_Lymphocyte Ratio']"
      ]
     },
     "execution_count": 21,
     "metadata": {},
     "output_type": "execute_result"
    }
   ],
   "source": [
    "random_forest_features = ml.get_rand_forest_features(random_forest, X_train)\n",
    "random_forest_features[:30]"
   ]
  },
  {
   "cell_type": "code",
   "execution_count": 22,
   "id": "de8bbbc5",
   "metadata": {},
   "outputs": [
    {
     "name": "stdout",
     "output_type": "stream",
     "text": [
      "\n",
      "Train Accuracy: 0.997\n",
      "\n",
      "Test Accuracy: 0.998\n",
      "\n",
      "Precision: 1.000\n",
      "\n",
      "Recall: 0.949\n",
      "\n",
      "F1-Score: 0.974\n"
     ]
    }
   ],
   "source": [
    "ml.evaluate_feature_set(random_forest_features, random_forest_test, X_train, y_train, X_val, y_val)"
   ]
  },
  {
   "cell_type": "markdown",
   "id": "281f4770",
   "metadata": {},
   "source": [
    "### Optimal no. of features"
   ]
  },
  {
   "cell_type": "code",
   "execution_count": 30,
   "id": "1dc7a7d5",
   "metadata": {},
   "outputs": [],
   "source": [
    "final_features = list(random_forest_features) "
   ]
  },
  {
   "cell_type": "code",
   "execution_count": 31,
   "id": "401e3bfd",
   "metadata": {},
   "outputs": [
    {
     "name": "stderr",
     "output_type": "stream",
     "text": [
      "Finding optimal no. of features..: 100%|████████| 85/85 [06:45<00:00,  4.77s/it]"
     ]
    },
    {
     "name": "stdout",
     "output_type": "stream",
     "text": [
      "\n",
      "Maximum accuracy = 0.9619 for 42 features\n"
     ]
    },
    {
     "name": "stderr",
     "output_type": "stream",
     "text": [
      "\n"
     ]
    },
    {
     "data": {
      "image/png": "[encoded data removed]",
      "text/plain": [
       "<Figure size 1000x700 with 1 Axes>"
      ]
     },
     "metadata": {},
     "output_type": "display_data"
    }
   ],
   "source": [
    "# Optimal no. of features\n",
    "\n",
    "ml.plot_num_feature_performance(random_forest_test,  X, y, final_features, scoring='accuracy')"
   ]
  },
  {
   "cell_type": "code",
   "execution_count": 35,
   "id": "4aaf5159",
   "metadata": {},
   "outputs": [
    {
     "name": "stderr",
     "output_type": "stream",
     "text": [
      "Finding optimal no. of features..: 100%|████████| 85/85 [06:52<00:00,  4.85s/it]"
     ]
    },
    {
     "name": "stdout",
     "output_type": "stream",
     "text": [
      "\n",
      "Maximum f1 = 0.1058 for 5 features\n"
     ]
    },
    {
     "name": "stderr",
     "output_type": "stream",
     "text": [
      "\n"
     ]
    },
    {
     "data": {
      "image/png": "[encoded data removed]",
      "text/plain": [
       "<Figure size 1000x700 with 1 Axes>"
      ]
     },
     "metadata": {},
     "output_type": "display_data"
    }
   ],
   "source": [
    "# Optimal no. of features\n",
    "\n",
    "ml.plot_num_feature_performance(random_forest_test,  X, y, final_features, scoring='f1')"
   ]
  },
  {
   "cell_type": "code",
   "execution_count": 36,
   "id": "cdd1c71c",
   "metadata": {},
   "outputs": [
    {
     "name": "stderr",
     "output_type": "stream",
     "text": [
      "Finding optimal no. of features..: 100%|████████| 85/85 [07:47<00:00,  5.50s/it]"
     ]
    },
    {
     "name": "stdout",
     "output_type": "stream",
     "text": [
      "\n",
      "Maximum recall = 0.0619 for 5 features\n"
     ]
    },
    {
     "name": "stderr",
     "output_type": "stream",
     "text": [
      "\n"
     ]
    },
    {
     "data": {
      "image/png": "[encoded data removed]",
      "text/plain": [
       "<Figure size 1000x700 with 1 Axes>"
      ]
     },
     "metadata": {},
     "output_type": "display_data"
    }
   ],
   "source": [
    "# Optimal no. of features\n",
    "\n",
    "ml.plot_num_feature_performance(random_forest_test,  X, y, final_features, scoring='recall')"
   ]
  },
  {
   "cell_type": "code",
   "execution_count": 37,
   "id": "27de64c6",
   "metadata": {},
   "outputs": [],
   "source": [
    "num_features = 5\n",
    "\n",
    "selected = final_features[:num_features]\n",
    "selected.append('Anemia')\n",
    "\n",
    "anemia_df = anemia_df[selected]"
   ]
  },
  {
   "cell_type": "code",
   "execution_count": 38,
   "id": "c2ac7c1e",
   "metadata": {},
   "outputs": [],
   "source": [
    "# Save feature set\n",
    "    \n",
    "with open('../Models/Anemia/Feature Sets/Random Forest Features.pkl', 'wb') as f:\n",
    "    ml.pickle.dump(selected, f)"
   ]
  },
  {
   "cell_type": "markdown",
   "id": "cd4a3a33",
   "metadata": {},
   "source": [
    "## Preprocessing"
   ]
  },
  {
   "cell_type": "markdown",
   "id": "c436d4b1",
   "metadata": {},
   "source": [
    "### No Imputation"
   ]
  },
  {
   "cell_type": "code",
   "execution_count": 39,
   "id": "2f23d818",
   "metadata": {},
   "outputs": [],
   "source": [
    "# Imputing null values with zeroes\n",
    "\n",
    "X, y, X_train, X_val, X_test, y_train, y_val, y_test = ml.preprocess_and_split(df = anemia_df, label = 'Anemia',\n",
    "                                                        impute = False, scale=True,\n",
    "                                                        imputer=None,\n",
    "                                                        random_state=42)"
   ]
  },
  {
   "cell_type": "code",
   "execution_count": 40,
   "id": "d1dfdf72",
   "metadata": {},
   "outputs": [
    {
     "name": "stdout",
     "output_type": "stream",
     "text": [
      "\n",
      "Train Accuracy: 0.965\n",
      "\n",
      "Test Accuracy: 0.966\n",
      "\n",
      "Precision: 1.000\n",
      "\n",
      "Recall: 0.103\n",
      "\n",
      "F1-Score: 0.187\n"
     ]
    }
   ],
   "source": [
    "random_forest.fit(X_train, y_train)\n",
    "\n",
    "ml.evaluate_model_metrics(random_forest,X_train,y_train,X_val,y_val)"
   ]
  },
  {
   "cell_type": "markdown",
   "id": "32c7f0b2",
   "metadata": {},
   "source": [
    "### Zero Imputation"
   ]
  },
  {
   "cell_type": "code",
   "execution_count": 41,
   "id": "24b09db9",
   "metadata": {},
   "outputs": [],
   "source": [
    "# Imputing null values with zeroes\n",
    "\n",
    "X, y, X_train, X_val, X_test, y_train, y_val, y_test = ml.preprocess_and_split(df = anemia_df, label = 'Anemia',\n",
    "                                                        impute = True, scale=True,\n",
    "                                                        imputer=ml.SimpleImputer(strategy='constant',fill_value=0),\n",
    "                                                        random_state=42)"
   ]
  },
  {
   "cell_type": "code",
   "execution_count": 42,
   "id": "4c234679",
   "metadata": {},
   "outputs": [
    {
     "name": "stdout",
     "output_type": "stream",
     "text": [
      "\n",
      "Train Accuracy: 0.997\n",
      "\n",
      "Test Accuracy: 0.998\n",
      "\n",
      "Precision: 0.992\n",
      "\n",
      "Recall: 0.949\n",
      "\n",
      "F1-Score: 0.970\n"
     ]
    }
   ],
   "source": [
    "random_forest.fit(X_train, y_train)\n",
    "\n",
    "ml.evaluate_model_metrics(random_forest,X_train,y_train,X_val,y_val)"
   ]
  },
  {
   "cell_type": "markdown",
   "id": "1877522f",
   "metadata": {},
   "source": [
    "### Mode Imputation"
   ]
  },
  {
   "cell_type": "code",
   "execution_count": 43,
   "id": "fcca0b91",
   "metadata": {},
   "outputs": [],
   "source": [
    "# Imputing with most frequent values\n",
    "\n",
    "X, y, X_train, X_val, X_test, y_train, y_val, y_test = ml.preprocess_and_split(df = anemia_df, label = 'Anemia',\n",
    "                                                              impute = True, scale=True,\n",
    "                                                              imputer=ml.SimpleImputer(strategy='most_frequent'),\n",
    "                                                              random_state=42)"
   ]
  },
  {
   "cell_type": "code",
   "execution_count": 44,
   "id": "43855037",
   "metadata": {},
   "outputs": [
    {
     "name": "stdout",
     "output_type": "stream",
     "text": [
      "\n",
      "Train Accuracy: 0.997\n",
      "\n",
      "Test Accuracy: 0.998\n",
      "\n",
      "Precision: 0.992\n",
      "\n",
      "Recall: 0.949\n",
      "\n",
      "F1-Score: 0.970\n"
     ]
    }
   ],
   "source": [
    "random_forest.fit(X_train, y_train)\n",
    "\n",
    "ml.evaluate_model_metrics(random_forest,X_train,y_train,X_val,y_val)"
   ]
  },
  {
   "cell_type": "markdown",
   "id": "8484c25a",
   "metadata": {},
   "source": [
    "### k-NN Imputation"
   ]
  },
  {
   "cell_type": "code",
   "execution_count": 45,
   "id": "288ec08b",
   "metadata": {},
   "outputs": [],
   "source": [
    "# Imputing missing values with values from the k-nearest neighbors in the feature space\n",
    "\n",
    "X, y, X_train, X_val, X_test, y_train, y_val, y_test = ml.preprocess_and_split(df = anemia_df, label = 'Anemia',\n",
    "                                                              impute = True, scale=True,\n",
    "                                                              imputer=ml.KNNImputer(n_neighbors=20),\n",
    "                                                              random_state=42)"
   ]
  },
  {
   "cell_type": "code",
   "execution_count": 46,
   "id": "d03244a8",
   "metadata": {},
   "outputs": [
    {
     "name": "stdout",
     "output_type": "stream",
     "text": [
      "\n",
      "Train Accuracy: 0.997\n",
      "\n",
      "Test Accuracy: 0.998\n",
      "\n",
      "Precision: 1.000\n",
      "\n",
      "Recall: 0.941\n",
      "\n",
      "F1-Score: 0.970\n"
     ]
    }
   ],
   "source": [
    "random_forest.fit(X_train, y_train)\n",
    "\n",
    "ml.evaluate_model_metrics(random_forest,X_train,y_train,X_val,y_val)"
   ]
  },
  {
   "cell_type": "markdown",
   "id": "e8c1a99e",
   "metadata": {},
   "source": [
    "### Multiple Imputation by Chained Equations (MICE)"
   ]
  },
  {
   "cell_type": "code",
   "execution_count": 47,
   "id": "d78c9b6a",
   "metadata": {},
   "outputs": [],
   "source": [
    "# Imputes by looking at data from other columns and trying to estimate the best prediction for each missing value.\n",
    "\n",
    "X, y, X_train, X_val, X_test, y_train, y_val, y_test = ml.preprocess_and_split(df = anemia_df, label = 'Anemia',\n",
    "                                                              impute = True, scale=True,\n",
    "                                                              imputer=ml.IterativeImputer(max_iter=20),\n",
    "                                                              random_state=42)"
   ]
  },
  {
   "cell_type": "code",
   "execution_count": 48,
   "id": "78e0324b",
   "metadata": {},
   "outputs": [
    {
     "name": "stdout",
     "output_type": "stream",
     "text": [
      "\n",
      "Train Accuracy: 0.997\n",
      "\n",
      "Test Accuracy: 0.998\n",
      "\n",
      "Precision: 1.000\n",
      "\n",
      "Recall: 0.941\n",
      "\n",
      "F1-Score: 0.970\n"
     ]
    }
   ],
   "source": [
    "random_forest.fit(X_train, y_train)\n",
    "\n",
    "ml.evaluate_model_metrics(random_forest,X_train,y_train,X_val,y_val)"
   ]
  },
  {
   "cell_type": "markdown",
   "id": "ecf3258f",
   "metadata": {},
   "source": [
    "### Mean Imputation"
   ]
  },
  {
   "cell_type": "code",
   "execution_count": 49,
   "id": "cf825805",
   "metadata": {},
   "outputs": [],
   "source": [
    "# Splitting and Preprocessing data\n",
    "\n",
    "X, y, X_train, X_val, X_test, y_train, y_val, y_test = ml.preprocess_and_split(df = anemia_df, label = 'Anemia',\n",
    "                                                              impute = True, scale=True,\n",
    "                                                              imputer=ml.SimpleImputer(strategy='mean'),\n",
    "                                                              random_state=42)"
   ]
  },
  {
   "cell_type": "code",
   "execution_count": 50,
   "id": "c4eb9258",
   "metadata": {},
   "outputs": [
    {
     "name": "stdout",
     "output_type": "stream",
     "text": [
      "\n",
      "Train Accuracy: 0.997\n",
      "\n",
      "Test Accuracy: 0.998\n",
      "\n",
      "Precision: 0.992\n",
      "\n",
      "Recall: 0.949\n",
      "\n",
      "F1-Score: 0.970\n"
     ]
    }
   ],
   "source": [
    "random_forest.fit(X_train, y_train)\n",
    "\n",
    "ml.evaluate_model_metrics(random_forest,X_train,y_train,X_val,y_val)"
   ]
  },
  {
   "cell_type": "markdown",
   "id": "dc71288f",
   "metadata": {},
   "source": [
    "### Median Imputation"
   ]
  },
  {
   "cell_type": "code",
   "execution_count": 51,
   "id": "648640e9",
   "metadata": {},
   "outputs": [],
   "source": [
    "# Imputing with median values\n",
    "\n",
    "X, y, X_train, X_val, X_test, y_train, y_val, y_test = ml.preprocess_and_split(df = anemia_df, label = 'Anemia',\n",
    "                                                              impute = True, scale=True,\n",
    "                                                              imputer=ml.SimpleImputer(strategy='median'),\n",
    "                                                              random_state=42)"
   ]
  },
  {
   "cell_type": "code",
   "execution_count": 52,
   "id": "188ab3fd",
   "metadata": {},
   "outputs": [
    {
     "name": "stdout",
     "output_type": "stream",
     "text": [
      "\n",
      "Train Accuracy: 0.997\n",
      "\n",
      "Test Accuracy: 0.998\n",
      "\n",
      "Precision: 1.000\n",
      "\n",
      "Recall: 0.941\n",
      "\n",
      "F1-Score: 0.970\n"
     ]
    }
   ],
   "source": [
    "random_forest.fit(X_train, y_train)\n",
    "\n",
    "ml.evaluate_model_metrics(random_forest,X_train,y_train,X_val,y_val)"
   ]
  },
  {
   "cell_type": "markdown",
   "id": "5bd39f86",
   "metadata": {},
   "source": [
    "### Dropping Null Values"
   ]
  },
  {
   "cell_type": "code",
   "execution_count": 7,
   "id": "2a0f7318",
   "metadata": {
    "scrolled": true
   },
   "outputs": [],
   "source": [
    "# Drop null values\n",
    "anemia_df_na = anemia_df.dropna()\n",
    "\n",
    "X, y, X_train, X_val, X_test, y_train, y_val, y_test = ml.preprocess_and_split(df = anemia_df_na, label = 'Anemia',\n",
    "                                                              impute = False, scale=True,\n",
    "                                                              random_state=42)"
   ]
  },
  {
   "cell_type": "code",
   "execution_count": 54,
   "id": "f3c46212",
   "metadata": {},
   "outputs": [
    {
     "name": "stdout",
     "output_type": "stream",
     "text": [
      "\n",
      "Train Accuracy: 1.000\n",
      "\n",
      "Test Accuracy: 1.000\n",
      "\n",
      "Precision: 1.000\n",
      "\n",
      "Recall: 1.000\n",
      "\n",
      "F1-Score: 1.000\n"
     ]
    }
   ],
   "source": [
    "random_forest.fit(X_train, y_train)\n",
    "\n",
    "ml.evaluate_model_metrics(random_forest,X_train,y_train,X_val,y_val)"
   ]
  },
  {
   "cell_type": "markdown",
   "id": "d4f3c7a0",
   "metadata": {},
   "source": [
    "## Oversampling and Undersampling"
   ]
  },
  {
   "cell_type": "markdown",
   "id": "f2ab083d",
   "metadata": {},
   "source": [
    "### Random Oversampling"
   ]
  },
  {
   "cell_type": "code",
   "execution_count": 55,
   "id": "61c3f573",
   "metadata": {
    "scrolled": false
   },
   "outputs": [
    {
     "name": "stdout",
     "output_type": "stream",
     "text": [
      "\n",
      "Train Accuracy: 1.000\n",
      "\n",
      "Test Accuracy: 1.000\n",
      "\n",
      "Precision: 1.000\n",
      "\n",
      "Recall: 1.000\n",
      "\n",
      "F1-Score: 1.000\n"
     ]
    }
   ],
   "source": [
    "X_ros, y_ros = ml.random_over_sample(X_train, y_train)\n",
    "\n",
    "random_forest.fit(X_ros, y_ros)\n",
    "\n",
    "ml.evaluate_model_metrics(random_forest,X_ros, y_ros,X_val, y_val)"
   ]
  },
  {
   "cell_type": "markdown",
   "id": "55cc4ab2",
   "metadata": {},
   "source": [
    "### SMOTE (Synthetic Minority Over-sampling Technique)"
   ]
  },
  {
   "cell_type": "code",
   "execution_count": 56,
   "id": "5ed6c6b3",
   "metadata": {
    "scrolled": false
   },
   "outputs": [
    {
     "name": "stdout",
     "output_type": "stream",
     "text": [
      "\n",
      "Train Accuracy: 1.000\n",
      "\n",
      "Test Accuracy: 1.000\n",
      "\n",
      "Precision: 1.000\n",
      "\n",
      "Recall: 1.000\n",
      "\n",
      "F1-Score: 1.000\n"
     ]
    }
   ],
   "source": [
    "X_smote, y_smote = ml.smote_over_sample(X_train, y_train)\n",
    "\n",
    "random_forest.fit(X_smote, y_smote)\n",
    "\n",
    "ml.evaluate_model_metrics(random_forest,X_smote, y_smote,X_val, y_val)"
   ]
  },
  {
   "cell_type": "markdown",
   "id": "0532ee8b",
   "metadata": {},
   "source": [
    "### Random Undersampling"
   ]
  },
  {
   "cell_type": "code",
   "execution_count": 57,
   "id": "5286090b",
   "metadata": {
    "scrolled": false
   },
   "outputs": [
    {
     "name": "stdout",
     "output_type": "stream",
     "text": [
      "\n",
      "Train Accuracy: 1.000\n",
      "\n",
      "Test Accuracy: 0.748\n",
      "\n",
      "Precision: 0.136\n",
      "\n",
      "Recall: 1.000\n",
      "\n",
      "F1-Score: 0.239\n"
     ]
    }
   ],
   "source": [
    "X_rus, y_rus = ml.random_under_sample(X_train, y_train)\n",
    "\n",
    "random_forest.fit(X_rus, y_rus)\n",
    "\n",
    "ml.evaluate_model_metrics(random_forest,X_rus, y_rus,X_val, y_val)"
   ]
  },
  {
   "cell_type": "markdown",
   "id": "6defa173",
   "metadata": {},
   "source": [
    "### Tomek Links"
   ]
  },
  {
   "cell_type": "code",
   "execution_count": 58,
   "id": "f4fa6ccf",
   "metadata": {
    "scrolled": false
   },
   "outputs": [
    {
     "name": "stdout",
     "output_type": "stream",
     "text": [
      "\n",
      "Train Accuracy: 1.000\n",
      "\n",
      "Test Accuracy: 0.997\n",
      "\n",
      "Precision: 0.950\n",
      "\n",
      "Recall: 0.983\n",
      "\n",
      "F1-Score: 0.966\n"
     ]
    }
   ],
   "source": [
    "X_tomek, y_tomek = ml.tomek_links(X_train, y_train)\n",
    "\n",
    "random_forest.fit(X_tomek, y_tomek)\n",
    "\n",
    "ml.evaluate_model_metrics(random_forest,X_tomek, y_tomek,X_val, y_val)"
   ]
  },
  {
   "cell_type": "markdown",
   "id": "111c9c16",
   "metadata": {},
   "source": [
    "### SMOTE + Tomek Links"
   ]
  },
  {
   "cell_type": "code",
   "execution_count": 59,
   "id": "753149c7",
   "metadata": {
    "scrolled": false
   },
   "outputs": [
    {
     "name": "stdout",
     "output_type": "stream",
     "text": [
      "\n",
      "Train Accuracy: 1.000\n",
      "\n",
      "Test Accuracy: 0.999\n",
      "\n",
      "Precision: 0.966\n",
      "\n",
      "Recall: 1.000\n",
      "\n",
      "F1-Score: 0.983\n"
     ]
    }
   ],
   "source": [
    "X_smote_tomek, y_smote_tomek = ml.smote_tomek(X_train, y_train)\n",
    "\n",
    "random_forest.fit(X_smote_tomek, y_smote_tomek)\n",
    "\n",
    "ml.evaluate_model_metrics(random_forest,X_smote_tomek, y_smote_tomek,X_val, y_val)"
   ]
  },
  {
   "cell_type": "code",
   "execution_count": 60,
   "id": "1f3a2dd8",
   "metadata": {},
   "outputs": [],
   "source": [
    "X_train, y_train = X_smote_tomek, y_smote_tomek"
   ]
  },
  {
   "cell_type": "markdown",
   "id": "9bda7751",
   "metadata": {},
   "source": [
    "## Hyperparameter Optimization "
   ]
  },
  {
   "cell_type": "markdown",
   "id": "a8911f34",
   "metadata": {},
   "source": [
    "### Grid Search"
   ]
  },
  {
   "cell_type": "code",
   "execution_count": 61,
   "id": "8bbd1f7f",
   "metadata": {},
   "outputs": [],
   "source": [
    "param_grid = {\n",
    "    \n",
    "    'bootstrap': [True, False],\n",
    "    'max_features': ['auto', 'sqrt', 'log2', None],\n",
    "    'criterion': ['gini', 'entropy', 'log_loss'],\n",
    "    'n_jobs': [-1],\n",
    "    'random_state': [42]\n",
    "\n",
    "}"
   ]
  },
  {
   "cell_type": "code",
   "execution_count": 62,
   "id": "1b862359",
   "metadata": {},
   "outputs": [],
   "source": [
    "grid_best_params, random_forest_grid = ml.grid_search_optimize(random_forest, param_grid, X_train, \n",
    "                                                                y_train, cv=10,scoring='accuracy')"
   ]
  },
  {
   "cell_type": "code",
   "execution_count": 63,
   "id": "86a4a7b5",
   "metadata": {},
   "outputs": [
    {
     "data": {
      "text/plain": [
       "{'bootstrap': False,\n",
       " 'criterion': 'gini',\n",
       " 'max_features': 'sqrt',\n",
       " 'n_jobs': -1,\n",
       " 'random_state': 42}"
      ]
     },
     "execution_count": 63,
     "metadata": {},
     "output_type": "execute_result"
    }
   ],
   "source": [
    "grid_best_params"
   ]
  },
  {
   "cell_type": "code",
   "execution_count": 64,
   "id": "2268aff4",
   "metadata": {},
   "outputs": [
    {
     "name": "stdout",
     "output_type": "stream",
     "text": [
      "\n",
      "Train Accuracy: 1.000\n",
      "\n",
      "Test Accuracy: 0.998\n",
      "\n",
      "Precision: 0.958\n",
      "\n",
      "Recall: 1.000\n",
      "\n",
      "F1-Score: 0.979\n"
     ]
    }
   ],
   "source": [
    "ml.evaluate_model_metrics(random_forest_grid,X_train,y_train,X_val,y_val)"
   ]
  },
  {
   "cell_type": "markdown",
   "id": "8458e5a6",
   "metadata": {},
   "source": [
    "### Random Search"
   ]
  },
  {
   "cell_type": "code",
   "execution_count": 65,
   "id": "cc4fcfeb",
   "metadata": {},
   "outputs": [],
   "source": [
    "rand_best_params, random_forest_rand = ml.random_search_optimize(random_forest,param_grid,n_iter=100,cv=5,\n",
    "                                                               X_train=X_train, y_train=y_train,\n",
    "                                                               scoring='accuracy')"
   ]
  },
  {
   "cell_type": "code",
   "execution_count": 66,
   "id": "a3aca564",
   "metadata": {},
   "outputs": [
    {
     "data": {
      "text/plain": [
       "{'random_state': 42,\n",
       " 'n_jobs': -1,\n",
       " 'max_features': 'sqrt',\n",
       " 'criterion': 'gini',\n",
       " 'bootstrap': False}"
      ]
     },
     "execution_count": 66,
     "metadata": {},
     "output_type": "execute_result"
    }
   ],
   "source": [
    "rand_best_params"
   ]
  },
  {
   "cell_type": "code",
   "execution_count": 67,
   "id": "0c27dea7",
   "metadata": {},
   "outputs": [
    {
     "name": "stdout",
     "output_type": "stream",
     "text": [
      "\n",
      "Train Accuracy: 1.000\n",
      "\n",
      "Test Accuracy: 0.998\n",
      "\n",
      "Precision: 0.958\n",
      "\n",
      "Recall: 1.000\n",
      "\n",
      "F1-Score: 0.979\n"
     ]
    }
   ],
   "source": [
    "ml.evaluate_model_metrics(random_forest_rand,X_train,y_train,X_val,y_val)"
   ]
  },
  {
   "cell_type": "markdown",
   "id": "7d6294a4",
   "metadata": {},
   "source": [
    "### Optuna"
   ]
  },
  {
   "cell_type": "code",
   "execution_count": 68,
   "id": "ae722921",
   "metadata": {},
   "outputs": [],
   "source": [
    "def objective(trial):\n",
    "\n",
    "    params = {\n",
    "        'bootstrap': trial.suggest_categorical('bootstrap', [True, False]),\n",
    "        'criterion': trial.suggest_categorical('criterion', ['gini', 'entropy']),\n",
    "        'n_jobs': trial.suggest_categorical('n_jobs', [-1])\n",
    "    }\n",
    "     \n",
    "    model = ml.RandomForestClassifier(**params)\n",
    "    \n",
    "    model.fit(X_train, y_train)\n",
    "    y_pred = model.predict(X_test)\n",
    "\n",
    "    accuracy = ml.accuracy_score(y_test, y_pred)\n",
    "\n",
    "    return accuracy"
   ]
  },
  {
   "cell_type": "code",
   "execution_count": 69,
   "id": "e7e379fd",
   "metadata": {},
   "outputs": [],
   "source": [
    "best_trial , random_forest_opt = ml.optuna_optimize(objective, ml.RandomForestClassifier, n_trials=150)"
   ]
  },
  {
   "cell_type": "code",
   "execution_count": 70,
   "id": "b9b8c5b6",
   "metadata": {},
   "outputs": [
    {
     "data": {
      "text/plain": [
       "{'bootstrap': False, 'criterion': 'entropy', 'n_jobs': -1}"
      ]
     },
     "execution_count": 70,
     "metadata": {},
     "output_type": "execute_result"
    }
   ],
   "source": [
    "best_trial"
   ]
  },
  {
   "cell_type": "code",
   "execution_count": 71,
   "id": "9e3a828c",
   "metadata": {},
   "outputs": [
    {
     "name": "stdout",
     "output_type": "stream",
     "text": [
      "\n",
      "Train Accuracy: 1.000\n",
      "\n",
      "Test Accuracy: 0.998\n",
      "\n",
      "Precision: 0.958\n",
      "\n",
      "Recall: 1.000\n",
      "\n",
      "F1-Score: 0.979\n"
     ]
    }
   ],
   "source": [
    "random_forest_opt.fit(X_train,y_train)\n",
    "\n",
    "ml.evaluate_model_metrics(random_forest_opt,X_train,y_train,X_val,y_val)"
   ]
  },
  {
   "cell_type": "markdown",
   "id": "0d9910b8",
   "metadata": {},
   "source": [
    "## Evaluation on Test Set"
   ]
  },
  {
   "cell_type": "code",
   "execution_count": 80,
   "id": "d53424ec",
   "metadata": {},
   "outputs": [
    {
     "name": "stdout",
     "output_type": "stream",
     "text": [
      "\n",
      "Train Accuracy: 0.700\n",
      "\n",
      "Test Accuracy: 0.994\n",
      "\n",
      "Precision: 0.982\n",
      "\n",
      "Recall: 0.884\n",
      "\n",
      "F1-Score: 0.930\n",
      "\n",
      "Confusion Matrix:\n",
      "\n",
      "[[2786    2]\n",
      " [  14  107]]\n",
      "\n",
      "\n",
      "Classification Report:\n",
      "\n",
      "              precision    recall  f1-score   support\n",
      "\n",
      "     Class 0       0.99      1.00      1.00      2788\n",
      "     Class 1       0.98      0.88      0.93       121\n",
      "\n",
      "    accuracy                           0.99      2909\n",
      "   macro avg       0.99      0.94      0.96      2909\n",
      "weighted avg       0.99      0.99      0.99      2909\n",
      "\n",
      "\n",
      "ROC-AUC Curve:\n"
     ]
    },
    {
     "data": {
      "image/png": "[encoded data removed]",
      "text/plain": [
       "<Figure size 600x400 with 1 Axes>"
      ]
     },
     "metadata": {},
     "output_type": "display_data"
    }
   ],
   "source": [
    "# After evaluating on the validation set, we evaluate and finalize on the test set\n",
    "\n",
    "ml.evaluate_model_metrics(random_forest_grid, X_train, y_train, X_test, y_test, verbose=6)"
   ]
  },
  {
   "cell_type": "markdown",
   "id": "e7b5c88c",
   "metadata": {},
   "source": [
    "## Cross Validation"
   ]
  },
  {
   "cell_type": "markdown",
   "id": "7e539fb9",
   "metadata": {},
   "source": [
    "### K-fold"
   ]
  },
  {
   "cell_type": "code",
   "execution_count": 72,
   "id": "e77a24f0",
   "metadata": {},
   "outputs": [
    {
     "name": "stdout",
     "output_type": "stream",
     "text": [
      "\n",
      "accuracy scores: [0.96016484 0.96153846 0.96011004 0.96148556 0.95873453 0.96011004\n",
      " 0.96423659 0.96148556 0.95873453 0.95323246]\n",
      "\n",
      "Mean accuracy score:  0.9599832595190229\n",
      "\n",
      "Standard deviation:  0.002716253189084146\n"
     ]
    }
   ],
   "source": [
    "ml.k_cross_validate(random_forest,X,y,cv=10,scoring='accuracy')"
   ]
  },
  {
   "cell_type": "code",
   "execution_count": 73,
   "id": "4aad10b7",
   "metadata": {},
   "outputs": [
    {
     "name": "stdout",
     "output_type": "stream",
     "text": [
      "\n",
      "accuracy scores: [0.9532967  0.95879121 0.96011004 0.96286107 0.95460798 0.95735901\n",
      " 0.95735901 0.95873453 0.95735901 0.95048143]\n",
      "\n",
      "Mean accuracy score:  0.9570959989116797\n",
      "\n",
      "Standard deviation:  0.003353564806906469\n"
     ]
    }
   ],
   "source": [
    "ml.k_cross_validate(random_forest_grid,X,y,cv=10,scoring='accuracy')"
   ]
  },
  {
   "cell_type": "code",
   "execution_count": 74,
   "id": "fa6ff1f4",
   "metadata": {},
   "outputs": [
    {
     "name": "stdout",
     "output_type": "stream",
     "text": [
      "\n",
      "accuracy scores: [0.9532967  0.95879121 0.96011004 0.96286107 0.95460798 0.95735901\n",
      " 0.95735901 0.95873453 0.95735901 0.95048143]\n",
      "\n",
      "Mean accuracy score:  0.9570959989116797\n",
      "\n",
      "Standard deviation:  0.003353564806906469\n"
     ]
    }
   ],
   "source": [
    "ml.k_cross_validate(random_forest_rand,X,y,cv=10,scoring='accuracy')"
   ]
  },
  {
   "cell_type": "code",
   "execution_count": 75,
   "id": "46f81577",
   "metadata": {},
   "outputs": [
    {
     "name": "stdout",
     "output_type": "stream",
     "text": [
      "\n",
      "accuracy scores: [0.95741758 0.95879121 0.96011004 0.95873453 0.95323246 0.95598349\n",
      " 0.96011004 0.95873453 0.95323246 0.94635488]\n",
      "\n",
      "Mean accuracy score:  0.9562701225871789\n",
      "\n",
      "Standard deviation:  0.004076247608172492\n"
     ]
    }
   ],
   "source": [
    "ml.k_cross_validate(random_forest_opt,X,y,cv=10,scoring='accuracy')"
   ]
  },
  {
   "cell_type": "markdown",
   "id": "ad831ffc",
   "metadata": {},
   "source": [
    "### Stratified K-fold"
   ]
  },
  {
   "cell_type": "code",
   "execution_count": 76,
   "id": "29a48b89",
   "metadata": {},
   "outputs": [
    {
     "name": "stdout",
     "output_type": "stream",
     "text": [
      "\n",
      "Average Accuracy: 0.9605334658463958\n",
      "\n",
      "Average Precision: 0.4083333333333333\n",
      "\n",
      "Average Recall: 0.07376847290640394\n",
      "\n",
      "Average F1-Score: 0.12371538728037779\n"
     ]
    }
   ],
   "source": [
    "ml.stratified_k_cross_validate(random_forest,X,y,n_splits=10)"
   ]
  },
  {
   "cell_type": "code",
   "execution_count": 77,
   "id": "e0f6f6d6",
   "metadata": {},
   "outputs": [
    {
     "name": "stdout",
     "output_type": "stream",
     "text": [
      "\n",
      "Average Accuracy: 0.9573707241864051\n",
      "\n",
      "Average Precision: 0.34146103896103897\n",
      "\n",
      "Average Recall: 0.09852216748768473\n",
      "\n",
      "Average F1-Score: 0.15120439764402613\n"
     ]
    }
   ],
   "source": [
    "ml.stratified_k_cross_validate(random_forest_grid,X,y,n_splits=10)"
   ]
  },
  {
   "cell_type": "code",
   "execution_count": 78,
   "id": "5aa2c58d",
   "metadata": {},
   "outputs": [
    {
     "name": "stdout",
     "output_type": "stream",
     "text": [
      "\n",
      "Average Accuracy: 0.9573707241864051\n",
      "\n",
      "Average Precision: 0.34146103896103897\n",
      "\n",
      "Average Recall: 0.09852216748768473\n",
      "\n",
      "Average F1-Score: 0.15120439764402613\n"
     ]
    }
   ],
   "source": [
    "ml.stratified_k_cross_validate(random_forest_rand,X,y,n_splits=10)"
   ]
  },
  {
   "cell_type": "code",
   "execution_count": 79,
   "id": "2c1453da",
   "metadata": {},
   "outputs": [
    {
     "name": "stdout",
     "output_type": "stream",
     "text": [
      "\n",
      "Average Accuracy: 0.9576465831280137\n",
      "\n",
      "Average Precision: 0.3280952380952381\n",
      "\n",
      "Average Recall: 0.07746305418719211\n",
      "\n",
      "Average F1-Score: 0.12210830105566946\n"
     ]
    }
   ],
   "source": [
    "ml.stratified_k_cross_validate(random_forest_opt,X,y,n_splits=10)"
   ]
  },
  {
   "cell_type": "markdown",
   "id": "7a471ca4",
   "metadata": {},
   "source": [
    "### Save Model"
   ]
  },
  {
   "cell_type": "code",
   "execution_count": 81,
   "id": "6e89475b",
   "metadata": {},
   "outputs": [],
   "source": [
    "final_random_forest_estimator = random_forest_grid"
   ]
  },
  {
   "cell_type": "code",
   "execution_count": 82,
   "id": "ea9c37ae",
   "metadata": {},
   "outputs": [
    {
     "name": "stdout",
     "output_type": "stream",
     "text": [
      "Saved Model\n"
     ]
    }
   ],
   "source": [
    "# Saving the model\n",
    "\n",
    "ml.save_model(final_random_forest_estimator, \"../Models/Anemia/Random_Forest_Classifier.pkl\")"
   ]
  },
  {
   "cell_type": "markdown",
   "id": "de59f229",
   "metadata": {},
   "source": [
    "## Prediction"
   ]
  },
  {
   "cell_type": "code",
   "execution_count": 83,
   "id": "67af8316",
   "metadata": {},
   "outputs": [
    {
     "name": "stdout",
     "output_type": "stream",
     "text": [
      "Instance:\n",
      " [-0.02862807  0.43725155 -0.22620931 -0.28612704 -0.44380087]\n",
      "\n",
      "Expected Class:  0\n",
      "\n",
      " Modified Instance:\n",
      " [-0.02862807  0.4653761  -0.10735372 -0.44024751 -0.45269579]\n",
      "\n",
      "Predicted Class:  [0]\n"
     ]
    }
   ],
   "source": [
    "# Predicting on perturbed values\n",
    "\n",
    "ml.predict_on_modified_instance(final_random_forest_estimator, X_test.iloc[0], y_test.iloc[0], 0.4)"
   ]
  },
  {
   "cell_type": "code",
   "execution_count": 88,
   "id": "a39b8dfe",
   "metadata": {},
   "outputs": [
    {
     "name": "stdout",
     "output_type": "stream",
     "text": [
      "Instance:\n",
      " [ 0.09421753  1.01660647 -0.39442247  0.57128929  0.17654491]\n",
      "\n",
      "Expected Class:  1\n",
      "\n",
      " Modified Instance:\n",
      " [ 0.09421753  0.87735195 -0.41765886  0.34315754  0.33692214]\n",
      "\n",
      "Predicted Class:  [0]\n"
     ]
    }
   ],
   "source": [
    "ml.predict_on_modified_instance(final_random_forest_estimator, X_test.iloc[49], y_test.iloc[49], 0.3)"
   ]
  }
 ],
 "metadata": {
  "kernelspec": {
   "display_name": "Python 3 (ipykernel)",
   "language": "python",
   "name": "python3"
  },
  "language_info": {
   "codemirror_mode": {
    "name": "ipython",
    "version": 3
   },
   "file_extension": ".py",
   "mimetype": "text/x-python",
   "name": "python",
   "nbconvert_exporter": "python",
   "pygments_lexer": "ipython3",
   "version": "3.10.12"
  }
 },
 "nbformat": 4,
 "nbformat_minor": 5
}
