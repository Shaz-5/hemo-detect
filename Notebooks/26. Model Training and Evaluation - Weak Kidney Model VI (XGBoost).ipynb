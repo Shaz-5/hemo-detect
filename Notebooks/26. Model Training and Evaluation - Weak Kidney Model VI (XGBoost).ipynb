{
 "cells": [
  {
   "cell_type": "markdown",
   "id": "d2acf9f1",
   "metadata": {},
   "source": [
    "# Weak Kindey XGB Classifier"
   ]
  },
  {
   "cell_type": "code",
   "execution_count": 1,
   "id": "5c1b7eb2",
   "metadata": {},
   "outputs": [],
   "source": [
    "import some_load_train_evaluate_functions as ml"
   ]
  },
  {
   "cell_type": "code",
   "execution_count": 2,
   "id": "6b4433ef",
   "metadata": {},
   "outputs": [
    {
     "name": "stdout",
     "output_type": "stream",
     "text": [
      "Connected to database successfully.\n"
     ]
    }
   ],
   "source": [
    "path = '../KG/db.env'\n",
    "\n",
    "driver = ml.connect_to_neo4j(path)"
   ]
  },
  {
   "cell_type": "markdown",
   "id": "4016e569",
   "metadata": {},
   "source": [
    "### Load Data"
   ]
  },
  {
   "cell_type": "code",
   "execution_count": 3,
   "id": "76bbe0fe",
   "metadata": {
    "scrolled": false
   },
   "outputs": [
    {
     "data": {
      "text/html": [
       "<div>\n",
       "<style scoped>\n",
       "    .dataframe tbody tr th:only-of-type {\n",
       "        vertical-align: middle;\n",
       "    }\n",
       "\n",
       "    .dataframe tbody tr th {\n",
       "        vertical-align: top;\n",
       "    }\n",
       "\n",
       "    .dataframe thead th {\n",
       "        text-align: right;\n",
       "    }\n",
       "</style>\n",
       "<table border=\"1\" class=\"dataframe\">\n",
       "  <thead>\n",
       "    <tr style=\"text-align: right;\">\n",
       "      <th></th>\n",
       "      <th>Respondent_ID</th>\n",
       "      <th>Gender</th>\n",
       "      <th>Age</th>\n",
       "      <th>BMI</th>\n",
       "      <th>25-hydroxyvitamin D2 + D3 [nmol/L]</th>\n",
       "      <th>A/G Ratio</th>\n",
       "      <th>Alpha-carotene [umol/L]</th>\n",
       "      <th>Alpha-crypotoxanthin [umol/L]</th>\n",
       "      <th>Alpha-tocopherol [umol/L]</th>\n",
       "      <th>Basophils [%]</th>\n",
       "      <th>...</th>\n",
       "      <th>Ferritin [ng/mL]</th>\n",
       "      <th>Gamma Glutamyl Transferase [IU/L]</th>\n",
       "      <th>Hemoglobin [g/dL]</th>\n",
       "      <th>Insulin [pmol/L]</th>\n",
       "      <th>LDL-Cholesterol(NIH2) [mmol/L]</th>\n",
       "      <th>Lactate Dehydrogenase [IU/L]</th>\n",
       "      <th>Transferrin Saturation [%]</th>\n",
       "      <th>Transferrin receptor [nmol/L]</th>\n",
       "      <th>Triglyceride [mmol/L]</th>\n",
       "      <th>Weak/Failing kidneys</th>\n",
       "    </tr>\n",
       "  </thead>\n",
       "  <tbody>\n",
       "    <tr>\n",
       "      <th>0</th>\n",
       "      <td>93705</td>\n",
       "      <td>0</td>\n",
       "      <td>66</td>\n",
       "      <td>31.7</td>\n",
       "      <td>89.9</td>\n",
       "      <td>1.517241</td>\n",
       "      <td>0.138</td>\n",
       "      <td>0.071</td>\n",
       "      <td>26.006</td>\n",
       "      <td>1.0</td>\n",
       "      <td>...</td>\n",
       "      <td>28.70</td>\n",
       "      <td>21.0</td>\n",
       "      <td>11.9</td>\n",
       "      <td>NaN</td>\n",
       "      <td>NaN</td>\n",
       "      <td>174.0</td>\n",
       "      <td>28.0</td>\n",
       "      <td>39.8</td>\n",
       "      <td>NaN</td>\n",
       "      <td>0</td>\n",
       "    </tr>\n",
       "    <tr>\n",
       "      <th>1</th>\n",
       "      <td>93708</td>\n",
       "      <td>0</td>\n",
       "      <td>66</td>\n",
       "      <td>23.7</td>\n",
       "      <td>116.0</td>\n",
       "      <td>1.218750</td>\n",
       "      <td>0.192</td>\n",
       "      <td>0.127</td>\n",
       "      <td>NaN</td>\n",
       "      <td>0.7</td>\n",
       "      <td>...</td>\n",
       "      <td>109.00</td>\n",
       "      <td>22.0</td>\n",
       "      <td>13.2</td>\n",
       "      <td>58.32</td>\n",
       "      <td>2.870</td>\n",
       "      <td>247.0</td>\n",
       "      <td>32.0</td>\n",
       "      <td>30.1</td>\n",
       "      <td>0.655</td>\n",
       "      <td>0</td>\n",
       "    </tr>\n",
       "    <tr>\n",
       "      <th>2</th>\n",
       "      <td>93709</td>\n",
       "      <td>0</td>\n",
       "      <td>75</td>\n",
       "      <td>38.9</td>\n",
       "      <td>72.8</td>\n",
       "      <td>1.121212</td>\n",
       "      <td>0.009</td>\n",
       "      <td>0.017</td>\n",
       "      <td>28.561</td>\n",
       "      <td>0.6</td>\n",
       "      <td>...</td>\n",
       "      <td>129.00</td>\n",
       "      <td>31.0</td>\n",
       "      <td>15.4</td>\n",
       "      <td>NaN</td>\n",
       "      <td>NaN</td>\n",
       "      <td>NaN</td>\n",
       "      <td>21.0</td>\n",
       "      <td>46.5</td>\n",
       "      <td>NaN</td>\n",
       "      <td>0</td>\n",
       "    </tr>\n",
       "    <tr>\n",
       "      <th>3</th>\n",
       "      <td>93711</td>\n",
       "      <td>1</td>\n",
       "      <td>56</td>\n",
       "      <td>21.3</td>\n",
       "      <td>165.0</td>\n",
       "      <td>1.290323</td>\n",
       "      <td>0.173</td>\n",
       "      <td>0.079</td>\n",
       "      <td>31.115</td>\n",
       "      <td>0.4</td>\n",
       "      <td>...</td>\n",
       "      <td>40.60</td>\n",
       "      <td>19.0</td>\n",
       "      <td>14.7</td>\n",
       "      <td>31.68</td>\n",
       "      <td>4.086</td>\n",
       "      <td>139.0</td>\n",
       "      <td>16.0</td>\n",
       "      <td>34.8</td>\n",
       "      <td>0.542</td>\n",
       "      <td>0</td>\n",
       "    </tr>\n",
       "    <tr>\n",
       "      <th>4</th>\n",
       "      <td>93713</td>\n",
       "      <td>1</td>\n",
       "      <td>67</td>\n",
       "      <td>23.5</td>\n",
       "      <td>63.5</td>\n",
       "      <td>2.047619</td>\n",
       "      <td>0.028</td>\n",
       "      <td>0.028</td>\n",
       "      <td>18.344</td>\n",
       "      <td>0.6</td>\n",
       "      <td>...</td>\n",
       "      <td>238.00</td>\n",
       "      <td>26.0</td>\n",
       "      <td>14.2</td>\n",
       "      <td>NaN</td>\n",
       "      <td>NaN</td>\n",
       "      <td>123.0</td>\n",
       "      <td>27.0</td>\n",
       "      <td>28.0</td>\n",
       "      <td>NaN</td>\n",
       "      <td>0</td>\n",
       "    </tr>\n",
       "    <tr>\n",
       "      <th>...</th>\n",
       "      <td>...</td>\n",
       "      <td>...</td>\n",
       "      <td>...</td>\n",
       "      <td>...</td>\n",
       "      <td>...</td>\n",
       "      <td>...</td>\n",
       "      <td>...</td>\n",
       "      <td>...</td>\n",
       "      <td>...</td>\n",
       "      <td>...</td>\n",
       "      <td>...</td>\n",
       "      <td>...</td>\n",
       "      <td>...</td>\n",
       "      <td>...</td>\n",
       "      <td>...</td>\n",
       "      <td>...</td>\n",
       "      <td>...</td>\n",
       "      <td>...</td>\n",
       "      <td>...</td>\n",
       "      <td>...</td>\n",
       "      <td>...</td>\n",
       "    </tr>\n",
       "    <tr>\n",
       "      <th>5555</th>\n",
       "      <td>102950</td>\n",
       "      <td>1</td>\n",
       "      <td>64</td>\n",
       "      <td>NaN</td>\n",
       "      <td>NaN</td>\n",
       "      <td>NaN</td>\n",
       "      <td>NaN</td>\n",
       "      <td>NaN</td>\n",
       "      <td>NaN</td>\n",
       "      <td>NaN</td>\n",
       "      <td>...</td>\n",
       "      <td>NaN</td>\n",
       "      <td>NaN</td>\n",
       "      <td>NaN</td>\n",
       "      <td>NaN</td>\n",
       "      <td>NaN</td>\n",
       "      <td>NaN</td>\n",
       "      <td>NaN</td>\n",
       "      <td>NaN</td>\n",
       "      <td>NaN</td>\n",
       "      <td>0</td>\n",
       "    </tr>\n",
       "    <tr>\n",
       "      <th>5556</th>\n",
       "      <td>102952</td>\n",
       "      <td>0</td>\n",
       "      <td>70</td>\n",
       "      <td>20.0</td>\n",
       "      <td>82.7</td>\n",
       "      <td>1.846154</td>\n",
       "      <td>0.235</td>\n",
       "      <td>0.077</td>\n",
       "      <td>31.347</td>\n",
       "      <td>0.6</td>\n",
       "      <td>...</td>\n",
       "      <td>135.00</td>\n",
       "      <td>18.0</td>\n",
       "      <td>13.4</td>\n",
       "      <td>26.34</td>\n",
       "      <td>1.112</td>\n",
       "      <td>168.0</td>\n",
       "      <td>39.0</td>\n",
       "      <td>29.1</td>\n",
       "      <td>0.881</td>\n",
       "      <td>0</td>\n",
       "    </tr>\n",
       "    <tr>\n",
       "      <th>5557</th>\n",
       "      <td>102953</td>\n",
       "      <td>1</td>\n",
       "      <td>42</td>\n",
       "      <td>35.8</td>\n",
       "      <td>49.5</td>\n",
       "      <td>1.142857</td>\n",
       "      <td>0.106</td>\n",
       "      <td>0.080</td>\n",
       "      <td>21.873</td>\n",
       "      <td>0.6</td>\n",
       "      <td>...</td>\n",
       "      <td>120.00</td>\n",
       "      <td>28.0</td>\n",
       "      <td>15.5</td>\n",
       "      <td>NaN</td>\n",
       "      <td>NaN</td>\n",
       "      <td>136.0</td>\n",
       "      <td>20.0</td>\n",
       "      <td>28.6</td>\n",
       "      <td>NaN</td>\n",
       "      <td>0</td>\n",
       "    </tr>\n",
       "    <tr>\n",
       "      <th>5558</th>\n",
       "      <td>102954</td>\n",
       "      <td>0</td>\n",
       "      <td>41</td>\n",
       "      <td>26.1</td>\n",
       "      <td>50.5</td>\n",
       "      <td>1.500000</td>\n",
       "      <td>0.117</td>\n",
       "      <td>0.056</td>\n",
       "      <td>26.935</td>\n",
       "      <td>1.4</td>\n",
       "      <td>...</td>\n",
       "      <td>1.99</td>\n",
       "      <td>8.0</td>\n",
       "      <td>6.4</td>\n",
       "      <td>56.94</td>\n",
       "      <td>2.793</td>\n",
       "      <td>123.0</td>\n",
       "      <td>5.0</td>\n",
       "      <td>248.0</td>\n",
       "      <td>0.553</td>\n",
       "      <td>0</td>\n",
       "    </tr>\n",
       "    <tr>\n",
       "      <th>5559</th>\n",
       "      <td>102956</td>\n",
       "      <td>1</td>\n",
       "      <td>38</td>\n",
       "      <td>36.1</td>\n",
       "      <td>58.9</td>\n",
       "      <td>1.482759</td>\n",
       "      <td>0.026</td>\n",
       "      <td>0.038</td>\n",
       "      <td>21.177</td>\n",
       "      <td>1.0</td>\n",
       "      <td>...</td>\n",
       "      <td>553.00</td>\n",
       "      <td>72.0</td>\n",
       "      <td>17.4</td>\n",
       "      <td>634.38</td>\n",
       "      <td>2.172</td>\n",
       "      <td>134.0</td>\n",
       "      <td>35.0</td>\n",
       "      <td>23.4</td>\n",
       "      <td>3.037</td>\n",
       "      <td>0</td>\n",
       "    </tr>\n",
       "  </tbody>\n",
       "</table>\n",
       "<p>5560 rows × 91 columns</p>\n",
       "</div>"
      ],
      "text/plain": [
       "      Respondent_ID  Gender  Age   BMI  25-hydroxyvitamin D2 + D3 [nmol/L]  \\\n",
       "0             93705       0   66  31.7                                89.9   \n",
       "1             93708       0   66  23.7                               116.0   \n",
       "2             93709       0   75  38.9                                72.8   \n",
       "3             93711       1   56  21.3                               165.0   \n",
       "4             93713       1   67  23.5                                63.5   \n",
       "...             ...     ...  ...   ...                                 ...   \n",
       "5555         102950       1   64   NaN                                 NaN   \n",
       "5556         102952       0   70  20.0                                82.7   \n",
       "5557         102953       1   42  35.8                                49.5   \n",
       "5558         102954       0   41  26.1                                50.5   \n",
       "5559         102956       1   38  36.1                                58.9   \n",
       "\n",
       "      A/G Ratio  Alpha-carotene [umol/L]  Alpha-crypotoxanthin [umol/L]  \\\n",
       "0      1.517241                    0.138                          0.071   \n",
       "1      1.218750                    0.192                          0.127   \n",
       "2      1.121212                    0.009                          0.017   \n",
       "3      1.290323                    0.173                          0.079   \n",
       "4      2.047619                    0.028                          0.028   \n",
       "...         ...                      ...                            ...   \n",
       "5555        NaN                      NaN                            NaN   \n",
       "5556   1.846154                    0.235                          0.077   \n",
       "5557   1.142857                    0.106                          0.080   \n",
       "5558   1.500000                    0.117                          0.056   \n",
       "5559   1.482759                    0.026                          0.038   \n",
       "\n",
       "      Alpha-tocopherol [umol/L]  Basophils [%]  ...  Ferritin [ng/mL]  \\\n",
       "0                        26.006            1.0  ...             28.70   \n",
       "1                           NaN            0.7  ...            109.00   \n",
       "2                        28.561            0.6  ...            129.00   \n",
       "3                        31.115            0.4  ...             40.60   \n",
       "4                        18.344            0.6  ...            238.00   \n",
       "...                         ...            ...  ...               ...   \n",
       "5555                        NaN            NaN  ...               NaN   \n",
       "5556                     31.347            0.6  ...            135.00   \n",
       "5557                     21.873            0.6  ...            120.00   \n",
       "5558                     26.935            1.4  ...              1.99   \n",
       "5559                     21.177            1.0  ...            553.00   \n",
       "\n",
       "      Gamma Glutamyl Transferase [IU/L]  Hemoglobin [g/dL]  Insulin [pmol/L]  \\\n",
       "0                                  21.0               11.9               NaN   \n",
       "1                                  22.0               13.2             58.32   \n",
       "2                                  31.0               15.4               NaN   \n",
       "3                                  19.0               14.7             31.68   \n",
       "4                                  26.0               14.2               NaN   \n",
       "...                                 ...                ...               ...   \n",
       "5555                                NaN                NaN               NaN   \n",
       "5556                               18.0               13.4             26.34   \n",
       "5557                               28.0               15.5               NaN   \n",
       "5558                                8.0                6.4             56.94   \n",
       "5559                               72.0               17.4            634.38   \n",
       "\n",
       "      LDL-Cholesterol(NIH2) [mmol/L]  Lactate Dehydrogenase [IU/L]  \\\n",
       "0                                NaN                         174.0   \n",
       "1                              2.870                         247.0   \n",
       "2                                NaN                           NaN   \n",
       "3                              4.086                         139.0   \n",
       "4                                NaN                         123.0   \n",
       "...                              ...                           ...   \n",
       "5555                             NaN                           NaN   \n",
       "5556                           1.112                         168.0   \n",
       "5557                             NaN                         136.0   \n",
       "5558                           2.793                         123.0   \n",
       "5559                           2.172                         134.0   \n",
       "\n",
       "      Transferrin Saturation [%]  Transferrin receptor [nmol/L]  \\\n",
       "0                           28.0                           39.8   \n",
       "1                           32.0                           30.1   \n",
       "2                           21.0                           46.5   \n",
       "3                           16.0                           34.8   \n",
       "4                           27.0                           28.0   \n",
       "...                          ...                            ...   \n",
       "5555                         NaN                            NaN   \n",
       "5556                        39.0                           29.1   \n",
       "5557                        20.0                           28.6   \n",
       "5558                         5.0                          248.0   \n",
       "5559                        35.0                           23.4   \n",
       "\n",
       "      Triglyceride [mmol/L]  Weak/Failing kidneys  \n",
       "0                       NaN                     0  \n",
       "1                     0.655                     0  \n",
       "2                       NaN                     0  \n",
       "3                     0.542                     0  \n",
       "4                       NaN                     0  \n",
       "...                     ...                   ...  \n",
       "5555                    NaN                     0  \n",
       "5556                  0.881                     0  \n",
       "5557                    NaN                     0  \n",
       "5558                  0.553                     0  \n",
       "5559                  3.037                     0  \n",
       "\n",
       "[5560 rows x 91 columns]"
      ]
     },
     "execution_count": 3,
     "metadata": {},
     "output_type": "execute_result"
    }
   ],
   "source": [
    "# Weak/Failing kidneys data\n",
    "\n",
    "weak_kidney_df = ml.get_data_of_disease(driver, 'Weak/Failing kidneys')\n",
    "weak_kidney_df"
   ]
  },
  {
   "cell_type": "markdown",
   "id": "6578093d",
   "metadata": {},
   "source": [
    "### Training"
   ]
  },
  {
   "cell_type": "code",
   "execution_count": 4,
   "id": "995292f6",
   "metadata": {},
   "outputs": [
    {
     "name": "stdout",
     "output_type": "stream",
     "text": [
      "Training Accuracy:  0.997751798561151\n",
      "Testing Accuracy:  0.9991007194244604\n"
     ]
    }
   ],
   "source": [
    "xg_boost = ml.XGBClassifier()\n",
    "\n",
    "# Attributes and Labels\n",
    "\n",
    "X, y, X_train, X_val, X_test, y_train, y_val, y_test = ml.preprocess_and_split(df = weak_kidney_df, label = 'Weak/Failing kidneys',\n",
    "                                                              impute = True, scale=True,\n",
    "                                                              imputer=ml.SimpleImputer(strategy='mean'),\n",
    "                                                              random_state=42)\n",
    "\n",
    "# Training\n",
    "\n",
    "xg_boost.fit(X_train.values, y_train.values)\n",
    "\n",
    "# Accuracy scores\n",
    "\n",
    "y_pred = xg_boost.predict(X_val)\n",
    "\n",
    "print('Training Accuracy: ',ml.accuracy_score(y_train, xg_boost.predict(X_train)))\n",
    "\n",
    "print('Testing Accuracy: ',ml.accuracy_score(y_val, y_pred))"
   ]
  },
  {
   "cell_type": "markdown",
   "id": "44142f21",
   "metadata": {},
   "source": [
    "## Feature Selection"
   ]
  },
  {
   "cell_type": "markdown",
   "id": "c60fc52a",
   "metadata": {},
   "source": [
    "### Correlation Analysis"
   ]
  },
  {
   "cell_type": "code",
   "execution_count": 5,
   "id": "a8302272",
   "metadata": {},
   "outputs": [],
   "source": [
    "xg_boost_test = ml.XGBClassifier()"
   ]
  },
  {
   "cell_type": "code",
   "execution_count": 6,
   "id": "4bf4ee40",
   "metadata": {},
   "outputs": [
    {
     "data": {
      "text/plain": [
       "['Creatinine [mg/dL]',\n",
       " 'Blood Urea Nitrogen [mg/dL]',\n",
       " 'Retinol [umol/L]',\n",
       " 'Osmolality [mmol/Kg]',\n",
       " 'Age',\n",
       " 'Ferritin [ng/mL]',\n",
       " 'Uric Acid [mg/dL]',\n",
       " '25-hydroxyvitamin D2 + D3 [nmol/L]',\n",
       " 'Chromium [nmol/L]',\n",
       " 'Insulin [pmol/L]',\n",
       " 'Potassium [mmol/L]',\n",
       " 'Red cell distribution width [%]',\n",
       " 'Neutrophil_Lymphocyte Ratio',\n",
       " 'Lactate Dehydrogenase [IU/L]',\n",
       " 'Blood lead [umol/L]',\n",
       " 'C-Reactive Protein [mg/L]',\n",
       " 'Glycohemoglobin [%]',\n",
       " 'Fasting Glucose [mmol/L]',\n",
       " 'Alkaline Phosphatase [IU/L]',\n",
       " 'Monocyte [%]',\n",
       " 'Segmented neutrophils [%]',\n",
       " 'BMI',\n",
       " 'Platelet_Lymphocyte Ratio',\n",
       " 'Eosinophils [%]',\n",
       " 'Globulin [g/dL]',\n",
       " 'Mean cell volume [fL]',\n",
       " 'Transferrin receptor [nmol/L]',\n",
       " 'Systemic Immune‐inflammation Index (SII)',\n",
       " 'Basophils [%]',\n",
       " 'Gamma Glutamyl Transferase [IU/L]']"
      ]
     },
     "execution_count": 6,
     "metadata": {},
     "output_type": "execute_result"
    }
   ],
   "source": [
    "pos_corr, neg_corr = ml.get_correlated_features(weak_kidney_df,'Weak/Failing kidneys',pos=0.0,neg=-0.0)\n",
    "\n",
    "corr_features = list(pos_corr.keys()[1:]) + list(neg_corr.keys())\n",
    "corr_features.remove('Respondent_ID')\n",
    "\n",
    "corr_features[:30]"
   ]
  },
  {
   "cell_type": "code",
   "execution_count": 7,
   "id": "34987aa0",
   "metadata": {},
   "outputs": [
    {
     "name": "stdout",
     "output_type": "stream",
     "text": [
      "\n",
      "Train Accuracy: 0.998\n",
      "\n",
      "Test Accuracy: 0.999\n",
      "\n",
      "Precision: 1.000\n",
      "\n",
      "Recall: 0.978\n",
      "\n",
      "F1-Score: 0.989\n"
     ]
    }
   ],
   "source": [
    "ml.evaluate_feature_set(corr_features, xg_boost_test, X_train, y_train, X_val, y_val, val=True)"
   ]
  },
  {
   "cell_type": "markdown",
   "id": "9df33603",
   "metadata": {},
   "source": [
    "### SelectFromModel"
   ]
  },
  {
   "cell_type": "code",
   "execution_count": 8,
   "id": "a245d928",
   "metadata": {},
   "outputs": [
    {
     "data": {
      "text/plain": [
       "['Age',\n",
       " 'BMI',\n",
       " '25-hydroxyvitamin D2 + D3 [nmol/L]',\n",
       " 'Alpha-crypotoxanthin [umol/L]',\n",
       " 'Blood Urea Nitrogen [mg/dL]',\n",
       " 'Blood manganese [nmol/L]',\n",
       " 'Creatinine [mg/dL]',\n",
       " 'Eosinophils [%]',\n",
       " 'Lymphocyte_C-Reactive Protein Ratio',\n",
       " 'Osmolality [mmol/Kg]',\n",
       " 'Retinol [umol/L]',\n",
       " 'Total Iron Binding Capacity [umol/L]',\n",
       " 'Uric Acid [mg/dL]',\n",
       " 'Vitamin C [umol/L]',\n",
       " 'Alanine Aminotransferase [U/L]',\n",
       " 'Creatine Phosphokinase [IU/L]',\n",
       " 'Ferritin [ng/mL]',\n",
       " 'Lactate Dehydrogenase [IU/L]',\n",
       " 'Transferrin receptor [nmol/L]']"
      ]
     },
     "execution_count": 8,
     "metadata": {},
     "output_type": "execute_result"
    }
   ],
   "source": [
    "sfm_features = ml.select_from_model_features(ml.RandomForestClassifier(),X,y)\n",
    "sfm_features"
   ]
  },
  {
   "cell_type": "code",
   "execution_count": 9,
   "id": "17b4d45b",
   "metadata": {},
   "outputs": [
    {
     "name": "stdout",
     "output_type": "stream",
     "text": [
      "\n",
      "Train Accuracy: 0.997\n",
      "\n",
      "Test Accuracy: 0.999\n",
      "\n",
      "Precision: 1.000\n",
      "\n",
      "Recall: 0.978\n",
      "\n",
      "F1-Score: 0.989\n"
     ]
    }
   ],
   "source": [
    "sfm_features = list(sfm_features)\n",
    "\n",
    "ml.evaluate_feature_set(sfm_features, xg_boost_test, X_train, y_train, X_val, y_val, val=True)"
   ]
  },
  {
   "cell_type": "markdown",
   "id": "15f3ce0f",
   "metadata": {},
   "source": [
    "### SelectKBest"
   ]
  },
  {
   "cell_type": "code",
   "execution_count": 10,
   "id": "238022df",
   "metadata": {},
   "outputs": [
    {
     "data": {
      "text/plain": [
       "['Creatinine [mg/dL]',\n",
       " 'Blood Urea Nitrogen [mg/dL]',\n",
       " 'Retinol [umol/L]',\n",
       " 'Age',\n",
       " 'Osmolality [mmol/Kg]',\n",
       " 'Ferritin [ng/mL]',\n",
       " 'RBC count [million cells/uL]',\n",
       " 'Uric Acid [mg/dL]',\n",
       " '25-hydroxyvitamin D2 + D3 [nmol/L]',\n",
       " 'Hematocrit [%]',\n",
       " 'Hemoglobin [g/dL]',\n",
       " 'Albumin [g/dL]',\n",
       " 'Lymphocyte [%]',\n",
       " 'Potassium [mmol/L]',\n",
       " 'Chromium [nmol/L]',\n",
       " 'Total Iron Binding Capacity [umol/L]',\n",
       " 'Red cell distribution width [%]',\n",
       " 'Neutrophil_Lymphocyte Ratio',\n",
       " 'Lactate Dehydrogenase [IU/L]',\n",
       " 'Blood lead [umol/L]',\n",
       " 'C-Reactive Protein [mg/L]',\n",
       " 'A/G Ratio',\n",
       " 'Glycohemoglobin [%]',\n",
       " 'Total Lycopene [umol/L]',\n",
       " 'Alkaline Phosphatase [IU/L]',\n",
       " 'Trans-lycopene [umol/L]',\n",
       " 'Lymphocyte_Monocyte Ratio',\n",
       " 'Insulin [pmol/L]',\n",
       " 'Alpha-crypotoxanthin [umol/L]',\n",
       " 'Monocyte [%]']"
      ]
     },
     "execution_count": 10,
     "metadata": {},
     "output_type": "execute_result"
    }
   ],
   "source": [
    "k_best_features = ml.select_k_best(X, y, n=30)\n",
    "k_best_features[:30]"
   ]
  },
  {
   "cell_type": "code",
   "execution_count": 11,
   "id": "b756eeaa",
   "metadata": {},
   "outputs": [
    {
     "name": "stdout",
     "output_type": "stream",
     "text": [
      "\n",
      "Train Accuracy: 0.997\n",
      "\n",
      "Test Accuracy: 0.999\n",
      "\n",
      "Precision: 1.000\n",
      "\n",
      "Recall: 0.967\n",
      "\n",
      "F1-Score: 0.983\n"
     ]
    }
   ],
   "source": [
    "ml.evaluate_feature_set(k_best_features[:30], xg_boost_test, X_train, y_train, X_val, y_val, val=True)"
   ]
  },
  {
   "cell_type": "markdown",
   "id": "933ccbc1",
   "metadata": {},
   "source": [
    "### Recursive Feature Elimination (RFE) "
   ]
  },
  {
   "cell_type": "code",
   "execution_count": 12,
   "id": "82685afa",
   "metadata": {},
   "outputs": [
    {
     "data": {
      "text/plain": [
       "['Iron [ug/dL]',\n",
       " 'Alanine Aminotransferase [U/L]',\n",
       " 'LDL_HDL Ratio',\n",
       " 'Albumin [g/dL]',\n",
       " 'Trans-beta-carotene [umol/L]',\n",
       " 'Alkaline Phosphatase [IU/L]',\n",
       " 'Hematocrit [%]',\n",
       " 'Non_HDL Ratio',\n",
       " 'Osmolality [mmol/Kg]',\n",
       " 'Fasting Glucose [mmol/L]',\n",
       " 'Eosinophils [%]',\n",
       " 'Creatinine [mg/dL]',\n",
       " 'Platelet count [1000 cells/uL]',\n",
       " 'Triglyceride_HDL Ratio',\n",
       " 'Chromium [nmol/L]',\n",
       " 'Cis-beta-carotene [umol/L]',\n",
       " 'Creatine Phosphokinase [IU/L]',\n",
       " 'Retinyl palmitate [umol/L]',\n",
       " 'Retinol [umol/L]',\n",
       " 'A/G Ratio',\n",
       " 'Red cell distribution width [%]',\n",
       " 'Alpha-crypotoxanthin [umol/L]',\n",
       " 'Chloride [mmol/L]',\n",
       " 'RBC count [million cells/uL]',\n",
       " 'Platelet_WBC Ratio',\n",
       " 'Blood Urea Nitrogen [mg/dL]',\n",
       " 'Ferritin [ng/mL]',\n",
       " 'Blood lead [umol/L]',\n",
       " 'Platelet_Lymphocyte Ratio',\n",
       " 'Mean cell hemoglobin [pg]']"
      ]
     },
     "execution_count": 12,
     "metadata": {},
     "output_type": "execute_result"
    }
   ],
   "source": [
    "rfe_features = ml.select_rfe_features(ml.XGBClassifier(),X,y,n=30,step=0.5)\n",
    "rfe_features[:30]"
   ]
  },
  {
   "cell_type": "code",
   "execution_count": 13,
   "id": "8db8aa72",
   "metadata": {},
   "outputs": [
    {
     "name": "stdout",
     "output_type": "stream",
     "text": [
      "\n",
      "Train Accuracy: 0.997\n",
      "\n",
      "Test Accuracy: 0.999\n",
      "\n",
      "Precision: 1.000\n",
      "\n",
      "Recall: 0.967\n",
      "\n",
      "F1-Score: 0.983\n"
     ]
    }
   ],
   "source": [
    "ml.evaluate_feature_set(rfe_features[:30], xg_boost_test, X_train, y_train, X_val, y_val, val=True)"
   ]
  },
  {
   "cell_type": "markdown",
   "id": "85827a38",
   "metadata": {},
   "source": [
    "### Lasso Regularization"
   ]
  },
  {
   "cell_type": "code",
   "execution_count": 14,
   "id": "f7a2dee7",
   "metadata": {},
   "outputs": [
    {
     "data": {
      "text/plain": [
       "['Creatinine [mg/dL]',\n",
       " 'Gender',\n",
       " 'Age',\n",
       " 'LDL_HDL Ratio',\n",
       " 'Retinol [umol/L]',\n",
       " 'Platelet_Lymphocyte Ratio',\n",
       " '25-hydroxyvitamin D2 + D3 [nmol/L]',\n",
       " 'Beta-cryptoxanthin [umol/L]',\n",
       " 'Ferritin [ng/mL]',\n",
       " 'Phosphorus [mg/dL]',\n",
       " 'Aspartate Aminotransferase [U/L]',\n",
       " 'Vitamin C [umol/L]',\n",
       " 'Alanine Aminotransferase [U/L]',\n",
       " 'Alkaline Phosphatase [IU/L]',\n",
       " 'Lutein and zeaxanthin [umol/L]',\n",
       " 'Total Bilirubin [mg/dL]',\n",
       " 'Bicarbonate [mmol/L]',\n",
       " 'Alpha-tocopherol [umol/L]',\n",
       " 'Blood lead [umol/L]',\n",
       " 'Total Lycopene [umol/L]',\n",
       " 'A/G Ratio',\n",
       " 'Blood Urea Nitrogen [mg/dL]',\n",
       " 'Blood selenium [umol/L]',\n",
       " 'Uric Acid [mg/dL]',\n",
       " 'Transferrin receptor [nmol/L]',\n",
       " 'Platelet_WBC Ratio',\n",
       " 'Iron frozen [umol/L]',\n",
       " 'White blood cell count [1000 cells/uL]',\n",
       " 'Nucleated RBCs',\n",
       " 'Iron [ug/dL]']"
      ]
     },
     "execution_count": 14,
     "metadata": {},
     "output_type": "execute_result"
    }
   ],
   "source": [
    "l1_selected_features = ml.log_reg_lasso_select(X_train, y_train)\n",
    "l1_selected_features[:30]"
   ]
  },
  {
   "cell_type": "code",
   "execution_count": 15,
   "id": "1b685cc9",
   "metadata": {},
   "outputs": [
    {
     "name": "stdout",
     "output_type": "stream",
     "text": [
      "\n",
      "Train Accuracy: 0.997\n",
      "\n",
      "Test Accuracy: 0.999\n",
      "\n",
      "Precision: 1.000\n",
      "\n",
      "Recall: 0.967\n",
      "\n",
      "F1-Score: 0.983\n"
     ]
    }
   ],
   "source": [
    "ml.evaluate_feature_set(l1_selected_features[:30], xg_boost_test, X_train, y_train, X_val, y_val, val=True)"
   ]
  },
  {
   "cell_type": "markdown",
   "id": "a37796b0",
   "metadata": {},
   "source": [
    "### Relief F"
   ]
  },
  {
   "cell_type": "code",
   "execution_count": 16,
   "id": "bfb3ec54",
   "metadata": {},
   "outputs": [],
   "source": [
    "relieff_features = ml.relief_feature_select(30,X,y)"
   ]
  },
  {
   "cell_type": "code",
   "execution_count": 17,
   "id": "fc600c21",
   "metadata": {},
   "outputs": [
    {
     "data": {
      "text/plain": [
       "['Nucleated RBCs',\n",
       " 'Creatinine [mg/dL]',\n",
       " 'Blood Urea Nitrogen [mg/dL]',\n",
       " 'Age',\n",
       " 'Hemoglobin [g/dL]',\n",
       " 'Hematocrit [%]',\n",
       " 'Osmolality [mmol/Kg]',\n",
       " 'Retinol [umol/L]',\n",
       " 'Total Cholesterol [mmol/L]',\n",
       " 'RBC count [million cells/uL]',\n",
       " 'Uric Acid [mg/dL]',\n",
       " 'Non_HDL Ratio',\n",
       " '25-hydroxyvitamin D2 + D3 [nmol/L]',\n",
       " 'Neutrophil_Lymphocyte Ratio',\n",
       " 'Lymphocyte [%]',\n",
       " 'Albumin [g/dL]',\n",
       " 'Gender',\n",
       " 'Transferrin Saturation [%]',\n",
       " 'Chloride [mmol/L]',\n",
       " 'UIBC [umol/L]',\n",
       " 'Glycohemoglobin [%]',\n",
       " 'Red cell distribution width [%]',\n",
       " 'Globulin [g/dL]',\n",
       " 'Total Protein [g/dL]',\n",
       " 'A/G Ratio',\n",
       " 'Segmented neutrophils [%]',\n",
       " 'Total Lycopene [umol/L]',\n",
       " 'Alpha-tocopherol [umol/L]',\n",
       " 'Total Iron Binding Capacity [umol/L]',\n",
       " 'Iron frozen [umol/L]']"
      ]
     },
     "execution_count": 17,
     "metadata": {},
     "output_type": "execute_result"
    }
   ],
   "source": [
    "relieff_features[:30]"
   ]
  },
  {
   "cell_type": "code",
   "execution_count": 18,
   "id": "8f76d0da",
   "metadata": {},
   "outputs": [
    {
     "name": "stdout",
     "output_type": "stream",
     "text": [
      "\n",
      "Train Accuracy: 0.997\n",
      "\n",
      "Test Accuracy: 0.999\n",
      "\n",
      "Precision: 1.000\n",
      "\n",
      "Recall: 0.967\n",
      "\n",
      "F1-Score: 0.983\n"
     ]
    }
   ],
   "source": [
    "ml.evaluate_feature_set(relieff_features[:30], xg_boost_test, X_train, y_train, X_val, y_val, val=True)"
   ]
  },
  {
   "cell_type": "markdown",
   "id": "c706d6d7",
   "metadata": {},
   "source": [
    "### XGBoost Feature Importances"
   ]
  },
  {
   "cell_type": "code",
   "execution_count": 19,
   "id": "ffa6015c",
   "metadata": {},
   "outputs": [],
   "source": [
    "def get_xgb_features(model, X_train):\n",
    "    \n",
    "    xgb_features = ml.pd.DataFrame(model.feature_importances_, index=X_train.columns,\n",
    "                                             columns=['Importance'])\n",
    "    xgb_features = xgb_features.sort_values('Importance', ascending=False)\n",
    "    xgb_features = list(xgb_features.index)\n",
    "    \n",
    "    return xgb_features"
   ]
  },
  {
   "cell_type": "code",
   "execution_count": 20,
   "id": "85c5e4e0",
   "metadata": {},
   "outputs": [
    {
     "data": {
      "text/plain": [
       "['Creatinine [mg/dL]',\n",
       " 'LDL-Cholesterol(NIH2) [mmol/L]',\n",
       " 'Blood Urea Nitrogen [mg/dL]',\n",
       " 'Chloride [mmol/L]',\n",
       " 'Eosinophils [%]',\n",
       " 'Lymphocyte_Monocyte Ratio',\n",
       " 'Red cell distribution width [%]',\n",
       " 'Creatine Phosphokinase [IU/L]',\n",
       " 'A/G Ratio',\n",
       " 'Platelet_WBC Ratio',\n",
       " 'Mean cell volume [fL]',\n",
       " 'Retinyl palmitate [umol/L]',\n",
       " 'Blood lead [umol/L]',\n",
       " 'Sodium [mmol/L]',\n",
       " 'Alanine Aminotransferase [U/L]',\n",
       " 'Total Bilirubin [mg/dL]',\n",
       " '25-hydroxyvitamin D2 + D3 [nmol/L]',\n",
       " 'Mean platelet volume [fL]',\n",
       " 'Alkaline Phosphatase [IU/L]',\n",
       " 'Globulin [g/dL]',\n",
       " 'Iron frozen [umol/L]',\n",
       " 'Neutrophil_Lymphocyte Ratio',\n",
       " 'Ferritin [ng/mL]',\n",
       " 'Basophils [%]',\n",
       " 'Triglyceride [mmol/L]',\n",
       " 'Beta-cryptoxanthin [umol/L]',\n",
       " 'Transferrin Saturation [%]',\n",
       " 'RBC count [million cells/uL]',\n",
       " 'Retinol [umol/L]',\n",
       " 'C-Reactive Protein [mg/L]']"
      ]
     },
     "execution_count": 20,
     "metadata": {},
     "output_type": "execute_result"
    }
   ],
   "source": [
    "xgb_features = get_xgb_features(xg_boost, X_train)\n",
    "xgb_features[:30]"
   ]
  },
  {
   "cell_type": "code",
   "execution_count": 21,
   "id": "a507b5b2",
   "metadata": {},
   "outputs": [
    {
     "name": "stdout",
     "output_type": "stream",
     "text": [
      "\n",
      "Train Accuracy: 0.998\n",
      "\n",
      "Test Accuracy: 0.999\n",
      "\n",
      "Precision: 1.000\n",
      "\n",
      "Recall: 0.978\n",
      "\n",
      "F1-Score: 0.989\n"
     ]
    }
   ],
   "source": [
    "ml.evaluate_feature_set(xgb_features, xg_boost_test, X_train, y_train, X_val, y_val, val=True)"
   ]
  },
  {
   "cell_type": "markdown",
   "id": "ec970811",
   "metadata": {},
   "source": [
    "### Optimal no. of features"
   ]
  },
  {
   "cell_type": "code",
   "execution_count": 22,
   "id": "230770c2",
   "metadata": {},
   "outputs": [],
   "source": [
    "final_features = list(xgb_features)\n",
    "\n",
    "xg_boost_test = ml.XGBClassifier()"
   ]
  },
  {
   "cell_type": "code",
   "execution_count": 23,
   "id": "d3297886",
   "metadata": {},
   "outputs": [
    {
     "name": "stderr",
     "output_type": "stream",
     "text": [
      "Finding optimal no. of features..: 100%|████████| 85/85 [01:56<00:00,  1.37s/it]"
     ]
    },
    {
     "name": "stdout",
     "output_type": "stream",
     "text": [
      "\n",
      "Maximum f1 = 0.3651 for 21 features\n"
     ]
    },
    {
     "name": "stderr",
     "output_type": "stream",
     "text": [
      "\n"
     ]
    },
    {
     "data": {
      "image/png": "[encoded data removed]",
      "text/plain": [
       "<Figure size 1000x700 with 1 Axes>"
      ]
     },
     "metadata": {},
     "output_type": "display_data"
    }
   ],
   "source": [
    "# Optimal no. of features\n",
    "\n",
    "ml.plot_num_feature_performance(xg_boost_test,  X, y, final_features, scoring='f1', val=True)"
   ]
  },
  {
   "cell_type": "code",
   "execution_count": 24,
   "id": "cdd1c71c",
   "metadata": {},
   "outputs": [
    {
     "name": "stderr",
     "output_type": "stream",
     "text": [
      "Finding optimal no. of features..: 100%|████████| 85/85 [02:04<00:00,  1.46s/it]"
     ]
    },
    {
     "name": "stdout",
     "output_type": "stream",
     "text": [
      "\n",
      "Maximum recall = 0.2559 for 21 features\n"
     ]
    },
    {
     "name": "stderr",
     "output_type": "stream",
     "text": [
      "\n"
     ]
    },
    {
     "data": {
      "image/png": "[encoded data removed]",
      "text/plain": [
       "<Figure size 1000x700 with 1 Axes>"
      ]
     },
     "metadata": {},
     "output_type": "display_data"
    }
   ],
   "source": [
    "# Optimal no. of features\n",
    "\n",
    "ml.plot_num_feature_performance(xg_boost_test,  X, y, final_features, scoring='recall', val=True)"
   ]
  },
  {
   "cell_type": "code",
   "execution_count": 25,
   "id": "27de64c6",
   "metadata": {},
   "outputs": [],
   "source": [
    "num_features = 21\n",
    "\n",
    "selected = final_features[:num_features]\n",
    "selected.append('Weak/Failing kidneys')\n",
    "\n",
    "weak_kidney_df = weak_kidney_df[selected]"
   ]
  },
  {
   "cell_type": "code",
   "execution_count": 26,
   "id": "ef297d13",
   "metadata": {},
   "outputs": [],
   "source": [
    "# Save feature set\n",
    "    \n",
    "with open('../Models/Weak kidneys/Feature Sets/XG Boost Features.pkl', 'wb') as f:\n",
    "    ml.pickle.dump(selected, f)"
   ]
  },
  {
   "cell_type": "markdown",
   "id": "cd4a3a33",
   "metadata": {},
   "source": [
    "## Preprocessing"
   ]
  },
  {
   "cell_type": "markdown",
   "id": "32c7f0b2",
   "metadata": {},
   "source": [
    "### Zero Imputation"
   ]
  },
  {
   "cell_type": "code",
   "execution_count": 27,
   "id": "24b09db9",
   "metadata": {},
   "outputs": [],
   "source": [
    "# Imputing null values with zeroes\n",
    "\n",
    "X, y, X_train, X_val, X_test, y_train, y_val, y_test = ml.preprocess_and_split(df = weak_kidney_df, label = 'Weak/Failing kidneys',\n",
    "                                                        impute = True, scale=True,\n",
    "                                                        imputer=ml.SimpleImputer(strategy='constant',fill_value=0),\n",
    "                                                        random_state=42)"
   ]
  },
  {
   "cell_type": "code",
   "execution_count": 28,
   "id": "fd4250b4",
   "metadata": {},
   "outputs": [
    {
     "name": "stdout",
     "output_type": "stream",
     "text": [
      "\n",
      "Train Accuracy: 0.997\n",
      "\n",
      "Test Accuracy: 0.999\n",
      "\n",
      "Precision: 1.000\n",
      "\n",
      "Recall: 0.967\n",
      "\n",
      "F1-Score: 0.983\n"
     ]
    }
   ],
   "source": [
    "xg_boost.fit(X_train.values, y_train.values)\n",
    "\n",
    "ml.evaluate_model_metrics(xg_boost,X_train,y_train,X_val,y_val)"
   ]
  },
  {
   "cell_type": "markdown",
   "id": "1877522f",
   "metadata": {},
   "source": [
    "### Mode Imputation"
   ]
  },
  {
   "cell_type": "code",
   "execution_count": 29,
   "id": "fcca0b91",
   "metadata": {},
   "outputs": [],
   "source": [
    "# Imputing with most frequent values\n",
    "\n",
    "X, y, X_train, X_val, X_test, y_train, y_val, y_test = ml.preprocess_and_split(df = weak_kidney_df, label = 'Weak/Failing kidneys',\n",
    "                                                              impute = True, scale=True,\n",
    "                                                              imputer=ml.SimpleImputer(strategy='most_frequent'),\n",
    "                                                              random_state=42)"
   ]
  },
  {
   "cell_type": "code",
   "execution_count": 30,
   "id": "43855037",
   "metadata": {},
   "outputs": [
    {
     "name": "stdout",
     "output_type": "stream",
     "text": [
      "\n",
      "Train Accuracy: 0.997\n",
      "\n",
      "Test Accuracy: 0.999\n",
      "\n",
      "Precision: 1.000\n",
      "\n",
      "Recall: 0.967\n",
      "\n",
      "F1-Score: 0.983\n"
     ]
    }
   ],
   "source": [
    "xg_boost.fit(X_train.values, y_train.values)\n",
    "\n",
    "ml.evaluate_model_metrics(xg_boost,X_train,y_train,X_val,y_val)"
   ]
  },
  {
   "cell_type": "markdown",
   "id": "e8c1a99e",
   "metadata": {},
   "source": [
    "### Multiple Imputation by Chained Equations (MICE)"
   ]
  },
  {
   "cell_type": "code",
   "execution_count": 31,
   "id": "d78c9b6a",
   "metadata": {},
   "outputs": [],
   "source": [
    "# Imputes by looking at data from other columns and trying to estimate the best prediction for each missing value.\n",
    "\n",
    "X, y, X_train, X_val, X_test, y_train, y_val, y_test = ml.preprocess_and_split(df = weak_kidney_df, label = 'Weak/Failing kidneys',\n",
    "                                                              impute = True, scale=True,\n",
    "                                                              imputer=ml.IterativeImputer(max_iter=20),\n",
    "                                                              random_state=42)"
   ]
  },
  {
   "cell_type": "code",
   "execution_count": 32,
   "id": "78e0324b",
   "metadata": {},
   "outputs": [
    {
     "name": "stdout",
     "output_type": "stream",
     "text": [
      "\n",
      "Train Accuracy: 0.997\n",
      "\n",
      "Test Accuracy: 0.999\n",
      "\n",
      "Precision: 1.000\n",
      "\n",
      "Recall: 0.967\n",
      "\n",
      "F1-Score: 0.983\n"
     ]
    }
   ],
   "source": [
    "xg_boost.fit(X_train.values, y_train.values)\n",
    "\n",
    "ml.evaluate_model_metrics(xg_boost,X_train,y_train,X_val,y_val)"
   ]
  },
  {
   "cell_type": "markdown",
   "id": "dc71288f",
   "metadata": {},
   "source": [
    "### Median Imputation"
   ]
  },
  {
   "cell_type": "code",
   "execution_count": 33,
   "id": "648640e9",
   "metadata": {},
   "outputs": [],
   "source": [
    "# Imputing with median values\n",
    "\n",
    "X, y, X_train, X_val, X_test, y_train, y_val, y_test = ml.preprocess_and_split(df = weak_kidney_df, label = 'Weak/Failing kidneys',\n",
    "                                                              impute = True, scale=True,\n",
    "                                                              imputer=ml.SimpleImputer(strategy='median'),\n",
    "                                                              random_state=42)"
   ]
  },
  {
   "cell_type": "code",
   "execution_count": 34,
   "id": "188ab3fd",
   "metadata": {},
   "outputs": [
    {
     "name": "stdout",
     "output_type": "stream",
     "text": [
      "\n",
      "Train Accuracy: 0.997\n",
      "\n",
      "Test Accuracy: 0.999\n",
      "\n",
      "Precision: 1.000\n",
      "\n",
      "Recall: 0.967\n",
      "\n",
      "F1-Score: 0.983\n"
     ]
    }
   ],
   "source": [
    "xg_boost.fit(X_train.values, y_train.values)\n",
    "\n",
    "ml.evaluate_model_metrics(xg_boost,X_train,y_train,X_val,y_val)"
   ]
  },
  {
   "cell_type": "markdown",
   "id": "ecf3258f",
   "metadata": {},
   "source": [
    "### Mean Imputation"
   ]
  },
  {
   "cell_type": "code",
   "execution_count": 35,
   "id": "cf825805",
   "metadata": {},
   "outputs": [],
   "source": [
    "# Splitting and Preprocessing data\n",
    "\n",
    "X, y, X_train, X_val, X_test, y_train, y_val, y_test = ml.preprocess_and_split(df = weak_kidney_df, label = 'Weak/Failing kidneys',\n",
    "                                                              impute = True, scale=True,\n",
    "                                                              imputer=ml.SimpleImputer(strategy='mean'),\n",
    "                                                              random_state=42)"
   ]
  },
  {
   "cell_type": "code",
   "execution_count": 36,
   "id": "c4eb9258",
   "metadata": {},
   "outputs": [
    {
     "name": "stdout",
     "output_type": "stream",
     "text": [
      "\n",
      "Train Accuracy: 0.997\n",
      "\n",
      "Test Accuracy: 0.999\n",
      "\n",
      "Precision: 1.000\n",
      "\n",
      "Recall: 0.967\n",
      "\n",
      "F1-Score: 0.983\n"
     ]
    }
   ],
   "source": [
    "xg_boost.fit(X_train.values, y_train.values)\n",
    "\n",
    "ml.evaluate_model_metrics(xg_boost,X_train,y_train,X_val,y_val)"
   ]
  },
  {
   "cell_type": "markdown",
   "id": "8484c25a",
   "metadata": {},
   "source": [
    "### k-NN Imputation"
   ]
  },
  {
   "cell_type": "code",
   "execution_count": 37,
   "id": "288ec08b",
   "metadata": {},
   "outputs": [],
   "source": [
    "# Imputing missing values with values from the k-nearest neighbors in the feature space\n",
    "\n",
    "X, y, X_train, X_val, X_test, y_train, y_val, y_test = ml.preprocess_and_split(df = weak_kidney_df, label = 'Weak/Failing kidneys',\n",
    "                                                              impute = True, scale=True,\n",
    "                                                              imputer=ml.KNNImputer(n_neighbors=20),\n",
    "                                                              random_state=42)"
   ]
  },
  {
   "cell_type": "code",
   "execution_count": 38,
   "id": "d03244a8",
   "metadata": {},
   "outputs": [
    {
     "name": "stdout",
     "output_type": "stream",
     "text": [
      "\n",
      "Train Accuracy: 0.997\n",
      "\n",
      "Test Accuracy: 0.999\n",
      "\n",
      "Precision: 1.000\n",
      "\n",
      "Recall: 0.967\n",
      "\n",
      "F1-Score: 0.983\n"
     ]
    }
   ],
   "source": [
    "xg_boost.fit(X_train.values, y_train.values)\n",
    "\n",
    "ml.evaluate_model_metrics(xg_boost,X_train,y_train,X_val,y_val)"
   ]
  },
  {
   "cell_type": "markdown",
   "id": "5bd39f86",
   "metadata": {},
   "source": [
    "### Dropping Null Values"
   ]
  },
  {
   "cell_type": "code",
   "execution_count": 39,
   "id": "2a0f7318",
   "metadata": {
    "scrolled": true
   },
   "outputs": [],
   "source": [
    "# Drop null values\n",
    "weak_kidney_df_na = weak_kidney_df.dropna()\n",
    "\n",
    "X, y, X_train, X_val, X_test, y_train, y_val, y_test = ml.preprocess_and_split(df = weak_kidney_df_na, label = 'Weak/Failing kidneys',\n",
    "                                                              impute = False, scale=True,\n",
    "                                                              random_state=42)"
   ]
  },
  {
   "cell_type": "code",
   "execution_count": 40,
   "id": "f3c46212",
   "metadata": {},
   "outputs": [
    {
     "name": "stdout",
     "output_type": "stream",
     "text": [
      "\n",
      "Train Accuracy: 1.000\n",
      "\n",
      "Test Accuracy: 1.000\n",
      "\n",
      "Precision: 1.000\n",
      "\n",
      "Recall: 1.000\n",
      "\n",
      "F1-Score: 1.000\n"
     ]
    }
   ],
   "source": [
    "xg_boost.fit(X_train.values, y_train.values)\n",
    "\n",
    "ml.evaluate_model_metrics(xg_boost,X_train,y_train,X_val,y_val)"
   ]
  },
  {
   "cell_type": "markdown",
   "id": "d4f3c7a0",
   "metadata": {},
   "source": [
    "## Oversampling and Undersampling"
   ]
  },
  {
   "cell_type": "markdown",
   "id": "f2ab083d",
   "metadata": {},
   "source": [
    "### Random Oversampling"
   ]
  },
  {
   "cell_type": "code",
   "execution_count": 41,
   "id": "61c3f573",
   "metadata": {
    "scrolled": false
   },
   "outputs": [
    {
     "name": "stdout",
     "output_type": "stream",
     "text": [
      "\n",
      "Train Accuracy: 1.000\n",
      "\n",
      "Test Accuracy: 1.000\n",
      "\n",
      "Precision: 1.000\n",
      "\n",
      "Recall: 1.000\n",
      "\n",
      "F1-Score: 1.000\n"
     ]
    }
   ],
   "source": [
    "X_ros, y_ros = ml.random_over_sample(X_train, y_train)\n",
    "\n",
    "xg_boost.fit(X_ros.values, y_ros.values)\n",
    "\n",
    "ml.evaluate_model_metrics(xg_boost,X_ros, y_ros,X_val, y_val)"
   ]
  },
  {
   "cell_type": "markdown",
   "id": "55cc4ab2",
   "metadata": {},
   "source": [
    "### SMOTE (Synthetic Minority Over-sampling Technique)"
   ]
  },
  {
   "cell_type": "code",
   "execution_count": 42,
   "id": "5ed6c6b3",
   "metadata": {
    "scrolled": false
   },
   "outputs": [
    {
     "name": "stdout",
     "output_type": "stream",
     "text": [
      "\n",
      "Train Accuracy: 1.000\n",
      "\n",
      "Test Accuracy: 1.000\n",
      "\n",
      "Precision: 1.000\n",
      "\n",
      "Recall: 1.000\n",
      "\n",
      "F1-Score: 1.000\n"
     ]
    }
   ],
   "source": [
    "X_smote, y_smote = ml.smote_over_sample(X_train, y_train)\n",
    "\n",
    "xg_boost.fit(X_smote.values, y_smote.values)\n",
    "\n",
    "ml.evaluate_model_metrics(xg_boost,X_smote, y_smote,X_val, y_val)"
   ]
  },
  {
   "cell_type": "markdown",
   "id": "0532ee8b",
   "metadata": {},
   "source": [
    "### Random Undersampling"
   ]
  },
  {
   "cell_type": "code",
   "execution_count": 43,
   "id": "5286090b",
   "metadata": {
    "scrolled": false
   },
   "outputs": [
    {
     "name": "stdout",
     "output_type": "stream",
     "text": [
      "\n",
      "Train Accuracy: 1.000\n",
      "\n",
      "Test Accuracy: 0.769\n",
      "\n",
      "Precision: 0.124\n",
      "\n",
      "Recall: 1.000\n",
      "\n",
      "F1-Score: 0.221\n"
     ]
    }
   ],
   "source": [
    "X_rus, y_rus = ml.random_under_sample(X_train, y_train)\n",
    "\n",
    "xg_boost.fit(X_rus.values, y_rus.values)\n",
    "\n",
    "ml.evaluate_model_metrics(xg_boost,X_rus, y_rus,X_val, y_val)"
   ]
  },
  {
   "cell_type": "markdown",
   "id": "6defa173",
   "metadata": {},
   "source": [
    "### Tomek Links"
   ]
  },
  {
   "cell_type": "code",
   "execution_count": 44,
   "id": "f4fa6ccf",
   "metadata": {
    "scrolled": false
   },
   "outputs": [
    {
     "name": "stdout",
     "output_type": "stream",
     "text": [
      "\n",
      "Train Accuracy: 1.000\n",
      "\n",
      "Test Accuracy: 1.000\n",
      "\n",
      "Precision: 1.000\n",
      "\n",
      "Recall: 1.000\n",
      "\n",
      "F1-Score: 1.000\n"
     ]
    }
   ],
   "source": [
    "X_tomek, y_tomek = ml.tomek_links(X_train, y_train)\n",
    "\n",
    "xg_boost.fit(X_tomek.values, y_tomek.values)\n",
    "\n",
    "ml.evaluate_model_metrics(xg_boost,X_tomek, y_tomek,X_val, y_val)"
   ]
  },
  {
   "cell_type": "markdown",
   "id": "111c9c16",
   "metadata": {},
   "source": [
    "### SMOTE + Tomek Links"
   ]
  },
  {
   "cell_type": "code",
   "execution_count": 45,
   "id": "753149c7",
   "metadata": {
    "scrolled": false
   },
   "outputs": [
    {
     "name": "stdout",
     "output_type": "stream",
     "text": [
      "\n",
      "Train Accuracy: 1.000\n",
      "\n",
      "Test Accuracy: 1.000\n",
      "\n",
      "Precision: 1.000\n",
      "\n",
      "Recall: 1.000\n",
      "\n",
      "F1-Score: 1.000\n"
     ]
    }
   ],
   "source": [
    "X_smote_tomek, y_smote_tomek = ml.smote_tomek(X_train, y_train)\n",
    "\n",
    "xg_boost.fit(X_smote_tomek.values, y_smote_tomek.values)\n",
    "\n",
    "ml.evaluate_model_metrics(xg_boost,X_smote_tomek, y_smote_tomek,X_val, y_val)"
   ]
  },
  {
   "cell_type": "code",
   "execution_count": 46,
   "id": "1f3a2dd8",
   "metadata": {},
   "outputs": [],
   "source": [
    "# Model seems to perform better without oversampling or undersampling"
   ]
  },
  {
   "cell_type": "markdown",
   "id": "9bda7751",
   "metadata": {},
   "source": [
    "## Hyperparameter Optimization "
   ]
  },
  {
   "cell_type": "code",
   "execution_count": 47,
   "id": "8bbd1f7f",
   "metadata": {},
   "outputs": [],
   "source": [
    "param_grid = {\n",
    "    \n",
    "    'learning_rate': [0.01, 0.1, 0.2, 0.3],\n",
    "    'subsample': [0.8, 0.9, 1.0],\n",
    "    'gamma': [0, 0.1, 0.2, 0.3],\n",
    "    'reg_alpha': [0, 0.1, 0.2, 0.3],\n",
    "    'reg_lambda': [1, 1.5, 2, 3],\n",
    "    \n",
    "}"
   ]
  },
  {
   "cell_type": "markdown",
   "id": "8458e5a6",
   "metadata": {},
   "source": [
    "### Random Search"
   ]
  },
  {
   "cell_type": "code",
   "execution_count": 48,
   "id": "cc4fcfeb",
   "metadata": {},
   "outputs": [],
   "source": [
    "rand_best_params, xg_boost_rand = ml.random_search_optimize(xg_boost,param_grid,n_iter=100,cv=5,\n",
    "                                                               X_train=X_train, y_train=y_train,\n",
    "                                                               scoring='accuracy', val=True)"
   ]
  },
  {
   "cell_type": "code",
   "execution_count": 49,
   "id": "a3aca564",
   "metadata": {},
   "outputs": [
    {
     "data": {
      "text/plain": [
       "{'subsample': 1.0,\n",
       " 'reg_lambda': 1.5,\n",
       " 'reg_alpha': 0.1,\n",
       " 'learning_rate': 0.3,\n",
       " 'gamma': 0.2}"
      ]
     },
     "execution_count": 49,
     "metadata": {},
     "output_type": "execute_result"
    }
   ],
   "source": [
    "rand_best_params"
   ]
  },
  {
   "cell_type": "code",
   "execution_count": 50,
   "id": "0c27dea7",
   "metadata": {},
   "outputs": [
    {
     "name": "stdout",
     "output_type": "stream",
     "text": [
      "\n",
      "Train Accuracy: 0.999\n",
      "\n",
      "Test Accuracy: 1.000\n",
      "\n",
      "Precision: 1.000\n",
      "\n",
      "Recall: 1.000\n",
      "\n",
      "F1-Score: 1.000\n"
     ]
    }
   ],
   "source": [
    "ml.evaluate_model_metrics(xg_boost_rand,X_train,y_train,X_val,y_val)"
   ]
  },
  {
   "cell_type": "markdown",
   "id": "7d6294a4",
   "metadata": {},
   "source": [
    "### Optuna"
   ]
  },
  {
   "cell_type": "code",
   "execution_count": 51,
   "id": "ae722921",
   "metadata": {},
   "outputs": [],
   "source": [
    "def objective(trial):\n",
    "\n",
    "    params = {\n",
    "        'objective': 'binary:logistic',\n",
    "        'eval_metric': 'logloss',\n",
    "        'booster': trial.suggest_categorical('booster', ['gbtree', 'gblinear', 'dart']),\n",
    "        'lambda': trial.suggest_loguniform('lambda', 1e-8, 1.0),\n",
    "        'alpha': trial.suggest_loguniform('alpha', 1e-8, 1.0),\n",
    "        'max_depth': trial.suggest_int('max_depth', 3, 10),\n",
    "        'eta': trial.suggest_loguniform('eta', 1e-8, 1.0),\n",
    "        'gamma': trial.suggest_loguniform('gamma', 1e-8, 1.0),\n",
    "        'grow_policy': trial.suggest_categorical('grow_policy', ['depthwise', 'lossguide']),\n",
    "    }\n",
    "\n",
    "    if params['booster'] == 'gbtree' or params['booster'] == 'dart':\n",
    "        params['subsample'] = trial.suggest_uniform('subsample', 0.1, 1.0)\n",
    "        params['colsample_bytree'] = trial.suggest_uniform('colsample_bytree', 0.1, 1.0)\n",
    "\n",
    "    model = ml.XGBClassifier(**params)\n",
    "    \n",
    "    model.fit(X_train.values, y_train.values)\n",
    "    y_pred = model.predict(X_test.values)\n",
    "\n",
    "    accuracy = ml.accuracy_score(y_test.values, y_pred)\n",
    "\n",
    "    return accuracy"
   ]
  },
  {
   "cell_type": "code",
   "execution_count": 52,
   "id": "e7e379fd",
   "metadata": {},
   "outputs": [],
   "source": [
    "best_trial , xg_boost_opt = ml.optuna_optimize(objective, ml.XGBClassifier, n_trials=150)"
   ]
  },
  {
   "cell_type": "code",
   "execution_count": 53,
   "id": "b9b8c5b6",
   "metadata": {},
   "outputs": [
    {
     "data": {
      "text/plain": [
       "{'booster': 'gbtree',\n",
       " 'lambda': 0.0036404337933692945,\n",
       " 'alpha': 0.016557212529056065,\n",
       " 'max_depth': 9,\n",
       " 'eta': 0.3601622726581256,\n",
       " 'gamma': 2.9738634874356515e-08,\n",
       " 'grow_policy': 'depthwise',\n",
       " 'subsample': 0.8478133114306166,\n",
       " 'colsample_bytree': 0.4797785463906178}"
      ]
     },
     "execution_count": 53,
     "metadata": {},
     "output_type": "execute_result"
    }
   ],
   "source": [
    "best_trial"
   ]
  },
  {
   "cell_type": "code",
   "execution_count": 54,
   "id": "9e3a828c",
   "metadata": {},
   "outputs": [
    {
     "name": "stdout",
     "output_type": "stream",
     "text": [
      "\n",
      "Train Accuracy: 1.000\n",
      "\n",
      "Test Accuracy: 1.000\n",
      "\n",
      "Precision: 1.000\n",
      "\n",
      "Recall: 1.000\n",
      "\n",
      "F1-Score: 1.000\n"
     ]
    }
   ],
   "source": [
    "xg_boost_opt.fit(X_train.values,y_train.values)\n",
    "\n",
    "ml.evaluate_model_metrics(xg_boost_opt,X_train,y_train,X_val,y_val)"
   ]
  },
  {
   "cell_type": "markdown",
   "id": "af5a88e1",
   "metadata": {},
   "source": [
    "## Evaluation on Test Set"
   ]
  },
  {
   "cell_type": "code",
   "execution_count": 55,
   "id": "d8a10c03",
   "metadata": {},
   "outputs": [
    {
     "name": "stdout",
     "output_type": "stream",
     "text": [
      "\n",
      "Train Accuracy: 1.000\n",
      "\n",
      "Test Accuracy: 1.000\n",
      "\n",
      "Precision: 1.000\n",
      "\n",
      "Recall: 1.000\n",
      "\n",
      "F1-Score: 1.000\n",
      "\n",
      "Confusion Matrix:\n",
      "\n",
      "[[787   0]\n",
      " [  0  34]]\n",
      "\n",
      "\n",
      "Classification Report:\n",
      "\n",
      "              precision    recall  f1-score   support\n",
      "\n",
      "     Class 0       1.00      1.00      1.00       787\n",
      "     Class 1       1.00      1.00      1.00        34\n",
      "\n",
      "    accuracy                           1.00       821\n",
      "   macro avg       1.00      1.00      1.00       821\n",
      "weighted avg       1.00      1.00      1.00       821\n",
      "\n",
      "\n",
      "ROC-AUC Curve:\n"
     ]
    },
    {
     "data": {
      "image/png": "[encoded data removed]",
      "text/plain": [
       "<Figure size 600x400 with 1 Axes>"
      ]
     },
     "metadata": {},
     "output_type": "display_data"
    }
   ],
   "source": [
    "# After evaluating on the validation set, we evaluate and finalize on the test set\n",
    "\n",
    "ml.evaluate_model_metrics(xg_boost_opt, X_train, y_train, X_test, y_test, verbose=6)"
   ]
  },
  {
   "cell_type": "markdown",
   "id": "e7b5c88c",
   "metadata": {},
   "source": [
    "## Cross Validation"
   ]
  },
  {
   "cell_type": "markdown",
   "id": "7e539fb9",
   "metadata": {},
   "source": [
    "### K-fold"
   ]
  },
  {
   "cell_type": "code",
   "execution_count": 56,
   "id": "e77a24f0",
   "metadata": {},
   "outputs": [
    {
     "name": "stdout",
     "output_type": "stream",
     "text": [
      "\n",
      "accuracy scores: [0.97087379 0.95631068 0.96116505 0.96097561 0.96585366 0.96585366\n",
      " 0.95609756 0.97073171 0.96585366 0.96097561]\n",
      "\n",
      "Mean accuracy score:  0.963469097797774\n",
      "\n",
      "Standard deviation:  0.004979552333625773\n"
     ]
    }
   ],
   "source": [
    "ml.k_cross_validate(xg_boost,X.values,y.values,cv=10,scoring='accuracy')"
   ]
  },
  {
   "cell_type": "code",
   "execution_count": 57,
   "id": "fa6ff1f4",
   "metadata": {},
   "outputs": [
    {
     "name": "stdout",
     "output_type": "stream",
     "text": [
      "\n",
      "accuracy scores: [0.96601942 0.96116505 0.95631068 0.96097561 0.96097561 0.95609756\n",
      " 0.95609756 0.97073171 0.96585366 0.97073171]\n",
      "\n",
      "Mean accuracy score:  0.9624958560265215\n",
      "\n",
      "Standard deviation:  0.005346727301303553\n"
     ]
    }
   ],
   "source": [
    "ml.k_cross_validate(xg_boost_rand,X.values,y,cv=10,scoring='accuracy')"
   ]
  },
  {
   "cell_type": "code",
   "execution_count": 58,
   "id": "46f81577",
   "metadata": {},
   "outputs": [
    {
     "name": "stdout",
     "output_type": "stream",
     "text": [
      "\n",
      "accuracy scores: [0.96116505 0.95631068 0.96601942 0.95609756 0.96585366 0.95609756\n",
      " 0.95609756 0.97073171 0.96585366 0.95121951]\n",
      "\n",
      "Mean accuracy score:  0.9605446365143264\n",
      "\n",
      "Standard deviation:  0.005955835424445794\n"
     ]
    }
   ],
   "source": [
    "ml.k_cross_validate(xg_boost_opt,X.values,y,cv=10,scoring='accuracy')"
   ]
  },
  {
   "cell_type": "markdown",
   "id": "ad831ffc",
   "metadata": {},
   "source": [
    "### Stratified K-fold"
   ]
  },
  {
   "cell_type": "code",
   "execution_count": 59,
   "id": "29a48b89",
   "metadata": {},
   "outputs": [
    {
     "name": "stdout",
     "output_type": "stream",
     "text": [
      "\n",
      "Average Accuracy: 0.9634667298129292\n",
      "\n",
      "Average Precision: 0.6166666666666667\n",
      "\n",
      "Average Recall: 0.2513888888888889\n",
      "\n",
      "Average F1-Score: 0.33581529581529584\n"
     ]
    }
   ],
   "source": [
    "ml.stratified_k_cross_validate(xg_boost,X,y,n_splits=10)"
   ]
  },
  {
   "cell_type": "code",
   "execution_count": 60,
   "id": "5aa2c58d",
   "metadata": {},
   "outputs": [
    {
     "name": "stdout",
     "output_type": "stream",
     "text": [
      "\n",
      "Average Accuracy: 0.9629789249348804\n",
      "\n",
      "Average Precision: 0.5900000000000001\n",
      "\n",
      "Average Recall: 0.24027777777777776\n",
      "\n",
      "Average F1-Score: 0.3246819846819846\n"
     ]
    }
   ],
   "source": [
    "ml.stratified_k_cross_validate(xg_boost_rand,X,y,n_splits=10)"
   ]
  },
  {
   "cell_type": "code",
   "execution_count": 61,
   "id": "2c1453da",
   "metadata": {},
   "outputs": [
    {
     "name": "stdout",
     "output_type": "stream",
     "text": [
      "\n",
      "Average Accuracy: 0.9620033151787828\n",
      "\n",
      "Average Precision: 0.4883333333333333\n",
      "\n",
      "Average Recall: 0.18888888888888888\n",
      "\n",
      "Average F1-Score: 0.26579087579087585\n"
     ]
    }
   ],
   "source": [
    "ml.stratified_k_cross_validate(xg_boost_opt,X,y,n_splits=10)"
   ]
  },
  {
   "cell_type": "markdown",
   "id": "e5d7b05d",
   "metadata": {},
   "source": [
    "### Save Model"
   ]
  },
  {
   "cell_type": "code",
   "execution_count": 62,
   "id": "6e89475b",
   "metadata": {},
   "outputs": [],
   "source": [
    "final_xgb_estimator = xg_boost"
   ]
  },
  {
   "cell_type": "code",
   "execution_count": 63,
   "id": "ea9c37ae",
   "metadata": {},
   "outputs": [
    {
     "name": "stdout",
     "output_type": "stream",
     "text": [
      "Saved Model\n"
     ]
    }
   ],
   "source": [
    "# Saving the model\n",
    "\n",
    "ml.save_model(final_xgb_estimator, \"../Models/Weak kidneys/XGBoost_Classifier.pkl\")"
   ]
  },
  {
   "cell_type": "markdown",
   "id": "de59f229",
   "metadata": {},
   "source": [
    "## Prediction"
   ]
  },
  {
   "cell_type": "code",
   "execution_count": 67,
   "id": "67af8316",
   "metadata": {},
   "outputs": [
    {
     "name": "stdout",
     "output_type": "stream",
     "text": [
      "Instance:\n",
      " [-0.76009431  0.156933   -0.00762033  0.98952267 -0.87565587 -0.98635615\n",
      "  1.02946427  0.26108936 -1.6466317  -0.08467301 -0.10036053  1.05907278\n",
      " -0.5330105   0.60674508 -0.66422354 -1.41225037 -1.43905497 -1.55630944\n",
      "  0.38058767  1.81762048 -1.72670054]\n",
      "\n",
      "Expected Class:  0\n",
      "\n",
      " Modified Instance:\n",
      " [-0.76009431  0.41381213  0.05466063  0.78421584 -1.15636914 -0.84779768\n",
      "  0.94847743  0.06755235 -1.48142288 -0.15015367 -0.1663764   1.02285634\n",
      " -0.55111054  0.37782605 -0.99818815 -1.35183641 -1.48792355 -1.31605016\n",
      "  0.37290879  1.80382297 -1.80993368]\n",
      "\n",
      "Predicted Class:  [0]\n"
     ]
    }
   ],
   "source": [
    "# Predicting on perturbed values\n",
    "\n",
    "sc = ml.np.random.rand()\n",
    "\n",
    "ml.predict_on_modified_instance(final_xgb_estimator, X_test.iloc[0], y_test.iloc[0], 0.6)"
   ]
  },
  {
   "cell_type": "code",
   "execution_count": 69,
   "id": "a8741935",
   "metadata": {},
   "outputs": [
    {
     "name": "stdout",
     "output_type": "stream",
     "text": [
      "Instance:\n",
      " [ 2.28919122e+00 -4.34929873e-01  7.30493020e+00  6.22834290e-01\n",
      " -4.29098029e-01 -1.28186225e+00  4.35566919e-01 -3.05911417e-01\n",
      " -1.19964205e+00 -4.17670748e-04  1.34452799e-01  1.35881725e+00\n",
      "  2.34599418e-01 -1.59620628e-01 -6.64223544e-01 -1.06009925e+00\n",
      " -9.38403542e-01  2.00019572e+00 -1.56850095e-01  8.87714629e-01\n",
      " -7.46654759e-01]\n",
      "\n",
      "Expected Class:  0\n",
      "\n",
      " Modified Instance:\n",
      " [ 2.28919122 -0.53259021  7.1620856   0.43873192 -0.5506441  -1.33844403\n",
      "  0.41920459 -0.27935504 -1.16123184  0.16199299  0.47154909  1.21476182\n",
      "  0.24851345 -0.13732392 -0.72027191 -0.77060363 -1.05765745  1.74915793\n",
      " -0.15814376  0.78356022 -0.99318407]\n",
      "\n",
      "Predicted Class:  [1]\n"
     ]
    }
   ],
   "source": [
    "# Predicting on perturbed values\n",
    "\n",
    "sc = ml.np.random.rand()\n",
    "\n",
    "ml.predict_on_modified_instance(final_xgb_estimator, X_test.iloc[34], y_test.iloc[34], 0.6)"
   ]
  },
  {
   "cell_type": "code",
   "execution_count": 70,
   "id": "eb731b7b",
   "metadata": {},
   "outputs": [
    {
     "name": "stdout",
     "output_type": "stream",
     "text": [
      "Instance:\n",
      " [ 2.81651127 -0.67625182  3.40490325 -0.11054248 -0.07185176 -0.87659674\n",
      "  1.40065011 -0.25257966 -0.29795602 -1.32817591 -0.97699698 -0.46962401\n",
      "  0.23459942  0.22356222 -0.79258876 -0.35579702  0.30086327  0.88878786\n",
      "  0.22703403 -0.50714415 -0.80696527]\n",
      "\n",
      "Expected Class:  1\n",
      "\n",
      " Modified Instance:\n",
      " [ 2.81651127 -0.63708158  3.2576868  -0.03013903 -0.24089461 -0.9829517\n",
      "  1.35463785  0.04247176 -0.32188172 -1.11210815 -1.06965496 -0.73490887\n",
      "  0.01435686  0.35604815 -0.72513011 -0.46761916  0.34707017  0.76777831\n",
      "  0.12157643 -0.42497722 -0.80661718]\n",
      "\n",
      "Predicted Class:  [1]\n"
     ]
    }
   ],
   "source": [
    "# Predicting on perturbed values\n",
    "\n",
    "sc = ml.np.random.rand()\n",
    "\n",
    "ml.predict_on_modified_instance(final_xgb_estimator, X_test.iloc[41], y_test.iloc[41], 0.6)"
   ]
  }
 ],
 "metadata": {
  "kernelspec": {
   "display_name": "Python 3 (ipykernel)",
   "language": "python",
   "name": "python3"
  },
  "language_info": {
   "codemirror_mode": {
    "name": "ipython",
    "version": 3
   },
   "file_extension": ".py",
   "mimetype": "text/x-python",
   "name": "python",
   "nbconvert_exporter": "python",
   "pygments_lexer": "ipython3",
   "version": "3.10.12"
  }
 },
 "nbformat": 4,
 "nbformat_minor": 5
}
