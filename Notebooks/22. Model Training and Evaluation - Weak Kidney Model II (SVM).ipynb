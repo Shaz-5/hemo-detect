{
 "cells": [
  {
   "cell_type": "markdown",
   "id": "d2acf9f1",
   "metadata": {},
   "source": [
    "# Weak Kidney - Support Vector Machine"
   ]
  },
  {
   "cell_type": "code",
   "execution_count": 1,
   "id": "5c1b7eb2",
   "metadata": {},
   "outputs": [],
   "source": [
    "import some_load_train_evaluate_functions as ml"
   ]
  },
  {
   "cell_type": "code",
   "execution_count": 2,
   "id": "6b4433ef",
   "metadata": {},
   "outputs": [
    {
     "name": "stdout",
     "output_type": "stream",
     "text": [
      "Connected to database successfully.\n"
     ]
    }
   ],
   "source": [
    "path = '../KG/db.env'\n",
    "\n",
    "driver = ml.connect_to_neo4j(path)"
   ]
  },
  {
   "cell_type": "markdown",
   "id": "4016e569",
   "metadata": {},
   "source": [
    "### Load Data"
   ]
  },
  {
   "cell_type": "code",
   "execution_count": 3,
   "id": "76bbe0fe",
   "metadata": {},
   "outputs": [
    {
     "data": {
      "text/html": [
       "<div>\n",
       "<style scoped>\n",
       "    .dataframe tbody tr th:only-of-type {\n",
       "        vertical-align: middle;\n",
       "    }\n",
       "\n",
       "    .dataframe tbody tr th {\n",
       "        vertical-align: top;\n",
       "    }\n",
       "\n",
       "    .dataframe thead th {\n",
       "        text-align: right;\n",
       "    }\n",
       "</style>\n",
       "<table border=\"1\" class=\"dataframe\">\n",
       "  <thead>\n",
       "    <tr style=\"text-align: right;\">\n",
       "      <th></th>\n",
       "      <th>Respondent_ID</th>\n",
       "      <th>Gender</th>\n",
       "      <th>Age</th>\n",
       "      <th>BMI</th>\n",
       "      <th>25-hydroxyvitamin D2 + D3 [nmol/L]</th>\n",
       "      <th>A/G Ratio</th>\n",
       "      <th>Alpha-carotene [umol/L]</th>\n",
       "      <th>Alpha-crypotoxanthin [umol/L]</th>\n",
       "      <th>Alpha-tocopherol [umol/L]</th>\n",
       "      <th>Basophils [%]</th>\n",
       "      <th>...</th>\n",
       "      <th>Ferritin [ng/mL]</th>\n",
       "      <th>Gamma Glutamyl Transferase [IU/L]</th>\n",
       "      <th>Hemoglobin [g/dL]</th>\n",
       "      <th>Insulin [pmol/L]</th>\n",
       "      <th>LDL-Cholesterol(NIH2) [mmol/L]</th>\n",
       "      <th>Lactate Dehydrogenase [IU/L]</th>\n",
       "      <th>Transferrin Saturation [%]</th>\n",
       "      <th>Transferrin receptor [nmol/L]</th>\n",
       "      <th>Triglyceride [mmol/L]</th>\n",
       "      <th>Weak/Failing kidneys</th>\n",
       "    </tr>\n",
       "  </thead>\n",
       "  <tbody>\n",
       "    <tr>\n",
       "      <th>0</th>\n",
       "      <td>93705</td>\n",
       "      <td>0</td>\n",
       "      <td>66</td>\n",
       "      <td>31.7</td>\n",
       "      <td>89.9</td>\n",
       "      <td>1.517241</td>\n",
       "      <td>0.138</td>\n",
       "      <td>0.071</td>\n",
       "      <td>26.006</td>\n",
       "      <td>1.0</td>\n",
       "      <td>...</td>\n",
       "      <td>28.70</td>\n",
       "      <td>21.0</td>\n",
       "      <td>11.9</td>\n",
       "      <td>NaN</td>\n",
       "      <td>NaN</td>\n",
       "      <td>174.0</td>\n",
       "      <td>28.0</td>\n",
       "      <td>39.8</td>\n",
       "      <td>NaN</td>\n",
       "      <td>0</td>\n",
       "    </tr>\n",
       "    <tr>\n",
       "      <th>1</th>\n",
       "      <td>93708</td>\n",
       "      <td>0</td>\n",
       "      <td>66</td>\n",
       "      <td>23.7</td>\n",
       "      <td>116.0</td>\n",
       "      <td>1.218750</td>\n",
       "      <td>0.192</td>\n",
       "      <td>0.127</td>\n",
       "      <td>NaN</td>\n",
       "      <td>0.7</td>\n",
       "      <td>...</td>\n",
       "      <td>109.00</td>\n",
       "      <td>22.0</td>\n",
       "      <td>13.2</td>\n",
       "      <td>58.32</td>\n",
       "      <td>2.870</td>\n",
       "      <td>247.0</td>\n",
       "      <td>32.0</td>\n",
       "      <td>30.1</td>\n",
       "      <td>0.655</td>\n",
       "      <td>0</td>\n",
       "    </tr>\n",
       "    <tr>\n",
       "      <th>2</th>\n",
       "      <td>93709</td>\n",
       "      <td>0</td>\n",
       "      <td>75</td>\n",
       "      <td>38.9</td>\n",
       "      <td>72.8</td>\n",
       "      <td>1.121212</td>\n",
       "      <td>0.009</td>\n",
       "      <td>0.017</td>\n",
       "      <td>28.561</td>\n",
       "      <td>0.6</td>\n",
       "      <td>...</td>\n",
       "      <td>129.00</td>\n",
       "      <td>31.0</td>\n",
       "      <td>15.4</td>\n",
       "      <td>NaN</td>\n",
       "      <td>NaN</td>\n",
       "      <td>NaN</td>\n",
       "      <td>21.0</td>\n",
       "      <td>46.5</td>\n",
       "      <td>NaN</td>\n",
       "      <td>0</td>\n",
       "    </tr>\n",
       "    <tr>\n",
       "      <th>3</th>\n",
       "      <td>93711</td>\n",
       "      <td>1</td>\n",
       "      <td>56</td>\n",
       "      <td>21.3</td>\n",
       "      <td>165.0</td>\n",
       "      <td>1.290323</td>\n",
       "      <td>0.173</td>\n",
       "      <td>0.079</td>\n",
       "      <td>31.115</td>\n",
       "      <td>0.4</td>\n",
       "      <td>...</td>\n",
       "      <td>40.60</td>\n",
       "      <td>19.0</td>\n",
       "      <td>14.7</td>\n",
       "      <td>31.68</td>\n",
       "      <td>4.086</td>\n",
       "      <td>139.0</td>\n",
       "      <td>16.0</td>\n",
       "      <td>34.8</td>\n",
       "      <td>0.542</td>\n",
       "      <td>0</td>\n",
       "    </tr>\n",
       "    <tr>\n",
       "      <th>4</th>\n",
       "      <td>93713</td>\n",
       "      <td>1</td>\n",
       "      <td>67</td>\n",
       "      <td>23.5</td>\n",
       "      <td>63.5</td>\n",
       "      <td>2.047619</td>\n",
       "      <td>0.028</td>\n",
       "      <td>0.028</td>\n",
       "      <td>18.344</td>\n",
       "      <td>0.6</td>\n",
       "      <td>...</td>\n",
       "      <td>238.00</td>\n",
       "      <td>26.0</td>\n",
       "      <td>14.2</td>\n",
       "      <td>NaN</td>\n",
       "      <td>NaN</td>\n",
       "      <td>123.0</td>\n",
       "      <td>27.0</td>\n",
       "      <td>28.0</td>\n",
       "      <td>NaN</td>\n",
       "      <td>0</td>\n",
       "    </tr>\n",
       "    <tr>\n",
       "      <th>...</th>\n",
       "      <td>...</td>\n",
       "      <td>...</td>\n",
       "      <td>...</td>\n",
       "      <td>...</td>\n",
       "      <td>...</td>\n",
       "      <td>...</td>\n",
       "      <td>...</td>\n",
       "      <td>...</td>\n",
       "      <td>...</td>\n",
       "      <td>...</td>\n",
       "      <td>...</td>\n",
       "      <td>...</td>\n",
       "      <td>...</td>\n",
       "      <td>...</td>\n",
       "      <td>...</td>\n",
       "      <td>...</td>\n",
       "      <td>...</td>\n",
       "      <td>...</td>\n",
       "      <td>...</td>\n",
       "      <td>...</td>\n",
       "      <td>...</td>\n",
       "    </tr>\n",
       "    <tr>\n",
       "      <th>5555</th>\n",
       "      <td>102950</td>\n",
       "      <td>1</td>\n",
       "      <td>64</td>\n",
       "      <td>NaN</td>\n",
       "      <td>NaN</td>\n",
       "      <td>NaN</td>\n",
       "      <td>NaN</td>\n",
       "      <td>NaN</td>\n",
       "      <td>NaN</td>\n",
       "      <td>NaN</td>\n",
       "      <td>...</td>\n",
       "      <td>NaN</td>\n",
       "      <td>NaN</td>\n",
       "      <td>NaN</td>\n",
       "      <td>NaN</td>\n",
       "      <td>NaN</td>\n",
       "      <td>NaN</td>\n",
       "      <td>NaN</td>\n",
       "      <td>NaN</td>\n",
       "      <td>NaN</td>\n",
       "      <td>0</td>\n",
       "    </tr>\n",
       "    <tr>\n",
       "      <th>5556</th>\n",
       "      <td>102952</td>\n",
       "      <td>0</td>\n",
       "      <td>70</td>\n",
       "      <td>20.0</td>\n",
       "      <td>82.7</td>\n",
       "      <td>1.846154</td>\n",
       "      <td>0.235</td>\n",
       "      <td>0.077</td>\n",
       "      <td>31.347</td>\n",
       "      <td>0.6</td>\n",
       "      <td>...</td>\n",
       "      <td>135.00</td>\n",
       "      <td>18.0</td>\n",
       "      <td>13.4</td>\n",
       "      <td>26.34</td>\n",
       "      <td>1.112</td>\n",
       "      <td>168.0</td>\n",
       "      <td>39.0</td>\n",
       "      <td>29.1</td>\n",
       "      <td>0.881</td>\n",
       "      <td>0</td>\n",
       "    </tr>\n",
       "    <tr>\n",
       "      <th>5557</th>\n",
       "      <td>102953</td>\n",
       "      <td>1</td>\n",
       "      <td>42</td>\n",
       "      <td>35.8</td>\n",
       "      <td>49.5</td>\n",
       "      <td>1.142857</td>\n",
       "      <td>0.106</td>\n",
       "      <td>0.080</td>\n",
       "      <td>21.873</td>\n",
       "      <td>0.6</td>\n",
       "      <td>...</td>\n",
       "      <td>120.00</td>\n",
       "      <td>28.0</td>\n",
       "      <td>15.5</td>\n",
       "      <td>NaN</td>\n",
       "      <td>NaN</td>\n",
       "      <td>136.0</td>\n",
       "      <td>20.0</td>\n",
       "      <td>28.6</td>\n",
       "      <td>NaN</td>\n",
       "      <td>0</td>\n",
       "    </tr>\n",
       "    <tr>\n",
       "      <th>5558</th>\n",
       "      <td>102954</td>\n",
       "      <td>0</td>\n",
       "      <td>41</td>\n",
       "      <td>26.1</td>\n",
       "      <td>50.5</td>\n",
       "      <td>1.500000</td>\n",
       "      <td>0.117</td>\n",
       "      <td>0.056</td>\n",
       "      <td>26.935</td>\n",
       "      <td>1.4</td>\n",
       "      <td>...</td>\n",
       "      <td>1.99</td>\n",
       "      <td>8.0</td>\n",
       "      <td>6.4</td>\n",
       "      <td>56.94</td>\n",
       "      <td>2.793</td>\n",
       "      <td>123.0</td>\n",
       "      <td>5.0</td>\n",
       "      <td>248.0</td>\n",
       "      <td>0.553</td>\n",
       "      <td>0</td>\n",
       "    </tr>\n",
       "    <tr>\n",
       "      <th>5559</th>\n",
       "      <td>102956</td>\n",
       "      <td>1</td>\n",
       "      <td>38</td>\n",
       "      <td>36.1</td>\n",
       "      <td>58.9</td>\n",
       "      <td>1.482759</td>\n",
       "      <td>0.026</td>\n",
       "      <td>0.038</td>\n",
       "      <td>21.177</td>\n",
       "      <td>1.0</td>\n",
       "      <td>...</td>\n",
       "      <td>553.00</td>\n",
       "      <td>72.0</td>\n",
       "      <td>17.4</td>\n",
       "      <td>634.38</td>\n",
       "      <td>2.172</td>\n",
       "      <td>134.0</td>\n",
       "      <td>35.0</td>\n",
       "      <td>23.4</td>\n",
       "      <td>3.037</td>\n",
       "      <td>0</td>\n",
       "    </tr>\n",
       "  </tbody>\n",
       "</table>\n",
       "<p>5560 rows × 91 columns</p>\n",
       "</div>"
      ],
      "text/plain": [
       "      Respondent_ID  Gender  Age   BMI  25-hydroxyvitamin D2 + D3 [nmol/L]  \\\n",
       "0             93705       0   66  31.7                                89.9   \n",
       "1             93708       0   66  23.7                               116.0   \n",
       "2             93709       0   75  38.9                                72.8   \n",
       "3             93711       1   56  21.3                               165.0   \n",
       "4             93713       1   67  23.5                                63.5   \n",
       "...             ...     ...  ...   ...                                 ...   \n",
       "5555         102950       1   64   NaN                                 NaN   \n",
       "5556         102952       0   70  20.0                                82.7   \n",
       "5557         102953       1   42  35.8                                49.5   \n",
       "5558         102954       0   41  26.1                                50.5   \n",
       "5559         102956       1   38  36.1                                58.9   \n",
       "\n",
       "      A/G Ratio  Alpha-carotene [umol/L]  Alpha-crypotoxanthin [umol/L]  \\\n",
       "0      1.517241                    0.138                          0.071   \n",
       "1      1.218750                    0.192                          0.127   \n",
       "2      1.121212                    0.009                          0.017   \n",
       "3      1.290323                    0.173                          0.079   \n",
       "4      2.047619                    0.028                          0.028   \n",
       "...         ...                      ...                            ...   \n",
       "5555        NaN                      NaN                            NaN   \n",
       "5556   1.846154                    0.235                          0.077   \n",
       "5557   1.142857                    0.106                          0.080   \n",
       "5558   1.500000                    0.117                          0.056   \n",
       "5559   1.482759                    0.026                          0.038   \n",
       "\n",
       "      Alpha-tocopherol [umol/L]  Basophils [%]  ...  Ferritin [ng/mL]  \\\n",
       "0                        26.006            1.0  ...             28.70   \n",
       "1                           NaN            0.7  ...            109.00   \n",
       "2                        28.561            0.6  ...            129.00   \n",
       "3                        31.115            0.4  ...             40.60   \n",
       "4                        18.344            0.6  ...            238.00   \n",
       "...                         ...            ...  ...               ...   \n",
       "5555                        NaN            NaN  ...               NaN   \n",
       "5556                     31.347            0.6  ...            135.00   \n",
       "5557                     21.873            0.6  ...            120.00   \n",
       "5558                     26.935            1.4  ...              1.99   \n",
       "5559                     21.177            1.0  ...            553.00   \n",
       "\n",
       "      Gamma Glutamyl Transferase [IU/L]  Hemoglobin [g/dL]  Insulin [pmol/L]  \\\n",
       "0                                  21.0               11.9               NaN   \n",
       "1                                  22.0               13.2             58.32   \n",
       "2                                  31.0               15.4               NaN   \n",
       "3                                  19.0               14.7             31.68   \n",
       "4                                  26.0               14.2               NaN   \n",
       "...                                 ...                ...               ...   \n",
       "5555                                NaN                NaN               NaN   \n",
       "5556                               18.0               13.4             26.34   \n",
       "5557                               28.0               15.5               NaN   \n",
       "5558                                8.0                6.4             56.94   \n",
       "5559                               72.0               17.4            634.38   \n",
       "\n",
       "      LDL-Cholesterol(NIH2) [mmol/L]  Lactate Dehydrogenase [IU/L]  \\\n",
       "0                                NaN                         174.0   \n",
       "1                              2.870                         247.0   \n",
       "2                                NaN                           NaN   \n",
       "3                              4.086                         139.0   \n",
       "4                                NaN                         123.0   \n",
       "...                              ...                           ...   \n",
       "5555                             NaN                           NaN   \n",
       "5556                           1.112                         168.0   \n",
       "5557                             NaN                         136.0   \n",
       "5558                           2.793                         123.0   \n",
       "5559                           2.172                         134.0   \n",
       "\n",
       "      Transferrin Saturation [%]  Transferrin receptor [nmol/L]  \\\n",
       "0                           28.0                           39.8   \n",
       "1                           32.0                           30.1   \n",
       "2                           21.0                           46.5   \n",
       "3                           16.0                           34.8   \n",
       "4                           27.0                           28.0   \n",
       "...                          ...                            ...   \n",
       "5555                         NaN                            NaN   \n",
       "5556                        39.0                           29.1   \n",
       "5557                        20.0                           28.6   \n",
       "5558                         5.0                          248.0   \n",
       "5559                        35.0                           23.4   \n",
       "\n",
       "      Triglyceride [mmol/L]  Weak/Failing kidneys  \n",
       "0                       NaN                     0  \n",
       "1                     0.655                     0  \n",
       "2                       NaN                     0  \n",
       "3                     0.542                     0  \n",
       "4                       NaN                     0  \n",
       "...                     ...                   ...  \n",
       "5555                    NaN                     0  \n",
       "5556                  0.881                     0  \n",
       "5557                    NaN                     0  \n",
       "5558                  0.553                     0  \n",
       "5559                  3.037                     0  \n",
       "\n",
       "[5560 rows x 91 columns]"
      ]
     },
     "execution_count": 3,
     "metadata": {},
     "output_type": "execute_result"
    }
   ],
   "source": [
    "# Weak/Failing kidneys data\n",
    "\n",
    "weak_kidney_df = ml.get_data_of_disease(driver, 'Weak/Failing kidneys')\n",
    "weak_kidney_df"
   ]
  },
  {
   "cell_type": "markdown",
   "id": "6578093d",
   "metadata": {},
   "source": [
    "### Training"
   ]
  },
  {
   "cell_type": "code",
   "execution_count": 4,
   "id": "995292f6",
   "metadata": {},
   "outputs": [
    {
     "name": "stdout",
     "output_type": "stream",
     "text": [
      "Training Accuracy:  0.9624550359712231\n",
      "Testing Accuracy:  0.9644784172661871\n"
     ]
    }
   ],
   "source": [
    "svm_classifier = ml.LinearSVC(random_state=42)\n",
    "\n",
    "# Attributes and Labels\n",
    "\n",
    "X, y, X_train, X_val, X_test, y_train, y_val, y_test = ml.preprocess_and_split(df = weak_kidney_df, label = 'Weak/Failing kidneys',\n",
    "                                                              impute = True, scale=True,\n",
    "                                                              imputer=ml.SimpleImputer(strategy='mean'),\n",
    "                                                              random_state=42)\n",
    "\n",
    "# Training\n",
    "\n",
    "svm_classifier.fit(X_train, y_train)\n",
    "\n",
    "# Accuracy scores\n",
    "\n",
    "y_pred = svm_classifier.predict(X_val)\n",
    "\n",
    "print('Training Accuracy: ',ml.accuracy_score(y_train, svm_classifier.predict(X_train)))\n",
    "\n",
    "print('Testing Accuracy: ',ml.accuracy_score(y_val, y_pred))"
   ]
  },
  {
   "cell_type": "markdown",
   "id": "44142f21",
   "metadata": {},
   "source": [
    "## Feature Selection"
   ]
  },
  {
   "cell_type": "markdown",
   "id": "c60fc52a",
   "metadata": {},
   "source": [
    "### Correlation Analysis"
   ]
  },
  {
   "cell_type": "code",
   "execution_count": 5,
   "id": "a8302272",
   "metadata": {},
   "outputs": [],
   "source": [
    "svm_classifier_test = ml.LinearSVC(random_state=42)"
   ]
  },
  {
   "cell_type": "code",
   "execution_count": 6,
   "id": "4bf4ee40",
   "metadata": {},
   "outputs": [
    {
     "data": {
      "text/plain": [
       "['Creatinine [mg/dL]',\n",
       " 'Blood Urea Nitrogen [mg/dL]',\n",
       " 'Retinol [umol/L]',\n",
       " 'Osmolality [mmol/Kg]',\n",
       " 'Age',\n",
       " 'Ferritin [ng/mL]',\n",
       " 'Uric Acid [mg/dL]',\n",
       " '25-hydroxyvitamin D2 + D3 [nmol/L]',\n",
       " 'Chromium [nmol/L]',\n",
       " 'Insulin [pmol/L]',\n",
       " 'Potassium [mmol/L]',\n",
       " 'Red cell distribution width [%]',\n",
       " 'Neutrophil_Lymphocyte Ratio',\n",
       " 'Lactate Dehydrogenase [IU/L]',\n",
       " 'Blood lead [umol/L]',\n",
       " 'C-Reactive Protein [mg/L]',\n",
       " 'Glycohemoglobin [%]',\n",
       " 'Fasting Glucose [mmol/L]',\n",
       " 'Alkaline Phosphatase [IU/L]',\n",
       " 'Monocyte [%]',\n",
       " 'Segmented neutrophils [%]',\n",
       " 'BMI',\n",
       " 'Platelet_Lymphocyte Ratio',\n",
       " 'Eosinophils [%]',\n",
       " 'Globulin [g/dL]',\n",
       " 'Mean cell volume [fL]',\n",
       " 'Transferrin receptor [nmol/L]',\n",
       " 'Systemic Immune‐inflammation Index (SII)',\n",
       " 'Basophils [%]',\n",
       " 'Gamma Glutamyl Transferase [IU/L]']"
      ]
     },
     "execution_count": 6,
     "metadata": {},
     "output_type": "execute_result"
    }
   ],
   "source": [
    "pos_corr, neg_corr = ml.get_correlated_features(weak_kidney_df,'Weak/Failing kidneys',pos=0.0,neg=-0.0)\n",
    "\n",
    "corr_features = list(pos_corr.keys()[1:]) + list(neg_corr.keys())\n",
    "corr_features.remove('Respondent_ID')\n",
    "corr_features[:30]"
   ]
  },
  {
   "cell_type": "code",
   "execution_count": 7,
   "id": "34987aa0",
   "metadata": {},
   "outputs": [
    {
     "name": "stdout",
     "output_type": "stream",
     "text": [
      "\n",
      "Train Accuracy: 0.962\n",
      "\n",
      "Test Accuracy: 0.964\n",
      "\n",
      "Precision: 0.933\n",
      "\n",
      "Recall: 0.152\n",
      "\n",
      "F1-Score: 0.262\n"
     ]
    }
   ],
   "source": [
    "ml.evaluate_feature_set(corr_features, svm_classifier_test, X_train, y_train, X_val, y_val)"
   ]
  },
  {
   "cell_type": "markdown",
   "id": "9df33603",
   "metadata": {},
   "source": [
    "### SelectFromModel"
   ]
  },
  {
   "cell_type": "code",
   "execution_count": 8,
   "id": "a245d928",
   "metadata": {},
   "outputs": [
    {
     "data": {
      "text/plain": [
       "['Gender',\n",
       " '25-hydroxyvitamin D2 + D3 [nmol/L]',\n",
       " 'A/G Ratio',\n",
       " 'Blood Urea Nitrogen [mg/dL]',\n",
       " 'Creatinine [mg/dL]',\n",
       " 'Globulin [g/dL]',\n",
       " 'Hematocrit [%]',\n",
       " 'LDL_HDL Ratio',\n",
       " 'Lymphocyte [%]',\n",
       " 'Mean Cell Hgb Conc. [g/dL]',\n",
       " 'Osmolality [mmol/Kg]',\n",
       " 'Platelet count [1000 cells/uL]',\n",
       " 'Platelet_Lymphocyte Ratio',\n",
       " 'Platelet_WBC Ratio',\n",
       " 'RBC count [million cells/uL]',\n",
       " 'Segmented neutrophils [%]',\n",
       " 'Sodium [mmol/L]',\n",
       " 'Systemic Immune‐inflammation Index (SII)',\n",
       " 'Total Iron Binding Capacity [umol/L]',\n",
       " 'Total Lycopene [umol/L]',\n",
       " 'UIBC [umol/L]',\n",
       " 'Alanine Aminotransferase [U/L]',\n",
       " 'Creatine Phosphokinase [IU/L]',\n",
       " 'Hemoglobin [g/dL]']"
      ]
     },
     "execution_count": 8,
     "metadata": {},
     "output_type": "execute_result"
    }
   ],
   "source": [
    "sfm_features = ml.select_from_model_features(svm_classifier_test,X,y)\n",
    "sfm_features"
   ]
  },
  {
   "cell_type": "code",
   "execution_count": 9,
   "id": "17b4d45b",
   "metadata": {},
   "outputs": [
    {
     "name": "stdout",
     "output_type": "stream",
     "text": [
      "\n",
      "Train Accuracy: 0.962\n",
      "\n",
      "Test Accuracy: 0.964\n",
      "\n",
      "Precision: 0.923\n",
      "\n",
      "Recall: 0.130\n",
      "\n",
      "F1-Score: 0.229\n"
     ]
    }
   ],
   "source": [
    "sfm_features = list(sfm_features)\n",
    "\n",
    "ml.evaluate_feature_set(sfm_features, svm_classifier_test, X_train, y_train, X_val, y_val)"
   ]
  },
  {
   "cell_type": "markdown",
   "id": "15f3ce0f",
   "metadata": {},
   "source": [
    "### SelectKBest"
   ]
  },
  {
   "cell_type": "code",
   "execution_count": 10,
   "id": "238022df",
   "metadata": {},
   "outputs": [
    {
     "data": {
      "text/plain": [
       "['Creatinine [mg/dL]',\n",
       " 'Blood Urea Nitrogen [mg/dL]',\n",
       " 'Retinol [umol/L]',\n",
       " 'Age',\n",
       " 'Osmolality [mmol/Kg]',\n",
       " 'Ferritin [ng/mL]',\n",
       " 'RBC count [million cells/uL]',\n",
       " 'Uric Acid [mg/dL]',\n",
       " '25-hydroxyvitamin D2 + D3 [nmol/L]',\n",
       " 'Hematocrit [%]',\n",
       " 'Hemoglobin [g/dL]',\n",
       " 'Albumin [g/dL]',\n",
       " 'Lymphocyte [%]',\n",
       " 'Potassium [mmol/L]',\n",
       " 'Chromium [nmol/L]',\n",
       " 'Total Iron Binding Capacity [umol/L]',\n",
       " 'Red cell distribution width [%]',\n",
       " 'Neutrophil_Lymphocyte Ratio',\n",
       " 'Lactate Dehydrogenase [IU/L]',\n",
       " 'Blood lead [umol/L]',\n",
       " 'C-Reactive Protein [mg/L]',\n",
       " 'A/G Ratio',\n",
       " 'Glycohemoglobin [%]',\n",
       " 'Total Lycopene [umol/L]',\n",
       " 'Alkaline Phosphatase [IU/L]',\n",
       " 'Trans-lycopene [umol/L]',\n",
       " 'Lymphocyte_Monocyte Ratio',\n",
       " 'Insulin [pmol/L]',\n",
       " 'Alpha-crypotoxanthin [umol/L]',\n",
       " 'Monocyte [%]']"
      ]
     },
     "execution_count": 10,
     "metadata": {},
     "output_type": "execute_result"
    }
   ],
   "source": [
    "k_best_features = ml.select_k_best(X, y, n=30)\n",
    "k_best_features[:30]"
   ]
  },
  {
   "cell_type": "code",
   "execution_count": 11,
   "id": "b756eeaa",
   "metadata": {},
   "outputs": [
    {
     "name": "stdout",
     "output_type": "stream",
     "text": [
      "\n",
      "Train Accuracy: 0.962\n",
      "\n",
      "Test Accuracy: 0.964\n",
      "\n",
      "Precision: 1.000\n",
      "\n",
      "Recall: 0.130\n",
      "\n",
      "F1-Score: 0.231\n"
     ]
    }
   ],
   "source": [
    "ml.evaluate_feature_set(k_best_features[:30], svm_classifier_test, X_train, y_train, X_val, y_val)"
   ]
  },
  {
   "cell_type": "markdown",
   "id": "933ccbc1",
   "metadata": {},
   "source": [
    "### Recursive Feature Elimination (RFE) "
   ]
  },
  {
   "cell_type": "code",
   "execution_count": 12,
   "id": "82685afa",
   "metadata": {},
   "outputs": [
    {
     "data": {
      "text/plain": [
       "['Gender',\n",
       " 'Hematocrit [%]',\n",
       " 'LDL_HDL Ratio',\n",
       " 'Lutein and zeaxanthin [umol/L]',\n",
       " 'Mean Cell Hgb Conc. [g/dL]',\n",
       " 'Osmolality [mmol/Kg]',\n",
       " 'Platelet count [1000 cells/uL]',\n",
       " 'Platelet_Lymphocyte Ratio',\n",
       " 'Platelet_WBC Ratio',\n",
       " 'Sodium [mmol/L]',\n",
       " 'Systemic Immune‐inflammation Index (SII)',\n",
       " 'Total Iron Binding Capacity [umol/L]',\n",
       " 'Total Lycopene [umol/L]',\n",
       " 'UIBC [umol/L]',\n",
       " 'Alanine Aminotransferase [U/L]',\n",
       " 'Albumin [g/dL]',\n",
       " 'Aspartate Aminotransferase [U/L]',\n",
       " 'Creatine Phosphokinase [IU/L]',\n",
       " 'Ferritin [ng/mL]',\n",
       " 'Gamma Glutamyl Transferase [IU/L]',\n",
       " 'Hemoglobin [g/dL]',\n",
       " 'LDL-Cholesterol(NIH2) [mmol/L]',\n",
       " 'Glycohemoglobin [%]',\n",
       " 'Globulin [g/dL]',\n",
       " 'Phosphorus [mg/dL]',\n",
       " 'Blood Urea Nitrogen [mg/dL]',\n",
       " 'Creatinine [mg/dL]',\n",
       " 'Beta-cryptoxanthin [umol/L]',\n",
       " '25-hydroxyvitamin D2 + D3 [nmol/L]',\n",
       " 'A/G Ratio']"
      ]
     },
     "execution_count": 12,
     "metadata": {},
     "output_type": "execute_result"
    }
   ],
   "source": [
    "rfe_features = ml.select_rfe_features(svm_classifier_test,X,y,n=30,step=0.5)\n",
    "rfe_features[:30]"
   ]
  },
  {
   "cell_type": "code",
   "execution_count": 13,
   "id": "8db8aa72",
   "metadata": {},
   "outputs": [
    {
     "name": "stdout",
     "output_type": "stream",
     "text": [
      "\n",
      "Train Accuracy: 0.962\n",
      "\n",
      "Test Accuracy: 0.964\n",
      "\n",
      "Precision: 0.929\n",
      "\n",
      "Recall: 0.141\n",
      "\n",
      "F1-Score: 0.245\n"
     ]
    }
   ],
   "source": [
    "ml.evaluate_feature_set(rfe_features[:30], svm_classifier_test, X_train, y_train, X_val, y_val)"
   ]
  },
  {
   "cell_type": "markdown",
   "id": "85827a38",
   "metadata": {},
   "source": [
    "### Lasso Regularization"
   ]
  },
  {
   "cell_type": "code",
   "execution_count": 14,
   "id": "f7a2dee7",
   "metadata": {},
   "outputs": [
    {
     "data": {
      "text/plain": [
       "['Creatinine [mg/dL]',\n",
       " 'A/G Ratio',\n",
       " 'Platelet_Lymphocyte Ratio',\n",
       " 'Globulin [g/dL]',\n",
       " 'Systemic Immune‐inflammation Index (SII)',\n",
       " 'Platelet_WBC Ratio',\n",
       " 'Gender',\n",
       " 'Albumin [g/dL]',\n",
       " 'Creatine Phosphokinase [IU/L]',\n",
       " 'Total Lycopene [umol/L]',\n",
       " 'LDL_HDL Ratio',\n",
       " 'Beta-cryptoxanthin [umol/L]',\n",
       " 'Blood Urea Nitrogen [mg/dL]',\n",
       " 'Platelet count [1000 cells/uL]',\n",
       " 'Aspartate Aminotransferase [U/L]',\n",
       " '25-hydroxyvitamin D2 + D3 [nmol/L]',\n",
       " 'LDL-Cholesterol(NIH2) [mmol/L]',\n",
       " 'RBC count [million cells/uL]',\n",
       " 'Ferritin [ng/mL]',\n",
       " 'Alanine Aminotransferase [U/L]',\n",
       " 'Bicarbonate [mmol/L]',\n",
       " 'Lutein and zeaxanthin [umol/L]',\n",
       " 'Neutrophil_Lymphocyte Ratio',\n",
       " 'Trans-lycopene [umol/L]',\n",
       " 'Alpha-tocopherol [umol/L]',\n",
       " 'Lymphocyte [%]',\n",
       " 'Phosphorus [mg/dL]',\n",
       " 'Alkaline Phosphatase [IU/L]',\n",
       " 'Blood selenium [umol/L]',\n",
       " 'Iron frozen [umol/L]']"
      ]
     },
     "execution_count": 14,
     "metadata": {},
     "output_type": "execute_result"
    }
   ],
   "source": [
    "l1_selected_features = ml.svc_lasso_select(X_train, y_train, C=0.5)\n",
    "l1_selected_features[:30]"
   ]
  },
  {
   "cell_type": "code",
   "execution_count": 15,
   "id": "1b685cc9",
   "metadata": {},
   "outputs": [
    {
     "name": "stdout",
     "output_type": "stream",
     "text": [
      "\n",
      "Train Accuracy: 0.962\n",
      "\n",
      "Test Accuracy: 0.964\n",
      "\n",
      "Precision: 0.933\n",
      "\n",
      "Recall: 0.152\n",
      "\n",
      "F1-Score: 0.262\n"
     ]
    }
   ],
   "source": [
    "ml.evaluate_feature_set(l1_selected_features[:30], svm_classifier_test, X_train, y_train, X_val, y_val)"
   ]
  },
  {
   "cell_type": "markdown",
   "id": "a37796b0",
   "metadata": {},
   "source": [
    "### Relief F"
   ]
  },
  {
   "cell_type": "code",
   "execution_count": 16,
   "id": "bfb3ec54",
   "metadata": {},
   "outputs": [],
   "source": [
    "relieff_features = ml.relief_feature_select(30,X,y, n_jobs=-1)"
   ]
  },
  {
   "cell_type": "code",
   "execution_count": 17,
   "id": "fc600c21",
   "metadata": {},
   "outputs": [
    {
     "data": {
      "text/plain": [
       "['Nucleated RBCs',\n",
       " 'Creatinine [mg/dL]',\n",
       " 'Blood Urea Nitrogen [mg/dL]',\n",
       " 'Age',\n",
       " 'Hemoglobin [g/dL]',\n",
       " 'Hematocrit [%]',\n",
       " 'Osmolality [mmol/Kg]',\n",
       " 'Retinol [umol/L]',\n",
       " 'Total Cholesterol [mmol/L]',\n",
       " 'RBC count [million cells/uL]',\n",
       " 'Uric Acid [mg/dL]',\n",
       " 'Non_HDL Ratio',\n",
       " '25-hydroxyvitamin D2 + D3 [nmol/L]',\n",
       " 'Neutrophil_Lymphocyte Ratio',\n",
       " 'Lymphocyte [%]',\n",
       " 'Albumin [g/dL]',\n",
       " 'Gender',\n",
       " 'Transferrin Saturation [%]',\n",
       " 'Chloride [mmol/L]',\n",
       " 'UIBC [umol/L]',\n",
       " 'Glycohemoglobin [%]',\n",
       " 'Red cell distribution width [%]',\n",
       " 'Globulin [g/dL]',\n",
       " 'Total Protein [g/dL]',\n",
       " 'A/G Ratio',\n",
       " 'Segmented neutrophils [%]',\n",
       " 'Total Lycopene [umol/L]',\n",
       " 'Alpha-tocopherol [umol/L]',\n",
       " 'Total Iron Binding Capacity [umol/L]',\n",
       " 'Iron frozen [umol/L]']"
      ]
     },
     "execution_count": 17,
     "metadata": {},
     "output_type": "execute_result"
    }
   ],
   "source": [
    "relieff_features[:30]"
   ]
  },
  {
   "cell_type": "code",
   "execution_count": 18,
   "id": "8f76d0da",
   "metadata": {},
   "outputs": [
    {
     "name": "stdout",
     "output_type": "stream",
     "text": [
      "\n",
      "Train Accuracy: 0.962\n",
      "\n",
      "Test Accuracy: 0.963\n",
      "\n",
      "Precision: 0.917\n",
      "\n",
      "Recall: 0.120\n",
      "\n",
      "F1-Score: 0.212\n"
     ]
    }
   ],
   "source": [
    "ml.evaluate_feature_set(relieff_features[:30], svm_classifier_test, X_train, y_train, X_val, y_val)"
   ]
  },
  {
   "cell_type": "markdown",
   "id": "281f4770",
   "metadata": {},
   "source": [
    "### Optimal no. of features"
   ]
  },
  {
   "cell_type": "code",
   "execution_count": 19,
   "id": "7da46c27",
   "metadata": {},
   "outputs": [],
   "source": [
    "final_features = list(l1_selected_features) "
   ]
  },
  {
   "cell_type": "code",
   "execution_count": 20,
   "id": "401e3bfd",
   "metadata": {},
   "outputs": [
    {
     "name": "stderr",
     "output_type": "stream",
     "text": [
      "Finding optimal no. of features..: 100%|████████| 85/85 [08:27<00:00,  5.97s/it]\n"
     ]
    },
    {
     "name": "stdout",
     "output_type": "stream",
     "text": [
      "\n",
      "Maximum accuracy = 0.9637 for 38 features\n"
     ]
    },
    {
     "data": {
      "image/png": "[encoded data removed]",
      "text/plain": [
       "<Figure size 1000x700 with 1 Axes>"
      ]
     },
     "metadata": {},
     "output_type": "display_data"
    }
   ],
   "source": [
    "# Optimal no. of features\n",
    "\n",
    "ml.plot_num_feature_performance(svm_classifier_test,  X, y, final_features, scoring='accuracy')"
   ]
  },
  {
   "cell_type": "code",
   "execution_count": 21,
   "id": "4aaf5159",
   "metadata": {},
   "outputs": [
    {
     "name": "stderr",
     "output_type": "stream",
     "text": [
      "Finding optimal no. of features..: 100%|████████| 85/85 [08:26<00:00,  5.96s/it]\n"
     ]
    },
    {
     "name": "stdout",
     "output_type": "stream",
     "text": [
      "\n",
      "Maximum f1 = 0.2179 for 89 features\n"
     ]
    },
    {
     "data": {
      "image/png": "[encoded data removed]",
      "text/plain": [
       "<Figure size 1000x700 with 1 Axes>"
      ]
     },
     "metadata": {},
     "output_type": "display_data"
    }
   ],
   "source": [
    "# Optimal no. of features\n",
    "\n",
    "ml.plot_num_feature_performance(svm_classifier_test,  X, y, final_features, scoring='f1')"
   ]
  },
  {
   "cell_type": "code",
   "execution_count": 22,
   "id": "27de64c6",
   "metadata": {},
   "outputs": [],
   "source": [
    "num_features = 38\n",
    "\n",
    "selected = final_features[:num_features]\n",
    "selected.append('Weak/Failing kidneys')\n",
    "\n",
    "weak_kidney_df = weak_kidney_df[selected]"
   ]
  },
  {
   "cell_type": "code",
   "execution_count": 23,
   "id": "5386a09f",
   "metadata": {},
   "outputs": [],
   "source": [
    "# Save feature set\n",
    "    \n",
    "with open('../Models/Weak kidneys/Feature Sets/SVM Features.pkl', 'wb') as f:\n",
    "    ml.pickle.dump(selected, f)"
   ]
  },
  {
   "cell_type": "markdown",
   "id": "cd4a3a33",
   "metadata": {},
   "source": [
    "## Preprocessing"
   ]
  },
  {
   "cell_type": "markdown",
   "id": "32c7f0b2",
   "metadata": {},
   "source": [
    "### Zero Imputation"
   ]
  },
  {
   "cell_type": "code",
   "execution_count": 24,
   "id": "24b09db9",
   "metadata": {},
   "outputs": [],
   "source": [
    "# Imputing null values with zeroes\n",
    "\n",
    "X, y, X_train, X_val, X_test, y_train, y_val, y_test = ml.preprocess_and_split(df = weak_kidney_df, label = 'Weak/Failing kidneys',\n",
    "                                                        impute = True, scale=True,\n",
    "                                                        imputer=ml.SimpleImputer(strategy='constant',fill_value=0),\n",
    "                                                        random_state=42)"
   ]
  },
  {
   "cell_type": "code",
   "execution_count": 25,
   "id": "4c234679",
   "metadata": {},
   "outputs": [
    {
     "name": "stdout",
     "output_type": "stream",
     "text": [
      "\n",
      "Train Accuracy: 0.962\n",
      "\n",
      "Test Accuracy: 0.964\n",
      "\n",
      "Precision: 0.933\n",
      "\n",
      "Recall: 0.152\n",
      "\n",
      "F1-Score: 0.262\n"
     ]
    }
   ],
   "source": [
    "svm_classifier.fit(X_train, y_train)\n",
    "\n",
    "ml.evaluate_model_metrics(svm_classifier,X_train,y_train,X_val,y_val)"
   ]
  },
  {
   "cell_type": "markdown",
   "id": "1877522f",
   "metadata": {},
   "source": [
    "### Mode Imputation"
   ]
  },
  {
   "cell_type": "code",
   "execution_count": 26,
   "id": "fcca0b91",
   "metadata": {},
   "outputs": [],
   "source": [
    "# Imputing with most frequent values\n",
    "\n",
    "X, y, X_train, X_val, X_test, y_train, y_val, y_test = ml.preprocess_and_split(df = weak_kidney_df, label = 'Weak/Failing kidneys',\n",
    "                                                              impute = True, scale=True,\n",
    "                                                              imputer=ml.SimpleImputer(strategy='most_frequent'),\n",
    "                                                              random_state=42)"
   ]
  },
  {
   "cell_type": "code",
   "execution_count": 27,
   "id": "43855037",
   "metadata": {},
   "outputs": [
    {
     "name": "stdout",
     "output_type": "stream",
     "text": [
      "\n",
      "Train Accuracy: 0.962\n",
      "\n",
      "Test Accuracy: 0.964\n",
      "\n",
      "Precision: 0.933\n",
      "\n",
      "Recall: 0.152\n",
      "\n",
      "F1-Score: 0.262\n"
     ]
    }
   ],
   "source": [
    "svm_classifier.fit(X_train, y_train)\n",
    "\n",
    "ml.evaluate_model_metrics(svm_classifier,X_train,y_train,X_val,y_val)"
   ]
  },
  {
   "cell_type": "markdown",
   "id": "8484c25a",
   "metadata": {},
   "source": [
    "### k-NN Imputation"
   ]
  },
  {
   "cell_type": "code",
   "execution_count": 28,
   "id": "288ec08b",
   "metadata": {},
   "outputs": [],
   "source": [
    "# Imputing missing values with values from the k-nearest neighbors in the feature space\n",
    "\n",
    "X, y, X_train, X_val, X_test, y_train, y_val, y_test = ml.preprocess_and_split(df = weak_kidney_df, label = 'Weak/Failing kidneys',\n",
    "                                                              impute = True, scale=True,\n",
    "                                                              imputer=ml.KNNImputer(n_neighbors=20),\n",
    "                                                              random_state=42)"
   ]
  },
  {
   "cell_type": "code",
   "execution_count": 29,
   "id": "d03244a8",
   "metadata": {},
   "outputs": [
    {
     "name": "stdout",
     "output_type": "stream",
     "text": [
      "\n",
      "Train Accuracy: 0.962\n",
      "\n",
      "Test Accuracy: 0.964\n",
      "\n",
      "Precision: 0.933\n",
      "\n",
      "Recall: 0.152\n",
      "\n",
      "F1-Score: 0.262\n"
     ]
    }
   ],
   "source": [
    "svm_classifier.fit(X_train, y_train)\n",
    "\n",
    "ml.evaluate_model_metrics(svm_classifier,X_train,y_train,X_val,y_val)"
   ]
  },
  {
   "cell_type": "markdown",
   "id": "e8c1a99e",
   "metadata": {},
   "source": [
    "### Multiple Imputation by Chained Equations (MICE)"
   ]
  },
  {
   "cell_type": "code",
   "execution_count": 30,
   "id": "d78c9b6a",
   "metadata": {},
   "outputs": [],
   "source": [
    "# Imputes by looking at data from other columns and trying to estimate the best prediction for each missing value.\n",
    "\n",
    "X, y, X_train, X_val, X_test, y_train, y_val, y_test = ml.preprocess_and_split(df = weak_kidney_df, label = 'Weak/Failing kidneys',\n",
    "                                                              impute = True, scale=True,\n",
    "                                                              imputer=ml.IterativeImputer(max_iter=20),\n",
    "                                                              random_state=42)"
   ]
  },
  {
   "cell_type": "code",
   "execution_count": 31,
   "id": "78e0324b",
   "metadata": {},
   "outputs": [
    {
     "name": "stdout",
     "output_type": "stream",
     "text": [
      "\n",
      "Train Accuracy: 0.962\n",
      "\n",
      "Test Accuracy: 0.964\n",
      "\n",
      "Precision: 0.933\n",
      "\n",
      "Recall: 0.152\n",
      "\n",
      "F1-Score: 0.262\n"
     ]
    }
   ],
   "source": [
    "svm_classifier.fit(X_train, y_train)\n",
    "\n",
    "ml.evaluate_model_metrics(svm_classifier,X_train,y_train,X_val,y_val)"
   ]
  },
  {
   "cell_type": "markdown",
   "id": "ecf3258f",
   "metadata": {},
   "source": [
    "### Mean Imputation"
   ]
  },
  {
   "cell_type": "code",
   "execution_count": 32,
   "id": "cf825805",
   "metadata": {},
   "outputs": [],
   "source": [
    "# Splitting and Preprocessing data\n",
    "\n",
    "X, y, X_train, X_val, X_test, y_train, y_val, y_test = ml.preprocess_and_split(df = weak_kidney_df, label = 'Weak/Failing kidneys',\n",
    "                                                              impute = True, scale=True,\n",
    "                                                              imputer=ml.SimpleImputer(strategy='mean'),\n",
    "                                                              random_state=42)"
   ]
  },
  {
   "cell_type": "code",
   "execution_count": 33,
   "id": "c4eb9258",
   "metadata": {},
   "outputs": [
    {
     "name": "stdout",
     "output_type": "stream",
     "text": [
      "\n",
      "Train Accuracy: 0.962\n",
      "\n",
      "Test Accuracy: 0.964\n",
      "\n",
      "Precision: 0.929\n",
      "\n",
      "Recall: 0.141\n",
      "\n",
      "F1-Score: 0.245\n"
     ]
    }
   ],
   "source": [
    "svm_classifier.fit(X_train, y_train)\n",
    "\n",
    "ml.evaluate_model_metrics(svm_classifier,X_train,y_train,X_val,y_val)"
   ]
  },
  {
   "cell_type": "markdown",
   "id": "5bd39f86",
   "metadata": {},
   "source": [
    "### Dropping Null Values"
   ]
  },
  {
   "cell_type": "code",
   "execution_count": 34,
   "id": "2a0f7318",
   "metadata": {
    "scrolled": true
   },
   "outputs": [],
   "source": [
    "# Drop null values\n",
    "weak_kidney_df_na = weak_kidney_df.dropna()\n",
    "\n",
    "X, y, X_train, X_val, X_test, y_train, y_val, y_test = ml.preprocess_and_split(df = weak_kidney_df_na, label = 'Weak/Failing kidneys',\n",
    "                                                              impute = False, scale=True,\n",
    "                                                              random_state=42)"
   ]
  },
  {
   "cell_type": "code",
   "execution_count": 35,
   "id": "f3c46212",
   "metadata": {},
   "outputs": [
    {
     "name": "stdout",
     "output_type": "stream",
     "text": [
      "\n",
      "Train Accuracy: 0.965\n",
      "\n",
      "Test Accuracy: 0.959\n",
      "\n",
      "Precision: 0.667\n",
      "\n",
      "Recall: 0.125\n",
      "\n",
      "F1-Score: 0.211\n"
     ]
    }
   ],
   "source": [
    "svm_classifier.fit(X_train, y_train)\n",
    "\n",
    "ml.evaluate_model_metrics(svm_classifier,X_train,y_train,X_val,y_val)"
   ]
  },
  {
   "cell_type": "markdown",
   "id": "dc71288f",
   "metadata": {},
   "source": [
    "### Median Imputation"
   ]
  },
  {
   "cell_type": "code",
   "execution_count": 72,
   "id": "648640e9",
   "metadata": {},
   "outputs": [],
   "source": [
    "# Imputing with median values\n",
    "\n",
    "X, y, X_train, X_val, X_test, y_train, y_val, y_test = ml.preprocess_and_split(df = weak_kidney_df, label = 'Weak/Failing kidneys',\n",
    "                                                              impute = True, scale=True,\n",
    "                                                              imputer=ml.SimpleImputer(strategy='median'),\n",
    "                                                              random_state=42)"
   ]
  },
  {
   "cell_type": "code",
   "execution_count": 37,
   "id": "188ab3fd",
   "metadata": {
    "scrolled": true
   },
   "outputs": [
    {
     "name": "stdout",
     "output_type": "stream",
     "text": [
      "\n",
      "Train Accuracy: 0.962\n",
      "\n",
      "Test Accuracy: 0.964\n",
      "\n",
      "Precision: 0.933\n",
      "\n",
      "Recall: 0.152\n",
      "\n",
      "F1-Score: 0.262\n"
     ]
    }
   ],
   "source": [
    "svm_classifier.fit(X_train, y_train)\n",
    "\n",
    "ml.evaluate_model_metrics(svm_classifier,X_train,y_train,X_val,y_val)"
   ]
  },
  {
   "cell_type": "markdown",
   "id": "d4f3c7a0",
   "metadata": {},
   "source": [
    "## Oversampling and Undersampling"
   ]
  },
  {
   "cell_type": "markdown",
   "id": "f2ab083d",
   "metadata": {},
   "source": [
    "### Random Oversampling"
   ]
  },
  {
   "cell_type": "code",
   "execution_count": 38,
   "id": "61c3f573",
   "metadata": {
    "scrolled": false
   },
   "outputs": [
    {
     "name": "stdout",
     "output_type": "stream",
     "text": [
      "\n",
      "Train Accuracy: 0.781\n",
      "\n",
      "Test Accuracy: 0.856\n",
      "\n",
      "Precision: 0.190\n",
      "\n",
      "Recall: 0.761\n",
      "\n",
      "F1-Score: 0.304\n"
     ]
    }
   ],
   "source": [
    "X_ros, y_ros = ml.random_over_sample(X_train, y_train)\n",
    "\n",
    "svm_classifier.fit(X_ros, y_ros)\n",
    "\n",
    "ml.evaluate_model_metrics(svm_classifier,X_ros, y_ros,X_val, y_val)"
   ]
  },
  {
   "cell_type": "markdown",
   "id": "55cc4ab2",
   "metadata": {},
   "source": [
    "### SMOTE (Synthetic Minority Over-sampling Technique)"
   ]
  },
  {
   "cell_type": "code",
   "execution_count": 39,
   "id": "5ed6c6b3",
   "metadata": {
    "scrolled": false
   },
   "outputs": [
    {
     "name": "stdout",
     "output_type": "stream",
     "text": [
      "\n",
      "Train Accuracy: 0.766\n",
      "\n",
      "Test Accuracy: 0.852\n",
      "\n",
      "Precision: 0.185\n",
      "\n",
      "Recall: 0.761\n",
      "\n",
      "F1-Score: 0.298\n"
     ]
    }
   ],
   "source": [
    "X_smote, y_smote = ml.smote_over_sample(X_train, y_train)\n",
    "\n",
    "svm_classifier.fit(X_smote, y_smote)\n",
    "\n",
    "ml.evaluate_model_metrics(svm_classifier,X_smote, y_smote,X_val, y_val)"
   ]
  },
  {
   "cell_type": "markdown",
   "id": "0532ee8b",
   "metadata": {},
   "source": [
    "### Random Undersampling"
   ]
  },
  {
   "cell_type": "code",
   "execution_count": 40,
   "id": "5286090b",
   "metadata": {
    "scrolled": false
   },
   "outputs": [
    {
     "name": "stdout",
     "output_type": "stream",
     "text": [
      "\n",
      "Train Accuracy: 0.753\n",
      "\n",
      "Test Accuracy: 0.819\n",
      "\n",
      "Precision: 0.146\n",
      "\n",
      "Recall: 0.696\n",
      "\n",
      "F1-Score: 0.242\n"
     ]
    }
   ],
   "source": [
    "X_rus, y_rus = ml.random_under_sample(X_train, y_train)\n",
    "\n",
    "svm_classifier.fit(X_rus, y_rus)\n",
    "\n",
    "ml.evaluate_model_metrics(svm_classifier,X_rus, y_rus,X_val, y_val)"
   ]
  },
  {
   "cell_type": "markdown",
   "id": "6defa173",
   "metadata": {},
   "source": [
    "### Tomek Links"
   ]
  },
  {
   "cell_type": "code",
   "execution_count": 41,
   "id": "f4fa6ccf",
   "metadata": {
    "scrolled": false
   },
   "outputs": [
    {
     "name": "stdout",
     "output_type": "stream",
     "text": [
      "\n",
      "Train Accuracy: 0.962\n",
      "\n",
      "Test Accuracy: 0.964\n",
      "\n",
      "Precision: 0.933\n",
      "\n",
      "Recall: 0.152\n",
      "\n",
      "F1-Score: 0.262\n"
     ]
    }
   ],
   "source": [
    "X_tomek, y_tomek = ml.tomek_links(X_train, y_train)\n",
    "\n",
    "svm_classifier.fit(X_tomek, y_tomek)\n",
    "\n",
    "ml.evaluate_model_metrics(svm_classifier,X_tomek, y_tomek,X_val, y_val)"
   ]
  },
  {
   "cell_type": "markdown",
   "id": "111c9c16",
   "metadata": {},
   "source": [
    "### SMOTE + Tomek Links"
   ]
  },
  {
   "cell_type": "code",
   "execution_count": 42,
   "id": "753149c7",
   "metadata": {
    "scrolled": false
   },
   "outputs": [
    {
     "name": "stdout",
     "output_type": "stream",
     "text": [
      "\n",
      "Train Accuracy: 0.766\n",
      "\n",
      "Test Accuracy: 0.852\n",
      "\n",
      "Precision: 0.187\n",
      "\n",
      "Recall: 0.772\n",
      "\n",
      "F1-Score: 0.301\n"
     ]
    }
   ],
   "source": [
    "X_smote_tomek, y_smote_tomek = ml.smote_tomek(X_train, y_train)\n",
    "\n",
    "svm_classifier.fit(X_smote_tomek, y_smote_tomek)\n",
    "\n",
    "ml.evaluate_model_metrics(svm_classifier,X_smote_tomek, y_smote_tomek,X_val, y_val)"
   ]
  },
  {
   "cell_type": "code",
   "execution_count": 73,
   "id": "1f3a2dd8",
   "metadata": {},
   "outputs": [],
   "source": [
    "# ros provides better results\n",
    "\n",
    "X_train, y_train = X_ros, y_ros"
   ]
  },
  {
   "cell_type": "markdown",
   "id": "9bda7751",
   "metadata": {},
   "source": [
    "## Hyperparameter Optimization "
   ]
  },
  {
   "cell_type": "markdown",
   "id": "a8911f34",
   "metadata": {},
   "source": [
    "### Grid Search"
   ]
  },
  {
   "cell_type": "code",
   "execution_count": 44,
   "id": "8bbd1f7f",
   "metadata": {},
   "outputs": [],
   "source": [
    "param_grid = {\n",
    "    \n",
    "    'C': [0.001, 0.01, 0.1, 1, 10, 100],  \n",
    "    'loss': ['hinge', 'squared_hinge'],\n",
    "    'penalty': ['l1', 'l2'],\n",
    "    'dual': [False], \n",
    "    'class_weight': [None, 'balanced'] \n",
    "\n",
    "}"
   ]
  },
  {
   "cell_type": "code",
   "execution_count": 45,
   "id": "1b862359",
   "metadata": {},
   "outputs": [],
   "source": [
    "grid_best_params, svm_classifier_grid = ml.grid_search_optimize(svm_classifier, param_grid, X_train, \n",
    "                                                                y_train, cv=10,scoring='f1')"
   ]
  },
  {
   "cell_type": "code",
   "execution_count": 46,
   "id": "86a4a7b5",
   "metadata": {},
   "outputs": [
    {
     "data": {
      "text/plain": [
       "{'C': 0.001,\n",
       " 'class_weight': None,\n",
       " 'dual': False,\n",
       " 'loss': 'squared_hinge',\n",
       " 'penalty': 'l2'}"
      ]
     },
     "execution_count": 46,
     "metadata": {},
     "output_type": "execute_result"
    }
   ],
   "source": [
    "grid_best_params"
   ]
  },
  {
   "cell_type": "code",
   "execution_count": 47,
   "id": "2268aff4",
   "metadata": {},
   "outputs": [
    {
     "name": "stdout",
     "output_type": "stream",
     "text": [
      "\n",
      "Train Accuracy: 0.787\n",
      "\n",
      "Test Accuracy: 0.853\n",
      "\n",
      "Precision: 0.190\n",
      "\n",
      "Recall: 0.783\n",
      "\n",
      "F1-Score: 0.306\n"
     ]
    }
   ],
   "source": [
    "ml.evaluate_model_metrics(svm_classifier_grid,X_train,y_train,X_val,y_val)"
   ]
  },
  {
   "cell_type": "markdown",
   "id": "8458e5a6",
   "metadata": {},
   "source": [
    "### Random Search"
   ]
  },
  {
   "cell_type": "code",
   "execution_count": 48,
   "id": "cc4fcfeb",
   "metadata": {},
   "outputs": [],
   "source": [
    "rand_best_params, svm_classifier_rand = ml.random_search_optimize(svm_classifier,param_grid,n_iter=100,cv=5,\n",
    "                                                               X_train=X_train, y_train=y_train,\n",
    "                                                               scoring='f1')"
   ]
  },
  {
   "cell_type": "code",
   "execution_count": 49,
   "id": "a3aca564",
   "metadata": {},
   "outputs": [
    {
     "data": {
      "text/plain": [
       "{'penalty': 'l2',\n",
       " 'loss': 'squared_hinge',\n",
       " 'dual': False,\n",
       " 'class_weight': None,\n",
       " 'C': 0.001}"
      ]
     },
     "execution_count": 49,
     "metadata": {},
     "output_type": "execute_result"
    }
   ],
   "source": [
    "rand_best_params"
   ]
  },
  {
   "cell_type": "code",
   "execution_count": 50,
   "id": "0c27dea7",
   "metadata": {},
   "outputs": [
    {
     "name": "stdout",
     "output_type": "stream",
     "text": [
      "\n",
      "Train Accuracy: 0.787\n",
      "\n",
      "Test Accuracy: 0.853\n",
      "\n",
      "Precision: 0.190\n",
      "\n",
      "Recall: 0.783\n",
      "\n",
      "F1-Score: 0.306\n"
     ]
    }
   ],
   "source": [
    "ml.evaluate_model_metrics(svm_classifier_rand,X_train,y_train,X_val,y_val)"
   ]
  },
  {
   "cell_type": "markdown",
   "id": "7d6294a4",
   "metadata": {},
   "source": [
    "### Optuna"
   ]
  },
  {
   "cell_type": "code",
   "execution_count": 51,
   "id": "ae722921",
   "metadata": {},
   "outputs": [],
   "source": [
    "def objective(trial):\n",
    "\n",
    "    C = trial.suggest_loguniform('C', 1e-5, 1e3)\n",
    "    loss = trial.suggest_categorical('loss', ['hinge', 'squared_hinge'])\n",
    "    penalty = trial.suggest_categorical('penalty', ['l1', 'l2'])\n",
    "    class_weight = trial.suggest_categorical('class_weight', [None, 'balanced'])\n",
    "    dual = False\n",
    "    \n",
    "    if penalty == 'l1' or penalty == 'l2' and loss == 'hinge':\n",
    "        raise ml.optuna.TrialPruned()\n",
    "\n",
    "    model = ml.LinearSVC(C=C, loss=loss, penalty=penalty, class_weight=class_weight, dual=dual, random_state=42)\n",
    "            \n",
    "    model.fit(X_train, y_train)\n",
    "    y_pred = model.predict(X_test)\n",
    "\n",
    "    f1_score = ml.f1_score(y_test, y_pred)\n",
    "\n",
    "    return f1_score"
   ]
  },
  {
   "cell_type": "code",
   "execution_count": 52,
   "id": "e7e379fd",
   "metadata": {},
   "outputs": [],
   "source": [
    "best_trial , svm_classifier_opt = ml.optuna_optimize(objective, ml.LinearSVC, n_trials=150)"
   ]
  },
  {
   "cell_type": "code",
   "execution_count": 53,
   "id": "b9b8c5b6",
   "metadata": {},
   "outputs": [
    {
     "data": {
      "text/plain": [
       "{'C': 0.23758907946716268,\n",
       " 'loss': 'squared_hinge',\n",
       " 'penalty': 'l2',\n",
       " 'class_weight': 'balanced'}"
      ]
     },
     "execution_count": 53,
     "metadata": {},
     "output_type": "execute_result"
    }
   ],
   "source": [
    "best_trial"
   ]
  },
  {
   "cell_type": "code",
   "execution_count": 54,
   "id": "9e3a828c",
   "metadata": {},
   "outputs": [
    {
     "name": "stdout",
     "output_type": "stream",
     "text": [
      "\n",
      "Train Accuracy: 0.781\n",
      "\n",
      "Test Accuracy: 0.857\n",
      "\n",
      "Precision: 0.192\n",
      "\n",
      "Recall: 0.761\n",
      "\n",
      "F1-Score: 0.306\n"
     ]
    }
   ],
   "source": [
    "svm_classifier_opt.fit(X_train,y_train)\n",
    "\n",
    "ml.evaluate_model_metrics(svm_classifier_opt,X_train,y_train,X_val,y_val)"
   ]
  },
  {
   "cell_type": "markdown",
   "id": "0d9910b8",
   "metadata": {},
   "source": [
    "## Evaluation on Test Set"
   ]
  },
  {
   "cell_type": "code",
   "execution_count": 55,
   "id": "d53424ec",
   "metadata": {},
   "outputs": [
    {
     "name": "stdout",
     "output_type": "stream",
     "text": [
      "\n",
      "Train Accuracy: 0.777\n",
      "\n",
      "Test Accuracy: 0.844\n",
      "\n",
      "Precision: 0.165\n",
      "\n",
      "Recall: 0.646\n",
      "\n",
      "F1-Score: 0.263\n",
      "\n",
      "Confusion Matrix:\n",
      "\n",
      "[[1814  314]\n",
      " [  34   62]]\n",
      "\n",
      "\n",
      "Classification Report:\n",
      "\n",
      "              precision    recall  f1-score   support\n",
      "\n",
      "     Class 0       0.98      0.85      0.91      2128\n",
      "     Class 1       0.16      0.65      0.26        96\n",
      "\n",
      "    accuracy                           0.84      2224\n",
      "   macro avg       0.57      0.75      0.59      2224\n",
      "weighted avg       0.95      0.84      0.88      2224\n",
      "\n",
      "\n",
      "ROC-AUC Curve:\n"
     ]
    },
    {
     "data": {
      "image/png": "[encoded data removed]",
      "text/plain": [
       "<Figure size 600x400 with 1 Axes>"
      ]
     },
     "metadata": {},
     "output_type": "display_data"
    }
   ],
   "source": [
    "# After evaluating on the validation set, we evaluate and finalize on the test set\n",
    "\n",
    "ml.evaluate_model_metrics(svm_classifier, X_train, y_train, X_test, y_test, verbose=6)"
   ]
  },
  {
   "cell_type": "markdown",
   "id": "e7b5c88c",
   "metadata": {},
   "source": [
    "## Cross Validation"
   ]
  },
  {
   "cell_type": "markdown",
   "id": "7e539fb9",
   "metadata": {},
   "source": [
    "### K-fold"
   ]
  },
  {
   "cell_type": "code",
   "execution_count": 56,
   "id": "e77a24f0",
   "metadata": {},
   "outputs": [
    {
     "name": "stdout",
     "output_type": "stream",
     "text": [
      "\n",
      "accuracy scores: [0.96582734 0.96582734 0.96402878 0.96402878 0.96402878 0.95863309\n",
      " 0.96223022 0.96582734 0.96402878 0.96223022]\n",
      "\n",
      "Mean accuracy score:  0.9636690647482015\n",
      "\n",
      "Standard deviation:  0.0020974647103759944\n"
     ]
    }
   ],
   "source": [
    "ml.k_cross_validate(svm_classifier,X,y,cv=10,scoring='accuracy')"
   ]
  },
  {
   "cell_type": "code",
   "execution_count": 57,
   "id": "4aad10b7",
   "metadata": {},
   "outputs": [
    {
     "name": "stdout",
     "output_type": "stream",
     "text": [
      "\n",
      "accuracy scores: [0.96402878 0.96582734 0.96402878 0.96402878 0.96223022 0.95863309\n",
      " 0.96223022 0.96402878 0.96223022 0.96223022]\n",
      "\n",
      "Mean accuracy score:  0.9629496402877697\n",
      "\n",
      "Standard deviation:  0.0018341796811484725\n"
     ]
    }
   ],
   "source": [
    "ml.k_cross_validate(svm_classifier_grid,X,y,cv=10,scoring='accuracy')"
   ]
  },
  {
   "cell_type": "code",
   "execution_count": 58,
   "id": "fa6ff1f4",
   "metadata": {},
   "outputs": [
    {
     "name": "stdout",
     "output_type": "stream",
     "text": [
      "\n",
      "accuracy scores: [0.96402878 0.96582734 0.96402878 0.96402878 0.96223022 0.95863309\n",
      " 0.96223022 0.96402878 0.96223022 0.96223022]\n",
      "\n",
      "Mean accuracy score:  0.9629496402877697\n",
      "\n",
      "Standard deviation:  0.0018341796811484725\n"
     ]
    }
   ],
   "source": [
    "ml.k_cross_validate(svm_classifier_rand,X,y,cv=10,scoring='accuracy')"
   ]
  },
  {
   "cell_type": "code",
   "execution_count": 59,
   "id": "46f81577",
   "metadata": {},
   "outputs": [
    {
     "name": "stdout",
     "output_type": "stream",
     "text": [
      "\n",
      "accuracy scores: [0.85071942 0.83633094 0.85251799 0.88129496 0.8705036  0.86870504\n",
      " 0.86870504 0.83273381 0.85431655 0.84172662]\n",
      "\n",
      "Mean accuracy score:  0.8557553956834532\n",
      "\n",
      "Standard deviation:  0.015320531970537298\n"
     ]
    }
   ],
   "source": [
    "ml.k_cross_validate(svm_classifier_opt,X,y,cv=10,scoring='accuracy')"
   ]
  },
  {
   "cell_type": "markdown",
   "id": "ad831ffc",
   "metadata": {},
   "source": [
    "### Stratified K-fold"
   ]
  },
  {
   "cell_type": "code",
   "execution_count": 60,
   "id": "29a48b89",
   "metadata": {},
   "outputs": [
    {
     "name": "stdout",
     "output_type": "stream",
     "text": [
      "\n",
      "Average Accuracy: 0.9636690647482015\n",
      "\n",
      "Average Precision: 0.8616666666666667\n",
      "\n",
      "Average Recall: 0.12114624505928853\n",
      "\n",
      "Average F1-Score: 0.2081429456212065\n"
     ]
    }
   ],
   "source": [
    "ml.stratified_k_cross_validate(svm_classifier,X,y,n_splits=10)"
   ]
  },
  {
   "cell_type": "code",
   "execution_count": 61,
   "id": "e0f6f6d6",
   "metadata": {},
   "outputs": [
    {
     "name": "stdout",
     "output_type": "stream",
     "text": [
      "\n",
      "Average Accuracy: 0.9633093525179856\n",
      "\n",
      "Average Precision: 0.8949999999999999\n",
      "\n",
      "Average Recall: 0.1077075098814229\n",
      "\n",
      "Average F1-Score: 0.18642834138486308\n"
     ]
    }
   ],
   "source": [
    "ml.stratified_k_cross_validate(svm_classifier_grid,X,y,n_splits=10)"
   ]
  },
  {
   "cell_type": "code",
   "execution_count": 62,
   "id": "5aa2c58d",
   "metadata": {},
   "outputs": [
    {
     "name": "stdout",
     "output_type": "stream",
     "text": [
      "\n",
      "Average Accuracy: 0.9633093525179856\n",
      "\n",
      "Average Precision: 0.8949999999999999\n",
      "\n",
      "Average Recall: 0.1077075098814229\n",
      "\n",
      "Average F1-Score: 0.18642834138486308\n"
     ]
    }
   ],
   "source": [
    "ml.stratified_k_cross_validate(svm_classifier_rand,X,y,n_splits=10)"
   ]
  },
  {
   "cell_type": "code",
   "execution_count": 63,
   "id": "2c1453da",
   "metadata": {},
   "outputs": [
    {
     "name": "stdout",
     "output_type": "stream",
     "text": [
      "\n",
      "Average Accuracy: 0.8552158273381295\n",
      "\n",
      "Average Precision: 0.1649232703801063\n",
      "\n",
      "Average Recall: 0.632411067193676\n",
      "\n",
      "Average F1-Score: 0.26101031881436476\n"
     ]
    }
   ],
   "source": [
    "ml.stratified_k_cross_validate(svm_classifier_opt,X,y,n_splits=10)"
   ]
  },
  {
   "cell_type": "markdown",
   "id": "7a471ca4",
   "metadata": {},
   "source": [
    "### Save Model"
   ]
  },
  {
   "cell_type": "code",
   "execution_count": 74,
   "id": "6e89475b",
   "metadata": {},
   "outputs": [],
   "source": [
    "final_svm_estimator = svm_classifier"
   ]
  },
  {
   "cell_type": "code",
   "execution_count": 87,
   "id": "ea9c37ae",
   "metadata": {},
   "outputs": [
    {
     "name": "stdout",
     "output_type": "stream",
     "text": [
      "Overwrite File? [y/n]: y\n",
      "Saved Model\n"
     ]
    }
   ],
   "source": [
    "# Saving the model\n",
    "\n",
    "ml.save_model(final_svm_estimator, \"../Models/Weak kidneys/SVM.pkl\")"
   ]
  },
  {
   "cell_type": "markdown",
   "id": "de59f229",
   "metadata": {},
   "source": [
    "## Prediction"
   ]
  },
  {
   "cell_type": "code",
   "execution_count": 88,
   "id": "67af8316",
   "metadata": {},
   "outputs": [
    {
     "name": "stdout",
     "output_type": "stream",
     "text": [
      "Instance:\n",
      " [ 0.         -0.68801717 -0.42088403  0.65771378  0.72383802  0.16577864\n",
      "  1.57195119  0.48497789 -0.03878021 -0.32122496 -0.06414882  0.21609729\n",
      " -1.03438808  2.19713343 -0.53829954 -1.19716249 -0.05028868 -1.4234133\n",
      " -0.80978922 -1.12963474 -0.71800202  0.24589727 -0.53491609 -0.19887673\n",
      "  0.06101038  0.53012103 -0.29993977  0.26155224 -1.45595901 -1.96542783\n",
      "  0.58872146 -0.92360123 -0.48793477 -0.48472848 -1.6627907   0.33992333\n",
      "  0.75256252 -1.17209534]\n",
      "\n",
      "Expected Class:  0\n",
      "\n",
      " Modified Instance:\n",
      " [ 0.         -0.71485371 -0.42953788  0.65158273  0.83528602  0.18079499\n",
      "  1.47807713  0.3923208  -0.43544838 -0.4532694  -0.14067399  0.21816836\n",
      " -1.00656359  2.24532428 -0.59558479 -1.28080548 -0.01880584 -1.47559636\n",
      " -0.9677326  -1.25976884 -0.59225624  0.36754997 -0.61862656 -0.20604331\n",
      "  0.17614048  0.53780767 -0.18709864  0.67360623 -1.47276073 -1.82859649\n",
      "  0.6934872  -0.91575039 -0.63369743 -0.60735166 -1.81091627  0.4567974\n",
      "  0.86372141 -1.17198624]\n",
      "\n",
      "Predicted Class:  [0]\n"
     ]
    }
   ],
   "source": [
    "# Predicting on perturbed values\n",
    "sc = ml.np.random.rand()\n",
    "\n",
    "ml.predict_on_modified_instance(final_svm_estimator, X_test.iloc[0], y_test.iloc[0], sc)"
   ]
  },
  {
   "cell_type": "code",
   "execution_count": 89,
   "id": "47fd86f8",
   "metadata": {},
   "outputs": [
    {
     "name": "stdout",
     "output_type": "stream",
     "text": [
      "Instance:\n",
      " [ 1.          0.94922231  0.01198879 -1.21438854 -0.25180789 -0.56653306\n",
      " -1.46782156 -0.14679299 -0.16045984 -1.34472251 -0.02346903 -0.6549441\n",
      "  0.35368996 -1.2666321   1.32073553 -1.01777282 -1.19889473  0.48093035\n",
      "  1.04304807  2.04247089 -0.29348082 -0.36219336 -0.09740982 -1.29654827\n",
      " -0.17332255 -0.14209174 -1.52018253  0.63985171  1.65283037 -0.2070526\n",
      " -0.12555942  0.35070408 -0.10400874 -0.07263078  1.77230186 -0.81514083\n",
      "  0.13468181  0.21446851]\n",
      "\n",
      "Expected Class:  1\n",
      "\n",
      " Modified Instance:\n",
      " [ 1.          0.98214908  0.04100858 -1.4321058  -0.11416804 -0.45958314\n",
      " -1.15525245  0.08828391  0.16399031 -1.25966655  0.18169975 -0.66083673\n",
      "  0.23109506 -1.30288457  1.53435314 -1.08460269 -1.16689227  0.48946087\n",
      "  1.00437782  2.09058048 -0.41291991 -0.20923754  0.01375527 -1.41289492\n",
      " -0.00270823 -0.50942576 -1.66545306  0.75888458  1.70448502 -0.09288064\n",
      "  0.11645509  0.34381598 -0.17629176 -0.25087652  1.81393375 -0.64670569\n",
      "  0.07316267 -0.14760795]\n",
      "\n",
      "Predicted Class:  [0]\n"
     ]
    }
   ],
   "source": [
    "ml.predict_on_modified_instance(final_svm_estimator, X_test.iloc[20], y_test.iloc[20], sc)"
   ]
  }
 ],
 "metadata": {
  "kernelspec": {
   "display_name": "Python 3 (ipykernel)",
   "language": "python",
   "name": "python3"
  },
  "language_info": {
   "codemirror_mode": {
    "name": "ipython",
    "version": 3
   },
   "file_extension": ".py",
   "mimetype": "text/x-python",
   "name": "python",
   "nbconvert_exporter": "python",
   "pygments_lexer": "ipython3",
   "version": "3.10.12"
  }
 },
 "nbformat": 4,
 "nbformat_minor": 5
}
