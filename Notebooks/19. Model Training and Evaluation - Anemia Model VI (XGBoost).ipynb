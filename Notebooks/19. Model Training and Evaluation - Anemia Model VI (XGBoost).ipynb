{
 "cells": [
  {
   "cell_type": "markdown",
   "id": "d2acf9f1",
   "metadata": {},
   "source": [
    "# Anemia XGB Classifier"
   ]
  },
  {
   "cell_type": "code",
   "execution_count": 1,
   "id": "5c1b7eb2",
   "metadata": {},
   "outputs": [],
   "source": [
    "import some_load_train_evaluate_functions as ml"
   ]
  },
  {
   "cell_type": "code",
   "execution_count": 2,
   "id": "6b4433ef",
   "metadata": {},
   "outputs": [
    {
     "name": "stdout",
     "output_type": "stream",
     "text": [
      "Connected to database successfully.\n"
     ]
    }
   ],
   "source": [
    "path = '../KG/db.env'\n",
    "\n",
    "driver = ml.connect_to_neo4j(path)"
   ]
  },
  {
   "cell_type": "markdown",
   "id": "4016e569",
   "metadata": {},
   "source": [
    "### Load Data"
   ]
  },
  {
   "cell_type": "code",
   "execution_count": 3,
   "id": "76bbe0fe",
   "metadata": {
    "scrolled": false
   },
   "outputs": [
    {
     "data": {
      "text/html": [
       "<div>\n",
       "<style scoped>\n",
       "    .dataframe tbody tr th:only-of-type {\n",
       "        vertical-align: middle;\n",
       "    }\n",
       "\n",
       "    .dataframe tbody tr th {\n",
       "        vertical-align: top;\n",
       "    }\n",
       "\n",
       "    .dataframe thead th {\n",
       "        text-align: right;\n",
       "    }\n",
       "</style>\n",
       "<table border=\"1\" class=\"dataframe\">\n",
       "  <thead>\n",
       "    <tr style=\"text-align: right;\">\n",
       "      <th></th>\n",
       "      <th>Respondent_ID</th>\n",
       "      <th>Gender</th>\n",
       "      <th>Age</th>\n",
       "      <th>BMI</th>\n",
       "      <th>25-hydroxyvitamin D2 + D3 [nmol/L]</th>\n",
       "      <th>A/G Ratio</th>\n",
       "      <th>Alpha-carotene [umol/L]</th>\n",
       "      <th>Alpha-crypotoxanthin [umol/L]</th>\n",
       "      <th>Alpha-tocopherol [umol/L]</th>\n",
       "      <th>Basophils [%]</th>\n",
       "      <th>...</th>\n",
       "      <th>Ferritin [ng/mL]</th>\n",
       "      <th>Gamma Glutamyl Transferase [IU/L]</th>\n",
       "      <th>Hemoglobin [g/dL]</th>\n",
       "      <th>Insulin [pmol/L]</th>\n",
       "      <th>LDL-Cholesterol(NIH2) [mmol/L]</th>\n",
       "      <th>Lactate Dehydrogenase [IU/L]</th>\n",
       "      <th>Transferrin Saturation [%]</th>\n",
       "      <th>Transferrin receptor [nmol/L]</th>\n",
       "      <th>Triglyceride [mmol/L]</th>\n",
       "      <th>Anemia</th>\n",
       "    </tr>\n",
       "  </thead>\n",
       "  <tbody>\n",
       "    <tr>\n",
       "      <th>0</th>\n",
       "      <td>93703</td>\n",
       "      <td>0</td>\n",
       "      <td>2</td>\n",
       "      <td>17.5</td>\n",
       "      <td>NaN</td>\n",
       "      <td>NaN</td>\n",
       "      <td>NaN</td>\n",
       "      <td>NaN</td>\n",
       "      <td>NaN</td>\n",
       "      <td>NaN</td>\n",
       "      <td>...</td>\n",
       "      <td>NaN</td>\n",
       "      <td>NaN</td>\n",
       "      <td>NaN</td>\n",
       "      <td>NaN</td>\n",
       "      <td>NaN</td>\n",
       "      <td>NaN</td>\n",
       "      <td>NaN</td>\n",
       "      <td>NaN</td>\n",
       "      <td>NaN</td>\n",
       "      <td>0</td>\n",
       "    </tr>\n",
       "    <tr>\n",
       "      <th>1</th>\n",
       "      <td>93704</td>\n",
       "      <td>1</td>\n",
       "      <td>2</td>\n",
       "      <td>15.7</td>\n",
       "      <td>74.4</td>\n",
       "      <td>NaN</td>\n",
       "      <td>NaN</td>\n",
       "      <td>NaN</td>\n",
       "      <td>NaN</td>\n",
       "      <td>0.7</td>\n",
       "      <td>...</td>\n",
       "      <td>36.60</td>\n",
       "      <td>NaN</td>\n",
       "      <td>13.1</td>\n",
       "      <td>NaN</td>\n",
       "      <td>NaN</td>\n",
       "      <td>NaN</td>\n",
       "      <td>NaN</td>\n",
       "      <td>30.6</td>\n",
       "      <td>NaN</td>\n",
       "      <td>0</td>\n",
       "    </tr>\n",
       "    <tr>\n",
       "      <th>2</th>\n",
       "      <td>93705</td>\n",
       "      <td>0</td>\n",
       "      <td>66</td>\n",
       "      <td>31.7</td>\n",
       "      <td>89.9</td>\n",
       "      <td>1.517241</td>\n",
       "      <td>0.138</td>\n",
       "      <td>0.071</td>\n",
       "      <td>26.006</td>\n",
       "      <td>1.0</td>\n",
       "      <td>...</td>\n",
       "      <td>28.70</td>\n",
       "      <td>21.0</td>\n",
       "      <td>11.9</td>\n",
       "      <td>NaN</td>\n",
       "      <td>NaN</td>\n",
       "      <td>174.0</td>\n",
       "      <td>28.0</td>\n",
       "      <td>39.8</td>\n",
       "      <td>NaN</td>\n",
       "      <td>0</td>\n",
       "    </tr>\n",
       "    <tr>\n",
       "      <th>3</th>\n",
       "      <td>93706</td>\n",
       "      <td>1</td>\n",
       "      <td>18</td>\n",
       "      <td>21.5</td>\n",
       "      <td>53.8</td>\n",
       "      <td>1.629630</td>\n",
       "      <td>0.160</td>\n",
       "      <td>0.031</td>\n",
       "      <td>16.765</td>\n",
       "      <td>0.8</td>\n",
       "      <td>...</td>\n",
       "      <td>284.00</td>\n",
       "      <td>16.0</td>\n",
       "      <td>16.3</td>\n",
       "      <td>NaN</td>\n",
       "      <td>NaN</td>\n",
       "      <td>142.0</td>\n",
       "      <td>51.0</td>\n",
       "      <td>34.0</td>\n",
       "      <td>NaN</td>\n",
       "      <td>0</td>\n",
       "    </tr>\n",
       "    <tr>\n",
       "      <th>4</th>\n",
       "      <td>93707</td>\n",
       "      <td>1</td>\n",
       "      <td>13</td>\n",
       "      <td>18.1</td>\n",
       "      <td>58.2</td>\n",
       "      <td>1.857143</td>\n",
       "      <td>0.009</td>\n",
       "      <td>0.044</td>\n",
       "      <td>22.756</td>\n",
       "      <td>0.5</td>\n",
       "      <td>...</td>\n",
       "      <td>49.30</td>\n",
       "      <td>9.0</td>\n",
       "      <td>14.5</td>\n",
       "      <td>NaN</td>\n",
       "      <td>NaN</td>\n",
       "      <td>177.0</td>\n",
       "      <td>21.0</td>\n",
       "      <td>34.0</td>\n",
       "      <td>NaN</td>\n",
       "      <td>0</td>\n",
       "    </tr>\n",
       "    <tr>\n",
       "      <th>...</th>\n",
       "      <td>...</td>\n",
       "      <td>...</td>\n",
       "      <td>...</td>\n",
       "      <td>...</td>\n",
       "      <td>...</td>\n",
       "      <td>...</td>\n",
       "      <td>...</td>\n",
       "      <td>...</td>\n",
       "      <td>...</td>\n",
       "      <td>...</td>\n",
       "      <td>...</td>\n",
       "      <td>...</td>\n",
       "      <td>...</td>\n",
       "      <td>...</td>\n",
       "      <td>...</td>\n",
       "      <td>...</td>\n",
       "      <td>...</td>\n",
       "      <td>...</td>\n",
       "      <td>...</td>\n",
       "      <td>...</td>\n",
       "      <td>...</td>\n",
       "    </tr>\n",
       "    <tr>\n",
       "      <th>8877</th>\n",
       "      <td>102952</td>\n",
       "      <td>0</td>\n",
       "      <td>70</td>\n",
       "      <td>20.0</td>\n",
       "      <td>82.7</td>\n",
       "      <td>1.846154</td>\n",
       "      <td>0.235</td>\n",
       "      <td>0.077</td>\n",
       "      <td>31.347</td>\n",
       "      <td>0.6</td>\n",
       "      <td>...</td>\n",
       "      <td>135.00</td>\n",
       "      <td>18.0</td>\n",
       "      <td>13.4</td>\n",
       "      <td>26.34</td>\n",
       "      <td>1.112</td>\n",
       "      <td>168.0</td>\n",
       "      <td>39.0</td>\n",
       "      <td>29.1</td>\n",
       "      <td>0.881</td>\n",
       "      <td>0</td>\n",
       "    </tr>\n",
       "    <tr>\n",
       "      <th>8878</th>\n",
       "      <td>102953</td>\n",
       "      <td>1</td>\n",
       "      <td>42</td>\n",
       "      <td>35.8</td>\n",
       "      <td>49.5</td>\n",
       "      <td>1.142857</td>\n",
       "      <td>0.106</td>\n",
       "      <td>0.080</td>\n",
       "      <td>21.873</td>\n",
       "      <td>0.6</td>\n",
       "      <td>...</td>\n",
       "      <td>120.00</td>\n",
       "      <td>28.0</td>\n",
       "      <td>15.5</td>\n",
       "      <td>NaN</td>\n",
       "      <td>NaN</td>\n",
       "      <td>136.0</td>\n",
       "      <td>20.0</td>\n",
       "      <td>28.6</td>\n",
       "      <td>NaN</td>\n",
       "      <td>0</td>\n",
       "    </tr>\n",
       "    <tr>\n",
       "      <th>8879</th>\n",
       "      <td>102954</td>\n",
       "      <td>0</td>\n",
       "      <td>41</td>\n",
       "      <td>26.1</td>\n",
       "      <td>50.5</td>\n",
       "      <td>1.500000</td>\n",
       "      <td>0.117</td>\n",
       "      <td>0.056</td>\n",
       "      <td>26.935</td>\n",
       "      <td>1.4</td>\n",
       "      <td>...</td>\n",
       "      <td>1.99</td>\n",
       "      <td>8.0</td>\n",
       "      <td>6.4</td>\n",
       "      <td>56.94</td>\n",
       "      <td>2.793</td>\n",
       "      <td>123.0</td>\n",
       "      <td>5.0</td>\n",
       "      <td>248.0</td>\n",
       "      <td>0.553</td>\n",
       "      <td>0</td>\n",
       "    </tr>\n",
       "    <tr>\n",
       "      <th>8880</th>\n",
       "      <td>102955</td>\n",
       "      <td>0</td>\n",
       "      <td>14</td>\n",
       "      <td>45.6</td>\n",
       "      <td>61.9</td>\n",
       "      <td>1.205882</td>\n",
       "      <td>0.031</td>\n",
       "      <td>0.079</td>\n",
       "      <td>17.856</td>\n",
       "      <td>0.9</td>\n",
       "      <td>...</td>\n",
       "      <td>11.40</td>\n",
       "      <td>16.0</td>\n",
       "      <td>11.4</td>\n",
       "      <td>NaN</td>\n",
       "      <td>NaN</td>\n",
       "      <td>158.0</td>\n",
       "      <td>5.0</td>\n",
       "      <td>57.7</td>\n",
       "      <td>NaN</td>\n",
       "      <td>0</td>\n",
       "    </tr>\n",
       "    <tr>\n",
       "      <th>8881</th>\n",
       "      <td>102956</td>\n",
       "      <td>1</td>\n",
       "      <td>38</td>\n",
       "      <td>36.1</td>\n",
       "      <td>58.9</td>\n",
       "      <td>1.482759</td>\n",
       "      <td>0.026</td>\n",
       "      <td>0.038</td>\n",
       "      <td>21.177</td>\n",
       "      <td>1.0</td>\n",
       "      <td>...</td>\n",
       "      <td>553.00</td>\n",
       "      <td>72.0</td>\n",
       "      <td>17.4</td>\n",
       "      <td>634.38</td>\n",
       "      <td>2.172</td>\n",
       "      <td>134.0</td>\n",
       "      <td>35.0</td>\n",
       "      <td>23.4</td>\n",
       "      <td>3.037</td>\n",
       "      <td>0</td>\n",
       "    </tr>\n",
       "  </tbody>\n",
       "</table>\n",
       "<p>8882 rows × 91 columns</p>\n",
       "</div>"
      ],
      "text/plain": [
       "      Respondent_ID  Gender  Age   BMI  25-hydroxyvitamin D2 + D3 [nmol/L]  \\\n",
       "0             93703       0    2  17.5                                 NaN   \n",
       "1             93704       1    2  15.7                                74.4   \n",
       "2             93705       0   66  31.7                                89.9   \n",
       "3             93706       1   18  21.5                                53.8   \n",
       "4             93707       1   13  18.1                                58.2   \n",
       "...             ...     ...  ...   ...                                 ...   \n",
       "8877         102952       0   70  20.0                                82.7   \n",
       "8878         102953       1   42  35.8                                49.5   \n",
       "8879         102954       0   41  26.1                                50.5   \n",
       "8880         102955       0   14  45.6                                61.9   \n",
       "8881         102956       1   38  36.1                                58.9   \n",
       "\n",
       "      A/G Ratio  Alpha-carotene [umol/L]  Alpha-crypotoxanthin [umol/L]  \\\n",
       "0           NaN                      NaN                            NaN   \n",
       "1           NaN                      NaN                            NaN   \n",
       "2      1.517241                    0.138                          0.071   \n",
       "3      1.629630                    0.160                          0.031   \n",
       "4      1.857143                    0.009                          0.044   \n",
       "...         ...                      ...                            ...   \n",
       "8877   1.846154                    0.235                          0.077   \n",
       "8878   1.142857                    0.106                          0.080   \n",
       "8879   1.500000                    0.117                          0.056   \n",
       "8880   1.205882                    0.031                          0.079   \n",
       "8881   1.482759                    0.026                          0.038   \n",
       "\n",
       "      Alpha-tocopherol [umol/L]  Basophils [%]  ...  Ferritin [ng/mL]  \\\n",
       "0                           NaN            NaN  ...               NaN   \n",
       "1                           NaN            0.7  ...             36.60   \n",
       "2                        26.006            1.0  ...             28.70   \n",
       "3                        16.765            0.8  ...            284.00   \n",
       "4                        22.756            0.5  ...             49.30   \n",
       "...                         ...            ...  ...               ...   \n",
       "8877                     31.347            0.6  ...            135.00   \n",
       "8878                     21.873            0.6  ...            120.00   \n",
       "8879                     26.935            1.4  ...              1.99   \n",
       "8880                     17.856            0.9  ...             11.40   \n",
       "8881                     21.177            1.0  ...            553.00   \n",
       "\n",
       "      Gamma Glutamyl Transferase [IU/L]  Hemoglobin [g/dL]  Insulin [pmol/L]  \\\n",
       "0                                   NaN                NaN               NaN   \n",
       "1                                   NaN               13.1               NaN   \n",
       "2                                  21.0               11.9               NaN   \n",
       "3                                  16.0               16.3               NaN   \n",
       "4                                   9.0               14.5               NaN   \n",
       "...                                 ...                ...               ...   \n",
       "8877                               18.0               13.4             26.34   \n",
       "8878                               28.0               15.5               NaN   \n",
       "8879                                8.0                6.4             56.94   \n",
       "8880                               16.0               11.4               NaN   \n",
       "8881                               72.0               17.4            634.38   \n",
       "\n",
       "      LDL-Cholesterol(NIH2) [mmol/L]  Lactate Dehydrogenase [IU/L]  \\\n",
       "0                                NaN                           NaN   \n",
       "1                                NaN                           NaN   \n",
       "2                                NaN                         174.0   \n",
       "3                                NaN                         142.0   \n",
       "4                                NaN                         177.0   \n",
       "...                              ...                           ...   \n",
       "8877                           1.112                         168.0   \n",
       "8878                             NaN                         136.0   \n",
       "8879                           2.793                         123.0   \n",
       "8880                             NaN                         158.0   \n",
       "8881                           2.172                         134.0   \n",
       "\n",
       "      Transferrin Saturation [%]  Transferrin receptor [nmol/L]  \\\n",
       "0                            NaN                            NaN   \n",
       "1                            NaN                           30.6   \n",
       "2                           28.0                           39.8   \n",
       "3                           51.0                           34.0   \n",
       "4                           21.0                           34.0   \n",
       "...                          ...                            ...   \n",
       "8877                        39.0                           29.1   \n",
       "8878                        20.0                           28.6   \n",
       "8879                         5.0                          248.0   \n",
       "8880                         5.0                           57.7   \n",
       "8881                        35.0                           23.4   \n",
       "\n",
       "      Triglyceride [mmol/L]  Anemia  \n",
       "0                       NaN       0  \n",
       "1                       NaN       0  \n",
       "2                       NaN       0  \n",
       "3                       NaN       0  \n",
       "4                       NaN       0  \n",
       "...                     ...     ...  \n",
       "8877                  0.881       0  \n",
       "8878                    NaN       0  \n",
       "8879                  0.553       0  \n",
       "8880                    NaN       0  \n",
       "8881                  3.037       0  \n",
       "\n",
       "[8882 rows x 91 columns]"
      ]
     },
     "execution_count": 3,
     "metadata": {},
     "output_type": "execute_result"
    }
   ],
   "source": [
    "# Anemia data\n",
    "\n",
    "anemia_df = ml.get_data_of_disease(driver, 'Anemia')\n",
    "anemia_df"
   ]
  },
  {
   "cell_type": "markdown",
   "id": "6578093d",
   "metadata": {},
   "source": [
    "### Training"
   ]
  },
  {
   "cell_type": "code",
   "execution_count": 4,
   "id": "995292f6",
   "metadata": {},
   "outputs": [
    {
     "name": "stdout",
     "output_type": "stream",
     "text": [
      "Training Accuracy:  0.9960591133004926\n",
      "Testing Accuracy:  0.9969031531531531\n"
     ]
    }
   ],
   "source": [
    "xg_boost = ml.XGBClassifier()\n",
    "\n",
    "# Attributes and Labels\n",
    "\n",
    "X, y, X_train, X_val, X_test, y_train, y_val, y_test = ml.preprocess_and_split(df = anemia_df, label = 'Anemia',\n",
    "                                                              impute = True, scale=True,\n",
    "                                                              imputer=ml.SimpleImputer(strategy='mean'),\n",
    "                                                              random_state=42)\n",
    "\n",
    "# Training\n",
    "\n",
    "xg_boost.fit(X_train.values, y_train.values)\n",
    "\n",
    "# Accuracy scores\n",
    "\n",
    "y_pred = xg_boost.predict(X_val)\n",
    "\n",
    "print('Training Accuracy: ',ml.accuracy_score(y_train, xg_boost.predict(X_train)))\n",
    "\n",
    "print('Testing Accuracy: ',ml.accuracy_score(y_val, y_pred))"
   ]
  },
  {
   "cell_type": "markdown",
   "id": "44142f21",
   "metadata": {},
   "source": [
    "## Feature Selection"
   ]
  },
  {
   "cell_type": "markdown",
   "id": "c60fc52a",
   "metadata": {},
   "source": [
    "### Correlation Analysis"
   ]
  },
  {
   "cell_type": "code",
   "execution_count": 5,
   "id": "a8302272",
   "metadata": {},
   "outputs": [],
   "source": [
    "xg_boost_test = ml.XGBClassifier()"
   ]
  },
  {
   "cell_type": "code",
   "execution_count": 9,
   "id": "4bf4ee40",
   "metadata": {},
   "outputs": [
    {
     "data": {
      "text/plain": [
       "['Red cell distribution width [%]',\n",
       " 'Transferrin receptor [nmol/L]',\n",
       " 'Platelet_Lymphocyte Ratio',\n",
       " 'UIBC [umol/L]',\n",
       " 'C-Reactive Protein [mg/L]',\n",
       " 'Age',\n",
       " 'BMI',\n",
       " 'Blood Urea Nitrogen [mg/dL]',\n",
       " 'Systemic Immune‐inflammation Index (SII)',\n",
       " 'Globulin [g/dL]',\n",
       " 'Neutrophil_Lymphocyte Ratio',\n",
       " 'Cobalt [nmol/L]',\n",
       " 'Segmented neutrophils [%]',\n",
       " 'Blood cadmium [nmol/L]',\n",
       " 'Creatinine [mg/dL]',\n",
       " 'Chloride [mmol/L]',\n",
       " 'Total Iron Binding Capacity [umol/L]',\n",
       " 'Blood manganese [nmol/L]',\n",
       " 'Insulin [pmol/L]',\n",
       " 'Osmolality [mmol/Kg]',\n",
       " 'Platelet count [1000 cells/uL]',\n",
       " 'Platelet_WBC Ratio',\n",
       " 'Fasting Glucose [mmol/L]',\n",
       " '25-hydroxyvitamin D2 + D3 [nmol/L]',\n",
       " 'Gamma-tocopherol [umol/L]',\n",
       " 'Retinol [umol/L]',\n",
       " 'Direct HDL-Cholesterol [mmol/L]',\n",
       " 'Glycohemoglobin [%]',\n",
       " 'Mean platelet volume [fL]',\n",
       " 'Basophils [%]']"
      ]
     },
     "execution_count": 9,
     "metadata": {},
     "output_type": "execute_result"
    }
   ],
   "source": [
    "pos_corr, neg_corr = ml.get_correlated_features(anemia_df,'Anemia',pos=0.0,neg=-0.0)\n",
    "\n",
    "corr_features = list(pos_corr.keys()[1:]) + list(neg_corr.keys())\n",
    "corr_features.remove('Respondent_ID')\n",
    "\n",
    "corr_features[:30]"
   ]
  },
  {
   "cell_type": "code",
   "execution_count": 10,
   "id": "34987aa0",
   "metadata": {},
   "outputs": [
    {
     "name": "stdout",
     "output_type": "stream",
     "text": [
      "\n",
      "Train Accuracy: 0.996\n",
      "\n",
      "Test Accuracy: 0.997\n",
      "\n",
      "Precision: 1.000\n",
      "\n",
      "Recall: 0.919\n",
      "\n",
      "F1-Score: 0.958\n"
     ]
    }
   ],
   "source": [
    "ml.evaluate_feature_set(corr_features, xg_boost_test, X_train, y_train, X_val, y_val, val=True)"
   ]
  },
  {
   "cell_type": "markdown",
   "id": "9df33603",
   "metadata": {},
   "source": [
    "### SelectFromModel"
   ]
  },
  {
   "cell_type": "code",
   "execution_count": 11,
   "id": "a245d928",
   "metadata": {},
   "outputs": [
    {
     "data": {
      "text/plain": [
       "['Age',\n",
       " 'BMI',\n",
       " '25-hydroxyvitamin D2 + D3 [nmol/L]',\n",
       " 'Blood Urea Nitrogen [mg/dL]',\n",
       " 'Blood selenium [umol/L]',\n",
       " 'Cobalt [nmol/L]',\n",
       " 'Hematocrit [%]',\n",
       " 'Iron [ug/dL]',\n",
       " 'Iron frozen [umol/L]',\n",
       " 'Lymphocyte [%]',\n",
       " 'Lymphocyte_C-Reactive Protein Ratio',\n",
       " 'Mean Cell Hgb Conc. [g/dL]',\n",
       " 'Mean cell hemoglobin [pg]',\n",
       " 'Mean cell volume [fL]',\n",
       " 'Neutrophil_Lymphocyte Ratio',\n",
       " 'Platelet count [1000 cells/uL]',\n",
       " 'Platelet_Lymphocyte Ratio',\n",
       " 'Platelet_WBC Ratio',\n",
       " 'RBC count [million cells/uL]',\n",
       " 'Red cell distribution width [%]',\n",
       " 'Segmented neutrophils [%]',\n",
       " 'Systemic Immune‐inflammation Index (SII)',\n",
       " 'Total Iron Binding Capacity [umol/L]',\n",
       " 'Trans-beta-carotene [umol/L]',\n",
       " 'Alkaline Phosphatase [IU/L]',\n",
       " 'C-Reactive Protein [mg/L]',\n",
       " 'Ferritin [ng/mL]',\n",
       " 'Hemoglobin [g/dL]',\n",
       " 'Lactate Dehydrogenase [IU/L]',\n",
       " 'Transferrin receptor [nmol/L]']"
      ]
     },
     "execution_count": 11,
     "metadata": {},
     "output_type": "execute_result"
    }
   ],
   "source": [
    "sfm_features = ml.select_from_model_features(ml.RandomForestClassifier(),X,y)\n",
    "sfm_features"
   ]
  },
  {
   "cell_type": "code",
   "execution_count": 12,
   "id": "17b4d45b",
   "metadata": {},
   "outputs": [
    {
     "name": "stdout",
     "output_type": "stream",
     "text": [
      "\n",
      "Train Accuracy: 0.996\n",
      "\n",
      "Test Accuracy: 0.997\n",
      "\n",
      "Precision: 1.000\n",
      "\n",
      "Recall: 0.919\n",
      "\n",
      "F1-Score: 0.958\n"
     ]
    }
   ],
   "source": [
    "sfm_features = list(sfm_features)\n",
    "\n",
    "ml.evaluate_feature_set(sfm_features, xg_boost_test, X_train, y_train, X_val, y_val, val=True)"
   ]
  },
  {
   "cell_type": "markdown",
   "id": "15f3ce0f",
   "metadata": {},
   "source": [
    "### SelectKBest"
   ]
  },
  {
   "cell_type": "code",
   "execution_count": 13,
   "id": "238022df",
   "metadata": {},
   "outputs": [
    {
     "data": {
      "text/plain": [
       "['Red cell distribution width [%]',\n",
       " 'Hemoglobin [g/dL]',\n",
       " 'Hematocrit [%]',\n",
       " 'Mean Cell Hgb Conc. [g/dL]',\n",
       " 'Transferrin receptor [nmol/L]',\n",
       " 'RBC count [million cells/uL]',\n",
       " 'Albumin [g/dL]',\n",
       " 'Gender',\n",
       " 'A/G Ratio',\n",
       " 'Transferrin Saturation [%]',\n",
       " 'Mean cell hemoglobin [pg]',\n",
       " 'Platelet_Lymphocyte Ratio',\n",
       " 'Iron [ug/dL]',\n",
       " 'Iron frozen [umol/L]',\n",
       " 'Age',\n",
       " 'UIBC [umol/L]',\n",
       " 'C-Reactive Protein [mg/L]',\n",
       " 'Total Calcium [mg/dL]',\n",
       " 'BMI',\n",
       " 'Blood Urea Nitrogen [mg/dL]',\n",
       " 'Systemic Immune‐inflammation Index (SII)',\n",
       " 'Total Bilirubin [mg/dL]',\n",
       " 'Globulin [g/dL]',\n",
       " 'Neutrophil_Lymphocyte Ratio',\n",
       " 'Alpha-crypotoxanthin [umol/L]',\n",
       " 'Alanine Aminotransferase [U/L]',\n",
       " 'Mean cell volume [fL]',\n",
       " 'Segmented neutrophils [%]',\n",
       " 'Lymphocyte_C-Reactive Protein Ratio',\n",
       " 'Lymphocyte [%]']"
      ]
     },
     "execution_count": 13,
     "metadata": {},
     "output_type": "execute_result"
    }
   ],
   "source": [
    "k_best_features = ml.select_k_best(X, y, n=30)\n",
    "k_best_features[:30]"
   ]
  },
  {
   "cell_type": "code",
   "execution_count": 14,
   "id": "b756eeaa",
   "metadata": {},
   "outputs": [
    {
     "name": "stdout",
     "output_type": "stream",
     "text": [
      "\n",
      "Train Accuracy: 0.996\n",
      "\n",
      "Test Accuracy: 0.997\n",
      "\n",
      "Precision: 1.000\n",
      "\n",
      "Recall: 0.919\n",
      "\n",
      "F1-Score: 0.958\n"
     ]
    }
   ],
   "source": [
    "ml.evaluate_feature_set(k_best_features[:30], xg_boost_test, X_train, y_train, X_val, y_val, val=True)"
   ]
  },
  {
   "cell_type": "markdown",
   "id": "933ccbc1",
   "metadata": {},
   "source": [
    "### Recursive Feature Elimination (RFE) "
   ]
  },
  {
   "cell_type": "code",
   "execution_count": 16,
   "id": "82685afa",
   "metadata": {},
   "outputs": [
    {
     "data": {
      "text/plain": [
       "['Gender',\n",
       " 'Lymphocyte_C-Reactive Protein Ratio',\n",
       " 'Osmolality [mmol/Kg]',\n",
       " 'Platelet_Lymphocyte Ratio',\n",
       " 'Red cell distribution width [%]',\n",
       " 'Retinol [umol/L]',\n",
       " 'Retinyl palmitate [umol/L]',\n",
       " 'Total Iron Binding Capacity [umol/L]',\n",
       " 'Trans-beta-carotene [umol/L]',\n",
       " 'Uric Acid [mg/dL]',\n",
       " 'White blood cell count [1000 cells/uL]',\n",
       " 'Chloride [mmol/L]',\n",
       " 'Creatine Phosphokinase [IU/L]',\n",
       " 'Direct HDL-Cholesterol [mmol/L]',\n",
       " 'Hemoglobin [g/dL]',\n",
       " 'Insulin [pmol/L]',\n",
       " 'LDL-Cholesterol(NIH2) [mmol/L]',\n",
       " 'Transferrin Saturation [%]',\n",
       " 'LDL_HDL Ratio',\n",
       " 'Hematocrit [%]',\n",
       " 'Triglyceride [mmol/L]',\n",
       " 'Cis-beta-carotene [umol/L]',\n",
       " 'Age',\n",
       " 'Cotinine [ng/mL]',\n",
       " 'Blood lead [umol/L]',\n",
       " 'A/G Ratio',\n",
       " 'Cobalt [nmol/L]',\n",
       " 'Blood Urea Nitrogen [mg/dL]',\n",
       " 'Alpha-carotene [umol/L]',\n",
       " 'Alpha-crypotoxanthin [umol/L]']"
      ]
     },
     "execution_count": 16,
     "metadata": {},
     "output_type": "execute_result"
    }
   ],
   "source": [
    "rfe_features = ml.select_rfe_features(ml.XGBClassifier(),X,y,n=30,step=0.5)\n",
    "rfe_features[:30]"
   ]
  },
  {
   "cell_type": "code",
   "execution_count": 17,
   "id": "8db8aa72",
   "metadata": {},
   "outputs": [
    {
     "name": "stdout",
     "output_type": "stream",
     "text": [
      "\n",
      "Train Accuracy: 0.996\n",
      "\n",
      "Test Accuracy: 0.997\n",
      "\n",
      "Precision: 1.000\n",
      "\n",
      "Recall: 0.919\n",
      "\n",
      "F1-Score: 0.958\n"
     ]
    }
   ],
   "source": [
    "ml.evaluate_feature_set(rfe_features[:30], xg_boost_test, X_train, y_train, X_val, y_val, val=True)"
   ]
  },
  {
   "cell_type": "markdown",
   "id": "85827a38",
   "metadata": {},
   "source": [
    "### Lasso Regularization"
   ]
  },
  {
   "cell_type": "code",
   "execution_count": 18,
   "id": "f7a2dee7",
   "metadata": {},
   "outputs": [
    {
     "data": {
      "text/plain": [
       "['Gender',\n",
       " 'Red cell distribution width [%]',\n",
       " 'Hemoglobin [g/dL]',\n",
       " 'Hematocrit [%]',\n",
       " 'Age',\n",
       " 'Alpha-crypotoxanthin [umol/L]',\n",
       " 'Retinyl palmitate [umol/L]',\n",
       " 'Blood mercury [nmol/L]',\n",
       " 'Systemic Immune‐inflammation Index (SII)',\n",
       " 'Retinol [umol/L]',\n",
       " 'Transferrin receptor [nmol/L]',\n",
       " 'Neutrophil_Lymphocyte Ratio',\n",
       " 'Hydroxycotinine [ng/mL]',\n",
       " 'Lymphocyte_C-Reactive Protein Ratio',\n",
       " 'RBC count [million cells/uL]',\n",
       " 'Total Calcium [mg/dL]',\n",
       " 'Alanine Aminotransferase [U/L]',\n",
       " 'Beta-cryptoxanthin [umol/L]',\n",
       " 'Glycohemoglobin [%]',\n",
       " 'Total Cholestrol_HDL Ratio',\n",
       " 'Uric Acid [mg/dL]',\n",
       " 'Trans-lycopene [umol/L]',\n",
       " 'Transferrin Saturation [%]',\n",
       " 'LDL-Cholesterol(NIH2) [mmol/L]',\n",
       " 'Blood cadmium [nmol/L]',\n",
       " 'Sodium [mmol/L]',\n",
       " 'Iron frozen [umol/L]',\n",
       " 'Fasting Glucose [mmol/L]',\n",
       " 'Mean Cell Hgb Conc. [g/dL]',\n",
       " 'Blood Urea Nitrogen [mg/dL]']"
      ]
     },
     "execution_count": 18,
     "metadata": {},
     "output_type": "execute_result"
    }
   ],
   "source": [
    "l1_selected_features = ml.log_reg_lasso_select(X_train, y_train)\n",
    "l1_selected_features[:30]"
   ]
  },
  {
   "cell_type": "code",
   "execution_count": 19,
   "id": "1b685cc9",
   "metadata": {},
   "outputs": [
    {
     "name": "stdout",
     "output_type": "stream",
     "text": [
      "\n",
      "Train Accuracy: 0.996\n",
      "\n",
      "Test Accuracy: 0.997\n",
      "\n",
      "Precision: 1.000\n",
      "\n",
      "Recall: 0.919\n",
      "\n",
      "F1-Score: 0.958\n"
     ]
    }
   ],
   "source": [
    "ml.evaluate_feature_set(l1_selected_features[:30], xg_boost_test, X_train, y_train, X_val, y_val, val=True)"
   ]
  },
  {
   "cell_type": "markdown",
   "id": "a37796b0",
   "metadata": {},
   "source": [
    "### Relief F"
   ]
  },
  {
   "cell_type": "code",
   "execution_count": 20,
   "id": "bfb3ec54",
   "metadata": {},
   "outputs": [],
   "source": [
    "relieff_features = ml.relief_feature_select(30,X,y)"
   ]
  },
  {
   "cell_type": "code",
   "execution_count": 21,
   "id": "fc600c21",
   "metadata": {},
   "outputs": [
    {
     "data": {
      "text/plain": [
       "['Age',\n",
       " 'Hemoglobin [g/dL]',\n",
       " 'Hematocrit [%]',\n",
       " 'Segmented neutrophils [%]',\n",
       " 'Lymphocyte [%]',\n",
       " 'BMI',\n",
       " 'Neutrophil_Lymphocyte Ratio',\n",
       " 'RBC count [million cells/uL]',\n",
       " 'Mean cell volume [fL]',\n",
       " 'Mean cell hemoglobin [pg]',\n",
       " 'Red cell distribution width [%]',\n",
       " 'A/G Ratio',\n",
       " 'Transferrin Saturation [%]',\n",
       " 'Gender',\n",
       " 'Albumin [g/dL]',\n",
       " 'Uric Acid [mg/dL]',\n",
       " 'Systemic Immune‐inflammation Index (SII)',\n",
       " 'Platelet_Lymphocyte Ratio',\n",
       " 'Iron [ug/dL]',\n",
       " 'Osmolality [mmol/Kg]',\n",
       " 'Iron frozen [umol/L]',\n",
       " 'Retinol [umol/L]',\n",
       " 'Total Calcium [mg/dL]',\n",
       " 'Chloride [mmol/L]',\n",
       " 'Non_HDL Ratio',\n",
       " 'Total Cholesterol [mmol/L]',\n",
       " 'UIBC [umol/L]',\n",
       " 'Globulin [g/dL]',\n",
       " 'Blood selenium [umol/L]',\n",
       " 'Bicarbonate [mmol/L]']"
      ]
     },
     "execution_count": 21,
     "metadata": {},
     "output_type": "execute_result"
    }
   ],
   "source": [
    "relieff_features[:30]"
   ]
  },
  {
   "cell_type": "code",
   "execution_count": 22,
   "id": "8f76d0da",
   "metadata": {},
   "outputs": [
    {
     "name": "stdout",
     "output_type": "stream",
     "text": [
      "\n",
      "Train Accuracy: 0.996\n",
      "\n",
      "Test Accuracy: 0.997\n",
      "\n",
      "Precision: 1.000\n",
      "\n",
      "Recall: 0.919\n",
      "\n",
      "F1-Score: 0.958\n"
     ]
    }
   ],
   "source": [
    "ml.evaluate_feature_set(relieff_features[:30], xg_boost_test, X_train, y_train, X_val, y_val, val=True)"
   ]
  },
  {
   "cell_type": "markdown",
   "id": "c706d6d7",
   "metadata": {},
   "source": [
    "### XGBoost Feature Importances"
   ]
  },
  {
   "cell_type": "code",
   "execution_count": 23,
   "id": "ffa6015c",
   "metadata": {},
   "outputs": [],
   "source": [
    "def get_xgb_features(model, X_train):\n",
    "    \n",
    "    xgb_features = ml.pd.DataFrame(model.feature_importances_, index=X_train.columns,\n",
    "                                             columns=['Importance'])\n",
    "    xgb_features = xgb_features.sort_values('Importance', ascending=False)\n",
    "    xgb_features = list(xgb_features.index)\n",
    "    \n",
    "    return xgb_features"
   ]
  },
  {
   "cell_type": "code",
   "execution_count": 24,
   "id": "85c5e4e0",
   "metadata": {},
   "outputs": [
    {
     "data": {
      "text/plain": [
       "['Hemoglobin [g/dL]',\n",
       " 'Gender',\n",
       " 'LDL_HDL Ratio',\n",
       " 'Sodium [mmol/L]',\n",
       " 'Chloride [mmol/L]',\n",
       " 'Red cell distribution width [%]',\n",
       " 'Blood lead [umol/L]',\n",
       " 'UIBC [umol/L]',\n",
       " 'Alpha-crypotoxanthin [umol/L]',\n",
       " 'Glycohemoglobin [%]',\n",
       " 'Lymphocyte_C-Reactive Protein Ratio',\n",
       " 'Phosphorus [mg/dL]',\n",
       " 'Total Iron Binding Capacity [umol/L]',\n",
       " 'Cotinine [ng/mL]',\n",
       " 'Lymphocyte [%]',\n",
       " 'Cobalt [nmol/L]',\n",
       " 'Hematocrit [%]',\n",
       " 'Platelet_Lymphocyte Ratio',\n",
       " 'Total Bilirubin [mg/dL]',\n",
       " 'Cis-beta-carotene [umol/L]',\n",
       " 'Osmolality [mmol/Kg]',\n",
       " 'Chromium [nmol/L]',\n",
       " 'White blood cell count [1000 cells/uL]',\n",
       " 'Total Protein [g/dL]',\n",
       " 'Gamma Glutamyl Transferase [IU/L]',\n",
       " 'Iron [ug/dL]',\n",
       " 'Monocyte [%]',\n",
       " 'Creatine Phosphokinase [IU/L]',\n",
       " 'Total Lycopene [umol/L]',\n",
       " 'Mean Cell Hgb Conc. [g/dL]']"
      ]
     },
     "execution_count": 24,
     "metadata": {},
     "output_type": "execute_result"
    }
   ],
   "source": [
    "xgb_features = get_xgb_features(xg_boost, X_train)\n",
    "xgb_features[:30]"
   ]
  },
  {
   "cell_type": "code",
   "execution_count": 25,
   "id": "a507b5b2",
   "metadata": {},
   "outputs": [
    {
     "name": "stdout",
     "output_type": "stream",
     "text": [
      "\n",
      "Train Accuracy: 0.996\n",
      "\n",
      "Test Accuracy: 0.997\n",
      "\n",
      "Precision: 1.000\n",
      "\n",
      "Recall: 0.919\n",
      "\n",
      "F1-Score: 0.958\n"
     ]
    }
   ],
   "source": [
    "ml.evaluate_feature_set(xgb_features, xg_boost_test, X_train, y_train, X_val, y_val, val=True)"
   ]
  },
  {
   "cell_type": "markdown",
   "id": "ec970811",
   "metadata": {},
   "source": [
    "### Optimal no. of features"
   ]
  },
  {
   "cell_type": "code",
   "execution_count": 27,
   "id": "230770c2",
   "metadata": {},
   "outputs": [],
   "source": [
    "final_features = list(relieff_features)\n",
    "\n",
    "xg_boost_test = ml.XGBClassifier()"
   ]
  },
  {
   "cell_type": "code",
   "execution_count": 28,
   "id": "4aaf5159",
   "metadata": {},
   "outputs": [
    {
     "name": "stderr",
     "output_type": "stream",
     "text": [
      "Finding optimal no. of features..: 100%|████████| 85/85 [02:38<00:00,  1.87s/it]"
     ]
    },
    {
     "name": "stdout",
     "output_type": "stream",
     "text": [
      "\n",
      "Maximum accuracy = 0.9617 for 79 features\n"
     ]
    },
    {
     "name": "stderr",
     "output_type": "stream",
     "text": [
      "\n"
     ]
    },
    {
     "data": {
      "image/png": "[encoded data removed]",
      "text/plain": [
       "<Figure size 1000x700 with 1 Axes>"
      ]
     },
     "metadata": {},
     "output_type": "display_data"
    }
   ],
   "source": [
    "# Optimal no. of features\n",
    "\n",
    "ml.plot_num_feature_performance(xg_boost_test,  X, y, final_features, scoring='accuracy', val=True)"
   ]
  },
  {
   "cell_type": "code",
   "execution_count": 29,
   "id": "d3297886",
   "metadata": {},
   "outputs": [
    {
     "name": "stderr",
     "output_type": "stream",
     "text": [
      "Finding optimal no. of features..: 100%|████████| 85/85 [02:33<00:00,  1.81s/it]"
     ]
    },
    {
     "name": "stdout",
     "output_type": "stream",
     "text": [
      "\n",
      "Maximum f1 = 0.1489 for 15 features\n"
     ]
    },
    {
     "name": "stderr",
     "output_type": "stream",
     "text": [
      "\n"
     ]
    },
    {
     "data": {
      "image/png": "[encoded data removed]",
      "text/plain": [
       "<Figure size 1000x700 with 1 Axes>"
      ]
     },
     "metadata": {},
     "output_type": "display_data"
    }
   ],
   "source": [
    "# Optimal no. of features\n",
    "\n",
    "ml.plot_num_feature_performance(xg_boost_test,  X, y, final_features, scoring='f1', val=True)"
   ]
  },
  {
   "cell_type": "code",
   "execution_count": 30,
   "id": "cdd1c71c",
   "metadata": {},
   "outputs": [
    {
     "name": "stderr",
     "output_type": "stream",
     "text": [
      "Finding optimal no. of features..: 100%|████████| 85/85 [02:29<00:00,  1.76s/it]"
     ]
    },
    {
     "name": "stdout",
     "output_type": "stream",
     "text": [
      "\n",
      "Maximum recall = 0.0914 for 15 features\n"
     ]
    },
    {
     "name": "stderr",
     "output_type": "stream",
     "text": [
      "\n"
     ]
    },
    {
     "data": {
      "image/png": "[encoded data removed]",
      "text/plain": [
       "<Figure size 1000x700 with 1 Axes>"
      ]
     },
     "metadata": {},
     "output_type": "display_data"
    }
   ],
   "source": [
    "# Optimal no. of features\n",
    "\n",
    "ml.plot_num_feature_performance(xg_boost_test,  X, y, final_features, scoring='recall', val=True)"
   ]
  },
  {
   "cell_type": "code",
   "execution_count": 31,
   "id": "27de64c6",
   "metadata": {},
   "outputs": [],
   "source": [
    "num_features = 15\n",
    "\n",
    "selected = final_features[:num_features]\n",
    "selected.append('Anemia')\n",
    "\n",
    "anemia_df = anemia_df[selected]"
   ]
  },
  {
   "cell_type": "code",
   "execution_count": 32,
   "id": "ef297d13",
   "metadata": {},
   "outputs": [],
   "source": [
    "# Save feature set\n",
    "    \n",
    "with open('../Models/Anemia/Feature Sets/XG Boost Features.pkl', 'wb') as f:\n",
    "    ml.pickle.dump(selected, f)"
   ]
  },
  {
   "cell_type": "markdown",
   "id": "cd4a3a33",
   "metadata": {},
   "source": [
    "## Preprocessing"
   ]
  },
  {
   "cell_type": "markdown",
   "id": "32c7f0b2",
   "metadata": {},
   "source": [
    "### Zero Imputation"
   ]
  },
  {
   "cell_type": "code",
   "execution_count": 33,
   "id": "24b09db9",
   "metadata": {},
   "outputs": [],
   "source": [
    "# Imputing null values with zeroes\n",
    "\n",
    "X, y, X_train, X_val, X_test, y_train, y_val, y_test = ml.preprocess_and_split(df = anemia_df, label = 'Anemia',\n",
    "                                                        impute = True, scale=True,\n",
    "                                                        imputer=ml.SimpleImputer(strategy='constant',fill_value=0),\n",
    "                                                        random_state=42)"
   ]
  },
  {
   "cell_type": "code",
   "execution_count": 34,
   "id": "fd4250b4",
   "metadata": {},
   "outputs": [
    {
     "name": "stdout",
     "output_type": "stream",
     "text": [
      "\n",
      "Train Accuracy: 0.996\n",
      "\n",
      "Test Accuracy: 0.997\n",
      "\n",
      "Precision: 1.000\n",
      "\n",
      "Recall: 0.934\n",
      "\n",
      "F1-Score: 0.966\n"
     ]
    }
   ],
   "source": [
    "xg_boost.fit(X_train.values, y_train.values)\n",
    "\n",
    "ml.evaluate_model_metrics(xg_boost,X_train,y_train,X_val,y_val)"
   ]
  },
  {
   "cell_type": "markdown",
   "id": "1877522f",
   "metadata": {},
   "source": [
    "### Mode Imputation"
   ]
  },
  {
   "cell_type": "code",
   "execution_count": 35,
   "id": "fcca0b91",
   "metadata": {},
   "outputs": [],
   "source": [
    "# Imputing with most frequent values\n",
    "\n",
    "X, y, X_train, X_val, X_test, y_train, y_val, y_test = ml.preprocess_and_split(df = anemia_df, label = 'Anemia',\n",
    "                                                              impute = True, scale=True,\n",
    "                                                              imputer=ml.SimpleImputer(strategy='most_frequent'),\n",
    "                                                              random_state=42)"
   ]
  },
  {
   "cell_type": "code",
   "execution_count": 36,
   "id": "43855037",
   "metadata": {},
   "outputs": [
    {
     "name": "stdout",
     "output_type": "stream",
     "text": [
      "\n",
      "Train Accuracy: 0.996\n",
      "\n",
      "Test Accuracy: 0.997\n",
      "\n",
      "Precision: 1.000\n",
      "\n",
      "Recall: 0.919\n",
      "\n",
      "F1-Score: 0.958\n"
     ]
    }
   ],
   "source": [
    "xg_boost.fit(X_train.values, y_train.values)\n",
    "\n",
    "ml.evaluate_model_metrics(xg_boost,X_train,y_train,X_val,y_val)"
   ]
  },
  {
   "cell_type": "markdown",
   "id": "e8c1a99e",
   "metadata": {},
   "source": [
    "### Multiple Imputation by Chained Equations (MICE)"
   ]
  },
  {
   "cell_type": "code",
   "execution_count": 37,
   "id": "d78c9b6a",
   "metadata": {},
   "outputs": [],
   "source": [
    "# Imputes by looking at data from other columns and trying to estimate the best prediction for each missing value.\n",
    "\n",
    "X, y, X_train, X_val, X_test, y_train, y_val, y_test = ml.preprocess_and_split(df = anemia_df, label = 'Anemia',\n",
    "                                                              impute = True, scale=True,\n",
    "                                                              imputer=ml.IterativeImputer(max_iter=20),\n",
    "                                                              random_state=42)"
   ]
  },
  {
   "cell_type": "code",
   "execution_count": 38,
   "id": "78e0324b",
   "metadata": {},
   "outputs": [
    {
     "name": "stdout",
     "output_type": "stream",
     "text": [
      "\n",
      "Train Accuracy: 0.997\n",
      "\n",
      "Test Accuracy: 0.998\n",
      "\n",
      "Precision: 1.000\n",
      "\n",
      "Recall: 0.941\n",
      "\n",
      "F1-Score: 0.970\n"
     ]
    }
   ],
   "source": [
    "xg_boost.fit(X_train.values, y_train.values)\n",
    "\n",
    "ml.evaluate_model_metrics(xg_boost,X_train,y_train,X_val,y_val)"
   ]
  },
  {
   "cell_type": "markdown",
   "id": "dc71288f",
   "metadata": {},
   "source": [
    "### Median Imputation"
   ]
  },
  {
   "cell_type": "code",
   "execution_count": 39,
   "id": "648640e9",
   "metadata": {},
   "outputs": [],
   "source": [
    "# Imputing with median values\n",
    "\n",
    "X, y, X_train, X_val, X_test, y_train, y_val, y_test = ml.preprocess_and_split(df = anemia_df, label = 'Anemia',\n",
    "                                                              impute = True, scale=True,\n",
    "                                                              imputer=ml.SimpleImputer(strategy='median'),\n",
    "                                                              random_state=42)"
   ]
  },
  {
   "cell_type": "code",
   "execution_count": 40,
   "id": "188ab3fd",
   "metadata": {},
   "outputs": [
    {
     "name": "stdout",
     "output_type": "stream",
     "text": [
      "\n",
      "Train Accuracy: 0.996\n",
      "\n",
      "Test Accuracy: 0.997\n",
      "\n",
      "Precision: 1.000\n",
      "\n",
      "Recall: 0.919\n",
      "\n",
      "F1-Score: 0.958\n"
     ]
    }
   ],
   "source": [
    "xg_boost.fit(X_train.values, y_train.values)\n",
    "\n",
    "ml.evaluate_model_metrics(xg_boost,X_train,y_train,X_val,y_val)"
   ]
  },
  {
   "cell_type": "markdown",
   "id": "ecf3258f",
   "metadata": {},
   "source": [
    "### Mean Imputation"
   ]
  },
  {
   "cell_type": "code",
   "execution_count": 41,
   "id": "cf825805",
   "metadata": {},
   "outputs": [],
   "source": [
    "# Splitting and Preprocessing data\n",
    "\n",
    "X, y, X_train, X_val, X_test, y_train, y_val, y_test = ml.preprocess_and_split(df = anemia_df, label = 'Anemia',\n",
    "                                                              impute = True, scale=True,\n",
    "                                                              imputer=ml.SimpleImputer(strategy='mean'),\n",
    "                                                              random_state=42)"
   ]
  },
  {
   "cell_type": "code",
   "execution_count": 42,
   "id": "c4eb9258",
   "metadata": {},
   "outputs": [
    {
     "name": "stdout",
     "output_type": "stream",
     "text": [
      "\n",
      "Train Accuracy: 0.996\n",
      "\n",
      "Test Accuracy: 0.997\n",
      "\n",
      "Precision: 1.000\n",
      "\n",
      "Recall: 0.919\n",
      "\n",
      "F1-Score: 0.958\n"
     ]
    }
   ],
   "source": [
    "xg_boost.fit(X_train.values, y_train.values)\n",
    "\n",
    "ml.evaluate_model_metrics(xg_boost,X_train,y_train,X_val,y_val)"
   ]
  },
  {
   "cell_type": "markdown",
   "id": "8484c25a",
   "metadata": {},
   "source": [
    "### k-NN Imputation"
   ]
  },
  {
   "cell_type": "code",
   "execution_count": 43,
   "id": "288ec08b",
   "metadata": {},
   "outputs": [],
   "source": [
    "# Imputing missing values with values from the k-nearest neighbors in the feature space\n",
    "\n",
    "X, y, X_train, X_val, X_test, y_train, y_val, y_test = ml.preprocess_and_split(df = anemia_df, label = 'Anemia',\n",
    "                                                              impute = True, scale=True,\n",
    "                                                              imputer=ml.KNNImputer(n_neighbors=20),\n",
    "                                                              random_state=42)"
   ]
  },
  {
   "cell_type": "code",
   "execution_count": 44,
   "id": "d03244a8",
   "metadata": {},
   "outputs": [
    {
     "name": "stdout",
     "output_type": "stream",
     "text": [
      "\n",
      "Train Accuracy: 0.998\n",
      "\n",
      "Test Accuracy: 0.998\n",
      "\n",
      "Precision: 1.000\n",
      "\n",
      "Recall: 0.956\n",
      "\n",
      "F1-Score: 0.977\n"
     ]
    }
   ],
   "source": [
    "xg_boost.fit(X_train.values, y_train.values)\n",
    "\n",
    "ml.evaluate_model_metrics(xg_boost,X_train,y_train,X_val,y_val)"
   ]
  },
  {
   "cell_type": "markdown",
   "id": "5bd39f86",
   "metadata": {},
   "source": [
    "### Dropping Null Values"
   ]
  },
  {
   "cell_type": "code",
   "execution_count": 45,
   "id": "2a0f7318",
   "metadata": {
    "scrolled": true
   },
   "outputs": [],
   "source": [
    "# Drop null values\n",
    "anemia_df_na = anemia_df.dropna()\n",
    "\n",
    "X, y, X_train, X_val, X_test, y_train, y_val, y_test = ml.preprocess_and_split(df = anemia_df_na, label = 'Anemia',\n",
    "                                                              impute = False, scale=True,\n",
    "                                                              random_state=42)"
   ]
  },
  {
   "cell_type": "code",
   "execution_count": 46,
   "id": "f3c46212",
   "metadata": {},
   "outputs": [
    {
     "name": "stdout",
     "output_type": "stream",
     "text": [
      "\n",
      "Train Accuracy: 1.000\n",
      "\n",
      "Test Accuracy: 1.000\n",
      "\n",
      "Precision: 1.000\n",
      "\n",
      "Recall: 1.000\n",
      "\n",
      "F1-Score: 1.000\n"
     ]
    }
   ],
   "source": [
    "xg_boost.fit(X_train.values, y_train.values)\n",
    "\n",
    "ml.evaluate_model_metrics(xg_boost,X_train,y_train,X_val,y_val)"
   ]
  },
  {
   "cell_type": "markdown",
   "id": "d4f3c7a0",
   "metadata": {},
   "source": [
    "## Oversampling and Undersampling"
   ]
  },
  {
   "cell_type": "markdown",
   "id": "f2ab083d",
   "metadata": {},
   "source": [
    "### Random Oversampling"
   ]
  },
  {
   "cell_type": "code",
   "execution_count": 47,
   "id": "61c3f573",
   "metadata": {
    "scrolled": false
   },
   "outputs": [
    {
     "name": "stdout",
     "output_type": "stream",
     "text": [
      "\n",
      "Train Accuracy: 1.000\n",
      "\n",
      "Test Accuracy: 1.000\n",
      "\n",
      "Precision: 1.000\n",
      "\n",
      "Recall: 1.000\n",
      "\n",
      "F1-Score: 1.000\n"
     ]
    }
   ],
   "source": [
    "X_ros, y_ros = ml.random_over_sample(X_train, y_train)\n",
    "\n",
    "xg_boost.fit(X_ros.values, y_ros.values)\n",
    "\n",
    "ml.evaluate_model_metrics(xg_boost,X_ros, y_ros,X_val, y_val)"
   ]
  },
  {
   "cell_type": "markdown",
   "id": "55cc4ab2",
   "metadata": {},
   "source": [
    "### SMOTE (Synthetic Minority Over-sampling Technique)"
   ]
  },
  {
   "cell_type": "code",
   "execution_count": 48,
   "id": "5ed6c6b3",
   "metadata": {
    "scrolled": false
   },
   "outputs": [
    {
     "name": "stdout",
     "output_type": "stream",
     "text": [
      "\n",
      "Train Accuracy: 1.000\n",
      "\n",
      "Test Accuracy: 1.000\n",
      "\n",
      "Precision: 1.000\n",
      "\n",
      "Recall: 0.989\n",
      "\n",
      "F1-Score: 0.994\n"
     ]
    }
   ],
   "source": [
    "X_smote, y_smote = ml.smote_over_sample(X_train, y_train)\n",
    "\n",
    "xg_boost.fit(X_smote.values, y_smote.values)\n",
    "\n",
    "ml.evaluate_model_metrics(xg_boost,X_smote, y_smote,X_val, y_val)"
   ]
  },
  {
   "cell_type": "markdown",
   "id": "0532ee8b",
   "metadata": {},
   "source": [
    "### Random Undersampling"
   ]
  },
  {
   "cell_type": "code",
   "execution_count": 49,
   "id": "5286090b",
   "metadata": {
    "scrolled": false
   },
   "outputs": [
    {
     "name": "stdout",
     "output_type": "stream",
     "text": [
      "\n",
      "Train Accuracy: 1.000\n",
      "\n",
      "Test Accuracy: 0.693\n",
      "\n",
      "Precision: 0.112\n",
      "\n",
      "Recall: 1.000\n",
      "\n",
      "F1-Score: 0.201\n"
     ]
    }
   ],
   "source": [
    "X_rus, y_rus = ml.random_under_sample(X_train, y_train)\n",
    "\n",
    "xg_boost.fit(X_rus.values, y_rus.values)\n",
    "\n",
    "ml.evaluate_model_metrics(xg_boost,X_rus, y_rus,X_val, y_val)"
   ]
  },
  {
   "cell_type": "markdown",
   "id": "6defa173",
   "metadata": {},
   "source": [
    "### Tomek Links"
   ]
  },
  {
   "cell_type": "code",
   "execution_count": 50,
   "id": "f4fa6ccf",
   "metadata": {
    "scrolled": false
   },
   "outputs": [
    {
     "name": "stdout",
     "output_type": "stream",
     "text": [
      "\n",
      "Train Accuracy: 1.000\n",
      "\n",
      "Test Accuracy: 1.000\n",
      "\n",
      "Precision: 1.000\n",
      "\n",
      "Recall: 1.000\n",
      "\n",
      "F1-Score: 1.000\n"
     ]
    }
   ],
   "source": [
    "X_tomek, y_tomek = ml.tomek_links(X_train, y_train)\n",
    "\n",
    "xg_boost.fit(X_tomek.values, y_tomek.values)\n",
    "\n",
    "ml.evaluate_model_metrics(xg_boost,X_tomek, y_tomek,X_val, y_val)"
   ]
  },
  {
   "cell_type": "markdown",
   "id": "111c9c16",
   "metadata": {},
   "source": [
    "### SMOTE + Tomek Links"
   ]
  },
  {
   "cell_type": "code",
   "execution_count": 51,
   "id": "753149c7",
   "metadata": {
    "scrolled": false
   },
   "outputs": [
    {
     "name": "stdout",
     "output_type": "stream",
     "text": [
      "\n",
      "Train Accuracy: 1.000\n",
      "\n",
      "Test Accuracy: 1.000\n",
      "\n",
      "Precision: 0.989\n",
      "\n",
      "Recall: 1.000\n",
      "\n",
      "F1-Score: 0.994\n"
     ]
    }
   ],
   "source": [
    "X_smote_tomek, y_smote_tomek = ml.smote_tomek(X_train, y_train)\n",
    "\n",
    "xg_boost.fit(X_smote_tomek.values, y_smote_tomek.values)\n",
    "\n",
    "ml.evaluate_model_metrics(xg_boost,X_smote_tomek, y_smote_tomek,X_val, y_val)"
   ]
  },
  {
   "cell_type": "code",
   "execution_count": 52,
   "id": "1f3a2dd8",
   "metadata": {},
   "outputs": [],
   "source": [
    "# Model seems to perform better without oversampling or undersampling"
   ]
  },
  {
   "cell_type": "markdown",
   "id": "9bda7751",
   "metadata": {},
   "source": [
    "## Hyperparameter Optimization "
   ]
  },
  {
   "cell_type": "code",
   "execution_count": 53,
   "id": "8bbd1f7f",
   "metadata": {},
   "outputs": [],
   "source": [
    "param_grid = {\n",
    "    \n",
    "    'learning_rate': [0.01, 0.1, 0.2, 0.3],\n",
    "    'subsample': [0.8, 0.9, 1.0],\n",
    "    'gamma': [0, 0.1, 0.2, 0.3],\n",
    "    'reg_alpha': [0, 0.1, 0.2, 0.3],\n",
    "    'reg_lambda': [1, 1.5, 2, 3],\n",
    "    \n",
    "}"
   ]
  },
  {
   "cell_type": "markdown",
   "id": "8458e5a6",
   "metadata": {},
   "source": [
    "### Random Search"
   ]
  },
  {
   "cell_type": "code",
   "execution_count": 54,
   "id": "cc4fcfeb",
   "metadata": {},
   "outputs": [],
   "source": [
    "rand_best_params, xg_boost_rand = ml.random_search_optimize(xg_boost,param_grid,n_iter=100,cv=5,\n",
    "                                                               X_train=X_train, y_train=y_train,\n",
    "                                                               scoring='accuracy', val=True)"
   ]
  },
  {
   "cell_type": "code",
   "execution_count": 55,
   "id": "a3aca564",
   "metadata": {},
   "outputs": [
    {
     "data": {
      "text/plain": [
       "{'subsample': 0.8,\n",
       " 'reg_lambda': 1.5,\n",
       " 'reg_alpha': 0.3,\n",
       " 'learning_rate': 0.01,\n",
       " 'gamma': 0.2}"
      ]
     },
     "execution_count": 55,
     "metadata": {},
     "output_type": "execute_result"
    }
   ],
   "source": [
    "rand_best_params"
   ]
  },
  {
   "cell_type": "code",
   "execution_count": 56,
   "id": "0c27dea7",
   "metadata": {},
   "outputs": [
    {
     "name": "stdout",
     "output_type": "stream",
     "text": [
      "\n",
      "Train Accuracy: 0.957\n",
      "\n",
      "Test Accuracy: 0.961\n",
      "\n",
      "Precision: 0.000\n",
      "\n",
      "Recall: 0.000\n",
      "\n",
      "F1-Score: 0.000\n"
     ]
    }
   ],
   "source": [
    "ml.evaluate_model_metrics(xg_boost_rand,X_train,y_train,X_val,y_val)"
   ]
  },
  {
   "cell_type": "markdown",
   "id": "7d6294a4",
   "metadata": {},
   "source": [
    "### Optuna"
   ]
  },
  {
   "cell_type": "code",
   "execution_count": 58,
   "id": "ae722921",
   "metadata": {},
   "outputs": [],
   "source": [
    "def objective(trial):\n",
    "\n",
    "    params = {\n",
    "        'objective': 'binary:logistic',\n",
    "        'eval_metric': 'logloss',\n",
    "        'booster': trial.suggest_categorical('booster', ['gbtree', 'gblinear', 'dart']),\n",
    "        'lambda': trial.suggest_loguniform('lambda', 1e-8, 1.0),\n",
    "        'alpha': trial.suggest_loguniform('alpha', 1e-8, 1.0),\n",
    "        'max_depth': trial.suggest_int('max_depth', 3, 10),\n",
    "        'eta': trial.suggest_loguniform('eta', 1e-8, 1.0),\n",
    "        'gamma': trial.suggest_loguniform('gamma', 1e-8, 1.0),\n",
    "        'grow_policy': trial.suggest_categorical('grow_policy', ['depthwise', 'lossguide']),\n",
    "    }\n",
    "\n",
    "    if params['booster'] == 'gbtree' or params['booster'] == 'dart':\n",
    "        params['subsample'] = trial.suggest_uniform('subsample', 0.1, 1.0)\n",
    "        params['colsample_bytree'] = trial.suggest_uniform('colsample_bytree', 0.1, 1.0)\n",
    "\n",
    "    model = ml.XGBClassifier(**params)\n",
    "    \n",
    "    model.fit(X_train.values, y_train.values)\n",
    "    y_pred = model.predict(X_test.values)\n",
    "\n",
    "    accuracy = ml.accuracy_score(y_test.values, y_pred)\n",
    "\n",
    "    return accuracy"
   ]
  },
  {
   "cell_type": "code",
   "execution_count": 59,
   "id": "e7e379fd",
   "metadata": {},
   "outputs": [],
   "source": [
    "best_trial , xg_boost_opt = ml.optuna_optimize(objective, ml.XGBClassifier, n_trials=150)"
   ]
  },
  {
   "cell_type": "code",
   "execution_count": 60,
   "id": "b9b8c5b6",
   "metadata": {},
   "outputs": [
    {
     "data": {
      "text/plain": [
       "{'booster': 'gbtree',\n",
       " 'lambda': 2.1086411583506237e-08,\n",
       " 'alpha': 1.302658754987705e-08,\n",
       " 'max_depth': 6,\n",
       " 'eta': 0.3411802902435157,\n",
       " 'gamma': 8.127970328098618e-08,\n",
       " 'grow_policy': 'depthwise',\n",
       " 'subsample': 0.915077442180979,\n",
       " 'colsample_bytree': 0.8170804059621608}"
      ]
     },
     "execution_count": 60,
     "metadata": {},
     "output_type": "execute_result"
    }
   ],
   "source": [
    "best_trial"
   ]
  },
  {
   "cell_type": "code",
   "execution_count": 61,
   "id": "9e3a828c",
   "metadata": {},
   "outputs": [
    {
     "name": "stdout",
     "output_type": "stream",
     "text": [
      "\n",
      "Train Accuracy: 1.000\n",
      "\n",
      "Test Accuracy: 1.000\n",
      "\n",
      "Precision: 1.000\n",
      "\n",
      "Recall: 1.000\n",
      "\n",
      "F1-Score: 1.000\n"
     ]
    }
   ],
   "source": [
    "xg_boost_opt.fit(X_train.values,y_train.values)\n",
    "\n",
    "ml.evaluate_model_metrics(xg_boost_opt,X_train,y_train,X_val,y_val)"
   ]
  },
  {
   "cell_type": "markdown",
   "id": "af5a88e1",
   "metadata": {},
   "source": [
    "## Evaluation on Test Set"
   ]
  },
  {
   "cell_type": "code",
   "execution_count": 68,
   "id": "d8a10c03",
   "metadata": {},
   "outputs": [
    {
     "name": "stdout",
     "output_type": "stream",
     "text": [
      "\n",
      "Train Accuracy: 0.994\n",
      "\n",
      "Test Accuracy: 0.993\n",
      "\n",
      "Precision: 0.952\n",
      "\n",
      "Recall: 0.909\n",
      "\n",
      "F1-Score: 0.930\n",
      "\n",
      "Confusion Matrix:\n",
      "\n",
      "[[2190    5]\n",
      " [  10  100]]\n",
      "\n",
      "\n",
      "Classification Report:\n",
      "\n",
      "              precision    recall  f1-score   support\n",
      "\n",
      "     Class 0       1.00      1.00      1.00      2195\n",
      "     Class 1       0.95      0.91      0.93       110\n",
      "\n",
      "    accuracy                           0.99      2305\n",
      "   macro avg       0.97      0.95      0.96      2305\n",
      "weighted avg       0.99      0.99      0.99      2305\n",
      "\n",
      "\n",
      "ROC-AUC Curve:\n"
     ]
    },
    {
     "data": {
      "image/png": "[encoded data removed]",
      "text/plain": [
       "<Figure size 600x400 with 1 Axes>"
      ]
     },
     "metadata": {},
     "output_type": "display_data"
    }
   ],
   "source": [
    "# After evaluating on the validation set, we evaluate and finalize on the test set\n",
    "\n",
    "ml.evaluate_model_metrics(xg_boost_opt, X_train, y_train, X_test, y_test, verbose=6)"
   ]
  },
  {
   "cell_type": "markdown",
   "id": "e7b5c88c",
   "metadata": {},
   "source": [
    "## Cross Validation"
   ]
  },
  {
   "cell_type": "markdown",
   "id": "7e539fb9",
   "metadata": {},
   "source": [
    "### K-fold"
   ]
  },
  {
   "cell_type": "code",
   "execution_count": 62,
   "id": "e77a24f0",
   "metadata": {},
   "outputs": [
    {
     "name": "stdout",
     "output_type": "stream",
     "text": [
      "\n",
      "accuracy scores: [0.95493934 0.94800693 0.953125   0.95833333 0.94444444 0.94965278\n",
      " 0.953125   0.953125   0.95486111 0.953125  ]\n",
      "\n",
      "Mean accuracy score:  0.9522737940496823\n",
      "\n",
      "Standard deviation:  0.0037388517592257062\n"
     ]
    }
   ],
   "source": [
    "ml.k_cross_validate(xg_boost,X.values,y.values,cv=10,scoring='accuracy')"
   ]
  },
  {
   "cell_type": "code",
   "execution_count": 63,
   "id": "fa6ff1f4",
   "metadata": {},
   "outputs": [
    {
     "name": "stdout",
     "output_type": "stream",
     "text": [
      "\n",
      "accuracy scores: [0.95320624 0.95320624 0.95486111 0.95486111 0.95486111 0.95486111\n",
      " 0.95486111 0.95486111 0.95486111 0.95486111]\n",
      "\n",
      "Mean accuracy score:  0.9545301367225111\n",
      "\n",
      "Standard deviation:  0.0006619487772001164\n"
     ]
    }
   ],
   "source": [
    "ml.k_cross_validate(xg_boost_rand,X.values,y,cv=10,scoring='accuracy')"
   ]
  },
  {
   "cell_type": "code",
   "execution_count": 64,
   "id": "46f81577",
   "metadata": {},
   "outputs": [
    {
     "name": "stdout",
     "output_type": "stream",
     "text": [
      "\n",
      "accuracy scores: [0.95147314 0.94280763 0.95486111 0.96006944 0.94444444 0.94791667\n",
      " 0.953125   0.94965278 0.94791667 0.94444444]\n",
      "\n",
      "Mean accuracy score:  0.9496711318120546\n",
      "\n",
      "Standard deviation:  0.005080729178524827\n"
     ]
    }
   ],
   "source": [
    "ml.k_cross_validate(xg_boost_opt,X.values,y,cv=10,scoring='accuracy')"
   ]
  },
  {
   "cell_type": "markdown",
   "id": "ad831ffc",
   "metadata": {},
   "source": [
    "### Stratified K-fold"
   ]
  },
  {
   "cell_type": "code",
   "execution_count": 65,
   "id": "29a48b89",
   "metadata": {},
   "outputs": [
    {
     "name": "stdout",
     "output_type": "stream",
     "text": [
      "\n",
      "Average Accuracy: 0.9521007847101869\n",
      "\n",
      "Average Precision: 0.3730555555555556\n",
      "\n",
      "Average Recall: 0.08404558404558404\n",
      "\n",
      "Average F1-Score: 0.1355658757587371\n"
     ]
    }
   ],
   "source": [
    "ml.stratified_k_cross_validate(xg_boost,X,y,n_splits=10)"
   ]
  },
  {
   "cell_type": "code",
   "execution_count": 66,
   "id": "5aa2c58d",
   "metadata": {},
   "outputs": [
    {
     "name": "stdout",
     "output_type": "stream",
     "text": [
      "\n",
      "Average Accuracy: 0.9545301367225111\n",
      "\n",
      "Average Precision: 0.0\n",
      "\n",
      "Average Recall: 0.0\n",
      "\n",
      "Average F1-Score: 0.0\n"
     ]
    }
   ],
   "source": [
    "ml.stratified_k_cross_validate(xg_boost_rand,X,y,n_splits=10)"
   ]
  },
  {
   "cell_type": "code",
   "execution_count": 67,
   "id": "2c1453da",
   "metadata": {},
   "outputs": [
    {
     "name": "stdout",
     "output_type": "stream",
     "text": [
      "\n",
      "Average Accuracy: 0.9498426367225109\n",
      "\n",
      "Average Precision: 0.3272222222222222\n",
      "\n",
      "Average Recall: 0.0876068376068376\n",
      "\n",
      "Average F1-Score: 0.1359258596195449\n"
     ]
    }
   ],
   "source": [
    "ml.stratified_k_cross_validate(xg_boost_opt,X,y,n_splits=10)"
   ]
  },
  {
   "cell_type": "markdown",
   "id": "e5d7b05d",
   "metadata": {},
   "source": [
    "### Save Model"
   ]
  },
  {
   "cell_type": "code",
   "execution_count": 69,
   "id": "6e89475b",
   "metadata": {},
   "outputs": [],
   "source": [
    "final_xgb_estimator = xg_boost_opt"
   ]
  },
  {
   "cell_type": "code",
   "execution_count": 70,
   "id": "ea9c37ae",
   "metadata": {},
   "outputs": [
    {
     "name": "stdout",
     "output_type": "stream",
     "text": [
      "Saved Model\n"
     ]
    }
   ],
   "source": [
    "# Saving the model\n",
    "\n",
    "ml.save_model(final_xgb_estimator, \"../Models/Anemia/XGBoost_Classifier.pkl\")"
   ]
  },
  {
   "cell_type": "markdown",
   "id": "de59f229",
   "metadata": {},
   "source": [
    "## Prediction"
   ]
  },
  {
   "cell_type": "code",
   "execution_count": 71,
   "id": "67af8316",
   "metadata": {},
   "outputs": [
    {
     "name": "stdout",
     "output_type": "stream",
     "text": [
      "Instance:\n",
      " [ 0.         -0.07326498 -0.56139948 -0.45379228 -0.54596491  0.86596925\n",
      " -0.35334547 -0.69101133 -0.87716812  0.68879486  0.39849975 -0.40605758\n",
      " -0.54610064 -0.50498319 -0.52535698]\n",
      "\n",
      "Expected Class:  0\n",
      "\n",
      " Modified Instance:\n",
      " [ 0.         -0.05626526 -1.08862319 -0.59591127 -0.68656858  0.91326352\n",
      " -0.39185866 -0.54732015 -0.7784912   0.82907893  0.48864625 -0.29799898\n",
      " -0.56513637 -0.51884499 -0.49456526]\n",
      "\n",
      "Predicted Class:  [0]\n"
     ]
    }
   ],
   "source": [
    "# Predicting on perturbed values\n",
    "\n",
    "ml.predict_on_modified_instance(final_xgb_estimator, X_test.iloc[0], y_test.iloc[0], 0.6)"
   ]
  },
  {
   "cell_type": "code",
   "execution_count": 75,
   "id": "a39b8dfe",
   "metadata": {
    "scrolled": false
   },
   "outputs": [
    {
     "name": "stdout",
     "output_type": "stream",
     "text": [
      "Instance:\n",
      " [ 0.         -1.07882995 -0.62687904 -0.84240326 -1.75746765  1.96540601\n",
      " -1.89431843 -1.09613498 -1.16144385  0.54320631  0.68063886 -0.7845399\n",
      "  1.6224718   0.50491015  0.92647796]\n",
      "\n",
      "Expected Class:  1\n",
      "\n",
      " Modified Instance:\n",
      " [ 0.         -1.04157295 -0.59933143 -0.86941699 -1.57902688  2.12362013\n",
      " -1.8954795  -0.98006089 -1.02786778  0.29009491  0.91422183 -0.86912495\n",
      "  1.80041619  0.43614673  0.88692153]\n",
      "\n",
      "Predicted Class:  [0]\n"
     ]
    }
   ],
   "source": [
    "ml.predict_on_modified_instance(final_xgb_estimator, X_test.iloc[8], y_test.iloc[8], 1.5)"
   ]
  },
  {
   "cell_type": "code",
   "execution_count": 90,
   "id": "41256224",
   "metadata": {
    "scrolled": false
   },
   "outputs": [
    {
     "name": "stdout",
     "output_type": "stream",
     "text": [
      "Instance:\n",
      " [ 0.          1.65056068 -1.9364702  -1.93537165  1.27637955 -1.54179725\n",
      " -0.89799971  1.60398637 -1.99396563  0.25202919 -0.04486172  0.50229999\n",
      " -1.30807018 -0.58914097 -1.39645794]\n",
      "\n",
      "Expected Class:  1\n",
      "\n",
      " Modified Instance:\n",
      " [ 0.          1.5617376  -2.1291582  -1.86714303  1.69778295 -1.52108637\n",
      " -0.78012884  1.96519074 -2.08476633  0.33357917 -0.05356158  0.37799225\n",
      " -1.33695097 -0.51878541 -1.29419997]\n",
      "\n",
      "Predicted Class:  [1]\n"
     ]
    }
   ],
   "source": [
    "ml.predict_on_modified_instance(final_xgb_estimator, X_test.iloc[88], y_test.iloc[88], 1.5)"
   ]
  },
  {
   "cell_type": "code",
   "execution_count": 78,
   "id": "caccf0d9",
   "metadata": {},
   "outputs": [
    {
     "data": {
      "text/plain": [
       "2798    1\n",
       "6465    1\n",
       "1267    1\n",
       "8047    1\n",
       "2870    1\n",
       "       ..\n",
       "6332    1\n",
       "4031    1\n",
       "8291    1\n",
       "6602    1\n",
       "2960    1\n",
       "Name: Anemia, Length: 110, dtype: int64"
      ]
     },
     "execution_count": 78,
     "metadata": {},
     "output_type": "execute_result"
    }
   ],
   "source": [
    "y_test[y_test==1]"
   ]
  }
 ],
 "metadata": {
  "kernelspec": {
   "display_name": "Python 3 (ipykernel)",
   "language": "python",
   "name": "python3"
  },
  "language_info": {
   "codemirror_mode": {
    "name": "ipython",
    "version": 3
   },
   "file_extension": ".py",
   "mimetype": "text/x-python",
   "name": "python",
   "nbconvert_exporter": "python",
   "pygments_lexer": "ipython3",
   "version": "3.10.12"
  }
 },
 "nbformat": 4,
 "nbformat_minor": 5
}
