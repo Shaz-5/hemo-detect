{
 "cells": [
  {
   "cell_type": "markdown",
   "id": "d2acf9f1",
   "metadata": {},
   "source": [
    "# XGBClassifier"
   ]
  },
  {
   "cell_type": "code",
   "execution_count": 1,
   "id": "5c1b7eb2",
   "metadata": {},
   "outputs": [
    {
     "name": "stderr",
     "output_type": "stream",
     "text": [
      "/usr/local/lib/python3.10/dist-packages/tqdm/auto.py:21: TqdmWarning: IProgress not found. Please update jupyter and ipywidgets. See https://ipywidgets.readthedocs.io/en/stable/user_install.html\n",
      "  from .autonotebook import tqdm as notebook_tqdm\n"
     ]
    }
   ],
   "source": [
    "import some_load_train_evaluate_functions as ml\n",
    "\n",
    "from xgboost import XGBClassifier"
   ]
  },
  {
   "cell_type": "code",
   "execution_count": 2,
   "id": "6b4433ef",
   "metadata": {},
   "outputs": [
    {
     "name": "stdout",
     "output_type": "stream",
     "text": [
      "Connected to database successfully.\n"
     ]
    }
   ],
   "source": [
    "path = '../KG/db.env'\n",
    "\n",
    "driver = ml.connect_to_neo4j(path)"
   ]
  },
  {
   "cell_type": "markdown",
   "id": "4016e569",
   "metadata": {},
   "source": [
    "### Load Data"
   ]
  },
  {
   "cell_type": "code",
   "execution_count": 3,
   "id": "76bbe0fe",
   "metadata": {
    "scrolled": false
   },
   "outputs": [
    {
     "data": {
      "text/html": [
       "<div>\n",
       "<style scoped>\n",
       "    .dataframe tbody tr th:only-of-type {\n",
       "        vertical-align: middle;\n",
       "    }\n",
       "\n",
       "    .dataframe tbody tr th {\n",
       "        vertical-align: top;\n",
       "    }\n",
       "\n",
       "    .dataframe thead th {\n",
       "        text-align: right;\n",
       "    }\n",
       "</style>\n",
       "<table border=\"1\" class=\"dataframe\">\n",
       "  <thead>\n",
       "    <tr style=\"text-align: right;\">\n",
       "      <th></th>\n",
       "      <th>Respondent_ID</th>\n",
       "      <th>Gender</th>\n",
       "      <th>Age</th>\n",
       "      <th>BMI</th>\n",
       "      <th>25-hydroxyvitamin D2 + D3 [nmol/L]</th>\n",
       "      <th>A/G Ratio</th>\n",
       "      <th>Alpha-carotene [umol/L]</th>\n",
       "      <th>Alpha-crypotoxanthin [umol/L]</th>\n",
       "      <th>Alpha-tocopherol [umol/L]</th>\n",
       "      <th>Basophils [%]</th>\n",
       "      <th>...</th>\n",
       "      <th>Ferritin [ng/mL]</th>\n",
       "      <th>Gamma Glutamyl Transferase [IU/L]</th>\n",
       "      <th>Hemoglobin [g/dL]</th>\n",
       "      <th>Insulin [pmol/L]</th>\n",
       "      <th>LDL-Cholesterol(NIH2) [mmol/L]</th>\n",
       "      <th>Lactate Dehydrogenase [IU/L]</th>\n",
       "      <th>Transferrin Saturation [%]</th>\n",
       "      <th>Transferrin receptor [nmol/L]</th>\n",
       "      <th>Triglyceride [mmol/L]</th>\n",
       "      <th>Diabetes</th>\n",
       "    </tr>\n",
       "  </thead>\n",
       "  <tbody>\n",
       "    <tr>\n",
       "      <th>0</th>\n",
       "      <td>93703</td>\n",
       "      <td>0</td>\n",
       "      <td>2</td>\n",
       "      <td>17.5</td>\n",
       "      <td>NaN</td>\n",
       "      <td>NaN</td>\n",
       "      <td>NaN</td>\n",
       "      <td>NaN</td>\n",
       "      <td>NaN</td>\n",
       "      <td>NaN</td>\n",
       "      <td>...</td>\n",
       "      <td>NaN</td>\n",
       "      <td>NaN</td>\n",
       "      <td>NaN</td>\n",
       "      <td>NaN</td>\n",
       "      <td>NaN</td>\n",
       "      <td>NaN</td>\n",
       "      <td>NaN</td>\n",
       "      <td>NaN</td>\n",
       "      <td>NaN</td>\n",
       "      <td>0</td>\n",
       "    </tr>\n",
       "    <tr>\n",
       "      <th>1</th>\n",
       "      <td>93704</td>\n",
       "      <td>1</td>\n",
       "      <td>2</td>\n",
       "      <td>15.7</td>\n",
       "      <td>74.4</td>\n",
       "      <td>NaN</td>\n",
       "      <td>NaN</td>\n",
       "      <td>NaN</td>\n",
       "      <td>NaN</td>\n",
       "      <td>0.7</td>\n",
       "      <td>...</td>\n",
       "      <td>36.60</td>\n",
       "      <td>NaN</td>\n",
       "      <td>13.1</td>\n",
       "      <td>NaN</td>\n",
       "      <td>NaN</td>\n",
       "      <td>NaN</td>\n",
       "      <td>NaN</td>\n",
       "      <td>30.6</td>\n",
       "      <td>NaN</td>\n",
       "      <td>0</td>\n",
       "    </tr>\n",
       "    <tr>\n",
       "      <th>2</th>\n",
       "      <td>93705</td>\n",
       "      <td>0</td>\n",
       "      <td>66</td>\n",
       "      <td>31.7</td>\n",
       "      <td>89.9</td>\n",
       "      <td>1.517241</td>\n",
       "      <td>0.138</td>\n",
       "      <td>0.071</td>\n",
       "      <td>26.006</td>\n",
       "      <td>1.0</td>\n",
       "      <td>...</td>\n",
       "      <td>28.70</td>\n",
       "      <td>21.0</td>\n",
       "      <td>11.9</td>\n",
       "      <td>NaN</td>\n",
       "      <td>NaN</td>\n",
       "      <td>174.0</td>\n",
       "      <td>28.0</td>\n",
       "      <td>39.8</td>\n",
       "      <td>NaN</td>\n",
       "      <td>0</td>\n",
       "    </tr>\n",
       "    <tr>\n",
       "      <th>3</th>\n",
       "      <td>93706</td>\n",
       "      <td>1</td>\n",
       "      <td>18</td>\n",
       "      <td>21.5</td>\n",
       "      <td>53.8</td>\n",
       "      <td>1.629630</td>\n",
       "      <td>0.160</td>\n",
       "      <td>0.031</td>\n",
       "      <td>16.765</td>\n",
       "      <td>0.8</td>\n",
       "      <td>...</td>\n",
       "      <td>284.00</td>\n",
       "      <td>16.0</td>\n",
       "      <td>16.3</td>\n",
       "      <td>NaN</td>\n",
       "      <td>NaN</td>\n",
       "      <td>142.0</td>\n",
       "      <td>51.0</td>\n",
       "      <td>34.0</td>\n",
       "      <td>NaN</td>\n",
       "      <td>0</td>\n",
       "    </tr>\n",
       "    <tr>\n",
       "      <th>4</th>\n",
       "      <td>93707</td>\n",
       "      <td>1</td>\n",
       "      <td>13</td>\n",
       "      <td>18.1</td>\n",
       "      <td>58.2</td>\n",
       "      <td>1.857143</td>\n",
       "      <td>0.009</td>\n",
       "      <td>0.044</td>\n",
       "      <td>22.756</td>\n",
       "      <td>0.5</td>\n",
       "      <td>...</td>\n",
       "      <td>49.30</td>\n",
       "      <td>9.0</td>\n",
       "      <td>14.5</td>\n",
       "      <td>NaN</td>\n",
       "      <td>NaN</td>\n",
       "      <td>177.0</td>\n",
       "      <td>21.0</td>\n",
       "      <td>34.0</td>\n",
       "      <td>NaN</td>\n",
       "      <td>0</td>\n",
       "    </tr>\n",
       "    <tr>\n",
       "      <th>...</th>\n",
       "      <td>...</td>\n",
       "      <td>...</td>\n",
       "      <td>...</td>\n",
       "      <td>...</td>\n",
       "      <td>...</td>\n",
       "      <td>...</td>\n",
       "      <td>...</td>\n",
       "      <td>...</td>\n",
       "      <td>...</td>\n",
       "      <td>...</td>\n",
       "      <td>...</td>\n",
       "      <td>...</td>\n",
       "      <td>...</td>\n",
       "      <td>...</td>\n",
       "      <td>...</td>\n",
       "      <td>...</td>\n",
       "      <td>...</td>\n",
       "      <td>...</td>\n",
       "      <td>...</td>\n",
       "      <td>...</td>\n",
       "      <td>...</td>\n",
       "    </tr>\n",
       "    <tr>\n",
       "      <th>8888</th>\n",
       "      <td>102952</td>\n",
       "      <td>0</td>\n",
       "      <td>70</td>\n",
       "      <td>20.0</td>\n",
       "      <td>82.7</td>\n",
       "      <td>1.846154</td>\n",
       "      <td>0.235</td>\n",
       "      <td>0.077</td>\n",
       "      <td>31.347</td>\n",
       "      <td>0.6</td>\n",
       "      <td>...</td>\n",
       "      <td>135.00</td>\n",
       "      <td>18.0</td>\n",
       "      <td>13.4</td>\n",
       "      <td>26.34</td>\n",
       "      <td>1.112</td>\n",
       "      <td>168.0</td>\n",
       "      <td>39.0</td>\n",
       "      <td>29.1</td>\n",
       "      <td>0.881</td>\n",
       "      <td>1</td>\n",
       "    </tr>\n",
       "    <tr>\n",
       "      <th>8889</th>\n",
       "      <td>102953</td>\n",
       "      <td>1</td>\n",
       "      <td>42</td>\n",
       "      <td>35.8</td>\n",
       "      <td>49.5</td>\n",
       "      <td>1.142857</td>\n",
       "      <td>0.106</td>\n",
       "      <td>0.080</td>\n",
       "      <td>21.873</td>\n",
       "      <td>0.6</td>\n",
       "      <td>...</td>\n",
       "      <td>120.00</td>\n",
       "      <td>28.0</td>\n",
       "      <td>15.5</td>\n",
       "      <td>NaN</td>\n",
       "      <td>NaN</td>\n",
       "      <td>136.0</td>\n",
       "      <td>20.0</td>\n",
       "      <td>28.6</td>\n",
       "      <td>NaN</td>\n",
       "      <td>0</td>\n",
       "    </tr>\n",
       "    <tr>\n",
       "      <th>8890</th>\n",
       "      <td>102954</td>\n",
       "      <td>0</td>\n",
       "      <td>41</td>\n",
       "      <td>26.1</td>\n",
       "      <td>50.5</td>\n",
       "      <td>1.500000</td>\n",
       "      <td>0.117</td>\n",
       "      <td>0.056</td>\n",
       "      <td>26.935</td>\n",
       "      <td>1.4</td>\n",
       "      <td>...</td>\n",
       "      <td>1.99</td>\n",
       "      <td>8.0</td>\n",
       "      <td>6.4</td>\n",
       "      <td>56.94</td>\n",
       "      <td>2.793</td>\n",
       "      <td>123.0</td>\n",
       "      <td>5.0</td>\n",
       "      <td>248.0</td>\n",
       "      <td>0.553</td>\n",
       "      <td>0</td>\n",
       "    </tr>\n",
       "    <tr>\n",
       "      <th>8891</th>\n",
       "      <td>102955</td>\n",
       "      <td>0</td>\n",
       "      <td>14</td>\n",
       "      <td>45.6</td>\n",
       "      <td>61.9</td>\n",
       "      <td>1.205882</td>\n",
       "      <td>0.031</td>\n",
       "      <td>0.079</td>\n",
       "      <td>17.856</td>\n",
       "      <td>0.9</td>\n",
       "      <td>...</td>\n",
       "      <td>11.40</td>\n",
       "      <td>16.0</td>\n",
       "      <td>11.4</td>\n",
       "      <td>NaN</td>\n",
       "      <td>NaN</td>\n",
       "      <td>158.0</td>\n",
       "      <td>5.0</td>\n",
       "      <td>57.7</td>\n",
       "      <td>NaN</td>\n",
       "      <td>0</td>\n",
       "    </tr>\n",
       "    <tr>\n",
       "      <th>8892</th>\n",
       "      <td>102956</td>\n",
       "      <td>1</td>\n",
       "      <td>38</td>\n",
       "      <td>36.1</td>\n",
       "      <td>58.9</td>\n",
       "      <td>1.482759</td>\n",
       "      <td>0.026</td>\n",
       "      <td>0.038</td>\n",
       "      <td>21.177</td>\n",
       "      <td>1.0</td>\n",
       "      <td>...</td>\n",
       "      <td>553.00</td>\n",
       "      <td>72.0</td>\n",
       "      <td>17.4</td>\n",
       "      <td>634.38</td>\n",
       "      <td>2.172</td>\n",
       "      <td>134.0</td>\n",
       "      <td>35.0</td>\n",
       "      <td>23.4</td>\n",
       "      <td>3.037</td>\n",
       "      <td>0</td>\n",
       "    </tr>\n",
       "  </tbody>\n",
       "</table>\n",
       "<p>8893 rows × 91 columns</p>\n",
       "</div>"
      ],
      "text/plain": [
       "      Respondent_ID  Gender  Age   BMI  25-hydroxyvitamin D2 + D3 [nmol/L]  \\\n",
       "0             93703       0    2  17.5                                 NaN   \n",
       "1             93704       1    2  15.7                                74.4   \n",
       "2             93705       0   66  31.7                                89.9   \n",
       "3             93706       1   18  21.5                                53.8   \n",
       "4             93707       1   13  18.1                                58.2   \n",
       "...             ...     ...  ...   ...                                 ...   \n",
       "8888         102952       0   70  20.0                                82.7   \n",
       "8889         102953       1   42  35.8                                49.5   \n",
       "8890         102954       0   41  26.1                                50.5   \n",
       "8891         102955       0   14  45.6                                61.9   \n",
       "8892         102956       1   38  36.1                                58.9   \n",
       "\n",
       "      A/G Ratio  Alpha-carotene [umol/L]  Alpha-crypotoxanthin [umol/L]  \\\n",
       "0           NaN                      NaN                            NaN   \n",
       "1           NaN                      NaN                            NaN   \n",
       "2      1.517241                    0.138                          0.071   \n",
       "3      1.629630                    0.160                          0.031   \n",
       "4      1.857143                    0.009                          0.044   \n",
       "...         ...                      ...                            ...   \n",
       "8888   1.846154                    0.235                          0.077   \n",
       "8889   1.142857                    0.106                          0.080   \n",
       "8890   1.500000                    0.117                          0.056   \n",
       "8891   1.205882                    0.031                          0.079   \n",
       "8892   1.482759                    0.026                          0.038   \n",
       "\n",
       "      Alpha-tocopherol [umol/L]  Basophils [%]  ...  Ferritin [ng/mL]  \\\n",
       "0                           NaN            NaN  ...               NaN   \n",
       "1                           NaN            0.7  ...             36.60   \n",
       "2                        26.006            1.0  ...             28.70   \n",
       "3                        16.765            0.8  ...            284.00   \n",
       "4                        22.756            0.5  ...             49.30   \n",
       "...                         ...            ...  ...               ...   \n",
       "8888                     31.347            0.6  ...            135.00   \n",
       "8889                     21.873            0.6  ...            120.00   \n",
       "8890                     26.935            1.4  ...              1.99   \n",
       "8891                     17.856            0.9  ...             11.40   \n",
       "8892                     21.177            1.0  ...            553.00   \n",
       "\n",
       "      Gamma Glutamyl Transferase [IU/L]  Hemoglobin [g/dL]  Insulin [pmol/L]  \\\n",
       "0                                   NaN                NaN               NaN   \n",
       "1                                   NaN               13.1               NaN   \n",
       "2                                  21.0               11.9               NaN   \n",
       "3                                  16.0               16.3               NaN   \n",
       "4                                   9.0               14.5               NaN   \n",
       "...                                 ...                ...               ...   \n",
       "8888                               18.0               13.4             26.34   \n",
       "8889                               28.0               15.5               NaN   \n",
       "8890                                8.0                6.4             56.94   \n",
       "8891                               16.0               11.4               NaN   \n",
       "8892                               72.0               17.4            634.38   \n",
       "\n",
       "      LDL-Cholesterol(NIH2) [mmol/L]  Lactate Dehydrogenase [IU/L]  \\\n",
       "0                                NaN                           NaN   \n",
       "1                                NaN                           NaN   \n",
       "2                                NaN                         174.0   \n",
       "3                                NaN                         142.0   \n",
       "4                                NaN                         177.0   \n",
       "...                              ...                           ...   \n",
       "8888                           1.112                         168.0   \n",
       "8889                             NaN                         136.0   \n",
       "8890                           2.793                         123.0   \n",
       "8891                             NaN                         158.0   \n",
       "8892                           2.172                         134.0   \n",
       "\n",
       "      Transferrin Saturation [%]  Transferrin receptor [nmol/L]  \\\n",
       "0                            NaN                            NaN   \n",
       "1                            NaN                           30.6   \n",
       "2                           28.0                           39.8   \n",
       "3                           51.0                           34.0   \n",
       "4                           21.0                           34.0   \n",
       "...                          ...                            ...   \n",
       "8888                        39.0                           29.1   \n",
       "8889                        20.0                           28.6   \n",
       "8890                         5.0                          248.0   \n",
       "8891                         5.0                           57.7   \n",
       "8892                        35.0                           23.4   \n",
       "\n",
       "      Triglyceride [mmol/L]  Diabetes  \n",
       "0                       NaN         0  \n",
       "1                       NaN         0  \n",
       "2                       NaN         0  \n",
       "3                       NaN         0  \n",
       "4                       NaN         0  \n",
       "...                     ...       ...  \n",
       "8888                  0.881         1  \n",
       "8889                    NaN         0  \n",
       "8890                  0.553         0  \n",
       "8891                    NaN         0  \n",
       "8892                  3.037         0  \n",
       "\n",
       "[8893 rows x 91 columns]"
      ]
     },
     "execution_count": 3,
     "metadata": {},
     "output_type": "execute_result"
    }
   ],
   "source": [
    "# Diabetes data\n",
    "\n",
    "diabetes_df = ml.get_data_of_disease(driver, 'Diabetes')\n",
    "diabetes_df"
   ]
  },
  {
   "cell_type": "markdown",
   "id": "6578093d",
   "metadata": {},
   "source": [
    "### Training"
   ]
  },
  {
   "cell_type": "code",
   "execution_count": 4,
   "id": "995292f6",
   "metadata": {},
   "outputs": [
    {
     "name": "stdout",
     "output_type": "stream",
     "text": [
      "Training Accuracy:  0.9955018273826258\n",
      "Validation Accuracy:  0.9960640989597975\n"
     ]
    }
   ],
   "source": [
    "xg_boost = XGBClassifier()\n",
    "\n",
    "# Attributes and Labels\n",
    "\n",
    "X, y, X_train, X_val, X_test, y_train, y_val, y_test = ml.preprocess_and_split(df = diabetes_df, label = 'Diabetes',\n",
    "                                                              impute = True, scale=True,\n",
    "                                                              imputer=ml.SimpleImputer(strategy='mean'),\n",
    "                                                              random_state=42)\n",
    "\n",
    "# Training\n",
    "\n",
    "xg_boost.fit(X_train.values, y_train.values)\n",
    "\n",
    "# Accuracy scores\n",
    "\n",
    "y_pred = xg_boost.predict(X_val)\n",
    "\n",
    "print('Training Accuracy: ',ml.accuracy_score(y_train, xg_boost.predict(X_train)))\n",
    "\n",
    "print('Validation Accuracy: ',ml.accuracy_score(y_val, y_pred))"
   ]
  },
  {
   "cell_type": "markdown",
   "id": "44142f21",
   "metadata": {},
   "source": [
    "## Feature Selection"
   ]
  },
  {
   "cell_type": "markdown",
   "id": "c60fc52a",
   "metadata": {},
   "source": [
    "### Correlation Analysis"
   ]
  },
  {
   "cell_type": "code",
   "execution_count": 6,
   "id": "4bf4ee40",
   "metadata": {},
   "outputs": [
    {
     "data": {
      "text/plain": [
       "['Glycohemoglobin [%]',\n",
       " 'Fasting Glucose [mmol/L]',\n",
       " 'Age',\n",
       " 'BMI',\n",
       " 'Blood Urea Nitrogen [mg/dL]',\n",
       " 'Insulin [pmol/L]',\n",
       " 'Osmolality [mmol/Kg]',\n",
       " 'Retinol [umol/L]',\n",
       " 'Triglyceride [mmol/L]',\n",
       " 'Alpha-tocopherol [umol/L]',\n",
       " 'Triglyceride_HDL Ratio',\n",
       " 'Segmented neutrophils [%]',\n",
       " 'Neutrophil_Lymphocyte Ratio',\n",
       " 'C-Reactive Protein [mg/L]',\n",
       " 'Cobalt [nmol/L]',\n",
       " 'Respondent ID',\n",
       " 'Eosinophils [%]',\n",
       " 'UIBC [umol/L]',\n",
       " 'Nucleated RBCs',\n",
       " 'Total Cholesterol [mmol/L]',\n",
       " 'Cis-beta-carotene [umol/L]',\n",
       " 'Creatine Phosphokinase [IU/L]',\n",
       " 'Total Calcium [mg/dL]',\n",
       " 'Trans-beta-carotene [umol/L]',\n",
       " 'Alpha-carotene [umol/L]',\n",
       " 'Total Protein [g/dL]',\n",
       " 'RBC count [million cells/uL]',\n",
       " 'Sodium [mmol/L]',\n",
       " 'Alkaline Phosphatase [IU/L]']"
      ]
     },
     "execution_count": 6,
     "metadata": {},
     "output_type": "execute_result"
    }
   ],
   "source": [
    "pos_corr, neg_corr = ml.get_correlated_features(diabetes_df,'Diabetes',pos=0.0,neg=-0.0)\n",
    "\n",
    "corr_features = list(pos_corr.keys()[1:]) + list(neg_corr.keys())\n",
    "corr_features.remove('Respondent_ID')\n",
    "corr_features_ = list(pos_corr.keys()[1:15]) + list(neg_corr.keys()[:15])\n",
    "corr_features_.remove('Respondent_ID')\n",
    "\n",
    "corr_features_"
   ]
  },
  {
   "cell_type": "code",
   "execution_count": 7,
   "id": "34987aa0",
   "metadata": {},
   "outputs": [
    {
     "name": "stdout",
     "output_type": "stream",
     "text": [
      "\n",
      "Train Accuracy: 0.996\n",
      "\n",
      "Test Accuracy: 0.996\n",
      "\n",
      "Precision: 1.000\n",
      "\n",
      "Recall: 0.971\n",
      "\n",
      "F1-Score: 0.985\n"
     ]
    }
   ],
   "source": [
    "ml.evaluate_feature_set(corr_features, XGBClassifier(), X_train, y_train, X_val, y_val, val=True)"
   ]
  },
  {
   "cell_type": "markdown",
   "id": "9df33603",
   "metadata": {},
   "source": [
    "### SelectFromModel"
   ]
  },
  {
   "cell_type": "code",
   "execution_count": 8,
   "id": "a245d928",
   "metadata": {},
   "outputs": [
    {
     "data": {
      "text/plain": [
       "['Respondent ID',\n",
       " 'Age',\n",
       " 'BMI',\n",
       " 'Chromium [nmol/L]',\n",
       " 'Cobalt [nmol/L]',\n",
       " 'Glycohemoglobin [%]',\n",
       " 'Blood Urea Nitrogen [mg/dL]',\n",
       " 'Osmolality [mmol/Kg]',\n",
       " 'Total Cholesterol [mmol/L]',\n",
       " 'Fasting Glucose [mmol/L]']"
      ]
     },
     "execution_count": 8,
     "metadata": {},
     "output_type": "execute_result"
    }
   ],
   "source": [
    "sfm_features = ml.select_from_model_features(ml.RandomForestClassifier(),X,y)\n",
    "sfm_features"
   ]
  },
  {
   "cell_type": "code",
   "execution_count": 9,
   "id": "17b4d45b",
   "metadata": {},
   "outputs": [
    {
     "name": "stdout",
     "output_type": "stream",
     "text": [
      "\n",
      "Train Accuracy: 0.990\n",
      "\n",
      "Test Accuracy: 0.991\n",
      "\n",
      "Precision: 0.998\n",
      "\n",
      "Recall: 0.934\n",
      "\n",
      "F1-Score: 0.965\n"
     ]
    }
   ],
   "source": [
    "sfm_features = list(sfm_features)\n",
    "\n",
    "ml.evaluate_feature_set(sfm_features, XGBClassifier(), X_train, y_train, X_val, y_val, val=True)"
   ]
  },
  {
   "cell_type": "markdown",
   "id": "15f3ce0f",
   "metadata": {},
   "source": [
    "### SelectKBest"
   ]
  },
  {
   "cell_type": "code",
   "execution_count": 10,
   "id": "238022df",
   "metadata": {},
   "outputs": [
    {
     "data": {
      "text/plain": [
       "['Glycohemoglobin [%]',\n",
       " 'Fasting Glucose [mmol/L]',\n",
       " 'Age',\n",
       " 'BMI',\n",
       " 'Blood Urea Nitrogen [mg/dL]',\n",
       " 'Osmolality [mmol/Kg]',\n",
       " 'Retinol [umol/L]',\n",
       " 'Lymphocyte [%]',\n",
       " 'Insulin [pmol/L]',\n",
       " 'Alpha-tocopherol [umol/L]',\n",
       " 'Lymphocyte_C-Reactive Protein Ratio',\n",
       " 'Segmented neutrophils [%]',\n",
       " 'Neutrophil_Lymphocyte Ratio',\n",
       " 'Alpha-crypotoxanthin [umol/L]',\n",
       " 'Albumin [g/dL]',\n",
       " 'Direct HDL-Cholesterol [mmol/L]',\n",
       " 'Platelet_WBC Ratio',\n",
       " 'C-Reactive Protein [mg/L]',\n",
       " 'Creatinine [mg/dL]',\n",
       " 'Ferritin [ng/mL]',\n",
       " 'Chloride [mmol/L]',\n",
       " 'Red cell distribution width [%]',\n",
       " 'Triglyceride [mmol/L]',\n",
       " 'A/G Ratio',\n",
       " 'Platelet count [1000 cells/uL]',\n",
       " 'Triglyceride_HDL Ratio',\n",
       " 'Trans-lycopene [umol/L]',\n",
       " '25-hydroxyvitamin D2 + D3 [nmol/L]',\n",
       " 'Total Lycopene [umol/L]',\n",
       " 'Mean platelet volume [fL]']"
      ]
     },
     "execution_count": 10,
     "metadata": {},
     "output_type": "execute_result"
    }
   ],
   "source": [
    "k_best_features = ml.select_k_best(X, y, n=30)\n",
    "k_best_features[:30]"
   ]
  },
  {
   "cell_type": "code",
   "execution_count": 11,
   "id": "b756eeaa",
   "metadata": {},
   "outputs": [
    {
     "name": "stdout",
     "output_type": "stream",
     "text": [
      "\n",
      "Train Accuracy: 0.991\n",
      "\n",
      "Test Accuracy: 0.992\n",
      "\n",
      "Precision: 0.991\n",
      "\n",
      "Recall: 0.948\n",
      "\n",
      "F1-Score: 0.969\n"
     ]
    }
   ],
   "source": [
    "ml.evaluate_feature_set(k_best_features[:30], XGBClassifier(), X_train, y_train, X_val, y_val, val=True)"
   ]
  },
  {
   "cell_type": "markdown",
   "id": "933ccbc1",
   "metadata": {},
   "source": [
    "### Recursive Feature Elimination (RFE) "
   ]
  },
  {
   "cell_type": "code",
   "execution_count": 12,
   "id": "82685afa",
   "metadata": {},
   "outputs": [
    {
     "data": {
      "text/plain": [
       "['Systemic Immune‐inflammation Index (SII)',\n",
       " 'Beta-cryptoxanthin [umol/L]',\n",
       " 'Trans-lycopene [umol/L]',\n",
       " 'C-Reactive Protein [mg/L]',\n",
       " 'Retinyl stearate [umol/L]',\n",
       " 'Mean Cell Hgb Conc. [g/dL]',\n",
       " 'Transferrin receptor [nmol/L]',\n",
       " 'Alanine Aminotransferase [U/L]',\n",
       " 'Alpha-crypotoxanthin [umol/L]',\n",
       " 'Hemoglobin [g/dL]',\n",
       " 'RBC count [million cells/uL]',\n",
       " 'Basophils [%]',\n",
       " 'Lactate Dehydrogenase [IU/L]',\n",
       " 'Fasting Glucose [mmol/L]',\n",
       " '25-hydroxyvitamin D2 + D3 [nmol/L]',\n",
       " 'Uric Acid [mg/dL]',\n",
       " 'Total Cholesterol [mmol/L]',\n",
       " 'Blood Urea Nitrogen [mg/dL]',\n",
       " 'Insulin [pmol/L]',\n",
       " 'Retinyl palmitate [umol/L]',\n",
       " 'Lymphocyte_Monocyte Ratio',\n",
       " 'Age',\n",
       " 'Non_HDL Ratio',\n",
       " 'BMI',\n",
       " 'Chromium [nmol/L]',\n",
       " 'LDL_HDL Ratio',\n",
       " 'Glycohemoglobin [%]',\n",
       " 'Iron frozen [umol/L]',\n",
       " 'Triglyceride_HDL Ratio',\n",
       " 'LDL-Cholesterol(NIH2) [mmol/L]']"
      ]
     },
     "execution_count": 12,
     "metadata": {},
     "output_type": "execute_result"
    }
   ],
   "source": [
    "rfe_features = ml.select_rfe_features(ml.XGBClassifier(),X,y,n=30,step=0.5)\n",
    "rfe_features[:30]"
   ]
  },
  {
   "cell_type": "code",
   "execution_count": 13,
   "id": "8db8aa72",
   "metadata": {},
   "outputs": [
    {
     "name": "stdout",
     "output_type": "stream",
     "text": [
      "\n",
      "Train Accuracy: 0.992\n",
      "\n",
      "Test Accuracy: 0.992\n",
      "\n",
      "Precision: 0.994\n",
      "\n",
      "Recall: 0.950\n",
      "\n",
      "F1-Score: 0.971\n"
     ]
    }
   ],
   "source": [
    "ml.evaluate_feature_set(rfe_features[:30], XGBClassifier(), X_train, y_train, X_val, y_val, val=True)"
   ]
  },
  {
   "cell_type": "markdown",
   "id": "85827a38",
   "metadata": {},
   "source": [
    "### Lasso Regularization"
   ]
  },
  {
   "cell_type": "code",
   "execution_count": 14,
   "id": "f7a2dee7",
   "metadata": {},
   "outputs": [
    {
     "data": {
      "text/plain": [
       "['Glycohemoglobin [%]',\n",
       " 'Fasting Glucose [mmol/L]',\n",
       " 'Age',\n",
       " 'Gender',\n",
       " 'BMI',\n",
       " 'Retinol [umol/L]',\n",
       " 'Total Cholesterol [mmol/L]',\n",
       " 'Non_HDL Ratio',\n",
       " 'Alkaline Phosphatase [IU/L]',\n",
       " 'Insulin [pmol/L]',\n",
       " 'Osmolality [mmol/Kg]',\n",
       " 'Vitamin C [umol/L]',\n",
       " 'Blood lead [umol/L]',\n",
       " 'Transferrin receptor [nmol/L]',\n",
       " 'Gamma Glutamyl Transferase [IU/L]',\n",
       " 'Mean Cell Hgb Conc. [g/dL]',\n",
       " 'Aspartate Aminotransferase [U/L]',\n",
       " 'Transferrin Saturation [%]',\n",
       " 'Creatine Phosphokinase [IU/L]',\n",
       " 'LDL-Cholesterol(NIH2) [mmol/L]',\n",
       " 'Lactate Dehydrogenase [IU/L]',\n",
       " 'Creatinine [mg/dL]',\n",
       " 'White blood cell count [1000 cells/uL]',\n",
       " 'Platelet_Lymphocyte Ratio',\n",
       " 'Total Cholestrol_HDL Ratio',\n",
       " 'Retinyl palmitate [umol/L]',\n",
       " 'Uric Acid [mg/dL]',\n",
       " 'Bicarbonate [mmol/L]',\n",
       " 'Direct HDL-Cholesterol [mmol/L]',\n",
       " 'Sodium [mmol/L]']"
      ]
     },
     "execution_count": 14,
     "metadata": {},
     "output_type": "execute_result"
    }
   ],
   "source": [
    "l1_selected_features = ml.log_reg_lasso_select(X_train, y_train)\n",
    "l1_selected_features[:30]"
   ]
  },
  {
   "cell_type": "code",
   "execution_count": 15,
   "id": "1b685cc9",
   "metadata": {},
   "outputs": [
    {
     "name": "stdout",
     "output_type": "stream",
     "text": [
      "\n",
      "Train Accuracy: 0.992\n",
      "\n",
      "Test Accuracy: 0.992\n",
      "\n",
      "Precision: 0.996\n",
      "\n",
      "Recall: 0.948\n",
      "\n",
      "F1-Score: 0.971\n"
     ]
    }
   ],
   "source": [
    "ml.evaluate_feature_set(l1_selected_features[:30], XGBClassifier(), X_train, y_train, X_val, y_val, val=True)"
   ]
  },
  {
   "cell_type": "markdown",
   "id": "a37796b0",
   "metadata": {},
   "source": [
    "### Relief F"
   ]
  },
  {
   "cell_type": "code",
   "execution_count": 16,
   "id": "bfb3ec54",
   "metadata": {},
   "outputs": [],
   "source": [
    "relieff_features = ml.relief_feature_select(30,X,y)"
   ]
  },
  {
   "cell_type": "code",
   "execution_count": 17,
   "id": "fc600c21",
   "metadata": {},
   "outputs": [
    {
     "data": {
      "text/plain": [
       "['Age',\n",
       " 'Glycohemoglobin [%]',\n",
       " 'Respondent ID',\n",
       " 'BMI',\n",
       " 'Fasting Glucose [mmol/L]',\n",
       " 'Segmented neutrophils [%]',\n",
       " 'Hematocrit [%]',\n",
       " 'Lymphocyte [%]',\n",
       " 'Retinol [umol/L]',\n",
       " 'Hemoglobin [g/dL]',\n",
       " 'Total Cholesterol [mmol/L]',\n",
       " 'Neutrophil_Lymphocyte Ratio',\n",
       " 'Non_HDL Ratio',\n",
       " 'Osmolality [mmol/Kg]',\n",
       " 'Total Iron Binding Capacity [umol/L]',\n",
       " 'Alpha-tocopherol [umol/L]',\n",
       " 'Blood Urea Nitrogen [mg/dL]',\n",
       " 'Potassium [mmol/L]',\n",
       " 'Chloride [mmol/L]',\n",
       " 'Mean cell volume [fL]',\n",
       " 'Sodium [mmol/L]',\n",
       " 'Total Protein [g/dL]',\n",
       " 'Total Calcium [mg/dL]',\n",
       " 'Total Cholestrol_HDL Ratio',\n",
       " 'Gamma-tocopherol [umol/L]',\n",
       " 'Lactate Dehydrogenase [IU/L]',\n",
       " 'Phosphorus [mg/dL]',\n",
       " 'A/G Ratio',\n",
       " 'Uric Acid [mg/dL]',\n",
       " 'Mean platelet volume [fL]']"
      ]
     },
     "execution_count": 17,
     "metadata": {},
     "output_type": "execute_result"
    }
   ],
   "source": [
    "relieff_features[:30]"
   ]
  },
  {
   "cell_type": "code",
   "execution_count": 18,
   "id": "8f76d0da",
   "metadata": {},
   "outputs": [
    {
     "name": "stdout",
     "output_type": "stream",
     "text": [
      "\n",
      "Train Accuracy: 0.995\n",
      "\n",
      "Test Accuracy: 0.996\n",
      "\n",
      "Precision: 1.000\n",
      "\n",
      "Recall: 0.971\n",
      "\n",
      "F1-Score: 0.985\n"
     ]
    }
   ],
   "source": [
    "ml.evaluate_feature_set(relieff_features[:30], XGBClassifier(), X_train, y_train, X_val, y_val, val=True)"
   ]
  },
  {
   "cell_type": "markdown",
   "id": "c706d6d7",
   "metadata": {},
   "source": [
    "### XGBoost Feature Importances"
   ]
  },
  {
   "cell_type": "code",
   "execution_count": 19,
   "id": "ffa6015c",
   "metadata": {},
   "outputs": [],
   "source": [
    "def get_xgb_features(model, X_train):\n",
    "    \n",
    "    xgb_features = ml.pd.DataFrame(model.feature_importances_, index=X_train.columns,\n",
    "                                             columns=['Importance'])\n",
    "    xgb_features = xgb_features.sort_values('Importance', ascending=False)\n",
    "    xgb_features = list(xgb_features.index)\n",
    "    \n",
    "    return xgb_features"
   ]
  },
  {
   "cell_type": "code",
   "execution_count": 20,
   "id": "85c5e4e0",
   "metadata": {},
   "outputs": [
    {
     "data": {
      "text/plain": [
       "['Glycohemoglobin [%]',\n",
       " 'Fasting Glucose [mmol/L]',\n",
       " 'Age',\n",
       " 'LDL-Cholesterol(NIH2) [mmol/L]',\n",
       " 'Non_HDL Ratio',\n",
       " 'RBC count [million cells/uL]',\n",
       " 'Lymphocyte_Monocyte Ratio',\n",
       " 'Transferrin receptor [nmol/L]',\n",
       " 'Trans-lycopene [umol/L]',\n",
       " 'Retinol [umol/L]',\n",
       " 'Iron [ug/dL]',\n",
       " 'Blood Urea Nitrogen [mg/dL]',\n",
       " 'Neutrophil_Lymphocyte Ratio',\n",
       " 'Hydroxycotinine [ng/mL]',\n",
       " 'Bicarbonate [mmol/L]',\n",
       " 'Transferrin Saturation [%]',\n",
       " 'Vitamin C [umol/L]',\n",
       " 'Chloride [mmol/L]',\n",
       " 'UIBC [umol/L]',\n",
       " 'BMI',\n",
       " 'Chromium [nmol/L]',\n",
       " 'Monocyte [%]',\n",
       " 'Retinyl stearate [umol/L]',\n",
       " 'Beta-cryptoxanthin [umol/L]',\n",
       " 'Platelet_Lymphocyte Ratio',\n",
       " 'Systemic Immune‐inflammation Index (SII)',\n",
       " 'Potassium [mmol/L]',\n",
       " 'Alpha-carotene [umol/L]',\n",
       " 'A/G Ratio',\n",
       " 'Mean cell volume [fL]']"
      ]
     },
     "execution_count": 20,
     "metadata": {},
     "output_type": "execute_result"
    }
   ],
   "source": [
    "xgb_features = get_xgb_features(xg_boost, X_train)\n",
    "xgb_features[:30]"
   ]
  },
  {
   "cell_type": "code",
   "execution_count": 21,
   "id": "a507b5b2",
   "metadata": {},
   "outputs": [
    {
     "name": "stdout",
     "output_type": "stream",
     "text": [
      "\n",
      "Train Accuracy: 0.996\n",
      "\n",
      "Test Accuracy: 0.996\n",
      "\n",
      "Precision: 1.000\n",
      "\n",
      "Recall: 0.971\n",
      "\n",
      "F1-Score: 0.985\n"
     ]
    }
   ],
   "source": [
    "ml.evaluate_feature_set(xgb_features, XGBClassifier(), X_train, y_train, X_val, y_val, val=True)"
   ]
  },
  {
   "cell_type": "markdown",
   "id": "ec970811",
   "metadata": {},
   "source": [
    "### Optimal no. of features"
   ]
  },
  {
   "cell_type": "code",
   "execution_count": 22,
   "id": "230770c2",
   "metadata": {},
   "outputs": [],
   "source": [
    "final_features = list(xgb_features) "
   ]
  },
  {
   "cell_type": "code",
   "execution_count": 24,
   "id": "d3297886",
   "metadata": {},
   "outputs": [
    {
     "name": "stderr",
     "output_type": "stream",
     "text": [
      "Finding optimal no. of features..: 100%|███████████████████████████████████████████████████████████████████████████████████████████████████████████████████| 86/86 [09:25<00:00,  6.57s/it]\n"
     ]
    },
    {
     "name": "stdout",
     "output_type": "stream",
     "text": [
      "\n",
      "Maximum f1 = 0.7461 for 75 features\n"
     ]
    },
    {
     "data": {
      "image/png": "[encoded data removed]",
      "text/plain": [
       "<Figure size 1000x700 with 1 Axes>"
      ]
     },
     "metadata": {},
     "output_type": "display_data"
    }
   ],
   "source": [
    "# Optimal no. of features\n",
    "\n",
    "ml.plot_num_feature_performance(XGBClassifier(device=\"cuda\"),  X, y, final_features, scoring='f1', val=True)"
   ]
  },
  {
   "cell_type": "code",
   "execution_count": 25,
   "id": "27de64c6",
   "metadata": {},
   "outputs": [],
   "source": [
    "num_features = 75\n",
    "\n",
    "selected = final_features[:num_features]\n",
    "selected.append('Diabetes')\n",
    "\n",
    "diabetes_df = diabetes_df[selected]"
   ]
  },
  {
   "cell_type": "code",
   "execution_count": 26,
   "id": "ef297d13",
   "metadata": {},
   "outputs": [],
   "source": [
    "# Save feature set\n",
    "    \n",
    "with open('../Models/Diabetes/Feature Sets/XG Boost Features.pkl', 'wb') as f:\n",
    "    ml.pickle.dump(selected, f)"
   ]
  },
  {
   "cell_type": "markdown",
   "id": "cd4a3a33",
   "metadata": {},
   "source": [
    "## Preprocessing"
   ]
  },
  {
   "cell_type": "markdown",
   "id": "32c7f0b2",
   "metadata": {},
   "source": [
    "### Zero Imputation"
   ]
  },
  {
   "cell_type": "code",
   "execution_count": 27,
   "id": "24b09db9",
   "metadata": {},
   "outputs": [],
   "source": [
    "# Imputing null values with zeroes\n",
    "\n",
    "X, y, X_train, X_val, X_test, y_train, y_val, y_test = ml.preprocess_and_split(df = diabetes_df, label = 'Diabetes',\n",
    "                                                        impute = True, scale=True,\n",
    "                                                        imputer=ml.SimpleImputer(strategy='constant',fill_value=0),\n",
    "                                                        random_state=42)"
   ]
  },
  {
   "cell_type": "code",
   "execution_count": 28,
   "id": "fd4250b4",
   "metadata": {},
   "outputs": [
    {
     "name": "stdout",
     "output_type": "stream",
     "text": [
      "\n",
      "Train Accuracy: 0.992\n",
      "\n",
      "Test Accuracy: 0.993\n",
      "\n",
      "Precision: 0.991\n",
      "\n",
      "Recall: 0.955\n",
      "\n",
      "F1-Score: 0.973\n"
     ]
    }
   ],
   "source": [
    "xg_boost = XGBClassifier(device='cuda')\n",
    "xg_boost.fit(X_train.values, y_train.values)\n",
    "\n",
    "ml.evaluate_model_metrics(xg_boost,X_train,y_train,X_val,y_val)"
   ]
  },
  {
   "cell_type": "markdown",
   "id": "1877522f",
   "metadata": {},
   "source": [
    "### Mode Imputation"
   ]
  },
  {
   "cell_type": "code",
   "execution_count": 29,
   "id": "fcca0b91",
   "metadata": {},
   "outputs": [],
   "source": [
    "# Imputing with most frequent values\n",
    "\n",
    "X, y, X_train, X_val, X_test, y_train, y_val, y_test = ml.preprocess_and_split(df = diabetes_df, label = 'Diabetes',\n",
    "                                                              impute = True, scale=True,\n",
    "                                                              imputer=ml.SimpleImputer(strategy='most_frequent'),\n",
    "                                                              random_state=42)"
   ]
  },
  {
   "cell_type": "code",
   "execution_count": 30,
   "id": "43855037",
   "metadata": {},
   "outputs": [
    {
     "name": "stdout",
     "output_type": "stream",
     "text": [
      "\n",
      "Train Accuracy: 0.992\n",
      "\n",
      "Test Accuracy: 0.992\n",
      "\n",
      "Precision: 0.991\n",
      "\n",
      "Recall: 0.950\n",
      "\n",
      "F1-Score: 0.970\n"
     ]
    }
   ],
   "source": [
    "xg_boost = XGBClassifier(device='cuda')\n",
    "xg_boost.fit(X_train.values, y_train.values)\n",
    "\n",
    "ml.evaluate_model_metrics(xg_boost,X_train,y_train,X_val,y_val)"
   ]
  },
  {
   "cell_type": "markdown",
   "id": "dc71288f",
   "metadata": {},
   "source": [
    "### Median Imputation"
   ]
  },
  {
   "cell_type": "code",
   "execution_count": 34,
   "id": "648640e9",
   "metadata": {},
   "outputs": [],
   "source": [
    "# Imputing with median values\n",
    "\n",
    "X, y, X_train, X_val, X_test, y_train, y_val, y_test = ml.preprocess_and_split(df = diabetes_df, label = 'Diabetes',\n",
    "                                                              impute = True, scale=True,\n",
    "                                                              imputer=ml.SimpleImputer(strategy='median'),\n",
    "                                                              random_state=42)"
   ]
  },
  {
   "cell_type": "code",
   "execution_count": 35,
   "id": "188ab3fd",
   "metadata": {},
   "outputs": [
    {
     "name": "stdout",
     "output_type": "stream",
     "text": [
      "\n",
      "Train Accuracy: 0.992\n",
      "\n",
      "Test Accuracy: 0.992\n",
      "\n",
      "Precision: 0.994\n",
      "\n",
      "Recall: 0.948\n",
      "\n",
      "F1-Score: 0.970\n"
     ]
    }
   ],
   "source": [
    "xg_boost = XGBClassifier(device='cuda')\n",
    "xg_boost.fit(X_train.values, y_train.values)\n",
    "\n",
    "ml.evaluate_model_metrics(xg_boost,X_train,y_train,X_val,y_val)"
   ]
  },
  {
   "cell_type": "markdown",
   "id": "ecf3258f",
   "metadata": {},
   "source": [
    "### Mean Imputation"
   ]
  },
  {
   "cell_type": "code",
   "execution_count": 36,
   "id": "cf825805",
   "metadata": {},
   "outputs": [],
   "source": [
    "# Splitting and Preprocessing data\n",
    "\n",
    "X, y, X_train, X_val, X_test, y_train, y_val, y_test = ml.preprocess_and_split(df = diabetes_df, label = 'Diabetes',\n",
    "                                                              impute = True, scale=True,\n",
    "                                                              imputer=ml.SimpleImputer(strategy='mean'),\n",
    "                                                              random_state=42)"
   ]
  },
  {
   "cell_type": "code",
   "execution_count": 37,
   "id": "c4eb9258",
   "metadata": {},
   "outputs": [
    {
     "name": "stdout",
     "output_type": "stream",
     "text": [
      "\n",
      "Train Accuracy: 0.992\n",
      "\n",
      "Test Accuracy: 0.992\n",
      "\n",
      "Precision: 0.991\n",
      "\n",
      "Recall: 0.948\n",
      "\n",
      "F1-Score: 0.969\n"
     ]
    }
   ],
   "source": [
    "xg_boost = XGBClassifier(device='cuda')\n",
    "xg_boost.fit(X_train.values, y_train.values)\n",
    "\n",
    "ml.evaluate_model_metrics(xg_boost,X_train,y_train,X_val,y_val)"
   ]
  },
  {
   "cell_type": "markdown",
   "id": "8484c25a",
   "metadata": {},
   "source": [
    "### k-NN Imputation"
   ]
  },
  {
   "cell_type": "code",
   "execution_count": 38,
   "id": "288ec08b",
   "metadata": {},
   "outputs": [],
   "source": [
    "# Imputing missing values with values from the k-nearest neighbors in the feature space\n",
    "\n",
    "X, y, X_train, X_val, X_test, y_train, y_val, y_test = ml.preprocess_and_split(df = diabetes_df, label = 'Diabetes',\n",
    "                                                              impute = True, scale=True,\n",
    "                                                              imputer=ml.KNNImputer(n_neighbors=20),\n",
    "                                                              random_state=42)"
   ]
  },
  {
   "cell_type": "code",
   "execution_count": 39,
   "id": "d03244a8",
   "metadata": {},
   "outputs": [
    {
     "name": "stdout",
     "output_type": "stream",
     "text": [
      "\n",
      "Train Accuracy: 0.998\n",
      "\n",
      "Test Accuracy: 0.994\n",
      "\n",
      "Precision: 0.989\n",
      "\n",
      "Recall: 0.969\n",
      "\n",
      "F1-Score: 0.979\n"
     ]
    }
   ],
   "source": [
    "xg_boost = XGBClassifier(device='cuda')\n",
    "xg_boost.fit(X_train.values, y_train.values)\n",
    "\n",
    "ml.evaluate_model_metrics(xg_boost,X_train,y_train,X_val,y_val)"
   ]
  },
  {
   "cell_type": "markdown",
   "id": "5bd39f86",
   "metadata": {},
   "source": [
    "### Dropping Null Values"
   ]
  },
  {
   "cell_type": "code",
   "execution_count": 40,
   "id": "2a0f7318",
   "metadata": {
    "scrolled": true
   },
   "outputs": [],
   "source": [
    "# Drop null values\n",
    "diabetes_df_na = diabetes_df.dropna()\n",
    "\n",
    "X, y, X_train, X_val, X_test, y_train, y_val, y_test = ml.preprocess_and_split(df = diabetes_df_na, label = 'Diabetes',\n",
    "                                                              impute = False, scale=True,\n",
    "                                                              random_state=42)"
   ]
  },
  {
   "cell_type": "code",
   "execution_count": 41,
   "id": "f3c46212",
   "metadata": {},
   "outputs": [
    {
     "name": "stdout",
     "output_type": "stream",
     "text": [
      "\n",
      "Train Accuracy: 1.000\n",
      "\n",
      "Test Accuracy: 1.000\n",
      "\n",
      "Precision: 1.000\n",
      "\n",
      "Recall: 1.000\n",
      "\n",
      "F1-Score: 1.000\n"
     ]
    }
   ],
   "source": [
    "xg_boost = XGBClassifier(device='cuda')\n",
    "xg_boost.fit(X_train.values, y_train.values)\n",
    "\n",
    "ml.evaluate_model_metrics(xg_boost,X_train,y_train,X_val,y_val)"
   ]
  },
  {
   "cell_type": "markdown",
   "id": "071184b2",
   "metadata": {},
   "source": [
    "### Multiple Imputation by Chained Equations (MICE)"
   ]
  },
  {
   "cell_type": "code",
   "execution_count": 5,
   "id": "d4907869",
   "metadata": {},
   "outputs": [],
   "source": [
    "# Imputes by looking at data from other columns and trying to estimate the best prediction for each missing value.\n",
    "\n",
    "X, y, X_train, X_val, X_test, y_train, y_val, y_test = ml.preprocess_and_split(df = diabetes_df, label = 'Diabetes',\n",
    "                                                              impute = True, scale=True,\n",
    "                                                              imputer=ml.IterativeImputer(max_iter=20),\n",
    "                                                              random_state=42)"
   ]
  },
  {
   "cell_type": "code",
   "execution_count": 6,
   "id": "8661706e",
   "metadata": {},
   "outputs": [
    {
     "name": "stdout",
     "output_type": "stream",
     "text": [
      "\n",
      "Train Accuracy: 0.995\n",
      "\n",
      "Test Accuracy: 0.995\n",
      "\n",
      "Precision: 0.992\n",
      "\n",
      "Recall: 0.969\n",
      "\n",
      "F1-Score: 0.980\n"
     ]
    }
   ],
   "source": [
    "xg_boost = XGBClassifier(device='cuda')\n",
    "xg_boost.fit(X_train.values, y_train.values)\n",
    "\n",
    "ml.evaluate_model_metrics(xg_boost,X_train,y_train,X_val,y_val)"
   ]
  },
  {
   "cell_type": "markdown",
   "id": "9bda7751",
   "metadata": {},
   "source": [
    "## Hyperparameter Optimization "
   ]
  },
  {
   "cell_type": "code",
   "execution_count": 44,
   "id": "8bbd1f7f",
   "metadata": {},
   "outputs": [],
   "source": [
    "param_grid = {\n",
    "    \n",
    "    'learning_rate': [0.01, 0.1, 0.2, 0.3],\n",
    "    'subsample': [0.8, 0.9, 1.0],\n",
    "    'gamma': [0, 0.1, 0.2, 0.3],\n",
    "    'reg_alpha': [0, 0.1, 0.2, 0.3],\n",
    "    'reg_lambda': [1, 1.5, 2, 3],\n",
    "    \n",
    "}"
   ]
  },
  {
   "cell_type": "markdown",
   "id": "8458e5a6",
   "metadata": {},
   "source": [
    "### Random Search"
   ]
  },
  {
   "cell_type": "code",
   "execution_count": 49,
   "id": "cc4fcfeb",
   "metadata": {},
   "outputs": [],
   "source": [
    "rand_best_params, xg_boost_rand = ml.random_search_optimize(XGBClassifier(),param_grid,n_iter=100,cv=5,\n",
    "                                                               X_train=X_train, y_train=y_train,\n",
    "                                                               scoring='accuracy', val=True)"
   ]
  },
  {
   "cell_type": "code",
   "execution_count": 8,
   "id": "a3aca564",
   "metadata": {},
   "outputs": [
    {
     "data": {
      "text/plain": [
       "{'subsample': 0.9,\n",
       " 'reg_lambda': 1.5,\n",
       " 'reg_alpha': 0,\n",
       " 'learning_rate': 0.1,\n",
       " 'gamma': 0.2}"
      ]
     },
     "execution_count": 8,
     "metadata": {},
     "output_type": "execute_result"
    }
   ],
   "source": [
    "rand_best_params"
   ]
  },
  {
   "cell_type": "code",
   "execution_count": 14,
   "id": "d394790f",
   "metadata": {},
   "outputs": [
    {
     "data": {
      "text/plain": [
       "{'subsample': 0.9,\n",
       " 'reg_lambda': 1.5,\n",
       " 'reg_alpha': 0,\n",
       " 'learning_rate': 0.1,\n",
       " 'gamma': 0.2,\n",
       " 'device': 'cuda'}"
      ]
     },
     "execution_count": 14,
     "metadata": {},
     "output_type": "execute_result"
    }
   ],
   "source": [
    "rand_best_params.update({'device': 'cuda'})\n",
    "rand_best_params"
   ]
  },
  {
   "cell_type": "code",
   "execution_count": 51,
   "id": "0c27dea7",
   "metadata": {},
   "outputs": [
    {
     "name": "stdout",
     "output_type": "stream",
     "text": [
      "\n",
      "Train Accuracy: 0.990\n",
      "\n",
      "Test Accuracy: 0.990\n",
      "\n",
      "Precision: 0.991\n",
      "\n",
      "Recall: 0.938\n",
      "\n",
      "F1-Score: 0.964\n"
     ]
    }
   ],
   "source": [
    "ml.evaluate_model_metrics(xg_boost_rand,X_train,y_train,X_val,y_val)"
   ]
  },
  {
   "cell_type": "markdown",
   "id": "7d6294a4",
   "metadata": {},
   "source": [
    "### Optuna"
   ]
  },
  {
   "cell_type": "code",
   "execution_count": 52,
   "id": "ae722921",
   "metadata": {},
   "outputs": [],
   "source": [
    "def objective(trial):\n",
    "\n",
    "    params = {\n",
    "        'objective': 'binary:logistic',\n",
    "        'eval_metric': 'logloss',\n",
    "        'booster': trial.suggest_categorical('booster', ['gbtree', 'gblinear', 'dart']),\n",
    "        'lambda': trial.suggest_loguniform('lambda', 1e-8, 1.0),\n",
    "        'alpha': trial.suggest_loguniform('alpha', 1e-8, 1.0),\n",
    "        'max_depth': trial.suggest_int('max_depth', 3, 10),\n",
    "        'eta': trial.suggest_loguniform('eta', 1e-8, 1.0),\n",
    "        'gamma': trial.suggest_loguniform('gamma', 1e-8, 1.0),\n",
    "        'grow_policy': trial.suggest_categorical('grow_policy', ['depthwise', 'lossguide']),\n",
    "    }\n",
    "\n",
    "    if params['booster'] == 'gbtree' or params['booster'] == 'dart':\n",
    "        params['subsample'] = trial.suggest_uniform('subsample', 0.1, 1.0)\n",
    "        params['colsample_bytree'] = trial.suggest_uniform('colsample_bytree', 0.1, 1.0)\n",
    "\n",
    "    model = XGBClassifier(**params)\n",
    "    \n",
    "    model.fit(X_train.values, y_train.values)\n",
    "    y_pred = model.predict(X_test.values)\n",
    "\n",
    "    accuracy = ml.accuracy_score(y_test.values, y_pred)\n",
    "\n",
    "    return accuracy"
   ]
  },
  {
   "cell_type": "code",
   "execution_count": 53,
   "id": "e7e379fd",
   "metadata": {},
   "outputs": [],
   "source": [
    "best_trial , xg_boost_opt = ml.optuna_optimize(objective, XGBClassifier, n_trials=150)"
   ]
  },
  {
   "cell_type": "code",
   "execution_count": 10,
   "id": "b9b8c5b6",
   "metadata": {},
   "outputs": [
    {
     "data": {
      "text/plain": [
       "{'booster': 'dart',\n",
       " 'lambda': 2.9031190755560928e-08,\n",
       " 'alpha': 7.229744977210442e-05,\n",
       " 'max_depth': 8,\n",
       " 'eta': 0.41819998175350637,\n",
       " 'gamma': 4.6824952525634463e-08,\n",
       " 'grow_policy': 'depthwise',\n",
       " 'subsample': 0.6230443706871261,\n",
       " 'colsample_bytree': 0.9858046013024417}"
      ]
     },
     "execution_count": 10,
     "metadata": {},
     "output_type": "execute_result"
    }
   ],
   "source": [
    "best_trial"
   ]
  },
  {
   "cell_type": "code",
   "execution_count": 13,
   "id": "87073353",
   "metadata": {},
   "outputs": [
    {
     "data": {
      "text/plain": [
       "{'booster': 'dart',\n",
       " 'lambda': 2.9031190755560928e-08,\n",
       " 'alpha': 7.229744977210442e-05,\n",
       " 'max_depth': 8,\n",
       " 'eta': 0.41819998175350637,\n",
       " 'gamma': 4.6824952525634463e-08,\n",
       " 'grow_policy': 'depthwise',\n",
       " 'subsample': 0.6230443706871261,\n",
       " 'colsample_bytree': 0.9858046013024417,\n",
       " 'device': 'cuda'}"
      ]
     },
     "execution_count": 13,
     "metadata": {},
     "output_type": "execute_result"
    }
   ],
   "source": [
    "best_trial.update({'device': 'cuda'})\n",
    "best_trial"
   ]
  },
  {
   "cell_type": "code",
   "execution_count": 57,
   "id": "9e3a828c",
   "metadata": {},
   "outputs": [
    {
     "name": "stdout",
     "output_type": "stream",
     "text": [
      "\n",
      "Train Accuracy: 0.995\n",
      "\n",
      "Test Accuracy: 0.995\n",
      "\n",
      "Precision: 0.992\n",
      "\n",
      "Recall: 0.971\n",
      "\n",
      "F1-Score: 0.981\n"
     ]
    }
   ],
   "source": [
    "xg_boost_opt.device = 'cuda'\n",
    "xg_boost_opt.fit(X_train.values,y_train.values)\n",
    "\n",
    "ml.evaluate_model_metrics(xg_boost_opt,X_train,y_train,X_val,y_val)"
   ]
  },
  {
   "cell_type": "markdown",
   "id": "af5a88e1",
   "metadata": {},
   "source": [
    "## Evaluation on Test Set"
   ]
  },
  {
   "cell_type": "code",
   "execution_count": 58,
   "id": "d8a10c03",
   "metadata": {},
   "outputs": [
    {
     "name": "stdout",
     "output_type": "stream",
     "text": [
      "\n",
      "Train Accuracy: 0.995\n",
      "\n",
      "Test Accuracy: 0.994\n",
      "\n",
      "Precision: 0.987\n",
      "\n",
      "Recall: 0.970\n",
      "\n",
      "F1-Score: 0.979\n",
      "\n",
      "Confusion Matrix:\n",
      "\n",
      "[[3080    6]\n",
      " [  14  457]]\n",
      "\n",
      "\n",
      "Classification Report:\n",
      "\n",
      "              precision    recall  f1-score   support\n",
      "\n",
      "     Class 0       1.00      1.00      1.00      3086\n",
      "     Class 1       0.99      0.97      0.98       471\n",
      "\n",
      "    accuracy                           0.99      3557\n",
      "   macro avg       0.99      0.98      0.99      3557\n",
      "weighted avg       0.99      0.99      0.99      3557\n",
      "\n",
      "\n",
      "ROC-AUC Curve:\n"
     ]
    },
    {
     "data": {
      "image/png": "[encoded data removed]",
      "text/plain": [
       "<Figure size 600x400 with 1 Axes>"
      ]
     },
     "metadata": {},
     "output_type": "display_data"
    }
   ],
   "source": [
    "# After evaluating on the validation set, we evaluate and finalize on the test set\n",
    "\n",
    "ml.evaluate_model_metrics(xg_boost_opt, X_train, y_train, X_test, y_test, verbose=6)"
   ]
  },
  {
   "cell_type": "markdown",
   "id": "e7b5c88c",
   "metadata": {},
   "source": [
    "## Cross Validation"
   ]
  },
  {
   "cell_type": "markdown",
   "id": "7e539fb9",
   "metadata": {},
   "source": [
    "### K-fold"
   ]
  },
  {
   "cell_type": "code",
   "execution_count": 11,
   "id": "e77a24f0",
   "metadata": {},
   "outputs": [
    {
     "name": "stdout",
     "output_type": "stream",
     "text": [
      "\n",
      "accuracy scores: [0.92696629 0.92696629 0.93398876 0.93539326 0.93670886 0.91420534\n",
      " 0.92686357 0.93248945 0.94655415 0.94374121]\n",
      "\n",
      "Mean accuracy score:  0.9323877194645933\n",
      "\n",
      "Standard deviation:  0.008830443876794122\n"
     ]
    }
   ],
   "source": [
    "ml.k_cross_validate(XGBClassifier(device='cuda'),X_train.values, y_train,cv=10,scoring='accuracy')"
   ]
  },
  {
   "cell_type": "code",
   "execution_count": 15,
   "id": "fa6ff1f4",
   "metadata": {},
   "outputs": [
    {
     "name": "stdout",
     "output_type": "stream",
     "text": [
      "\n",
      "accuracy scores: [0.93258427 0.92977528 0.92837079 0.93820225 0.93389592 0.91420534\n",
      " 0.93389592 0.93670886 0.94655415 0.94796062]\n",
      "\n",
      "Mean accuracy score:  0.9342153400022125\n",
      "\n",
      "Standard deviation:  0.009057755068648412\n"
     ]
    }
   ],
   "source": [
    "ml.k_cross_validate(XGBClassifier(**rand_best_params),X_train.values, y_train,cv=10,scoring='accuracy')"
   ]
  },
  {
   "cell_type": "code",
   "execution_count": 16,
   "id": "46f81577",
   "metadata": {},
   "outputs": [
    {
     "name": "stdout",
     "output_type": "stream",
     "text": [
      "\n",
      "accuracy scores: [0.92134831 0.92134831 0.92275281 0.92837079 0.93248945 0.91983122\n",
      " 0.92123769 0.93108298 0.93670886 0.9395218 ]\n",
      "\n",
      "Mean accuracy score:  0.9274692235970861\n",
      "\n",
      "Standard deviation:  0.006812172074773503\n"
     ]
    }
   ],
   "source": [
    "ml.k_cross_validate(XGBClassifier(**best_trial),X_train.values, y_train,cv=10,scoring='accuracy')"
   ]
  },
  {
   "cell_type": "markdown",
   "id": "ad831ffc",
   "metadata": {},
   "source": [
    "### Stratified K-fold"
   ]
  },
  {
   "cell_type": "code",
   "execution_count": 17,
   "id": "29a48b89",
   "metadata": {},
   "outputs": [
    {
     "name": "stdout",
     "output_type": "stream",
     "text": [
      "\n",
      "Average Accuracy: 0.9336529496357402\n",
      "\n",
      "Average Precision: 0.81597233764576\n",
      "\n",
      "Average Recall: 0.6533881578947368\n",
      "\n",
      "Average F1-Score: 0.7249262159117882\n"
     ]
    }
   ],
   "source": [
    "ml.stratified_k_cross_validate(XGBClassifier(device='cuda'),X_train,y_train,n_splits=10)"
   ]
  },
  {
   "cell_type": "code",
   "execution_count": 18,
   "id": "5aa2c58d",
   "metadata": {},
   "outputs": [
    {
     "name": "stdout",
     "output_type": "stream",
     "text": [
      "\n",
      "Average Accuracy: 0.9337945843012688\n",
      "\n",
      "Average Precision: 0.8222510883005694\n",
      "\n",
      "Average Recall: 0.646140350877193\n",
      "\n",
      "Average F1-Score: 0.723271758310912\n"
     ]
    }
   ],
   "source": [
    "ml.stratified_k_cross_validate(XGBClassifier(**rand_best_params),X_train,y_train,n_splits=10)"
   ]
  },
  {
   "cell_type": "code",
   "execution_count": 19,
   "id": "2c1453da",
   "metadata": {},
   "outputs": [
    {
     "name": "stdout",
     "output_type": "stream",
     "text": [
      "\n",
      "Average Accuracy: 0.9263460231672436\n",
      "\n",
      "Average Precision: 0.7756062357257669\n",
      "\n",
      "Average Recall: 0.6367105263157895\n",
      "\n",
      "Average F1-Score: 0.6987791612054757\n"
     ]
    }
   ],
   "source": [
    "ml.stratified_k_cross_validate(XGBClassifier(**best_trial),X_train,y_train,n_splits=10)"
   ]
  },
  {
   "cell_type": "markdown",
   "id": "e5d7b05d",
   "metadata": {},
   "source": [
    "### Save Model"
   ]
  },
  {
   "cell_type": "code",
   "execution_count": 23,
   "id": "ea9c37ae",
   "metadata": {},
   "outputs": [
    {
     "name": "stdout",
     "output_type": "stream",
     "text": [
      "Overwrite File? [y/n]: y\n",
      "Saved Model\n"
     ]
    }
   ],
   "source": [
    "# Saving the model\n",
    "\n",
    "final_xgb_estimator = XGBClassifier(device='cuda')\n",
    "final_xgb_estimator.fit(X_train.values, y_train)\n",
    "\n",
    "ml.save_model(final_xgb_estimator, \"../Models/Diabetes/XGBoost_Classifier.pkl\")"
   ]
  },
  {
   "cell_type": "markdown",
   "id": "de59f229",
   "metadata": {},
   "source": [
    "## Prediction"
   ]
  },
  {
   "cell_type": "code",
   "execution_count": 24,
   "id": "67af8316",
   "metadata": {},
   "outputs": [
    {
     "name": "stdout",
     "output_type": "stream",
     "text": [
      "Instance:\n",
      " [ 0.45453676  0.26023542  1.68064713  0.1809038   0.03595777 -0.41758194\n",
      " -0.61630718  0.01149575  0.83220339  0.26922518 -0.40605796  1.75872879\n",
      "  0.5825039  -0.31325017  1.26022198 -0.40938003 -0.07401896 -1.34250963\n",
      "  0.1457841   0.04292062 -0.25468048 -0.23540004 -0.18271512 -0.84510652\n",
      " -0.10090466  0.96651919  1.74428071  0.07034973 -0.53177297  0.40961473\n",
      "  0.02661802 -0.27790386 -1.44778414 -0.92992156  0.42396292  0.34307552\n",
      " -1.31877588 -0.0695717   1.602578   -0.25491555  0.50239896 -1.13745104\n",
      "  0.917206    0.64266756 -0.49444572 -1.06004946  0.5237883   0.43071653\n",
      " -0.07574803 -0.31464574 -0.95375019 -0.08997438  1.56788457  0.93278433\n",
      " -0.48030594 -0.01485563 -0.31009844  0.05273091 -1.09837545  1.39699032\n",
      " -0.37819214  0.73617398 -1.0433605   1.11388503 -0.04956491 -0.43319113\n",
      "  2.99047135  0.6588992   1.76562719  0.60458152  0.6752223   1.16097056\n",
      "  1.30936202 -0.5718267  -0.37768595]\n",
      "\n",
      "Expected Class:  0.0\n",
      "\n",
      " Modified Instance:\n",
      " [ 4.54536757e-01  2.46145302e-01  1.63018957e+00  3.96267525e-01\n",
      " -3.63450139e-02 -5.71033978e-01 -7.73599443e-01 -2.94489994e-01\n",
      "  6.28123259e-01  3.45108088e-01 -1.58572594e-01  2.00212845e+00\n",
      "  6.19779548e-01 -2.33703744e-01  1.23199365e+00 -5.61511179e-01\n",
      "  1.50253105e-02 -1.26005731e+00  3.32304873e-02 -1.82292887e-01\n",
      " -3.41264907e-01 -3.60034657e-01  2.07481318e-03 -8.58873985e-01\n",
      " -1.37084684e-01  8.80549354e-01  2.02610652e+00 -1.10596573e-01\n",
      " -8.88449301e-01  2.78257576e-01  2.66127002e-01 -2.28328742e-01\n",
      " -1.22310928e+00 -9.36563949e-01  5.70007578e-01  2.95588766e-01\n",
      " -1.45510630e+00 -1.92865280e-01  1.80038020e+00 -3.17427914e-02\n",
      "  5.19908495e-01 -1.28082913e+00  1.00541218e+00  6.22056107e-01\n",
      " -5.70861236e-01 -8.01977515e-01  5.03494638e-01  3.46993103e-01\n",
      " -2.11027557e-01 -2.65218561e-01 -8.52680705e-01 -2.05236281e-02\n",
      "  1.49617790e+00  8.86218206e-01 -4.84779877e-01 -2.73751207e-01\n",
      " -4.51215437e-01  1.13773739e-01 -1.11255208e+00  1.42406676e+00\n",
      " -4.35467387e-01  8.44627029e-01 -8.95300660e-01  9.24053042e-01\n",
      " -3.40885732e-01 -6.78915447e-01  2.74646295e+00  6.49252234e-01\n",
      "  1.60949294e+00  8.46279401e-01  6.89564856e-01  1.08648105e+00\n",
      "  1.28362233e+00 -5.13409471e-01 -6.19632250e-01]\n",
      "\n",
      "Predicted Class:  [0]\n"
     ]
    }
   ],
   "source": [
    "# Predicting on perturbed values\n",
    "\n",
    "ml.predict_on_modified_instance(final_xgb_estimator, X_test.iloc[0], y_test.iloc[0], 0.6)"
   ]
  },
  {
   "cell_type": "code",
   "execution_count": 25,
   "id": "a39b8dfe",
   "metadata": {
    "scrolled": false
   },
   "outputs": [
    {
     "name": "stdout",
     "output_type": "stream",
     "text": [
      "Instance:\n",
      " [ 1.62125434  1.51632644  1.72059969  1.17916166  1.75267508  0.21349578\n",
      " -0.07042027  0.37166902  3.66742601  1.82674152 -0.43920078  3.04908385\n",
      " -0.53551877 -0.31337311  0.28008272 -0.51037391  0.90756182 -1.34250963\n",
      "  0.32906391  0.91693503 -0.25468048  0.10593641  0.46434915 -0.48579269\n",
      " -1.48060016 -1.01900929  0.75053891 -0.26974774 -0.26413262  0.9210946\n",
      "  0.41713345  1.95903888  0.39539437  0.58962852  0.2354109  -0.31416356\n",
      " -0.65424637  1.87917653 -0.09208476 -0.30194794  0.87616507  0.21670302\n",
      " -0.42606869 -1.42425956  0.40139562  1.98938315 -0.40983944  0.40081023\n",
      "  0.10597857 -0.51866645 -1.34361542  0.92090302  3.10649088  0.26025101\n",
      "  0.8772802   3.61751987  1.26796914  0.05273091 -0.92035338  3.6294411\n",
      " -0.43355435 -0.09910515  0.4119524  -0.18308696  0.40816967 -0.02791887\n",
      "  0.91772262  2.03652809  1.76562719  0.24102482 -1.82034453  0.31964053\n",
      " -0.19395509  0.67550686 -0.38008452]\n",
      "\n",
      "Expected Class:  1.0\n",
      "\n",
      " Modified Instance:\n",
      " [ 1.62125434  1.26766094  1.79687836  1.14205888  1.98966013  0.2883926\n",
      "  0.21741269  0.09426768  3.89565981  2.03668626 -0.55614199  2.8507086\n",
      " -0.31576348 -0.21335648  0.21278198 -0.50740299  0.96007671 -1.45982125\n",
      "  0.32874352  1.25258893 -0.35836903  0.07263132  0.25347905 -0.42241459\n",
      " -1.58031763 -1.00853687  0.61838908 -0.37086665 -0.47080619  0.8839006\n",
      "  0.4784797   1.8339528   0.44237578  0.68294272  0.37625657 -0.40229454\n",
      " -0.553262    2.047937   -0.18798318 -0.26289983  1.08262238  0.36503564\n",
      " -0.39888312 -1.47487759  0.46939193  1.91911766 -0.366804    0.45698446\n",
      "  0.30274086 -0.4934372  -1.25609277  0.86682467  3.14682782  0.30469296\n",
      "  1.13094445  3.56852218  1.24121935 -0.138416   -0.74672909  3.64484852\n",
      " -0.47438015 -0.02632634  0.50536103  0.09660258  0.38273765  0.09697809\n",
      "  0.81366608  1.80506048  1.98580662  0.2388684  -1.98576516  0.44100964\n",
      " -0.01990599  0.75154973 -0.68027996]\n",
      "\n",
      "Predicted Class:  [1]\n"
     ]
    }
   ],
   "source": [
    "ml.predict_on_modified_instance(final_xgb_estimator, X_test.iloc[10], y_test.iloc[10], 1.5)"
   ]
  }
 ],
 "metadata": {
  "kernelspec": {
   "display_name": "Python 3 (ipykernel)",
   "language": "python",
   "name": "python3"
  },
  "language_info": {
   "codemirror_mode": {
    "name": "ipython",
    "version": 3
   },
   "file_extension": ".py",
   "mimetype": "text/x-python",
   "name": "python",
   "nbconvert_exporter": "python",
   "pygments_lexer": "ipython3",
   "version": "3.10.12"
  }
 },
 "nbformat": 4,
 "nbformat_minor": 5
}
