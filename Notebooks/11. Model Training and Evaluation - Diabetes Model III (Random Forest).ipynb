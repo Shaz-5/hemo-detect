{
 "cells": [
  {
   "cell_type": "markdown",
   "id": "d2acf9f1",
   "metadata": {},
   "source": [
    "# Random Forest Classifier"
   ]
  },
  {
   "cell_type": "code",
   "execution_count": 1,
   "id": "5c1b7eb2",
   "metadata": {},
   "outputs": [],
   "source": [
    "import some_load_train_evaluate_functions as ml\n",
    "\n",
    "from sklearn.ensemble import RandomForestClassifier"
   ]
  },
  {
   "cell_type": "code",
   "execution_count": 2,
   "id": "6b4433ef",
   "metadata": {},
   "outputs": [
    {
     "name": "stdout",
     "output_type": "stream",
     "text": [
      "Connected to database successfully.\n"
     ]
    }
   ],
   "source": [
    "path = '../KG/db.env'\n",
    "\n",
    "driver = ml.connect_to_neo4j(path)"
   ]
  },
  {
   "cell_type": "markdown",
   "id": "4016e569",
   "metadata": {},
   "source": [
    "### Load Data"
   ]
  },
  {
   "cell_type": "code",
   "execution_count": 3,
   "id": "76bbe0fe",
   "metadata": {},
   "outputs": [
    {
     "data": {
      "text/html": [
       "<div>\n",
       "<style scoped>\n",
       "    .dataframe tbody tr th:only-of-type {\n",
       "        vertical-align: middle;\n",
       "    }\n",
       "\n",
       "    .dataframe tbody tr th {\n",
       "        vertical-align: top;\n",
       "    }\n",
       "\n",
       "    .dataframe thead th {\n",
       "        text-align: right;\n",
       "    }\n",
       "</style>\n",
       "<table border=\"1\" class=\"dataframe\">\n",
       "  <thead>\n",
       "    <tr style=\"text-align: right;\">\n",
       "      <th></th>\n",
       "      <th>Respondent_ID</th>\n",
       "      <th>Gender</th>\n",
       "      <th>Age</th>\n",
       "      <th>BMI</th>\n",
       "      <th>25-hydroxyvitamin D2 + D3 [nmol/L]</th>\n",
       "      <th>A/G Ratio</th>\n",
       "      <th>Alpha-carotene [umol/L]</th>\n",
       "      <th>Alpha-crypotoxanthin [umol/L]</th>\n",
       "      <th>Alpha-tocopherol [umol/L]</th>\n",
       "      <th>Basophils [%]</th>\n",
       "      <th>...</th>\n",
       "      <th>Ferritin [ng/mL]</th>\n",
       "      <th>Gamma Glutamyl Transferase [IU/L]</th>\n",
       "      <th>Hemoglobin [g/dL]</th>\n",
       "      <th>Insulin [pmol/L]</th>\n",
       "      <th>LDL-Cholesterol(NIH2) [mmol/L]</th>\n",
       "      <th>Lactate Dehydrogenase [IU/L]</th>\n",
       "      <th>Transferrin Saturation [%]</th>\n",
       "      <th>Transferrin receptor [nmol/L]</th>\n",
       "      <th>Triglyceride [mmol/L]</th>\n",
       "      <th>Diabetes</th>\n",
       "    </tr>\n",
       "  </thead>\n",
       "  <tbody>\n",
       "    <tr>\n",
       "      <th>0</th>\n",
       "      <td>93703</td>\n",
       "      <td>0</td>\n",
       "      <td>2</td>\n",
       "      <td>17.5</td>\n",
       "      <td>NaN</td>\n",
       "      <td>NaN</td>\n",
       "      <td>NaN</td>\n",
       "      <td>NaN</td>\n",
       "      <td>NaN</td>\n",
       "      <td>NaN</td>\n",
       "      <td>...</td>\n",
       "      <td>NaN</td>\n",
       "      <td>NaN</td>\n",
       "      <td>NaN</td>\n",
       "      <td>NaN</td>\n",
       "      <td>NaN</td>\n",
       "      <td>NaN</td>\n",
       "      <td>NaN</td>\n",
       "      <td>NaN</td>\n",
       "      <td>NaN</td>\n",
       "      <td>0</td>\n",
       "    </tr>\n",
       "    <tr>\n",
       "      <th>1</th>\n",
       "      <td>93704</td>\n",
       "      <td>1</td>\n",
       "      <td>2</td>\n",
       "      <td>15.7</td>\n",
       "      <td>74.4</td>\n",
       "      <td>NaN</td>\n",
       "      <td>NaN</td>\n",
       "      <td>NaN</td>\n",
       "      <td>NaN</td>\n",
       "      <td>0.7</td>\n",
       "      <td>...</td>\n",
       "      <td>36.60</td>\n",
       "      <td>NaN</td>\n",
       "      <td>13.1</td>\n",
       "      <td>NaN</td>\n",
       "      <td>NaN</td>\n",
       "      <td>NaN</td>\n",
       "      <td>NaN</td>\n",
       "      <td>30.6</td>\n",
       "      <td>NaN</td>\n",
       "      <td>0</td>\n",
       "    </tr>\n",
       "    <tr>\n",
       "      <th>2</th>\n",
       "      <td>93705</td>\n",
       "      <td>0</td>\n",
       "      <td>66</td>\n",
       "      <td>31.7</td>\n",
       "      <td>89.9</td>\n",
       "      <td>1.517241</td>\n",
       "      <td>0.138</td>\n",
       "      <td>0.071</td>\n",
       "      <td>26.006</td>\n",
       "      <td>1.0</td>\n",
       "      <td>...</td>\n",
       "      <td>28.70</td>\n",
       "      <td>21.0</td>\n",
       "      <td>11.9</td>\n",
       "      <td>NaN</td>\n",
       "      <td>NaN</td>\n",
       "      <td>174.0</td>\n",
       "      <td>28.0</td>\n",
       "      <td>39.8</td>\n",
       "      <td>NaN</td>\n",
       "      <td>0</td>\n",
       "    </tr>\n",
       "    <tr>\n",
       "      <th>3</th>\n",
       "      <td>93706</td>\n",
       "      <td>1</td>\n",
       "      <td>18</td>\n",
       "      <td>21.5</td>\n",
       "      <td>53.8</td>\n",
       "      <td>1.629630</td>\n",
       "      <td>0.160</td>\n",
       "      <td>0.031</td>\n",
       "      <td>16.765</td>\n",
       "      <td>0.8</td>\n",
       "      <td>...</td>\n",
       "      <td>284.00</td>\n",
       "      <td>16.0</td>\n",
       "      <td>16.3</td>\n",
       "      <td>NaN</td>\n",
       "      <td>NaN</td>\n",
       "      <td>142.0</td>\n",
       "      <td>51.0</td>\n",
       "      <td>34.0</td>\n",
       "      <td>NaN</td>\n",
       "      <td>0</td>\n",
       "    </tr>\n",
       "    <tr>\n",
       "      <th>4</th>\n",
       "      <td>93707</td>\n",
       "      <td>1</td>\n",
       "      <td>13</td>\n",
       "      <td>18.1</td>\n",
       "      <td>58.2</td>\n",
       "      <td>1.857143</td>\n",
       "      <td>0.009</td>\n",
       "      <td>0.044</td>\n",
       "      <td>22.756</td>\n",
       "      <td>0.5</td>\n",
       "      <td>...</td>\n",
       "      <td>49.30</td>\n",
       "      <td>9.0</td>\n",
       "      <td>14.5</td>\n",
       "      <td>NaN</td>\n",
       "      <td>NaN</td>\n",
       "      <td>177.0</td>\n",
       "      <td>21.0</td>\n",
       "      <td>34.0</td>\n",
       "      <td>NaN</td>\n",
       "      <td>0</td>\n",
       "    </tr>\n",
       "    <tr>\n",
       "      <th>...</th>\n",
       "      <td>...</td>\n",
       "      <td>...</td>\n",
       "      <td>...</td>\n",
       "      <td>...</td>\n",
       "      <td>...</td>\n",
       "      <td>...</td>\n",
       "      <td>...</td>\n",
       "      <td>...</td>\n",
       "      <td>...</td>\n",
       "      <td>...</td>\n",
       "      <td>...</td>\n",
       "      <td>...</td>\n",
       "      <td>...</td>\n",
       "      <td>...</td>\n",
       "      <td>...</td>\n",
       "      <td>...</td>\n",
       "      <td>...</td>\n",
       "      <td>...</td>\n",
       "      <td>...</td>\n",
       "      <td>...</td>\n",
       "      <td>...</td>\n",
       "    </tr>\n",
       "    <tr>\n",
       "      <th>8888</th>\n",
       "      <td>102952</td>\n",
       "      <td>0</td>\n",
       "      <td>70</td>\n",
       "      <td>20.0</td>\n",
       "      <td>82.7</td>\n",
       "      <td>1.846154</td>\n",
       "      <td>0.235</td>\n",
       "      <td>0.077</td>\n",
       "      <td>31.347</td>\n",
       "      <td>0.6</td>\n",
       "      <td>...</td>\n",
       "      <td>135.00</td>\n",
       "      <td>18.0</td>\n",
       "      <td>13.4</td>\n",
       "      <td>26.34</td>\n",
       "      <td>1.112</td>\n",
       "      <td>168.0</td>\n",
       "      <td>39.0</td>\n",
       "      <td>29.1</td>\n",
       "      <td>0.881</td>\n",
       "      <td>1</td>\n",
       "    </tr>\n",
       "    <tr>\n",
       "      <th>8889</th>\n",
       "      <td>102953</td>\n",
       "      <td>1</td>\n",
       "      <td>42</td>\n",
       "      <td>35.8</td>\n",
       "      <td>49.5</td>\n",
       "      <td>1.142857</td>\n",
       "      <td>0.106</td>\n",
       "      <td>0.080</td>\n",
       "      <td>21.873</td>\n",
       "      <td>0.6</td>\n",
       "      <td>...</td>\n",
       "      <td>120.00</td>\n",
       "      <td>28.0</td>\n",
       "      <td>15.5</td>\n",
       "      <td>NaN</td>\n",
       "      <td>NaN</td>\n",
       "      <td>136.0</td>\n",
       "      <td>20.0</td>\n",
       "      <td>28.6</td>\n",
       "      <td>NaN</td>\n",
       "      <td>0</td>\n",
       "    </tr>\n",
       "    <tr>\n",
       "      <th>8890</th>\n",
       "      <td>102954</td>\n",
       "      <td>0</td>\n",
       "      <td>41</td>\n",
       "      <td>26.1</td>\n",
       "      <td>50.5</td>\n",
       "      <td>1.500000</td>\n",
       "      <td>0.117</td>\n",
       "      <td>0.056</td>\n",
       "      <td>26.935</td>\n",
       "      <td>1.4</td>\n",
       "      <td>...</td>\n",
       "      <td>1.99</td>\n",
       "      <td>8.0</td>\n",
       "      <td>6.4</td>\n",
       "      <td>56.94</td>\n",
       "      <td>2.793</td>\n",
       "      <td>123.0</td>\n",
       "      <td>5.0</td>\n",
       "      <td>248.0</td>\n",
       "      <td>0.553</td>\n",
       "      <td>0</td>\n",
       "    </tr>\n",
       "    <tr>\n",
       "      <th>8891</th>\n",
       "      <td>102955</td>\n",
       "      <td>0</td>\n",
       "      <td>14</td>\n",
       "      <td>45.6</td>\n",
       "      <td>61.9</td>\n",
       "      <td>1.205882</td>\n",
       "      <td>0.031</td>\n",
       "      <td>0.079</td>\n",
       "      <td>17.856</td>\n",
       "      <td>0.9</td>\n",
       "      <td>...</td>\n",
       "      <td>11.40</td>\n",
       "      <td>16.0</td>\n",
       "      <td>11.4</td>\n",
       "      <td>NaN</td>\n",
       "      <td>NaN</td>\n",
       "      <td>158.0</td>\n",
       "      <td>5.0</td>\n",
       "      <td>57.7</td>\n",
       "      <td>NaN</td>\n",
       "      <td>0</td>\n",
       "    </tr>\n",
       "    <tr>\n",
       "      <th>8892</th>\n",
       "      <td>102956</td>\n",
       "      <td>1</td>\n",
       "      <td>38</td>\n",
       "      <td>36.1</td>\n",
       "      <td>58.9</td>\n",
       "      <td>1.482759</td>\n",
       "      <td>0.026</td>\n",
       "      <td>0.038</td>\n",
       "      <td>21.177</td>\n",
       "      <td>1.0</td>\n",
       "      <td>...</td>\n",
       "      <td>553.00</td>\n",
       "      <td>72.0</td>\n",
       "      <td>17.4</td>\n",
       "      <td>634.38</td>\n",
       "      <td>2.172</td>\n",
       "      <td>134.0</td>\n",
       "      <td>35.0</td>\n",
       "      <td>23.4</td>\n",
       "      <td>3.037</td>\n",
       "      <td>0</td>\n",
       "    </tr>\n",
       "  </tbody>\n",
       "</table>\n",
       "<p>8893 rows × 91 columns</p>\n",
       "</div>"
      ],
      "text/plain": [
       "      Respondent_ID  Gender  Age   BMI  25-hydroxyvitamin D2 + D3 [nmol/L]  \\\n",
       "0             93703       0    2  17.5                                 NaN   \n",
       "1             93704       1    2  15.7                                74.4   \n",
       "2             93705       0   66  31.7                                89.9   \n",
       "3             93706       1   18  21.5                                53.8   \n",
       "4             93707       1   13  18.1                                58.2   \n",
       "...             ...     ...  ...   ...                                 ...   \n",
       "8888         102952       0   70  20.0                                82.7   \n",
       "8889         102953       1   42  35.8                                49.5   \n",
       "8890         102954       0   41  26.1                                50.5   \n",
       "8891         102955       0   14  45.6                                61.9   \n",
       "8892         102956       1   38  36.1                                58.9   \n",
       "\n",
       "      A/G Ratio  Alpha-carotene [umol/L]  Alpha-crypotoxanthin [umol/L]  \\\n",
       "0           NaN                      NaN                            NaN   \n",
       "1           NaN                      NaN                            NaN   \n",
       "2      1.517241                    0.138                          0.071   \n",
       "3      1.629630                    0.160                          0.031   \n",
       "4      1.857143                    0.009                          0.044   \n",
       "...         ...                      ...                            ...   \n",
       "8888   1.846154                    0.235                          0.077   \n",
       "8889   1.142857                    0.106                          0.080   \n",
       "8890   1.500000                    0.117                          0.056   \n",
       "8891   1.205882                    0.031                          0.079   \n",
       "8892   1.482759                    0.026                          0.038   \n",
       "\n",
       "      Alpha-tocopherol [umol/L]  Basophils [%]  ...  Ferritin [ng/mL]  \\\n",
       "0                           NaN            NaN  ...               NaN   \n",
       "1                           NaN            0.7  ...             36.60   \n",
       "2                        26.006            1.0  ...             28.70   \n",
       "3                        16.765            0.8  ...            284.00   \n",
       "4                        22.756            0.5  ...             49.30   \n",
       "...                         ...            ...  ...               ...   \n",
       "8888                     31.347            0.6  ...            135.00   \n",
       "8889                     21.873            0.6  ...            120.00   \n",
       "8890                     26.935            1.4  ...              1.99   \n",
       "8891                     17.856            0.9  ...             11.40   \n",
       "8892                     21.177            1.0  ...            553.00   \n",
       "\n",
       "      Gamma Glutamyl Transferase [IU/L]  Hemoglobin [g/dL]  Insulin [pmol/L]  \\\n",
       "0                                   NaN                NaN               NaN   \n",
       "1                                   NaN               13.1               NaN   \n",
       "2                                  21.0               11.9               NaN   \n",
       "3                                  16.0               16.3               NaN   \n",
       "4                                   9.0               14.5               NaN   \n",
       "...                                 ...                ...               ...   \n",
       "8888                               18.0               13.4             26.34   \n",
       "8889                               28.0               15.5               NaN   \n",
       "8890                                8.0                6.4             56.94   \n",
       "8891                               16.0               11.4               NaN   \n",
       "8892                               72.0               17.4            634.38   \n",
       "\n",
       "      LDL-Cholesterol(NIH2) [mmol/L]  Lactate Dehydrogenase [IU/L]  \\\n",
       "0                                NaN                           NaN   \n",
       "1                                NaN                           NaN   \n",
       "2                                NaN                         174.0   \n",
       "3                                NaN                         142.0   \n",
       "4                                NaN                         177.0   \n",
       "...                              ...                           ...   \n",
       "8888                           1.112                         168.0   \n",
       "8889                             NaN                         136.0   \n",
       "8890                           2.793                         123.0   \n",
       "8891                             NaN                         158.0   \n",
       "8892                           2.172                         134.0   \n",
       "\n",
       "      Transferrin Saturation [%]  Transferrin receptor [nmol/L]  \\\n",
       "0                            NaN                            NaN   \n",
       "1                            NaN                           30.6   \n",
       "2                           28.0                           39.8   \n",
       "3                           51.0                           34.0   \n",
       "4                           21.0                           34.0   \n",
       "...                          ...                            ...   \n",
       "8888                        39.0                           29.1   \n",
       "8889                        20.0                           28.6   \n",
       "8890                         5.0                          248.0   \n",
       "8891                         5.0                           57.7   \n",
       "8892                        35.0                           23.4   \n",
       "\n",
       "      Triglyceride [mmol/L]  Diabetes  \n",
       "0                       NaN         0  \n",
       "1                       NaN         0  \n",
       "2                       NaN         0  \n",
       "3                       NaN         0  \n",
       "4                       NaN         0  \n",
       "...                     ...       ...  \n",
       "8888                  0.881         1  \n",
       "8889                    NaN         0  \n",
       "8890                  0.553         0  \n",
       "8891                    NaN         0  \n",
       "8892                  3.037         0  \n",
       "\n",
       "[8893 rows x 91 columns]"
      ]
     },
     "execution_count": 3,
     "metadata": {},
     "output_type": "execute_result"
    }
   ],
   "source": [
    "# Diabetes data\n",
    "\n",
    "diabetes_df = ml.get_data_of_disease(driver, 'Diabetes')\n",
    "diabetes_df"
   ]
  },
  {
   "cell_type": "code",
   "execution_count": 4,
   "id": "995292f6",
   "metadata": {},
   "outputs": [],
   "source": [
    "random_forest = RandomForestClassifier(random_state=42, n_jobs=-1)"
   ]
  },
  {
   "cell_type": "markdown",
   "id": "cd4a3a33",
   "metadata": {},
   "source": [
    "## Preprocessing"
   ]
  },
  {
   "cell_type": "markdown",
   "id": "de22f10f",
   "metadata": {},
   "source": [
    "### Median Imputation"
   ]
  },
  {
   "cell_type": "code",
   "execution_count": 63,
   "id": "4754b1f5",
   "metadata": {},
   "outputs": [],
   "source": [
    "# Imputing with median values\n",
    "\n",
    "X, y, X_train, X_val, X_test, y_train, y_val, y_test = ml.preprocess_and_split(df = diabetes_df, label = 'Diabetes',\n",
    "                                                              impute = True, scale=True,\n",
    "                                                              imputer=ml.SimpleImputer(strategy='median'),\n",
    "                                                              random_state=42)"
   ]
  },
  {
   "cell_type": "code",
   "execution_count": 64,
   "id": "15dc5079",
   "metadata": {},
   "outputs": [
    {
     "name": "stdout",
     "output_type": "stream",
     "text": [
      "\n",
      "Train Accuracy: 0.996\n",
      "\n",
      "Test Accuracy: 0.996\n",
      "\n",
      "Precision: 0.996\n",
      "\n",
      "Recall: 0.975\n",
      "\n",
      "F1-Score: 0.985\n",
      "\n",
      "Confusion Matrix:\n",
      "\n",
      "[[3071    2]\n",
      " [  12  472]]\n",
      "\n",
      "\n",
      "Classification Report:\n",
      "\n",
      "              precision    recall  f1-score   support\n",
      "\n",
      "     Class 0       1.00      1.00      1.00      3073\n",
      "     Class 1       1.00      0.98      0.99       484\n",
      "\n",
      "    accuracy                           1.00      3557\n",
      "   macro avg       1.00      0.99      0.99      3557\n",
      "weighted avg       1.00      1.00      1.00      3557\n",
      "\n",
      "\n",
      "ROC-AUC Curve:\n"
     ]
    },
    {
     "data": {
      "image/png": "[encoded data removed]",
      "text/plain": [
       "<Figure size 432x288 with 1 Axes>"
      ]
     },
     "metadata": {
      "needs_background": "light"
     },
     "output_type": "display_data"
    }
   ],
   "source": [
    "random_forest.fit(X_train, y_train)\n",
    "\n",
    "ml.evaluate_model_metrics(random_forest,X_train,y_train,X_val,y_val)"
   ]
  },
  {
   "cell_type": "markdown",
   "id": "e7b5c88c",
   "metadata": {},
   "source": [
    "## Cross Validation"
   ]
  },
  {
   "cell_type": "markdown",
   "id": "7e539fb9",
   "metadata": {},
   "source": [
    "### K-fold"
   ]
  },
  {
   "cell_type": "code",
   "execution_count": 66,
   "id": "e77a24f0",
   "metadata": {},
   "outputs": [
    {
     "name": "stdout",
     "output_type": "stream",
     "text": [
      "\n",
      "accuracy scores: [0.93932584 0.93820225 0.94494382 0.93250844 0.92575928 0.93813273\n",
      " 0.94825647 0.94825647 0.928009   0.94150731]\n",
      "\n",
      "Mean accuracy score:  0.9384901606400323\n",
      "\n",
      "Standard deviation:  0.007417105548804119\n"
     ]
    }
   ],
   "source": [
    "ml.k_cross_validate(random_forest,X,y,cv=10,scoring='accuracy')"
   ]
  },
  {
   "cell_type": "markdown",
   "id": "ad831ffc",
   "metadata": {},
   "source": [
    "### Stratified K-fold"
   ]
  },
  {
   "cell_type": "code",
   "execution_count": 67,
   "id": "29a48b89",
   "metadata": {},
   "outputs": [
    {
     "name": "stdout",
     "output_type": "stream",
     "text": [
      "\n",
      "Average Accuracy: 0.9371429835315528\n",
      "\n",
      "Average Precision: 0.8612109769655223\n",
      "\n",
      "Average Recall: 0.6225191945530929\n",
      "\n",
      "Average F1-Score: 0.7218173395066076\n"
     ]
    }
   ],
   "source": [
    "ml.stratified_k_cross_validate(random_forest,X,y,n_splits=10)"
   ]
  },
  {
   "cell_type": "markdown",
   "id": "ee6053e3",
   "metadata": {},
   "source": [
    "## Feature Selection"
   ]
  },
  {
   "cell_type": "markdown",
   "id": "8ac30c7f",
   "metadata": {},
   "source": [
    "### Correlation Analysis"
   ]
  },
  {
   "cell_type": "code",
   "execution_count": 68,
   "id": "06c22f18",
   "metadata": {},
   "outputs": [],
   "source": [
    "random_forest_test = RandomForestClassifier(random_state=42, n_jobs=-1)"
   ]
  },
  {
   "cell_type": "code",
   "execution_count": 69,
   "id": "82da007e",
   "metadata": {},
   "outputs": [],
   "source": [
    "pos_corr, neg_corr = ml.get_correlated_features(diabetes_df,'Diabetes',pos=0.1,neg=-0.1)\n",
    "\n",
    "corr_features = ['Gender'] + list(pos_corr.keys()[1:10]) + list(neg_corr.keys()[:10]) "
   ]
  },
  {
   "cell_type": "code",
   "execution_count": 70,
   "id": "7f20310c",
   "metadata": {},
   "outputs": [
    {
     "name": "stdout",
     "output_type": "stream",
     "text": [
      "\n",
      "accuracy scores: [0.94044944 0.93033708 0.94157303 0.9336333  0.92125984 0.93813273\n",
      " 0.94825647 0.94938133 0.93475816 0.93475816]\n",
      "\n",
      "Mean accuracy score:  0.9372539528064611\n",
      "\n",
      "Standard deviation:  0.007918259115645119\n"
     ]
    }
   ],
   "source": [
    "ml.k_cross_validate(random_forest_test,X[corr_features],y,cv=10,scoring='accuracy')"
   ]
  },
  {
   "cell_type": "markdown",
   "id": "1757f9bf",
   "metadata": {},
   "source": [
    "### SelectFromModel"
   ]
  },
  {
   "cell_type": "code",
   "execution_count": 71,
   "id": "3e77a6ad",
   "metadata": {},
   "outputs": [
    {
     "data": {
      "text/plain": [
       "['Age',\n",
       " 'BMI',\n",
       " 'Blood Urea Nitrogen [mg/dL]',\n",
       " 'Fasting Glucose [mmol/L]',\n",
       " 'Glycohemoglobin [%]',\n",
       " 'Osmolality [mmol/Kg]',\n",
       " 'Retinol [umol/L]']"
      ]
     },
     "execution_count": 71,
     "metadata": {},
     "output_type": "execute_result"
    }
   ],
   "source": [
    "sfm_features = ml.select_from_model_features(RandomForestClassifier(),X,y)\n",
    "sfm_features"
   ]
  },
  {
   "cell_type": "code",
   "execution_count": 72,
   "id": "888e82bb",
   "metadata": {},
   "outputs": [
    {
     "name": "stdout",
     "output_type": "stream",
     "text": [
      "\n",
      "accuracy scores: [0.93595506 0.9247191  0.94382022 0.93588301 0.92350956 0.93138358\n",
      " 0.94713161 0.94600675 0.92913386 0.93138358]\n",
      "\n",
      "Mean accuracy score:  0.934892632802922\n",
      "\n",
      "Standard deviation:  0.00803736958746165\n"
     ]
    }
   ],
   "source": [
    "sfm_features = list(sfm_features)\n",
    "\n",
    "ml.k_cross_validate(random_forest_test,X[sfm_features],y,cv=10,scoring='accuracy')"
   ]
  },
  {
   "cell_type": "markdown",
   "id": "6cd974d6",
   "metadata": {},
   "source": [
    "### SelectKBest"
   ]
  },
  {
   "cell_type": "code",
   "execution_count": 73,
   "id": "057fa1a0",
   "metadata": {},
   "outputs": [
    {
     "data": {
      "text/plain": [
       "array(['Glycohemoglobin [%]', 'Fasting Glucose [mmol/L]', 'Age', 'BMI',\n",
       "       'Blood Urea Nitrogen [mg/dL]', 'Retinol [umol/L]',\n",
       "       'Osmolality [mmol/Kg]', 'Insulin [pmol/L]',\n",
       "       'Alpha-tocopherol [umol/L]', 'Lymphocyte [%]',\n",
       "       'Neutrophil_Lymphocyte Ratio', 'Ferritin [ng/mL]',\n",
       "       'Segmented neutrophils [%]', 'Albumin [g/dL]',\n",
       "       'C-Reactive Protein [mg/L]', 'Creatinine [mg/dL]',\n",
       "       'Triglyceride [mmol/L]', 'Lymphocyte_C-Reactive Protein Ratio',\n",
       "       'Triglyceride_HDL Ratio', 'Red cell distribution width [%]',\n",
       "       'Platelet_WBC Ratio', 'Alpha-crypotoxanthin [umol/L]',\n",
       "       'Direct HDL-Cholesterol [mmol/L]', 'Chloride [mmol/L]',\n",
       "       'Total Cholestrol_HDL Ratio', 'Gamma Glutamyl Transferase [IU/L]',\n",
       "       'Gamma-tocopherol [umol/L]', 'A/G Ratio',\n",
       "       'Platelet count [1000 cells/uL]',\n",
       "       '25-hydroxyvitamin D2 + D3 [nmol/L]'], dtype=object)"
      ]
     },
     "execution_count": 73,
     "metadata": {},
     "output_type": "execute_result"
    }
   ],
   "source": [
    "k_best_features = ml.select_k_best(X, y, n=30)\n",
    "k_best_features[:30]"
   ]
  },
  {
   "cell_type": "code",
   "execution_count": 74,
   "id": "ff8fbaec",
   "metadata": {},
   "outputs": [
    {
     "name": "stdout",
     "output_type": "stream",
     "text": [
      "\n",
      "accuracy scores: [0.93820225 0.93370787 0.93932584 0.93475816 0.92350956 0.93925759\n",
      " 0.94713161 0.94600675 0.93250844 0.93925759]\n",
      "\n",
      "Mean accuracy score:  0.9373665651344142\n",
      "\n",
      "Standard deviation:  0.006461468984022926\n"
     ]
    }
   ],
   "source": [
    "ml.k_cross_validate(random_forest_test,X[k_best_features],y,cv=10,scoring='accuracy')"
   ]
  },
  {
   "cell_type": "markdown",
   "id": "638b7c26",
   "metadata": {},
   "source": [
    "### Recursive Feature Elimination (RFE) "
   ]
  },
  {
   "cell_type": "code",
   "execution_count": 75,
   "id": "c92a2e94",
   "metadata": {},
   "outputs": [
    {
     "data": {
      "text/plain": [
       "array(['C-Reactive Protein [mg/L]', 'Retinol [umol/L]',\n",
       "       'Osmolality [mmol/Kg]', 'Lymphocyte_C-Reactive Protein Ratio',\n",
       "       'Glycohemoglobin [%]', 'Fasting Glucose [mmol/L]',\n",
       "       'Creatinine [mg/dL]', 'Direct HDL-Cholesterol [mmol/L]',\n",
       "       'Cobalt [nmol/L]', 'Gamma Glutamyl Transferase [IU/L]',\n",
       "       'Total Cholesterol [mmol/L]', 'Alpha-crypotoxanthin [umol/L]',\n",
       "       'Blood Urea Nitrogen [mg/dL]', 'Age',\n",
       "       'Beta-cryptoxanthin [umol/L]', 'BMI',\n",
       "       '25-hydroxyvitamin D2 + D3 [nmol/L]', 'Vitamin C [umol/L]',\n",
       "       'Monocyte [%]', 'Non_HDL Ratio', 'Transferrin receptor [nmol/L]',\n",
       "       'Platelet count [1000 cells/uL]', 'Blood cadmium [nmol/L]',\n",
       "       'Platelet_WBC Ratio', 'Triglyceride_HDL Ratio',\n",
       "       'RBC count [million cells/uL]', 'Trans-lycopene [umol/L]',\n",
       "       'Trans-beta-carotene [umol/L]', 'Total Lycopene [umol/L]',\n",
       "       'Platelet_Lymphocyte Ratio'], dtype=object)"
      ]
     },
     "execution_count": 75,
     "metadata": {},
     "output_type": "execute_result"
    }
   ],
   "source": [
    "rfe_features = ml.select_rfe_features(RandomForestClassifier(),X,y,n=0.2,step=0.5)\n",
    "rfe_features[:30]"
   ]
  },
  {
   "cell_type": "code",
   "execution_count": 76,
   "id": "265b353d",
   "metadata": {},
   "outputs": [
    {
     "name": "stdout",
     "output_type": "stream",
     "text": [
      "\n",
      "accuracy scores: [0.93932584 0.93146067 0.94157303 0.928009   0.92575928 0.93925759\n",
      " 0.95050619 0.94600675 0.93025872 0.94263217]\n",
      "\n",
      "Mean accuracy score:  0.9374789246849764\n",
      "\n",
      "Standard deviation:  0.007795550539569157\n"
     ]
    }
   ],
   "source": [
    "ml.k_cross_validate(random_forest_test,X[rfe_features],y,cv=10,scoring='accuracy')"
   ]
  },
  {
   "cell_type": "markdown",
   "id": "549b9eda",
   "metadata": {},
   "source": [
    "### Lasso Regularization"
   ]
  },
  {
   "cell_type": "code",
   "execution_count": 77,
   "id": "2e8c47eb",
   "metadata": {},
   "outputs": [
    {
     "data": {
      "text/plain": [
       "['Glycohemoglobin [%]',\n",
       " 'Fasting Glucose [mmol/L]',\n",
       " 'Age',\n",
       " 'Gender',\n",
       " 'BMI',\n",
       " 'Osmolality [mmol/Kg]',\n",
       " 'Alkaline Phosphatase [IU/L]',\n",
       " 'Non_HDL Ratio',\n",
       " 'Total Cholesterol [mmol/L]',\n",
       " 'Retinol [umol/L]',\n",
       " 'Mean Cell Hgb Conc. [g/dL]',\n",
       " 'Blood lead [umol/L]',\n",
       " 'Gamma Glutamyl Transferase [IU/L]',\n",
       " 'Vitamin C [umol/L]',\n",
       " 'Transferrin Saturation [%]',\n",
       " 'Insulin [pmol/L]',\n",
       " 'Transferrin receptor [nmol/L]',\n",
       " 'LDL-Cholesterol(NIH2) [mmol/L]',\n",
       " 'Direct HDL-Cholesterol [mmol/L]',\n",
       " 'Sodium [mmol/L]',\n",
       " 'Aspartate Aminotransferase [U/L]',\n",
       " 'Creatinine [mg/dL]',\n",
       " 'Creatine Phosphokinase [IU/L]',\n",
       " 'Uric Acid [mg/dL]',\n",
       " 'Chloride [mmol/L]',\n",
       " 'Albumin [g/dL]',\n",
       " 'Lactate Dehydrogenase [IU/L]',\n",
       " 'Bicarbonate [mmol/L]',\n",
       " 'Blood selenium [umol/L]',\n",
       " 'Alpha-carotene [umol/L]']"
      ]
     },
     "execution_count": 77,
     "metadata": {},
     "output_type": "execute_result"
    }
   ],
   "source": [
    "l1_selected_features = ml.log_reg_lasso_select(X_train, y_train)\n",
    "l1_selected_features[:30]"
   ]
  },
  {
   "cell_type": "code",
   "execution_count": 78,
   "id": "ff79a3fe",
   "metadata": {},
   "outputs": [
    {
     "name": "stdout",
     "output_type": "stream",
     "text": [
      "\n",
      "accuracy scores: [0.93820225 0.92921348 0.94044944 0.9336333  0.92125984 0.94150731\n",
      " 0.94825647 0.94713161 0.93250844 0.94150731]\n",
      "\n",
      "Mean accuracy score:  0.9373669443005017\n",
      "\n",
      "Standard deviation:  0.007885924556434573\n"
     ]
    }
   ],
   "source": [
    "ml.k_cross_validate(random_forest_test,X[l1_selected_features],y,cv=10,scoring='accuracy')"
   ]
  },
  {
   "cell_type": "markdown",
   "id": "ab507657",
   "metadata": {},
   "source": [
    "### Relief F"
   ]
  },
  {
   "cell_type": "code",
   "execution_count": 79,
   "id": "d28e937f",
   "metadata": {},
   "outputs": [],
   "source": [
    "relieff_features = ml.relief_feature_select(30,X,y)"
   ]
  },
  {
   "cell_type": "code",
   "execution_count": 80,
   "id": "f6c7bcc2",
   "metadata": {},
   "outputs": [
    {
     "data": {
      "text/plain": [
       "['Age',\n",
       " 'Glycohemoglobin [%]',\n",
       " 'BMI',\n",
       " 'Segmented neutrophils [%]',\n",
       " 'Fasting Glucose [mmol/L]',\n",
       " 'Lymphocyte [%]',\n",
       " 'Hematocrit [%]',\n",
       " 'Hemoglobin [g/dL]',\n",
       " 'Retinol [umol/L]',\n",
       " 'Potassium [mmol/L]',\n",
       " 'Mean cell volume [fL]',\n",
       " 'Total Cholesterol [mmol/L]',\n",
       " 'Osmolality [mmol/Kg]',\n",
       " 'Blood Urea Nitrogen [mg/dL]',\n",
       " 'Phosphorus [mg/dL]',\n",
       " 'Albumin [g/dL]',\n",
       " 'Chloride [mmol/L]',\n",
       " 'Non_HDL Ratio',\n",
       " 'Total Protein [g/dL]',\n",
       " 'Neutrophil_Lymphocyte Ratio',\n",
       " 'Mean platelet volume [fL]',\n",
       " 'Mean cell hemoglobin [pg]',\n",
       " 'Total Iron Binding Capacity [umol/L]',\n",
       " 'Platelet count [1000 cells/uL]',\n",
       " 'Alpha-tocopherol [umol/L]',\n",
       " 'Uric Acid [mg/dL]',\n",
       " 'RBC count [million cells/uL]',\n",
       " 'Lactate Dehydrogenase [IU/L]',\n",
       " 'Gamma-tocopherol [umol/L]',\n",
       " 'Total Cholestrol_HDL Ratio']"
      ]
     },
     "execution_count": 80,
     "metadata": {},
     "output_type": "execute_result"
    }
   ],
   "source": [
    "relieff_features_ = relieff_features[:30]\n",
    "relieff_features_"
   ]
  },
  {
   "cell_type": "code",
   "execution_count": 81,
   "id": "8928ee98",
   "metadata": {},
   "outputs": [
    {
     "name": "stdout",
     "output_type": "stream",
     "text": [
      "\n",
      "accuracy scores: [0.94157303 0.93146067 0.94269663 0.93588301 0.9223847  0.94150731\n",
      " 0.94600675 0.94488189 0.93025872 0.93813273]\n",
      "\n",
      "Mean accuracy score:  0.9374785455188889\n",
      "\n",
      "Standard deviation:  0.007119708110417177\n"
     ]
    }
   ],
   "source": [
    "ml.k_cross_validate(random_forest_test,X[relieff_features],y,cv=10,scoring='accuracy')"
   ]
  },
  {
   "cell_type": "markdown",
   "id": "6f1062f9",
   "metadata": {},
   "source": [
    "### Random Forest Feature Importances"
   ]
  },
  {
   "cell_type": "code",
   "execution_count": 82,
   "id": "3ff13239",
   "metadata": {},
   "outputs": [],
   "source": [
    "def get_rand_forest_features(model, X_train):\n",
    "    random_forest_features = ml.pd.DataFrame(model.feature_importances_, index=X_train.columns,\n",
    "                                             columns=['Importance'])\n",
    "    random_forest_features = random_forest_features.sort_values('Importance', ascending=False)\n",
    "    random_forest_features = list(random_forest_features.index)\n",
    "    \n",
    "    return random_forest_features"
   ]
  },
  {
   "cell_type": "code",
   "execution_count": 83,
   "id": "1b949675",
   "metadata": {},
   "outputs": [
    {
     "data": {
      "text/plain": [
       "['Glycohemoglobin [%]',\n",
       " 'Fasting Glucose [mmol/L]',\n",
       " 'Age',\n",
       " 'BMI',\n",
       " 'Blood Urea Nitrogen [mg/dL]',\n",
       " 'Osmolality [mmol/Kg]',\n",
       " 'Cobalt [nmol/L]',\n",
       " 'Triglyceride_HDL Ratio',\n",
       " 'Total Cholesterol [mmol/L]',\n",
       " 'Retinol [umol/L]',\n",
       " 'Alpha-crypotoxanthin [umol/L]',\n",
       " 'Creatinine [mg/dL]',\n",
       " 'Gamma Glutamyl Transferase [IU/L]',\n",
       " 'Chloride [mmol/L]',\n",
       " 'Triglyceride [mmol/L]',\n",
       " 'Insulin [pmol/L]',\n",
       " 'Beta-cryptoxanthin [umol/L]',\n",
       " 'Non_HDL Ratio',\n",
       " 'C-Reactive Protein [mg/L]',\n",
       " 'Transferrin receptor [nmol/L]',\n",
       " 'Direct HDL-Cholesterol [mmol/L]',\n",
       " 'Lymphocyte_C-Reactive Protein Ratio',\n",
       " 'Alpha-tocopherol [umol/L]',\n",
       " '25-hydroxyvitamin D2 + D3 [nmol/L]',\n",
       " 'Ferritin [ng/mL]',\n",
       " 'Trans-beta-carotene [umol/L]',\n",
       " 'Platelet count [1000 cells/uL]',\n",
       " 'Gamma-tocopherol [umol/L]',\n",
       " 'Platelet_WBC Ratio',\n",
       " 'A/G Ratio']"
      ]
     },
     "execution_count": 83,
     "metadata": {},
     "output_type": "execute_result"
    }
   ],
   "source": [
    "random_forest_features = get_rand_forest_features(random_forest, X_train)\n",
    "random_forest_features[:30]"
   ]
  },
  {
   "cell_type": "code",
   "execution_count": 84,
   "id": "fc06959a",
   "metadata": {},
   "outputs": [
    {
     "name": "stdout",
     "output_type": "stream",
     "text": [
      "\n",
      "accuracy scores: [0.93932584 0.93033708 0.94382022 0.93138358 0.92125984 0.94038245\n",
      " 0.94825647 0.94825647 0.9336333  0.94038245]\n",
      "\n",
      "Mean accuracy score:  0.9377037701747956\n",
      "\n",
      "Standard deviation:  0.00811354530172936\n"
     ]
    }
   ],
   "source": [
    "ml.k_cross_validate(random_forest_test,X[random_forest_features],y,cv=10,scoring='accuracy')"
   ]
  },
  {
   "cell_type": "markdown",
   "id": "83ca6e1e",
   "metadata": {},
   "source": [
    "### Ensemble of Feature Sets"
   ]
  },
  {
   "cell_type": "code",
   "execution_count": 85,
   "id": "9f3c8960",
   "metadata": {},
   "outputs": [
    {
     "data": {
      "text/plain": [
       "['Gender',\n",
       " 'Glycohemoglobin [%]',\n",
       " 'Fasting Glucose [mmol/L]',\n",
       " 'Age',\n",
       " 'BMI',\n",
       " 'Blood Urea Nitrogen [mg/dL]',\n",
       " 'Insulin [pmol/L]',\n",
       " 'Osmolality [mmol/Kg]',\n",
       " 'Retinol [umol/L]',\n",
       " 'Triglyceride [mmol/L]',\n",
       " 'Total Lycopene [umol/L]',\n",
       " 'Trans-lycopene [umol/L]',\n",
       " 'Platelet count [1000 cells/uL]',\n",
       " 'A/G Ratio',\n",
       " 'Chloride [mmol/L]',\n",
       " 'Platelet_WBC Ratio',\n",
       " 'Direct HDL-Cholesterol [mmol/L]',\n",
       " 'Albumin [g/dL]',\n",
       " 'Alpha-crypotoxanthin [umol/L]',\n",
       " 'Lymphocyte_C-Reactive Protein Ratio']"
      ]
     },
     "execution_count": 85,
     "metadata": {},
     "output_type": "execute_result"
    }
   ],
   "source": [
    "# We can also create a feature set from the above sets by selecting commonly occuring features\n",
    "\n",
    "list1 = list(corr_features)\n",
    "list2 = list(k_best_features)\n",
    "list3 = list(sfm_features)\n",
    "list4 = list(rfe_features)\n",
    "list5 = list(l1_selected_features)\n",
    "list6 = list(relieff_features)\n",
    "list7 = list(random_forest_features)\n",
    "\n",
    "combined_list = list1 + list2 + list3 + list4 + list5 + list6 + list7\n",
    "feature_counts = ml.Counter(combined_list)\n",
    "min_count = 6\n",
    "\n",
    "combined_features = [feature for feature, count in feature_counts.items() if count >= min_count]\n",
    "# combined_features = [x for x in relieff_features if x in combined_features]     # order based on releif features\n",
    "combined_features"
   ]
  },
  {
   "cell_type": "code",
   "execution_count": 86,
   "id": "9bd177fc",
   "metadata": {},
   "outputs": [
    {
     "name": "stdout",
     "output_type": "stream",
     "text": [
      "\n",
      "accuracy scores: [0.94044944 0.93033708 0.94157303 0.9336333  0.92125984 0.93813273\n",
      " 0.94825647 0.94938133 0.93475816 0.93475816]\n",
      "\n",
      "Mean accuracy score:  0.9372539528064611\n",
      "\n",
      "Standard deviation:  0.007918259115645119\n"
     ]
    }
   ],
   "source": [
    "ml.k_cross_validate(random_forest_test,X[combined_features],y,cv=10,scoring='accuracy')"
   ]
  },
  {
   "cell_type": "code",
   "execution_count": 87,
   "id": "26b08b58",
   "metadata": {},
   "outputs": [
    {
     "name": "stdout",
     "output_type": "stream",
     "text": [
      "\n",
      "Maximum accuracy = 0.9402 for 37 features\n"
     ]
    },
    {
     "data": {
      "image/png": "[encoded data removed]",
      "text/plain": [
       "<Figure size 720x504 with 1 Axes>"
      ]
     },
     "metadata": {
      "needs_background": "light"
     },
     "output_type": "display_data"
    }
   ],
   "source": [
    "# Optimal no. of features\n",
    "\n",
    "final_features = list(random_forest_features) \n",
    "\n",
    "ml.plot_num_feature_performance(random_forest_test,  X, y, final_features, scoring='accuracy')"
   ]
  },
  {
   "cell_type": "code",
   "execution_count": 88,
   "id": "b3758a9c",
   "metadata": {},
   "outputs": [
    {
     "name": "stdout",
     "output_type": "stream",
     "text": [
      "\n",
      "Train Accuracy: 0.995\n",
      "\n",
      "Test Accuracy: 0.995\n",
      "\n",
      "Precision: 0.991\n",
      "\n",
      "Recall: 0.970\n",
      "\n",
      "F1-Score: 0.981\n",
      "\n",
      "Confusion Matrix:\n",
      "\n",
      "[[3082    4]\n",
      " [  14  457]]\n",
      "\n",
      "\n",
      "Classification Report:\n",
      "\n",
      "              precision    recall  f1-score   support\n",
      "\n",
      "     Class 0       1.00      1.00      1.00      3086\n",
      "     Class 1       0.99      0.97      0.98       471\n",
      "\n",
      "    accuracy                           0.99      3557\n",
      "   macro avg       0.99      0.98      0.99      3557\n",
      "weighted avg       0.99      0.99      0.99      3557\n",
      "\n",
      "\n",
      "ROC-AUC Curve:\n"
     ]
    },
    {
     "data": {
      "image/png": "[encoded data removed]",
      "text/plain": [
       "<Figure size 432x288 with 1 Axes>"
      ]
     },
     "metadata": {
      "needs_background": "light"
     },
     "output_type": "display_data"
    }
   ],
   "source": [
    "selected = random_forest_features[:37]\n",
    "\n",
    "X = X[selected]\n",
    "X_train = X_train[selected]\n",
    "X_test = X_test[selected]\n",
    "\n",
    "random_forest.fit(X_train, y_train)\n",
    "\n",
    "ml.evaluate_model_metrics(random_forest, X_train, y_train, X_test, y_test)"
   ]
  },
  {
   "cell_type": "code",
   "execution_count": 89,
   "id": "67a7214d",
   "metadata": {},
   "outputs": [
    {
     "name": "stdout",
     "output_type": "stream",
     "text": [
      "\n",
      "accuracy scores: [0.94382022 0.93258427 0.94269663 0.94038245 0.9223847  0.94150731\n",
      " 0.94825647 0.95388076 0.93475816 0.94150731]\n",
      "\n",
      "Mean accuracy score:  0.9401778288949835\n",
      "\n",
      "Standard deviation:  0.008245323267855636\n"
     ]
    }
   ],
   "source": [
    "ml.k_cross_validate(random_forest,X,y,cv=10,scoring='accuracy')"
   ]
  },
  {
   "cell_type": "markdown",
   "id": "d3985e07",
   "metadata": {},
   "source": [
    "## Hyperparameter Optimization "
   ]
  },
  {
   "cell_type": "markdown",
   "id": "aafcd7c3",
   "metadata": {},
   "source": [
    "### Grid Search"
   ]
  },
  {
   "cell_type": "code",
   "execution_count": 90,
   "id": "ffb23e51",
   "metadata": {},
   "outputs": [],
   "source": [
    "param_grid = {\n",
    "    \n",
    "    'bootstrap': [True, False],\n",
    "    'max_features': ['auto', 'sqrt', 'log2', None],\n",
    "    'criterion': ['gini', 'entropy', 'log_loss'],\n",
    "    'n_jobs': [-1],\n",
    "    'random_state': [42]\n",
    "\n",
    "}"
   ]
  },
  {
   "cell_type": "code",
   "execution_count": 91,
   "id": "eba60be7",
   "metadata": {},
   "outputs": [
    {
     "data": {
      "text/plain": [
       "{'bootstrap': True,\n",
       " 'criterion': 'gini',\n",
       " 'max_features': 'log2',\n",
       " 'n_jobs': -1,\n",
       " 'random_state': 42}"
      ]
     },
     "execution_count": 91,
     "metadata": {},
     "output_type": "execute_result"
    }
   ],
   "source": [
    "grid_best_params, random_forest_grid = ml.grid_search_optimize(random_forest, param_grid, X_train, y_train, cv=10)\n",
    "grid_best_params"
   ]
  },
  {
   "cell_type": "code",
   "execution_count": 92,
   "id": "328c224f",
   "metadata": {},
   "outputs": [
    {
     "name": "stdout",
     "output_type": "stream",
     "text": [
      "\n",
      "accuracy scores: [0.94044944 0.93033708 0.94269663 0.93475816 0.9223847  0.93588301\n",
      " 0.94600675 0.95050619 0.92913386 0.93588301]\n",
      "\n",
      "Mean accuracy score:  0.9368038826607348\n",
      "\n",
      "Standard deviation:  0.007968080220066733\n"
     ]
    }
   ],
   "source": [
    "random_forest_grid.fit(X_train, y_train)\n",
    "\n",
    "ml.k_cross_validate(random_forest_grid,X,y,cv=10,scoring='accuracy')"
   ]
  },
  {
   "cell_type": "markdown",
   "id": "5af7d03b",
   "metadata": {},
   "source": [
    "### Optuna"
   ]
  },
  {
   "cell_type": "code",
   "execution_count": 93,
   "id": "f55017a9",
   "metadata": {},
   "outputs": [],
   "source": [
    "def objective(trial):\n",
    "\n",
    "    params = {\n",
    "        'bootstrap': trial.suggest_categorical('bootstrap', [True, False]),\n",
    "        'criterion': trial.suggest_categorical('criterion', ['gini', 'entropy']),\n",
    "        'n_jobs': trial.suggest_categorical('n_jobs', [-1])\n",
    "    }\n",
    "     \n",
    "    model = RandomForestClassifier(**params)\n",
    "    \n",
    "    model.fit(X_train, y_train)\n",
    "    y_pred = model.predict(X_test)\n",
    "\n",
    "    accuracy = ml.accuracy_score(y_test, y_pred)\n",
    "\n",
    "    return accuracy"
   ]
  },
  {
   "cell_type": "code",
   "execution_count": 94,
   "id": "9d3ad3ae",
   "metadata": {},
   "outputs": [
    {
     "data": {
      "text/plain": [
       "{'bootstrap': False, 'criterion': 'gini', 'n_jobs': -1}"
      ]
     },
     "execution_count": 94,
     "metadata": {},
     "output_type": "execute_result"
    }
   ],
   "source": [
    "# Hyperparameter Optimize\n",
    "\n",
    "best_trial, random_forest_opt = ml.optuna_optimize(objective,RandomForestClassifier, n_trials=200)\n",
    "\n",
    "best_trial"
   ]
  },
  {
   "cell_type": "code",
   "execution_count": 95,
   "id": "1bdcc5bf",
   "metadata": {},
   "outputs": [
    {
     "name": "stdout",
     "output_type": "stream",
     "text": [
      "\n",
      "accuracy scores: [0.93707865 0.93033708 0.94382022 0.93700787 0.92688414 0.94038245\n",
      " 0.94938133 0.94825647 0.93588301 0.93700787]\n",
      "\n",
      "Mean accuracy score:  0.938603910466248\n",
      "\n",
      "Standard deviation:  0.006783919358428683\n"
     ]
    }
   ],
   "source": [
    "random_forest_opt.fit(X_train, y_train)\n",
    "\n",
    "ml.k_cross_validate(random_forest_opt,X,y,cv=10,scoring='accuracy')"
   ]
  },
  {
   "cell_type": "markdown",
   "id": "cfc4a755",
   "metadata": {},
   "source": [
    "## Cross Validation"
   ]
  },
  {
   "cell_type": "code",
   "execution_count": 96,
   "id": "d934d702",
   "metadata": {},
   "outputs": [
    {
     "name": "stdout",
     "output_type": "stream",
     "text": [
      "\n",
      "accuracy scores: [0.94382022 0.93258427 0.94269663 0.94038245 0.9223847  0.94150731\n",
      " 0.94825647 0.95388076 0.93475816 0.94150731]\n",
      "\n",
      "Mean accuracy score:  0.9401778288949835\n",
      "\n",
      "Standard deviation:  0.008245323267855636\n"
     ]
    }
   ],
   "source": [
    "# Cross-validation\n",
    "\n",
    "ml.k_cross_validate(random_forest,X,y,cv=10,scoring='accuracy')"
   ]
  },
  {
   "cell_type": "code",
   "execution_count": 97,
   "id": "22bc7ca7",
   "metadata": {},
   "outputs": [
    {
     "name": "stdout",
     "output_type": "stream",
     "text": [
      "\n",
      "Average Accuracy: 0.9380419863247432\n",
      "\n",
      "Average Precision: 0.8491807828210955\n",
      "\n",
      "Average Recall: 0.6446979574098217\n",
      "\n",
      "Average F1-Score: 0.7316864269570114\n"
     ]
    }
   ],
   "source": [
    "ml.stratified_k_cross_validate(random_forest,X,y,n_splits=10,random_state=42)"
   ]
  },
  {
   "cell_type": "code",
   "execution_count": 98,
   "id": "332e822a",
   "metadata": {
    "scrolled": true
   },
   "outputs": [
    {
     "name": "stdout",
     "output_type": "stream",
     "text": [
      "\n",
      "accuracy scores: [0.94044944 0.93033708 0.94269663 0.93475816 0.9223847  0.93588301\n",
      " 0.94600675 0.95050619 0.92913386 0.93588301]\n",
      "\n",
      "Mean accuracy score:  0.9368038826607348\n",
      "\n",
      "Standard deviation:  0.007968080220066733\n"
     ]
    }
   ],
   "source": [
    "ml.k_cross_validate(random_forest_grid,X,y,cv=10,scoring='accuracy')"
   ]
  },
  {
   "cell_type": "code",
   "execution_count": 99,
   "id": "ac0ad37a",
   "metadata": {},
   "outputs": [
    {
     "name": "stdout",
     "output_type": "stream",
     "text": [
      "\n",
      "Average Accuracy: 0.9393920703732259\n",
      "\n",
      "Average Precision: 0.858856568272287\n",
      "\n",
      "Average Recall: 0.6464001158916414\n",
      "\n",
      "Average F1-Score: 0.7363361643236427\n"
     ]
    }
   ],
   "source": [
    "ml.stratified_k_cross_validate(random_forest_grid,X,y,n_splits=10,random_state=42)"
   ]
  },
  {
   "cell_type": "code",
   "execution_count": 100,
   "id": "f0f08bf7",
   "metadata": {
    "scrolled": true
   },
   "outputs": [
    {
     "name": "stdout",
     "output_type": "stream",
     "text": [
      "\n",
      "accuracy scores: [0.93932584 0.92921348 0.94269663 0.93700787 0.92575928 0.93925759\n",
      " 0.94713161 0.94938133 0.93025872 0.93813273]\n",
      "\n",
      "Mean accuracy score:  0.9378165088914449\n",
      "\n",
      "Standard deviation:  0.007252236950861922\n"
     ]
    }
   ],
   "source": [
    "ml.k_cross_validate(random_forest_opt,X,y,cv=10,scoring='accuracy')"
   ]
  },
  {
   "cell_type": "code",
   "execution_count": 101,
   "id": "63d8d4ca",
   "metadata": {},
   "outputs": [
    {
     "name": "stdout",
     "output_type": "stream",
     "text": [
      "\n",
      "Average Accuracy: 0.9383799496972991\n",
      "\n",
      "Average Precision: 0.8423777593047876\n",
      "\n",
      "Average Recall: 0.6557945820657686\n",
      "\n",
      "Average F1-Score: 0.7359708234897274\n"
     ]
    }
   ],
   "source": [
    "ml.stratified_k_cross_validate(random_forest_opt,X,y,n_splits=10,random_state=42)"
   ]
  },
  {
   "cell_type": "code",
   "execution_count": 102,
   "id": "6e89475b",
   "metadata": {},
   "outputs": [],
   "source": [
    "final_random_forest_estimator = random_forest_opt"
   ]
  },
  {
   "cell_type": "code",
   "execution_count": 103,
   "id": "ea9c37ae",
   "metadata": {},
   "outputs": [
    {
     "name": "stdout",
     "output_type": "stream",
     "text": [
      "Overwrite File? [y/n]: y\n",
      "Saved Model\n"
     ]
    }
   ],
   "source": [
    "# Saving the model\n",
    "\n",
    "estimator_name = 'Random_Forest_Classifier'\n",
    "\n",
    "ml.save_model(final_random_forest_estimator, f\"../Models/Diabetes/{estimator_name}.pkl\")"
   ]
  }
 ],
 "metadata": {
  "kernelspec": {
   "display_name": "Python 3 (ipykernel)",
   "language": "python",
   "name": "python3"
  },
  "language_info": {
   "codemirror_mode": {
    "name": "ipython",
    "version": 3
   },
   "file_extension": ".py",
   "mimetype": "text/x-python",
   "name": "python",
   "nbconvert_exporter": "python",
   "pygments_lexer": "ipython3",
   "version": "3.10.12"
  }
 },
 "nbformat": 4,
 "nbformat_minor": 5
}
