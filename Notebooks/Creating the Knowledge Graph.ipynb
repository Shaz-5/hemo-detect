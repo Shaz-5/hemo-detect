{
 "cells": [
  {
   "cell_type": "markdown",
   "id": "04d25bd3",
   "metadata": {},
   "source": [
    "# #6 Creating the KG"
   ]
  },
  {
   "cell_type": "code",
   "execution_count": 1,
   "id": "4512d138",
   "metadata": {},
   "outputs": [],
   "source": [
    "import pandas as pd\n",
    "from neo4j import GraphDatabase\n",
    "from dotenv import load_dotenv\n",
    "import os"
   ]
  },
  {
   "cell_type": "code",
   "execution_count": 2,
   "id": "29d27ef1",
   "metadata": {},
   "outputs": [],
   "source": [
    "# Neo4j connection details\n",
    "\n",
    "load_dotenv('../KG/db.env')\n",
    "\n",
    "uri = os.getenv(\"NEO4J_URI\")\n",
    "user = os.getenv(\"NEO4J_USER\")\n",
    "password = os.getenv(\"NEO4J_PASSWORD\")\n",
    "\n",
    "# Creating a Neo4j Driver Instance\n",
    "driver = GraphDatabase.driver(uri, auth=(user, password))"
   ]
  },
  {
   "cell_type": "markdown",
   "id": "30b958ff",
   "metadata": {},
   "source": [
    "## Creating Nodes"
   ]
  },
  {
   "cell_type": "code",
   "execution_count": 3,
   "id": "98b536a7",
   "metadata": {},
   "outputs": [],
   "source": [
    "Unique ID Constraints\n",
    "\n",
    "person_id_constraint = \"CREATE CONSTRAINT FOR (p:Person) REQUIRE p.respondentId IS UNIQUE\"\n",
    "biomarker_id_constraint = \"CREATE CONSTRAINT FOR (b:Biomarker) REQUIRE b.biomarkerId IS UNIQUE\"\n",
    "protein_id_constraint = \"CREATE CONSTRAINT FOR (p:Protein) ASSERT p.uniprotId IS UNIQUE\"\n",
    "disease_id_constraint = \"CREATE CONSTRAINT FOR (d:Disease) REQUIRE d.mondoId IS UNIQUE\"\n",
    "\n",
    "with driver.session() as session:\n",
    "    session.run(person_id_constraint)\n",
    "    session.run(biomarker_id_constraint)\n",
    "    session.run(protein_id_constraint)\n",
    "    session.run(protein_id_constraint)"
   ]
  },
  {
   "cell_type": "code",
   "execution_count": 4,
   "id": "a85ff997",
   "metadata": {},
   "outputs": [],
   "source": [
    "persons = pd.read_csv('../KG/Data/person.csv')\n",
    "persons = persons.to_dict('records')"
   ]
  },
  {
   "cell_type": "code",
   "execution_count": 5,
   "id": "70fd6e39",
   "metadata": {},
   "outputs": [
    {
     "name": "stdout",
     "output_type": "stream",
     "text": [
      "Created 'Person' Nodes\n"
     ]
    }
   ],
   "source": [
    "create_person_nodes_query = \"CREATE (p:Person {respondentId: $respondentId, gender: $gender, age: $age, bmi: $bmi})\"\n",
    "\n",
    "with driver.session() as session:    \n",
    "    for person in persons:\n",
    "        session.run(create_person_nodes_query, person)\n",
    "    print (\"Created 'Person' Nodes\")"
   ]
  },
  {
   "cell_type": "code",
   "execution_count": 6,
   "id": "a6e2f134",
   "metadata": {
    "scrolled": false
   },
   "outputs": [],
   "source": [
    "blood_biomarkers = pd.read_csv('../KG/Data/blood_biomarker.csv')\n",
    "blood_biomarkers = blood_biomarkers.to_dict('records')"
   ]
  },
  {
   "cell_type": "code",
   "execution_count": 7,
   "id": "071fa62a",
   "metadata": {},
   "outputs": [
    {
     "name": "stdout",
     "output_type": "stream",
     "text": [
      "Created 'BloodBiomarker' Nodes\n"
     ]
    }
   ],
   "source": [
    "create_biomarker_nodes_query = (\n",
    "\"CREATE (b:BloodBiomarker {name: $name, unit: $unit, type: $type, biomarkerId: $biomarkerId})\"\n",
    ")\n",
    "\n",
    "with driver.session() as session:   \n",
    "    for blood_biomarker in blood_biomarkers:\n",
    "        session.run(\n",
    "            create_biomarker_nodes_query,\n",
    "            name=blood_biomarker['name'],\n",
    "            unit=blood_biomarker['unit'],\n",
    "            type=blood_biomarker['type'],\n",
    "            biomarkerId=blood_biomarker['biomarkerId']\n",
    "        )\n",
    "    print (\"Created 'BloodBiomarker' Nodes\")"
   ]
  },
  {
   "cell_type": "code",
   "execution_count": 8,
   "id": "ca5e67f8",
   "metadata": {
    "scrolled": false
   },
   "outputs": [],
   "source": [
    "blood_proteins = pd.read_csv('../KG/Data/blood_protein.csv')\n",
    "blood_proteins = blood_proteins.to_dict('records')"
   ]
  },
  {
   "cell_type": "code",
   "execution_count": 9,
   "id": "dfb17425",
   "metadata": {},
   "outputs": [
    {
     "name": "stdout",
     "output_type": "stream",
     "text": [
      "Created 'BloodProtein' Nodes\n"
     ]
    }
   ],
   "source": [
    "create_protein_nodes_query = \"CREATE (b:BloodProtein {name: $name, uniprotId: $uniprotId})\"\n",
    "\n",
    "with driver.session() as session:\n",
    "    for blood_protein in blood_proteins:\n",
    "        session.run(create_protein_nodes_query,\n",
    "                    name=blood_protein['name'],\n",
    "                    uniprotId=blood_protein['uniprotId'])\n",
    "    print (\"Created 'BloodProtein' Nodes\")"
   ]
  },
  {
   "cell_type": "code",
   "execution_count": 10,
   "id": "ba0b9e0c",
   "metadata": {
    "scrolled": false
   },
   "outputs": [],
   "source": [
    "diseases = pd.read_csv('../KG/Data/disease.csv')\n",
    "diseases = diseases.to_dict('records')"
   ]
  },
  {
   "cell_type": "code",
   "execution_count": 11,
   "id": "b187ab9f",
   "metadata": {},
   "outputs": [
    {
     "name": "stdout",
     "output_type": "stream",
     "text": [
      "Created 'Disease' Nodes\n"
     ]
    }
   ],
   "source": [
    "create_disease_nodes_query = \"CREATE (d:Disease {name: $name, type: $type, mondoId: $mondoId})\"\n",
    "\n",
    "with driver.session() as session:\n",
    "    for disease in diseases:\n",
    "        session.run(create_disease_nodes_query, \n",
    "                    name=disease['name'], \n",
    "                    type=disease['type'], \n",
    "                    mondoId=disease['mondoId'])\n",
    "    print (\"Created 'Disease' Nodes\")"
   ]
  },
  {
   "cell_type": "markdown",
   "id": "02ad8148",
   "metadata": {},
   "source": [
    "## Creating Relationships"
   ]
  },
  {
   "cell_type": "code",
   "execution_count": 12,
   "id": "34023c5d",
   "metadata": {
    "scrolled": false
   },
   "outputs": [],
   "source": [
    "person_has_blood_biomarker = pd.read_csv('../KG/Data/person_has_blood_biomarker.csv')\n",
    "person_has_blood_biomarker = person_has_blood_biomarker.to_dict('records')"
   ]
  },
  {
   "cell_type": "code",
   "execution_count": 13,
   "id": "b1c86a7c",
   "metadata": {},
   "outputs": [
    {
     "name": "stdout",
     "output_type": "stream",
     "text": [
      "Created 'HAS' Realtionships between Person and BloodBiomarker\n"
     ]
    }
   ],
   "source": [
    "create_has_blood_biomarker_relation_query = (\"MATCH (p:Person {respondentId: $respondentId})\"\n",
    "                \"MATCH (b:BloodBiomarker {biomarkerId: $biomarkerId})\"\n",
    "                \"CREATE (p)-[:HAS {value: $value}]->(b)\")\n",
    "\n",
    "with driver.session() as session:\n",
    "    for relation in person_has_blood_biomarker:\n",
    "        session.run(\n",
    "            create_has_blood_biomarker_relation_query,\n",
    "            respondentId=relation['respondentId'],\n",
    "            biomarkerId=relation['biomarkerId'],\n",
    "            value=relation['value']\n",
    "        )\n",
    "    print (\"Created 'HAS' Realtionships between Person and BloodBiomarker\")"
   ]
  },
  {
   "cell_type": "code",
   "execution_count": 14,
   "id": "f9763c4f",
   "metadata": {
    "scrolled": false
   },
   "outputs": [],
   "source": [
    "person_has_blood_protein = pd.read_csv('../KG/Data/person_has_blood_protein.csv')\n",
    "person_has_blood_protein = person_has_blood_protein.to_dict('records')"
   ]
  },
  {
   "cell_type": "code",
   "execution_count": 15,
   "id": "2b0ebe54",
   "metadata": {},
   "outputs": [
    {
     "name": "stdout",
     "output_type": "stream",
     "text": [
      "Created 'HAS' Realtionships between Person and BloodProtein\n"
     ]
    }
   ],
   "source": [
    "create_has_protein_relation_query = (\n",
    "    \"MATCH (p:Person {respondentId: $respondentId})\"\n",
    "    \"MATCH (u:BloodProtein {uniprotId: $uniprotId})\"\n",
    "    \"CREATE (p)-[:HAS {value: $value}]->(u)\"\n",
    ")\n",
    "\n",
    "with driver.session() as session:\n",
    "    for relation in person_has_blood_protein:\n",
    "        session.run(\n",
    "            create_has_protein_relation_query,\n",
    "            respondentId=relation['respondentId'],\n",
    "            uniprotId=relation['uniprotId'],\n",
    "            value=relation['value']\n",
    "        )\n",
    "    print (\"Created 'HAS' Realtionships between Person and BloodProtein\")"
   ]
  },
  {
   "cell_type": "code",
   "execution_count": 16,
   "id": "53d2dd6a",
   "metadata": {
    "scrolled": false
   },
   "outputs": [],
   "source": [
    "person_suffers_from_disease = pd.read_csv('../KG/Data/person_suffers_from_disease.csv')\n",
    "person_suffers_from_disease = person_suffers_from_disease.to_dict('records')"
   ]
  },
  {
   "cell_type": "code",
   "execution_count": 17,
   "id": "ce48f06a",
   "metadata": {},
   "outputs": [
    {
     "name": "stdout",
     "output_type": "stream",
     "text": [
      "Created 'SUFFERS_FROM' Realtionships between Person and Disease\n"
     ]
    }
   ],
   "source": [
    "create_suffers_from_disease_relation_query = (\n",
    "    \"MATCH (p:Person {respondentId: $respondentId})\"\n",
    "    \"MATCH (d:Disease {mondoId: $mondoId})\"\n",
    "    \"CREATE (p)-[:SUFFERS_FROM]->(d)\"\n",
    ")\n",
    "\n",
    "with driver.session() as session:\n",
    "    for relation in person_suffers_from_disease:\n",
    "        session.run(\n",
    "            create_suffers_from_disease_relation_query,\n",
    "            respondentId=relation['respondentId'],\n",
    "            mondoId=relation['mondoId']\n",
    "        )\n",
    "    print (\"Created 'SUFFERS_FROM' Realtionships between Person and Disease\")"
   ]
  }
 ],
 "metadata": {
  "kernelspec": {
   "display_name": "Python 3 (ipykernel)",
   "language": "python",
   "name": "python3"
  },
  "language_info": {
   "codemirror_mode": {
    "name": "ipython",
    "version": 3
   },
   "file_extension": ".py",
   "mimetype": "text/x-python",
   "name": "python",
   "nbconvert_exporter": "python",
   "pygments_lexer": "ipython3",
   "version": "3.10.12"
  }
 },
 "nbformat": 4,
 "nbformat_minor": 5
}
