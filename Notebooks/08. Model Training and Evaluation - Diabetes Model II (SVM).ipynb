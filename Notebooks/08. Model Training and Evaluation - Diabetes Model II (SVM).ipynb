{
 "cells": [
  {
   "cell_type": "markdown",
   "id": "d2acf9f1",
   "metadata": {},
   "source": [
    "# Support Vector Machine"
   ]
  },
  {
   "cell_type": "code",
   "execution_count": 1,
   "id": "5c1b7eb2",
   "metadata": {},
   "outputs": [],
   "source": [
    "import some_load_train_evaluate_functions as ml\n",
    "\n",
    "from sklearn.svm import LinearSVC"
   ]
  },
  {
   "cell_type": "code",
   "execution_count": 2,
   "id": "6b4433ef",
   "metadata": {},
   "outputs": [
    {
     "name": "stdout",
     "output_type": "stream",
     "text": [
      "Connected to database successfully.\n"
     ]
    }
   ],
   "source": [
    "path = '../KG/db.env'\n",
    "\n",
    "driver = ml.connect_to_neo4j(path)"
   ]
  },
  {
   "cell_type": "markdown",
   "id": "4016e569",
   "metadata": {},
   "source": [
    "### Load Data"
   ]
  },
  {
   "cell_type": "code",
   "execution_count": 3,
   "id": "76bbe0fe",
   "metadata": {},
   "outputs": [
    {
     "data": {
      "text/html": [
       "<div>\n",
       "<style scoped>\n",
       "    .dataframe tbody tr th:only-of-type {\n",
       "        vertical-align: middle;\n",
       "    }\n",
       "\n",
       "    .dataframe tbody tr th {\n",
       "        vertical-align: top;\n",
       "    }\n",
       "\n",
       "    .dataframe thead th {\n",
       "        text-align: right;\n",
       "    }\n",
       "</style>\n",
       "<table border=\"1\" class=\"dataframe\">\n",
       "  <thead>\n",
       "    <tr style=\"text-align: right;\">\n",
       "      <th></th>\n",
       "      <th>Respondent_ID</th>\n",
       "      <th>Gender</th>\n",
       "      <th>Age</th>\n",
       "      <th>BMI</th>\n",
       "      <th>25-hydroxyvitamin D2 + D3 [nmol/L]</th>\n",
       "      <th>A/G Ratio</th>\n",
       "      <th>Alpha-carotene [umol/L]</th>\n",
       "      <th>Alpha-crypotoxanthin [umol/L]</th>\n",
       "      <th>Alpha-tocopherol [umol/L]</th>\n",
       "      <th>Basophils [%]</th>\n",
       "      <th>...</th>\n",
       "      <th>Ferritin [ng/mL]</th>\n",
       "      <th>Gamma Glutamyl Transferase [IU/L]</th>\n",
       "      <th>Hemoglobin [g/dL]</th>\n",
       "      <th>Insulin [pmol/L]</th>\n",
       "      <th>LDL-Cholesterol(NIH2) [mmol/L]</th>\n",
       "      <th>Lactate Dehydrogenase [IU/L]</th>\n",
       "      <th>Transferrin Saturation [%]</th>\n",
       "      <th>Transferrin receptor [nmol/L]</th>\n",
       "      <th>Triglyceride [mmol/L]</th>\n",
       "      <th>Diabetes</th>\n",
       "    </tr>\n",
       "  </thead>\n",
       "  <tbody>\n",
       "    <tr>\n",
       "      <th>0</th>\n",
       "      <td>93703</td>\n",
       "      <td>0</td>\n",
       "      <td>2</td>\n",
       "      <td>17.5</td>\n",
       "      <td>NaN</td>\n",
       "      <td>NaN</td>\n",
       "      <td>NaN</td>\n",
       "      <td>NaN</td>\n",
       "      <td>NaN</td>\n",
       "      <td>NaN</td>\n",
       "      <td>...</td>\n",
       "      <td>NaN</td>\n",
       "      <td>NaN</td>\n",
       "      <td>NaN</td>\n",
       "      <td>NaN</td>\n",
       "      <td>NaN</td>\n",
       "      <td>NaN</td>\n",
       "      <td>NaN</td>\n",
       "      <td>NaN</td>\n",
       "      <td>NaN</td>\n",
       "      <td>0</td>\n",
       "    </tr>\n",
       "    <tr>\n",
       "      <th>1</th>\n",
       "      <td>93704</td>\n",
       "      <td>1</td>\n",
       "      <td>2</td>\n",
       "      <td>15.7</td>\n",
       "      <td>74.4</td>\n",
       "      <td>NaN</td>\n",
       "      <td>NaN</td>\n",
       "      <td>NaN</td>\n",
       "      <td>NaN</td>\n",
       "      <td>0.7</td>\n",
       "      <td>...</td>\n",
       "      <td>36.60</td>\n",
       "      <td>NaN</td>\n",
       "      <td>13.1</td>\n",
       "      <td>NaN</td>\n",
       "      <td>NaN</td>\n",
       "      <td>NaN</td>\n",
       "      <td>NaN</td>\n",
       "      <td>30.6</td>\n",
       "      <td>NaN</td>\n",
       "      <td>0</td>\n",
       "    </tr>\n",
       "    <tr>\n",
       "      <th>2</th>\n",
       "      <td>93705</td>\n",
       "      <td>0</td>\n",
       "      <td>66</td>\n",
       "      <td>31.7</td>\n",
       "      <td>89.9</td>\n",
       "      <td>1.517241</td>\n",
       "      <td>0.138</td>\n",
       "      <td>0.071</td>\n",
       "      <td>26.006</td>\n",
       "      <td>1.0</td>\n",
       "      <td>...</td>\n",
       "      <td>28.70</td>\n",
       "      <td>21.0</td>\n",
       "      <td>11.9</td>\n",
       "      <td>NaN</td>\n",
       "      <td>NaN</td>\n",
       "      <td>174.0</td>\n",
       "      <td>28.0</td>\n",
       "      <td>39.8</td>\n",
       "      <td>NaN</td>\n",
       "      <td>0</td>\n",
       "    </tr>\n",
       "    <tr>\n",
       "      <th>3</th>\n",
       "      <td>93706</td>\n",
       "      <td>1</td>\n",
       "      <td>18</td>\n",
       "      <td>21.5</td>\n",
       "      <td>53.8</td>\n",
       "      <td>1.629630</td>\n",
       "      <td>0.160</td>\n",
       "      <td>0.031</td>\n",
       "      <td>16.765</td>\n",
       "      <td>0.8</td>\n",
       "      <td>...</td>\n",
       "      <td>284.00</td>\n",
       "      <td>16.0</td>\n",
       "      <td>16.3</td>\n",
       "      <td>NaN</td>\n",
       "      <td>NaN</td>\n",
       "      <td>142.0</td>\n",
       "      <td>51.0</td>\n",
       "      <td>34.0</td>\n",
       "      <td>NaN</td>\n",
       "      <td>0</td>\n",
       "    </tr>\n",
       "    <tr>\n",
       "      <th>4</th>\n",
       "      <td>93707</td>\n",
       "      <td>1</td>\n",
       "      <td>13</td>\n",
       "      <td>18.1</td>\n",
       "      <td>58.2</td>\n",
       "      <td>1.857143</td>\n",
       "      <td>0.009</td>\n",
       "      <td>0.044</td>\n",
       "      <td>22.756</td>\n",
       "      <td>0.5</td>\n",
       "      <td>...</td>\n",
       "      <td>49.30</td>\n",
       "      <td>9.0</td>\n",
       "      <td>14.5</td>\n",
       "      <td>NaN</td>\n",
       "      <td>NaN</td>\n",
       "      <td>177.0</td>\n",
       "      <td>21.0</td>\n",
       "      <td>34.0</td>\n",
       "      <td>NaN</td>\n",
       "      <td>0</td>\n",
       "    </tr>\n",
       "    <tr>\n",
       "      <th>...</th>\n",
       "      <td>...</td>\n",
       "      <td>...</td>\n",
       "      <td>...</td>\n",
       "      <td>...</td>\n",
       "      <td>...</td>\n",
       "      <td>...</td>\n",
       "      <td>...</td>\n",
       "      <td>...</td>\n",
       "      <td>...</td>\n",
       "      <td>...</td>\n",
       "      <td>...</td>\n",
       "      <td>...</td>\n",
       "      <td>...</td>\n",
       "      <td>...</td>\n",
       "      <td>...</td>\n",
       "      <td>...</td>\n",
       "      <td>...</td>\n",
       "      <td>...</td>\n",
       "      <td>...</td>\n",
       "      <td>...</td>\n",
       "      <td>...</td>\n",
       "    </tr>\n",
       "    <tr>\n",
       "      <th>8888</th>\n",
       "      <td>102952</td>\n",
       "      <td>0</td>\n",
       "      <td>70</td>\n",
       "      <td>20.0</td>\n",
       "      <td>82.7</td>\n",
       "      <td>1.846154</td>\n",
       "      <td>0.235</td>\n",
       "      <td>0.077</td>\n",
       "      <td>31.347</td>\n",
       "      <td>0.6</td>\n",
       "      <td>...</td>\n",
       "      <td>135.00</td>\n",
       "      <td>18.0</td>\n",
       "      <td>13.4</td>\n",
       "      <td>26.34</td>\n",
       "      <td>1.112</td>\n",
       "      <td>168.0</td>\n",
       "      <td>39.0</td>\n",
       "      <td>29.1</td>\n",
       "      <td>0.881</td>\n",
       "      <td>1</td>\n",
       "    </tr>\n",
       "    <tr>\n",
       "      <th>8889</th>\n",
       "      <td>102953</td>\n",
       "      <td>1</td>\n",
       "      <td>42</td>\n",
       "      <td>35.8</td>\n",
       "      <td>49.5</td>\n",
       "      <td>1.142857</td>\n",
       "      <td>0.106</td>\n",
       "      <td>0.080</td>\n",
       "      <td>21.873</td>\n",
       "      <td>0.6</td>\n",
       "      <td>...</td>\n",
       "      <td>120.00</td>\n",
       "      <td>28.0</td>\n",
       "      <td>15.5</td>\n",
       "      <td>NaN</td>\n",
       "      <td>NaN</td>\n",
       "      <td>136.0</td>\n",
       "      <td>20.0</td>\n",
       "      <td>28.6</td>\n",
       "      <td>NaN</td>\n",
       "      <td>0</td>\n",
       "    </tr>\n",
       "    <tr>\n",
       "      <th>8890</th>\n",
       "      <td>102954</td>\n",
       "      <td>0</td>\n",
       "      <td>41</td>\n",
       "      <td>26.1</td>\n",
       "      <td>50.5</td>\n",
       "      <td>1.500000</td>\n",
       "      <td>0.117</td>\n",
       "      <td>0.056</td>\n",
       "      <td>26.935</td>\n",
       "      <td>1.4</td>\n",
       "      <td>...</td>\n",
       "      <td>1.99</td>\n",
       "      <td>8.0</td>\n",
       "      <td>6.4</td>\n",
       "      <td>56.94</td>\n",
       "      <td>2.793</td>\n",
       "      <td>123.0</td>\n",
       "      <td>5.0</td>\n",
       "      <td>248.0</td>\n",
       "      <td>0.553</td>\n",
       "      <td>0</td>\n",
       "    </tr>\n",
       "    <tr>\n",
       "      <th>8891</th>\n",
       "      <td>102955</td>\n",
       "      <td>0</td>\n",
       "      <td>14</td>\n",
       "      <td>45.6</td>\n",
       "      <td>61.9</td>\n",
       "      <td>1.205882</td>\n",
       "      <td>0.031</td>\n",
       "      <td>0.079</td>\n",
       "      <td>17.856</td>\n",
       "      <td>0.9</td>\n",
       "      <td>...</td>\n",
       "      <td>11.40</td>\n",
       "      <td>16.0</td>\n",
       "      <td>11.4</td>\n",
       "      <td>NaN</td>\n",
       "      <td>NaN</td>\n",
       "      <td>158.0</td>\n",
       "      <td>5.0</td>\n",
       "      <td>57.7</td>\n",
       "      <td>NaN</td>\n",
       "      <td>0</td>\n",
       "    </tr>\n",
       "    <tr>\n",
       "      <th>8892</th>\n",
       "      <td>102956</td>\n",
       "      <td>1</td>\n",
       "      <td>38</td>\n",
       "      <td>36.1</td>\n",
       "      <td>58.9</td>\n",
       "      <td>1.482759</td>\n",
       "      <td>0.026</td>\n",
       "      <td>0.038</td>\n",
       "      <td>21.177</td>\n",
       "      <td>1.0</td>\n",
       "      <td>...</td>\n",
       "      <td>553.00</td>\n",
       "      <td>72.0</td>\n",
       "      <td>17.4</td>\n",
       "      <td>634.38</td>\n",
       "      <td>2.172</td>\n",
       "      <td>134.0</td>\n",
       "      <td>35.0</td>\n",
       "      <td>23.4</td>\n",
       "      <td>3.037</td>\n",
       "      <td>0</td>\n",
       "    </tr>\n",
       "  </tbody>\n",
       "</table>\n",
       "<p>8893 rows × 91 columns</p>\n",
       "</div>"
      ],
      "text/plain": [
       "      Respondent_ID  Gender  Age   BMI  25-hydroxyvitamin D2 + D3 [nmol/L]  \\\n",
       "0             93703       0    2  17.5                                 NaN   \n",
       "1             93704       1    2  15.7                                74.4   \n",
       "2             93705       0   66  31.7                                89.9   \n",
       "3             93706       1   18  21.5                                53.8   \n",
       "4             93707       1   13  18.1                                58.2   \n",
       "...             ...     ...  ...   ...                                 ...   \n",
       "8888         102952       0   70  20.0                                82.7   \n",
       "8889         102953       1   42  35.8                                49.5   \n",
       "8890         102954       0   41  26.1                                50.5   \n",
       "8891         102955       0   14  45.6                                61.9   \n",
       "8892         102956       1   38  36.1                                58.9   \n",
       "\n",
       "      A/G Ratio  Alpha-carotene [umol/L]  Alpha-crypotoxanthin [umol/L]  \\\n",
       "0           NaN                      NaN                            NaN   \n",
       "1           NaN                      NaN                            NaN   \n",
       "2      1.517241                    0.138                          0.071   \n",
       "3      1.629630                    0.160                          0.031   \n",
       "4      1.857143                    0.009                          0.044   \n",
       "...         ...                      ...                            ...   \n",
       "8888   1.846154                    0.235                          0.077   \n",
       "8889   1.142857                    0.106                          0.080   \n",
       "8890   1.500000                    0.117                          0.056   \n",
       "8891   1.205882                    0.031                          0.079   \n",
       "8892   1.482759                    0.026                          0.038   \n",
       "\n",
       "      Alpha-tocopherol [umol/L]  Basophils [%]  ...  Ferritin [ng/mL]  \\\n",
       "0                           NaN            NaN  ...               NaN   \n",
       "1                           NaN            0.7  ...             36.60   \n",
       "2                        26.006            1.0  ...             28.70   \n",
       "3                        16.765            0.8  ...            284.00   \n",
       "4                        22.756            0.5  ...             49.30   \n",
       "...                         ...            ...  ...               ...   \n",
       "8888                     31.347            0.6  ...            135.00   \n",
       "8889                     21.873            0.6  ...            120.00   \n",
       "8890                     26.935            1.4  ...              1.99   \n",
       "8891                     17.856            0.9  ...             11.40   \n",
       "8892                     21.177            1.0  ...            553.00   \n",
       "\n",
       "      Gamma Glutamyl Transferase [IU/L]  Hemoglobin [g/dL]  Insulin [pmol/L]  \\\n",
       "0                                   NaN                NaN               NaN   \n",
       "1                                   NaN               13.1               NaN   \n",
       "2                                  21.0               11.9               NaN   \n",
       "3                                  16.0               16.3               NaN   \n",
       "4                                   9.0               14.5               NaN   \n",
       "...                                 ...                ...               ...   \n",
       "8888                               18.0               13.4             26.34   \n",
       "8889                               28.0               15.5               NaN   \n",
       "8890                                8.0                6.4             56.94   \n",
       "8891                               16.0               11.4               NaN   \n",
       "8892                               72.0               17.4            634.38   \n",
       "\n",
       "      LDL-Cholesterol(NIH2) [mmol/L]  Lactate Dehydrogenase [IU/L]  \\\n",
       "0                                NaN                           NaN   \n",
       "1                                NaN                           NaN   \n",
       "2                                NaN                         174.0   \n",
       "3                                NaN                         142.0   \n",
       "4                                NaN                         177.0   \n",
       "...                              ...                           ...   \n",
       "8888                           1.112                         168.0   \n",
       "8889                             NaN                         136.0   \n",
       "8890                           2.793                         123.0   \n",
       "8891                             NaN                         158.0   \n",
       "8892                           2.172                         134.0   \n",
       "\n",
       "      Transferrin Saturation [%]  Transferrin receptor [nmol/L]  \\\n",
       "0                            NaN                            NaN   \n",
       "1                            NaN                           30.6   \n",
       "2                           28.0                           39.8   \n",
       "3                           51.0                           34.0   \n",
       "4                           21.0                           34.0   \n",
       "...                          ...                            ...   \n",
       "8888                        39.0                           29.1   \n",
       "8889                        20.0                           28.6   \n",
       "8890                         5.0                          248.0   \n",
       "8891                         5.0                           57.7   \n",
       "8892                        35.0                           23.4   \n",
       "\n",
       "      Triglyceride [mmol/L]  Diabetes  \n",
       "0                       NaN         0  \n",
       "1                       NaN         0  \n",
       "2                       NaN         0  \n",
       "3                       NaN         0  \n",
       "4                       NaN         0  \n",
       "...                     ...       ...  \n",
       "8888                  0.881         1  \n",
       "8889                    NaN         0  \n",
       "8890                  0.553         0  \n",
       "8891                    NaN         0  \n",
       "8892                  3.037         0  \n",
       "\n",
       "[8893 rows x 91 columns]"
      ]
     },
     "execution_count": 3,
     "metadata": {},
     "output_type": "execute_result"
    }
   ],
   "source": [
    "# Diabetes data\n",
    "\n",
    "diabetes_df = ml.get_data_of_disease(driver, 'Diabetes')\n",
    "diabetes_df"
   ]
  },
  {
   "cell_type": "markdown",
   "id": "6578093d",
   "metadata": {},
   "source": [
    "### Training"
   ]
  },
  {
   "cell_type": "code",
   "execution_count": 4,
   "id": "995292f6",
   "metadata": {},
   "outputs": [
    {
     "name": "stdout",
     "output_type": "stream",
     "text": [
      "Training Accuracy:  0.9367444475681754\n",
      "Testing Accuracy:  0.9381501265111049\n"
     ]
    }
   ],
   "source": [
    "svm_classifier = LinearSVC(random_state=42)\n",
    "\n",
    "# Attributes and Labels\n",
    "\n",
    "X, y, X_train, X_val, X_test, y_train, y_val, y_test = ml.preprocess_and_split(df = diabetes_df, label = 'Diabetes',\n",
    "                                                              impute = True, scale=True,\n",
    "                                                              imputer=ml.SimpleImputer(strategy='mean'),\n",
    "                                                              random_state=42)\n",
    "\n",
    "# Training\n",
    "\n",
    "svm_classifier.fit(X_train, y_train)\n",
    "\n",
    "# Accuracy scores\n",
    "\n",
    "y_pred = svm_classifier.predict(X_val)\n",
    "\n",
    "print('Training Accuracy: ',ml.accuracy_score(y_train, svm_classifier.predict(X_train)))\n",
    "\n",
    "print('Testing Accuracy: ',ml.accuracy_score(y_val, y_pred))"
   ]
  },
  {
   "cell_type": "markdown",
   "id": "44142f21",
   "metadata": {},
   "source": [
    "## Feature Selection"
   ]
  },
  {
   "cell_type": "markdown",
   "id": "c60fc52a",
   "metadata": {},
   "source": [
    "### Correlation Analysis"
   ]
  },
  {
   "cell_type": "code",
   "execution_count": 5,
   "id": "a8302272",
   "metadata": {},
   "outputs": [],
   "source": [
    "svm_classifier_test = LinearSVC(random_state=42)"
   ]
  },
  {
   "cell_type": "code",
   "execution_count": 6,
   "id": "4bf4ee40",
   "metadata": {},
   "outputs": [
    {
     "data": {
      "text/plain": [
       "['Gender',\n",
       " 'Glycohemoglobin [%]',\n",
       " 'Fasting Glucose [mmol/L]',\n",
       " 'Age',\n",
       " 'BMI',\n",
       " 'Blood Urea Nitrogen [mg/dL]',\n",
       " 'Insulin [pmol/L]',\n",
       " 'Osmolality [mmol/Kg]',\n",
       " 'Retinol [umol/L]',\n",
       " 'Triglyceride [mmol/L]',\n",
       " 'Total Lycopene [umol/L]',\n",
       " 'Trans-lycopene [umol/L]',\n",
       " 'Platelet count [1000 cells/uL]',\n",
       " 'A/G Ratio',\n",
       " 'Chloride [mmol/L]',\n",
       " 'Platelet_WBC Ratio',\n",
       " 'Direct HDL-Cholesterol [mmol/L]',\n",
       " 'Albumin [g/dL]',\n",
       " 'Alpha-crypotoxanthin [umol/L]',\n",
       " 'Lymphocyte_C-Reactive Protein Ratio']"
      ]
     },
     "execution_count": 6,
     "metadata": {},
     "output_type": "execute_result"
    }
   ],
   "source": [
    "pos_corr, neg_corr = ml.get_correlated_features(diabetes_df,'Diabetes',pos=0.1,neg=-0.1)\n",
    "\n",
    "corr_features = ['Gender'] + list(pos_corr.keys()[1:10]) + list(neg_corr.keys()[:10])\n",
    "corr_features"
   ]
  },
  {
   "cell_type": "code",
   "execution_count": 7,
   "id": "34987aa0",
   "metadata": {},
   "outputs": [
    {
     "name": "stdout",
     "output_type": "stream",
     "text": [
      "\n",
      "Train Accuracy: 0.933\n",
      "\n",
      "Test Accuracy: 0.932\n",
      "\n",
      "Precision: 0.895\n",
      "\n",
      "Recall: 0.566\n",
      "\n",
      "F1-Score: 0.694\n"
     ]
    }
   ],
   "source": [
    "ml.evaluate_feature_set(corr_features, svm_classifier_test, X_train, y_train, X_val, y_val)"
   ]
  },
  {
   "cell_type": "markdown",
   "id": "9df33603",
   "metadata": {},
   "source": [
    "### SelectFromModel"
   ]
  },
  {
   "cell_type": "code",
   "execution_count": 8,
   "id": "a245d928",
   "metadata": {},
   "outputs": [
    {
     "data": {
      "text/plain": [
       "['Age',\n",
       " 'BMI',\n",
       " 'Blood Urea Nitrogen [mg/dL]',\n",
       " 'Fasting Glucose [mmol/L]',\n",
       " 'Glycohemoglobin [%]',\n",
       " 'Hematocrit [%]',\n",
       " 'Iron frozen [umol/L]',\n",
       " 'Lymphocyte [%]',\n",
       " 'Mean Cell Hgb Conc. [g/dL]',\n",
       " 'Mean cell volume [fL]',\n",
       " 'Non_HDL Ratio',\n",
       " 'Osmolality [mmol/Kg]',\n",
       " 'RBC count [million cells/uL]',\n",
       " 'Retinol [umol/L]',\n",
       " 'Segmented neutrophils [%]',\n",
       " 'Sodium [mmol/L]',\n",
       " 'Total Cholesterol [mmol/L]',\n",
       " 'Total Iron Binding Capacity [umol/L]',\n",
       " 'Triglyceride_HDL Ratio',\n",
       " 'UIBC [umol/L]',\n",
       " 'Vitamin C [umol/L]',\n",
       " 'White blood cell count [1000 cells/uL]',\n",
       " 'Hemoglobin [g/dL]',\n",
       " 'Transferrin receptor [nmol/L]']"
      ]
     },
     "execution_count": 8,
     "metadata": {},
     "output_type": "execute_result"
    }
   ],
   "source": [
    "sfm_features = ml.select_from_model_features(svm_classifier_test,X,y)\n",
    "sfm_features"
   ]
  },
  {
   "cell_type": "code",
   "execution_count": 9,
   "id": "17b4d45b",
   "metadata": {},
   "outputs": [
    {
     "name": "stdout",
     "output_type": "stream",
     "text": [
      "\n",
      "Train Accuracy: 0.935\n",
      "\n",
      "Test Accuracy: 0.935\n",
      "\n",
      "Precision: 0.904\n",
      "\n",
      "Recall: 0.583\n",
      "\n",
      "F1-Score: 0.709\n"
     ]
    }
   ],
   "source": [
    "sfm_features = list(sfm_features)\n",
    "\n",
    "ml.evaluate_feature_set(sfm_features, svm_classifier_test, X_train, y_train, X_val, y_val)"
   ]
  },
  {
   "cell_type": "markdown",
   "id": "15f3ce0f",
   "metadata": {},
   "source": [
    "### SelectKBest"
   ]
  },
  {
   "cell_type": "code",
   "execution_count": 10,
   "id": "238022df",
   "metadata": {},
   "outputs": [
    {
     "data": {
      "text/plain": [
       "['Glycohemoglobin [%]',\n",
       " 'Fasting Glucose [mmol/L]',\n",
       " 'Age',\n",
       " 'BMI',\n",
       " 'Blood Urea Nitrogen [mg/dL]',\n",
       " 'Osmolality [mmol/Kg]',\n",
       " 'Retinol [umol/L]',\n",
       " 'Lymphocyte [%]',\n",
       " 'Insulin [pmol/L]',\n",
       " 'Alpha-tocopherol [umol/L]',\n",
       " 'Lymphocyte_C-Reactive Protein Ratio',\n",
       " 'Segmented neutrophils [%]',\n",
       " 'Neutrophil_Lymphocyte Ratio',\n",
       " 'Alpha-crypotoxanthin [umol/L]',\n",
       " 'Albumin [g/dL]',\n",
       " 'Direct HDL-Cholesterol [mmol/L]',\n",
       " 'Platelet_WBC Ratio',\n",
       " 'C-Reactive Protein [mg/L]',\n",
       " 'Creatinine [mg/dL]',\n",
       " 'Ferritin [ng/mL]',\n",
       " 'Chloride [mmol/L]',\n",
       " 'Red cell distribution width [%]',\n",
       " 'Triglyceride [mmol/L]',\n",
       " 'A/G Ratio',\n",
       " 'Platelet count [1000 cells/uL]',\n",
       " 'Triglyceride_HDL Ratio',\n",
       " 'Trans-lycopene [umol/L]',\n",
       " '25-hydroxyvitamin D2 + D3 [nmol/L]',\n",
       " 'Total Lycopene [umol/L]',\n",
       " 'Mean platelet volume [fL]']"
      ]
     },
     "execution_count": 10,
     "metadata": {},
     "output_type": "execute_result"
    }
   ],
   "source": [
    "k_best_features = ml.select_k_best(X, y, n=30)\n",
    "k_best_features[:30]"
   ]
  },
  {
   "cell_type": "code",
   "execution_count": 11,
   "id": "b756eeaa",
   "metadata": {},
   "outputs": [
    {
     "name": "stdout",
     "output_type": "stream",
     "text": [
      "\n",
      "Train Accuracy: 0.933\n",
      "\n",
      "Test Accuracy: 0.934\n",
      "\n",
      "Precision: 0.903\n",
      "\n",
      "Recall: 0.579\n",
      "\n",
      "F1-Score: 0.705\n"
     ]
    }
   ],
   "source": [
    "ml.evaluate_feature_set(k_best_features[:30], svm_classifier_test, X_train, y_train, X_val, y_val)"
   ]
  },
  {
   "cell_type": "markdown",
   "id": "933ccbc1",
   "metadata": {},
   "source": [
    "### Recursive Feature Elimination (RFE) "
   ]
  },
  {
   "cell_type": "code",
   "execution_count": 12,
   "id": "82685afa",
   "metadata": {},
   "outputs": [
    {
     "data": {
      "text/plain": [
       "['Triglyceride [mmol/L]',\n",
       " 'Glycohemoglobin [%]',\n",
       " 'Hematocrit [%]',\n",
       " 'Segmented neutrophils [%]',\n",
       " 'Iron [ug/dL]',\n",
       " 'Iron frozen [umol/L]',\n",
       " 'UIBC [umol/L]',\n",
       " 'Lymphocyte [%]',\n",
       " 'Triglyceride_HDL Ratio',\n",
       " 'Mean Cell Hgb Conc. [g/dL]',\n",
       " 'Mean cell volume [fL]',\n",
       " 'Monocyte [%]',\n",
       " 'Non_HDL Ratio',\n",
       " 'Osmolality [mmol/Kg]',\n",
       " 'Transferrin receptor [nmol/L]',\n",
       " 'Total Iron Binding Capacity [umol/L]',\n",
       " 'Total Cholestrol_HDL Ratio',\n",
       " 'Total Cholesterol [mmol/L]',\n",
       " 'RBC count [million cells/uL]',\n",
       " 'Retinol [umol/L]',\n",
       " 'White blood cell count [1000 cells/uL]',\n",
       " 'Fasting Glucose [mmol/L]',\n",
       " 'Vitamin C [umol/L]',\n",
       " 'Sodium [mmol/L]',\n",
       " 'Age',\n",
       " 'BMI',\n",
       " 'Insulin [pmol/L]',\n",
       " 'Hemoglobin [g/dL]',\n",
       " 'Eosinophils [%]',\n",
       " 'Blood Urea Nitrogen [mg/dL]']"
      ]
     },
     "execution_count": 12,
     "metadata": {},
     "output_type": "execute_result"
    }
   ],
   "source": [
    "rfe_features = ml.select_rfe_features(svm_classifier_test,X,y,n=30,step=0.5)\n",
    "rfe_features[:30]"
   ]
  },
  {
   "cell_type": "code",
   "execution_count": 13,
   "id": "8db8aa72",
   "metadata": {},
   "outputs": [
    {
     "name": "stdout",
     "output_type": "stream",
     "text": [
      "\n",
      "Train Accuracy: 0.935\n",
      "\n",
      "Test Accuracy: 0.935\n",
      "\n",
      "Precision: 0.907\n",
      "\n",
      "Recall: 0.583\n",
      "\n",
      "F1-Score: 0.709\n"
     ]
    }
   ],
   "source": [
    "ml.evaluate_feature_set(rfe_features[:30], svm_classifier_test, X_train, y_train, X_val, y_val)"
   ]
  },
  {
   "cell_type": "markdown",
   "id": "85827a38",
   "metadata": {},
   "source": [
    "### Lasso Regularization"
   ]
  },
  {
   "cell_type": "code",
   "execution_count": 14,
   "id": "8c83723b",
   "metadata": {},
   "outputs": [],
   "source": [
    "# Uses lasso regularization in the LinearSVC model to give more weights to more important features\n",
    "\n",
    "def svc_lasso_select(X_train, y_train, C=1):\n",
    "\n",
    "    svc = LinearSVC(penalty='l1', C=C, dual=False, random_state=42)\n",
    "    svc.fit(X_train, y_train)\n",
    "\n",
    "    # Get feature importance coefficients from the SVM model\n",
    "    feature_importance = svc.coef_[0]\n",
    "\n",
    "    feature_importance_pairs = [(feature, importance) for feature, importance in zip(X.columns, feature_importance)]\n",
    "    feature_importance_pairs.sort(key=lambda x: abs(x[1]), reverse=True)\n",
    "\n",
    "    sorted_features = [feature for feature, _ in feature_importance_pairs]\n",
    "\n",
    "    return sorted_features"
   ]
  },
  {
   "cell_type": "code",
   "execution_count": 15,
   "id": "f7a2dee7",
   "metadata": {},
   "outputs": [
    {
     "data": {
      "text/plain": [
       "['Fasting Glucose [mmol/L]',\n",
       " 'Glycohemoglobin [%]',\n",
       " 'Age',\n",
       " 'Sodium [mmol/L]',\n",
       " 'Osmolality [mmol/Kg]',\n",
       " 'RBC count [million cells/uL]',\n",
       " 'Hemoglobin [g/dL]',\n",
       " 'Non_HDL Ratio',\n",
       " 'Retinol [umol/L]',\n",
       " 'Total Cholesterol [mmol/L]',\n",
       " 'White blood cell count [1000 cells/uL]',\n",
       " 'BMI',\n",
       " 'Transferrin Saturation [%]',\n",
       " 'LDL-Cholesterol(NIH2) [mmol/L]',\n",
       " 'Mean cell hemoglobin [pg]',\n",
       " 'Total Cholestrol_HDL Ratio',\n",
       " 'Blood Urea Nitrogen [mg/dL]',\n",
       " 'Mean cell volume [fL]',\n",
       " 'Alkaline Phosphatase [IU/L]',\n",
       " 'Blood lead [umol/L]',\n",
       " 'Insulin [pmol/L]',\n",
       " 'Vitamin C [umol/L]',\n",
       " 'Mean Cell Hgb Conc. [g/dL]',\n",
       " 'Transferrin receptor [nmol/L]',\n",
       " 'Gamma Glutamyl Transferase [IU/L]',\n",
       " 'Neutrophil_Lymphocyte Ratio',\n",
       " 'Bicarbonate [mmol/L]',\n",
       " 'Chloride [mmol/L]',\n",
       " 'Hematocrit [%]',\n",
       " 'Retinyl palmitate [umol/L]']"
      ]
     },
     "execution_count": 15,
     "metadata": {},
     "output_type": "execute_result"
    }
   ],
   "source": [
    "l1_selected_features = svc_lasso_select(X_train, y_train, C=0.5)\n",
    "l1_selected_features[:30]"
   ]
  },
  {
   "cell_type": "code",
   "execution_count": 16,
   "id": "1b685cc9",
   "metadata": {},
   "outputs": [
    {
     "name": "stdout",
     "output_type": "stream",
     "text": [
      "\n",
      "Train Accuracy: 0.937\n",
      "\n",
      "Test Accuracy: 0.937\n",
      "\n",
      "Precision: 0.909\n",
      "\n",
      "Recall: 0.595\n",
      "\n",
      "F1-Score: 0.719\n"
     ]
    }
   ],
   "source": [
    "ml.evaluate_feature_set(l1_selected_features[:30], svm_classifier_test, X_train, y_train, X_val, y_val)"
   ]
  },
  {
   "cell_type": "markdown",
   "id": "a37796b0",
   "metadata": {},
   "source": [
    "### Relief F"
   ]
  },
  {
   "cell_type": "code",
   "execution_count": 17,
   "id": "bfb3ec54",
   "metadata": {},
   "outputs": [],
   "source": [
    "relieff_features = ml.relief_feature_select(30,X,y)"
   ]
  },
  {
   "cell_type": "code",
   "execution_count": 18,
   "id": "fc600c21",
   "metadata": {},
   "outputs": [
    {
     "data": {
      "text/plain": [
       "['Age',\n",
       " 'Glycohemoglobin [%]',\n",
       " 'BMI',\n",
       " 'Segmented neutrophils [%]',\n",
       " 'Hematocrit [%]',\n",
       " 'Lymphocyte [%]',\n",
       " 'Hemoglobin [g/dL]',\n",
       " 'Fasting Glucose [mmol/L]',\n",
       " 'Retinol [umol/L]',\n",
       " 'Total Cholesterol [mmol/L]',\n",
       " 'Non_HDL Ratio',\n",
       " 'Neutrophil_Lymphocyte Ratio',\n",
       " 'Alpha-tocopherol [umol/L]',\n",
       " 'Osmolality [mmol/Kg]',\n",
       " 'Mean cell volume [fL]',\n",
       " 'Sodium [mmol/L]',\n",
       " 'Total Cholestrol_HDL Ratio',\n",
       " 'Total Iron Binding Capacity [umol/L]',\n",
       " 'Blood Urea Nitrogen [mg/dL]',\n",
       " 'Chloride [mmol/L]',\n",
       " 'Mean cell hemoglobin [pg]',\n",
       " 'RBC count [million cells/uL]',\n",
       " 'Total Protein [g/dL]',\n",
       " 'Total Calcium [mg/dL]',\n",
       " 'A/G Ratio',\n",
       " 'Potassium [mmol/L]',\n",
       " 'Uric Acid [mg/dL]',\n",
       " 'Lactate Dehydrogenase [IU/L]',\n",
       " 'Transferrin Saturation [%]',\n",
       " 'Mean platelet volume [fL]']"
      ]
     },
     "execution_count": 18,
     "metadata": {},
     "output_type": "execute_result"
    }
   ],
   "source": [
    "relieff_features[:30]"
   ]
  },
  {
   "cell_type": "code",
   "execution_count": 19,
   "id": "8f76d0da",
   "metadata": {},
   "outputs": [
    {
     "name": "stdout",
     "output_type": "stream",
     "text": [
      "\n",
      "Train Accuracy: 0.937\n",
      "\n",
      "Test Accuracy: 0.938\n",
      "\n",
      "Precision: 0.902\n",
      "\n",
      "Recall: 0.612\n",
      "\n",
      "F1-Score: 0.729\n"
     ]
    }
   ],
   "source": [
    "ml.evaluate_feature_set(relieff_features[:30], svm_classifier_test, X_train, y_train, X_val, y_val)"
   ]
  },
  {
   "cell_type": "markdown",
   "id": "281f4770",
   "metadata": {},
   "source": [
    "### Optimal no. of features"
   ]
  },
  {
   "cell_type": "code",
   "execution_count": 20,
   "id": "401e3bfd",
   "metadata": {},
   "outputs": [
    {
     "name": "stdout",
     "output_type": "stream",
     "text": [
      "\n",
      "Maximum accuracy = 0.9362 for 70 features\n"
     ]
    },
    {
     "data": {
      "image/png": "[encoded data removed]",
      "text/plain": [
       "<Figure size 1000x700 with 1 Axes>"
      ]
     },
     "metadata": {},
     "output_type": "display_data"
    }
   ],
   "source": [
    "# Optimal no. of features\n",
    "\n",
    "final_features = list(relieff_features) \n",
    "\n",
    "ml.plot_num_feature_performance(svm_classifier_test,  X, y, final_features, scoring='accuracy')"
   ]
  },
  {
   "cell_type": "code",
   "execution_count": 24,
   "id": "4aaf5159",
   "metadata": {},
   "outputs": [
    {
     "name": "stdout",
     "output_type": "stream",
     "text": [
      "\n",
      "Maximum f1 = 0.7046 for 73 features\n"
     ]
    },
    {
     "data": {
      "image/png": "[encoded data removed]",
      "text/plain": [
       "<Figure size 1000x700 with 1 Axes>"
      ]
     },
     "metadata": {},
     "output_type": "display_data"
    }
   ],
   "source": [
    "# Optimal no. of features\n",
    "\n",
    "ml.plot_num_feature_performance(svm_classifier_test,  X, y, final_features, scoring='f1')"
   ]
  },
  {
   "cell_type": "code",
   "execution_count": 25,
   "id": "cdd1c71c",
   "metadata": {},
   "outputs": [
    {
     "name": "stdout",
     "output_type": "stream",
     "text": [
      "\n",
      "Maximum recall = 0.5824 for 73 features\n"
     ]
    },
    {
     "data": {
      "image/png": "[encoded data removed]",
      "text/plain": [
       "<Figure size 1000x700 with 1 Axes>"
      ]
     },
     "metadata": {},
     "output_type": "display_data"
    }
   ],
   "source": [
    "# Optimal no. of features\n",
    "\n",
    "ml.plot_num_feature_performance(svm_classifier_test,  X, y, final_features, scoring='recall')"
   ]
  },
  {
   "cell_type": "code",
   "execution_count": 26,
   "id": "27de64c6",
   "metadata": {},
   "outputs": [],
   "source": [
    "num_features = 73\n",
    "\n",
    "selected = final_features[:num_features]\n",
    "selected.append('Diabetes')\n",
    "\n",
    "diabetes_df = diabetes_df[selected]"
   ]
  },
  {
   "cell_type": "markdown",
   "id": "cd4a3a33",
   "metadata": {},
   "source": [
    "## Preprocessing"
   ]
  },
  {
   "cell_type": "markdown",
   "id": "32c7f0b2",
   "metadata": {},
   "source": [
    "### Zero Imputation"
   ]
  },
  {
   "cell_type": "code",
   "execution_count": 27,
   "id": "24b09db9",
   "metadata": {},
   "outputs": [],
   "source": [
    "# Imputing null values with zeroes\n",
    "\n",
    "X, y, X_train, X_val, X_test, y_train, y_val, y_test = ml.preprocess_and_split(df = diabetes_df, label = 'Diabetes',\n",
    "                                                        impute = True, scale=True,\n",
    "                                                        imputer=ml.SimpleImputer(strategy='constant',fill_value=0),\n",
    "                                                        random_state=42)"
   ]
  },
  {
   "cell_type": "code",
   "execution_count": 28,
   "id": "4c234679",
   "metadata": {},
   "outputs": [
    {
     "name": "stdout",
     "output_type": "stream",
     "text": [
      "\n",
      "Train Accuracy: 0.926\n",
      "\n",
      "Test Accuracy: 0.924\n",
      "\n",
      "Precision: 0.873\n",
      "\n",
      "Recall: 0.512\n",
      "\n",
      "F1-Score: 0.646\n"
     ]
    }
   ],
   "source": [
    "svm_classifier.fit(X_train, y_train)\n",
    "\n",
    "ml.evaluate_model_metrics(svm_classifier,X_train,y_train,X_val,y_val)"
   ]
  },
  {
   "cell_type": "markdown",
   "id": "1877522f",
   "metadata": {},
   "source": [
    "### Mode Imputation"
   ]
  },
  {
   "cell_type": "code",
   "execution_count": 29,
   "id": "fcca0b91",
   "metadata": {},
   "outputs": [],
   "source": [
    "# Imputing with most frequent values\n",
    "\n",
    "X, y, X_train, X_val, X_test, y_train, y_val, y_test = ml.preprocess_and_split(df = diabetes_df, label = 'Diabetes',\n",
    "                                                              impute = True, scale=True,\n",
    "                                                              imputer=ml.SimpleImputer(strategy='most_frequent'),\n",
    "                                                              random_state=42)"
   ]
  },
  {
   "cell_type": "code",
   "execution_count": 30,
   "id": "43855037",
   "metadata": {},
   "outputs": [
    {
     "name": "stdout",
     "output_type": "stream",
     "text": [
      "\n",
      "Train Accuracy: 0.935\n",
      "\n",
      "Test Accuracy: 0.934\n",
      "\n",
      "Precision: 0.890\n",
      "\n",
      "Recall: 0.585\n",
      "\n",
      "F1-Score: 0.706\n"
     ]
    }
   ],
   "source": [
    "svm_classifier.fit(X_train, y_train)\n",
    "\n",
    "ml.evaluate_model_metrics(svm_classifier,X_train,y_train,X_val,y_val)"
   ]
  },
  {
   "cell_type": "markdown",
   "id": "8484c25a",
   "metadata": {},
   "source": [
    "### k-NN Imputation"
   ]
  },
  {
   "cell_type": "code",
   "execution_count": 31,
   "id": "288ec08b",
   "metadata": {},
   "outputs": [],
   "source": [
    "# Imputing missing values with values from the k-nearest neighbors in the feature space\n",
    "\n",
    "X, y, X_train, X_val, X_test, y_train, y_val, y_test = ml.preprocess_and_split(df = diabetes_df, label = 'Diabetes',\n",
    "                                                              impute = True, scale=True,\n",
    "                                                              imputer=ml.KNNImputer(n_neighbors=20),\n",
    "                                                              random_state=42)"
   ]
  },
  {
   "cell_type": "code",
   "execution_count": 32,
   "id": "d03244a8",
   "metadata": {},
   "outputs": [
    {
     "name": "stdout",
     "output_type": "stream",
     "text": [
      "\n",
      "Train Accuracy: 0.931\n",
      "\n",
      "Test Accuracy: 0.929\n",
      "\n",
      "Precision: 0.872\n",
      "\n",
      "Recall: 0.564\n",
      "\n",
      "F1-Score: 0.685\n"
     ]
    }
   ],
   "source": [
    "svm_classifier.fit(X_train, y_train)\n",
    "\n",
    "ml.evaluate_model_metrics(svm_classifier,X_train,y_train,X_val,y_val)"
   ]
  },
  {
   "cell_type": "markdown",
   "id": "e8c1a99e",
   "metadata": {},
   "source": [
    "### Multiple Imputation by Chained Equations (MICE)"
   ]
  },
  {
   "cell_type": "code",
   "execution_count": 33,
   "id": "d78c9b6a",
   "metadata": {},
   "outputs": [],
   "source": [
    "# Imputes by looking at data from other columns and trying to estimate the best prediction for each missing value.\n",
    "\n",
    "X, y, X_train, X_val, X_test, y_train, y_val, y_test = ml.preprocess_and_split(df = diabetes_df, label = 'Diabetes',\n",
    "                                                              impute = True, scale=True,\n",
    "                                                              imputer=ml.IterativeImputer(max_iter=20),\n",
    "                                                              random_state=42)"
   ]
  },
  {
   "cell_type": "code",
   "execution_count": 34,
   "id": "78e0324b",
   "metadata": {},
   "outputs": [
    {
     "name": "stdout",
     "output_type": "stream",
     "text": [
      "\n",
      "Train Accuracy: 0.928\n",
      "\n",
      "Test Accuracy: 0.927\n",
      "\n",
      "Precision: 0.884\n",
      "\n",
      "Recall: 0.537\n",
      "\n",
      "F1-Score: 0.668\n"
     ]
    }
   ],
   "source": [
    "svm_classifier.fit(X_train, y_train)\n",
    "\n",
    "ml.evaluate_model_metrics(svm_classifier,X_train,y_train,X_val,y_val)"
   ]
  },
  {
   "cell_type": "markdown",
   "id": "dc71288f",
   "metadata": {},
   "source": [
    "### Median Imputation"
   ]
  },
  {
   "cell_type": "code",
   "execution_count": 35,
   "id": "648640e9",
   "metadata": {},
   "outputs": [],
   "source": [
    "# Imputing with median values\n",
    "\n",
    "X, y, X_train, X_val, X_test, y_train, y_val, y_test = ml.preprocess_and_split(df = diabetes_df, label = 'Diabetes',\n",
    "                                                              impute = True, scale=True,\n",
    "                                                              imputer=ml.SimpleImputer(strategy='median'),\n",
    "                                                              random_state=42)"
   ]
  },
  {
   "cell_type": "code",
   "execution_count": 36,
   "id": "188ab3fd",
   "metadata": {},
   "outputs": [
    {
     "name": "stdout",
     "output_type": "stream",
     "text": [
      "\n",
      "Train Accuracy: 0.936\n",
      "\n",
      "Test Accuracy: 0.935\n",
      "\n",
      "Precision: 0.882\n",
      "\n",
      "Recall: 0.601\n",
      "\n",
      "F1-Score: 0.715\n"
     ]
    }
   ],
   "source": [
    "svm_classifier.fit(X_train, y_train)\n",
    "\n",
    "ml.evaluate_model_metrics(svm_classifier,X_train,y_train,X_val,y_val)"
   ]
  },
  {
   "cell_type": "markdown",
   "id": "ecf3258f",
   "metadata": {},
   "source": [
    "### Mean Imputation"
   ]
  },
  {
   "cell_type": "code",
   "execution_count": 37,
   "id": "cf825805",
   "metadata": {},
   "outputs": [],
   "source": [
    "# Splitting and Preprocessing data\n",
    "\n",
    "X, y, X_train, X_val, X_test, y_train, y_val, y_test = ml.preprocess_and_split(df = diabetes_df, label = 'Diabetes',\n",
    "                                                              impute = True, scale=True,\n",
    "                                                              imputer=ml.SimpleImputer(strategy='mean'),\n",
    "                                                              random_state=42)"
   ]
  },
  {
   "cell_type": "code",
   "execution_count": 38,
   "id": "c4eb9258",
   "metadata": {},
   "outputs": [
    {
     "name": "stdout",
     "output_type": "stream",
     "text": [
      "\n",
      "Train Accuracy: 0.937\n",
      "\n",
      "Test Accuracy: 0.937\n",
      "\n",
      "Precision: 0.896\n",
      "\n",
      "Recall: 0.605\n",
      "\n",
      "F1-Score: 0.723\n"
     ]
    }
   ],
   "source": [
    "svm_classifier.fit(X_train, y_train)\n",
    "\n",
    "ml.evaluate_model_metrics(svm_classifier,X_train,y_train,X_val,y_val)"
   ]
  },
  {
   "cell_type": "markdown",
   "id": "5bd39f86",
   "metadata": {},
   "source": [
    "### Dropping Null Values"
   ]
  },
  {
   "cell_type": "code",
   "execution_count": 39,
   "id": "2a0f7318",
   "metadata": {
    "scrolled": true
   },
   "outputs": [],
   "source": [
    "# Drop null values\n",
    "diabetes_df_na = diabetes_df.dropna()\n",
    "\n",
    "X, y, X_train, X_val, X_test, y_train, y_val, y_test = ml.preprocess_and_split(df = diabetes_df_na, label = 'Diabetes',\n",
    "                                                              impute = False, scale=True,\n",
    "                                                              random_state=42)"
   ]
  },
  {
   "cell_type": "code",
   "execution_count": 40,
   "id": "f3c46212",
   "metadata": {},
   "outputs": [
    {
     "name": "stdout",
     "output_type": "stream",
     "text": [
      "\n",
      "Train Accuracy: 0.914\n",
      "\n",
      "Test Accuracy: 0.908\n",
      "\n",
      "Precision: 0.954\n",
      "\n",
      "Recall: 0.767\n",
      "\n",
      "F1-Score: 0.850\n"
     ]
    }
   ],
   "source": [
    "svm_classifier.fit(X_train, y_train)\n",
    "\n",
    "ml.evaluate_model_metrics(svm_classifier,X_train,y_train,X_val,y_val)"
   ]
  },
  {
   "cell_type": "markdown",
   "id": "d4f3c7a0",
   "metadata": {},
   "source": [
    "## Oversampling and Undersampling"
   ]
  },
  {
   "cell_type": "markdown",
   "id": "f2ab083d",
   "metadata": {},
   "source": [
    "### Random Oversampling"
   ]
  },
  {
   "cell_type": "code",
   "execution_count": 41,
   "id": "61c3f573",
   "metadata": {
    "scrolled": false
   },
   "outputs": [
    {
     "name": "stdout",
     "output_type": "stream",
     "text": [
      "\n",
      "Train Accuracy: 0.891\n",
      "\n",
      "Test Accuracy: 0.889\n",
      "\n",
      "Precision: 0.844\n",
      "\n",
      "Recall: 0.828\n",
      "\n",
      "F1-Score: 0.836\n"
     ]
    }
   ],
   "source": [
    "X_ros, y_ros = ml.random_over_sample(X_train, y_train)\n",
    "\n",
    "svm_classifier.fit(X_ros, y_ros)\n",
    "\n",
    "ml.evaluate_model_metrics(svm_classifier,X_ros, y_ros,X_val, y_val)"
   ]
  },
  {
   "cell_type": "markdown",
   "id": "55cc4ab2",
   "metadata": {},
   "source": [
    "### SMOTE (Synthetic Minority Over-sampling Technique)"
   ]
  },
  {
   "cell_type": "code",
   "execution_count": 42,
   "id": "5ed6c6b3",
   "metadata": {
    "scrolled": false
   },
   "outputs": [
    {
     "name": "stdout",
     "output_type": "stream",
     "text": [
      "\n",
      "Train Accuracy: 0.906\n",
      "\n",
      "Test Accuracy: 0.895\n",
      "\n",
      "Precision: 0.869\n",
      "\n",
      "Recall: 0.816\n",
      "\n",
      "F1-Score: 0.842\n"
     ]
    }
   ],
   "source": [
    "X_smote, y_smote = ml.smote_over_sample(X_train, y_train)\n",
    "\n",
    "svm_classifier.fit(X_smote, y_smote)\n",
    "\n",
    "ml.evaluate_model_metrics(svm_classifier,X_smote, y_smote,X_val, y_val)"
   ]
  },
  {
   "cell_type": "markdown",
   "id": "0532ee8b",
   "metadata": {},
   "source": [
    "### Random Undersampling"
   ]
  },
  {
   "cell_type": "code",
   "execution_count": 43,
   "id": "5286090b",
   "metadata": {
    "scrolled": false
   },
   "outputs": [
    {
     "name": "stdout",
     "output_type": "stream",
     "text": [
      "\n",
      "Train Accuracy: 0.866\n",
      "\n",
      "Test Accuracy: 0.870\n",
      "\n",
      "Precision: 0.818\n",
      "\n",
      "Recall: 0.798\n",
      "\n",
      "F1-Score: 0.807\n"
     ]
    }
   ],
   "source": [
    "X_rus, y_rus = ml.random_under_sample(X_train, y_train)\n",
    "\n",
    "svm_classifier.fit(X_rus, y_rus)\n",
    "\n",
    "ml.evaluate_model_metrics(svm_classifier,X_rus, y_rus,X_val, y_val)"
   ]
  },
  {
   "cell_type": "markdown",
   "id": "6defa173",
   "metadata": {},
   "source": [
    "### Tomek Links"
   ]
  },
  {
   "cell_type": "code",
   "execution_count": 44,
   "id": "f4fa6ccf",
   "metadata": {
    "scrolled": false
   },
   "outputs": [
    {
     "name": "stdout",
     "output_type": "stream",
     "text": [
      "\n",
      "Train Accuracy: 0.911\n",
      "\n",
      "Test Accuracy: 0.904\n",
      "\n",
      "Precision: 0.940\n",
      "\n",
      "Recall: 0.767\n",
      "\n",
      "F1-Score: 0.845\n"
     ]
    }
   ],
   "source": [
    "X_tomek, y_tomek = ml.tomek_links(X_train, y_train)\n",
    "\n",
    "svm_classifier.fit(X_tomek, y_tomek)\n",
    "\n",
    "ml.evaluate_model_metrics(svm_classifier,X_tomek, y_tomek,X_val, y_val)"
   ]
  },
  {
   "cell_type": "markdown",
   "id": "111c9c16",
   "metadata": {},
   "source": [
    "### SMOTE + Tomek Links"
   ]
  },
  {
   "cell_type": "code",
   "execution_count": 45,
   "id": "753149c7",
   "metadata": {
    "scrolled": false
   },
   "outputs": [
    {
     "name": "stdout",
     "output_type": "stream",
     "text": [
      "\n",
      "Train Accuracy: 0.904\n",
      "\n",
      "Test Accuracy: 0.893\n",
      "\n",
      "Precision: 0.864\n",
      "\n",
      "Recall: 0.816\n",
      "\n",
      "F1-Score: 0.839\n"
     ]
    }
   ],
   "source": [
    "X_smote_tomek, y_smote_tomek = ml.smote_tomek(X_train, y_train)\n",
    "\n",
    "svm_classifier.fit(X_smote_tomek, y_smote_tomek)\n",
    "\n",
    "ml.evaluate_model_metrics(svm_classifier,X_smote_tomek, y_smote_tomek,X_val, y_val)"
   ]
  },
  {
   "cell_type": "code",
   "execution_count": 46,
   "id": "1f3a2dd8",
   "metadata": {},
   "outputs": [],
   "source": [
    "# Model seems to perform better without oversampling or undersampling"
   ]
  },
  {
   "cell_type": "markdown",
   "id": "9bda7751",
   "metadata": {},
   "source": [
    "## Hyperparameter Optimization "
   ]
  },
  {
   "cell_type": "markdown",
   "id": "a8911f34",
   "metadata": {},
   "source": [
    "### Grid Search"
   ]
  },
  {
   "cell_type": "code",
   "execution_count": 47,
   "id": "8bbd1f7f",
   "metadata": {},
   "outputs": [],
   "source": [
    "param_grid = {\n",
    "    \n",
    "    'C': [0.001, 0.01, 0.1, 1, 10, 100],  \n",
    "    'loss': ['hinge', 'squared_hinge'],\n",
    "    'penalty': ['l1', 'l2'],\n",
    "    'dual': [False], \n",
    "    'class_weight': [None, 'balanced'] \n",
    "\n",
    "}"
   ]
  },
  {
   "cell_type": "code",
   "execution_count": 48,
   "id": "1b862359",
   "metadata": {},
   "outputs": [],
   "source": [
    "grid_best_params, svm_classifier_grid = ml.grid_search_optimize(svm_classifier, param_grid, X_train, \n",
    "                                                                y_train, cv=10,scoring='accuracy')"
   ]
  },
  {
   "cell_type": "code",
   "execution_count": 49,
   "id": "86a4a7b5",
   "metadata": {},
   "outputs": [
    {
     "data": {
      "text/plain": [
       "{'C': 0.1,\n",
       " 'class_weight': None,\n",
       " 'dual': False,\n",
       " 'loss': 'squared_hinge',\n",
       " 'penalty': 'l1'}"
      ]
     },
     "execution_count": 49,
     "metadata": {},
     "output_type": "execute_result"
    }
   ],
   "source": [
    "grid_best_params"
   ]
  },
  {
   "cell_type": "code",
   "execution_count": 50,
   "id": "2268aff4",
   "metadata": {},
   "outputs": [
    {
     "name": "stdout",
     "output_type": "stream",
     "text": [
      "\n",
      "Train Accuracy: 0.914\n",
      "\n",
      "Test Accuracy: 0.906\n",
      "\n",
      "Precision: 0.961\n",
      "\n",
      "Recall: 0.755\n",
      "\n",
      "F1-Score: 0.845\n"
     ]
    }
   ],
   "source": [
    "ml.evaluate_model_metrics(svm_classifier_grid,X_train,y_train,X_val,y_val)"
   ]
  },
  {
   "cell_type": "markdown",
   "id": "8458e5a6",
   "metadata": {},
   "source": [
    "### Random Search"
   ]
  },
  {
   "cell_type": "code",
   "execution_count": 51,
   "id": "cc4fcfeb",
   "metadata": {},
   "outputs": [],
   "source": [
    "rand_best_params, svm_classifier_rand = ml.random_search_optimize(svm_classifier,param_grid,n_iter=100,cv=5,\n",
    "                                                               X_train=X_train, y_train=y_train,\n",
    "                                                               scoring='accuracy')"
   ]
  },
  {
   "cell_type": "code",
   "execution_count": 52,
   "id": "a3aca564",
   "metadata": {},
   "outputs": [
    {
     "data": {
      "text/plain": [
       "{'penalty': 'l1',\n",
       " 'loss': 'squared_hinge',\n",
       " 'dual': False,\n",
       " 'class_weight': None,\n",
       " 'C': 10}"
      ]
     },
     "execution_count": 52,
     "metadata": {},
     "output_type": "execute_result"
    }
   ],
   "source": [
    "rand_best_params"
   ]
  },
  {
   "cell_type": "code",
   "execution_count": 53,
   "id": "0c27dea7",
   "metadata": {},
   "outputs": [
    {
     "name": "stdout",
     "output_type": "stream",
     "text": [
      "\n",
      "Train Accuracy: 0.912\n",
      "\n",
      "Test Accuracy: 0.904\n",
      "\n",
      "Precision: 0.940\n",
      "\n",
      "Recall: 0.767\n",
      "\n",
      "F1-Score: 0.845\n"
     ]
    }
   ],
   "source": [
    "ml.evaluate_model_metrics(svm_classifier_rand,X_train,y_train,X_val,y_val)"
   ]
  },
  {
   "cell_type": "markdown",
   "id": "7d6294a4",
   "metadata": {},
   "source": [
    "### Optuna"
   ]
  },
  {
   "cell_type": "code",
   "execution_count": 54,
   "id": "ae722921",
   "metadata": {},
   "outputs": [],
   "source": [
    "def objective(trial):\n",
    "\n",
    "    C = trial.suggest_loguniform('C', 1e-5, 1e3)\n",
    "    loss = trial.suggest_categorical('loss', ['hinge', 'squared_hinge'])\n",
    "    penalty = trial.suggest_categorical('penalty', ['l1', 'l2'])\n",
    "    class_weight = trial.suggest_categorical('class_weight', [None, 'balanced'])\n",
    "    dual = False\n",
    "    \n",
    "    if penalty == 'l1' or penalty == 'l2' and loss == 'hinge':\n",
    "        raise ml.optuna.TrialPruned()\n",
    "\n",
    "    model = LinearSVC(C=C, loss=loss, penalty=penalty, class_weight=class_weight, dual=dual, random_state=42)\n",
    "            \n",
    "    model.fit(X_train, y_train)\n",
    "    y_pred = model.predict(X_test)\n",
    "\n",
    "    accuracy = ml.accuracy_score(y_test, y_pred)\n",
    "\n",
    "    return accuracy"
   ]
  },
  {
   "cell_type": "code",
   "execution_count": 55,
   "id": "e7e379fd",
   "metadata": {},
   "outputs": [],
   "source": [
    "best_trial , svm_classifier_opt = ml.optuna_optimize(objective, LinearSVC, n_trials=150)"
   ]
  },
  {
   "cell_type": "code",
   "execution_count": 56,
   "id": "b9b8c5b6",
   "metadata": {},
   "outputs": [
    {
     "data": {
      "text/plain": [
       "{'C': 72.95630802194573,\n",
       " 'loss': 'squared_hinge',\n",
       " 'penalty': 'l2',\n",
       " 'class_weight': None}"
      ]
     },
     "execution_count": 56,
     "metadata": {},
     "output_type": "execute_result"
    }
   ],
   "source": [
    "best_trial"
   ]
  },
  {
   "cell_type": "code",
   "execution_count": 57,
   "id": "9e3a828c",
   "metadata": {},
   "outputs": [
    {
     "name": "stdout",
     "output_type": "stream",
     "text": [
      "\n",
      "Train Accuracy: 0.872\n",
      "\n",
      "Test Accuracy: 0.854\n",
      "\n",
      "Precision: 0.785\n",
      "\n",
      "Recall: 0.785\n",
      "\n",
      "F1-Score: 0.785\n"
     ]
    }
   ],
   "source": [
    "svm_classifier_opt.fit(X_train,y_train)\n",
    "\n",
    "ml.evaluate_model_metrics(svm_classifier_opt,X_train,y_train,X_val,y_val)"
   ]
  },
  {
   "cell_type": "markdown",
   "id": "0d9910b8",
   "metadata": {},
   "source": [
    "## Evaluation on Test Set"
   ]
  },
  {
   "cell_type": "code",
   "execution_count": 67,
   "id": "d53424ec",
   "metadata": {},
   "outputs": [
    {
     "name": "stdout",
     "output_type": "stream",
     "text": [
      "\n",
      "Train Accuracy: 0.904\n",
      "\n",
      "Test Accuracy: 0.906\n",
      "\n",
      "Precision: 0.905\n",
      "\n",
      "Recall: 0.776\n",
      "\n",
      "F1-Score: 0.835\n",
      "\n",
      "Confusion Matrix:\n",
      "\n",
      "[[319  12]\n",
      " [ 33 114]]\n",
      "\n",
      "\n",
      "Classification Report:\n",
      "\n",
      "              precision    recall  f1-score   support\n",
      "\n",
      "     Class 0       0.91      0.96      0.93       331\n",
      "     Class 1       0.90      0.78      0.84       147\n",
      "\n",
      "    accuracy                           0.91       478\n",
      "   macro avg       0.91      0.87      0.88       478\n",
      "weighted avg       0.91      0.91      0.90       478\n",
      "\n",
      "\n",
      "ROC-AUC Curve:\n"
     ]
    },
    {
     "data": {
      "image/png": "[encoded data removed]",
      "text/plain": [
       "<Figure size 600x400 with 1 Axes>"
      ]
     },
     "metadata": {},
     "output_type": "display_data"
    }
   ],
   "source": [
    "# After evaluating on the validation set, we evaluate and finalize on the test set\n",
    "\n",
    "ml.evaluate_model_metrics(svm_classifier_grid, X_train, y_train, X_test, y_test, verbose=6)"
   ]
  },
  {
   "cell_type": "markdown",
   "id": "e7b5c88c",
   "metadata": {},
   "source": [
    "## Cross Validation"
   ]
  },
  {
   "cell_type": "markdown",
   "id": "7e539fb9",
   "metadata": {},
   "source": [
    "### K-fold"
   ]
  },
  {
   "cell_type": "code",
   "execution_count": 58,
   "id": "e77a24f0",
   "metadata": {},
   "outputs": [
    {
     "name": "stdout",
     "output_type": "stream",
     "text": [
      "\n",
      "accuracy scores: [0.88333333 0.93333333 0.90833333 0.88333333 0.86666667 0.9\n",
      " 0.87394958 0.93277311 0.8907563  0.86554622]\n",
      "\n",
      "Mean accuracy score:  0.8938025210084033\n",
      "\n",
      "Standard deviation:  0.023427216752621337\n"
     ]
    }
   ],
   "source": [
    "ml.k_cross_validate(svm_classifier,X,y,cv=10,scoring='accuracy')"
   ]
  },
  {
   "cell_type": "code",
   "execution_count": 59,
   "id": "4aad10b7",
   "metadata": {},
   "outputs": [
    {
     "name": "stdout",
     "output_type": "stream",
     "text": [
      "\n",
      "accuracy scores: [0.90833333 0.93333333 0.9        0.89166667 0.88333333 0.90833333\n",
      " 0.88235294 0.92436975 0.8907563  0.8487395 ]\n",
      "\n",
      "Mean accuracy score:  0.8971218487394959\n",
      "\n",
      "Standard deviation:  0.022655624483386348\n"
     ]
    }
   ],
   "source": [
    "ml.k_cross_validate(svm_classifier_grid,X,y,cv=10,scoring='accuracy')"
   ]
  },
  {
   "cell_type": "code",
   "execution_count": 60,
   "id": "fa6ff1f4",
   "metadata": {},
   "outputs": [
    {
     "name": "stdout",
     "output_type": "stream",
     "text": [
      "\n",
      "accuracy scores: [0.86666667 0.93333333 0.90833333 0.88333333 0.875      0.90833333\n",
      " 0.87394958 0.93277311 0.8907563  0.85714286]\n",
      "\n",
      "Mean accuracy score:  0.8929621848739495\n",
      "\n",
      "Standard deviation:  0.02538397563187668\n"
     ]
    }
   ],
   "source": [
    "ml.k_cross_validate(svm_classifier_rand,X,y,cv=10,scoring='accuracy')"
   ]
  },
  {
   "cell_type": "code",
   "execution_count": 61,
   "id": "46f81577",
   "metadata": {},
   "outputs": [
    {
     "name": "stdout",
     "output_type": "stream",
     "text": [
      "\n",
      "accuracy scores: [0.85833333 0.83333333 0.80833333 0.74166667 0.79166667 0.85\n",
      " 0.87394958 0.88235294 0.82352941 0.82352941]\n",
      "\n",
      "Mean accuracy score:  0.8286694677871148\n",
      "\n",
      "Standard deviation:  0.03961563509185757\n"
     ]
    }
   ],
   "source": [
    "ml.k_cross_validate(svm_classifier_opt,X,y,cv=10,scoring='accuracy')"
   ]
  },
  {
   "cell_type": "markdown",
   "id": "ad831ffc",
   "metadata": {},
   "source": [
    "### Stratified K-fold"
   ]
  },
  {
   "cell_type": "code",
   "execution_count": 62,
   "id": "29a48b89",
   "metadata": {},
   "outputs": [
    {
     "name": "stdout",
     "output_type": "stream",
     "text": [
      "\n",
      "Average Accuracy: 0.8955042016806722\n",
      "\n",
      "Average Precision: 0.8902226573696227\n",
      "\n",
      "Average Recall: 0.7763157894736843\n",
      "\n",
      "Average F1-Score: 0.828347286536353\n"
     ]
    }
   ],
   "source": [
    "ml.stratified_k_cross_validate(svm_classifier,X,y,n_splits=10)"
   ]
  },
  {
   "cell_type": "code",
   "execution_count": 63,
   "id": "e0f6f6d6",
   "metadata": {},
   "outputs": [
    {
     "name": "stdout",
     "output_type": "stream",
     "text": [
      "\n",
      "Average Accuracy: 0.8988305322128852\n",
      "\n",
      "Average Precision: 0.9160852578131988\n",
      "\n",
      "Average Recall: 0.7609986504723347\n",
      "\n",
      "Average F1-Score: 0.8298526424626494\n"
     ]
    }
   ],
   "source": [
    "ml.stratified_k_cross_validate(svm_classifier_grid,X,y,n_splits=10)"
   ]
  },
  {
   "cell_type": "code",
   "execution_count": 64,
   "id": "5aa2c58d",
   "metadata": {},
   "outputs": [
    {
     "name": "stdout",
     "output_type": "stream",
     "text": [
      "\n",
      "Average Accuracy: 0.8946708683473389\n",
      "\n",
      "Average Precision: 0.8875142881906652\n",
      "\n",
      "Average Recall: 0.7763157894736843\n",
      "\n",
      "Average F1-Score: 0.8272548646263391\n"
     ]
    }
   ],
   "source": [
    "ml.stratified_k_cross_validate(svm_classifier_rand,X,y,n_splits=10)"
   ]
  },
  {
   "cell_type": "code",
   "execution_count": 65,
   "id": "2c1453da",
   "metadata": {},
   "outputs": [
    {
     "name": "stdout",
     "output_type": "stream",
     "text": [
      "\n",
      "Average Accuracy: 0.8268977591036414\n",
      "\n",
      "Average Precision: 0.7316627935937399\n",
      "\n",
      "Average Recall: 0.7529689608636977\n",
      "\n",
      "Average F1-Score: 0.7389446933892982\n"
     ]
    }
   ],
   "source": [
    "ml.stratified_k_cross_validate(svm_classifier_opt,X,y,n_splits=10)"
   ]
  },
  {
   "cell_type": "markdown",
   "id": "7a471ca4",
   "metadata": {},
   "source": [
    "### Save Model"
   ]
  },
  {
   "cell_type": "code",
   "execution_count": 76,
   "id": "6e89475b",
   "metadata": {},
   "outputs": [],
   "source": [
    "final_svm_estimator = svm_classifier_grid"
   ]
  },
  {
   "cell_type": "code",
   "execution_count": 77,
   "id": "ea9c37ae",
   "metadata": {},
   "outputs": [
    {
     "name": "stdout",
     "output_type": "stream",
     "text": [
      "Overwrite File? [y/n]: y\n",
      "Saved Model\n"
     ]
    }
   ],
   "source": [
    "# Saving the model\n",
    "\n",
    "ml.save_model(final_svm_estimator, \"../Models/Diabetes/SVM.pkl\")"
   ]
  },
  {
   "cell_type": "markdown",
   "id": "de59f229",
   "metadata": {},
   "source": [
    "## Prediction"
   ]
  },
  {
   "cell_type": "code",
   "execution_count": 73,
   "id": "67af8316",
   "metadata": {},
   "outputs": [
    {
     "name": "stdout",
     "output_type": "stream",
     "text": [
      "Instance:\n",
      " [ 0.03327166 -0.48576878 -0.11416641  0.85184756  0.12766791 -0.57417497\n",
      " -0.32457844 -1.0342994   0.74007503 -0.04245144 -0.13581759  0.29113305\n",
      " -0.21968732 -0.4320737  -0.74005003  0.15098147 -0.41453261  0.43165421\n",
      " -0.48261476  0.27725441 -1.20323658  0.58870806  0.71134842  0.4244998\n",
      "  0.02840705 -0.52315528 -0.65741982  0.77053803 -1.00196643  1.97497651\n",
      "  0.6877942   0.89942581  0.69888602  0.87053277  0.03754578 -0.98170337\n",
      "  0.21075254  0.14109818 -0.92089803  0.90220379  0.18249826 -0.82585482\n",
      "  0.19146201  1.28966887  0.25015178 -0.25187163 -0.37399371 -0.27689376\n",
      "  1.75764423  0.05145611  0.55350706 -0.08124788 -1.89345104 -0.73186685\n",
      " -0.89453465 -0.32604832  0.66884347 -0.16406468 -0.34513819  0.14034887\n",
      "  0.15005815 -0.08798924 -0.64294057 -0.28604548  1.84187676 -0.17292124\n",
      " -0.66666441 -0.3691085   0.20824099 -0.72836822  0.17127506  0.21999472\n",
      "  1.09123124]\n",
      "\n",
      "Expected Class:  0\n",
      "\n",
      " Modified Instance:\n",
      " [ 3.32716598e-02 -3.89771053e-01 -1.87319676e-01  6.42737851e-01\n",
      " -1.13370531e-01 -6.60522872e-01 -2.28766187e-01 -9.91707934e-01\n",
      "  8.57770956e-01  2.01288849e-01  2.36821692e-02  5.70687644e-01\n",
      " -2.06980497e-01 -5.79944845e-01 -6.92435400e-01  1.99086871e-01\n",
      " -7.40231700e-01  3.28039250e-01 -5.03821355e-01  3.34565699e-01\n",
      " -8.81041046e-01  6.09029936e-01  4.69155014e-01  3.83832532e-01\n",
      " -2.88497626e-02 -6.45336491e-01 -4.65876629e-01  1.01844280e+00\n",
      " -9.59147198e-01  2.08436761e+00  5.64919620e-01  9.82773121e-01\n",
      "  8.37982123e-01  9.85767100e-01  1.48483961e-01 -1.06818623e+00\n",
      "  2.78907886e-01 -1.32532061e-02 -8.48845101e-01  8.97856028e-01\n",
      "  3.29580227e-01 -8.78330959e-01  2.39787037e-01  1.24136285e+00\n",
      "  1.46688616e-01 -2.67694713e-01 -5.21818014e-01  4.43097072e-02\n",
      "  1.78698119e+00  5.97480781e-02  4.18225129e-01 -1.32211354e-01\n",
      " -2.05725052e+00 -8.22405053e-01 -1.12614763e+00 -5.08114645e-01\n",
      "  5.91519752e-01 -1.93022035e-01 -1.34463028e-01  2.01403742e-01\n",
      "  1.38003278e-01 -1.48094112e-01 -9.93348184e-01 -1.51603550e-01\n",
      "  1.60669811e+00 -1.40537918e-01 -5.79443861e-01 -2.53392065e-01\n",
      "  4.89692158e-02 -7.25790802e-01  7.83723773e-02 -1.19953108e-03\n",
      "  1.06938767e+00]\n",
      "\n",
      "Predicted Class:  [0]\n"
     ]
    }
   ],
   "source": [
    "# Predicting on perturbed values\n",
    "\n",
    "ml.predict_on_modified_instance(final_svm_estimator, X_test.iloc[0], y_test.iloc[0], 0.4)"
   ]
  },
  {
   "cell_type": "code",
   "execution_count": 74,
   "id": "a39b8dfe",
   "metadata": {},
   "outputs": [
    {
     "name": "stdout",
     "output_type": "stream",
     "text": [
      "Instance:\n",
      " [-0.65076505  0.64947295  4.11188739  1.38888541 -0.99881082 -0.91588045\n",
      " -1.14747947 -0.04624588 -0.46362551 -0.67711321 -0.85909458  0.76746144\n",
      " -0.75351003  0.5608649  -1.24658568  0.51919138 -0.93894141  0.26389335\n",
      "  0.33980896  0.27725441 -1.36297747 -0.16272608  0.71134842  0.71028981\n",
      " -1.02733815 -0.2644194   2.03405994  0.62287646 -0.58232221 -0.23472276\n",
      "  0.08805984 -0.20271186 -0.53269929 -0.96785618  0.26357605 -0.50736226\n",
      " -0.64805592 -0.6769946  -0.51027372  0.50130798  1.07606209  0.84862494\n",
      " -0.52693398 -1.14747388  0.44392883  0.05403496  0.01086957 -0.83528115\n",
      " -0.97581221 -0.63202503 -0.08853636 -1.10717678 -0.98696506 -0.65979635\n",
      " -1.11721331  0.21716431 -0.18532632  0.96649158 -0.19819893  0.14034887\n",
      "  0.17430028 -0.02429587  0.13251753  0.21251328 -0.24334905 -0.17292124\n",
      " -1.12612518  0.31114803 -0.43236406 -1.01364784 -0.29789101 -0.47404649\n",
      "  1.62149649]\n",
      "\n",
      "Expected Class:  1\n",
      "\n",
      " Modified Instance:\n",
      " [-0.65076505  0.64093905  4.12845751  1.21755436 -1.16650861 -0.89893558\n",
      " -1.27238101 -0.11562199 -0.56521077 -0.95410864 -1.10820563  0.64185047\n",
      " -0.70395132  0.47382105 -1.36304095  0.98847956 -0.64097963  0.35495629\n",
      "  0.51051675  0.08726976 -1.30227594 -0.1374998   0.49110244  0.70261252\n",
      " -0.9138954  -0.38361085  1.96066762  0.52247536 -0.80113834  0.0284762\n",
      "  0.16102751  0.14064273 -0.68298061 -0.98448283  0.26004144 -0.49448627\n",
      " -0.80964609 -0.68291267 -0.52252031  0.52132665  1.1101321   1.08672325\n",
      " -0.37905308 -1.23162422  0.54592554 -0.03413549 -0.09497409 -0.81971688\n",
      " -0.94111967 -0.65723017 -0.18112494 -0.93115165 -1.02916738 -0.55631078\n",
      " -1.31513903  0.01260832 -0.26746045  0.79139321 -0.28112174  0.08153144\n",
      "  0.30836921 -0.11957165 -0.0242612   0.17538662 -0.23253782 -0.1498628\n",
      " -1.05925592  0.36084527 -0.45758966 -1.22212978 -0.18386372 -0.36393381\n",
      "  1.57382236]\n",
      "\n",
      "Predicted Class:  [1]\n"
     ]
    }
   ],
   "source": [
    "ml.predict_on_modified_instance(final_svm_estimator, X_test.iloc[1], y_test.iloc[1], 0.3)"
   ]
  }
 ],
 "metadata": {
  "kernelspec": {
   "display_name": "Python 3 (ipykernel)",
   "language": "python",
   "name": "python3"
  },
  "language_info": {
   "codemirror_mode": {
    "name": "ipython",
    "version": 3
   },
   "file_extension": ".py",
   "mimetype": "text/x-python",
   "name": "python",
   "nbconvert_exporter": "python",
   "pygments_lexer": "ipython3",
   "version": "3.10.12"
  }
 },
 "nbformat": 4,
 "nbformat_minor": 5
}
