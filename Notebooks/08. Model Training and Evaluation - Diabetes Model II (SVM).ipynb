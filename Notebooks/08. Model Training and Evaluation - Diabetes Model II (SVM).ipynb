{
 "cells": [
  {
   "cell_type": "markdown",
   "id": "d2acf9f1",
   "metadata": {},
   "source": [
    "# Support Vector Machine"
   ]
  },
  {
   "cell_type": "code",
   "execution_count": 2,
   "id": "5c1b7eb2",
   "metadata": {},
   "outputs": [],
   "source": [
    "import some_load_train_evaluate_functions as ml\n",
    "\n",
    "from sklearn.svm import LinearSVC"
   ]
  },
  {
   "cell_type": "code",
   "execution_count": 2,
   "id": "6b4433ef",
   "metadata": {},
   "outputs": [
    {
     "name": "stdout",
     "output_type": "stream",
     "text": [
      "Connected to database successfully.\n"
     ]
    }
   ],
   "source": [
    "path = '../KG/db.env'\n",
    "\n",
    "driver = ml.connect_to_neo4j(path)"
   ]
  },
  {
   "cell_type": "markdown",
   "id": "4016e569",
   "metadata": {},
   "source": [
    "### Load Data"
   ]
  },
  {
   "cell_type": "code",
   "execution_count": 3,
   "id": "76bbe0fe",
   "metadata": {},
   "outputs": [
    {
     "data": {
      "text/html": [
       "<div>\n",
       "<style scoped>\n",
       "    .dataframe tbody tr th:only-of-type {\n",
       "        vertical-align: middle;\n",
       "    }\n",
       "\n",
       "    .dataframe tbody tr th {\n",
       "        vertical-align: top;\n",
       "    }\n",
       "\n",
       "    .dataframe thead th {\n",
       "        text-align: right;\n",
       "    }\n",
       "</style>\n",
       "<table border=\"1\" class=\"dataframe\">\n",
       "  <thead>\n",
       "    <tr style=\"text-align: right;\">\n",
       "      <th></th>\n",
       "      <th>Respondent_ID</th>\n",
       "      <th>Gender</th>\n",
       "      <th>Age</th>\n",
       "      <th>BMI</th>\n",
       "      <th>25-hydroxyvitamin D2 + D3 [nmol/L]</th>\n",
       "      <th>A/G Ratio</th>\n",
       "      <th>Alpha-carotene [umol/L]</th>\n",
       "      <th>Alpha-crypotoxanthin [umol/L]</th>\n",
       "      <th>Alpha-tocopherol [umol/L]</th>\n",
       "      <th>Basophils [%]</th>\n",
       "      <th>...</th>\n",
       "      <th>Ferritin [ng/mL]</th>\n",
       "      <th>Gamma Glutamyl Transferase [IU/L]</th>\n",
       "      <th>Hemoglobin [g/dL]</th>\n",
       "      <th>Insulin [pmol/L]</th>\n",
       "      <th>LDL-Cholesterol(NIH2) [mmol/L]</th>\n",
       "      <th>Lactate Dehydrogenase [IU/L]</th>\n",
       "      <th>Transferrin Saturation [%]</th>\n",
       "      <th>Transferrin receptor [nmol/L]</th>\n",
       "      <th>Triglyceride [mmol/L]</th>\n",
       "      <th>Diabetes</th>\n",
       "    </tr>\n",
       "  </thead>\n",
       "  <tbody>\n",
       "    <tr>\n",
       "      <th>0</th>\n",
       "      <td>93703</td>\n",
       "      <td>0</td>\n",
       "      <td>2</td>\n",
       "      <td>17.5</td>\n",
       "      <td>NaN</td>\n",
       "      <td>NaN</td>\n",
       "      <td>NaN</td>\n",
       "      <td>NaN</td>\n",
       "      <td>NaN</td>\n",
       "      <td>NaN</td>\n",
       "      <td>...</td>\n",
       "      <td>NaN</td>\n",
       "      <td>NaN</td>\n",
       "      <td>NaN</td>\n",
       "      <td>NaN</td>\n",
       "      <td>NaN</td>\n",
       "      <td>NaN</td>\n",
       "      <td>NaN</td>\n",
       "      <td>NaN</td>\n",
       "      <td>NaN</td>\n",
       "      <td>0</td>\n",
       "    </tr>\n",
       "    <tr>\n",
       "      <th>1</th>\n",
       "      <td>93704</td>\n",
       "      <td>1</td>\n",
       "      <td>2</td>\n",
       "      <td>15.7</td>\n",
       "      <td>74.4</td>\n",
       "      <td>NaN</td>\n",
       "      <td>NaN</td>\n",
       "      <td>NaN</td>\n",
       "      <td>NaN</td>\n",
       "      <td>0.7</td>\n",
       "      <td>...</td>\n",
       "      <td>36.60</td>\n",
       "      <td>NaN</td>\n",
       "      <td>13.1</td>\n",
       "      <td>NaN</td>\n",
       "      <td>NaN</td>\n",
       "      <td>NaN</td>\n",
       "      <td>NaN</td>\n",
       "      <td>30.6</td>\n",
       "      <td>NaN</td>\n",
       "      <td>0</td>\n",
       "    </tr>\n",
       "    <tr>\n",
       "      <th>2</th>\n",
       "      <td>93705</td>\n",
       "      <td>0</td>\n",
       "      <td>66</td>\n",
       "      <td>31.7</td>\n",
       "      <td>89.9</td>\n",
       "      <td>1.517241</td>\n",
       "      <td>0.138</td>\n",
       "      <td>0.071</td>\n",
       "      <td>26.006</td>\n",
       "      <td>1.0</td>\n",
       "      <td>...</td>\n",
       "      <td>28.70</td>\n",
       "      <td>21.0</td>\n",
       "      <td>11.9</td>\n",
       "      <td>NaN</td>\n",
       "      <td>NaN</td>\n",
       "      <td>174.0</td>\n",
       "      <td>28.0</td>\n",
       "      <td>39.8</td>\n",
       "      <td>NaN</td>\n",
       "      <td>0</td>\n",
       "    </tr>\n",
       "    <tr>\n",
       "      <th>3</th>\n",
       "      <td>93706</td>\n",
       "      <td>1</td>\n",
       "      <td>18</td>\n",
       "      <td>21.5</td>\n",
       "      <td>53.8</td>\n",
       "      <td>1.629630</td>\n",
       "      <td>0.160</td>\n",
       "      <td>0.031</td>\n",
       "      <td>16.765</td>\n",
       "      <td>0.8</td>\n",
       "      <td>...</td>\n",
       "      <td>284.00</td>\n",
       "      <td>16.0</td>\n",
       "      <td>16.3</td>\n",
       "      <td>NaN</td>\n",
       "      <td>NaN</td>\n",
       "      <td>142.0</td>\n",
       "      <td>51.0</td>\n",
       "      <td>34.0</td>\n",
       "      <td>NaN</td>\n",
       "      <td>0</td>\n",
       "    </tr>\n",
       "    <tr>\n",
       "      <th>4</th>\n",
       "      <td>93707</td>\n",
       "      <td>1</td>\n",
       "      <td>13</td>\n",
       "      <td>18.1</td>\n",
       "      <td>58.2</td>\n",
       "      <td>1.857143</td>\n",
       "      <td>0.009</td>\n",
       "      <td>0.044</td>\n",
       "      <td>22.756</td>\n",
       "      <td>0.5</td>\n",
       "      <td>...</td>\n",
       "      <td>49.30</td>\n",
       "      <td>9.0</td>\n",
       "      <td>14.5</td>\n",
       "      <td>NaN</td>\n",
       "      <td>NaN</td>\n",
       "      <td>177.0</td>\n",
       "      <td>21.0</td>\n",
       "      <td>34.0</td>\n",
       "      <td>NaN</td>\n",
       "      <td>0</td>\n",
       "    </tr>\n",
       "    <tr>\n",
       "      <th>...</th>\n",
       "      <td>...</td>\n",
       "      <td>...</td>\n",
       "      <td>...</td>\n",
       "      <td>...</td>\n",
       "      <td>...</td>\n",
       "      <td>...</td>\n",
       "      <td>...</td>\n",
       "      <td>...</td>\n",
       "      <td>...</td>\n",
       "      <td>...</td>\n",
       "      <td>...</td>\n",
       "      <td>...</td>\n",
       "      <td>...</td>\n",
       "      <td>...</td>\n",
       "      <td>...</td>\n",
       "      <td>...</td>\n",
       "      <td>...</td>\n",
       "      <td>...</td>\n",
       "      <td>...</td>\n",
       "      <td>...</td>\n",
       "      <td>...</td>\n",
       "    </tr>\n",
       "    <tr>\n",
       "      <th>8888</th>\n",
       "      <td>102952</td>\n",
       "      <td>0</td>\n",
       "      <td>70</td>\n",
       "      <td>20.0</td>\n",
       "      <td>82.7</td>\n",
       "      <td>1.846154</td>\n",
       "      <td>0.235</td>\n",
       "      <td>0.077</td>\n",
       "      <td>31.347</td>\n",
       "      <td>0.6</td>\n",
       "      <td>...</td>\n",
       "      <td>135.00</td>\n",
       "      <td>18.0</td>\n",
       "      <td>13.4</td>\n",
       "      <td>26.34</td>\n",
       "      <td>1.112</td>\n",
       "      <td>168.0</td>\n",
       "      <td>39.0</td>\n",
       "      <td>29.1</td>\n",
       "      <td>0.881</td>\n",
       "      <td>1</td>\n",
       "    </tr>\n",
       "    <tr>\n",
       "      <th>8889</th>\n",
       "      <td>102953</td>\n",
       "      <td>1</td>\n",
       "      <td>42</td>\n",
       "      <td>35.8</td>\n",
       "      <td>49.5</td>\n",
       "      <td>1.142857</td>\n",
       "      <td>0.106</td>\n",
       "      <td>0.080</td>\n",
       "      <td>21.873</td>\n",
       "      <td>0.6</td>\n",
       "      <td>...</td>\n",
       "      <td>120.00</td>\n",
       "      <td>28.0</td>\n",
       "      <td>15.5</td>\n",
       "      <td>NaN</td>\n",
       "      <td>NaN</td>\n",
       "      <td>136.0</td>\n",
       "      <td>20.0</td>\n",
       "      <td>28.6</td>\n",
       "      <td>NaN</td>\n",
       "      <td>0</td>\n",
       "    </tr>\n",
       "    <tr>\n",
       "      <th>8890</th>\n",
       "      <td>102954</td>\n",
       "      <td>0</td>\n",
       "      <td>41</td>\n",
       "      <td>26.1</td>\n",
       "      <td>50.5</td>\n",
       "      <td>1.500000</td>\n",
       "      <td>0.117</td>\n",
       "      <td>0.056</td>\n",
       "      <td>26.935</td>\n",
       "      <td>1.4</td>\n",
       "      <td>...</td>\n",
       "      <td>1.99</td>\n",
       "      <td>8.0</td>\n",
       "      <td>6.4</td>\n",
       "      <td>56.94</td>\n",
       "      <td>2.793</td>\n",
       "      <td>123.0</td>\n",
       "      <td>5.0</td>\n",
       "      <td>248.0</td>\n",
       "      <td>0.553</td>\n",
       "      <td>0</td>\n",
       "    </tr>\n",
       "    <tr>\n",
       "      <th>8891</th>\n",
       "      <td>102955</td>\n",
       "      <td>0</td>\n",
       "      <td>14</td>\n",
       "      <td>45.6</td>\n",
       "      <td>61.9</td>\n",
       "      <td>1.205882</td>\n",
       "      <td>0.031</td>\n",
       "      <td>0.079</td>\n",
       "      <td>17.856</td>\n",
       "      <td>0.9</td>\n",
       "      <td>...</td>\n",
       "      <td>11.40</td>\n",
       "      <td>16.0</td>\n",
       "      <td>11.4</td>\n",
       "      <td>NaN</td>\n",
       "      <td>NaN</td>\n",
       "      <td>158.0</td>\n",
       "      <td>5.0</td>\n",
       "      <td>57.7</td>\n",
       "      <td>NaN</td>\n",
       "      <td>0</td>\n",
       "    </tr>\n",
       "    <tr>\n",
       "      <th>8892</th>\n",
       "      <td>102956</td>\n",
       "      <td>1</td>\n",
       "      <td>38</td>\n",
       "      <td>36.1</td>\n",
       "      <td>58.9</td>\n",
       "      <td>1.482759</td>\n",
       "      <td>0.026</td>\n",
       "      <td>0.038</td>\n",
       "      <td>21.177</td>\n",
       "      <td>1.0</td>\n",
       "      <td>...</td>\n",
       "      <td>553.00</td>\n",
       "      <td>72.0</td>\n",
       "      <td>17.4</td>\n",
       "      <td>634.38</td>\n",
       "      <td>2.172</td>\n",
       "      <td>134.0</td>\n",
       "      <td>35.0</td>\n",
       "      <td>23.4</td>\n",
       "      <td>3.037</td>\n",
       "      <td>0</td>\n",
       "    </tr>\n",
       "  </tbody>\n",
       "</table>\n",
       "<p>8893 rows × 91 columns</p>\n",
       "</div>"
      ],
      "text/plain": [
       "      Respondent_ID  Gender  Age   BMI  25-hydroxyvitamin D2 + D3 [nmol/L]  \\\n",
       "0             93703       0    2  17.5                                 NaN   \n",
       "1             93704       1    2  15.7                                74.4   \n",
       "2             93705       0   66  31.7                                89.9   \n",
       "3             93706       1   18  21.5                                53.8   \n",
       "4             93707       1   13  18.1                                58.2   \n",
       "...             ...     ...  ...   ...                                 ...   \n",
       "8888         102952       0   70  20.0                                82.7   \n",
       "8889         102953       1   42  35.8                                49.5   \n",
       "8890         102954       0   41  26.1                                50.5   \n",
       "8891         102955       0   14  45.6                                61.9   \n",
       "8892         102956       1   38  36.1                                58.9   \n",
       "\n",
       "      A/G Ratio  Alpha-carotene [umol/L]  Alpha-crypotoxanthin [umol/L]  \\\n",
       "0           NaN                      NaN                            NaN   \n",
       "1           NaN                      NaN                            NaN   \n",
       "2      1.517241                    0.138                          0.071   \n",
       "3      1.629630                    0.160                          0.031   \n",
       "4      1.857143                    0.009                          0.044   \n",
       "...         ...                      ...                            ...   \n",
       "8888   1.846154                    0.235                          0.077   \n",
       "8889   1.142857                    0.106                          0.080   \n",
       "8890   1.500000                    0.117                          0.056   \n",
       "8891   1.205882                    0.031                          0.079   \n",
       "8892   1.482759                    0.026                          0.038   \n",
       "\n",
       "      Alpha-tocopherol [umol/L]  Basophils [%]  ...  Ferritin [ng/mL]  \\\n",
       "0                           NaN            NaN  ...               NaN   \n",
       "1                           NaN            0.7  ...             36.60   \n",
       "2                        26.006            1.0  ...             28.70   \n",
       "3                        16.765            0.8  ...            284.00   \n",
       "4                        22.756            0.5  ...             49.30   \n",
       "...                         ...            ...  ...               ...   \n",
       "8888                     31.347            0.6  ...            135.00   \n",
       "8889                     21.873            0.6  ...            120.00   \n",
       "8890                     26.935            1.4  ...              1.99   \n",
       "8891                     17.856            0.9  ...             11.40   \n",
       "8892                     21.177            1.0  ...            553.00   \n",
       "\n",
       "      Gamma Glutamyl Transferase [IU/L]  Hemoglobin [g/dL]  Insulin [pmol/L]  \\\n",
       "0                                   NaN                NaN               NaN   \n",
       "1                                   NaN               13.1               NaN   \n",
       "2                                  21.0               11.9               NaN   \n",
       "3                                  16.0               16.3               NaN   \n",
       "4                                   9.0               14.5               NaN   \n",
       "...                                 ...                ...               ...   \n",
       "8888                               18.0               13.4             26.34   \n",
       "8889                               28.0               15.5               NaN   \n",
       "8890                                8.0                6.4             56.94   \n",
       "8891                               16.0               11.4               NaN   \n",
       "8892                               72.0               17.4            634.38   \n",
       "\n",
       "      LDL-Cholesterol(NIH2) [mmol/L]  Lactate Dehydrogenase [IU/L]  \\\n",
       "0                                NaN                           NaN   \n",
       "1                                NaN                           NaN   \n",
       "2                                NaN                         174.0   \n",
       "3                                NaN                         142.0   \n",
       "4                                NaN                         177.0   \n",
       "...                              ...                           ...   \n",
       "8888                           1.112                         168.0   \n",
       "8889                             NaN                         136.0   \n",
       "8890                           2.793                         123.0   \n",
       "8891                             NaN                         158.0   \n",
       "8892                           2.172                         134.0   \n",
       "\n",
       "      Transferrin Saturation [%]  Transferrin receptor [nmol/L]  \\\n",
       "0                            NaN                            NaN   \n",
       "1                            NaN                           30.6   \n",
       "2                           28.0                           39.8   \n",
       "3                           51.0                           34.0   \n",
       "4                           21.0                           34.0   \n",
       "...                          ...                            ...   \n",
       "8888                        39.0                           29.1   \n",
       "8889                        20.0                           28.6   \n",
       "8890                         5.0                          248.0   \n",
       "8891                         5.0                           57.7   \n",
       "8892                        35.0                           23.4   \n",
       "\n",
       "      Triglyceride [mmol/L]  Diabetes  \n",
       "0                       NaN         0  \n",
       "1                       NaN         0  \n",
       "2                       NaN         0  \n",
       "3                       NaN         0  \n",
       "4                       NaN         0  \n",
       "...                     ...       ...  \n",
       "8888                  0.881         1  \n",
       "8889                    NaN         0  \n",
       "8890                  0.553         0  \n",
       "8891                    NaN         0  \n",
       "8892                  3.037         0  \n",
       "\n",
       "[8893 rows x 91 columns]"
      ]
     },
     "execution_count": 3,
     "metadata": {},
     "output_type": "execute_result"
    }
   ],
   "source": [
    "# Diabetes data\n",
    "\n",
    "diabetes_df = ml.get_data_of_disease(driver, 'Diabetes')\n",
    "diabetes_df"
   ]
  },
  {
   "cell_type": "markdown",
   "id": "6578093d",
   "metadata": {},
   "source": [
    "### Training"
   ]
  },
  {
   "cell_type": "code",
   "execution_count": 5,
   "id": "995292f6",
   "metadata": {},
   "outputs": [
    {
     "name": "stdout",
     "output_type": "stream",
     "text": [
      "Training Accuracy:  0.9360416080967107\n",
      "Testing Accuracy:  0.9361821759910036\n"
     ]
    }
   ],
   "source": [
    "svm_classifier = LinearSVC(random_state=42)\n",
    "\n",
    "# Attributes and Labels\n",
    "\n",
    "X, y, X_train, X_val, X_test, y_train, y_val, y_test = ml.preprocess_and_split(df = diabetes_df, label = 'Diabetes',\n",
    "                                                              impute = True, scale=True,\n",
    "                                                              imputer=ml.SimpleImputer(strategy='mean'),\n",
    "                                                              random_state=42)\n",
    "\n",
    "# Training\n",
    "\n",
    "svm_classifier.fit(X_train, y_train)\n",
    "\n",
    "# Accuracy scores\n",
    "\n",
    "y_pred = svm_classifier.predict(X_val)\n",
    "\n",
    "print('Training Accuracy: ',ml.accuracy_score(y_train, svm_classifier.predict(X_train)))\n",
    "\n",
    "print('Testing Accuracy: ',ml.accuracy_score(y_val, y_pred))"
   ]
  },
  {
   "cell_type": "markdown",
   "id": "44142f21",
   "metadata": {},
   "source": [
    "## Feature Selection"
   ]
  },
  {
   "cell_type": "markdown",
   "id": "c60fc52a",
   "metadata": {},
   "source": [
    "### Correlation Analysis"
   ]
  },
  {
   "cell_type": "code",
   "execution_count": 6,
   "id": "4bf4ee40",
   "metadata": {},
   "outputs": [
    {
     "data": {
      "text/plain": [
       "['Gender',\n",
       " 'Glycohemoglobin [%]',\n",
       " 'Fasting Glucose [mmol/L]',\n",
       " 'Age',\n",
       " 'BMI',\n",
       " 'Blood Urea Nitrogen [mg/dL]',\n",
       " 'Insulin [pmol/L]',\n",
       " 'Osmolality [mmol/Kg]',\n",
       " 'Retinol [umol/L]',\n",
       " 'Triglyceride [mmol/L]',\n",
       " 'Total Lycopene [umol/L]',\n",
       " 'Trans-lycopene [umol/L]',\n",
       " 'Platelet count [1000 cells/uL]',\n",
       " 'A/G Ratio',\n",
       " 'Chloride [mmol/L]',\n",
       " 'Platelet_WBC Ratio',\n",
       " 'Direct HDL-Cholesterol [mmol/L]',\n",
       " 'Albumin [g/dL]',\n",
       " 'Alpha-crypotoxanthin [umol/L]',\n",
       " 'Lymphocyte_C-Reactive Protein Ratio']"
      ]
     },
     "execution_count": 6,
     "metadata": {},
     "output_type": "execute_result"
    }
   ],
   "source": [
    "pos_corr, neg_corr = ml.get_correlated_features(diabetes_df,'Diabetes',pos=0.1,neg=-0.1)\n",
    "\n",
    "corr_features = ['Gender'] + list(pos_corr.keys()[1:10]) + list(neg_corr.keys()[:10])\n",
    "corr_features"
   ]
  },
  {
   "cell_type": "code",
   "execution_count": 7,
   "id": "34987aa0",
   "metadata": {},
   "outputs": [
    {
     "name": "stdout",
     "output_type": "stream",
     "text": [
      "\n",
      "Train Accuracy: 0.933\n",
      "\n",
      "Test Accuracy: 0.932\n",
      "\n",
      "Precision: 0.895\n",
      "\n",
      "Recall: 0.566\n",
      "\n",
      "F1-Score: 0.694\n"
     ]
    }
   ],
   "source": [
    "ml.evaluate_feature_set(corr_features, LinearSVC(random_state=42), X_train, y_train, X_val, y_val)"
   ]
  },
  {
   "cell_type": "markdown",
   "id": "9df33603",
   "metadata": {},
   "source": [
    "### SelectFromModel"
   ]
  },
  {
   "cell_type": "code",
   "execution_count": 8,
   "id": "a245d928",
   "metadata": {},
   "outputs": [
    {
     "data": {
      "text/plain": [
       "['Age',\n",
       " 'BMI',\n",
       " 'Iron frozen [umol/L]',\n",
       " 'UIBC [umol/L]',\n",
       " 'Total Iron Binding Capacity [umol/L]',\n",
       " 'Glycohemoglobin [%]',\n",
       " 'Retinol [umol/L]',\n",
       " 'Transferrin receptor [nmol/L]',\n",
       " 'Blood Urea Nitrogen [mg/dL]',\n",
       " 'Osmolality [mmol/Kg]',\n",
       " 'Sodium [mmol/L]',\n",
       " 'Total Cholesterol [mmol/L]',\n",
       " 'Vitamin C [umol/L]',\n",
       " 'Fasting Glucose [mmol/L]',\n",
       " 'White blood cell count [1000 cells/uL]',\n",
       " 'Lymphocyte [%]',\n",
       " 'Segmented neutrophils [%]',\n",
       " 'RBC count [million cells/uL]',\n",
       " 'Hemoglobin [g/dL]',\n",
       " 'Hematocrit [%]',\n",
       " 'Mean cell volume [fL]',\n",
       " 'Mean Cell Hgb Conc. [g/dL]',\n",
       " 'Non_HDL Ratio',\n",
       " 'Triglyceride_HDL Ratio']"
      ]
     },
     "execution_count": 8,
     "metadata": {},
     "output_type": "execute_result"
    }
   ],
   "source": [
    "sfm_features = ml.select_from_model_features(LinearSVC(random_state=42),X,y)\n",
    "sfm_features"
   ]
  },
  {
   "cell_type": "code",
   "execution_count": 9,
   "id": "17b4d45b",
   "metadata": {},
   "outputs": [
    {
     "name": "stdout",
     "output_type": "stream",
     "text": [
      "\n",
      "Train Accuracy: 0.935\n",
      "\n",
      "Test Accuracy: 0.935\n",
      "\n",
      "Precision: 0.904\n",
      "\n",
      "Recall: 0.583\n",
      "\n",
      "F1-Score: 0.709\n"
     ]
    }
   ],
   "source": [
    "sfm_features = list(sfm_features)\n",
    "\n",
    "ml.evaluate_feature_set(sfm_features, LinearSVC(random_state=42), X_train, y_train, X_val, y_val)"
   ]
  },
  {
   "cell_type": "markdown",
   "id": "15f3ce0f",
   "metadata": {},
   "source": [
    "### SelectKBest"
   ]
  },
  {
   "cell_type": "code",
   "execution_count": 10,
   "id": "238022df",
   "metadata": {},
   "outputs": [
    {
     "data": {
      "text/plain": [
       "['Glycohemoglobin [%]',\n",
       " 'Fasting Glucose [mmol/L]',\n",
       " 'Age',\n",
       " 'BMI',\n",
       " 'Blood Urea Nitrogen [mg/dL]',\n",
       " 'Osmolality [mmol/Kg]',\n",
       " 'Retinol [umol/L]',\n",
       " 'Lymphocyte [%]',\n",
       " 'Insulin [pmol/L]',\n",
       " 'Alpha-tocopherol [umol/L]',\n",
       " 'Lymphocyte_C-Reactive Protein Ratio',\n",
       " 'Segmented neutrophils [%]',\n",
       " 'Neutrophil_Lymphocyte Ratio',\n",
       " 'Alpha-crypotoxanthin [umol/L]',\n",
       " 'Albumin [g/dL]',\n",
       " 'Direct HDL-Cholesterol [mmol/L]',\n",
       " 'Platelet_WBC Ratio',\n",
       " 'C-Reactive Protein [mg/L]',\n",
       " 'Creatinine [mg/dL]',\n",
       " 'Ferritin [ng/mL]',\n",
       " 'Chloride [mmol/L]',\n",
       " 'Red cell distribution width [%]',\n",
       " 'Triglyceride [mmol/L]',\n",
       " 'A/G Ratio',\n",
       " 'Platelet count [1000 cells/uL]',\n",
       " 'Triglyceride_HDL Ratio',\n",
       " 'Trans-lycopene [umol/L]',\n",
       " '25-hydroxyvitamin D2 + D3 [nmol/L]',\n",
       " 'Total Lycopene [umol/L]',\n",
       " 'Mean platelet volume [fL]']"
      ]
     },
     "execution_count": 10,
     "metadata": {},
     "output_type": "execute_result"
    }
   ],
   "source": [
    "k_best_features = ml.select_k_best(X, y, n=30)\n",
    "k_best_features[:30]"
   ]
  },
  {
   "cell_type": "code",
   "execution_count": 11,
   "id": "b756eeaa",
   "metadata": {},
   "outputs": [
    {
     "name": "stdout",
     "output_type": "stream",
     "text": [
      "\n",
      "Train Accuracy: 0.933\n",
      "\n",
      "Test Accuracy: 0.934\n",
      "\n",
      "Precision: 0.903\n",
      "\n",
      "Recall: 0.579\n",
      "\n",
      "F1-Score: 0.705\n"
     ]
    }
   ],
   "source": [
    "ml.evaluate_feature_set(k_best_features[:30], LinearSVC(random_state=42), X_train, y_train, X_val, y_val)"
   ]
  },
  {
   "cell_type": "markdown",
   "id": "933ccbc1",
   "metadata": {},
   "source": [
    "### Recursive Feature Elimination (RFE) "
   ]
  },
  {
   "cell_type": "code",
   "execution_count": 12,
   "id": "82685afa",
   "metadata": {},
   "outputs": [
    {
     "data": {
      "text/plain": [
       "['Hemoglobin [g/dL]',\n",
       " 'Mean cell volume [fL]',\n",
       " 'Hematocrit [%]',\n",
       " 'Total Cholesterol [mmol/L]',\n",
       " 'Retinyl palmitate [umol/L]',\n",
       " 'Retinol [umol/L]',\n",
       " 'RBC count [million cells/uL]',\n",
       " 'Transferrin receptor [nmol/L]',\n",
       " 'Mean Cell Hgb Conc. [g/dL]',\n",
       " 'Eosinophils [%]',\n",
       " 'Segmented neutrophils [%]',\n",
       " 'Monocyte [%]',\n",
       " 'Lymphocyte [%]',\n",
       " 'Osmolality [mmol/Kg]',\n",
       " 'White blood cell count [1000 cells/uL]',\n",
       " 'Fasting Glucose [mmol/L]',\n",
       " 'Sodium [mmol/L]',\n",
       " 'Blood Urea Nitrogen [mg/dL]',\n",
       " 'Insulin [pmol/L]',\n",
       " 'Vitamin C [umol/L]',\n",
       " 'Triglyceride_HDL Ratio',\n",
       " 'Age',\n",
       " 'Iron frozen [umol/L]',\n",
       " 'UIBC [umol/L]',\n",
       " 'Total Iron Binding Capacity [umol/L]',\n",
       " 'Glycohemoglobin [%]',\n",
       " 'Triglyceride [mmol/L]',\n",
       " 'Total Cholestrol_HDL Ratio',\n",
       " 'BMI',\n",
       " 'Non_HDL Ratio']"
      ]
     },
     "execution_count": 12,
     "metadata": {},
     "output_type": "execute_result"
    }
   ],
   "source": [
    "rfe_features = ml.select_rfe_features(LinearSVC(random_state=42),X,y,n=30,step=0.5)\n",
    "rfe_features[:30]"
   ]
  },
  {
   "cell_type": "code",
   "execution_count": 13,
   "id": "8db8aa72",
   "metadata": {},
   "outputs": [
    {
     "name": "stdout",
     "output_type": "stream",
     "text": [
      "\n",
      "Train Accuracy: 0.935\n",
      "\n",
      "Test Accuracy: 0.935\n",
      "\n",
      "Precision: 0.907\n",
      "\n",
      "Recall: 0.585\n",
      "\n",
      "F1-Score: 0.711\n"
     ]
    }
   ],
   "source": [
    "ml.evaluate_feature_set(rfe_features[:30], LinearSVC(random_state=42), X_train, y_train, X_val, y_val)"
   ]
  },
  {
   "cell_type": "markdown",
   "id": "85827a38",
   "metadata": {},
   "source": [
    "### Lasso Regularization"
   ]
  },
  {
   "cell_type": "code",
   "execution_count": 14,
   "id": "8c83723b",
   "metadata": {},
   "outputs": [],
   "source": [
    "# Uses lasso regularization in the LinearSVC model to give more weights to more important features\n",
    "\n",
    "def svc_lasso_select(X_train, y_train, C=1):\n",
    "\n",
    "    svc = LinearSVC(penalty='l1', C=C, dual=False, random_state=42)\n",
    "    svc.fit(X_train, y_train)\n",
    "\n",
    "    # Get feature importance coefficients from the SVM model\n",
    "    feature_importance = svc.coef_[0]\n",
    "\n",
    "    feature_importance_pairs = [(feature, importance) for feature, importance in zip(X.columns, feature_importance)]\n",
    "    feature_importance_pairs.sort(key=lambda x: abs(x[1]), reverse=True)\n",
    "\n",
    "    sorted_features = [feature for feature, _ in feature_importance_pairs]\n",
    "\n",
    "    return sorted_features"
   ]
  },
  {
   "cell_type": "code",
   "execution_count": 15,
   "id": "f7a2dee7",
   "metadata": {},
   "outputs": [
    {
     "data": {
      "text/plain": [
       "['Fasting Glucose [mmol/L]',\n",
       " 'Glycohemoglobin [%]',\n",
       " 'Age',\n",
       " 'Sodium [mmol/L]',\n",
       " 'Osmolality [mmol/Kg]',\n",
       " 'RBC count [million cells/uL]',\n",
       " 'Non_HDL Ratio',\n",
       " 'Hemoglobin [g/dL]',\n",
       " 'Retinol [umol/L]',\n",
       " 'Total Cholesterol [mmol/L]',\n",
       " 'BMI',\n",
       " 'White blood cell count [1000 cells/uL]',\n",
       " 'LDL-Cholesterol(NIH2) [mmol/L]',\n",
       " 'Mean cell volume [fL]',\n",
       " 'Transferrin Saturation [%]',\n",
       " 'Total Cholestrol_HDL Ratio',\n",
       " 'Blood Urea Nitrogen [mg/dL]',\n",
       " 'Mean cell hemoglobin [pg]',\n",
       " 'Insulin [pmol/L]',\n",
       " 'Alkaline Phosphatase [IU/L]',\n",
       " 'Blood lead [umol/L]',\n",
       " 'Mean Cell Hgb Conc. [g/dL]',\n",
       " 'Vitamin C [umol/L]',\n",
       " 'Transferrin receptor [nmol/L]',\n",
       " 'Gamma Glutamyl Transferase [IU/L]',\n",
       " 'Neutrophil_Lymphocyte Ratio',\n",
       " 'Bicarbonate [mmol/L]',\n",
       " 'Chloride [mmol/L]',\n",
       " 'Hematocrit [%]',\n",
       " 'A/G Ratio']"
      ]
     },
     "execution_count": 15,
     "metadata": {},
     "output_type": "execute_result"
    }
   ],
   "source": [
    "l1_selected_features = svc_lasso_select(X_train, y_train, C=0.5)\n",
    "l1_selected_features[:30]"
   ]
  },
  {
   "cell_type": "code",
   "execution_count": 16,
   "id": "1b685cc9",
   "metadata": {},
   "outputs": [
    {
     "name": "stdout",
     "output_type": "stream",
     "text": [
      "\n",
      "Train Accuracy: 0.937\n",
      "\n",
      "Test Accuracy: 0.937\n",
      "\n",
      "Precision: 0.906\n",
      "\n",
      "Recall: 0.597\n",
      "\n",
      "F1-Score: 0.720\n"
     ]
    }
   ],
   "source": [
    "ml.evaluate_feature_set(l1_selected_features[:30], LinearSVC(random_state=42), X_train, y_train, X_val, y_val)"
   ]
  },
  {
   "cell_type": "markdown",
   "id": "a37796b0",
   "metadata": {},
   "source": [
    "### Relief F"
   ]
  },
  {
   "cell_type": "code",
   "execution_count": 17,
   "id": "bfb3ec54",
   "metadata": {},
   "outputs": [],
   "source": [
    "relieff_features = ml.relief_feature_select(30,X,y)"
   ]
  },
  {
   "cell_type": "code",
   "execution_count": 18,
   "id": "fc600c21",
   "metadata": {},
   "outputs": [
    {
     "data": {
      "text/plain": [
       "['Age',\n",
       " 'Glycohemoglobin [%]',\n",
       " 'Respondent ID',\n",
       " 'BMI',\n",
       " 'Fasting Glucose [mmol/L]',\n",
       " 'Segmented neutrophils [%]',\n",
       " 'Hematocrit [%]',\n",
       " 'Lymphocyte [%]',\n",
       " 'Retinol [umol/L]',\n",
       " 'Hemoglobin [g/dL]',\n",
       " 'Total Cholesterol [mmol/L]',\n",
       " 'Neutrophil_Lymphocyte Ratio',\n",
       " 'Non_HDL Ratio',\n",
       " 'Osmolality [mmol/Kg]',\n",
       " 'Total Iron Binding Capacity [umol/L]',\n",
       " 'Alpha-tocopherol [umol/L]',\n",
       " 'Blood Urea Nitrogen [mg/dL]',\n",
       " 'Potassium [mmol/L]',\n",
       " 'Chloride [mmol/L]',\n",
       " 'Mean cell volume [fL]',\n",
       " 'Sodium [mmol/L]',\n",
       " 'Total Protein [g/dL]',\n",
       " 'Total Calcium [mg/dL]',\n",
       " 'Total Cholestrol_HDL Ratio',\n",
       " 'Gamma-tocopherol [umol/L]',\n",
       " 'Lactate Dehydrogenase [IU/L]',\n",
       " 'Phosphorus [mg/dL]',\n",
       " 'A/G Ratio',\n",
       " 'Uric Acid [mg/dL]',\n",
       " 'Mean platelet volume [fL]']"
      ]
     },
     "execution_count": 18,
     "metadata": {},
     "output_type": "execute_result"
    }
   ],
   "source": [
    "relieff_features[:30]"
   ]
  },
  {
   "cell_type": "code",
   "execution_count": 20,
   "id": "8f76d0da",
   "metadata": {},
   "outputs": [
    {
     "name": "stdout",
     "output_type": "stream",
     "text": [
      "\n",
      "Train Accuracy: 0.933\n",
      "\n",
      "Test Accuracy: 0.932\n",
      "\n",
      "Precision: 0.890\n",
      "\n",
      "Recall: 0.568\n",
      "\n",
      "F1-Score: 0.694\n"
     ]
    }
   ],
   "source": [
    "ml.evaluate_feature_set(relieff_features[:30], LinearSVC(random_state=42), X_train, y_train, X_val, y_val)"
   ]
  },
  {
   "cell_type": "markdown",
   "id": "281f4770",
   "metadata": {},
   "source": [
    "### Optimal no. of features"
   ]
  },
  {
   "cell_type": "code",
   "execution_count": 21,
   "id": "7da46c27",
   "metadata": {},
   "outputs": [],
   "source": [
    "final_features = list(l1_selected_features) "
   ]
  },
  {
   "cell_type": "code",
   "execution_count": 23,
   "id": "4aaf5159",
   "metadata": {},
   "outputs": [
    {
     "name": "stderr",
     "output_type": "stream",
     "text": [
      "Finding optimal no. of features..: 100%|███████████████████████████████████████████████████████████████████████████████████████████████████████████████████| 86/86 [17:57<00:00, 12.53s/it]\n"
     ]
    },
    {
     "name": "stdout",
     "output_type": "stream",
     "text": [
      "\n",
      "Maximum f1 = 0.7108 for 39 features\n"
     ]
    },
    {
     "data": {
      "image/png": "[encoded data removed]",
      "text/plain": [
       "<Figure size 1000x700 with 1 Axes>"
      ]
     },
     "metadata": {},
     "output_type": "display_data"
    }
   ],
   "source": [
    "# Optimal no. of features\n",
    "\n",
    "ml.plot_num_feature_performance(LinearSVC(random_state=42),  X, y, final_features, scoring='f1')"
   ]
  },
  {
   "cell_type": "code",
   "execution_count": 24,
   "id": "27de64c6",
   "metadata": {},
   "outputs": [],
   "source": [
    "num_features = 39\n",
    "\n",
    "selected = final_features[:num_features]\n",
    "selected.append('Diabetes')\n",
    "\n",
    "diabetes_df = diabetes_df[selected]"
   ]
  },
  {
   "cell_type": "code",
   "execution_count": 25,
   "id": "5386a09f",
   "metadata": {},
   "outputs": [],
   "source": [
    "# Save feature set\n",
    "    \n",
    "with open('../Models/Diabetes/Feature Sets/SVM Features.pkl', 'wb') as f:\n",
    "    ml.pickle.dump(selected, f)"
   ]
  },
  {
   "cell_type": "markdown",
   "id": "cd4a3a33",
   "metadata": {},
   "source": [
    "## Preprocessing"
   ]
  },
  {
   "cell_type": "markdown",
   "id": "32c7f0b2",
   "metadata": {},
   "source": [
    "### Zero Imputation"
   ]
  },
  {
   "cell_type": "code",
   "execution_count": 26,
   "id": "24b09db9",
   "metadata": {},
   "outputs": [],
   "source": [
    "# Imputing null values with zeroes\n",
    "\n",
    "X, y, X_train, X_val, X_test, y_train, y_val, y_test = ml.preprocess_and_split(df = diabetes_df, label = 'Diabetes',\n",
    "                                                        impute = True, scale=True,\n",
    "                                                        imputer=ml.SimpleImputer(strategy='constant',fill_value=0),\n",
    "                                                        random_state=42)"
   ]
  },
  {
   "cell_type": "code",
   "execution_count": 27,
   "id": "4c234679",
   "metadata": {},
   "outputs": [
    {
     "name": "stdout",
     "output_type": "stream",
     "text": [
      "\n",
      "Train Accuracy: 0.924\n",
      "\n",
      "Test Accuracy: 0.922\n",
      "\n",
      "Precision: 0.860\n",
      "\n",
      "Recall: 0.508\n",
      "\n",
      "F1-Score: 0.639\n"
     ]
    }
   ],
   "source": [
    "svm_classifier = LinearSVC(random_state=42)\n",
    "svm_classifier.fit(X_train, y_train)\n",
    "\n",
    "ml.evaluate_model_metrics(svm_classifier,X_train,y_train,X_val,y_val)"
   ]
  },
  {
   "cell_type": "markdown",
   "id": "1877522f",
   "metadata": {},
   "source": [
    "### Mode Imputation"
   ]
  },
  {
   "cell_type": "code",
   "execution_count": 28,
   "id": "fcca0b91",
   "metadata": {},
   "outputs": [],
   "source": [
    "# Imputing with most frequent values\n",
    "\n",
    "X, y, X_train, X_val, X_test, y_train, y_val, y_test = ml.preprocess_and_split(df = diabetes_df, label = 'Diabetes',\n",
    "                                                              impute = True, scale=True,\n",
    "                                                              imputer=ml.SimpleImputer(strategy='most_frequent'),\n",
    "                                                              random_state=42)"
   ]
  },
  {
   "cell_type": "code",
   "execution_count": 29,
   "id": "43855037",
   "metadata": {},
   "outputs": [
    {
     "name": "stdout",
     "output_type": "stream",
     "text": [
      "\n",
      "Train Accuracy: 0.934\n",
      "\n",
      "Test Accuracy: 0.934\n",
      "\n",
      "Precision: 0.898\n",
      "\n",
      "Recall: 0.585\n",
      "\n",
      "F1-Score: 0.708\n"
     ]
    }
   ],
   "source": [
    "svm_classifier = LinearSVC(random_state=42)\n",
    "svm_classifier.fit(X_train, y_train)\n",
    "\n",
    "ml.evaluate_model_metrics(svm_classifier,X_train,y_train,X_val,y_val)"
   ]
  },
  {
   "cell_type": "markdown",
   "id": "8484c25a",
   "metadata": {},
   "source": [
    "### k-NN Imputation"
   ]
  },
  {
   "cell_type": "code",
   "execution_count": 31,
   "id": "288ec08b",
   "metadata": {},
   "outputs": [],
   "source": [
    "# Imputing missing values with values from the k-nearest neighbors in the feature space\n",
    "\n",
    "X, y, X_train, X_val, X_test, y_train, y_val, y_test = ml.preprocess_and_split(df = diabetes_df, label = 'Diabetes',\n",
    "                                                              impute = True, scale=True,\n",
    "                                                              imputer=ml.KNNImputer(n_neighbors=20),\n",
    "                                                              random_state=42)"
   ]
  },
  {
   "cell_type": "code",
   "execution_count": 32,
   "id": "d03244a8",
   "metadata": {},
   "outputs": [
    {
     "name": "stdout",
     "output_type": "stream",
     "text": [
      "\n",
      "Train Accuracy: 0.930\n",
      "\n",
      "Test Accuracy: 0.930\n",
      "\n",
      "Precision: 0.868\n",
      "\n",
      "Recall: 0.572\n",
      "\n",
      "F1-Score: 0.690\n"
     ]
    }
   ],
   "source": [
    "svm_classifier = LinearSVC(random_state=42)\n",
    "svm_classifier.fit(X_train, y_train)\n",
    "\n",
    "ml.evaluate_model_metrics(svm_classifier,X_train,y_train,X_val,y_val)"
   ]
  },
  {
   "cell_type": "markdown",
   "id": "e8c1a99e",
   "metadata": {},
   "source": [
    "### Multiple Imputation by Chained Equations (MICE)"
   ]
  },
  {
   "cell_type": "code",
   "execution_count": 33,
   "id": "d78c9b6a",
   "metadata": {},
   "outputs": [],
   "source": [
    "# Imputes by looking at data from other columns and trying to estimate the best prediction for each missing value.\n",
    "\n",
    "X, y, X_train, X_val, X_test, y_train, y_val, y_test = ml.preprocess_and_split(df = diabetes_df, label = 'Diabetes',\n",
    "                                                              impute = True, scale=True,\n",
    "                                                              imputer=ml.IterativeImputer(max_iter=20),\n",
    "                                                              random_state=42)"
   ]
  },
  {
   "cell_type": "code",
   "execution_count": 34,
   "id": "78e0324b",
   "metadata": {},
   "outputs": [
    {
     "name": "stdout",
     "output_type": "stream",
     "text": [
      "\n",
      "Train Accuracy: 0.930\n",
      "\n",
      "Test Accuracy: 0.929\n",
      "\n",
      "Precision: 0.886\n",
      "\n",
      "Recall: 0.545\n",
      "\n",
      "F1-Score: 0.675\n"
     ]
    }
   ],
   "source": [
    "svm_classifier = LinearSVC(random_state=42)\n",
    "svm_classifier.fit(X_train, y_train)\n",
    "\n",
    "ml.evaluate_model_metrics(svm_classifier,X_train,y_train,X_val,y_val)"
   ]
  },
  {
   "cell_type": "markdown",
   "id": "dc71288f",
   "metadata": {},
   "source": [
    "### Median Imputation"
   ]
  },
  {
   "cell_type": "code",
   "execution_count": 35,
   "id": "648640e9",
   "metadata": {},
   "outputs": [],
   "source": [
    "# Imputing with median values\n",
    "\n",
    "X, y, X_train, X_val, X_test, y_train, y_val, y_test = ml.preprocess_and_split(df = diabetes_df, label = 'Diabetes',\n",
    "                                                              impute = True, scale=True,\n",
    "                                                              imputer=ml.SimpleImputer(strategy='median'),\n",
    "                                                              random_state=42)"
   ]
  },
  {
   "cell_type": "code",
   "execution_count": 36,
   "id": "188ab3fd",
   "metadata": {},
   "outputs": [
    {
     "name": "stdout",
     "output_type": "stream",
     "text": [
      "\n",
      "Train Accuracy: 0.935\n",
      "\n",
      "Test Accuracy: 0.934\n",
      "\n",
      "Precision: 0.891\n",
      "\n",
      "Recall: 0.589\n",
      "\n",
      "F1-Score: 0.709\n"
     ]
    }
   ],
   "source": [
    "svm_classifier = LinearSVC(random_state=42)\n",
    "svm_classifier.fit(X_train, y_train)\n",
    "\n",
    "ml.evaluate_model_metrics(svm_classifier,X_train,y_train,X_val,y_val)"
   ]
  },
  {
   "cell_type": "markdown",
   "id": "ecf3258f",
   "metadata": {},
   "source": [
    "### Mean Imputation"
   ]
  },
  {
   "cell_type": "code",
   "execution_count": 37,
   "id": "cf825805",
   "metadata": {},
   "outputs": [],
   "source": [
    "# Splitting and Preprocessing data\n",
    "\n",
    "X, y, X_train, X_val, X_test, y_train, y_val, y_test = ml.preprocess_and_split(df = diabetes_df, label = 'Diabetes',\n",
    "                                                              impute = True, scale=True,\n",
    "                                                              imputer=ml.SimpleImputer(strategy='mean'),\n",
    "                                                              random_state=42)"
   ]
  },
  {
   "cell_type": "code",
   "execution_count": 38,
   "id": "c4eb9258",
   "metadata": {},
   "outputs": [
    {
     "name": "stdout",
     "output_type": "stream",
     "text": [
      "\n",
      "Train Accuracy: 0.936\n",
      "\n",
      "Test Accuracy: 0.938\n",
      "\n",
      "Precision: 0.907\n",
      "\n",
      "Recall: 0.605\n",
      "\n",
      "F1-Score: 0.726\n"
     ]
    }
   ],
   "source": [
    "svm_classifier = LinearSVC(random_state=42)\n",
    "svm_classifier.fit(X_train, y_train)\n",
    "\n",
    "ml.evaluate_model_metrics(svm_classifier,X_train,y_train,X_val,y_val)"
   ]
  },
  {
   "cell_type": "markdown",
   "id": "5bd39f86",
   "metadata": {},
   "source": [
    "### Dropping Null Values"
   ]
  },
  {
   "cell_type": "code",
   "execution_count": 39,
   "id": "2a0f7318",
   "metadata": {
    "scrolled": true
   },
   "outputs": [],
   "source": [
    "# Drop null values\n",
    "diabetes_df_na = diabetes_df.dropna()\n",
    "\n",
    "X, y, X_train, X_val, X_test, y_train, y_val, y_test = ml.preprocess_and_split(df = diabetes_df_na, label = 'Diabetes',\n",
    "                                                              impute = False, scale=True,\n",
    "                                                              random_state=42)"
   ]
  },
  {
   "cell_type": "code",
   "execution_count": 40,
   "id": "f3c46212",
   "metadata": {},
   "outputs": [
    {
     "name": "stdout",
     "output_type": "stream",
     "text": [
      "\n",
      "Train Accuracy: 0.937\n",
      "\n",
      "Test Accuracy: 0.934\n",
      "\n",
      "Precision: 0.921\n",
      "\n",
      "Recall: 0.759\n",
      "\n",
      "F1-Score: 0.832\n"
     ]
    }
   ],
   "source": [
    "svm_classifier = LinearSVC(random_state=42)\n",
    "svm_classifier.fit(X_train, y_train)\n",
    "\n",
    "ml.evaluate_model_metrics(svm_classifier,X_train,y_train,X_val,y_val)"
   ]
  },
  {
   "cell_type": "markdown",
   "id": "d4f3c7a0",
   "metadata": {},
   "source": [
    "## Oversampling and Undersampling"
   ]
  },
  {
   "cell_type": "markdown",
   "id": "f2ab083d",
   "metadata": {},
   "source": [
    "### Random Oversampling"
   ]
  },
  {
   "cell_type": "code",
   "execution_count": 41,
   "id": "61c3f573",
   "metadata": {
    "scrolled": false
   },
   "outputs": [
    {
     "name": "stdout",
     "output_type": "stream",
     "text": [
      "\n",
      "Train Accuracy: 0.896\n",
      "\n",
      "Test Accuracy: 0.892\n",
      "\n",
      "Precision: 0.705\n",
      "\n",
      "Recall: 0.854\n",
      "\n",
      "F1-Score: 0.773\n"
     ]
    }
   ],
   "source": [
    "X_ros, y_ros = ml.random_over_sample(X_train, y_train)\n",
    "\n",
    "svm_classifier = LinearSVC(random_state=42)\n",
    "svm_classifier.fit(X_ros, y_ros)\n",
    "\n",
    "ml.evaluate_model_metrics(svm_classifier,X_ros, y_ros,X_val, y_val)"
   ]
  },
  {
   "cell_type": "markdown",
   "id": "55cc4ab2",
   "metadata": {},
   "source": [
    "### SMOTE (Synthetic Minority Over-sampling Technique)"
   ]
  },
  {
   "cell_type": "code",
   "execution_count": 42,
   "id": "5ed6c6b3",
   "metadata": {
    "scrolled": false
   },
   "outputs": [
    {
     "name": "stdout",
     "output_type": "stream",
     "text": [
      "\n",
      "Train Accuracy: 0.904\n",
      "\n",
      "Test Accuracy: 0.893\n",
      "\n",
      "Precision: 0.712\n",
      "\n",
      "Recall: 0.844\n",
      "\n",
      "F1-Score: 0.772\n"
     ]
    }
   ],
   "source": [
    "X_smote, y_smote = ml.smote_over_sample(X_train, y_train)\n",
    "\n",
    "svm_classifier = LinearSVC(random_state=42)\n",
    "svm_classifier.fit(X_smote, y_smote)\n",
    "\n",
    "ml.evaluate_model_metrics(svm_classifier,X_smote, y_smote,X_val, y_val)"
   ]
  },
  {
   "cell_type": "markdown",
   "id": "0532ee8b",
   "metadata": {},
   "source": [
    "### Random Undersampling"
   ]
  },
  {
   "cell_type": "code",
   "execution_count": 43,
   "id": "5286090b",
   "metadata": {
    "scrolled": false
   },
   "outputs": [
    {
     "name": "stdout",
     "output_type": "stream",
     "text": [
      "\n",
      "Train Accuracy: 0.898\n",
      "\n",
      "Test Accuracy: 0.874\n",
      "\n",
      "Precision: 0.660\n",
      "\n",
      "Recall: 0.859\n",
      "\n",
      "F1-Score: 0.747\n"
     ]
    }
   ],
   "source": [
    "X_rus, y_rus = ml.random_under_sample(X_train, y_train)\n",
    "\n",
    "svm_classifier = LinearSVC(random_state=42)\n",
    "svm_classifier.fit(X_rus, y_rus)\n",
    "\n",
    "ml.evaluate_model_metrics(svm_classifier,X_rus, y_rus,X_val, y_val)"
   ]
  },
  {
   "cell_type": "markdown",
   "id": "6defa173",
   "metadata": {},
   "source": [
    "### Tomek Links"
   ]
  },
  {
   "cell_type": "code",
   "execution_count": 44,
   "id": "f4fa6ccf",
   "metadata": {
    "scrolled": false
   },
   "outputs": [
    {
     "name": "stdout",
     "output_type": "stream",
     "text": [
      "\n",
      "Train Accuracy: 0.936\n",
      "\n",
      "Test Accuracy: 0.930\n",
      "\n",
      "Precision: 0.894\n",
      "\n",
      "Recall: 0.764\n",
      "\n",
      "F1-Score: 0.824\n"
     ]
    }
   ],
   "source": [
    "X_tomek, y_tomek = ml.tomek_links(X_train, y_train)\n",
    "\n",
    "svm_classifier = LinearSVC(random_state=42)\n",
    "svm_classifier.fit(X_tomek, y_tomek)\n",
    "\n",
    "ml.evaluate_model_metrics(svm_classifier,X_tomek, y_tomek,X_val, y_val)"
   ]
  },
  {
   "cell_type": "markdown",
   "id": "111c9c16",
   "metadata": {},
   "source": [
    "### SMOTE + Tomek Links"
   ]
  },
  {
   "cell_type": "code",
   "execution_count": 45,
   "id": "753149c7",
   "metadata": {
    "scrolled": false
   },
   "outputs": [
    {
     "name": "stdout",
     "output_type": "stream",
     "text": [
      "\n",
      "Train Accuracy: 0.904\n",
      "\n",
      "Test Accuracy: 0.893\n",
      "\n",
      "Precision: 0.712\n",
      "\n",
      "Recall: 0.844\n",
      "\n",
      "F1-Score: 0.772\n"
     ]
    }
   ],
   "source": [
    "X_smote_tomek, y_smote_tomek = ml.smote_tomek(X_train, y_train)\n",
    "\n",
    "svm_classifier = LinearSVC(random_state=42)\n",
    "svm_classifier.fit(X_smote_tomek, y_smote_tomek)\n",
    "\n",
    "ml.evaluate_model_metrics(svm_classifier,X_smote_tomek, y_smote_tomek,X_val, y_val)"
   ]
  },
  {
   "cell_type": "code",
   "execution_count": 46,
   "id": "1f3a2dd8",
   "metadata": {},
   "outputs": [],
   "source": [
    "# Model seems to perform better without oversampling or undersampling"
   ]
  },
  {
   "cell_type": "markdown",
   "id": "9bda7751",
   "metadata": {},
   "source": [
    "## Hyperparameter Optimization "
   ]
  },
  {
   "cell_type": "markdown",
   "id": "a8911f34",
   "metadata": {},
   "source": [
    "### Grid Search"
   ]
  },
  {
   "cell_type": "code",
   "execution_count": 48,
   "id": "8bbd1f7f",
   "metadata": {},
   "outputs": [],
   "source": [
    "param_grid = {\n",
    "    \n",
    "    'C': [0.001, 0.01, 0.1, 1, 10, 100],  \n",
    "    'loss': ['hinge', 'squared_hinge'],\n",
    "    'penalty': ['l1', 'l2'],\n",
    "    'dual': [False], \n",
    "    'class_weight': [None, 'balanced'] \n",
    "\n",
    "}"
   ]
  },
  {
   "cell_type": "code",
   "execution_count": 49,
   "id": "1b862359",
   "metadata": {},
   "outputs": [],
   "source": [
    "grid_best_params, svm_classifier_grid = ml.grid_search_optimize(LinearSVC(random_state=42), param_grid, X_train, \n",
    "                                                                y_train, cv=10,scoring='accuracy')"
   ]
  },
  {
   "cell_type": "code",
   "execution_count": 50,
   "id": "86a4a7b5",
   "metadata": {},
   "outputs": [
    {
     "data": {
      "text/plain": [
       "{'C': 0.01,\n",
       " 'class_weight': None,\n",
       " 'dual': False,\n",
       " 'loss': 'squared_hinge',\n",
       " 'penalty': 'l2'}"
      ]
     },
     "execution_count": 50,
     "metadata": {},
     "output_type": "execute_result"
    }
   ],
   "source": [
    "grid_best_params"
   ]
  },
  {
   "cell_type": "code",
   "execution_count": 51,
   "id": "2268aff4",
   "metadata": {},
   "outputs": [
    {
     "name": "stdout",
     "output_type": "stream",
     "text": [
      "\n",
      "Train Accuracy: 0.937\n",
      "\n",
      "Test Accuracy: 0.935\n",
      "\n",
      "Precision: 0.966\n",
      "\n",
      "Recall: 0.724\n",
      "\n",
      "F1-Score: 0.828\n"
     ]
    }
   ],
   "source": [
    "ml.evaluate_model_metrics(svm_classifier_grid,X_train,y_train,X_val,y_val)"
   ]
  },
  {
   "cell_type": "markdown",
   "id": "8458e5a6",
   "metadata": {},
   "source": [
    "### Random Search"
   ]
  },
  {
   "cell_type": "code",
   "execution_count": 52,
   "id": "cc4fcfeb",
   "metadata": {},
   "outputs": [],
   "source": [
    "rand_best_params, svm_classifier_rand = ml.random_search_optimize(LinearSVC(random_state=42),param_grid,n_iter=100,cv=5,\n",
    "                                                               X_train=X_train, y_train=y_train,\n",
    "                                                               scoring='accuracy')"
   ]
  },
  {
   "cell_type": "code",
   "execution_count": 53,
   "id": "a3aca564",
   "metadata": {},
   "outputs": [
    {
     "data": {
      "text/plain": [
       "{'penalty': 'l2',\n",
       " 'loss': 'squared_hinge',\n",
       " 'dual': False,\n",
       " 'class_weight': None,\n",
       " 'C': 0.01}"
      ]
     },
     "execution_count": 53,
     "metadata": {},
     "output_type": "execute_result"
    }
   ],
   "source": [
    "rand_best_params"
   ]
  },
  {
   "cell_type": "code",
   "execution_count": 54,
   "id": "0c27dea7",
   "metadata": {},
   "outputs": [
    {
     "name": "stdout",
     "output_type": "stream",
     "text": [
      "\n",
      "Train Accuracy: 0.937\n",
      "\n",
      "Test Accuracy: 0.935\n",
      "\n",
      "Precision: 0.966\n",
      "\n",
      "Recall: 0.724\n",
      "\n",
      "F1-Score: 0.828\n"
     ]
    }
   ],
   "source": [
    "ml.evaluate_model_metrics(svm_classifier_rand,X_train,y_train,X_val,y_val)"
   ]
  },
  {
   "cell_type": "markdown",
   "id": "7d6294a4",
   "metadata": {},
   "source": [
    "### Optuna"
   ]
  },
  {
   "cell_type": "code",
   "execution_count": 55,
   "id": "ae722921",
   "metadata": {},
   "outputs": [],
   "source": [
    "def objective(trial):\n",
    "\n",
    "    C = trial.suggest_loguniform('C', 1e-5, 1e3)\n",
    "    loss = trial.suggest_categorical('loss', ['hinge', 'squared_hinge'])\n",
    "    penalty = trial.suggest_categorical('penalty', ['l1', 'l2'])\n",
    "    class_weight = trial.suggest_categorical('class_weight', [None, 'balanced'])\n",
    "    dual = False\n",
    "    \n",
    "    if penalty == 'l1' or penalty == 'l2' and loss == 'hinge':\n",
    "        raise ml.optuna.TrialPruned()\n",
    "\n",
    "    model = LinearSVC(C=C, loss=loss, penalty=penalty, class_weight=class_weight, dual=dual, random_state=42)\n",
    "            \n",
    "    model.fit(X_train, y_train)\n",
    "    y_pred = model.predict(X_test)\n",
    "\n",
    "    accuracy = ml.accuracy_score(y_test, y_pred)\n",
    "\n",
    "    return accuracy"
   ]
  },
  {
   "cell_type": "code",
   "execution_count": 56,
   "id": "e7e379fd",
   "metadata": {},
   "outputs": [],
   "source": [
    "best_trial , svm_classifier_opt = ml.optuna_optimize(objective, LinearSVC, n_trials=150)"
   ]
  },
  {
   "cell_type": "code",
   "execution_count": 57,
   "id": "b9b8c5b6",
   "metadata": {},
   "outputs": [
    {
     "data": {
      "text/plain": [
       "{'C': 0.05157462051502034,\n",
       " 'loss': 'squared_hinge',\n",
       " 'penalty': 'l2',\n",
       " 'class_weight': None}"
      ]
     },
     "execution_count": 57,
     "metadata": {},
     "output_type": "execute_result"
    }
   ],
   "source": [
    "best_trial"
   ]
  },
  {
   "cell_type": "code",
   "execution_count": 58,
   "id": "9e3a828c",
   "metadata": {},
   "outputs": [
    {
     "name": "stdout",
     "output_type": "stream",
     "text": [
      "\n",
      "Train Accuracy: 0.939\n",
      "\n",
      "Test Accuracy: 0.934\n",
      "\n",
      "Precision: 0.926\n",
      "\n",
      "Recall: 0.754\n",
      "\n",
      "F1-Score: 0.831\n"
     ]
    }
   ],
   "source": [
    "svm_classifier_opt.fit(X_train,y_train)\n",
    "\n",
    "ml.evaluate_model_metrics(svm_classifier_opt,X_train,y_train,X_val,y_val)"
   ]
  },
  {
   "cell_type": "markdown",
   "id": "0d9910b8",
   "metadata": {},
   "source": [
    "## Evaluation on Test Set"
   ]
  },
  {
   "cell_type": "code",
   "execution_count": 59,
   "id": "d53424ec",
   "metadata": {},
   "outputs": [
    {
     "name": "stdout",
     "output_type": "stream",
     "text": [
      "\n",
      "Train Accuracy: 0.939\n",
      "\n",
      "Test Accuracy: 0.944\n",
      "\n",
      "Precision: 0.959\n",
      "\n",
      "Recall: 0.754\n",
      "\n",
      "F1-Score: 0.844\n",
      "\n",
      "Confusion Matrix:\n",
      "\n",
      "[[731   6]\n",
      " [ 46 141]]\n",
      "\n",
      "\n",
      "Classification Report:\n",
      "\n",
      "              precision    recall  f1-score   support\n",
      "\n",
      "     Class 0       0.94      0.99      0.97       737\n",
      "     Class 1       0.96      0.75      0.84       187\n",
      "\n",
      "    accuracy                           0.94       924\n",
      "   macro avg       0.95      0.87      0.90       924\n",
      "weighted avg       0.94      0.94      0.94       924\n",
      "\n",
      "\n",
      "ROC-AUC Curve:\n"
     ]
    },
    {
     "data": {
      "image/png": "[encoded data removed]",
      "text/plain": [
       "<Figure size 600x400 with 1 Axes>"
      ]
     },
     "metadata": {},
     "output_type": "display_data"
    }
   ],
   "source": [
    "# After evaluating on the validation set, we evaluate and finalize on the test set\n",
    "\n",
    "ml.evaluate_model_metrics(svm_classifier_opt, X_train, y_train, X_test, y_test, verbose=6)"
   ]
  },
  {
   "cell_type": "markdown",
   "id": "e7b5c88c",
   "metadata": {},
   "source": [
    "## Cross Validation"
   ]
  },
  {
   "cell_type": "markdown",
   "id": "7e539fb9",
   "metadata": {},
   "source": [
    "### K-fold"
   ]
  },
  {
   "cell_type": "code",
   "execution_count": 60,
   "id": "e77a24f0",
   "metadata": {},
   "outputs": [
    {
     "name": "stdout",
     "output_type": "stream",
     "text": [
      "\n",
      "accuracy scores: [0.91891892 0.92432432 0.92972973 0.95675676 0.9027027  0.93513514\n",
      " 0.91351351 0.93513514 0.95108696 0.92391304]\n",
      "\n",
      "Mean accuracy score:  0.9291216216216217\n",
      "\n",
      "Standard deviation:  0.015539246834611248\n"
     ]
    }
   ],
   "source": [
    "ml.k_cross_validate(LinearSVC(random_state=42),X_train, y_train, cv=10,scoring='accuracy')"
   ]
  },
  {
   "cell_type": "code",
   "execution_count": 61,
   "id": "4aad10b7",
   "metadata": {},
   "outputs": [
    {
     "name": "stdout",
     "output_type": "stream",
     "text": [
      "\n",
      "accuracy scores: [0.90810811 0.92432432 0.93513514 0.97297297 0.91351351 0.94054054\n",
      " 0.9027027  0.94594595 0.97282609 0.93478261]\n",
      "\n",
      "Mean accuracy score:  0.9350851938895417\n",
      "\n",
      "Standard deviation:  0.023162884553480416\n"
     ]
    }
   ],
   "source": [
    "ml.k_cross_validate(LinearSVC(**svm_classifier_grid.get_params()),X_train, y_train, cv=10,scoring='accuracy')"
   ]
  },
  {
   "cell_type": "code",
   "execution_count": 62,
   "id": "fa6ff1f4",
   "metadata": {},
   "outputs": [
    {
     "name": "stdout",
     "output_type": "stream",
     "text": [
      "\n",
      "accuracy scores: [0.90810811 0.92432432 0.93513514 0.97297297 0.91351351 0.94054054\n",
      " 0.9027027  0.94594595 0.97282609 0.93478261]\n",
      "\n",
      "Mean accuracy score:  0.9350851938895417\n",
      "\n",
      "Standard deviation:  0.023162884553480416\n"
     ]
    }
   ],
   "source": [
    "ml.k_cross_validate(LinearSVC(**svm_classifier_rand.get_params()),X_train, y_train, cv=10,scoring='accuracy')"
   ]
  },
  {
   "cell_type": "code",
   "execution_count": 63,
   "id": "46f81577",
   "metadata": {},
   "outputs": [
    {
     "name": "stdout",
     "output_type": "stream",
     "text": [
      "\n",
      "accuracy scores: [0.91351351 0.92972973 0.92432432 0.96216216 0.9027027  0.94054054\n",
      " 0.91351351 0.93513514 0.96195652 0.92934783]\n",
      "\n",
      "Mean accuracy score:  0.931292596944771\n",
      "\n",
      "Standard deviation:  0.01870254282181396\n"
     ]
    }
   ],
   "source": [
    "ml.k_cross_validate(LinearSVC(**svm_classifier_opt.get_params()),X_train, y_train, cv=10,scoring='accuracy')"
   ]
  },
  {
   "cell_type": "markdown",
   "id": "ad831ffc",
   "metadata": {},
   "source": [
    "### Stratified K-fold"
   ]
  },
  {
   "cell_type": "code",
   "execution_count": 64,
   "id": "29a48b89",
   "metadata": {},
   "outputs": [
    {
     "name": "stdout",
     "output_type": "stream",
     "text": [
      "\n",
      "Average Accuracy: 0.9323678025851938\n",
      "\n",
      "Average Precision: 0.9184027233735244\n",
      "\n",
      "Average Recall: 0.7466936572199729\n",
      "\n",
      "Average F1-Score: 0.8204768523804866\n"
     ]
    }
   ],
   "source": [
    "ml.stratified_k_cross_validate(LinearSVC(random_state=42),X_train, y_train, n_splits=10)"
   ]
  },
  {
   "cell_type": "code",
   "execution_count": 65,
   "id": "e0f6f6d6",
   "metadata": {},
   "outputs": [
    {
     "name": "stdout",
     "output_type": "stream",
     "text": [
      "\n",
      "Average Accuracy: 0.932376615746181\n",
      "\n",
      "Average Precision: 0.9578445621757634\n",
      "\n",
      "Average Recall: 0.7101889338731444\n",
      "\n",
      "Average F1-Score: 0.8126218896849988\n"
     ]
    }
   ],
   "source": [
    "ml.stratified_k_cross_validate(LinearSVC(**svm_classifier_grid.get_params()),X_train, y_train, n_splits=10)"
   ]
  },
  {
   "cell_type": "code",
   "execution_count": 66,
   "id": "5aa2c58d",
   "metadata": {},
   "outputs": [
    {
     "name": "stdout",
     "output_type": "stream",
     "text": [
      "\n",
      "Average Accuracy: 0.932376615746181\n",
      "\n",
      "Average Precision: 0.9578445621757634\n",
      "\n",
      "Average Recall: 0.7101889338731444\n",
      "\n",
      "Average F1-Score: 0.8126218896849988\n"
     ]
    }
   ],
   "source": [
    "ml.stratified_k_cross_validate(LinearSVC(**svm_classifier_rand.get_params()),X_train, y_train, n_splits=10)"
   ]
  },
  {
   "cell_type": "code",
   "execution_count": 67,
   "id": "2c1453da",
   "metadata": {},
   "outputs": [
    {
     "name": "stdout",
     "output_type": "stream",
     "text": [
      "\n",
      "Average Accuracy: 0.9339952996474736\n",
      "\n",
      "Average Precision: 0.9372558915870929\n",
      "\n",
      "Average Recall: 0.736302294197031\n",
      "\n",
      "Average F1-Score: 0.8219749252466363\n"
     ]
    }
   ],
   "source": [
    "ml.stratified_k_cross_validate(LinearSVC(**svm_classifier_opt.get_params()),X_train, y_train, n_splits=10)"
   ]
  },
  {
   "cell_type": "markdown",
   "id": "7a471ca4",
   "metadata": {},
   "source": [
    "### Save Model"
   ]
  },
  {
   "cell_type": "code",
   "execution_count": 68,
   "id": "6e89475b",
   "metadata": {},
   "outputs": [],
   "source": [
    "final_svm_estimator = svm_classifier_opt"
   ]
  },
  {
   "cell_type": "code",
   "execution_count": 69,
   "id": "ea9c37ae",
   "metadata": {},
   "outputs": [
    {
     "name": "stdout",
     "output_type": "stream",
     "text": [
      "Overwrite File? [y/n]: y\n",
      "Saved Model\n"
     ]
    }
   ],
   "source": [
    "# Saving the model\n",
    "\n",
    "ml.save_model(final_svm_estimator, \"../Models/Diabetes/SVM.pkl\")"
   ]
  },
  {
   "cell_type": "markdown",
   "id": "de59f229",
   "metadata": {},
   "source": [
    "## Prediction"
   ]
  },
  {
   "cell_type": "code",
   "execution_count": 70,
   "id": "67af8316",
   "metadata": {},
   "outputs": [
    {
     "name": "stdout",
     "output_type": "stream",
     "text": [
      "Instance:\n",
      " [-0.23965133  0.08343459  0.43098526 -0.53977824 -0.91757442 -0.71586697\n",
      "  0.59870785 -0.81699206 -0.87961504  0.52561492 -0.76952305 -0.25870994\n",
      "  0.86069406 -0.10530833 -0.35078086  0.31577927 -0.75708332 -0.19998337\n",
      " -0.50214831 -0.60769327 -0.21433724 -0.2659618   0.86166844 -0.54900705\n",
      " -0.22729524 -0.54399921  0.15286896 -0.48539815 -0.78864439 -1.13909597\n",
      " -0.66948429 -0.41077715  0.13469137 -0.30155613 -0.41407201  0.04567121\n",
      "  0.42060515  0.55940779 -0.32078214]\n",
      "\n",
      "Expected Class:  0.0\n",
      "\n",
      " Modified Instance:\n",
      " [-0.23965133  0.16430908  0.34803841 -0.41437032 -1.12397577 -0.49070523\n",
      "  0.67881198 -0.76045294 -0.95275034  0.5789763  -0.73798298 -0.20303913\n",
      "  0.84836391  0.01890667 -0.26072837  0.25956227 -0.82749828 -0.19076235\n",
      " -0.37808322 -0.44779407 -0.39776378 -0.28496647  0.96418965 -0.25104857\n",
      " -0.29913675 -0.45560812  0.20249204 -0.41021644 -0.88686408 -1.21983878\n",
      " -0.74862011 -0.51254449  0.36650996 -0.21853879 -0.52105236 -0.19613331\n",
      "  0.47974636  0.44256664 -0.32963656]\n",
      "\n",
      "Predicted Class:  [0.]\n"
     ]
    }
   ],
   "source": [
    "# Predicting on perturbed values\n",
    "\n",
    "ml.predict_on_modified_instance(final_svm_estimator, X_test.iloc[0], y_test.iloc[0], 0.4)"
   ]
  },
  {
   "cell_type": "code",
   "execution_count": 71,
   "id": "a39b8dfe",
   "metadata": {},
   "outputs": [
    {
     "name": "stdout",
     "output_type": "stream",
     "text": [
      "Instance:\n",
      " [-0.56871932 -0.91073796 -0.96987367  1.00435517  0.68565048 -0.9928193\n",
      " -0.36522065  0.08549795 -0.09949243 -0.37242152 -0.88928712 -0.49380827\n",
      " -0.54264627  1.58133097 -0.59673116 -0.3710447   0.07392759  1.42790017\n",
      " -0.4993656  -0.65105216 -0.35494613  0.29434076  0.50619582 -0.00901693\n",
      " -0.54572787 -0.18166113 -1.91825883  0.26871348 -0.00430855  1.83823534\n",
      " -0.32893737  0.52478628  0.30948747  0.05945168 -0.15041101 -0.06316231\n",
      " -0.24868676 -0.49487922 -0.85562403]\n",
      "\n",
      "Expected Class:  0.0\n",
      "\n",
      " Modified Instance:\n",
      " [-0.56871932 -0.98446589 -0.85345674  1.02390761  0.59930554 -0.90006516\n",
      " -0.44927502 -0.0573715   0.14518548 -0.40114511 -1.03473448 -0.22924343\n",
      " -0.48295007  1.47183503 -0.56129653 -0.65967903  0.09283997  1.38181435\n",
      " -0.33739484 -0.46895147 -0.48124653  0.12269895  0.49272587  0.11855484\n",
      " -0.66636268 -0.18274028 -2.05511956  0.44596343  0.111217    1.84265034\n",
      " -0.25481126  0.56799902  0.26318581  0.26846276 -0.35727669 -0.06049572\n",
      " -0.32863463 -0.30063263 -1.04057931]\n",
      "\n",
      "Predicted Class:  [0.]\n"
     ]
    }
   ],
   "source": [
    "ml.predict_on_modified_instance(final_svm_estimator, X_test.iloc[1], y_test.iloc[1], 0.3)"
   ]
  }
 ],
 "metadata": {
  "kernelspec": {
   "display_name": "Python 3 (ipykernel)",
   "language": "python",
   "name": "python3"
  },
  "language_info": {
   "codemirror_mode": {
    "name": "ipython",
    "version": 3
   },
   "file_extension": ".py",
   "mimetype": "text/x-python",
   "name": "python",
   "nbconvert_exporter": "python",
   "pygments_lexer": "ipython3",
   "version": "3.10.12"
  }
 },
 "nbformat": 4,
 "nbformat_minor": 5
}
