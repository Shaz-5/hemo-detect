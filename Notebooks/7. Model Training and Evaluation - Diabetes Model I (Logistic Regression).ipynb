{
 "cells": [
  {
   "cell_type": "markdown",
   "id": "29597ebe",
   "metadata": {},
   "source": [
    "# Model Training and Evaluation"
   ]
  },
  {
   "cell_type": "code",
   "execution_count": 1,
   "id": "d5c11be5",
   "metadata": {},
   "outputs": [],
   "source": [
    "import pandas as pd\n",
    "import numpy as np\n",
    "import matplotlib.pyplot as plt\n",
    "\n",
    "from dotenv import load_dotenv\n",
    "import os\n",
    "\n",
    "from neo4j import GraphDatabase\n",
    "\n",
    "from sklearn.model_selection import train_test_split\n",
    "\n",
    "from sklearn.impute import SimpleImputer\n",
    "from sklearn.impute import KNNImputer\n",
    "from fancyimpute import IterativeImputer\n",
    "from sklearn.preprocessing import StandardScaler\n",
    "from sklearn.compose import ColumnTransformer\n",
    "from sklearn.pipeline import Pipeline\n",
    "\n",
    "from sklearn.linear_model import LogisticRegression\n",
    "from sklearn.model_selection import cross_val_score\n",
    "from sklearn.metrics import accuracy_score, precision_score, recall_score, f1_score, roc_auc_score\n",
    "from sklearn.metrics import confusion_matrix, classification_report, roc_curve, auc\n",
    "\n",
    "from imblearn.over_sampling import RandomOverSampler\n",
    "from imblearn.over_sampling import SMOTE\n",
    "from imblearn.under_sampling import RandomUnderSampler\n",
    "from imblearn.under_sampling import TomekLinks\n",
    "from imblearn.combine import SMOTETomek\n",
    "\n",
    "from sklearn.feature_selection import SelectKBest, f_classif\n",
    "from sklearn.feature_selection import RFE\n",
    "from sklearn.feature_selection import SelectFromModel\n",
    "from sklearn.feature_selection import RFECV\n",
    "from skrebate import ReliefF\n",
    "from collections import Counter\n",
    "\n",
    "from sklearn.model_selection import RandomizedSearchCV\n",
    "from sklearn.model_selection import GridSearchCV\n",
    "import optuna\n",
    "\n",
    "from sklearn.model_selection import StratifiedKFold\n",
    "\n",
    "from IPython.display import clear_output\n",
    "import warnings\n",
    "warnings.filterwarnings(\"ignore\")"
   ]
  },
  {
   "cell_type": "code",
   "execution_count": 2,
   "id": "a8c0354a",
   "metadata": {},
   "outputs": [],
   "source": [
    "# Connecting to Neo4j\n",
    "\n",
    "def connect_to_neo4j(path):\n",
    "    \n",
    "    load_dotenv(path)\n",
    "\n",
    "    uri = os.getenv(\"NEO4J_URI\")\n",
    "    user = os.getenv(\"NEO4J_USER\")\n",
    "    password = os.getenv(\"NEO4J_PASSWORD\")\n",
    "\n",
    "    # Creating a Neo4j Driver Instance\n",
    "    driver = GraphDatabase.driver(uri, auth=(user, password))\n",
    "\n",
    "    # Verifying Connection\n",
    "    try:\n",
    "        driver.verify_connectivity()\n",
    "        print('Connected to database successfully.')\n",
    "        return driver\n",
    "    \n",
    "    except Exception as err:\n",
    "        print(f\"Error: {err}, type: {type(err)}\")"
   ]
  },
  {
   "cell_type": "code",
   "execution_count": 4,
   "id": "bc1964b0",
   "metadata": {},
   "outputs": [
    {
     "name": "stdout",
     "output_type": "stream",
     "text": [
      "Connected to database successfully.\n"
     ]
    }
   ],
   "source": [
    "path = '../KG/db.env'\n",
    "\n",
    "driver = connect_to_neo4j(path)"
   ]
  },
  {
   "cell_type": "code",
   "execution_count": 5,
   "id": "22dbd6a1",
   "metadata": {},
   "outputs": [],
   "source": [
    "# Define a function to retrieve data from the knowledge graph based on suitable cypher queries \n",
    "\n",
    "def retrieve_data_from_graph(query):\n",
    "    \n",
    "    result_data = []\n",
    "\n",
    "    with driver.session() as session:\n",
    "        result = session.run(query)\n",
    "\n",
    "        for record in result:\n",
    "            result_data.append(dict(record))\n",
    "    \n",
    "    return result_data"
   ]
  },
  {
   "cell_type": "code",
   "execution_count": 6,
   "id": "a322c64b",
   "metadata": {
    "scrolled": true
   },
   "outputs": [],
   "source": [
    "# Function to retrieve all the data for a particular disease\n",
    "\n",
    "def get_data_of_disease(disease):\n",
    "    \n",
    "    # Retrieve data for a specific disease from the knowledge graph.\n",
    "\n",
    "    # Parameters:\n",
    "    #     disease_name (str): The name of the disease to retrieve data for.\n",
    "\n",
    "    # Returns:\n",
    "    #     disease_df (pd.DataFrame): DataFrame containing person, disease, biomarker, and protein data.\n",
    "    \n",
    "    disease_query = \"\"\"\n",
    "    MATCH (p:Person)-[s:SUFFERS_FROM]->(d:Disease)\n",
    "    where d.name = '\"\"\"+ disease +\"\"\"' and s.status IN ['Positive','Negative']\n",
    "    RETURN p.respondentId as Respondent_ID,\n",
    "    d.name AS DiseaseName,\n",
    "    s.status AS DiseaseStatus;\n",
    "    \"\"\"\n",
    "\n",
    "    disease_df = pd.DataFrame(retrieve_data_from_graph(disease_query))\n",
    "    disease_data = disease_df.pivot(index=['Respondent_ID'],columns='DiseaseName', values='DiseaseStatus')\n",
    "    disease_data = disease_data.reset_index()\n",
    "    disease_data[disease] = disease_data[disease].map({'Negative': 0, 'Positive' : 1})\n",
    "\n",
    "    biomarker_query = \"\"\"\n",
    "    MATCH (p:Person)-[s:SUFFERS_FROM]->(d:Disease)\n",
    "    where d.name = '\"\"\"+ disease +\"\"\"' and s.status IN ['Positive','Negative']\n",
    "    MATCH (p)-[h:HAS]->(b:BloodBiomarker)\n",
    "    RETURN p.respondentId as Respondent_ID,\n",
    "    p.gender AS Gender,\n",
    "    p.age AS Age,\n",
    "    p.bmi AS BMI,\n",
    "    b.name AS BiomarkerName,\n",
    "    b.unit AS BiomarkerUnit,\n",
    "    h.value AS BiomarkerValue;\n",
    "    \"\"\"\n",
    "\n",
    "    biomarker_df = pd.DataFrame(retrieve_data_from_graph(biomarker_query))\n",
    "    biomarker_df['BloodBiomarker'] = np.where(biomarker_df['BiomarkerUnit'].notnull(),\n",
    "                                       biomarker_df['BiomarkerName'] + ' [' + biomarker_df['BiomarkerUnit'] + ']',\n",
    "                                       biomarker_df['BiomarkerName'])\n",
    "    biomarker_data = biomarker_df.pivot(index=['Respondent_ID','Gender','Age','BMI'], \n",
    "                                        columns='BloodBiomarker',\n",
    "                                        values='BiomarkerValue')\n",
    "    biomarker_data = biomarker_data.reset_index()\n",
    "    biomarker_data['Gender'] = biomarker_data['Gender'].map({'Female': 0, 'Male' : 1})\n",
    "\n",
    "\n",
    "    protein_query = \"\"\"\n",
    "    MATCH (p:Person)-[s:SUFFERS_FROM]->(d:Disease)\n",
    "    where d.name = '\"\"\"+ disease +\"\"\"' and s.status IN ['Positive','Negative']\n",
    "    MATCH (p)-[h:HAS]->(b:BloodProtein)\n",
    "    RETURN p.respondentId as Respondent_ID,\n",
    "    b.name AS ProteinName,\n",
    "    b.unit AS ProteinUnit,\n",
    "    h.value AS ProteinValue;\n",
    "    \"\"\"\n",
    "\n",
    "    protein_df = pd.DataFrame(retrieve_data_from_graph(protein_query))\n",
    "    protein_df['BloodProtein'] = np.where(protein_df['ProteinUnit'].notnull(),\n",
    "                                       protein_df['ProteinName'] + ' [' + protein_df['ProteinUnit'] + ']',\n",
    "                                       protein_df['ProteinName'])\n",
    "    protein_data = protein_df.pivot(index=['Respondent_ID'], \n",
    "                                        columns='BloodProtein',\n",
    "                                        values='ProteinValue')\n",
    "    protein_data = protein_data.reset_index()\n",
    "\n",
    "    disease_df = biomarker_data.merge(protein_data, on='Respondent_ID',how='inner')\n",
    "    disease_df = disease_df.merge(disease_data, on='Respondent_ID',how='inner')\n",
    "    \n",
    "    return disease_df"
   ]
  },
  {
   "cell_type": "markdown",
   "id": "b5e0deab",
   "metadata": {},
   "source": [
    "# Diabetes"
   ]
  },
  {
   "cell_type": "code",
   "execution_count": 7,
   "id": "28254354",
   "metadata": {},
   "outputs": [
    {
     "data": {
      "text/html": [
       "<div>\n",
       "<style scoped>\n",
       "    .dataframe tbody tr th:only-of-type {\n",
       "        vertical-align: middle;\n",
       "    }\n",
       "\n",
       "    .dataframe tbody tr th {\n",
       "        vertical-align: top;\n",
       "    }\n",
       "\n",
       "    .dataframe thead th {\n",
       "        text-align: right;\n",
       "    }\n",
       "</style>\n",
       "<table border=\"1\" class=\"dataframe\">\n",
       "  <thead>\n",
       "    <tr style=\"text-align: right;\">\n",
       "      <th></th>\n",
       "      <th>Respondent_ID</th>\n",
       "      <th>Gender</th>\n",
       "      <th>Age</th>\n",
       "      <th>BMI</th>\n",
       "      <th>25-hydroxyvitamin D2 + D3 [nmol/L]</th>\n",
       "      <th>A/G Ratio</th>\n",
       "      <th>Alpha-carotene [umol/L]</th>\n",
       "      <th>Alpha-crypotoxanthin [umol/L]</th>\n",
       "      <th>Alpha-tocopherol [umol/L]</th>\n",
       "      <th>Basophils [%]</th>\n",
       "      <th>...</th>\n",
       "      <th>Ferritin [ng/mL]</th>\n",
       "      <th>Gamma Glutamyl Transferase [IU/L]</th>\n",
       "      <th>Hemoglobin [g/dL]</th>\n",
       "      <th>Insulin [pmol/L]</th>\n",
       "      <th>LDL-Cholesterol(NIH2) [mmol/L]</th>\n",
       "      <th>Lactate Dehydrogenase [IU/L]</th>\n",
       "      <th>Transferrin Saturation [%]</th>\n",
       "      <th>Transferrin receptor [nmol/L]</th>\n",
       "      <th>Triglyceride [mmol/L]</th>\n",
       "      <th>Diabetes</th>\n",
       "    </tr>\n",
       "  </thead>\n",
       "  <tbody>\n",
       "    <tr>\n",
       "      <th>0</th>\n",
       "      <td>93703</td>\n",
       "      <td>0</td>\n",
       "      <td>2</td>\n",
       "      <td>17.5</td>\n",
       "      <td>NaN</td>\n",
       "      <td>NaN</td>\n",
       "      <td>NaN</td>\n",
       "      <td>NaN</td>\n",
       "      <td>NaN</td>\n",
       "      <td>NaN</td>\n",
       "      <td>...</td>\n",
       "      <td>NaN</td>\n",
       "      <td>NaN</td>\n",
       "      <td>NaN</td>\n",
       "      <td>NaN</td>\n",
       "      <td>NaN</td>\n",
       "      <td>NaN</td>\n",
       "      <td>NaN</td>\n",
       "      <td>NaN</td>\n",
       "      <td>NaN</td>\n",
       "      <td>0</td>\n",
       "    </tr>\n",
       "    <tr>\n",
       "      <th>1</th>\n",
       "      <td>93704</td>\n",
       "      <td>1</td>\n",
       "      <td>2</td>\n",
       "      <td>15.7</td>\n",
       "      <td>74.4</td>\n",
       "      <td>NaN</td>\n",
       "      <td>NaN</td>\n",
       "      <td>NaN</td>\n",
       "      <td>NaN</td>\n",
       "      <td>0.7</td>\n",
       "      <td>...</td>\n",
       "      <td>36.60</td>\n",
       "      <td>NaN</td>\n",
       "      <td>13.1</td>\n",
       "      <td>NaN</td>\n",
       "      <td>NaN</td>\n",
       "      <td>NaN</td>\n",
       "      <td>NaN</td>\n",
       "      <td>30.6</td>\n",
       "      <td>NaN</td>\n",
       "      <td>0</td>\n",
       "    </tr>\n",
       "    <tr>\n",
       "      <th>2</th>\n",
       "      <td>93705</td>\n",
       "      <td>0</td>\n",
       "      <td>66</td>\n",
       "      <td>31.7</td>\n",
       "      <td>89.9</td>\n",
       "      <td>1.517241</td>\n",
       "      <td>0.138</td>\n",
       "      <td>0.071</td>\n",
       "      <td>26.006</td>\n",
       "      <td>1.0</td>\n",
       "      <td>...</td>\n",
       "      <td>28.70</td>\n",
       "      <td>21.0</td>\n",
       "      <td>11.9</td>\n",
       "      <td>NaN</td>\n",
       "      <td>NaN</td>\n",
       "      <td>174.0</td>\n",
       "      <td>28.0</td>\n",
       "      <td>39.8</td>\n",
       "      <td>NaN</td>\n",
       "      <td>0</td>\n",
       "    </tr>\n",
       "    <tr>\n",
       "      <th>3</th>\n",
       "      <td>93706</td>\n",
       "      <td>1</td>\n",
       "      <td>18</td>\n",
       "      <td>21.5</td>\n",
       "      <td>53.8</td>\n",
       "      <td>1.629630</td>\n",
       "      <td>0.160</td>\n",
       "      <td>0.031</td>\n",
       "      <td>16.765</td>\n",
       "      <td>0.8</td>\n",
       "      <td>...</td>\n",
       "      <td>284.00</td>\n",
       "      <td>16.0</td>\n",
       "      <td>16.3</td>\n",
       "      <td>NaN</td>\n",
       "      <td>NaN</td>\n",
       "      <td>142.0</td>\n",
       "      <td>51.0</td>\n",
       "      <td>34.0</td>\n",
       "      <td>NaN</td>\n",
       "      <td>0</td>\n",
       "    </tr>\n",
       "    <tr>\n",
       "      <th>4</th>\n",
       "      <td>93707</td>\n",
       "      <td>1</td>\n",
       "      <td>13</td>\n",
       "      <td>18.1</td>\n",
       "      <td>58.2</td>\n",
       "      <td>1.857143</td>\n",
       "      <td>0.009</td>\n",
       "      <td>0.044</td>\n",
       "      <td>22.756</td>\n",
       "      <td>0.5</td>\n",
       "      <td>...</td>\n",
       "      <td>49.30</td>\n",
       "      <td>9.0</td>\n",
       "      <td>14.5</td>\n",
       "      <td>NaN</td>\n",
       "      <td>NaN</td>\n",
       "      <td>177.0</td>\n",
       "      <td>21.0</td>\n",
       "      <td>34.0</td>\n",
       "      <td>NaN</td>\n",
       "      <td>0</td>\n",
       "    </tr>\n",
       "    <tr>\n",
       "      <th>...</th>\n",
       "      <td>...</td>\n",
       "      <td>...</td>\n",
       "      <td>...</td>\n",
       "      <td>...</td>\n",
       "      <td>...</td>\n",
       "      <td>...</td>\n",
       "      <td>...</td>\n",
       "      <td>...</td>\n",
       "      <td>...</td>\n",
       "      <td>...</td>\n",
       "      <td>...</td>\n",
       "      <td>...</td>\n",
       "      <td>...</td>\n",
       "      <td>...</td>\n",
       "      <td>...</td>\n",
       "      <td>...</td>\n",
       "      <td>...</td>\n",
       "      <td>...</td>\n",
       "      <td>...</td>\n",
       "      <td>...</td>\n",
       "      <td>...</td>\n",
       "    </tr>\n",
       "    <tr>\n",
       "      <th>8888</th>\n",
       "      <td>102952</td>\n",
       "      <td>0</td>\n",
       "      <td>70</td>\n",
       "      <td>20.0</td>\n",
       "      <td>82.7</td>\n",
       "      <td>1.846154</td>\n",
       "      <td>0.235</td>\n",
       "      <td>0.077</td>\n",
       "      <td>31.347</td>\n",
       "      <td>0.6</td>\n",
       "      <td>...</td>\n",
       "      <td>135.00</td>\n",
       "      <td>18.0</td>\n",
       "      <td>13.4</td>\n",
       "      <td>26.34</td>\n",
       "      <td>1.112</td>\n",
       "      <td>168.0</td>\n",
       "      <td>39.0</td>\n",
       "      <td>29.1</td>\n",
       "      <td>0.881</td>\n",
       "      <td>1</td>\n",
       "    </tr>\n",
       "    <tr>\n",
       "      <th>8889</th>\n",
       "      <td>102953</td>\n",
       "      <td>1</td>\n",
       "      <td>42</td>\n",
       "      <td>35.8</td>\n",
       "      <td>49.5</td>\n",
       "      <td>1.142857</td>\n",
       "      <td>0.106</td>\n",
       "      <td>0.080</td>\n",
       "      <td>21.873</td>\n",
       "      <td>0.6</td>\n",
       "      <td>...</td>\n",
       "      <td>120.00</td>\n",
       "      <td>28.0</td>\n",
       "      <td>15.5</td>\n",
       "      <td>NaN</td>\n",
       "      <td>NaN</td>\n",
       "      <td>136.0</td>\n",
       "      <td>20.0</td>\n",
       "      <td>28.6</td>\n",
       "      <td>NaN</td>\n",
       "      <td>0</td>\n",
       "    </tr>\n",
       "    <tr>\n",
       "      <th>8890</th>\n",
       "      <td>102954</td>\n",
       "      <td>0</td>\n",
       "      <td>41</td>\n",
       "      <td>26.1</td>\n",
       "      <td>50.5</td>\n",
       "      <td>1.500000</td>\n",
       "      <td>0.117</td>\n",
       "      <td>0.056</td>\n",
       "      <td>26.935</td>\n",
       "      <td>1.4</td>\n",
       "      <td>...</td>\n",
       "      <td>1.99</td>\n",
       "      <td>8.0</td>\n",
       "      <td>6.4</td>\n",
       "      <td>56.94</td>\n",
       "      <td>2.793</td>\n",
       "      <td>123.0</td>\n",
       "      <td>5.0</td>\n",
       "      <td>248.0</td>\n",
       "      <td>0.553</td>\n",
       "      <td>0</td>\n",
       "    </tr>\n",
       "    <tr>\n",
       "      <th>8891</th>\n",
       "      <td>102955</td>\n",
       "      <td>0</td>\n",
       "      <td>14</td>\n",
       "      <td>45.6</td>\n",
       "      <td>61.9</td>\n",
       "      <td>1.205882</td>\n",
       "      <td>0.031</td>\n",
       "      <td>0.079</td>\n",
       "      <td>17.856</td>\n",
       "      <td>0.9</td>\n",
       "      <td>...</td>\n",
       "      <td>11.40</td>\n",
       "      <td>16.0</td>\n",
       "      <td>11.4</td>\n",
       "      <td>NaN</td>\n",
       "      <td>NaN</td>\n",
       "      <td>158.0</td>\n",
       "      <td>5.0</td>\n",
       "      <td>57.7</td>\n",
       "      <td>NaN</td>\n",
       "      <td>0</td>\n",
       "    </tr>\n",
       "    <tr>\n",
       "      <th>8892</th>\n",
       "      <td>102956</td>\n",
       "      <td>1</td>\n",
       "      <td>38</td>\n",
       "      <td>36.1</td>\n",
       "      <td>58.9</td>\n",
       "      <td>1.482759</td>\n",
       "      <td>0.026</td>\n",
       "      <td>0.038</td>\n",
       "      <td>21.177</td>\n",
       "      <td>1.0</td>\n",
       "      <td>...</td>\n",
       "      <td>553.00</td>\n",
       "      <td>72.0</td>\n",
       "      <td>17.4</td>\n",
       "      <td>634.38</td>\n",
       "      <td>2.172</td>\n",
       "      <td>134.0</td>\n",
       "      <td>35.0</td>\n",
       "      <td>23.4</td>\n",
       "      <td>3.037</td>\n",
       "      <td>0</td>\n",
       "    </tr>\n",
       "  </tbody>\n",
       "</table>\n",
       "<p>8893 rows × 91 columns</p>\n",
       "</div>"
      ],
      "text/plain": [
       "      Respondent_ID  Gender  Age   BMI  25-hydroxyvitamin D2 + D3 [nmol/L]  \\\n",
       "0             93703       0    2  17.5                                 NaN   \n",
       "1             93704       1    2  15.7                                74.4   \n",
       "2             93705       0   66  31.7                                89.9   \n",
       "3             93706       1   18  21.5                                53.8   \n",
       "4             93707       1   13  18.1                                58.2   \n",
       "...             ...     ...  ...   ...                                 ...   \n",
       "8888         102952       0   70  20.0                                82.7   \n",
       "8889         102953       1   42  35.8                                49.5   \n",
       "8890         102954       0   41  26.1                                50.5   \n",
       "8891         102955       0   14  45.6                                61.9   \n",
       "8892         102956       1   38  36.1                                58.9   \n",
       "\n",
       "      A/G Ratio  Alpha-carotene [umol/L]  Alpha-crypotoxanthin [umol/L]  \\\n",
       "0           NaN                      NaN                            NaN   \n",
       "1           NaN                      NaN                            NaN   \n",
       "2      1.517241                    0.138                          0.071   \n",
       "3      1.629630                    0.160                          0.031   \n",
       "4      1.857143                    0.009                          0.044   \n",
       "...         ...                      ...                            ...   \n",
       "8888   1.846154                    0.235                          0.077   \n",
       "8889   1.142857                    0.106                          0.080   \n",
       "8890   1.500000                    0.117                          0.056   \n",
       "8891   1.205882                    0.031                          0.079   \n",
       "8892   1.482759                    0.026                          0.038   \n",
       "\n",
       "      Alpha-tocopherol [umol/L]  Basophils [%]  ...  Ferritin [ng/mL]  \\\n",
       "0                           NaN            NaN  ...               NaN   \n",
       "1                           NaN            0.7  ...             36.60   \n",
       "2                        26.006            1.0  ...             28.70   \n",
       "3                        16.765            0.8  ...            284.00   \n",
       "4                        22.756            0.5  ...             49.30   \n",
       "...                         ...            ...  ...               ...   \n",
       "8888                     31.347            0.6  ...            135.00   \n",
       "8889                     21.873            0.6  ...            120.00   \n",
       "8890                     26.935            1.4  ...              1.99   \n",
       "8891                     17.856            0.9  ...             11.40   \n",
       "8892                     21.177            1.0  ...            553.00   \n",
       "\n",
       "      Gamma Glutamyl Transferase [IU/L]  Hemoglobin [g/dL]  Insulin [pmol/L]  \\\n",
       "0                                   NaN                NaN               NaN   \n",
       "1                                   NaN               13.1               NaN   \n",
       "2                                  21.0               11.9               NaN   \n",
       "3                                  16.0               16.3               NaN   \n",
       "4                                   9.0               14.5               NaN   \n",
       "...                                 ...                ...               ...   \n",
       "8888                               18.0               13.4             26.34   \n",
       "8889                               28.0               15.5               NaN   \n",
       "8890                                8.0                6.4             56.94   \n",
       "8891                               16.0               11.4               NaN   \n",
       "8892                               72.0               17.4            634.38   \n",
       "\n",
       "      LDL-Cholesterol(NIH2) [mmol/L]  Lactate Dehydrogenase [IU/L]  \\\n",
       "0                                NaN                           NaN   \n",
       "1                                NaN                           NaN   \n",
       "2                                NaN                         174.0   \n",
       "3                                NaN                         142.0   \n",
       "4                                NaN                         177.0   \n",
       "...                              ...                           ...   \n",
       "8888                           1.112                         168.0   \n",
       "8889                             NaN                         136.0   \n",
       "8890                           2.793                         123.0   \n",
       "8891                             NaN                         158.0   \n",
       "8892                           2.172                         134.0   \n",
       "\n",
       "      Transferrin Saturation [%]  Transferrin receptor [nmol/L]  \\\n",
       "0                            NaN                            NaN   \n",
       "1                            NaN                           30.6   \n",
       "2                           28.0                           39.8   \n",
       "3                           51.0                           34.0   \n",
       "4                           21.0                           34.0   \n",
       "...                          ...                            ...   \n",
       "8888                        39.0                           29.1   \n",
       "8889                        20.0                           28.6   \n",
       "8890                         5.0                          248.0   \n",
       "8891                         5.0                           57.7   \n",
       "8892                        35.0                           23.4   \n",
       "\n",
       "      Triglyceride [mmol/L]  Diabetes  \n",
       "0                       NaN         0  \n",
       "1                       NaN         0  \n",
       "2                       NaN         0  \n",
       "3                       NaN         0  \n",
       "4                       NaN         0  \n",
       "...                     ...       ...  \n",
       "8888                  0.881         1  \n",
       "8889                    NaN         0  \n",
       "8890                  0.553         0  \n",
       "8891                    NaN         0  \n",
       "8892                  3.037         0  \n",
       "\n",
       "[8893 rows x 91 columns]"
      ]
     },
     "execution_count": 7,
     "metadata": {},
     "output_type": "execute_result"
    }
   ],
   "source": [
    "# Data for Diabetes\n",
    "\n",
    "diabetes_df = get_data_of_disease('Diabetes')\n",
    "diabetes_df"
   ]
  },
  {
   "cell_type": "code",
   "execution_count": 8,
   "id": "1150d274",
   "metadata": {},
   "outputs": [
    {
     "data": {
      "text/plain": [
       "(8893, 91)"
      ]
     },
     "execution_count": 8,
     "metadata": {},
     "output_type": "execute_result"
    }
   ],
   "source": [
    "diabetes_df.shape"
   ]
  },
  {
   "cell_type": "markdown",
   "id": "4e273299",
   "metadata": {},
   "source": [
    "## Pre-processing"
   ]
  },
  {
   "cell_type": "code",
   "execution_count": 8,
   "id": "d6121097",
   "metadata": {},
   "outputs": [],
   "source": [
    "# Seperate the attributes and labels\n",
    "\n",
    "X = diabetes_df.drop(['Respondent_ID','Diabetes'],axis=1)\n",
    "y = diabetes_df['Diabetes'].copy()"
   ]
  },
  {
   "cell_type": "code",
   "execution_count": 9,
   "id": "98fb3607",
   "metadata": {},
   "outputs": [],
   "source": [
    "# Splitting the data into training and test sets\n",
    "\n",
    "X_train, X_test, y_train, y_test = train_test_split(X, y, test_size = 0.20, random_state = 42)"
   ]
  },
  {
   "cell_type": "code",
   "execution_count": 10,
   "id": "fbc30ce0",
   "metadata": {},
   "outputs": [
    {
     "data": {
      "text/plain": [
       "array([4.94658420e-01, 3.59339331e+01, 2.66632902e+01, 6.69514656e+01,\n",
       "       1.35202339e+00, 9.39828822e-02, 5.47632135e-02, 2.65182621e+01,\n",
       "       7.56096753e-01, 1.96819124e-01, 1.46247362e+01, 3.32056939e+00,\n",
       "       5.17312568e-02, 1.87938976e+02, 5.72086819e+00, 2.36572875e+00,\n",
       "       6.82204875e+00, 2.02666800e-02, 3.58133427e+00, 4.08380899e+01,\n",
       "       8.74950411e-01, 2.96303844e+00, 6.19282418e+00, 4.17317981e+00,\n",
       "       3.08708316e+00, 5.76856497e+00, 4.08877754e+01, 1.63781259e+01,\n",
       "       8.73197552e+01, 1.54538462e+01, 2.19882788e+00, 3.44511980e-01,\n",
       "       3.41073393e+01, 3.25265641e+01, 4.47506490e+00, 3.35746563e+01,\n",
       "       2.90903595e+01, 8.65968362e+01, 8.09436806e+00, 8.20218688e+00,\n",
       "       1.88218522e+00, 1.26717164e+02, 8.42009284e-02, 2.80846349e+02,\n",
       "       3.66912199e+00, 2.59371211e+02, 1.17680544e+02, 3.76126934e+01,\n",
       "       4.09615709e+00, 4.73612722e+00, 1.37733477e+01, 1.71851328e+00,\n",
       "       5.37858134e-02, 1.99033503e-02, 5.40956925e+01, 1.40336076e+02,\n",
       "       4.79528002e+02, 4.60772315e-01, 9.31859434e+00, 4.65493249e+00,\n",
       "       3.60728633e+00, 5.88022114e+01, 7.16861458e-01, 7.16496412e+00,\n",
       "       3.65085070e-01, 3.87772981e-01, 1.05155470e+00, 4.33433108e+01,\n",
       "       5.41230477e+00, 5.41216139e+01, 7.40190492e+00, 2.14831152e+01,\n",
       "       4.07785277e+00, 9.10046423e+01, 2.18105932e+01, 2.55472773e+01,\n",
       "       3.47611866e+00, 1.01035865e+02, 1.78782306e+02, 1.37802663e+00,\n",
       "       1.34844354e+02, 2.97775433e+01, 1.37412457e+01, 8.53004255e+01,\n",
       "       2.80563585e+00, 1.59609324e+02, 2.69357294e+01, 4.04619625e+01,\n",
       "       1.21308800e+00])"
      ]
     },
     "execution_count": 10,
     "metadata": {},
     "output_type": "execute_result"
    }
   ],
   "source": [
    "imputer = SimpleImputer(strategy='mean')\n",
    "\n",
    "imputer.fit(X_train)\n",
    "\n",
    "imputer.statistics_     # contains the mean values for each attribute"
   ]
  },
  {
   "cell_type": "code",
   "execution_count": 11,
   "id": "2609e350",
   "metadata": {
    "scrolled": false
   },
   "outputs": [
    {
     "data": {
      "text/html": [
       "<div>\n",
       "<style scoped>\n",
       "    .dataframe tbody tr th:only-of-type {\n",
       "        vertical-align: middle;\n",
       "    }\n",
       "\n",
       "    .dataframe tbody tr th {\n",
       "        vertical-align: top;\n",
       "    }\n",
       "\n",
       "    .dataframe thead th {\n",
       "        text-align: right;\n",
       "    }\n",
       "</style>\n",
       "<table border=\"1\" class=\"dataframe\">\n",
       "  <thead>\n",
       "    <tr style=\"text-align: right;\">\n",
       "      <th></th>\n",
       "      <th>Gender</th>\n",
       "      <th>Age</th>\n",
       "      <th>BMI</th>\n",
       "      <th>25-hydroxyvitamin D2 + D3 [nmol/L]</th>\n",
       "      <th>A/G Ratio</th>\n",
       "      <th>Alpha-carotene [umol/L]</th>\n",
       "      <th>Alpha-crypotoxanthin [umol/L]</th>\n",
       "      <th>Alpha-tocopherol [umol/L]</th>\n",
       "      <th>Basophils [%]</th>\n",
       "      <th>Beta-cryptoxanthin [umol/L]</th>\n",
       "      <th>...</th>\n",
       "      <th>Direct HDL-Cholesterol [mmol/L]</th>\n",
       "      <th>Ferritin [ng/mL]</th>\n",
       "      <th>Gamma Glutamyl Transferase [IU/L]</th>\n",
       "      <th>Hemoglobin [g/dL]</th>\n",
       "      <th>Insulin [pmol/L]</th>\n",
       "      <th>LDL-Cholesterol(NIH2) [mmol/L]</th>\n",
       "      <th>Lactate Dehydrogenase [IU/L]</th>\n",
       "      <th>Transferrin Saturation [%]</th>\n",
       "      <th>Transferrin receptor [nmol/L]</th>\n",
       "      <th>Triglyceride [mmol/L]</th>\n",
       "    </tr>\n",
       "  </thead>\n",
       "  <tbody>\n",
       "    <tr>\n",
       "      <th>0</th>\n",
       "      <td>0.0</td>\n",
       "      <td>64.0</td>\n",
       "      <td>33.0</td>\n",
       "      <td>97.900000</td>\n",
       "      <td>1.310345</td>\n",
       "      <td>0.259000</td>\n",
       "      <td>0.087000</td>\n",
       "      <td>48.994000</td>\n",
       "      <td>0.4</td>\n",
       "      <td>1.254000</td>\n",
       "      <td>...</td>\n",
       "      <td>1.710000</td>\n",
       "      <td>99.300000</td>\n",
       "      <td>14.000000</td>\n",
       "      <td>14.4</td>\n",
       "      <td>60.840000</td>\n",
       "      <td>4.758000</td>\n",
       "      <td>160.000000</td>\n",
       "      <td>17.000000</td>\n",
       "      <td>31.400000</td>\n",
       "      <td>0.892000</td>\n",
       "    </tr>\n",
       "    <tr>\n",
       "      <th>1</th>\n",
       "      <td>0.0</td>\n",
       "      <td>24.0</td>\n",
       "      <td>17.2</td>\n",
       "      <td>26.200000</td>\n",
       "      <td>1.151515</td>\n",
       "      <td>0.037000</td>\n",
       "      <td>0.024000</td>\n",
       "      <td>18.483000</td>\n",
       "      <td>0.8</td>\n",
       "      <td>0.067000</td>\n",
       "      <td>...</td>\n",
       "      <td>1.660000</td>\n",
       "      <td>21.400000</td>\n",
       "      <td>19.000000</td>\n",
       "      <td>12.3</td>\n",
       "      <td>85.300426</td>\n",
       "      <td>2.805636</td>\n",
       "      <td>121.000000</td>\n",
       "      <td>21.000000</td>\n",
       "      <td>36.800000</td>\n",
       "      <td>1.213088</td>\n",
       "    </tr>\n",
       "    <tr>\n",
       "      <th>2</th>\n",
       "      <td>1.0</td>\n",
       "      <td>11.0</td>\n",
       "      <td>17.6</td>\n",
       "      <td>76.600000</td>\n",
       "      <td>1.352023</td>\n",
       "      <td>0.077000</td>\n",
       "      <td>0.109000</td>\n",
       "      <td>23.684000</td>\n",
       "      <td>0.4</td>\n",
       "      <td>0.355000</td>\n",
       "      <td>...</td>\n",
       "      <td>1.378027</td>\n",
       "      <td>134.844354</td>\n",
       "      <td>29.777543</td>\n",
       "      <td>15.5</td>\n",
       "      <td>85.300426</td>\n",
       "      <td>2.805636</td>\n",
       "      <td>159.609324</td>\n",
       "      <td>26.935729</td>\n",
       "      <td>40.461962</td>\n",
       "      <td>1.213088</td>\n",
       "    </tr>\n",
       "    <tr>\n",
       "      <th>3</th>\n",
       "      <td>1.0</td>\n",
       "      <td>39.0</td>\n",
       "      <td>27.2</td>\n",
       "      <td>54.000000</td>\n",
       "      <td>1.000000</td>\n",
       "      <td>0.009000</td>\n",
       "      <td>0.074000</td>\n",
       "      <td>89.397000</td>\n",
       "      <td>0.5</td>\n",
       "      <td>0.147000</td>\n",
       "      <td>...</td>\n",
       "      <td>0.750000</td>\n",
       "      <td>578.000000</td>\n",
       "      <td>88.000000</td>\n",
       "      <td>16.0</td>\n",
       "      <td>85.300426</td>\n",
       "      <td>2.805636</td>\n",
       "      <td>159.609324</td>\n",
       "      <td>43.000000</td>\n",
       "      <td>24.500000</td>\n",
       "      <td>1.213088</td>\n",
       "    </tr>\n",
       "    <tr>\n",
       "      <th>4</th>\n",
       "      <td>1.0</td>\n",
       "      <td>64.0</td>\n",
       "      <td>33.7</td>\n",
       "      <td>79.300000</td>\n",
       "      <td>1.147059</td>\n",
       "      <td>0.028000</td>\n",
       "      <td>0.043000</td>\n",
       "      <td>25.542000</td>\n",
       "      <td>0.8</td>\n",
       "      <td>0.067000</td>\n",
       "      <td>...</td>\n",
       "      <td>1.270000</td>\n",
       "      <td>72.800000</td>\n",
       "      <td>18.000000</td>\n",
       "      <td>13.6</td>\n",
       "      <td>85.300426</td>\n",
       "      <td>2.805636</td>\n",
       "      <td>147.000000</td>\n",
       "      <td>21.000000</td>\n",
       "      <td>44.500000</td>\n",
       "      <td>1.213088</td>\n",
       "    </tr>\n",
       "    <tr>\n",
       "      <th>...</th>\n",
       "      <td>...</td>\n",
       "      <td>...</td>\n",
       "      <td>...</td>\n",
       "      <td>...</td>\n",
       "      <td>...</td>\n",
       "      <td>...</td>\n",
       "      <td>...</td>\n",
       "      <td>...</td>\n",
       "      <td>...</td>\n",
       "      <td>...</td>\n",
       "      <td>...</td>\n",
       "      <td>...</td>\n",
       "      <td>...</td>\n",
       "      <td>...</td>\n",
       "      <td>...</td>\n",
       "      <td>...</td>\n",
       "      <td>...</td>\n",
       "      <td>...</td>\n",
       "      <td>...</td>\n",
       "      <td>...</td>\n",
       "      <td>...</td>\n",
       "    </tr>\n",
       "    <tr>\n",
       "      <th>7109</th>\n",
       "      <td>0.0</td>\n",
       "      <td>51.0</td>\n",
       "      <td>25.6</td>\n",
       "      <td>53.900000</td>\n",
       "      <td>1.344828</td>\n",
       "      <td>0.183000</td>\n",
       "      <td>0.052000</td>\n",
       "      <td>19.435000</td>\n",
       "      <td>0.5</td>\n",
       "      <td>0.113000</td>\n",
       "      <td>...</td>\n",
       "      <td>1.630000</td>\n",
       "      <td>109.000000</td>\n",
       "      <td>10.000000</td>\n",
       "      <td>13.8</td>\n",
       "      <td>40.380000</td>\n",
       "      <td>2.069000</td>\n",
       "      <td>136.000000</td>\n",
       "      <td>34.000000</td>\n",
       "      <td>34.800000</td>\n",
       "      <td>1.073000</td>\n",
       "    </tr>\n",
       "    <tr>\n",
       "      <th>7110</th>\n",
       "      <td>0.0</td>\n",
       "      <td>53.0</td>\n",
       "      <td>20.3</td>\n",
       "      <td>60.700000</td>\n",
       "      <td>1.400000</td>\n",
       "      <td>0.117000</td>\n",
       "      <td>0.116000</td>\n",
       "      <td>35.294000</td>\n",
       "      <td>1.1</td>\n",
       "      <td>1.012000</td>\n",
       "      <td>...</td>\n",
       "      <td>1.810000</td>\n",
       "      <td>186.000000</td>\n",
       "      <td>49.000000</td>\n",
       "      <td>12.8</td>\n",
       "      <td>85.300426</td>\n",
       "      <td>2.805636</td>\n",
       "      <td>136.000000</td>\n",
       "      <td>21.000000</td>\n",
       "      <td>31.400000</td>\n",
       "      <td>1.213088</td>\n",
       "    </tr>\n",
       "    <tr>\n",
       "      <th>7111</th>\n",
       "      <td>0.0</td>\n",
       "      <td>5.0</td>\n",
       "      <td>17.7</td>\n",
       "      <td>70.500000</td>\n",
       "      <td>1.352023</td>\n",
       "      <td>0.093983</td>\n",
       "      <td>0.054763</td>\n",
       "      <td>26.518262</td>\n",
       "      <td>0.7</td>\n",
       "      <td>0.196819</td>\n",
       "      <td>...</td>\n",
       "      <td>1.378027</td>\n",
       "      <td>18.900000</td>\n",
       "      <td>29.777543</td>\n",
       "      <td>12.6</td>\n",
       "      <td>85.300426</td>\n",
       "      <td>2.805636</td>\n",
       "      <td>159.609324</td>\n",
       "      <td>26.935729</td>\n",
       "      <td>44.600000</td>\n",
       "      <td>1.213088</td>\n",
       "    </tr>\n",
       "    <tr>\n",
       "      <th>7112</th>\n",
       "      <td>0.0</td>\n",
       "      <td>77.0</td>\n",
       "      <td>27.9</td>\n",
       "      <td>66.951466</td>\n",
       "      <td>1.352023</td>\n",
       "      <td>0.093983</td>\n",
       "      <td>0.054763</td>\n",
       "      <td>26.518262</td>\n",
       "      <td>0.9</td>\n",
       "      <td>0.196819</td>\n",
       "      <td>...</td>\n",
       "      <td>1.378027</td>\n",
       "      <td>134.844354</td>\n",
       "      <td>29.777543</td>\n",
       "      <td>16.3</td>\n",
       "      <td>85.300426</td>\n",
       "      <td>2.805636</td>\n",
       "      <td>159.609324</td>\n",
       "      <td>26.935729</td>\n",
       "      <td>40.461962</td>\n",
       "      <td>1.213088</td>\n",
       "    </tr>\n",
       "    <tr>\n",
       "      <th>7113</th>\n",
       "      <td>0.0</td>\n",
       "      <td>11.0</td>\n",
       "      <td>15.0</td>\n",
       "      <td>79.200000</td>\n",
       "      <td>1.352023</td>\n",
       "      <td>0.140000</td>\n",
       "      <td>0.055000</td>\n",
       "      <td>27.632000</td>\n",
       "      <td>0.6</td>\n",
       "      <td>0.261000</td>\n",
       "      <td>...</td>\n",
       "      <td>1.600000</td>\n",
       "      <td>134.844354</td>\n",
       "      <td>29.777543</td>\n",
       "      <td>13.5</td>\n",
       "      <td>85.300426</td>\n",
       "      <td>2.805636</td>\n",
       "      <td>159.609324</td>\n",
       "      <td>26.935729</td>\n",
       "      <td>40.461962</td>\n",
       "      <td>1.213088</td>\n",
       "    </tr>\n",
       "  </tbody>\n",
       "</table>\n",
       "<p>7114 rows × 89 columns</p>\n",
       "</div>"
      ],
      "text/plain": [
       "      Gender   Age   BMI  25-hydroxyvitamin D2 + D3 [nmol/L]  A/G Ratio  \\\n",
       "0        0.0  64.0  33.0                           97.900000   1.310345   \n",
       "1        0.0  24.0  17.2                           26.200000   1.151515   \n",
       "2        1.0  11.0  17.6                           76.600000   1.352023   \n",
       "3        1.0  39.0  27.2                           54.000000   1.000000   \n",
       "4        1.0  64.0  33.7                           79.300000   1.147059   \n",
       "...      ...   ...   ...                                 ...        ...   \n",
       "7109     0.0  51.0  25.6                           53.900000   1.344828   \n",
       "7110     0.0  53.0  20.3                           60.700000   1.400000   \n",
       "7111     0.0   5.0  17.7                           70.500000   1.352023   \n",
       "7112     0.0  77.0  27.9                           66.951466   1.352023   \n",
       "7113     0.0  11.0  15.0                           79.200000   1.352023   \n",
       "\n",
       "      Alpha-carotene [umol/L]  Alpha-crypotoxanthin [umol/L]  \\\n",
       "0                    0.259000                       0.087000   \n",
       "1                    0.037000                       0.024000   \n",
       "2                    0.077000                       0.109000   \n",
       "3                    0.009000                       0.074000   \n",
       "4                    0.028000                       0.043000   \n",
       "...                       ...                            ...   \n",
       "7109                 0.183000                       0.052000   \n",
       "7110                 0.117000                       0.116000   \n",
       "7111                 0.093983                       0.054763   \n",
       "7112                 0.093983                       0.054763   \n",
       "7113                 0.140000                       0.055000   \n",
       "\n",
       "      Alpha-tocopherol [umol/L]  Basophils [%]  Beta-cryptoxanthin [umol/L]  \\\n",
       "0                     48.994000            0.4                     1.254000   \n",
       "1                     18.483000            0.8                     0.067000   \n",
       "2                     23.684000            0.4                     0.355000   \n",
       "3                     89.397000            0.5                     0.147000   \n",
       "4                     25.542000            0.8                     0.067000   \n",
       "...                         ...            ...                          ...   \n",
       "7109                  19.435000            0.5                     0.113000   \n",
       "7110                  35.294000            1.1                     1.012000   \n",
       "7111                  26.518262            0.7                     0.196819   \n",
       "7112                  26.518262            0.9                     0.196819   \n",
       "7113                  27.632000            0.6                     0.261000   \n",
       "\n",
       "      ...  Direct HDL-Cholesterol [mmol/L]  Ferritin [ng/mL]  \\\n",
       "0     ...                         1.710000         99.300000   \n",
       "1     ...                         1.660000         21.400000   \n",
       "2     ...                         1.378027        134.844354   \n",
       "3     ...                         0.750000        578.000000   \n",
       "4     ...                         1.270000         72.800000   \n",
       "...   ...                              ...               ...   \n",
       "7109  ...                         1.630000        109.000000   \n",
       "7110  ...                         1.810000        186.000000   \n",
       "7111  ...                         1.378027         18.900000   \n",
       "7112  ...                         1.378027        134.844354   \n",
       "7113  ...                         1.600000        134.844354   \n",
       "\n",
       "      Gamma Glutamyl Transferase [IU/L]  Hemoglobin [g/dL]  Insulin [pmol/L]  \\\n",
       "0                             14.000000               14.4         60.840000   \n",
       "1                             19.000000               12.3         85.300426   \n",
       "2                             29.777543               15.5         85.300426   \n",
       "3                             88.000000               16.0         85.300426   \n",
       "4                             18.000000               13.6         85.300426   \n",
       "...                                 ...                ...               ...   \n",
       "7109                          10.000000               13.8         40.380000   \n",
       "7110                          49.000000               12.8         85.300426   \n",
       "7111                          29.777543               12.6         85.300426   \n",
       "7112                          29.777543               16.3         85.300426   \n",
       "7113                          29.777543               13.5         85.300426   \n",
       "\n",
       "      LDL-Cholesterol(NIH2) [mmol/L]  Lactate Dehydrogenase [IU/L]  \\\n",
       "0                           4.758000                    160.000000   \n",
       "1                           2.805636                    121.000000   \n",
       "2                           2.805636                    159.609324   \n",
       "3                           2.805636                    159.609324   \n",
       "4                           2.805636                    147.000000   \n",
       "...                              ...                           ...   \n",
       "7109                        2.069000                    136.000000   \n",
       "7110                        2.805636                    136.000000   \n",
       "7111                        2.805636                    159.609324   \n",
       "7112                        2.805636                    159.609324   \n",
       "7113                        2.805636                    159.609324   \n",
       "\n",
       "      Transferrin Saturation [%]  Transferrin receptor [nmol/L]  \\\n",
       "0                      17.000000                      31.400000   \n",
       "1                      21.000000                      36.800000   \n",
       "2                      26.935729                      40.461962   \n",
       "3                      43.000000                      24.500000   \n",
       "4                      21.000000                      44.500000   \n",
       "...                          ...                            ...   \n",
       "7109                   34.000000                      34.800000   \n",
       "7110                   21.000000                      31.400000   \n",
       "7111                   26.935729                      44.600000   \n",
       "7112                   26.935729                      40.461962   \n",
       "7113                   26.935729                      40.461962   \n",
       "\n",
       "      Triglyceride [mmol/L]  \n",
       "0                  0.892000  \n",
       "1                  1.213088  \n",
       "2                  1.213088  \n",
       "3                  1.213088  \n",
       "4                  1.213088  \n",
       "...                     ...  \n",
       "7109               1.073000  \n",
       "7110               1.213088  \n",
       "7111               1.213088  \n",
       "7112               1.213088  \n",
       "7113               1.213088  \n",
       "\n",
       "[7114 rows x 89 columns]"
      ]
     },
     "execution_count": 11,
     "metadata": {},
     "output_type": "execute_result"
    }
   ],
   "source": [
    "X_train = imputer.transform(X_train)\n",
    "\n",
    "X_train = pd.DataFrame(X_train, columns=X.columns)\n",
    "\n",
    "# Data with null values imputed with mean\n",
    "X_train"
   ]
  },
  {
   "cell_type": "code",
   "execution_count": 12,
   "id": "0b7802d3",
   "metadata": {},
   "outputs": [],
   "source": [
    "X_test = imputer.transform(X_test)\n",
    "X_test = pd.DataFrame(X_test, columns=X_train.columns)"
   ]
  },
  {
   "cell_type": "code",
   "execution_count": 13,
   "id": "42ea0fff",
   "metadata": {},
   "outputs": [
    {
     "data": {
      "text/plain": [
       "7481    1\n",
       "2022    0\n",
       "3847    0\n",
       "5980    0\n",
       "1928    1\n",
       "       ..\n",
       "5734    0\n",
       "5191    0\n",
       "5390    0\n",
       "860     0\n",
       "7270    0\n",
       "Name: Diabetes, Length: 7114, dtype: int64"
      ]
     },
     "execution_count": 13,
     "metadata": {},
     "output_type": "execute_result"
    }
   ],
   "source": [
    "y_train"
   ]
  },
  {
   "cell_type": "code",
   "execution_count": 14,
   "id": "84fc3e3a",
   "metadata": {
    "scrolled": false
   },
   "outputs": [],
   "source": [
    "# Scaling the data\n",
    "\n",
    "X_train_gender = X_train.Gender\n",
    "X_train = X_train.drop('Gender',axis=1)\n",
    "X_test_gender = X_test.Gender\n",
    "X_test = X_test.drop('Gender',axis=1)\n",
    "cols = X_train.columns\n",
    "\n",
    "scaler = StandardScaler()\n",
    "\n",
    "scaler.fit(X_train)\n",
    "X_train = scaler.transform(X_train)\n",
    "X_test = scaler.transform(X_test)\n",
    "\n",
    "X_train = pd.DataFrame(X_train, columns=cols)\n",
    "X_test = pd.DataFrame(X_test, columns=cols)\n",
    "\n",
    "X_train.insert(0, \"Gender\", X_train_gender)\n",
    "X_test.insert(0, \"Gender\", X_test_gender)"
   ]
  },
  {
   "cell_type": "markdown",
   "id": "00dd57e4",
   "metadata": {},
   "source": [
    "### Pipeline for Pre-processing"
   ]
  },
  {
   "cell_type": "code",
   "execution_count": 9,
   "id": "58abbad7",
   "metadata": {
    "scrolled": false
   },
   "outputs": [],
   "source": [
    "# We can define a function to do all the preprocessing and the splitting of data\n",
    "\n",
    "def preprocess_and_split(df, label, impute=True, scale=True, imputer = SimpleImputer(),\n",
    "                         scaler = StandardScaler(), test_size=0.2, random_state=42):\n",
    "    \n",
    "    # Preprocesses the input dataframe and splits it into training and testing sets.\n",
    "    \n",
    "    if 'Respondent_ID' in df.columns:\n",
    "        X = df.drop(['Respondent_ID'], axis=1)\n",
    "        X = X.drop([label], axis=1)\n",
    "    else:    \n",
    "        X = df.drop([label], axis=1)\n",
    "        \n",
    "    y = df[label].copy()\n",
    "    \n",
    "    # Splitting the data\n",
    "    X_train, X_test, y_train, y_test = train_test_split(X, y, test_size=test_size, random_state=random_state)\n",
    "    \n",
    "    # Separate categorical and numerical columns \n",
    "    if 'Gender' in df.columns:\n",
    "        categorical_cols = ['Gender']\n",
    "    else:\n",
    "        categorical_cols = []\n",
    "    numeric_cols = [col for col in X.columns if col not in categorical_cols]\n",
    "    \n",
    "    # Preprocessing for numerical data\n",
    "    numeric_transformer = Pipeline(steps=[\n",
    "        ('imputer', imputer) if impute else ('imputer', 'passthrough'),\n",
    "        ('scaler', scaler) if scale else ('scaler', 'passthrough')\n",
    "    ])\n",
    "    \n",
    "    # Preprocessing for categorical data\n",
    "    categorical_transformer = Pipeline(steps=[\n",
    "        ('pass', 'passthrough')])\n",
    "    \n",
    "    # Column Transformer for numerical and categorical data\n",
    "    preprocessor = ColumnTransformer(\n",
    "        transformers=[\n",
    "            ('cat', categorical_transformer, categorical_cols),\n",
    "            ('num', numeric_transformer, numeric_cols)\n",
    "        ])\n",
    "    \n",
    "    # Preprocess the data\n",
    "    X_train = preprocessor.fit_transform(X_train)\n",
    "    X_test = preprocessor.transform(X_test)\n",
    "    X = preprocessor.transform(X)\n",
    "\n",
    "    \n",
    "    X_train = pd.DataFrame(X_train, columns= categorical_cols + numeric_cols)\n",
    "    X_test = pd.DataFrame(X_test, columns= categorical_cols + numeric_cols)\n",
    "    X = pd.DataFrame(X, columns= categorical_cols + numeric_cols)\n",
    "\n",
    "    return X, y, X_train, X_test, y_train, y_test"
   ]
  },
  {
   "cell_type": "code",
   "execution_count": 10,
   "id": "ce644846",
   "metadata": {},
   "outputs": [],
   "source": [
    "# Attributes and Labels\n",
    "\n",
    "X, y, X_train, X_test, y_train, y_test = preprocess_and_split(df = diabetes_df, label = 'Diabetes',\n",
    "                                                              impute = True, scale=True,\n",
    "                                                              imputer=SimpleImputer(strategy='mean'),\n",
    "                                                              random_state=42)"
   ]
  },
  {
   "cell_type": "code",
   "execution_count": 17,
   "id": "dc7a4406",
   "metadata": {},
   "outputs": [
    {
     "data": {
      "text/html": [
       "<div>\n",
       "<style scoped>\n",
       "    .dataframe tbody tr th:only-of-type {\n",
       "        vertical-align: middle;\n",
       "    }\n",
       "\n",
       "    .dataframe tbody tr th {\n",
       "        vertical-align: top;\n",
       "    }\n",
       "\n",
       "    .dataframe thead th {\n",
       "        text-align: right;\n",
       "    }\n",
       "</style>\n",
       "<table border=\"1\" class=\"dataframe\">\n",
       "  <thead>\n",
       "    <tr style=\"text-align: right;\">\n",
       "      <th></th>\n",
       "      <th>Gender</th>\n",
       "      <th>Age</th>\n",
       "      <th>BMI</th>\n",
       "      <th>25-hydroxyvitamin D2 + D3 [nmol/L]</th>\n",
       "      <th>A/G Ratio</th>\n",
       "      <th>Alpha-carotene [umol/L]</th>\n",
       "      <th>Alpha-crypotoxanthin [umol/L]</th>\n",
       "      <th>Alpha-tocopherol [umol/L]</th>\n",
       "      <th>Basophils [%]</th>\n",
       "      <th>Beta-cryptoxanthin [umol/L]</th>\n",
       "      <th>...</th>\n",
       "      <th>Direct HDL-Cholesterol [mmol/L]</th>\n",
       "      <th>Ferritin [ng/mL]</th>\n",
       "      <th>Gamma Glutamyl Transferase [IU/L]</th>\n",
       "      <th>Hemoglobin [g/dL]</th>\n",
       "      <th>Insulin [pmol/L]</th>\n",
       "      <th>LDL-Cholesterol(NIH2) [mmol/L]</th>\n",
       "      <th>Lactate Dehydrogenase [IU/L]</th>\n",
       "      <th>Transferrin Saturation [%]</th>\n",
       "      <th>Transferrin receptor [nmol/L]</th>\n",
       "      <th>Triglyceride [mmol/L]</th>\n",
       "    </tr>\n",
       "  </thead>\n",
       "  <tbody>\n",
       "    <tr>\n",
       "      <th>0</th>\n",
       "      <td>0.0</td>\n",
       "      <td>-1.355748</td>\n",
       "      <td>-1.175056</td>\n",
       "      <td>0.000000</td>\n",
       "      <td>0.000000</td>\n",
       "      <td>0.000000</td>\n",
       "      <td>0.000000</td>\n",
       "      <td>0.000000</td>\n",
       "      <td>0.000000</td>\n",
       "      <td>0.000000</td>\n",
       "      <td>...</td>\n",
       "      <td>6.659036e-16</td>\n",
       "      <td>-1.768561e-16</td>\n",
       "      <td>9.734406e-17</td>\n",
       "      <td>-1.273711e-15</td>\n",
       "      <td>-2.292833e-16</td>\n",
       "      <td>-8.717621e-16</td>\n",
       "      <td>0.000000</td>\n",
       "      <td>0.000000</td>\n",
       "      <td>0.000000</td>\n",
       "      <td>3.607582e-16</td>\n",
       "    </tr>\n",
       "    <tr>\n",
       "      <th>1</th>\n",
       "      <td>1.0</td>\n",
       "      <td>-1.355748</td>\n",
       "      <td>-1.405879</td>\n",
       "      <td>0.280580</td>\n",
       "      <td>0.000000</td>\n",
       "      <td>0.000000</td>\n",
       "      <td>0.000000</td>\n",
       "      <td>0.000000</td>\n",
       "      <td>-0.184174</td>\n",
       "      <td>0.000000</td>\n",
       "      <td>...</td>\n",
       "      <td>6.659036e-16</td>\n",
       "      <td>-6.113325e-01</td>\n",
       "      <td>9.734406e-17</td>\n",
       "      <td>-4.597961e-01</td>\n",
       "      <td>-2.292833e-16</td>\n",
       "      <td>-8.717621e-16</td>\n",
       "      <td>0.000000</td>\n",
       "      <td>0.000000</td>\n",
       "      <td>-0.515829</td>\n",
       "      <td>3.607582e-16</td>\n",
       "    </tr>\n",
       "    <tr>\n",
       "      <th>2</th>\n",
       "      <td>0.0</td>\n",
       "      <td>1.201216</td>\n",
       "      <td>0.645883</td>\n",
       "      <td>0.864452</td>\n",
       "      <td>0.815361</td>\n",
       "      <td>0.286831</td>\n",
       "      <td>0.598054</td>\n",
       "      <td>-0.059259</td>\n",
       "      <td>0.800769</td>\n",
       "      <td>-0.217447</td>\n",
       "      <td>...</td>\n",
       "      <td>5.157418e-01</td>\n",
       "      <td>-6.604908e-01</td>\n",
       "      <td>-2.405039e-01</td>\n",
       "      <td>-1.320239e+00</td>\n",
       "      <td>-2.292833e-16</td>\n",
       "      <td>-8.717621e-16</td>\n",
       "      <td>0.506354</td>\n",
       "      <td>0.110203</td>\n",
       "      <td>-0.034624</td>\n",
       "      <td>3.607582e-16</td>\n",
       "    </tr>\n",
       "    <tr>\n",
       "      <th>3</th>\n",
       "      <td>1.0</td>\n",
       "      <td>-0.716507</td>\n",
       "      <td>-0.662115</td>\n",
       "      <td>-0.495405</td>\n",
       "      <td>1.370004</td>\n",
       "      <td>0.430191</td>\n",
       "      <td>-0.875277</td>\n",
       "      <td>-1.128265</td>\n",
       "      <td>0.144141</td>\n",
       "      <td>-0.440891</td>\n",
       "      <td>...</td>\n",
       "      <td>-4.739161e-01</td>\n",
       "      <td>9.281316e-01</td>\n",
       "      <td>-3.775035e-01</td>\n",
       "      <td>1.834718e+00</td>\n",
       "      <td>-2.292833e-16</td>\n",
       "      <td>-8.717621e-16</td>\n",
       "      <td>-0.619606</td>\n",
       "      <td>2.491802</td>\n",
       "      <td>-0.337992</td>\n",
       "      <td>3.607582e-16</td>\n",
       "    </tr>\n",
       "    <tr>\n",
       "      <th>4</th>\n",
       "      <td>1.0</td>\n",
       "      <td>-0.916269</td>\n",
       "      <td>-1.098115</td>\n",
       "      <td>-0.329660</td>\n",
       "      <td>2.492796</td>\n",
       "      <td>-0.553779</td>\n",
       "      <td>-0.396444</td>\n",
       "      <td>-0.435221</td>\n",
       "      <td>-0.840802</td>\n",
       "      <td>-0.694804</td>\n",
       "      <td>...</td>\n",
       "      <td>1.145524e+00</td>\n",
       "      <td>-5.323058e-01</td>\n",
       "      <td>-5.693029e-01</td>\n",
       "      <td>5.440540e-01</td>\n",
       "      <td>-2.292833e-16</td>\n",
       "      <td>-8.717621e-16</td>\n",
       "      <td>0.611913</td>\n",
       "      <td>-0.614632</td>\n",
       "      <td>-0.337992</td>\n",
       "      <td>3.607582e-16</td>\n",
       "    </tr>\n",
       "    <tr>\n",
       "      <th>...</th>\n",
       "      <td>...</td>\n",
       "      <td>...</td>\n",
       "      <td>...</td>\n",
       "      <td>...</td>\n",
       "      <td>...</td>\n",
       "      <td>...</td>\n",
       "      <td>...</td>\n",
       "      <td>...</td>\n",
       "      <td>...</td>\n",
       "      <td>...</td>\n",
       "      <td>...</td>\n",
       "      <td>...</td>\n",
       "      <td>...</td>\n",
       "      <td>...</td>\n",
       "      <td>...</td>\n",
       "      <td>...</td>\n",
       "      <td>...</td>\n",
       "      <td>...</td>\n",
       "      <td>...</td>\n",
       "      <td>...</td>\n",
       "      <td>...</td>\n",
       "    </tr>\n",
       "    <tr>\n",
       "      <th>8888</th>\n",
       "      <td>0.0</td>\n",
       "      <td>1.361027</td>\n",
       "      <td>-0.854468</td>\n",
       "      <td>0.593234</td>\n",
       "      <td>2.438565</td>\n",
       "      <td>0.918918</td>\n",
       "      <td>0.819053</td>\n",
       "      <td>0.558592</td>\n",
       "      <td>-0.512488</td>\n",
       "      <td>-0.308856</td>\n",
       "      <td>...</td>\n",
       "      <td>5.157418e-01</td>\n",
       "      <td>9.685184e-04</td>\n",
       "      <td>-3.227037e-01</td>\n",
       "      <td>-2.446853e-01</td>\n",
       "      <td>-9.512899e-01</td>\n",
       "      <td>-3.324664e+00</td>\n",
       "      <td>0.295236</td>\n",
       "      <td>1.249229</td>\n",
       "      <td>-0.594286</td>\n",
       "      <td>-5.395469e-01</td>\n",
       "    </tr>\n",
       "    <tr>\n",
       "      <th>8889</th>\n",
       "      <td>1.0</td>\n",
       "      <td>0.242355</td>\n",
       "      <td>1.171648</td>\n",
       "      <td>-0.657382</td>\n",
       "      <td>-1.032249</td>\n",
       "      <td>0.078308</td>\n",
       "      <td>0.929553</td>\n",
       "      <td>-0.537368</td>\n",
       "      <td>-0.512488</td>\n",
       "      <td>-0.120960</td>\n",
       "      <td>...</td>\n",
       "      <td>-3.239679e-01</td>\n",
       "      <td>-9.237005e-02</td>\n",
       "      <td>-4.870454e-02</td>\n",
       "      <td>1.261090e+00</td>\n",
       "      <td>-2.292833e-16</td>\n",
       "      <td>-8.717621e-16</td>\n",
       "      <td>-0.830723</td>\n",
       "      <td>-0.718180</td>\n",
       "      <td>-0.620438</td>\n",
       "      <td>3.607582e-16</td>\n",
       "    </tr>\n",
       "    <tr>\n",
       "      <th>8890</th>\n",
       "      <td>0.0</td>\n",
       "      <td>0.202402</td>\n",
       "      <td>-0.072234</td>\n",
       "      <td>-0.619713</td>\n",
       "      <td>0.730274</td>\n",
       "      <td>0.149988</td>\n",
       "      <td>0.045555</td>\n",
       "      <td>0.048209</td>\n",
       "      <td>2.114026</td>\n",
       "      <td>-0.141273</td>\n",
       "      <td>...</td>\n",
       "      <td>6.589732e-02</td>\n",
       "      <td>-8.266956e-01</td>\n",
       "      <td>-5.967029e-01</td>\n",
       "      <td>-5.263936e+00</td>\n",
       "      <td>-4.575779e-01</td>\n",
       "      <td>-2.480460e-02</td>\n",
       "      <td>-1.288145</td>\n",
       "      <td>-2.271397</td>\n",
       "      <td>10.855251</td>\n",
       "      <td>-1.072452e+00</td>\n",
       "    </tr>\n",
       "    <tr>\n",
       "      <th>8891</th>\n",
       "      <td>0.0</td>\n",
       "      <td>-0.876317</td>\n",
       "      <td>2.428352</td>\n",
       "      <td>-0.190284</td>\n",
       "      <td>-0.721215</td>\n",
       "      <td>-0.410419</td>\n",
       "      <td>0.892720</td>\n",
       "      <td>-1.002057</td>\n",
       "      <td>0.472455</td>\n",
       "      <td>0.508745</td>\n",
       "      <td>...</td>\n",
       "      <td>-1.493564e+00</td>\n",
       "      <td>-7.681412e-01</td>\n",
       "      <td>-3.775035e-01</td>\n",
       "      <td>-1.678757e+00</td>\n",
       "      <td>-2.292833e-16</td>\n",
       "      <td>-8.717621e-16</td>\n",
       "      <td>-0.056626</td>\n",
       "      <td>-2.271397</td>\n",
       "      <td>0.901633</td>\n",
       "      <td>3.607582e-16</td>\n",
       "    </tr>\n",
       "    <tr>\n",
       "      <th>8892</th>\n",
       "      <td>1.0</td>\n",
       "      <td>0.082545</td>\n",
       "      <td>1.210118</td>\n",
       "      <td>-0.303292</td>\n",
       "      <td>0.645187</td>\n",
       "      <td>-0.443001</td>\n",
       "      <td>-0.617444</td>\n",
       "      <td>-0.617881</td>\n",
       "      <td>0.800769</td>\n",
       "      <td>-0.263151</td>\n",
       "      <td>...</td>\n",
       "      <td>-1.493564e+00</td>\n",
       "      <td>2.602003e+00</td>\n",
       "      <td>1.156892e+00</td>\n",
       "      <td>2.623458e+00</td>\n",
       "      <td>8.859058e+00</td>\n",
       "      <td>-1.243849e+00</td>\n",
       "      <td>-0.901096</td>\n",
       "      <td>0.835038</td>\n",
       "      <td>-0.892424</td>\n",
       "      <td>2.963329e+00</td>\n",
       "    </tr>\n",
       "  </tbody>\n",
       "</table>\n",
       "<p>8893 rows × 89 columns</p>\n",
       "</div>"
      ],
      "text/plain": [
       "      Gender       Age       BMI  25-hydroxyvitamin D2 + D3 [nmol/L]  \\\n",
       "0        0.0 -1.355748 -1.175056                            0.000000   \n",
       "1        1.0 -1.355748 -1.405879                            0.280580   \n",
       "2        0.0  1.201216  0.645883                            0.864452   \n",
       "3        1.0 -0.716507 -0.662115                           -0.495405   \n",
       "4        1.0 -0.916269 -1.098115                           -0.329660   \n",
       "...      ...       ...       ...                                 ...   \n",
       "8888     0.0  1.361027 -0.854468                            0.593234   \n",
       "8889     1.0  0.242355  1.171648                           -0.657382   \n",
       "8890     0.0  0.202402 -0.072234                           -0.619713   \n",
       "8891     0.0 -0.876317  2.428352                           -0.190284   \n",
       "8892     1.0  0.082545  1.210118                           -0.303292   \n",
       "\n",
       "      A/G Ratio  Alpha-carotene [umol/L]  Alpha-crypotoxanthin [umol/L]  \\\n",
       "0      0.000000                 0.000000                       0.000000   \n",
       "1      0.000000                 0.000000                       0.000000   \n",
       "2      0.815361                 0.286831                       0.598054   \n",
       "3      1.370004                 0.430191                      -0.875277   \n",
       "4      2.492796                -0.553779                      -0.396444   \n",
       "...         ...                      ...                            ...   \n",
       "8888   2.438565                 0.918918                       0.819053   \n",
       "8889  -1.032249                 0.078308                       0.929553   \n",
       "8890   0.730274                 0.149988                       0.045555   \n",
       "8891  -0.721215                -0.410419                       0.892720   \n",
       "8892   0.645187                -0.443001                      -0.617444   \n",
       "\n",
       "      Alpha-tocopherol [umol/L]  Basophils [%]  Beta-cryptoxanthin [umol/L]  \\\n",
       "0                      0.000000       0.000000                     0.000000   \n",
       "1                      0.000000      -0.184174                     0.000000   \n",
       "2                     -0.059259       0.800769                    -0.217447   \n",
       "3                     -1.128265       0.144141                    -0.440891   \n",
       "4                     -0.435221      -0.840802                    -0.694804   \n",
       "...                         ...            ...                          ...   \n",
       "8888                   0.558592      -0.512488                    -0.308856   \n",
       "8889                  -0.537368      -0.512488                    -0.120960   \n",
       "8890                   0.048209       2.114026                    -0.141273   \n",
       "8891                  -1.002057       0.472455                     0.508745   \n",
       "8892                  -0.617881       0.800769                    -0.263151   \n",
       "\n",
       "      ...  Direct HDL-Cholesterol [mmol/L]  Ferritin [ng/mL]  \\\n",
       "0     ...                     6.659036e-16     -1.768561e-16   \n",
       "1     ...                     6.659036e-16     -6.113325e-01   \n",
       "2     ...                     5.157418e-01     -6.604908e-01   \n",
       "3     ...                    -4.739161e-01      9.281316e-01   \n",
       "4     ...                     1.145524e+00     -5.323058e-01   \n",
       "...   ...                              ...               ...   \n",
       "8888  ...                     5.157418e-01      9.685184e-04   \n",
       "8889  ...                    -3.239679e-01     -9.237005e-02   \n",
       "8890  ...                     6.589732e-02     -8.266956e-01   \n",
       "8891  ...                    -1.493564e+00     -7.681412e-01   \n",
       "8892  ...                    -1.493564e+00      2.602003e+00   \n",
       "\n",
       "      Gamma Glutamyl Transferase [IU/L]  Hemoglobin [g/dL]  Insulin [pmol/L]  \\\n",
       "0                          9.734406e-17      -1.273711e-15     -2.292833e-16   \n",
       "1                          9.734406e-17      -4.597961e-01     -2.292833e-16   \n",
       "2                         -2.405039e-01      -1.320239e+00     -2.292833e-16   \n",
       "3                         -3.775035e-01       1.834718e+00     -2.292833e-16   \n",
       "4                         -5.693029e-01       5.440540e-01     -2.292833e-16   \n",
       "...                                 ...                ...               ...   \n",
       "8888                      -3.227037e-01      -2.446853e-01     -9.512899e-01   \n",
       "8889                      -4.870454e-02       1.261090e+00     -2.292833e-16   \n",
       "8890                      -5.967029e-01      -5.263936e+00     -4.575779e-01   \n",
       "8891                      -3.775035e-01      -1.678757e+00     -2.292833e-16   \n",
       "8892                       1.156892e+00       2.623458e+00      8.859058e+00   \n",
       "\n",
       "      LDL-Cholesterol(NIH2) [mmol/L]  Lactate Dehydrogenase [IU/L]  \\\n",
       "0                      -8.717621e-16                      0.000000   \n",
       "1                      -8.717621e-16                      0.000000   \n",
       "2                      -8.717621e-16                      0.506354   \n",
       "3                      -8.717621e-16                     -0.619606   \n",
       "4                      -8.717621e-16                      0.611913   \n",
       "...                              ...                           ...   \n",
       "8888                   -3.324664e+00                      0.295236   \n",
       "8889                   -8.717621e-16                     -0.830723   \n",
       "8890                   -2.480460e-02                     -1.288145   \n",
       "8891                   -8.717621e-16                     -0.056626   \n",
       "8892                   -1.243849e+00                     -0.901096   \n",
       "\n",
       "      Transferrin Saturation [%]  Transferrin receptor [nmol/L]  \\\n",
       "0                       0.000000                       0.000000   \n",
       "1                       0.000000                      -0.515829   \n",
       "2                       0.110203                      -0.034624   \n",
       "3                       2.491802                      -0.337992   \n",
       "4                      -0.614632                      -0.337992   \n",
       "...                          ...                            ...   \n",
       "8888                    1.249229                      -0.594286   \n",
       "8889                   -0.718180                      -0.620438   \n",
       "8890                   -2.271397                      10.855251   \n",
       "8891                   -2.271397                       0.901633   \n",
       "8892                    0.835038                      -0.892424   \n",
       "\n",
       "      Triglyceride [mmol/L]  \n",
       "0              3.607582e-16  \n",
       "1              3.607582e-16  \n",
       "2              3.607582e-16  \n",
       "3              3.607582e-16  \n",
       "4              3.607582e-16  \n",
       "...                     ...  \n",
       "8888          -5.395469e-01  \n",
       "8889           3.607582e-16  \n",
       "8890          -1.072452e+00  \n",
       "8891           3.607582e-16  \n",
       "8892           2.963329e+00  \n",
       "\n",
       "[8893 rows x 89 columns]"
      ]
     },
     "execution_count": 17,
     "metadata": {},
     "output_type": "execute_result"
    }
   ],
   "source": [
    "X"
   ]
  },
  {
   "cell_type": "markdown",
   "id": "3220a063",
   "metadata": {},
   "source": [
    "## Model Training & Evaluation"
   ]
  },
  {
   "cell_type": "markdown",
   "id": "2f536ecf",
   "metadata": {},
   "source": [
    "## Logistic Regression"
   ]
  },
  {
   "cell_type": "code",
   "execution_count": 11,
   "id": "f2a93bad",
   "metadata": {},
   "outputs": [],
   "source": [
    "log_reg = LogisticRegression()"
   ]
  },
  {
   "cell_type": "code",
   "execution_count": 19,
   "id": "8057f840",
   "metadata": {},
   "outputs": [
    {
     "name": "stdout",
     "output_type": "stream",
     "text": [
      "Training Accuracy:  0.937868990722519\n",
      "Testing Accuracy:  0.9432265317594154\n"
     ]
    }
   ],
   "source": [
    "# Training\n",
    "\n",
    "log_reg.fit(X_train, y_train)\n",
    "\n",
    "# Accuracy scores\n",
    "\n",
    "y_pred = log_reg.predict(X_test)\n",
    "\n",
    "print('Training Accuracy: ',accuracy_score(y_train, log_reg.predict(X_train)))\n",
    "\n",
    "print('Testing Accuracy: ',accuracy_score(y_test, y_pred))"
   ]
  },
  {
   "cell_type": "code",
   "execution_count": 20,
   "id": "e76c0d0d",
   "metadata": {},
   "outputs": [
    {
     "name": "stdout",
     "output_type": "stream",
     "text": [
      "[[1538   25]\n",
      " [  76  140]]\n"
     ]
    }
   ],
   "source": [
    "# Confusion matrix\n",
    "\n",
    "print(confusion_matrix(y_test, y_pred))"
   ]
  },
  {
   "cell_type": "code",
   "execution_count": 21,
   "id": "f5de5296",
   "metadata": {},
   "outputs": [
    {
     "name": "stdout",
     "output_type": "stream",
     "text": [
      "              precision    recall  f1-score   support\n",
      "\n",
      "           0       0.95      0.98      0.97      1563\n",
      "           1       0.85      0.65      0.73       216\n",
      "\n",
      "    accuracy                           0.94      1779\n",
      "   macro avg       0.90      0.82      0.85      1779\n",
      "weighted avg       0.94      0.94      0.94      1779\n",
      "\n"
     ]
    }
   ],
   "source": [
    "# Classification report\n",
    "\n",
    "print(classification_report(y_test, y_pred))"
   ]
  },
  {
   "cell_type": "code",
   "execution_count": 12,
   "id": "404e992b",
   "metadata": {
    "scrolled": false
   },
   "outputs": [],
   "source": [
    "# Function for model evaluation\n",
    "\n",
    "def evaluate_model_metrics(model,X_train,y_train,X_test,y_test):\n",
    "    \n",
    "    y_pred = model.predict(X_test)\n",
    "    \n",
    "    # Accuracy\n",
    "    train_accuracy = accuracy_score(y_train, model.predict(X_train))\n",
    "    test_accuracy = accuracy_score(y_test, y_pred)\n",
    "    print(f'\\nTrain Accuracy: {train_accuracy:.3f}')\n",
    "    print(f'\\nTest Accuracy: {test_accuracy:.3f}')\n",
    "\n",
    "    # Precision\n",
    "    precision = precision_score(y_test, y_pred)\n",
    "    print(f'\\nPrecision: {precision:.3f}')\n",
    "\n",
    "    # Recall\n",
    "    recall = recall_score(y_test, y_pred)\n",
    "    print(f'\\nRecall: {recall:.3f}')\n",
    "\n",
    "    # F1-score\n",
    "    f1 = f1_score(y_test, y_pred)\n",
    "    print(f'\\nF1-Score: {f1:.3f}')\n",
    "\n",
    "    # Confusion Matrix\n",
    "    conf_matrix = confusion_matrix(y_test, y_pred)\n",
    "    print('\\nConfusion Matrix:\\n')\n",
    "    print(conf_matrix)\n",
    "\n",
    "    # Classification Report\n",
    "    class_report = classification_report(y_test, y_pred, target_names=['Class 0', 'Class 1'])\n",
    "    print('\\n\\nClassification Report:\\n')\n",
    "    print(class_report)\n",
    "\n",
    "    # ROC Curve and AUC\n",
    "    fpr, tpr, thresholds = roc_curve(y_test, y_pred)\n",
    "    roc_auc = auc(fpr, tpr)\n",
    "\n",
    "    print('\\nROC-AUC Curve:')\n",
    "    plt.figure()\n",
    "    plt.plot(fpr, tpr, color='red', lw=2, label=f'ROC curve (area = {roc_auc:.3f})')\n",
    "    plt.plot([0, 1], [0, 1], color='lightcoral', lw=2, linestyle='--')\n",
    "    plt.xlim([0.0, 1.0])\n",
    "    plt.ylim([0.0, 1.05])\n",
    "    plt.xlabel('False Positive Rate')\n",
    "    plt.ylabel('True Positive Rate')\n",
    "    plt.title('Receiver Operating Characteristic')\n",
    "    plt.legend(loc='lower right')\n",
    "    plt.show()"
   ]
  },
  {
   "cell_type": "code",
   "execution_count": 27,
   "id": "6c11c109",
   "metadata": {},
   "outputs": [
    {
     "name": "stdout",
     "output_type": "stream",
     "text": [
      "\n",
      "Train Accuracy: 0.938\n",
      "\n",
      "Test Accuracy: 0.943\n",
      "\n",
      "Precision: 0.848\n",
      "\n",
      "Recall: 0.648\n",
      "\n",
      "F1-Score: 0.735\n",
      "\n",
      "Confusion Matrix:\n",
      "\n",
      "[[1538   25]\n",
      " [  76  140]]\n",
      "\n",
      "\n",
      "Classification Report:\n",
      "\n",
      "              precision    recall  f1-score   support\n",
      "\n",
      "     Class 0       0.95      0.98      0.97      1563\n",
      "     Class 1       0.85      0.65      0.73       216\n",
      "\n",
      "    accuracy                           0.94      1779\n",
      "   macro avg       0.90      0.82      0.85      1779\n",
      "weighted avg       0.94      0.94      0.94      1779\n",
      "\n",
      "\n",
      "ROC-AUC Curve:\n"
     ]
    },
    {
     "data": {
      "image/png": "[encoded data removed]",
      "text/plain": [
       "<Figure size 432x288 with 1 Axes>"
      ]
     },
     "metadata": {
      "needs_background": "light"
     },
     "output_type": "display_data"
    }
   ],
   "source": [
    "# Evaluating model metrics of Logistic Regression on data imputed with mean values\n",
    "\n",
    "evaluate_model_metrics(log_reg,X_train,y_train,X_test,y_test)"
   ]
  },
  {
   "cell_type": "markdown",
   "id": "12a30a9a",
   "metadata": {},
   "source": [
    "### Zero Imputation"
   ]
  },
  {
   "cell_type": "code",
   "execution_count": 13,
   "id": "d9eb2dd1",
   "metadata": {},
   "outputs": [],
   "source": [
    "# Imputing null values with zeroes\n",
    "\n",
    "X, y, X_train, X_test, y_train, y_test = preprocess_and_split(df = diabetes_df, label = 'Diabetes',\n",
    "                                                              impute = True, scale=True,\n",
    "                                                              imputer=SimpleImputer(strategy='constant',fill_value=0),\n",
    "                                                              random_state=42)"
   ]
  },
  {
   "cell_type": "code",
   "execution_count": 14,
   "id": "59976e6f",
   "metadata": {
    "scrolled": false
   },
   "outputs": [
    {
     "name": "stdout",
     "output_type": "stream",
     "text": [
      "\n",
      "Train Accuracy: 0.929\n",
      "\n",
      "Test Accuracy: 0.936\n",
      "\n",
      "Precision: 0.823\n",
      "\n",
      "Recall: 0.602\n",
      "\n",
      "F1-Score: 0.695\n",
      "\n",
      "Confusion Matrix:\n",
      "\n",
      "[[1535   28]\n",
      " [  86  130]]\n",
      "\n",
      "\n",
      "Classification Report:\n",
      "\n",
      "              precision    recall  f1-score   support\n",
      "\n",
      "     Class 0       0.95      0.98      0.96      1563\n",
      "     Class 1       0.82      0.60      0.70       216\n",
      "\n",
      "    accuracy                           0.94      1779\n",
      "   macro avg       0.88      0.79      0.83      1779\n",
      "weighted avg       0.93      0.94      0.93      1779\n",
      "\n",
      "\n",
      "ROC-AUC Curve:\n"
     ]
    },
    {
     "data": {
      "image/png": "[encoded data removed]",
      "text/plain": [
       "<Figure size 432x288 with 1 Axes>"
      ]
     },
     "metadata": {
      "needs_background": "light"
     },
     "output_type": "display_data"
    }
   ],
   "source": [
    "log_reg.fit(X_train, y_train)\n",
    "\n",
    "evaluate_model_metrics(log_reg,X_train,y_train,X_test,y_test)"
   ]
  },
  {
   "cell_type": "markdown",
   "id": "ea0c4909",
   "metadata": {},
   "source": [
    "### Mode Imputation"
   ]
  },
  {
   "cell_type": "code",
   "execution_count": 15,
   "id": "a30223f6",
   "metadata": {},
   "outputs": [],
   "source": [
    "# Imputing with most frequent values\n",
    "\n",
    "X, y, X_train, X_test, y_train, y_test = preprocess_and_split(df = diabetes_df, label = 'Diabetes',\n",
    "                                                              impute = True, scale=True,\n",
    "                                                              imputer=SimpleImputer(strategy='most_frequent'),\n",
    "                                                              random_state=42)"
   ]
  },
  {
   "cell_type": "code",
   "execution_count": 16,
   "id": "87bf1d16",
   "metadata": {},
   "outputs": [
    {
     "name": "stdout",
     "output_type": "stream",
     "text": [
      "\n",
      "Train Accuracy: 0.936\n",
      "\n",
      "Test Accuracy: 0.940\n",
      "\n",
      "Precision: 0.822\n",
      "\n",
      "Recall: 0.644\n",
      "\n",
      "F1-Score: 0.722\n",
      "\n",
      "Confusion Matrix:\n",
      "\n",
      "[[1533   30]\n",
      " [  77  139]]\n",
      "\n",
      "\n",
      "Classification Report:\n",
      "\n",
      "              precision    recall  f1-score   support\n",
      "\n",
      "     Class 0       0.95      0.98      0.97      1563\n",
      "     Class 1       0.82      0.64      0.72       216\n",
      "\n",
      "    accuracy                           0.94      1779\n",
      "   macro avg       0.89      0.81      0.84      1779\n",
      "weighted avg       0.94      0.94      0.94      1779\n",
      "\n",
      "\n",
      "ROC-AUC Curve:\n"
     ]
    },
    {
     "data": {
      "image/png": "[encoded data removed]",
      "text/plain": [
       "<Figure size 432x288 with 1 Axes>"
      ]
     },
     "metadata": {
      "needs_background": "light"
     },
     "output_type": "display_data"
    }
   ],
   "source": [
    "log_reg.fit(X_train, y_train)\n",
    "\n",
    "evaluate_model_metrics(log_reg,X_train,y_train,X_test,y_test)"
   ]
  },
  {
   "cell_type": "markdown",
   "id": "b245e576",
   "metadata": {},
   "source": [
    "### k-NN Imputation"
   ]
  },
  {
   "cell_type": "code",
   "execution_count": 17,
   "id": "e215a22b",
   "metadata": {},
   "outputs": [],
   "source": [
    "# Imputing missing values with values from the k-nearest neighbors in the feature space\n",
    "\n",
    "X, y, X_train, X_test, y_train, y_test = preprocess_and_split(df = diabetes_df, label = 'Diabetes',\n",
    "                                                              impute = True, scale=True,\n",
    "                                                              imputer=KNNImputer(n_neighbors=20),\n",
    "                                                              random_state=42)"
   ]
  },
  {
   "cell_type": "code",
   "execution_count": 18,
   "id": "0f7dcf10",
   "metadata": {},
   "outputs": [
    {
     "name": "stdout",
     "output_type": "stream",
     "text": [
      "\n",
      "Train Accuracy: 0.933\n",
      "\n",
      "Test Accuracy: 0.933\n",
      "\n",
      "Precision: 0.804\n",
      "\n",
      "Recall: 0.588\n",
      "\n",
      "F1-Score: 0.679\n",
      "\n",
      "Confusion Matrix:\n",
      "\n",
      "[[1532   31]\n",
      " [  89  127]]\n",
      "\n",
      "\n",
      "Classification Report:\n",
      "\n",
      "              precision    recall  f1-score   support\n",
      "\n",
      "     Class 0       0.95      0.98      0.96      1563\n",
      "     Class 1       0.80      0.59      0.68       216\n",
      "\n",
      "    accuracy                           0.93      1779\n",
      "   macro avg       0.87      0.78      0.82      1779\n",
      "weighted avg       0.93      0.93      0.93      1779\n",
      "\n",
      "\n",
      "ROC-AUC Curve:\n"
     ]
    },
    {
     "data": {
      "image/png": "[encoded data removed]",
      "text/plain": [
       "<Figure size 432x288 with 1 Axes>"
      ]
     },
     "metadata": {
      "needs_background": "light"
     },
     "output_type": "display_data"
    }
   ],
   "source": [
    "log_reg.fit(X_train, y_train)\n",
    "\n",
    "evaluate_model_metrics(log_reg,X_train,y_train,X_test,y_test)"
   ]
  },
  {
   "cell_type": "markdown",
   "id": "14984814",
   "metadata": {},
   "source": [
    "### Multiple Imputation by Chained Equations (MICE)"
   ]
  },
  {
   "cell_type": "code",
   "execution_count": 20,
   "id": "3771f561",
   "metadata": {},
   "outputs": [],
   "source": [
    "# Imputes by looking at data from other columns and trying to estimate the best prediction for each missing value.\n",
    "\n",
    "X, y, X_train, X_test, y_train, y_test = preprocess_and_split(df = diabetes_df, label = 'Diabetes',\n",
    "                                                              impute = True, scale=True,\n",
    "                                                              imputer=IterativeImputer(max_iter=20),\n",
    "                                                              random_state=42)"
   ]
  },
  {
   "cell_type": "code",
   "execution_count": 21,
   "id": "4fcc5038",
   "metadata": {},
   "outputs": [
    {
     "name": "stdout",
     "output_type": "stream",
     "text": [
      "\n",
      "Train Accuracy: 0.931\n",
      "\n",
      "Test Accuracy: 0.930\n",
      "\n",
      "Precision: 0.786\n",
      "\n",
      "Recall: 0.579\n",
      "\n",
      "F1-Score: 0.667\n",
      "\n",
      "Confusion Matrix:\n",
      "\n",
      "[[1529   34]\n",
      " [  91  125]]\n",
      "\n",
      "\n",
      "Classification Report:\n",
      "\n",
      "              precision    recall  f1-score   support\n",
      "\n",
      "     Class 0       0.94      0.98      0.96      1563\n",
      "     Class 1       0.79      0.58      0.67       216\n",
      "\n",
      "    accuracy                           0.93      1779\n",
      "   macro avg       0.86      0.78      0.81      1779\n",
      "weighted avg       0.92      0.93      0.93      1779\n",
      "\n",
      "\n",
      "ROC-AUC Curve:\n"
     ]
    },
    {
     "data": {
      "image/png": "[encoded data removed]",
      "text/plain": [
       "<Figure size 432x288 with 1 Axes>"
      ]
     },
     "metadata": {
      "needs_background": "light"
     },
     "output_type": "display_data"
    }
   ],
   "source": [
    "log_reg.fit(X_train, y_train)\n",
    "\n",
    "evaluate_model_metrics(log_reg,X_train,y_train,X_test,y_test)"
   ]
  },
  {
   "cell_type": "markdown",
   "id": "d204bd57",
   "metadata": {},
   "source": [
    "### Median Imputation"
   ]
  },
  {
   "cell_type": "code",
   "execution_count": 22,
   "id": "f15bcf67",
   "metadata": {},
   "outputs": [],
   "source": [
    "# Imputing with median values\n",
    "\n",
    "X, y, X_train, X_test, y_train, y_test = preprocess_and_split(df = diabetes_df, label = 'Diabetes',\n",
    "                                                              impute = True, scale=True,\n",
    "                                                              imputer=SimpleImputer(strategy='median'),\n",
    "                                                              random_state=42)"
   ]
  },
  {
   "cell_type": "code",
   "execution_count": 23,
   "id": "5df61da3",
   "metadata": {},
   "outputs": [
    {
     "name": "stdout",
     "output_type": "stream",
     "text": [
      "\n",
      "Train Accuracy: 0.936\n",
      "\n",
      "Test Accuracy: 0.940\n",
      "\n",
      "Precision: 0.815\n",
      "\n",
      "Recall: 0.653\n",
      "\n",
      "F1-Score: 0.725\n",
      "\n",
      "Confusion Matrix:\n",
      "\n",
      "[[1531   32]\n",
      " [  75  141]]\n",
      "\n",
      "\n",
      "Classification Report:\n",
      "\n",
      "              precision    recall  f1-score   support\n",
      "\n",
      "     Class 0       0.95      0.98      0.97      1563\n",
      "     Class 1       0.82      0.65      0.72       216\n",
      "\n",
      "    accuracy                           0.94      1779\n",
      "   macro avg       0.88      0.82      0.85      1779\n",
      "weighted avg       0.94      0.94      0.94      1779\n",
      "\n",
      "\n",
      "ROC-AUC Curve:\n"
     ]
    },
    {
     "data": {
      "image/png": "[encoded data removed]",
      "text/plain": [
       "<Figure size 432x288 with 1 Axes>"
      ]
     },
     "metadata": {
      "needs_background": "light"
     },
     "output_type": "display_data"
    }
   ],
   "source": [
    "log_reg.fit(X_train, y_train)\n",
    "\n",
    "evaluate_model_metrics(log_reg,X_train,y_train,X_test,y_test)"
   ]
  },
  {
   "cell_type": "markdown",
   "id": "8ec03fa5",
   "metadata": {},
   "source": [
    "### Dropping Null Values"
   ]
  },
  {
   "cell_type": "code",
   "execution_count": 24,
   "id": "755a97fe",
   "metadata": {},
   "outputs": [],
   "source": [
    "# Drop null values\n",
    "diabetes_df_na = diabetes_df.dropna()\n",
    "\n",
    "X, y, X_train, X_test, y_train, y_test = preprocess_and_split(df = diabetes_df_na, label = 'Diabetes',\n",
    "                                                              impute = False, scale=True,\n",
    "                                                              random_state=42)"
   ]
  },
  {
   "cell_type": "code",
   "execution_count": 25,
   "id": "657a7ba5",
   "metadata": {},
   "outputs": [
    {
     "name": "stdout",
     "output_type": "stream",
     "text": [
      "\n",
      "Train Accuracy: 0.920\n",
      "\n",
      "Test Accuracy: 0.846\n",
      "\n",
      "Precision: 0.847\n",
      "\n",
      "Recall: 0.694\n",
      "\n",
      "F1-Score: 0.763\n",
      "\n",
      "Confusion Matrix:\n",
      "\n",
      "[[120   9]\n",
      " [ 22  50]]\n",
      "\n",
      "\n",
      "Classification Report:\n",
      "\n",
      "              precision    recall  f1-score   support\n",
      "\n",
      "     Class 0       0.85      0.93      0.89       129\n",
      "     Class 1       0.85      0.69      0.76        72\n",
      "\n",
      "    accuracy                           0.85       201\n",
      "   macro avg       0.85      0.81      0.82       201\n",
      "weighted avg       0.85      0.85      0.84       201\n",
      "\n",
      "\n",
      "ROC-AUC Curve:\n"
     ]
    },
    {
     "data": {
      "image/png": "[encoded data removed]",
      "text/plain": [
       "<Figure size 432x288 with 1 Axes>"
      ]
     },
     "metadata": {
      "needs_background": "light"
     },
     "output_type": "display_data"
    }
   ],
   "source": [
    "log_reg.fit(X_train, y_train)\n",
    "\n",
    "evaluate_model_metrics(log_reg,X_train,y_train,X_test,y_test)"
   ]
  },
  {
   "cell_type": "markdown",
   "id": "a21d4e24",
   "metadata": {},
   "source": [
    "## Oversampling and Undersampling"
   ]
  },
  {
   "cell_type": "code",
   "execution_count": 26,
   "id": "3cc5aaaf",
   "metadata": {},
   "outputs": [
    {
     "data": {
      "text/plain": [
       "Diabetes\n",
       "0    668\n",
       "1    333\n",
       "Name: count, dtype: int64"
      ]
     },
     "execution_count": 26,
     "metadata": {},
     "output_type": "execute_result"
    }
   ],
   "source": [
    "# Class distribution\n",
    "diabetes_df_na.Diabetes.value_counts()\n",
    "\n",
    "# Oversampling and undersampling are techniques used to adjust the class distribution of a data set.\n",
    "# Library -> imblearn"
   ]
  },
  {
   "cell_type": "markdown",
   "id": "c33ec3cd",
   "metadata": {},
   "source": [
    "### Random Oversampling"
   ]
  },
  {
   "cell_type": "code",
   "execution_count": 27,
   "id": "4fe24ad9",
   "metadata": {},
   "outputs": [],
   "source": [
    "# Repeatedly sample instances from the minority class with replacement.\n",
    "\n",
    "def random_over_sample(X,y, sampling_strategy='auto', random_state=42):\n",
    "    \n",
    "    ros = RandomOverSampler(sampling_strategy=sampling_strategy, random_state=random_state)\n",
    "    X_resampled, y_resampled = ros.fit_resample(X, y)\n",
    "    \n",
    "    return X_resampled, y_resampled"
   ]
  },
  {
   "cell_type": "code",
   "execution_count": 28,
   "id": "009186b5",
   "metadata": {},
   "outputs": [
    {
     "name": "stdout",
     "output_type": "stream",
     "text": [
      "\n",
      "Train Accuracy: 0.894\n",
      "\n",
      "Test Accuracy: 0.846\n",
      "\n",
      "Precision: 0.797\n",
      "\n",
      "Recall: 0.764\n",
      "\n",
      "F1-Score: 0.780\n",
      "\n",
      "Confusion Matrix:\n",
      "\n",
      "[[115  14]\n",
      " [ 17  55]]\n",
      "\n",
      "\n",
      "Classification Report:\n",
      "\n",
      "              precision    recall  f1-score   support\n",
      "\n",
      "     Class 0       0.87      0.89      0.88       129\n",
      "     Class 1       0.80      0.76      0.78        72\n",
      "\n",
      "    accuracy                           0.85       201\n",
      "   macro avg       0.83      0.83      0.83       201\n",
      "weighted avg       0.84      0.85      0.85       201\n",
      "\n",
      "\n",
      "ROC-AUC Curve:\n"
     ]
    },
    {
     "data": {
      "image/png": "[encoded data removed]",
      "text/plain": [
       "<Figure size 432x288 with 1 Axes>"
      ]
     },
     "metadata": {
      "needs_background": "light"
     },
     "output_type": "display_data"
    }
   ],
   "source": [
    "X_ros, y_ros = random_over_sample(X,y)\n",
    "\n",
    "log_reg.fit(X_ros, y_ros)\n",
    "\n",
    "evaluate_model_metrics(log_reg,X_ros, y_ros,X_test,y_test)"
   ]
  },
  {
   "cell_type": "markdown",
   "id": "c6865f4b",
   "metadata": {},
   "source": [
    "### SMOTE (Synthetic Minority Over-sampling Technique)"
   ]
  },
  {
   "cell_type": "code",
   "execution_count": 29,
   "id": "d684539e",
   "metadata": {},
   "outputs": [],
   "source": [
    "# Generate synthetic examples from the minority class.\n",
    "\n",
    "def smote_over_sample(X,y, sampling_strategy='auto', random_state=42):\n",
    "    \n",
    "    smote = SMOTE(sampling_strategy=sampling_strategy, random_state=random_state)\n",
    "    X_resampled, y_resampled = smote.fit_resample(X, y)\n",
    "    \n",
    "    return X_resampled, y_resampled"
   ]
  },
  {
   "cell_type": "code",
   "execution_count": 30,
   "id": "27951688",
   "metadata": {},
   "outputs": [
    {
     "name": "stdout",
     "output_type": "stream",
     "text": [
      "\n",
      "Train Accuracy: 0.909\n",
      "\n",
      "Test Accuracy: 0.881\n",
      "\n",
      "Precision: 0.853\n",
      "\n",
      "Recall: 0.806\n",
      "\n",
      "F1-Score: 0.829\n",
      "\n",
      "Confusion Matrix:\n",
      "\n",
      "[[119  10]\n",
      " [ 14  58]]\n",
      "\n",
      "\n",
      "Classification Report:\n",
      "\n",
      "              precision    recall  f1-score   support\n",
      "\n",
      "     Class 0       0.89      0.92      0.91       129\n",
      "     Class 1       0.85      0.81      0.83        72\n",
      "\n",
      "    accuracy                           0.88       201\n",
      "   macro avg       0.87      0.86      0.87       201\n",
      "weighted avg       0.88      0.88      0.88       201\n",
      "\n",
      "\n",
      "ROC-AUC Curve:\n"
     ]
    },
    {
     "data": {
      "image/png": "[encoded data removed]",
      "text/plain": [
       "<Figure size 432x288 with 1 Axes>"
      ]
     },
     "metadata": {
      "needs_background": "light"
     },
     "output_type": "display_data"
    }
   ],
   "source": [
    "X_smote, y_smote = smote_over_sample(X,y)\n",
    "\n",
    "log_reg.fit(X_smote, y_smote)\n",
    "\n",
    "evaluate_model_metrics(log_reg,X_smote, y_smote,X_test,y_test)"
   ]
  },
  {
   "cell_type": "markdown",
   "id": "2ca4da74",
   "metadata": {},
   "source": [
    "### Random Undersampling"
   ]
  },
  {
   "cell_type": "code",
   "execution_count": 31,
   "id": "e824e050",
   "metadata": {},
   "outputs": [],
   "source": [
    "# Randomly remove instances from the majority class.\n",
    "\n",
    "def random_under_sample(X,y, sampling_strategy='auto', random_state=42):\n",
    "    \n",
    "    rus = RandomUnderSampler(sampling_strategy=sampling_strategy, random_state=random_state)\n",
    "    X_resampled, y_resampled = rus.fit_resample(X, y)\n",
    "    \n",
    "    return X_resampled, y_resampled"
   ]
  },
  {
   "cell_type": "code",
   "execution_count": 32,
   "id": "235ec801",
   "metadata": {},
   "outputs": [
    {
     "name": "stdout",
     "output_type": "stream",
     "text": [
      "\n",
      "Train Accuracy: 0.884\n",
      "\n",
      "Test Accuracy: 0.831\n",
      "\n",
      "Precision: 0.750\n",
      "\n",
      "Recall: 0.792\n",
      "\n",
      "F1-Score: 0.770\n",
      "\n",
      "Confusion Matrix:\n",
      "\n",
      "[[110  19]\n",
      " [ 15  57]]\n",
      "\n",
      "\n",
      "Classification Report:\n",
      "\n",
      "              precision    recall  f1-score   support\n",
      "\n",
      "     Class 0       0.88      0.85      0.87       129\n",
      "     Class 1       0.75      0.79      0.77        72\n",
      "\n",
      "    accuracy                           0.83       201\n",
      "   macro avg       0.81      0.82      0.82       201\n",
      "weighted avg       0.83      0.83      0.83       201\n",
      "\n",
      "\n",
      "ROC-AUC Curve:\n"
     ]
    },
    {
     "data": {
      "image/png": "[encoded data removed]",
      "text/plain": [
       "<Figure size 432x288 with 1 Axes>"
      ]
     },
     "metadata": {
      "needs_background": "light"
     },
     "output_type": "display_data"
    }
   ],
   "source": [
    "X_rus, y_rus = random_under_sample(X,y)\n",
    "\n",
    "log_reg.fit(X_rus, y_rus)\n",
    "\n",
    "evaluate_model_metrics(log_reg,X_rus, y_rus,X_test,y_test)"
   ]
  },
  {
   "cell_type": "markdown",
   "id": "c69f5e76",
   "metadata": {},
   "source": [
    "### Tomek Links"
   ]
  },
  {
   "cell_type": "code",
   "execution_count": 33,
   "id": "e58c75b8",
   "metadata": {},
   "outputs": [],
   "source": [
    "# Identify and remove pairs of instances from different classes that are very close to each other.\n",
    "\n",
    "def tomek_links(X,y, sampling_strategy='auto', random_state=42):\n",
    "    \n",
    "    tl = TomekLinks(sampling_strategy='auto')\n",
    "    X_resampled, y_resampled = tl.fit_resample(X, y)\n",
    "\n",
    "    \n",
    "    return X_resampled, y_resampled"
   ]
  },
  {
   "cell_type": "code",
   "execution_count": 34,
   "id": "0dbcc5d1",
   "metadata": {},
   "outputs": [
    {
     "name": "stdout",
     "output_type": "stream",
     "text": [
      "\n",
      "Train Accuracy: 0.910\n",
      "\n",
      "Test Accuracy: 0.881\n",
      "\n",
      "Precision: 0.914\n",
      "\n",
      "Recall: 0.736\n",
      "\n",
      "F1-Score: 0.815\n",
      "\n",
      "Confusion Matrix:\n",
      "\n",
      "[[124   5]\n",
      " [ 19  53]]\n",
      "\n",
      "\n",
      "Classification Report:\n",
      "\n",
      "              precision    recall  f1-score   support\n",
      "\n",
      "     Class 0       0.87      0.96      0.91       129\n",
      "     Class 1       0.91      0.74      0.82        72\n",
      "\n",
      "    accuracy                           0.88       201\n",
      "   macro avg       0.89      0.85      0.86       201\n",
      "weighted avg       0.88      0.88      0.88       201\n",
      "\n",
      "\n",
      "ROC-AUC Curve:\n"
     ]
    },
    {
     "data": {
      "image/png": "[encoded data removed]",
      "text/plain": [
       "<Figure size 432x288 with 1 Axes>"
      ]
     },
     "metadata": {
      "needs_background": "light"
     },
     "output_type": "display_data"
    }
   ],
   "source": [
    "X_tomek, y_tomek = tomek_links(X,y)\n",
    "\n",
    "log_reg.fit(X_tomek, y_tomek)\n",
    "\n",
    "evaluate_model_metrics(log_reg,X_tomek, y_tomek,X_test,y_test)"
   ]
  },
  {
   "cell_type": "markdown",
   "id": "783921be",
   "metadata": {},
   "source": [
    "### SMOTE + Tomek Links"
   ]
  },
  {
   "cell_type": "code",
   "execution_count": 35,
   "id": "5e6e7364",
   "metadata": {},
   "outputs": [],
   "source": [
    "# Combine SMOTE for oversampling the minority class with Tomek Links to clean the dataset.\n",
    "\n",
    "def smote_tomek(X,y, sampling_strategy='auto', random_state=42):\n",
    "    \n",
    "    smt = SMOTETomek(sampling_strategy=sampling_strategy, random_state=random_state)\n",
    "    X_resampled, y_resampled = smt.fit_resample(X, y)\n",
    "    \n",
    "    return X_resampled, y_resampled"
   ]
  },
  {
   "cell_type": "code",
   "execution_count": 36,
   "id": "6ede6e13",
   "metadata": {},
   "outputs": [
    {
     "name": "stdout",
     "output_type": "stream",
     "text": [
      "\n",
      "Train Accuracy: 0.910\n",
      "\n",
      "Test Accuracy: 0.886\n",
      "\n",
      "Precision: 0.866\n",
      "\n",
      "Recall: 0.806\n",
      "\n",
      "F1-Score: 0.835\n",
      "\n",
      "Confusion Matrix:\n",
      "\n",
      "[[120   9]\n",
      " [ 14  58]]\n",
      "\n",
      "\n",
      "Classification Report:\n",
      "\n",
      "              precision    recall  f1-score   support\n",
      "\n",
      "     Class 0       0.90      0.93      0.91       129\n",
      "     Class 1       0.87      0.81      0.83        72\n",
      "\n",
      "    accuracy                           0.89       201\n",
      "   macro avg       0.88      0.87      0.87       201\n",
      "weighted avg       0.88      0.89      0.88       201\n",
      "\n",
      "\n",
      "ROC-AUC Curve:\n"
     ]
    },
    {
     "data": {
      "image/png": "[encoded data removed]",
      "text/plain": [
       "<Figure size 432x288 with 1 Axes>"
      ]
     },
     "metadata": {
      "needs_background": "light"
     },
     "output_type": "display_data"
    }
   ],
   "source": [
    "X_smote_tomek, y_smote_tomek = smote_tomek(X,y)\n",
    "\n",
    "log_reg.fit(X_smote_tomek, y_smote_tomek)\n",
    "\n",
    "evaluate_model_metrics(log_reg,X_smote_tomek, y_smote_tomek,X_test,y_test)"
   ]
  },
  {
   "cell_type": "code",
   "execution_count": 37,
   "id": "14480ebd",
   "metadata": {},
   "outputs": [],
   "source": [
    "# Smote + Tomek Links provide better results\n",
    "\n",
    "X_train, y_train = X_smote_tomek, y_smote_tomek"
   ]
  },
  {
   "cell_type": "markdown",
   "id": "64f913db",
   "metadata": {},
   "source": [
    "## Hyperparameter Optimization"
   ]
  },
  {
   "cell_type": "code",
   "execution_count": 38,
   "id": "73b37fe3",
   "metadata": {},
   "outputs": [],
   "source": [
    "# It is the process of finding the right combination of hyperparameter values \n",
    "# to achieve maximum performance on the data in a reasonable amount of time"
   ]
  },
  {
   "cell_type": "markdown",
   "id": "683ff483",
   "metadata": {},
   "source": [
    "### Grid Search"
   ]
  },
  {
   "cell_type": "code",
   "execution_count": 39,
   "id": "8e9a9bce",
   "metadata": {},
   "outputs": [],
   "source": [
    "# Grid search is an exhaustive method to find optimal values for hyperparameters\n",
    "\n",
    "# Hyperparameters\n",
    "param_grid = {\n",
    "    \n",
    "    'penalty': ['l1', 'l2','none'],\n",
    "    'C': [0.001, 0.01, 0.1, 1, 10, 100],\n",
    "    'solver': ['newton-cg','saga','lbfgs','liblinear'],\n",
    "    'max_iter': [100,200,300],\n",
    "    'class_weight': [None, 'balanced'],\n",
    "    'warm_start': [False, True],\n",
    "    \n",
    "}"
   ]
  },
  {
   "cell_type": "code",
   "execution_count": 40,
   "id": "19311383",
   "metadata": {},
   "outputs": [],
   "source": [
    "grid_search = GridSearchCV(log_reg, param_grid, cv=5, scoring='accuracy', verbose=0, n_jobs=-1)\n",
    "grid_search.fit(X_train, y_train)\n",
    "\n",
    "clear_output()     # to clear warnings"
   ]
  },
  {
   "cell_type": "code",
   "execution_count": 41,
   "id": "9db489ad",
   "metadata": {},
   "outputs": [
    {
     "data": {
      "text/plain": [
       "{'C': 0.1,\n",
       " 'class_weight': None,\n",
       " 'max_iter': 100,\n",
       " 'penalty': 'l1',\n",
       " 'solver': 'liblinear',\n",
       " 'warm_start': False}"
      ]
     },
     "execution_count": 41,
     "metadata": {},
     "output_type": "execute_result"
    }
   ],
   "source": [
    "# Best hyperparameters\n",
    "grid_best_params = grid_search.best_params_\n",
    "grid_best_params"
   ]
  },
  {
   "cell_type": "code",
   "execution_count": 42,
   "id": "79cffb81",
   "metadata": {},
   "outputs": [],
   "source": [
    "# Model with the best hyperparameters\n",
    "log_reg_grid = grid_search.best_estimator_"
   ]
  },
  {
   "cell_type": "code",
   "execution_count": 43,
   "id": "2da531e4",
   "metadata": {},
   "outputs": [
    {
     "name": "stdout",
     "output_type": "stream",
     "text": [
      "\n",
      "Train Accuracy: 0.900\n",
      "\n",
      "Test Accuracy: 0.866\n",
      "\n",
      "Precision: 0.836\n",
      "\n",
      "Recall: 0.778\n",
      "\n",
      "F1-Score: 0.806\n",
      "\n",
      "Confusion Matrix:\n",
      "\n",
      "[[118  11]\n",
      " [ 16  56]]\n",
      "\n",
      "\n",
      "Classification Report:\n",
      "\n",
      "              precision    recall  f1-score   support\n",
      "\n",
      "     Class 0       0.88      0.91      0.90       129\n",
      "     Class 1       0.84      0.78      0.81        72\n",
      "\n",
      "    accuracy                           0.87       201\n",
      "   macro avg       0.86      0.85      0.85       201\n",
      "weighted avg       0.86      0.87      0.86       201\n",
      "\n",
      "\n",
      "ROC-AUC Curve:\n"
     ]
    },
    {
     "data": {
      "image/png": "[encoded data removed]",
      "text/plain": [
       "<Figure size 432x288 with 1 Axes>"
      ]
     },
     "metadata": {
      "needs_background": "light"
     },
     "output_type": "display_data"
    }
   ],
   "source": [
    "evaluate_model_metrics(log_reg_grid,X_train,y_train,X_test,y_test)\n",
    "\n",
    "# We can see a slight improvement in some evaluation metrics"
   ]
  },
  {
   "cell_type": "code",
   "execution_count": 44,
   "id": "51353107",
   "metadata": {},
   "outputs": [],
   "source": [
    "# Function to perform grid search optimisation\n",
    "\n",
    "def grid_search_optimize(model, param_grid, X_train, y_train, cv,\n",
    "                         scoring='accuracy', verbose=0, n_jobs=-1):\n",
    "    \n",
    "    grid_search = GridSearchCV(model, param_grid=param_grid, cv=cv, \n",
    "                               scoring=scoring, verbose=verbose, n_jobs=n_jobs)\n",
    "    \n",
    "    grid_search.fit(X_train, y_train)\n",
    "    clear_output()\n",
    "    \n",
    "    grid_best_params = grid_search.best_params_\n",
    "    grid_best_model = grid_search.best_estimator_\n",
    "    \n",
    "    return grid_best_params, grid_best_model"
   ]
  },
  {
   "cell_type": "markdown",
   "id": "4d81d17c",
   "metadata": {},
   "source": [
    "### Random Search"
   ]
  },
  {
   "cell_type": "code",
   "execution_count": 45,
   "id": "1300539b",
   "metadata": {},
   "outputs": [],
   "source": [
    "# Random Search is faster than grid search due to less iterations performed but it may not be optimal \n",
    "\n",
    "random_search = RandomizedSearchCV(\n",
    "        log_reg,\n",
    "        param_distributions=param_grid,\n",
    "        n_iter=100, \n",
    "        scoring='accuracy', \n",
    "        cv=5, \n",
    "        n_jobs=-1, \n",
    "        verbose=0\n",
    "    )\n",
    "\n",
    "random_search.fit(X_train, y_train)\n",
    "\n",
    "clear_output()"
   ]
  },
  {
   "cell_type": "code",
   "execution_count": 46,
   "id": "b7382c16",
   "metadata": {
    "scrolled": true
   },
   "outputs": [
    {
     "data": {
      "text/plain": [
       "{'warm_start': True,\n",
       " 'solver': 'liblinear',\n",
       " 'penalty': 'l1',\n",
       " 'max_iter': 100,\n",
       " 'class_weight': 'balanced',\n",
       " 'C': 0.1}"
      ]
     },
     "execution_count": 46,
     "metadata": {},
     "output_type": "execute_result"
    }
   ],
   "source": [
    "rand_best_params = random_search.best_params_\n",
    "rand_best_params\n",
    "\n",
    "# We get similar hyperparameters"
   ]
  },
  {
   "cell_type": "code",
   "execution_count": 47,
   "id": "a6b0e07c",
   "metadata": {},
   "outputs": [],
   "source": [
    "# Function for Random Search\n",
    "\n",
    "def random_search_optimize(model,param,n_iter,cv,X_train, y_train,\n",
    "                           scoring='accuracy', n_jobs=-1, verbose=0):\n",
    "    \n",
    "    random_search = RandomizedSearchCV(\n",
    "        model,\n",
    "        param_distributions=param,\n",
    "        n_iter=n_iter, \n",
    "        scoring=scoring, \n",
    "        cv=cv, \n",
    "        n_jobs=n_jobs, \n",
    "        verbose=verbose\n",
    "    )\n",
    "\n",
    "    random_search.fit(X_train, y_train)\n",
    "    clear_output()\n",
    "\n",
    "    rand_best_params = random_search.best_params_\n",
    "    rand_best_model = random_search.best_estimator_\n",
    "    \n",
    "    return rand_best_params, rand_best_model"
   ]
  },
  {
   "cell_type": "code",
   "execution_count": 48,
   "id": "fe678877",
   "metadata": {},
   "outputs": [],
   "source": [
    "rand_best_params, log_reg_rand = random_search_optimize(log_reg,param_grid,100,5,X_train, y_train,\n",
    "                                                            scoring='accuracy', n_jobs=-1, verbose=0)"
   ]
  },
  {
   "cell_type": "code",
   "execution_count": 49,
   "id": "30af7b2a",
   "metadata": {},
   "outputs": [
    {
     "name": "stdout",
     "output_type": "stream",
     "text": [
      "\n",
      "Train Accuracy: 0.900\n",
      "\n",
      "Test Accuracy: 0.866\n",
      "\n",
      "Precision: 0.836\n",
      "\n",
      "Recall: 0.778\n",
      "\n",
      "F1-Score: 0.806\n",
      "\n",
      "Confusion Matrix:\n",
      "\n",
      "[[118  11]\n",
      " [ 16  56]]\n",
      "\n",
      "\n",
      "Classification Report:\n",
      "\n",
      "              precision    recall  f1-score   support\n",
      "\n",
      "     Class 0       0.88      0.91      0.90       129\n",
      "     Class 1       0.84      0.78      0.81        72\n",
      "\n",
      "    accuracy                           0.87       201\n",
      "   macro avg       0.86      0.85      0.85       201\n",
      "weighted avg       0.86      0.87      0.86       201\n",
      "\n",
      "\n",
      "ROC-AUC Curve:\n"
     ]
    },
    {
     "data": {
      "image/png": "[encoded data removed]",
      "text/plain": [
       "<Figure size 432x288 with 1 Axes>"
      ]
     },
     "metadata": {
      "needs_background": "light"
     },
     "output_type": "display_data"
    }
   ],
   "source": [
    "evaluate_model_metrics(log_reg_rand,X_train,y_train,X_test,y_test)"
   ]
  },
  {
   "cell_type": "markdown",
   "id": "6138c621",
   "metadata": {},
   "source": [
    "### OPTUNA"
   ]
  },
  {
   "cell_type": "code",
   "execution_count": 111,
   "id": "918063c9",
   "metadata": {},
   "outputs": [],
   "source": [
    "# Optuna is an automatic hyperparameter optimization software framework\n",
    "\n",
    "def objective(trial):\n",
    "    \n",
    "    # Hyperparameter search space\n",
    "    penalty = trial.suggest_categorical('penalty', ['l1', 'l2','none'])\n",
    "    C = trial.suggest_loguniform('C', 1e-5, 1e5)\n",
    "    solver = trial.suggest_categorical('solver', ['newton-cg', 'saga', 'lbfgs',\n",
    "                                                  'liblinear','sag'])\n",
    "    if (penalty == \"l1\" and solver not in [\"liblinear\", \"saga\"]) or (penalty == \"elasticnet\" and solver not in [\"saga\"]) or penalty=='none' and solver in ['liblinear']:\n",
    "        return 0\n",
    "    max_iter = trial.suggest_int('max_iter', 100, 300, 500)\n",
    "    class_weight = trial.suggest_categorical('class_weight', [None, 'balanced'])\n",
    "    warm_start = trial.suggest_categorical('warm_start', [False, True])\n",
    "    fit_intercept = trial.suggest_categorical('fit_intercept', [False, True])\n",
    "\n",
    "    model = LogisticRegression(\n",
    "        penalty=penalty, C=C, solver=solver, max_iter=max_iter,\n",
    "        class_weight=class_weight, warm_start=warm_start, fit_intercept=fit_intercept\n",
    "    )\n",
    "    model.fit(X_train, y_train)\n",
    "\n",
    "    y_pred = model.predict(X_test)\n",
    "\n",
    "    accuracy = accuracy_score(y_test, y_pred)\n",
    "\n",
    "    return accuracy"
   ]
  },
  {
   "cell_type": "code",
   "execution_count": 51,
   "id": "bc2b7854",
   "metadata": {},
   "outputs": [],
   "source": [
    "def optuna_optimize(n_trials=100,direction='maximum',n_jobs=-1):\n",
    "    \n",
    "    study = optuna.create_study(direction='maximize')  # 'maximize' for accuracy, 'minimize' for loss\n",
    "    study.optimize(objective, n_trials=n_trials, n_jobs=n_jobs)\n",
    "    clear_output()\n",
    "    \n",
    "    best_trial = study.best_trial.params\n",
    "    log_reg_opt = LogisticRegression(**best_trial)\n",
    "    \n",
    "    return best_trial, log_reg_opt"
   ]
  },
  {
   "cell_type": "code",
   "execution_count": 52,
   "id": "5c851931",
   "metadata": {},
   "outputs": [
    {
     "data": {
      "text/plain": [
       "{'penalty': 'l2',\n",
       " 'C': 4.22005726057669,\n",
       " 'solver': 'newton-cg',\n",
       " 'max_iter': 100,\n",
       " 'class_weight': 'balanced',\n",
       " 'warm_start': False,\n",
       " 'fit_intercept': True}"
      ]
     },
     "execution_count": 52,
     "metadata": {},
     "output_type": "execute_result"
    }
   ],
   "source": [
    "# Best optuna paramaters\n",
    "best_trial, log_reg_opt = optuna_optimize()\n",
    "\n",
    "best_trial"
   ]
  },
  {
   "cell_type": "code",
   "execution_count": 53,
   "id": "b1337fdf",
   "metadata": {},
   "outputs": [
    {
     "name": "stdout",
     "output_type": "stream",
     "text": [
      "\n",
      "Train Accuracy: 0.913\n",
      "\n",
      "Test Accuracy: 0.886\n",
      "\n",
      "Precision: 0.855\n",
      "\n",
      "Recall: 0.819\n",
      "\n",
      "F1-Score: 0.837\n",
      "\n",
      "Confusion Matrix:\n",
      "\n",
      "[[119  10]\n",
      " [ 13  59]]\n",
      "\n",
      "\n",
      "Classification Report:\n",
      "\n",
      "              precision    recall  f1-score   support\n",
      "\n",
      "     Class 0       0.90      0.92      0.91       129\n",
      "     Class 1       0.86      0.82      0.84        72\n",
      "\n",
      "    accuracy                           0.89       201\n",
      "   macro avg       0.88      0.87      0.87       201\n",
      "weighted avg       0.88      0.89      0.89       201\n",
      "\n",
      "\n",
      "ROC-AUC Curve:\n"
     ]
    },
    {
     "data": {
      "image/png": "[encoded data removed]",
      "text/plain": [
       "<Figure size 432x288 with 1 Axes>"
      ]
     },
     "metadata": {
      "needs_background": "light"
     },
     "output_type": "display_data"
    }
   ],
   "source": [
    "log_reg_opt.fit(X_train,y_train)\n",
    "\n",
    "evaluate_model_metrics(log_reg_opt,X_train,y_train,X_test,y_test)\n",
    "\n",
    "# Optuna seems to give good hyperparameters with lesser cost"
   ]
  },
  {
   "cell_type": "markdown",
   "id": "1237443e",
   "metadata": {},
   "source": [
    "## Cross Validation"
   ]
  },
  {
   "cell_type": "code",
   "execution_count": 54,
   "id": "4a472804",
   "metadata": {},
   "outputs": [],
   "source": [
    "# It is a technique used to evaluate the performance of a model on unseen data.\n",
    "# It involves dividing the available data into multiple folds or subsets, \n",
    "# using one of these folds as a validation set, and training the model on the remaining folds."
   ]
  },
  {
   "cell_type": "markdown",
   "id": "aebcfdad",
   "metadata": {},
   "source": [
    "### K-fold"
   ]
  },
  {
   "cell_type": "code",
   "execution_count": 55,
   "id": "bfa2d498",
   "metadata": {},
   "outputs": [
    {
     "name": "stdout",
     "output_type": "stream",
     "text": [
      "Scores: [0.9009901 0.92      0.9       0.89      0.91      0.89      0.87\n",
      " 0.93      0.86      0.86     ]\n"
     ]
    }
   ],
   "source": [
    "# The dataset is divided into k subsets or folds. \n",
    "# The model is trained and evaluated k times, using a different fold as the validation set each time. \n",
    "# Performance metrics from each fold are averaged to estimate the model's generalization performance.\n",
    "\n",
    "scores = cross_val_score(log_reg_grid, X, y, cv=10, scoring='accuracy')\n",
    "\n",
    "print(\"Scores:\", scores)"
   ]
  },
  {
   "cell_type": "code",
   "execution_count": 56,
   "id": "3682ffd2",
   "metadata": {},
   "outputs": [
    {
     "name": "stdout",
     "output_type": "stream",
     "text": [
      "\n",
      "Mean Accuracy:  0.89309900990099\n",
      "\n",
      "Standard Deviation:  0.02285769816185149\n"
     ]
    }
   ],
   "source": [
    "mean_accuracy = scores.mean()\n",
    "std_accuracy = scores.std()\n",
    "\n",
    "print(\"\\nMean Accuracy: \", mean_accuracy)\n",
    "print(\"\\nStandard Deviation: \", std_accuracy)"
   ]
  },
  {
   "cell_type": "code",
   "execution_count": 57,
   "id": "54ac4220",
   "metadata": {},
   "outputs": [],
   "source": [
    "def k_cross_validate(model,X,y,cv,scoring='accuracy',n_jobs=-1):\n",
    "    \n",
    "    scores = cross_val_score(model, X, y, cv=cv, scoring=scoring)\n",
    "    \n",
    "    mean_score = scores.mean()\n",
    "    std_score = scores.std()\n",
    "    \n",
    "    print(f\"\\n{scoring} scores:\", scores)\n",
    "    print(f\"\\nMean {scoring} score: \", mean_score)\n",
    "    print(\"\\nStandard deviation: \", std_score)"
   ]
  },
  {
   "cell_type": "code",
   "execution_count": 58,
   "id": "5208074f",
   "metadata": {},
   "outputs": [
    {
     "name": "stdout",
     "output_type": "stream",
     "text": [
      "\n",
      "accuracy scores: [0.89108911 0.91       0.9        0.84       0.9        0.84\n",
      " 0.83       0.9        0.87       0.83      ]\n",
      "\n",
      "Mean accuracy score:  0.871108910891089\n",
      "\n",
      "Standard deviation:  0.031196880743131487\n"
     ]
    }
   ],
   "source": [
    "k_cross_validate(log_reg,X,y,cv=10,scoring='accuracy',n_jobs=-1)"
   ]
  },
  {
   "cell_type": "code",
   "execution_count": 59,
   "id": "2f6cd7c0",
   "metadata": {},
   "outputs": [
    {
     "name": "stdout",
     "output_type": "stream",
     "text": [
      "\n",
      "accuracy scores: [0.9009901 0.92      0.9       0.89      0.91      0.89      0.87\n",
      " 0.93      0.86      0.86     ]\n",
      "\n",
      "Mean accuracy score:  0.89309900990099\n",
      "\n",
      "Standard deviation:  0.02285769816185149\n"
     ]
    }
   ],
   "source": [
    "k_cross_validate(log_reg_grid,X,y,cv=10,scoring='accuracy',n_jobs=-1)"
   ]
  },
  {
   "cell_type": "code",
   "execution_count": 60,
   "id": "5c46a573",
   "metadata": {},
   "outputs": [
    {
     "name": "stdout",
     "output_type": "stream",
     "text": [
      "\n",
      "accuracy scores: [0.83168317 0.88       0.9        0.84       0.87       0.83\n",
      " 0.82       0.87       0.82       0.82      ]\n",
      "\n",
      "Mean accuracy score:  0.8481683168316831\n",
      "\n",
      "Standard deviation:  0.02775239753718331\n"
     ]
    }
   ],
   "source": [
    "k_cross_validate(log_reg_opt,X,y,cv=10,scoring='accuracy',n_jobs=-1)"
   ]
  },
  {
   "cell_type": "markdown",
   "id": "dba22982",
   "metadata": {},
   "source": [
    "### Stratified K-fold"
   ]
  },
  {
   "cell_type": "code",
   "execution_count": 61,
   "id": "36ef3a7d",
   "metadata": {},
   "outputs": [],
   "source": [
    "# Stratified k-fold ensures that each fold maintains the same class distribution as the entire dataset.\n",
    "# It's useful when dealing with imbalanced datasets, where one class significantly outnumbers the other."
   ]
  },
  {
   "cell_type": "code",
   "execution_count": 62,
   "id": "d78c714f",
   "metadata": {},
   "outputs": [],
   "source": [
    "def stratified_k_cross_validate(model,X,y,n_splits,shuffle=True,verbose=0,random_state=42):\n",
    "    \n",
    "    X = X.values\n",
    "    y = y.values\n",
    "\n",
    "    stratified_kf = StratifiedKFold(n_splits=n_splits, shuffle=shuffle, random_state=random_state)\n",
    "\n",
    "    scores = []\n",
    "\n",
    "    # Stratified k-fold cross-validation\n",
    "    for train_index, test_index in stratified_kf.split(X, y):\n",
    "        X_train, X_test = X[train_index], X[test_index]\n",
    "        y_train, y_test = y[train_index], y[test_index]\n",
    "\n",
    "        model.fit(X_train, y_train)\n",
    "\n",
    "        y_pred = model.predict(X_test)\n",
    "\n",
    "        accuracy = accuracy_score(y_test, y_pred)\n",
    "        precision = precision_score(y_test, y_pred)\n",
    "        recall = recall_score(y_test, y_pred)\n",
    "        f1 = f1_score(y_test, y_pred)\n",
    "        confusion = confusion_matrix(y_test, y_pred)\n",
    "\n",
    "        scores.append([accuracy,precision,recall,f1,confusion])\n",
    "\n",
    "        average_accuracy = np.mean([item[0] for item in scores])\n",
    "        average_precision = np.mean([item[1] for item in scores])\n",
    "        average_recall = np.mean([item[2] for item in scores])\n",
    "        average_f1 = np.mean([item[3] for item in scores])\n",
    "\n",
    "    for fold, score in enumerate(scores, 1):\n",
    "        if verbose >= 1:\n",
    "            print(f\"Fold {fold}: \")\n",
    "            print(f\"Accuracy: {score[0]:.3f}\")\n",
    "        \n",
    "        if verbose >= 2:\n",
    "            print(f\"Precision: {score[1]:.3f}\")\n",
    "\n",
    "        if verbose >= 3:\n",
    "            print(f\"Recall: {score[2]:.3f}\")\n",
    "\n",
    "        if verbose >= 4:\n",
    "            print(f\"F1-Score: {score[3]:.3f}\")\n",
    "\n",
    "        if verbose >= 5:\n",
    "            print(f\"Confusion Matrix:\\n {score[4]}\")\n",
    "            \n",
    "        if verbose >= 1:\n",
    "            print('')\n",
    "\n",
    "    print(f\"\\nAverage Accuracy: {average_accuracy}\")\n",
    "    print(f\"\\nAverage Precision: {average_precision}\")\n",
    "    print(f\"\\nAverage Recall: {average_recall}\")\n",
    "    print(f\"\\nAverage F1-Score: {average_f1}\")"
   ]
  },
  {
   "cell_type": "code",
   "execution_count": 63,
   "id": "779b6b43",
   "metadata": {},
   "outputs": [
    {
     "name": "stdout",
     "output_type": "stream",
     "text": [
      "Fold 1: \n",
      "Accuracy: 0.881\n",
      "Precision: 0.824\n",
      "Recall: 0.824\n",
      "F1-Score: 0.824\n",
      "\n",
      "Fold 2: \n",
      "Accuracy: 0.880\n",
      "Precision: 0.839\n",
      "Recall: 0.788\n",
      "F1-Score: 0.812\n",
      "\n",
      "Fold 3: \n",
      "Accuracy: 0.870\n",
      "Precision: 0.857\n",
      "Recall: 0.727\n",
      "F1-Score: 0.787\n",
      "\n",
      "Fold 4: \n",
      "Accuracy: 0.850\n",
      "Precision: 0.765\n",
      "Recall: 0.788\n",
      "F1-Score: 0.776\n",
      "\n",
      "Fold 5: \n",
      "Accuracy: 0.910\n",
      "Precision: 0.900\n",
      "Recall: 0.818\n",
      "F1-Score: 0.857\n",
      "\n",
      "Fold 6: \n",
      "Accuracy: 0.840\n",
      "Precision: 0.815\n",
      "Recall: 0.667\n",
      "F1-Score: 0.733\n",
      "\n",
      "Fold 7: \n",
      "Accuracy: 0.890\n",
      "Precision: 1.000\n",
      "Recall: 0.667\n",
      "F1-Score: 0.800\n",
      "\n",
      "Fold 8: \n",
      "Accuracy: 0.840\n",
      "Precision: 0.815\n",
      "Recall: 0.667\n",
      "F1-Score: 0.733\n",
      "\n",
      "Fold 9: \n",
      "Accuracy: 0.850\n",
      "Precision: 0.806\n",
      "Recall: 0.735\n",
      "F1-Score: 0.769\n",
      "\n",
      "Fold 10: \n",
      "Accuracy: 0.820\n",
      "Precision: 0.786\n",
      "Recall: 0.647\n",
      "F1-Score: 0.710\n",
      "\n",
      "\n",
      "Average Accuracy: 0.8631188118811881\n",
      "\n",
      "Average Precision: 0.8405883356927001\n",
      "\n",
      "Average Recall: 0.7327094474153298\n",
      "\n",
      "Average F1-Score: 0.7801751773046552\n"
     ]
    }
   ],
   "source": [
    "stratified_k_cross_validate(log_reg,X,y,n_splits=10,verbose=4)"
   ]
  },
  {
   "cell_type": "code",
   "execution_count": 64,
   "id": "04c583c2",
   "metadata": {},
   "outputs": [
    {
     "name": "stdout",
     "output_type": "stream",
     "text": [
      "Fold 1: \n",
      "Accuracy: 0.901\n",
      "\n",
      "Fold 2: \n",
      "Accuracy: 0.910\n",
      "\n",
      "Fold 3: \n",
      "Accuracy: 0.900\n",
      "\n",
      "Fold 4: \n",
      "Accuracy: 0.950\n",
      "\n",
      "Fold 5: \n",
      "Accuracy: 0.940\n",
      "\n",
      "Fold 6: \n",
      "Accuracy: 0.870\n",
      "\n",
      "Fold 7: \n",
      "Accuracy: 0.870\n",
      "\n",
      "Fold 8: \n",
      "Accuracy: 0.880\n",
      "\n",
      "Fold 9: \n",
      "Accuracy: 0.880\n",
      "\n",
      "Fold 10: \n",
      "Accuracy: 0.850\n",
      "\n",
      "\n",
      "Average Accuracy: 0.8950990099009901\n",
      "\n",
      "Average Precision: 0.9162876418933392\n",
      "\n",
      "Average Recall: 0.7540106951871658\n",
      "\n",
      "Average F1-Score: 0.8256531166360421\n"
     ]
    }
   ],
   "source": [
    "stratified_k_cross_validate(log_reg_grid,X,y,n_splits=10,verbose=1)"
   ]
  },
  {
   "cell_type": "code",
   "execution_count": 65,
   "id": "43151546",
   "metadata": {},
   "outputs": [
    {
     "name": "stdout",
     "output_type": "stream",
     "text": [
      "\n",
      "Average Accuracy: 0.8441683168316831\n",
      "\n",
      "Average Precision: 0.7577817101675509\n",
      "\n",
      "Average Recall: 0.7897504456327986\n",
      "\n",
      "Average F1-Score: 0.7713192367052291\n"
     ]
    }
   ],
   "source": [
    "stratified_k_cross_validate(log_reg_opt,X,y,n_splits=10)"
   ]
  },
  {
   "cell_type": "markdown",
   "id": "e67c91a0",
   "metadata": {},
   "source": [
    "## Feature Selection"
   ]
  },
  {
   "cell_type": "code",
   "execution_count": 66,
   "id": "bb7d0097",
   "metadata": {},
   "outputs": [],
   "source": [
    "# Using all the features to train the model may result in overfitting\n",
    "# This can be avoided by performing feature extraction\n",
    "# We can use a combination of various methods along with domain knowledge to select the features\n",
    "# As we shall see, most of the insights derived from these methods seem to be in agreement with current research"
   ]
  },
  {
   "cell_type": "markdown",
   "id": "e1bd3cec",
   "metadata": {},
   "source": [
    "### Correlation Analysis"
   ]
  },
  {
   "cell_type": "code",
   "execution_count": 67,
   "id": "a0c68cad",
   "metadata": {},
   "outputs": [],
   "source": [
    "# Function to check which features are more correlated with the disease\n",
    "\n",
    "def get_correlated_features(df,disease,pos,neg):\n",
    "    \n",
    "    corr_df = df.corr()[disease].sort_values(ascending=False)\n",
    "    pos_corr = corr_df[corr_df>pos]\n",
    "    neg_corr = corr_df[corr_df<neg]\n",
    "    \n",
    "    return pos_corr, neg_corr"
   ]
  },
  {
   "cell_type": "code",
   "execution_count": 68,
   "id": "0faf3205",
   "metadata": {
    "scrolled": false
   },
   "outputs": [
    {
     "name": "stdout",
     "output_type": "stream",
     "text": [
      "Positive Correlation\n",
      "\n",
      "Diabetes                              1.000000\n",
      "Glycohemoglobin [%]                   0.616415\n",
      "Fasting Glucose [mmol/L]              0.610611\n",
      "Age                                   0.396039\n",
      "BMI                                   0.269706\n",
      "Blood Urea Nitrogen [mg/dL]           0.242561\n",
      "Insulin [pmol/L]                      0.234273\n",
      "Osmolality [mmol/Kg]                  0.224238\n",
      "Retinol [umol/L]                      0.213473\n",
      "Triglyceride [mmol/L]                 0.167136\n",
      "Alpha-tocopherol [umol/L]             0.162476\n",
      "Triglyceride_HDL Ratio                0.156951\n",
      "Segmented neutrophils [%]             0.153802\n",
      "Neutrophil_Lymphocyte Ratio           0.147970\n",
      "C-Reactive Protein [mg/L]             0.137446\n",
      "Creatinine [mg/dL]                    0.132612\n",
      "Ferritin [ng/mL]                      0.130874\n",
      "Red cell distribution width [%]       0.124067\n",
      "25-hydroxyvitamin D2 + D3 [nmol/L]    0.104823\n",
      "Total Cholestrol_HDL Ratio            0.104507\n",
      "Mean platelet volume [fL]             0.103400\n",
      "Uric Acid [mg/dL]                     0.102114\n",
      "Mean cell volume [fL]                 0.101148\n",
      "Gamma-tocopherol [umol/L]             0.100820\n",
      "Name: Diabetes, dtype: float64\n",
      "\n",
      "\n",
      "Negative Correlation\n",
      "\n",
      "Total Lycopene [umol/L]               -0.108150\n",
      "Trans-lycopene [umol/L]               -0.112979\n",
      "Platelet count [1000 cells/uL]        -0.113657\n",
      "A/G Ratio                             -0.118617\n",
      "Chloride [mmol/L]                     -0.129870\n",
      "Platelet_WBC Ratio                    -0.135735\n",
      "Direct HDL-Cholesterol [mmol/L]       -0.139317\n",
      "Albumin [g/dL]                        -0.146871\n",
      "Alpha-crypotoxanthin [umol/L]         -0.147298\n",
      "Lymphocyte_C-Reactive Protein Ratio   -0.158445\n",
      "Lymphocyte [%]                        -0.168205\n",
      "Name: Diabetes, dtype: float64\n"
     ]
    }
   ],
   "source": [
    "pos_corr, neg_corr = get_correlated_features(diabetes_df,'Diabetes',pos=0.1,neg=-0.1)\n",
    "\n",
    "print('Positive Correlation\\n\\n',pos_corr,sep='')\n",
    "print('\\n\\nNegative Correlation\\n\\n',neg_corr,sep='')"
   ]
  },
  {
   "cell_type": "code",
   "execution_count": 69,
   "id": "fe831c21",
   "metadata": {},
   "outputs": [],
   "source": [
    "# Evaluating the performance of a model on the selected features for comparison\n",
    "\n",
    "corr_features = ['Gender'] + list(pos_corr.keys()[1:10]) + list(neg_corr.keys()[:10]) \n",
    "\n",
    "log_reg_test = LogisticRegression()"
   ]
  },
  {
   "cell_type": "code",
   "execution_count": 70,
   "id": "babf3d54",
   "metadata": {},
   "outputs": [],
   "source": [
    "def evaluate_feature_set(feature_set, model, X_train,y_train,X_test,y_test):\n",
    "    \n",
    "    X_train = X_train[feature_set]\n",
    "    X_test = X_test[feature_set]\n",
    "\n",
    "    model.fit(X_train, y_train)\n",
    "\n",
    "    evaluate_model_metrics(model,X_train,y_train,X_test,y_test)"
   ]
  },
  {
   "cell_type": "code",
   "execution_count": 71,
   "id": "e6356b43",
   "metadata": {},
   "outputs": [
    {
     "name": "stdout",
     "output_type": "stream",
     "text": [
      "\n",
      "Train Accuracy: 0.885\n",
      "\n",
      "Test Accuracy: 0.831\n",
      "\n",
      "Precision: 0.771\n",
      "\n",
      "Recall: 0.750\n",
      "\n",
      "F1-Score: 0.761\n",
      "\n",
      "Confusion Matrix:\n",
      "\n",
      "[[113  16]\n",
      " [ 18  54]]\n",
      "\n",
      "\n",
      "Classification Report:\n",
      "\n",
      "              precision    recall  f1-score   support\n",
      "\n",
      "     Class 0       0.86      0.88      0.87       129\n",
      "     Class 1       0.77      0.75      0.76        72\n",
      "\n",
      "    accuracy                           0.83       201\n",
      "   macro avg       0.82      0.81      0.81       201\n",
      "weighted avg       0.83      0.83      0.83       201\n",
      "\n",
      "\n",
      "ROC-AUC Curve:\n"
     ]
    },
    {
     "data": {
      "image/png": "[encoded data removed]",
      "text/plain": [
       "<Figure size 432x288 with 1 Axes>"
      ]
     },
     "metadata": {
      "needs_background": "light"
     },
     "output_type": "display_data"
    }
   ],
   "source": [
    "evaluate_feature_set(corr_features,log_reg_test,X_train,y_train,X_test,y_test)"
   ]
  },
  {
   "cell_type": "markdown",
   "id": "4bed040d",
   "metadata": {},
   "source": [
    "### Select From Model"
   ]
  },
  {
   "cell_type": "code",
   "execution_count": 72,
   "id": "ffe6d1c0",
   "metadata": {},
   "outputs": [],
   "source": [
    "# SelectFromModel can be used with any estimator that exposes feature importance\n",
    "\n",
    "def select_from_model_features(model,X,y):\n",
    "\n",
    "    sfm = SelectFromModel(model)  \n",
    "\n",
    "    \n",
    "    sfm.fit_transform(X, y)\n",
    "\n",
    "    \n",
    "    selected_features = sfm.get_support()\n",
    "    feature_names = X.columns\n",
    "    sfm_features = [feature_names[i] for i, selected in enumerate(selected_features) if selected]\n",
    "\n",
    "    return sfm_features"
   ]
  },
  {
   "cell_type": "code",
   "execution_count": 73,
   "id": "841b2c2a",
   "metadata": {
    "scrolled": false
   },
   "outputs": [
    {
     "data": {
      "text/plain": [
       "['Gender',\n",
       " 'BMI',\n",
       " 'A/G Ratio',\n",
       " 'Basophils [%]',\n",
       " 'Cis-beta-carotene [umol/L]',\n",
       " 'Fasting Glucose [mmol/L]',\n",
       " 'Glycohemoglobin [%]',\n",
       " 'Iron [ug/dL]',\n",
       " 'Iron frozen [umol/L]',\n",
       " 'Mean cell volume [fL]',\n",
       " 'Neutrophil_Lymphocyte Ratio',\n",
       " 'Osmolality [mmol/Kg]',\n",
       " 'Potassium [mmol/L]',\n",
       " 'RBC count [million cells/uL]',\n",
       " 'Retinol [umol/L]',\n",
       " 'Retinyl palmitate [umol/L]',\n",
       " 'Sodium [mmol/L]',\n",
       " 'Systemic Immune‐inflammation Index (SII)',\n",
       " 'Total Cholestrol_HDL Ratio',\n",
       " 'Trans-beta-carotene [umol/L]',\n",
       " 'Triglyceride_HDL Ratio',\n",
       " 'Chloride [mmol/L]',\n",
       " 'Hemoglobin [g/dL]',\n",
       " 'LDL-Cholesterol(NIH2) [mmol/L]',\n",
       " 'Transferrin Saturation [%]',\n",
       " 'Triglyceride [mmol/L]']"
      ]
     },
     "execution_count": 73,
     "metadata": {},
     "output_type": "execute_result"
    }
   ],
   "source": [
    "sfm_features = select_from_model_features(log_reg,X,y)\n",
    "sfm_features"
   ]
  },
  {
   "cell_type": "code",
   "execution_count": 74,
   "id": "90d0e8e8",
   "metadata": {},
   "outputs": [
    {
     "name": "stdout",
     "output_type": "stream",
     "text": [
      "\n",
      "Train Accuracy: 0.898\n",
      "\n",
      "Test Accuracy: 0.866\n",
      "\n",
      "Precision: 0.826\n",
      "\n",
      "Recall: 0.792\n",
      "\n",
      "F1-Score: 0.809\n",
      "\n",
      "Confusion Matrix:\n",
      "\n",
      "[[117  12]\n",
      " [ 15  57]]\n",
      "\n",
      "\n",
      "Classification Report:\n",
      "\n",
      "              precision    recall  f1-score   support\n",
      "\n",
      "     Class 0       0.89      0.91      0.90       129\n",
      "     Class 1       0.83      0.79      0.81        72\n",
      "\n",
      "    accuracy                           0.87       201\n",
      "   macro avg       0.86      0.85      0.85       201\n",
      "weighted avg       0.86      0.87      0.87       201\n",
      "\n",
      "\n",
      "ROC-AUC Curve:\n"
     ]
    },
    {
     "data": {
      "image/png": "[encoded data removed]",
      "text/plain": [
       "<Figure size 432x288 with 1 Axes>"
      ]
     },
     "metadata": {
      "needs_background": "light"
     },
     "output_type": "display_data"
    }
   ],
   "source": [
    "sfm_features = list(sfm_features) \n",
    "\n",
    "evaluate_feature_set(sfm_features,log_reg_test,X_train,y_train,X_test,y_test)"
   ]
  },
  {
   "cell_type": "markdown",
   "id": "517eafdd",
   "metadata": {},
   "source": [
    "### SelectKBest"
   ]
  },
  {
   "cell_type": "code",
   "execution_count": 75,
   "id": "78b3ff12",
   "metadata": {},
   "outputs": [],
   "source": [
    "# Function to select features using SelectKBest using anova scores\n",
    "\n",
    "def select_k_best(X,y,n):\n",
    "    \n",
    "    select = SelectKBest(score_func = f_classif, k = n)\n",
    "    \n",
    "    z = select.fit_transform(X,y)\n",
    "\n",
    "    feature_rankings = select.scores_\n",
    "    feature_rankings_df = pd.DataFrame({'Feature': X.columns, 'Ranking': feature_rankings})\n",
    "    sorted_features = feature_rankings_df.sort_values(by='Ranking',ascending=False)\n",
    "    \n",
    "    return sorted_features.Feature.values"
   ]
  },
  {
   "cell_type": "code",
   "execution_count": 76,
   "id": "e393d9f1",
   "metadata": {},
   "outputs": [
    {
     "data": {
      "text/plain": [
       "array(['Glycohemoglobin [%]', 'Fasting Glucose [mmol/L]',\n",
       "       'Osmolality [mmol/Kg]', 'Direct HDL-Cholesterol [mmol/L]',\n",
       "       'Total Cholesterol [mmol/L]', 'Insulin [pmol/L]',\n",
       "       'Blood Urea Nitrogen [mg/dL]', 'BMI',\n",
       "       'LDL-Cholesterol(NIH2) [mmol/L]', 'Chloride [mmol/L]', 'Age',\n",
       "       'Triglyceride_HDL Ratio', 'Platelet_WBC Ratio',\n",
       "       'Triglyceride [mmol/L]', 'Non_HDL Ratio', 'Retinol [umol/L]',\n",
       "       'Alpha-crypotoxanthin [umol/L]', 'Ferritin [ng/mL]',\n",
       "       'Trans-beta-carotene [umol/L]', 'Cis-beta-carotene [umol/L]',\n",
       "       'Transferrin Saturation [%]',\n",
       "       'White blood cell count [1000 cells/uL]', 'UIBC [umol/L]',\n",
       "       'Alanine Aminotransferase [U/L]', 'Total Lycopene [umol/L]',\n",
       "       'Creatinine [mg/dL]', 'Iron frozen [umol/L]',\n",
       "       'Trans-lycopene [umol/L]', 'Iron [ug/dL]',\n",
       "       'Alpha-carotene [umol/L]'], dtype=object)"
      ]
     },
     "execution_count": 76,
     "metadata": {},
     "output_type": "execute_result"
    }
   ],
   "source": [
    "k_best_features = select_k_best(X, y, n=30)\n",
    "k_best_features[:30]"
   ]
  },
  {
   "cell_type": "code",
   "execution_count": 77,
   "id": "41cb7ab4",
   "metadata": {},
   "outputs": [
    {
     "name": "stdout",
     "output_type": "stream",
     "text": [
      "\n",
      "Train Accuracy: 0.892\n",
      "\n",
      "Test Accuracy: 0.856\n",
      "\n",
      "Precision: 0.821\n",
      "\n",
      "Recall: 0.764\n",
      "\n",
      "F1-Score: 0.791\n",
      "\n",
      "Confusion Matrix:\n",
      "\n",
      "[[117  12]\n",
      " [ 17  55]]\n",
      "\n",
      "\n",
      "Classification Report:\n",
      "\n",
      "              precision    recall  f1-score   support\n",
      "\n",
      "     Class 0       0.87      0.91      0.89       129\n",
      "     Class 1       0.82      0.76      0.79        72\n",
      "\n",
      "    accuracy                           0.86       201\n",
      "   macro avg       0.85      0.84      0.84       201\n",
      "weighted avg       0.85      0.86      0.85       201\n",
      "\n",
      "\n",
      "ROC-AUC Curve:\n"
     ]
    },
    {
     "data": {
      "image/png": "[encoded data removed]",
      "text/plain": [
       "<Figure size 432x288 with 1 Axes>"
      ]
     },
     "metadata": {
      "needs_background": "light"
     },
     "output_type": "display_data"
    }
   ],
   "source": [
    "k_best_features_ = list(k_best_features[:18]) \n",
    "\n",
    "evaluate_feature_set(k_best_features_,log_reg_test,X_train,y_train,X_test,y_test)"
   ]
  },
  {
   "cell_type": "markdown",
   "id": "ee2d0a61",
   "metadata": {},
   "source": [
    "### Recursive Feature Elimination (RFE) "
   ]
  },
  {
   "cell_type": "code",
   "execution_count": 78,
   "id": "ac85a454",
   "metadata": {},
   "outputs": [],
   "source": [
    "#  RFE is a method that recursively removes the least important features from the dataset\n",
    "\n",
    "def select_rfe_features(model,X,y,n,step):\n",
    "    \n",
    "    rfe = RFE(model,n_features_to_select=n,step=step)\n",
    "    fit = rfe.fit(X, y)\n",
    "\n",
    "    feature_rankings = rfe.ranking_\n",
    "    feature_rankings_df = pd.DataFrame({'Feature': X.columns, 'Ranking': feature_rankings})\n",
    "    sorted_features = feature_rankings_df.sort_values(by='Ranking')\n",
    "    \n",
    "    return sorted_features.Feature.values"
   ]
  },
  {
   "cell_type": "code",
   "execution_count": 79,
   "id": "cfb25056",
   "metadata": {},
   "outputs": [
    {
     "data": {
      "text/plain": [
       "array(['Gender', 'Iron [ug/dL]', 'Iron frozen [umol/L]',\n",
       "       'Lutein and zeaxanthin [umol/L]', 'Mean cell volume [fL]',\n",
       "       'Neutrophil_Lymphocyte Ratio', 'Osmolality [mmol/Kg]',\n",
       "       'Potassium [mmol/L]', 'RBC count [million cells/uL]',\n",
       "       'Retinol [umol/L]', 'Retinyl palmitate [umol/L]',\n",
       "       'Sodium [mmol/L]', 'Systemic Immune‐inflammation Index (SII)',\n",
       "       'Trans-beta-carotene [umol/L]', 'Triglyceride_HDL Ratio',\n",
       "       'Uric Acid [mg/dL]', 'Chloride [mmol/L]', 'Hemoglobin [g/dL]',\n",
       "       'Insulin [pmol/L]', 'LDL-Cholesterol(NIH2) [mmol/L]',\n",
       "       'Lactate Dehydrogenase [IU/L]', 'Transferrin Saturation [%]',\n",
       "       'Glycohemoglobin [%]', 'Globulin [g/dL]', 'Triglyceride [mmol/L]',\n",
       "       'Fasting Glucose [mmol/L]', 'BMI', 'Basophils [%]', 'A/G Ratio',\n",
       "       'Cis-beta-carotene [umol/L]'], dtype=object)"
      ]
     },
     "execution_count": 79,
     "metadata": {},
     "output_type": "execute_result"
    }
   ],
   "source": [
    "rfe_features = select_rfe_features(log_reg,X,y,n=30,step=0.2)\n",
    "rfe_features[:30]"
   ]
  },
  {
   "cell_type": "code",
   "execution_count": 80,
   "id": "587a12ce",
   "metadata": {},
   "outputs": [
    {
     "name": "stdout",
     "output_type": "stream",
     "text": [
      "\n",
      "Train Accuracy: 0.900\n",
      "\n",
      "Test Accuracy: 0.871\n",
      "\n",
      "Precision: 0.819\n",
      "\n",
      "Recall: 0.819\n",
      "\n",
      "F1-Score: 0.819\n",
      "\n",
      "Confusion Matrix:\n",
      "\n",
      "[[116  13]\n",
      " [ 13  59]]\n",
      "\n",
      "\n",
      "Classification Report:\n",
      "\n",
      "              precision    recall  f1-score   support\n",
      "\n",
      "     Class 0       0.90      0.90      0.90       129\n",
      "     Class 1       0.82      0.82      0.82        72\n",
      "\n",
      "    accuracy                           0.87       201\n",
      "   macro avg       0.86      0.86      0.86       201\n",
      "weighted avg       0.87      0.87      0.87       201\n",
      "\n",
      "\n",
      "ROC-AUC Curve:\n"
     ]
    },
    {
     "data": {
      "image/png": "[encoded data removed]",
      "text/plain": [
       "<Figure size 432x288 with 1 Axes>"
      ]
     },
     "metadata": {
      "needs_background": "light"
     },
     "output_type": "display_data"
    }
   ],
   "source": [
    "rfe_features_ = list(rfe_features[:30]) \n",
    "\n",
    "evaluate_feature_set(rfe_features_,log_reg_test,X_train,y_train,X_test,y_test)"
   ]
  },
  {
   "cell_type": "markdown",
   "id": "85ca6adb",
   "metadata": {},
   "source": [
    "### Lasso Regularization"
   ]
  },
  {
   "cell_type": "code",
   "execution_count": 81,
   "id": "a447d9a8",
   "metadata": {
    "scrolled": false
   },
   "outputs": [],
   "source": [
    "# Uses lasso regularization to give more weights to more important features\n",
    "\n",
    "def log_reg_lasso_select(X_train,y_train,solver='saga'):\n",
    "    l1_reg_model = LogisticRegression(penalty='l1', solver=solver)\n",
    "    l1_reg_model.fit(X_train, y_train)\n",
    "\n",
    "    # Get feature importance coefficients from the model\n",
    "    feature_importance = l1_reg_model.coef_[0]\n",
    "\n",
    "    feature_importance_pairs = [(feature, importance) for feature, importance in zip(X.columns, feature_importance)]\n",
    "    feature_importance_pairs.sort(key=lambda x: abs(x[1]), reverse=True)\n",
    "\n",
    "    l1_sorted_features = [feature for feature, _ in feature_importance_pairs]\n",
    "\n",
    "    return l1_sorted_features"
   ]
  },
  {
   "cell_type": "code",
   "execution_count": 82,
   "id": "84ff3007",
   "metadata": {},
   "outputs": [
    {
     "data": {
      "text/plain": [
       "['Fasting Glucose [mmol/L]',\n",
       " 'Glycohemoglobin [%]',\n",
       " 'Osmolality [mmol/Kg]',\n",
       " 'Cis-beta-carotene [umol/L]',\n",
       " 'Gender',\n",
       " 'Sodium [mmol/L]',\n",
       " 'Retinyl palmitate [umol/L]',\n",
       " 'Chloride [mmol/L]',\n",
       " 'Transferrin Saturation [%]',\n",
       " 'BMI',\n",
       " 'Basophils [%]',\n",
       " 'Potassium [mmol/L]',\n",
       " 'Trans-beta-carotene [umol/L]',\n",
       " 'Uric Acid [mg/dL]',\n",
       " 'Aspartate Aminotransferase [U/L]',\n",
       " 'Insulin [pmol/L]',\n",
       " 'A/G Ratio',\n",
       " 'Lactate Dehydrogenase [IU/L]',\n",
       " 'LDL-Cholesterol(NIH2) [mmol/L]',\n",
       " 'Total Protein [g/dL]',\n",
       " 'Bicarbonate [mmol/L]',\n",
       " 'Creatine Phosphokinase [IU/L]',\n",
       " 'Retinol [umol/L]',\n",
       " 'Blood cadmium [nmol/L]',\n",
       " 'C-Reactive Protein [mg/L]',\n",
       " 'Transferrin receptor [nmol/L]',\n",
       " 'Non_HDL Ratio',\n",
       " 'Total Cholestrol_HDL Ratio',\n",
       " 'Direct HDL-Cholesterol [mmol/L]',\n",
       " 'Platelet count [1000 cells/uL]']"
      ]
     },
     "execution_count": 82,
     "metadata": {},
     "output_type": "execute_result"
    }
   ],
   "source": [
    "l1_selected_features = log_reg_lasso_select(X_train,y_train)\n",
    "l1_selected_features[:30]"
   ]
  },
  {
   "cell_type": "code",
   "execution_count": 83,
   "id": "84a26711",
   "metadata": {},
   "outputs": [
    {
     "name": "stdout",
     "output_type": "stream",
     "text": [
      "\n",
      "Train Accuracy: 0.902\n",
      "\n",
      "Test Accuracy: 0.871\n",
      "\n",
      "Precision: 0.829\n",
      "\n",
      "Recall: 0.806\n",
      "\n",
      "F1-Score: 0.817\n",
      "\n",
      "Confusion Matrix:\n",
      "\n",
      "[[117  12]\n",
      " [ 14  58]]\n",
      "\n",
      "\n",
      "Classification Report:\n",
      "\n",
      "              precision    recall  f1-score   support\n",
      "\n",
      "     Class 0       0.89      0.91      0.90       129\n",
      "     Class 1       0.83      0.81      0.82        72\n",
      "\n",
      "    accuracy                           0.87       201\n",
      "   macro avg       0.86      0.86      0.86       201\n",
      "weighted avg       0.87      0.87      0.87       201\n",
      "\n",
      "\n",
      "ROC-AUC Curve:\n"
     ]
    },
    {
     "data": {
      "image/png": "[encoded data removed]",
      "text/plain": [
       "<Figure size 432x288 with 1 Axes>"
      ]
     },
     "metadata": {
      "needs_background": "light"
     },
     "output_type": "display_data"
    }
   ],
   "source": [
    "l1_selected_features_ = list(l1_selected_features[:30])\n",
    "\n",
    "evaluate_feature_set(l1_selected_features_,log_reg_test,X_train,y_train,X_test,y_test)"
   ]
  },
  {
   "cell_type": "markdown",
   "id": "94afa00a",
   "metadata": {},
   "source": [
    "### Relief F"
   ]
  },
  {
   "cell_type": "code",
   "execution_count": 84,
   "id": "a5335206",
   "metadata": {},
   "outputs": [],
   "source": [
    "# It focuses on selecting features that are relevant to the target class\n",
    "\n",
    "def relief_feature_select(n,X,y,n_jobs=-1):\n",
    "    \n",
    "    fs = ReliefF(n_features_to_select=n, n_jobs=n_jobs)\n",
    "    fs.fit(X.values, y.values)\n",
    "\n",
    "    feature_importances = fs.feature_importances_\n",
    "    \n",
    "    feature_names = X.columns\n",
    "    feature_importance_tuples = list(zip(feature_names, feature_importances))\n",
    "    sorted_features = sorted(feature_importance_tuples, key=lambda x: x[1], reverse=True)\n",
    "    sorted_feature_names = [feature[0] for feature in sorted_features]\n",
    "    relieff_features = sorted_feature_names\n",
    "    \n",
    "    return relieff_features"
   ]
  },
  {
   "cell_type": "code",
   "execution_count": 85,
   "id": "740823de",
   "metadata": {},
   "outputs": [],
   "source": [
    "relieff_features = relief_feature_select(30,X,y)"
   ]
  },
  {
   "cell_type": "code",
   "execution_count": 86,
   "id": "9175074f",
   "metadata": {
    "scrolled": false
   },
   "outputs": [
    {
     "data": {
      "text/plain": [
       "['Glycohemoglobin [%]',\n",
       " 'Fasting Glucose [mmol/L]',\n",
       " 'Total Cholesterol [mmol/L]',\n",
       " 'LDL-Cholesterol(NIH2) [mmol/L]',\n",
       " 'Triglyceride_HDL Ratio',\n",
       " 'BMI',\n",
       " 'Blood Urea Nitrogen [mg/dL]',\n",
       " 'Nucleated RBCs',\n",
       " 'Non_HDL Ratio',\n",
       " 'Triglyceride [mmol/L]',\n",
       " 'Age',\n",
       " 'Osmolality [mmol/Kg]',\n",
       " 'Insulin [pmol/L]',\n",
       " 'Direct HDL-Cholesterol [mmol/L]',\n",
       " 'Hemoglobin [g/dL]',\n",
       " 'Hematocrit [%]',\n",
       " 'RBC count [million cells/uL]',\n",
       " 'Retinol [umol/L]',\n",
       " 'Chloride [mmol/L]',\n",
       " 'LDL_HDL Ratio',\n",
       " 'Alanine Aminotransferase [U/L]',\n",
       " 'Total Cholestrol_HDL Ratio',\n",
       " 'UIBC [umol/L]',\n",
       " 'Gender',\n",
       " 'Alpha-tocopherol [umol/L]',\n",
       " 'Uric Acid [mg/dL]',\n",
       " 'Total Calcium [mg/dL]',\n",
       " '25-hydroxyvitamin D2 + D3 [nmol/L]',\n",
       " 'Aspartate Aminotransferase [U/L]',\n",
       " 'Ferritin [ng/mL]']"
      ]
     },
     "execution_count": 86,
     "metadata": {},
     "output_type": "execute_result"
    }
   ],
   "source": [
    "relieff_features_ = relieff_features[:30]\n",
    "relieff_features_"
   ]
  },
  {
   "cell_type": "code",
   "execution_count": 87,
   "id": "ea6b85e9",
   "metadata": {},
   "outputs": [
    {
     "name": "stdout",
     "output_type": "stream",
     "text": [
      "\n",
      "Train Accuracy: 0.892\n",
      "\n",
      "Test Accuracy: 0.836\n",
      "\n",
      "Precision: 0.775\n",
      "\n",
      "Recall: 0.764\n",
      "\n",
      "F1-Score: 0.769\n",
      "\n",
      "Confusion Matrix:\n",
      "\n",
      "[[113  16]\n",
      " [ 17  55]]\n",
      "\n",
      "\n",
      "Classification Report:\n",
      "\n",
      "              precision    recall  f1-score   support\n",
      "\n",
      "     Class 0       0.87      0.88      0.87       129\n",
      "     Class 1       0.77      0.76      0.77        72\n",
      "\n",
      "    accuracy                           0.84       201\n",
      "   macro avg       0.82      0.82      0.82       201\n",
      "weighted avg       0.84      0.84      0.84       201\n",
      "\n",
      "\n",
      "ROC-AUC Curve:\n"
     ]
    },
    {
     "data": {
      "image/png": "[encoded data removed]",
      "text/plain": [
       "<Figure size 432x288 with 1 Axes>"
      ]
     },
     "metadata": {
      "needs_background": "light"
     },
     "output_type": "display_data"
    }
   ],
   "source": [
    "evaluate_feature_set(relieff_features_,log_reg_test,X_train,y_train,X_test,y_test)"
   ]
  },
  {
   "cell_type": "markdown",
   "id": "ef7c568b",
   "metadata": {},
   "source": [
    "### Ensemble of Feature Sets"
   ]
  },
  {
   "cell_type": "code",
   "execution_count": 88,
   "id": "d142ff4e",
   "metadata": {},
   "outputs": [
    {
     "data": {
      "text/plain": [
       "['Gender',\n",
       " 'Glycohemoglobin [%]',\n",
       " 'Fasting Glucose [mmol/L]',\n",
       " 'Age',\n",
       " 'BMI',\n",
       " 'Blood Urea Nitrogen [mg/dL]',\n",
       " 'Insulin [pmol/L]',\n",
       " 'Osmolality [mmol/Kg]',\n",
       " 'Retinol [umol/L]',\n",
       " 'Triglyceride [mmol/L]',\n",
       " 'A/G Ratio',\n",
       " 'Chloride [mmol/L]',\n",
       " 'Direct HDL-Cholesterol [mmol/L]',\n",
       " 'LDL-Cholesterol(NIH2) [mmol/L]',\n",
       " 'Triglyceride_HDL Ratio',\n",
       " 'Non_HDL Ratio',\n",
       " 'Basophils [%]',\n",
       " 'Cis-beta-carotene [umol/L]',\n",
       " 'Potassium [mmol/L]',\n",
       " 'RBC count [million cells/uL]',\n",
       " 'Retinyl palmitate [umol/L]',\n",
       " 'Sodium [mmol/L]',\n",
       " 'Total Cholestrol_HDL Ratio',\n",
       " 'Trans-beta-carotene [umol/L]',\n",
       " 'Hemoglobin [g/dL]',\n",
       " 'Transferrin Saturation [%]',\n",
       " 'Uric Acid [mg/dL]']"
      ]
     },
     "execution_count": 88,
     "metadata": {},
     "output_type": "execute_result"
    }
   ],
   "source": [
    "# We can also create a feature set from the above sets by selecting commonly occuring features\n",
    "\n",
    "list1 = list(corr_features)\n",
    "list2 = list(k_best_features_)\n",
    "list3 = list(sfm_features)\n",
    "list4 = list(rfe_features_)\n",
    "list5 = list(l1_selected_features_)\n",
    "list6 = list(relieff_features_)\n",
    "\n",
    "combined_list = list1 + list2 + list3 + list4 + list5 + list6\n",
    "feature_counts = Counter(combined_list)\n",
    "min_count = 3\n",
    "\n",
    "combined_features = [feature for feature, count in feature_counts.items() if count >= min_count]\n",
    "combined_features"
   ]
  },
  {
   "cell_type": "code",
   "execution_count": 89,
   "id": "97710922",
   "metadata": {},
   "outputs": [
    {
     "name": "stdout",
     "output_type": "stream",
     "text": [
      "\n",
      "Train Accuracy: 0.893\n",
      "\n",
      "Test Accuracy: 0.856\n",
      "\n",
      "Precision: 0.821\n",
      "\n",
      "Recall: 0.764\n",
      "\n",
      "F1-Score: 0.791\n",
      "\n",
      "Confusion Matrix:\n",
      "\n",
      "[[117  12]\n",
      " [ 17  55]]\n",
      "\n",
      "\n",
      "Classification Report:\n",
      "\n",
      "              precision    recall  f1-score   support\n",
      "\n",
      "     Class 0       0.87      0.91      0.89       129\n",
      "     Class 1       0.82      0.76      0.79        72\n",
      "\n",
      "    accuracy                           0.86       201\n",
      "   macro avg       0.85      0.84      0.84       201\n",
      "weighted avg       0.85      0.86      0.85       201\n",
      "\n",
      "\n",
      "ROC-AUC Curve:\n"
     ]
    },
    {
     "data": {
      "image/png": "[encoded data removed]",
      "text/plain": [
       "<Figure size 432x288 with 1 Axes>"
      ]
     },
     "metadata": {
      "needs_background": "light"
     },
     "output_type": "display_data"
    }
   ],
   "source": [
    "evaluate_feature_set(combined_features,log_reg_test,X_train,y_train,X_test,y_test)"
   ]
  },
  {
   "cell_type": "code",
   "execution_count": 94,
   "id": "25b78c65",
   "metadata": {},
   "outputs": [],
   "source": [
    "# Now let us find out the optimal number of features to use for training\n",
    "# By evaluating the model on increasing number of features, we can obtain the optimal number of features\n",
    "\n",
    "def plot_num_feature_performance(model, X_train, X_test, y_train, y_test, feature_set,\n",
    "                                 cv=10, scoring='accuracy', verbose=False):\n",
    "    \n",
    "    X_train = X_train[feature_set]\n",
    "    X_test = X_test[feature_set]\n",
    "            \n",
    "    num_features = []\n",
    "    accuracies = []\n",
    "    num_features_vs_accuracy = {}\n",
    "\n",
    "    num_features_list = []\n",
    "    accuracy_list = []\n",
    "\n",
    "    # Evaluating the model for each set of number of features\n",
    "    for num_features in range(5, X_train.shape[1] + 1):\n",
    "\n",
    "        X_train_subset = X_train.iloc[:, :num_features]\n",
    "        X_test_subset = X_test.iloc[:, :num_features]\n",
    "\n",
    "        clf = LogisticRegression()\n",
    "        clf.fit(X_train_subset, y_train)\n",
    "\n",
    "        y_pred = clf.predict(X_test_subset)\n",
    "    \n",
    "        if scoring == 'accuracy':\n",
    "            score = accuracy_score(y_test, y_pred)\n",
    "        elif scoring == 'precision':\n",
    "            score = precision_score(y_test, y_pred)\n",
    "        elif scoring == 'recall':\n",
    "            score = recall_score(y_test, y_pred)\n",
    "        elif scoring == 'f1':\n",
    "            score = f1_score(y_test, y_pred)\n",
    "        elif scoring == 'auc':\n",
    "            fpr, tpr, thresholds = roc_curve(y_test, y_pred)\n",
    "            score = auc(fpr, tpr)\n",
    "\n",
    "        num_features_list.append(num_features)\n",
    "        accuracy_list.append(score)\n",
    "        \n",
    "        if verbose == True:\n",
    "            print(num_features, ':', score)\n",
    "        num_features_vs_accuracy[num_features] = score\n",
    "    \n",
    "    max_score = max(num_features_vs_accuracy.values())\n",
    "    max_score_num_feature = [i for i in num_features_vs_accuracy if num_features_vs_accuracy[i]==max_score]\n",
    "    print(f'\\nMaximum {scoring} = {max_score} for {max_score_num_feature[0]} features')\n",
    "\n",
    "    plt.figure(figsize=(10,7))\n",
    "    plt.plot(num_features_list, accuracy_list, marker='o', color='red', linestyle='-')\n",
    "    plt.title('Model Performance vs. Number of Features')\n",
    "    plt.xlabel('Number of Features')\n",
    "    plt.ylabel('Accuracy')\n",
    "    plt.show()"
   ]
  },
  {
   "cell_type": "code",
   "execution_count": 95,
   "id": "3c7ec54f",
   "metadata": {
    "scrolled": false
   },
   "outputs": [
    {
     "name": "stdout",
     "output_type": "stream",
     "text": [
      "\n",
      "Maximum accuracy = 0.8905472636815921 for 79 features\n"
     ]
    },
    {
     "data": {
      "image/png": "[encoded data removed]",
      "text/plain": [
       "<Figure size 720x504 with 1 Axes>"
      ]
     },
     "metadata": {
      "needs_background": "light"
     },
     "output_type": "display_data"
    }
   ],
   "source": [
    "final_features = list(l1_selected_features) \n",
    "\n",
    "plot_num_feature_performance(log_reg, X_train, X_test, y_train, y_test, final_features)"
   ]
  },
  {
   "cell_type": "code",
   "execution_count": 108,
   "id": "a112e122",
   "metadata": {},
   "outputs": [
    {
     "name": "stdout",
     "output_type": "stream",
     "text": [
      "\n",
      "Train Accuracy: 0.911\n",
      "\n",
      "Test Accuracy: 0.891\n",
      "\n",
      "Precision: 0.879\n",
      "\n",
      "Recall: 0.806\n",
      "\n",
      "F1-Score: 0.841\n",
      "\n",
      "Confusion Matrix:\n",
      "\n",
      "[[121   8]\n",
      " [ 14  58]]\n",
      "\n",
      "\n",
      "Classification Report:\n",
      "\n",
      "              precision    recall  f1-score   support\n",
      "\n",
      "     Class 0       0.90      0.94      0.92       129\n",
      "     Class 1       0.88      0.81      0.84        72\n",
      "\n",
      "    accuracy                           0.89       201\n",
      "   macro avg       0.89      0.87      0.88       201\n",
      "weighted avg       0.89      0.89      0.89       201\n",
      "\n",
      "\n",
      "ROC-AUC Curve:\n"
     ]
    },
    {
     "data": {
      "image/png": "[encoded data removed]",
      "text/plain": [
       "<Figure size 432x288 with 1 Axes>"
      ]
     },
     "metadata": {
      "needs_background": "light"
     },
     "output_type": "display_data"
    }
   ],
   "source": [
    "selected = l1_selected_features[:79]\n",
    "\n",
    "X_train = X_train[selected]\n",
    "X_test = X_test[selected]\n",
    "\n",
    "log_reg.fit(X_train, y_train)\n",
    "\n",
    "evaluate_model_metrics(log_reg, X_train, y_train, X_test, y_test)"
   ]
  },
  {
   "cell_type": "code",
   "execution_count": 112,
   "id": "dd54106a",
   "metadata": {},
   "outputs": [
    {
     "data": {
      "text/plain": [
       "{'penalty': 'l2',\n",
       " 'C': 1.3285893952553847,\n",
       " 'solver': 'newton-cg',\n",
       " 'max_iter': 100,\n",
       " 'class_weight': None,\n",
       " 'warm_start': False,\n",
       " 'fit_intercept': False}"
      ]
     },
     "execution_count": 112,
     "metadata": {},
     "output_type": "execute_result"
    }
   ],
   "source": [
    "# Performing hyperparameter optimisation on the new dataset and model (using Optuna)\n",
    "\n",
    "best_trial, log_reg_opt = optuna_optimize()\n",
    "\n",
    "best_trial"
   ]
  },
  {
   "cell_type": "code",
   "execution_count": 113,
   "id": "0cc9722b",
   "metadata": {},
   "outputs": [
    {
     "name": "stdout",
     "output_type": "stream",
     "text": [
      "\n",
      "Train Accuracy: 0.908\n",
      "\n",
      "Test Accuracy: 0.886\n",
      "\n",
      "Precision: 0.877\n",
      "\n",
      "Recall: 0.792\n",
      "\n",
      "F1-Score: 0.832\n",
      "\n",
      "Confusion Matrix:\n",
      "\n",
      "[[121   8]\n",
      " [ 15  57]]\n",
      "\n",
      "\n",
      "Classification Report:\n",
      "\n",
      "              precision    recall  f1-score   support\n",
      "\n",
      "     Class 0       0.89      0.94      0.91       129\n",
      "     Class 1       0.88      0.79      0.83        72\n",
      "\n",
      "    accuracy                           0.89       201\n",
      "   macro avg       0.88      0.86      0.87       201\n",
      "weighted avg       0.89      0.89      0.88       201\n",
      "\n",
      "\n",
      "ROC-AUC Curve:\n"
     ]
    },
    {
     "data": {
      "image/png": "[encoded data removed]",
      "text/plain": [
       "<Figure size 432x288 with 1 Axes>"
      ]
     },
     "metadata": {
      "needs_background": "light"
     },
     "output_type": "display_data"
    }
   ],
   "source": [
    "log_reg_opt.fit(X_train, y_train)\n",
    "\n",
    "evaluate_model_metrics(log_reg_opt,X_train,y_train,X_test,y_test)"
   ]
  },
  {
   "cell_type": "code",
   "execution_count": 114,
   "id": "a43eab5f",
   "metadata": {},
   "outputs": [
    {
     "name": "stdout",
     "output_type": "stream",
     "text": [
      "\n",
      "accuracy scores: [0.89108911 0.91       0.9        0.84       0.9        0.84\n",
      " 0.83       0.9        0.87       0.83      ]\n",
      "\n",
      "Mean accuracy score:  0.871108910891089\n",
      "\n",
      "Standard deviation:  0.031196880743131487\n"
     ]
    }
   ],
   "source": [
    "# Now to evaluate further, we use cross-validation\n",
    "\n",
    "k_cross_validate(log_reg,X,y,cv=10,scoring='accuracy')"
   ]
  },
  {
   "cell_type": "code",
   "execution_count": 115,
   "id": "ea84d8b9",
   "metadata": {},
   "outputs": [
    {
     "name": "stdout",
     "output_type": "stream",
     "text": [
      "\n",
      "accuracy scores: [0.88118812 0.9        0.9        0.84       0.9        0.86\n",
      " 0.86       0.9        0.88       0.83      ]\n",
      "\n",
      "Mean accuracy score:  0.875118811881188\n",
      "\n",
      "Standard deviation:  0.02502628948086163\n"
     ]
    }
   ],
   "source": [
    "k_cross_validate(log_reg_opt,X,y,cv=10,scoring='accuracy')"
   ]
  },
  {
   "cell_type": "code",
   "execution_count": 116,
   "id": "c16a4f0e",
   "metadata": {},
   "outputs": [
    {
     "name": "stdout",
     "output_type": "stream",
     "text": [
      "\n",
      "Average Accuracy: 0.8631188118811881\n",
      "\n",
      "Average Precision: 0.8405883356927001\n",
      "\n",
      "Average Recall: 0.7327094474153298\n",
      "\n",
      "Average F1-Score: 0.7801751773046552\n"
     ]
    }
   ],
   "source": [
    "stratified_k_cross_validate(log_reg,X,y,n_splits=10,random_state=42)"
   ]
  },
  {
   "cell_type": "code",
   "execution_count": 117,
   "id": "6f20c27a",
   "metadata": {
    "scrolled": true
   },
   "outputs": [
    {
     "name": "stdout",
     "output_type": "stream",
     "text": [
      "\n",
      "Average Accuracy: 0.8681089108910891\n",
      "\n",
      "Average Precision: 0.8413031899454314\n",
      "\n",
      "Average Recall: 0.7507130124777184\n",
      "\n",
      "Average F1-Score: 0.7902841307923418\n"
     ]
    }
   ],
   "source": [
    "stratified_k_cross_validate(log_reg_opt,X,y,n_splits=10,random_state=42)\n",
    "\n",
    "# We observe that our model is consistent"
   ]
  },
  {
   "cell_type": "code",
   "execution_count": 118,
   "id": "b1d4f073",
   "metadata": {},
   "outputs": [],
   "source": [
    "final_log_reg_estimator = log_reg_opt"
   ]
  }
 ],
 "metadata": {
  "kernelspec": {
   "display_name": "Python 3 (ipykernel)",
   "language": "python",
   "name": "python3"
  },
  "language_info": {
   "codemirror_mode": {
    "name": "ipython",
    "version": 3
   },
   "file_extension": ".py",
   "mimetype": "text/x-python",
   "name": "python",
   "nbconvert_exporter": "python",
   "pygments_lexer": "ipython3",
   "version": "3.10.12"
  }
 },
 "nbformat": 4,
 "nbformat_minor": 5
}
