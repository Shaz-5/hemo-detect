{
 "cells": [
  {
   "cell_type": "code",
   "execution_count": 1,
   "id": "eb20459f",
   "metadata": {},
   "outputs": [],
   "source": [
    "import pandas as pd"
   ]
  },
  {
   "cell_type": "code",
   "execution_count": 2,
   "id": "192ca210",
   "metadata": {},
   "outputs": [
    {
     "data": {
      "text/html": [
       "<div>\n",
       "<style scoped>\n",
       "    .dataframe tbody tr th:only-of-type {\n",
       "        vertical-align: middle;\n",
       "    }\n",
       "\n",
       "    .dataframe tbody tr th {\n",
       "        vertical-align: top;\n",
       "    }\n",
       "\n",
       "    .dataframe thead th {\n",
       "        text-align: right;\n",
       "    }\n",
       "</style>\n",
       "<table border=\"1\" class=\"dataframe\">\n",
       "  <thead>\n",
       "    <tr style=\"text-align: right;\">\n",
       "      <th></th>\n",
       "      <th>Respondent ID</th>\n",
       "      <th>Gender</th>\n",
       "      <th>Age</th>\n",
       "      <th>BMI</th>\n",
       "      <th>25-hydroxyvitamin D2 + D3 [nmol/L]</th>\n",
       "      <th>Fasting Glucose [mmol/L]</th>\n",
       "      <th>Insulin [pmol/L]</th>\n",
       "      <th>Triglyceride [mmol/L]</th>\n",
       "      <th>LDL-Cholesterol(NIH2) [mmol/L]</th>\n",
       "      <th>Vitamin C [umol/L]</th>\n",
       "      <th>...</th>\n",
       "      <th>Jaundice</th>\n",
       "      <th>Cancer</th>\n",
       "      <th>Cancer_Type</th>\n",
       "      <th>Anemia</th>\n",
       "      <th>Heart_Attack</th>\n",
       "      <th>Weak/Failing kidneys</th>\n",
       "      <th>Gestational diabetes</th>\n",
       "      <th>Diabetes</th>\n",
       "      <th>Hepatitis A antibody</th>\n",
       "      <th>Hepatitis B core antibody</th>\n",
       "    </tr>\n",
       "  </thead>\n",
       "  <tbody>\n",
       "    <tr>\n",
       "      <th>0</th>\n",
       "      <td>93703.0</td>\n",
       "      <td>0.0</td>\n",
       "      <td>2.0</td>\n",
       "      <td>17.5</td>\n",
       "      <td>66.912952</td>\n",
       "      <td>6.212328</td>\n",
       "      <td>85.453019</td>\n",
       "      <td>1.219948</td>\n",
       "      <td>2.820133</td>\n",
       "      <td>54.172769</td>\n",
       "      <td>...</td>\n",
       "      <td>NaN</td>\n",
       "      <td>NaN</td>\n",
       "      <td>NaN</td>\n",
       "      <td>2.0</td>\n",
       "      <td>NaN</td>\n",
       "      <td>NaN</td>\n",
       "      <td>NaN</td>\n",
       "      <td>2.0</td>\n",
       "      <td>NaN</td>\n",
       "      <td>NaN</td>\n",
       "    </tr>\n",
       "    <tr>\n",
       "      <th>1</th>\n",
       "      <td>93704.0</td>\n",
       "      <td>1.0</td>\n",
       "      <td>2.0</td>\n",
       "      <td>15.7</td>\n",
       "      <td>74.400000</td>\n",
       "      <td>6.212328</td>\n",
       "      <td>85.453019</td>\n",
       "      <td>1.219948</td>\n",
       "      <td>2.820133</td>\n",
       "      <td>54.172769</td>\n",
       "      <td>...</td>\n",
       "      <td>NaN</td>\n",
       "      <td>NaN</td>\n",
       "      <td>NaN</td>\n",
       "      <td>1.0</td>\n",
       "      <td>NaN</td>\n",
       "      <td>NaN</td>\n",
       "      <td>NaN</td>\n",
       "      <td>2.0</td>\n",
       "      <td>1.0</td>\n",
       "      <td>NaN</td>\n",
       "    </tr>\n",
       "    <tr>\n",
       "      <th>2</th>\n",
       "      <td>93705.0</td>\n",
       "      <td>0.0</td>\n",
       "      <td>66.0</td>\n",
       "      <td>31.7</td>\n",
       "      <td>89.900000</td>\n",
       "      <td>6.212328</td>\n",
       "      <td>85.453019</td>\n",
       "      <td>1.219948</td>\n",
       "      <td>2.820133</td>\n",
       "      <td>73.800000</td>\n",
       "      <td>...</td>\n",
       "      <td>2.0</td>\n",
       "      <td>2.0</td>\n",
       "      <td>NaN</td>\n",
       "      <td>2.0</td>\n",
       "      <td>2.0</td>\n",
       "      <td>2.0</td>\n",
       "      <td>2.0</td>\n",
       "      <td>2.0</td>\n",
       "      <td>1.0</td>\n",
       "      <td>1.0</td>\n",
       "    </tr>\n",
       "    <tr>\n",
       "      <th>3</th>\n",
       "      <td>93706.0</td>\n",
       "      <td>1.0</td>\n",
       "      <td>18.0</td>\n",
       "      <td>21.5</td>\n",
       "      <td>53.800000</td>\n",
       "      <td>6.212328</td>\n",
       "      <td>85.453019</td>\n",
       "      <td>1.219948</td>\n",
       "      <td>2.820133</td>\n",
       "      <td>63.600000</td>\n",
       "      <td>...</td>\n",
       "      <td>2.0</td>\n",
       "      <td>NaN</td>\n",
       "      <td>NaN</td>\n",
       "      <td>2.0</td>\n",
       "      <td>NaN</td>\n",
       "      <td>NaN</td>\n",
       "      <td>NaN</td>\n",
       "      <td>2.0</td>\n",
       "      <td>2.0</td>\n",
       "      <td>2.0</td>\n",
       "    </tr>\n",
       "    <tr>\n",
       "      <th>4</th>\n",
       "      <td>93707.0</td>\n",
       "      <td>1.0</td>\n",
       "      <td>13.0</td>\n",
       "      <td>18.1</td>\n",
       "      <td>58.200000</td>\n",
       "      <td>6.212328</td>\n",
       "      <td>85.453019</td>\n",
       "      <td>1.219948</td>\n",
       "      <td>2.820133</td>\n",
       "      <td>27.400000</td>\n",
       "      <td>...</td>\n",
       "      <td>2.0</td>\n",
       "      <td>NaN</td>\n",
       "      <td>NaN</td>\n",
       "      <td>2.0</td>\n",
       "      <td>NaN</td>\n",
       "      <td>NaN</td>\n",
       "      <td>NaN</td>\n",
       "      <td>2.0</td>\n",
       "      <td>2.0</td>\n",
       "      <td>2.0</td>\n",
       "    </tr>\n",
       "  </tbody>\n",
       "</table>\n",
       "<p>5 rows × 97 columns</p>\n",
       "</div>"
      ],
      "text/plain": [
       "   Respondent ID  Gender   Age   BMI  25-hydroxyvitamin D2 + D3 [nmol/L]  \\\n",
       "0        93703.0     0.0   2.0  17.5                           66.912952   \n",
       "1        93704.0     1.0   2.0  15.7                           74.400000   \n",
       "2        93705.0     0.0  66.0  31.7                           89.900000   \n",
       "3        93706.0     1.0  18.0  21.5                           53.800000   \n",
       "4        93707.0     1.0  13.0  18.1                           58.200000   \n",
       "\n",
       "   Fasting Glucose [mmol/L]  Insulin [pmol/L]  Triglyceride [mmol/L]  \\\n",
       "0                  6.212328         85.453019               1.219948   \n",
       "1                  6.212328         85.453019               1.219948   \n",
       "2                  6.212328         85.453019               1.219948   \n",
       "3                  6.212328         85.453019               1.219948   \n",
       "4                  6.212328         85.453019               1.219948   \n",
       "\n",
       "   LDL-Cholesterol(NIH2) [mmol/L]  Vitamin C [umol/L]  ...  Jaundice  Cancer  \\\n",
       "0                        2.820133           54.172769  ...       NaN     NaN   \n",
       "1                        2.820133           54.172769  ...       NaN     NaN   \n",
       "2                        2.820133           73.800000  ...       2.0     2.0   \n",
       "3                        2.820133           63.600000  ...       2.0     NaN   \n",
       "4                        2.820133           27.400000  ...       2.0     NaN   \n",
       "\n",
       "   Cancer_Type  Anemia  Heart_Attack  Weak/Failing kidneys  \\\n",
       "0          NaN     2.0           NaN                   NaN   \n",
       "1          NaN     1.0           NaN                   NaN   \n",
       "2          NaN     2.0           2.0                   2.0   \n",
       "3          NaN     2.0           NaN                   NaN   \n",
       "4          NaN     2.0           NaN                   NaN   \n",
       "\n",
       "   Gestational diabetes  Diabetes  Hepatitis A antibody  \\\n",
       "0                   NaN       2.0                   NaN   \n",
       "1                   NaN       2.0                   1.0   \n",
       "2                   2.0       2.0                   1.0   \n",
       "3                   NaN       2.0                   2.0   \n",
       "4                   NaN       2.0                   2.0   \n",
       "\n",
       "   Hepatitis B core antibody  \n",
       "0                        NaN  \n",
       "1                        NaN  \n",
       "2                        1.0  \n",
       "3                        2.0  \n",
       "4                        2.0  \n",
       "\n",
       "[5 rows x 97 columns]"
      ]
     },
     "execution_count": 2,
     "metadata": {},
     "output_type": "execute_result"
    }
   ],
   "source": [
    "final_df = pd.read_csv('../Dataset/final_df.csv')\n",
    "final_df.head()"
   ]
  },
  {
   "cell_type": "markdown",
   "id": "5afb8678",
   "metadata": {},
   "source": [
    "# Feature Engineering"
   ]
  },
  {
   "cell_type": "raw",
   "id": "543e1f82",
   "metadata": {},
   "source": [
    "Feature engineering is the art of transforming raw data into meaningful and informative features that empower machine learning algorithms to perform better. It's an iterative process that draws from domain knowledge and statistical insights to extract the most relevant information from your dataset, ultimately enhancing model accuracy and predictive power."
   ]
  },
  {
   "cell_type": "markdown",
   "id": "6f12fb2c",
   "metadata": {},
   "source": [
    "## A/G Ratio"
   ]
  },
  {
   "cell_type": "code",
   "execution_count": 3,
   "id": "5ad8d165",
   "metadata": {},
   "outputs": [
    {
     "data": {
      "text/plain": [
       "0       1.321159\n",
       "1       1.321159\n",
       "2       1.517241\n",
       "3       1.629630\n",
       "4       1.857143\n",
       "          ...   \n",
       "9249    1.846154\n",
       "9250    1.142857\n",
       "9251    1.500000\n",
       "9252    1.205882\n",
       "9253    1.482759\n",
       "Name: A/G Ratio, Length: 9254, dtype: float64"
      ]
     },
     "execution_count": 3,
     "metadata": {},
     "output_type": "execute_result"
    }
   ],
   "source": [
    "# We can do some feature engineering by creating new features from existing ones\n",
    "\n",
    "# One such feature is the Albumin Globulin (A/G) Ratio\n",
    "# A/G Ratio = Albumin in g/dL / (Total Protein in g/dL – Albumin in g/dL)\n",
    "# Total Protein in g/dL – Albumin in g/dL = Globulin in g/dL\n",
    "# This ratio is a measure of liver and kidney function\n",
    "\n",
    "final_df['A/G Ratio'] = final_df['Albumin [g/dL]']/final_df['Globulin [g/dL]']\n",
    "final_df['A/G Ratio']"
   ]
  },
  {
   "cell_type": "code",
   "execution_count": 4,
   "id": "916358ec",
   "metadata": {},
   "outputs": [
    {
     "data": {
      "text/plain": [
       "count    9254.000000\n",
       "mean        1.340888\n",
       "std         0.199075\n",
       "min         0.403846\n",
       "25%         1.275862\n",
       "50%         1.321159\n",
       "75%         1.407407\n",
       "max         2.571429\n",
       "Name: A/G Ratio, dtype: float64"
      ]
     },
     "execution_count": 4,
     "metadata": {},
     "output_type": "execute_result"
    }
   ],
   "source": [
    "final_df['A/G Ratio'].describe()"
   ]
  },
  {
   "cell_type": "markdown",
   "id": "ffef22f3",
   "metadata": {},
   "source": [
    "## Cholestrol Ratios"
   ]
  },
  {
   "cell_type": "markdown",
   "id": "d727a4dd",
   "metadata": {},
   "source": [
    "### Non-HDL Ratio"
   ]
  },
  {
   "cell_type": "code",
   "execution_count": 5,
   "id": "3cc8b6ae",
   "metadata": {},
   "outputs": [
    {
     "data": {
      "text/plain": [
       "0       126.497004\n",
       "1       126.497004\n",
       "2        97.061098\n",
       "3       100.928074\n",
       "4       121.036350\n",
       "           ...    \n",
       "9249     59.164733\n",
       "9250    133.023975\n",
       "9251    117.942769\n",
       "9252    116.009281\n",
       "9253    129.156999\n",
       "Name: Non_HDL Ratio, Length: 9254, dtype: float64"
      ]
     },
     "execution_count": 5,
     "metadata": {},
     "output_type": "execute_result"
    }
   ],
   "source": [
    "# Cholesterol ratios can help calculate a person’s risk of stroke and heart attack due to cholesterol.\n",
    "\n",
    "# Non-HDL cholesterol level may be a better risk predictor than your total cholesterol level or even your LDL\n",
    "# We calculate the ratio after converting mmol/L to mg/dL\n",
    "\n",
    "final_df['Non_HDL Ratio'] = (final_df['Total Cholesterol [mmol/L]']/0.02586) - (final_df['Direct HDL-Cholesterol [mmol/L]']/0.02586)\n",
    "final_df['Non_HDL Ratio']"
   ]
  },
  {
   "cell_type": "code",
   "execution_count": 6,
   "id": "fdf00da6",
   "metadata": {},
   "outputs": [
    {
     "data": {
      "text/plain": [
       "count    9254.000000\n",
       "mean      126.497004\n",
       "std        34.621954\n",
       "min        22.041763\n",
       "25%       105.955143\n",
       "50%       126.497004\n",
       "75%       138.051044\n",
       "max       408.352668\n",
       "Name: Non_HDL Ratio, dtype: float64"
      ]
     },
     "execution_count": 6,
     "metadata": {},
     "output_type": "execute_result"
    }
   ],
   "source": [
    "final_df['Non_HDL Ratio'].describe()"
   ]
  },
  {
   "cell_type": "markdown",
   "id": "62a8ab3c",
   "metadata": {},
   "source": [
    "### LDL-HDL ratio"
   ]
  },
  {
   "cell_type": "code",
   "execution_count": 7,
   "id": "cc33801e",
   "metadata": {},
   "outputs": [
    {
     "data": {
      "text/plain": [
       "0       2.042228\n",
       "1       2.042228\n",
       "2       1.819441\n",
       "3       2.311585\n",
       "4       1.602348\n",
       "          ...   \n",
       "9249    0.717419\n",
       "9250    2.220577\n",
       "9251    1.995000\n",
       "9252    3.204697\n",
       "9253    2.468182\n",
       "Name: LDL_HDL Ratio, Length: 9254, dtype: float64"
      ]
     },
     "execution_count": 7,
     "metadata": {},
     "output_type": "execute_result"
    }
   ],
   "source": [
    "# LDL-HDL ratio = LDL ÷ HDL\n",
    "# It is one of the measures to see a person’s risk of heart disease\n",
    "\n",
    "final_df['LDL_HDL Ratio'] = final_df['LDL-Cholesterol(NIH2) [mmol/L]']/final_df['Direct HDL-Cholesterol [mmol/L]']\n",
    "final_df['LDL_HDL Ratio']"
   ]
  },
  {
   "cell_type": "code",
   "execution_count": 8,
   "id": "8199a15e",
   "metadata": {},
   "outputs": [
    {
     "data": {
      "text/plain": [
       "count    9254.000000\n",
       "mean        2.152326\n",
       "std         0.673112\n",
       "min         0.205682\n",
       "25%         1.843224\n",
       "50%         2.042228\n",
       "75%         2.369860\n",
       "max        21.517857\n",
       "Name: LDL_HDL Ratio, dtype: float64"
      ]
     },
     "execution_count": 8,
     "metadata": {},
     "output_type": "execute_result"
    }
   ],
   "source": [
    "final_df['LDL_HDL Ratio'].describe()"
   ]
  },
  {
   "cell_type": "markdown",
   "id": "6ea9fa2c",
   "metadata": {},
   "source": [
    "### Total cholesterol HDL ratio"
   ]
  },
  {
   "cell_type": "code",
   "execution_count": 9,
   "id": "8550d18f",
   "metadata": {},
   "outputs": [
    {
     "data": {
      "text/plain": [
       "0       3.368882\n",
       "1       3.368882\n",
       "2       2.619355\n",
       "3       3.139344\n",
       "4       2.778409\n",
       "          ...   \n",
       "9249    1.987097\n",
       "9250    3.708661\n",
       "9251    3.178571\n",
       "9252    4.409091\n",
       "9253    4.795455\n",
       "Name: Total Cholestrol_HDL Ratio, Length: 9254, dtype: float64"
      ]
     },
     "execution_count": 9,
     "metadata": {},
     "output_type": "execute_result"
    }
   ],
   "source": [
    "# Total cholesterol HDL ratio = total cholesterol ÷ HDL\n",
    "# Higher ratios (>5) mean a higher risk of heart disease\n",
    "\n",
    "final_df['Total Cholestrol_HDL Ratio'] = final_df['Total Cholesterol [mmol/L]']/final_df['Direct HDL-Cholesterol [mmol/L]']\n",
    "final_df['Total Cholestrol_HDL Ratio']"
   ]
  },
  {
   "cell_type": "code",
   "execution_count": 10,
   "id": "6472cc72",
   "metadata": {},
   "outputs": [
    {
     "data": {
      "text/plain": [
       "count    9254.000000\n",
       "mean        3.529763\n",
       "std         1.107940\n",
       "min         1.268868\n",
       "25%         2.930739\n",
       "50%         3.368882\n",
       "75%         3.815534\n",
       "max        27.846154\n",
       "Name: Total Cholestrol_HDL Ratio, dtype: float64"
      ]
     },
     "execution_count": 10,
     "metadata": {},
     "output_type": "execute_result"
    }
   ],
   "source": [
    "final_df['Total Cholestrol_HDL Ratio'].describe()"
   ]
  },
  {
   "cell_type": "markdown",
   "id": "f2f76f6b",
   "metadata": {},
   "source": [
    "### Triglyceride HDL ratio "
   ]
  },
  {
   "cell_type": "code",
   "execution_count": 11,
   "id": "6592131a",
   "metadata": {},
   "outputs": [
    {
     "data": {
      "text/plain": [
       "0       0.883438\n",
       "1       0.883438\n",
       "2       0.787064\n",
       "3       0.999958\n",
       "4       0.693153\n",
       "          ...   \n",
       "9249    0.568387\n",
       "9250    0.960589\n",
       "9251    0.395000\n",
       "9252    1.386305\n",
       "9253    3.451136\n",
       "Name: Triglyceride_HDL Ratio, Length: 9254, dtype: float64"
      ]
     },
     "execution_count": 11,
     "metadata": {},
     "output_type": "execute_result"
    }
   ],
   "source": [
    "# Triglyceride HDL ratio = triglyceride level ÷ HDL\n",
    "# high ratio (>6) indicates an elevated risk of heart attack and stroke\n",
    "\n",
    "final_df['Triglyceride_HDL Ratio'] = final_df['Triglyceride [mmol/L]']/final_df['Direct HDL-Cholesterol [mmol/L]']\n",
    "final_df['Triglyceride_HDL Ratio']"
   ]
  },
  {
   "cell_type": "code",
   "execution_count": 12,
   "id": "592a8080",
   "metadata": {},
   "outputs": [
    {
     "data": {
      "text/plain": [
       "count    9254.000000\n",
       "mean        0.959921\n",
       "std         0.813919\n",
       "min         0.055941\n",
       "25%         0.752464\n",
       "50%         0.883438\n",
       "75%         1.016429\n",
       "max        40.402667\n",
       "Name: Triglyceride_HDL Ratio, dtype: float64"
      ]
     },
     "execution_count": 12,
     "metadata": {},
     "output_type": "execute_result"
    }
   ],
   "source": [
    "final_df['Triglyceride_HDL Ratio'].describe()"
   ]
  },
  {
   "cell_type": "markdown",
   "id": "1931be33",
   "metadata": {},
   "source": [
    "### Complete Blood Count Ratios"
   ]
  },
  {
   "cell_type": "markdown",
   "id": "59dcb03e",
   "metadata": {},
   "source": [
    "### Lymphocyte to Monocyte Ratio (LMR)"
   ]
  },
  {
   "cell_type": "code",
   "execution_count": 13,
   "id": "3211bae3",
   "metadata": {
    "scrolled": true
   },
   "outputs": [
    {
     "data": {
      "text/plain": [
       "0       4.166667\n",
       "1       5.833333\n",
       "2       5.666667\n",
       "3       2.500000\n",
       "4       6.000000\n",
       "          ...   \n",
       "9249    4.500000\n",
       "9250    3.833333\n",
       "9251    3.666667\n",
       "9252    4.750000\n",
       "9253    4.333333\n",
       "Name: Lymphocyte_Monocyte Ratio, Length: 9254, dtype: float64"
      ]
     },
     "execution_count": 13,
     "metadata": {},
     "output_type": "execute_result"
    }
   ],
   "source": [
    "# Recently, numerous studies focused on proportion of different types of leukocytes in various medical conditions\n",
    "# Neutrophil to lymphocyte ratio (NLR) and lymphocyte to monocyte ratio (LMR) seem most valuable parameters\n",
    "# These ratios are prognostic factors in several cancers\n",
    "\n",
    "# The LMR is calculated by dividing the absolute lymphocyte counts by the absolute monocyte counts\n",
    "# We convert lymphocyte and moncyte percentages to absolute counts and then divide them to get LMR\n",
    "\n",
    "L = ((final_df['White blood cell count [1000 cells/uL]']*final_df['Lymphocyte [%]'])/100).round(1)\n",
    "M = ((final_df['White blood cell count [1000 cells/uL]']*final_df['Monocyte [%]'])/100).round(1)\n",
    "final_df['Lymphocyte_Monocyte Ratio'] = L/M\n",
    "final_df['Lymphocyte_Monocyte Ratio']"
   ]
  },
  {
   "cell_type": "code",
   "execution_count": 14,
   "id": "9717ee8a",
   "metadata": {},
   "outputs": [
    {
     "data": {
      "text/plain": [
       "count    9254.000000\n",
       "mean        4.419185\n",
       "std         2.315810\n",
       "min         0.402985\n",
       "25%         3.400000\n",
       "50%         4.166667\n",
       "75%         5.000000\n",
       "max       128.142857\n",
       "Name: Lymphocyte_Monocyte Ratio, dtype: float64"
      ]
     },
     "execution_count": 14,
     "metadata": {},
     "output_type": "execute_result"
    }
   ],
   "source": [
    "final_df['Lymphocyte_Monocyte Ratio'].describe()"
   ]
  },
  {
   "cell_type": "markdown",
   "id": "ae75a030",
   "metadata": {},
   "source": [
    "### Neutrophil Lymphocyte Ratio (NLR)"
   ]
  },
  {
   "cell_type": "code",
   "execution_count": 15,
   "id": "4e576f07",
   "metadata": {},
   "outputs": [
    {
     "data": {
      "text/plain": [
       "0       1.600000\n",
       "1       0.914286\n",
       "2       1.235294\n",
       "3       2.466667\n",
       "4       1.452381\n",
       "          ...   \n",
       "9249    1.611111\n",
       "9250    2.173913\n",
       "9251    0.909091\n",
       "9252    1.736842\n",
       "9253    2.038462\n",
       "Name: Neutrophil_Lymphocyte Ratio, Length: 9254, dtype: float64"
      ]
     },
     "execution_count": 15,
     "metadata": {},
     "output_type": "execute_result"
    }
   ],
   "source": [
    "# Neutrophil Lymphocyte Ratio (NLR)\n",
    "# NLR = Absolute Neutrophil Count (ANC) / Absolute Lymphocyte Count (ALC)\n",
    "\n",
    "ANC = ((final_df['White blood cell count [1000 cells/uL]']*final_df['Segmented neutrophils [%]'])/100).round(1)\n",
    "ALC = ((final_df['White blood cell count [1000 cells/uL]']*final_df['Lymphocyte [%]'])/100).round(1)\n",
    "final_df['Neutrophil_Lymphocyte Ratio'] = ANC/ALC\n",
    "final_df['Neutrophil_Lymphocyte Ratio']"
   ]
  },
  {
   "cell_type": "code",
   "execution_count": 16,
   "id": "5e51a2f5",
   "metadata": {},
   "outputs": [
    {
     "data": {
      "text/plain": [
       "count    9254.000000\n",
       "mean        1.830781\n",
       "std         1.046856\n",
       "min         0.093333\n",
       "25%         1.294118\n",
       "50%         1.600000\n",
       "75%         2.130435\n",
       "max        21.500000\n",
       "Name: Neutrophil_Lymphocyte Ratio, dtype: float64"
      ]
     },
     "execution_count": 16,
     "metadata": {},
     "output_type": "execute_result"
    }
   ],
   "source": [
    "final_df['Neutrophil_Lymphocyte Ratio'].describe()"
   ]
  },
  {
   "cell_type": "markdown",
   "id": "85249c65",
   "metadata": {},
   "source": [
    "### Platelet to Lymphocyte Ratio"
   ]
  },
  {
   "cell_type": "code",
   "execution_count": 17,
   "id": "cc2613d2",
   "metadata": {},
   "outputs": [
    {
     "data": {
      "text/plain": [
       "0       103.700053\n",
       "1        68.285714\n",
       "2        90.882353\n",
       "3       155.333333\n",
       "4        82.857143\n",
       "           ...    \n",
       "9249     89.444444\n",
       "9250     98.695652\n",
       "9251     65.909091\n",
       "9252    100.526316\n",
       "9253     61.153846\n",
       "Name: Platelet_Lymphocyte Ratio, Length: 9254, dtype: float64"
      ]
     },
     "execution_count": 17,
     "metadata": {},
     "output_type": "execute_result"
    }
   ],
   "source": [
    "# Platelet to Lymphocyte Ratio also acts as a prognostic factor in some cancers and cardiac diseases\n",
    "# PLR is calculated by dividing platelet count by lymphocyte count. \n",
    "\n",
    "final_df['Platelet_Lymphocyte Ratio'] = final_df['Platelet count [1000 cells/uL]']/ALC\n",
    "final_df['Platelet_Lymphocyte Ratio']"
   ]
  },
  {
   "cell_type": "code",
   "execution_count": 18,
   "id": "05ab95aa",
   "metadata": {},
   "outputs": [
    {
     "data": {
      "text/plain": [
       "count    9254.000000\n",
       "mean      115.053611\n",
       "std        42.080563\n",
       "min         0.668896\n",
       "25%        92.560055\n",
       "50%       103.700053\n",
       "75%       130.470779\n",
       "max       775.000000\n",
       "Name: Platelet_Lymphocyte Ratio, dtype: float64"
      ]
     },
     "execution_count": 18,
     "metadata": {},
     "output_type": "execute_result"
    }
   ],
   "source": [
    "final_df['Platelet_Lymphocyte Ratio'].describe()"
   ]
  },
  {
   "cell_type": "markdown",
   "id": "10aa4568",
   "metadata": {},
   "source": [
    "### Platelet-to-White Blood Cell Ratio"
   ]
  },
  {
   "cell_type": "code",
   "execution_count": 19,
   "id": "b73f001b",
   "metadata": {},
   "outputs": [
    {
     "data": {
      "text/plain": [
       "0       35.113980\n",
       "1       32.297297\n",
       "2       35.930233\n",
       "3       38.196721\n",
       "4       31.071429\n",
       "          ...    \n",
       "9249    31.568627\n",
       "9250    27.349398\n",
       "9251    28.431373\n",
       "9252    33.508772\n",
       "9253    17.666667\n",
       "Name: Platelet_WBC Ratio, Length: 9254, dtype: float64"
      ]
     },
     "execution_count": 19,
     "metadata": {},
     "output_type": "execute_result"
    }
   ],
   "source": [
    "# Platelet and white blood cells counts can be converted into Platelet-to-White Blood Cell Ratio (PWR)\n",
    "# White blood cells and platelets play an important role in the pathogenesis of ischemic stroke.\n",
    "# Calculated by dividing the platelet count by the white blood cell count\n",
    "# Lower PWR is also a promising prognostic marker for HBV (Hepatitis B)\n",
    "\n",
    "final_df['Platelet_WBC Ratio'] = final_df['Platelet count [1000 cells/uL]']/final_df['White blood cell count [1000 cells/uL]']\n",
    "final_df['Platelet_WBC Ratio']"
   ]
  },
  {
   "cell_type": "code",
   "execution_count": 20,
   "id": "a6d4a4a1",
   "metadata": {
    "scrolled": true
   },
   "outputs": [
    {
     "data": {
      "text/plain": [
       "count    9254.000000\n",
       "mean       37.140535\n",
       "std        11.574571\n",
       "min         0.600000\n",
       "25%        30.438027\n",
       "50%        35.113980\n",
       "75%        41.536199\n",
       "max       120.232558\n",
       "Name: Platelet_WBC Ratio, dtype: float64"
      ]
     },
     "execution_count": 20,
     "metadata": {},
     "output_type": "execute_result"
    }
   ],
   "source": [
    "final_df['Platelet_WBC Ratio'].describe()"
   ]
  },
  {
   "cell_type": "markdown",
   "id": "5489e62e",
   "metadata": {},
   "source": [
    "### Lymphocyte to C-Reactive Protein Ratio"
   ]
  },
  {
   "cell_type": "code",
   "execution_count": 21,
   "id": "7b5990a7",
   "metadata": {},
   "outputs": [
    {
     "data": {
      "text/plain": [
       "0         7.268033\n",
       "1       120.689655\n",
       "2        12.500000\n",
       "3        20.270270\n",
       "4       131.250000\n",
       "           ...    \n",
       "9249     40.000000\n",
       "9250     12.500000\n",
       "9251     27.160494\n",
       "9252      7.436399\n",
       "9253      7.027027\n",
       "Name: Lymphocyte_C-Reactive Protein Ratio, Length: 9254, dtype: float64"
      ]
     },
     "execution_count": 21,
     "metadata": {},
     "output_type": "execute_result"
    }
   ],
   "source": [
    "# Lymphocyte to C-Reactive Protein Ratio (LCR)\n",
    "# LCR is a useful prognostic biomarker for some cancers like breast, gastric and bladder cancers\n",
    "# It is calculated as: lymphocyte count (number/µL)/CRP level (mg/dL)\n",
    "\n",
    "final_df['Lymphocyte_C-Reactive Protein Ratio'] = ALC/(final_df['C-Reactive Protein [mg/L]']/10)\n",
    "final_df['Lymphocyte_C-Reactive Protein Ratio']"
   ]
  },
  {
   "cell_type": "code",
   "execution_count": 22,
   "id": "8e64e4d3",
   "metadata": {
    "scrolled": true
   },
   "outputs": [
    {
     "data": {
      "text/plain": [
       "count    9254.000000\n",
       "mean       27.177974\n",
       "std        44.434658\n",
       "min         0.076578\n",
       "25%         7.268033\n",
       "50%         9.884525\n",
       "75%        30.144541\n",
       "max      1318.000000\n",
       "Name: Lymphocyte_C-Reactive Protein Ratio, dtype: float64"
      ]
     },
     "execution_count": 22,
     "metadata": {},
     "output_type": "execute_result"
    }
   ],
   "source": [
    "final_df['Lymphocyte_C-Reactive Protein Ratio'].describe()"
   ]
  },
  {
   "cell_type": "markdown",
   "id": "d78b2ee9",
   "metadata": {},
   "source": [
    "### Systemic Immune‐inflammation Index (SII) "
   ]
  },
  {
   "cell_type": "code",
   "execution_count": 23,
   "id": "f7256f5f",
   "metadata": {},
   "outputs": [
    {
     "data": {
      "text/plain": [
       "0       414.800213\n",
       "1       218.514286\n",
       "2       381.705882\n",
       "3       574.733333\n",
       "4       505.428571\n",
       "           ...    \n",
       "9249    259.388889\n",
       "9250    493.478261\n",
       "9251    131.818182\n",
       "9252    663.473684\n",
       "9253    324.115385\n",
       "Name: Systemic Immune‐inflammation Index (SII), Length: 9254, dtype: float64"
      ]
     },
     "execution_count": 23,
     "metadata": {},
     "output_type": "execute_result"
    }
   ],
   "source": [
    "# The Systemic Immune‐inflammation Index (SII) \n",
    "# It is correlated with patient survival in various types of solid tumors and cancers\n",
    "# SII = platelet count × neutrophil count/lymphocyte count\n",
    "\n",
    "PLT = final_df['Platelet count [1000 cells/uL]']\n",
    "N_R = final_df['Neutrophil_Lymphocyte Ratio']\n",
    "\n",
    "final_df['Systemic Immune‐inflammation Index (SII)'] = PLT*N_R\n",
    "final_df['Systemic Immune‐inflammation Index (SII)']"
   ]
  },
  {
   "cell_type": "code",
   "execution_count": 24,
   "id": "64c476cb",
   "metadata": {},
   "outputs": [
    {
     "data": {
      "text/plain": [
       "count    9254.000000\n",
       "mean      467.318185\n",
       "std       288.344117\n",
       "min        10.733333\n",
       "25%       312.000000\n",
       "50%       414.800213\n",
       "75%       536.144796\n",
       "max      4887.750000\n",
       "Name: Systemic Immune‐inflammation Index (SII), dtype: float64"
      ]
     },
     "execution_count": 24,
     "metadata": {},
     "output_type": "execute_result"
    }
   ],
   "source": [
    "final_df['Systemic Immune‐inflammation Index (SII)'].describe()"
   ]
  },
  {
   "cell_type": "code",
   "execution_count": 25,
   "id": "eb4c0d0c",
   "metadata": {},
   "outputs": [
    {
     "data": {
      "text/plain": [
       "(9254, 108)"
      ]
     },
     "execution_count": 25,
     "metadata": {},
     "output_type": "execute_result"
    }
   ],
   "source": [
    "final_df.shape"
   ]
  },
  {
   "cell_type": "code",
   "execution_count": 26,
   "id": "e3d7a4f5",
   "metadata": {},
   "outputs": [],
   "source": [
    "# Now that we have done some feature engineering and have a newer dataset we can save it\n",
    "final_df.to_csv('../Dataset/final_df.csv', index=False)"
   ]
  }
 ],
 "metadata": {
  "kernelspec": {
   "display_name": "Python 3 (ipykernel)",
   "language": "python",
   "name": "python3"
  },
  "language_info": {
   "codemirror_mode": {
    "name": "ipython",
    "version": 3
   },
   "file_extension": ".py",
   "mimetype": "text/x-python",
   "name": "python",
   "nbconvert_exporter": "python",
   "pygments_lexer": "ipython3",
   "version": "3.10.12"
  }
 },
 "nbformat": 4,
 "nbformat_minor": 5
}
